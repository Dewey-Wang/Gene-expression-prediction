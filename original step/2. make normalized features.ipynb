{
 "cells": [
  {
   "cell_type": "markdown",
   "metadata": {},
   "source": [
    "# Merged train+val and merged info and y"
   ]
  },
  {
   "cell_type": "code",
   "execution_count": null,
   "metadata": {},
   "outputs": [],
   "source": [
    "import pandas as pd\n",
    "import os\n",
    "import re\n",
    "\n",
    "# === 自然排序函式 ===\n",
    "def chr_sort_key(chr_name):\n",
    "    m = re.match(r\"chr(\\d+)\", chr_name)\n",
    "    if m:\n",
    "        return int(m.group(1))\n",
    "    elif chr_name == \"chrX\":\n",
    "        return 23\n",
    "    elif chr_name == \"chrY\":\n",
    "        return 24\n",
    "    else:\n",
    "        return 100  # 其他 contigs (random, Un, etc.)\n",
    "\n",
    "# === 路徑設定 ===\n",
    "base = r\"C:\\Users\\wani\\Desktop\\Courses\\ML for genomics\\ML4G_Project_1_Data\\CAGE-train\\CAGE-train\"\n",
    "out_folder = r\"C:\\Users\\wani\\Desktop\\Courses\\ML for genomics\\preprocessed_data\\CAGE-merged\"\n",
    "os.makedirs(out_folder, exist_ok=True)\n",
    "\n",
    "# === 處理 X1, X2 ===\n",
    "for cell in [\"X1\", \"X2\"]:\n",
    "    print(f\"\\n🔹 Processing {cell} ...\")\n",
    "\n",
    "    # 讀取 info\n",
    "    info_train = pd.read_csv(os.path.join(base, f\"{cell}_train_info.tsv\"), sep=\"\\t\")\n",
    "    info_val = pd.read_csv(os.path.join(base, f\"{cell}_val_info.tsv\"), sep=\"\\t\")\n",
    "    info_merged = pd.concat([info_train, info_val], ignore_index=True)\n",
    "\n",
    "    # 讀取 y\n",
    "    y_train = pd.read_csv(os.path.join(base, f\"{cell}_train_y.tsv\"), sep=\"\\t\")\n",
    "    y_val = pd.read_csv(os.path.join(base, f\"{cell}_val_y.tsv\"), sep=\"\\t\")\n",
    "    y_merged = pd.concat([y_train, y_val], ignore_index=True)\n",
    "\n",
    "    if y_merged.shape[1] == 2:\n",
    "        y_merged.columns = [\"gene_name\", \"gex\"]\n",
    "    else:\n",
    "        y_merged.columns = [\"gex\"]\n",
    "        y_merged.insert(0, \"gene_name\", info_merged[\"gene_name\"])\n",
    "\n",
    "    merged = pd.merge(info_merged, y_merged, on=\"gene_name\", how=\"inner\")\n",
    "\n",
    "    # 儲存結果\n",
    "    merged_path = os.path.join(out_folder, f\"{cell}_merged.tsv\")\n",
    "    merged.to_csv(merged_path, sep=\"\\t\", index=False)\n",
    "    print(f\"✅ Saved merged file: {merged_path} ({len(merged)} genes)\")\n",
    "\n",
    "    # 印出排序後的 chr 名稱\n",
    "    if \"chr\" in merged.columns:\n",
    "        unique_chrs = sorted(merged[\"chr\"].unique(), key=chr_sort_key)\n",
    "        print(f\"🧬 {cell} unique chromosomes ({len(unique_chrs)}):\")\n",
    "        print(\", \".join(unique_chrs))\n",
    "    else:\n",
    "        print(f\"⚠️ Column 'chr' not found in merged file for {cell}!\")\n",
    "\n",
    "print(\"\\n🎯 All cell lines merged successfully!\")\n"
   ]
  }
 ],
 "metadata": {
  "kernelspec": {
   "display_name": "ml4g_project1",
   "language": "python",
   "name": "python3"
  },
  "language_info": {
   "codemirror_mode": {
    "name": "ipython",
    "version": 3
   },
   "file_extension": ".py",
   "mimetype": "text/x-python",
   "name": "python",
   "nbconvert_exporter": "python",
   "pygments_lexer": "ipython3",
   "version": "3.12.11"
  }
 },
 "nbformat": 4,
 "nbformat_minor": 2
}
