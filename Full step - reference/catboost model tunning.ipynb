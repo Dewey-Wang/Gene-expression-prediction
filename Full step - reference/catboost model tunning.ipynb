{
 "cells": [
  {
   "cell_type": "code",
   "execution_count": null,
   "metadata": {},
   "outputs": [
    {
     "name": "stderr",
     "output_type": "stream",
     "text": [
      "[I 2025-10-23 01:53:31,126] A new study created in memory with name: no-name-1eba3d9a-944c-44c3-a5c7-7932257a4125\n"
     ]
    },
    {
     "name": "stdout",
     "output_type": "stream",
     "text": [
      "🧬 chromosomes: ['chr10', 'chr11', 'chr12', 'chr13', 'chr14', 'chr15', 'chr16', 'chr17', 'chr18', 'chr19', 'chr2', 'chr20', 'chr21', 'chr22', 'chr3', 'chr4', 'chr5', 'chr6', 'chr7', 'chr8', 'chr9']\n",
      "Feature count: 2892 | Total rows: 32,568\n",
      "\n",
      "===== 🔎 Start study: catboost_bin_X1_to_X2 | trials=300 =====\n"
     ]
    },
    {
     "name": "stderr",
     "output_type": "stream",
     "text": [
      "Best trial: 0. Best value: 0.907955:   0%|          | 1/300 [00:37<3:07:28, 37.62s/it]"
     ]
    },
    {
     "name": "stdout",
     "output_type": "stream",
     "text": [
      "[I 2025-10-23 01:54:08,742] Trial 0 finished with value: 0.9079549137525209 and parameters: {'bootstrap_type': 'Bernoulli', 'learning_rate': 0.060099747183803134, 'depth': 5, 'l2_leaf_reg': 2.403950683025824, 'random_strength': 0.11616722433639892, 'rsm': 0.9330880728874675, 'grow_policy': 'Depthwise', 'min_data_in_leaf': 63, 'leaf_estimation_iterations': 9, 'border_count': 155, 'subsample': 0.5909124836035503}. Best is trial 0 with value: 0.9079549137525209.\n"
     ]
    },
    {
     "name": "stderr",
     "output_type": "stream",
     "text": [
      "Best trial: 1. Best value: 0.909475:   1%|          | 2/300 [01:23<3:32:20, 42.75s/it]"
     ]
    },
    {
     "name": "stdout",
     "output_type": "stream",
     "text": [
      "[I 2025-10-23 01:54:55,084] Trial 1 finished with value: 0.9094749740935364 and parameters: {'bootstrap_type': 'MVS', 'learning_rate': 0.03647316284911211, 'depth': 6, 'l2_leaf_reg': 6.506676052501415, 'random_strength': 0.27898772130408367, 'rsm': 0.6460723242676091, 'grow_policy': 'Lossguide', 'min_data_in_leaf': 13, 'leaf_estimation_iterations': 6, 'border_count': 203}. Best is trial 1 with value: 0.9094749740935364.\n"
     ]
    },
    {
     "name": "stderr",
     "output_type": "stream",
     "text": [
      "Best trial: 2. Best value: 0.910081:   1%|          | 3/300 [12:32<27:06:36, 328.61s/it]"
     ]
    },
    {
     "name": "stdout",
     "output_type": "stream",
     "text": [
      "[I 2025-10-23 02:06:03,846] Trial 2 finished with value: 0.9100813848637143 and parameters: {'bootstrap_type': 'Bernoulli', 'learning_rate': 0.012151617026673379, 'depth': 10, 'l2_leaf_reg': 9.690688297671034, 'random_strength': 1.6167946962329223, 'rsm': 0.6523068845866853, 'grow_policy': 'Depthwise', 'min_data_in_leaf': 8, 'leaf_estimation_iterations': 5, 'border_count': 132, 'subsample': 0.954660201039391}. Best is trial 2 with value: 0.9100813848637143.\n"
     ]
    },
    {
     "name": "stderr",
     "output_type": "stream",
     "text": [
      "Best trial: 2. Best value: 0.910081:   1%|▏         | 4/300 [14:52<20:53:34, 254.10s/it]"
     ]
    },
    {
     "name": "stdout",
     "output_type": "stream",
     "text": [
      "[I 2025-10-23 02:08:23,749] Trial 3 finished with value: 0.9098807589056295 and parameters: {'bootstrap_type': 'Bernoulli', 'learning_rate': 0.04749239763680407, 'depth': 7, 'l2_leaf_reg': 2.6636900997297435, 'random_strength': 1.9391692555291171, 'rsm': 0.8875664116805573, 'grow_policy': 'SymmetricTree', 'min_data_in_leaf': 59, 'leaf_estimation_iterations': 1, 'border_count': 153, 'subsample': 0.522613644455269}. Best is trial 2 with value: 0.9100813848637143.\n"
     ]
    },
    {
     "name": "stderr",
     "output_type": "stream",
     "text": [
      "Best trial: 2. Best value: 0.910081:   2%|▏         | 5/300 [15:29<14:24:31, 175.84s/it]"
     ]
    },
    {
     "name": "stdout",
     "output_type": "stream",
     "text": [
      "[I 2025-10-23 02:09:00,810] Trial 4 finished with value: 0.9081212409403132 and parameters: {'bootstrap_type': 'Bernoulli', 'learning_rate': 0.11973258472758717, 'depth': 6, 'l2_leaf_reg': 3.5284105871864266, 'random_strength': 1.085392166316497, 'rsm': 0.5704621124873813, 'grow_policy': 'Lossguide', 'min_data_in_leaf': 50, 'leaf_estimation_iterations': 2, 'border_count': 128, 'subsample': 0.9077307142274171}. Best is trial 2 with value: 0.9100813848637143.\n"
     ]
    },
    {
     "name": "stderr",
     "output_type": "stream",
     "text": [
      "Best trial: 5. Best value: 0.911637:   2%|▏         | 6/300 [17:33<12:54:46, 158.12s/it]"
     ]
    },
    {
     "name": "stdout",
     "output_type": "stream",
     "text": [
      "[I 2025-10-23 02:11:04,528] Trial 5 finished with value: 0.9116366191807066 and parameters: {'bootstrap_type': 'MVS', 'learning_rate': 0.012483440997339655, 'depth': 6, 'l2_leaf_reg': 2.0428215357261674, 'random_strength': 1.726206851751187, 'rsm': 0.811649063413779, 'grow_policy': 'SymmetricTree', 'min_data_in_leaf': 21, 'leaf_estimation_iterations': 8, 'border_count': 209}. Best is trial 5 with value: 0.9116366191807066.\n"
     ]
    },
    {
     "name": "stderr",
     "output_type": "stream",
     "text": [
      "Best trial: 5. Best value: 0.911637:   2%|▏         | 7/300 [25:18<21:01:33, 258.34s/it]"
     ]
    },
    {
     "name": "stdout",
     "output_type": "stream",
     "text": [
      "[I 2025-10-23 02:18:49,207] Trial 6 finished with value: 0.9081893871634477 and parameters: {'bootstrap_type': 'Bayesian', 'learning_rate': 0.08471354625326555, 'depth': 9, 'l2_leaf_reg': 6.051494778125466, 'random_strength': 1.541934359909122, 'rsm': 0.7468977981821954, 'grow_policy': 'SymmetricTree', 'min_data_in_leaf': 7, 'leaf_estimation_iterations': 1, 'border_count': 209, 'bagging_temperature': 3.143559810763267}. Best is trial 5 with value: 0.9116366191807066.\n"
     ]
    },
    {
     "name": "stderr",
     "output_type": "stream",
     "text": [
      "Best trial: 5. Best value: 0.911637:   3%|▎         | 8/300 [26:50<16:39:38, 205.40s/it]"
     ]
    },
    {
     "name": "stdout",
     "output_type": "stream",
     "text": [
      "[I 2025-10-23 02:20:21,267] Trial 7 finished with value: 0.9076453294077544 and parameters: {'bootstrap_type': 'Bernoulli', 'learning_rate': 0.03419168411765895, 'depth': 9, 'l2_leaf_reg': 3.059183489424602, 'random_strength': 0.15395981965758598, 'rsm': 0.6448757264568841, 'grow_policy': 'Depthwise', 'min_data_in_leaf': 41, 'leaf_estimation_iterations': 9, 'border_count': 230, 'subsample': 0.5932850294430179}. Best is trial 5 with value: 0.9116366191807066.\n"
     ]
    },
    {
     "name": "stderr",
     "output_type": "stream",
     "text": [
      "Best trial: 5. Best value: 0.911637:   3%|▎         | 9/300 [27:34<12:32:00, 155.05s/it]"
     ]
    },
    {
     "name": "stdout",
     "output_type": "stream",
     "text": [
      "[I 2025-10-23 02:21:05,611] Trial 8 finished with value: 0.9048741305946593 and parameters: {'bootstrap_type': 'Bayesian', 'learning_rate': 0.146501361250436, 'depth': 6, 'l2_leaf_reg': 1.9904673207490908, 'random_strength': 0.45587032508388337, 'rsm': 0.7135538943131281, 'grow_policy': 'Depthwise', 'min_data_in_leaf': 33, 'leaf_estimation_iterations': 5, 'border_count': 156, 'bagging_temperature': 1.198653673336828}. Best is trial 5 with value: 0.9116366191807066.\n"
     ]
    },
    {
     "name": "stderr",
     "output_type": "stream",
     "text": [
      "Best trial: 5. Best value: 0.911637:   3%|▎         | 10/300 [29:54<12:06:48, 150.37s/it]"
     ]
    },
    {
     "name": "stdout",
     "output_type": "stream",
     "text": [
      "[I 2025-10-23 02:23:25,508] Trial 9 finished with value: 0.9111912430488828 and parameters: {'bootstrap_type': 'Bernoulli', 'learning_rate': 0.047311003556264795, 'depth': 8, 'l2_leaf_reg': 4.272666421413646, 'random_strength': 1.9435641654419213, 'rsm': 0.9812236474710556, 'grow_policy': 'Depthwise', 'min_data_in_leaf': 19, 'leaf_estimation_iterations': 1, 'border_count': 206, 'subsample': 0.7513395116144308}. Best is trial 5 with value: 0.9116366191807066.\n"
     ]
    },
    {
     "name": "stderr",
     "output_type": "stream",
     "text": [
      "Best trial: 5. Best value: 0.911637:   4%|▎         | 11/300 [31:53<11:17:33, 140.67s/it]"
     ]
    },
    {
     "name": "stdout",
     "output_type": "stream",
     "text": [
      "[I 2025-10-23 02:25:24,158] Trial 10 finished with value: 0.9100601476746564 and parameters: {'bootstrap_type': 'MVS', 'learning_rate': 0.010181283131439643, 'depth': 4, 'l2_leaf_reg': 1.1616568805333767, 'random_strength': 0.8792709002270531, 'rsm': 0.8439098451976448, 'grow_policy': 'SymmetricTree', 'min_data_in_leaf': 23, 'leaf_estimation_iterations': 7, 'border_count': 255}. Best is trial 5 with value: 0.9116366191807066.\n"
     ]
    },
    {
     "name": "stderr",
     "output_type": "stream",
     "text": [
      "Best trial: 5. Best value: 0.911637:   4%|▍         | 12/300 [38:36<17:38:54, 220.61s/it]"
     ]
    },
    {
     "name": "stdout",
     "output_type": "stream",
     "text": [
      "[I 2025-10-23 02:32:07,597] Trial 11 finished with value: 0.9116325558545445 and parameters: {'bootstrap_type': 'MVS', 'learning_rate': 0.020296285028304405, 'depth': 8, 'l2_leaf_reg': 4.454960111567906, 'random_strength': 1.987517386630662, 'rsm': 0.9784218284107224, 'grow_policy': 'SymmetricTree', 'min_data_in_leaf': 22, 'leaf_estimation_iterations': 3, 'border_count': 188}. Best is trial 5 with value: 0.9116366191807066.\n"
     ]
    },
    {
     "name": "stderr",
     "output_type": "stream",
     "text": [
      "Best trial: 5. Best value: 0.911637:   4%|▍         | 13/300 [43:31<19:22:43, 243.08s/it]"
     ]
    },
    {
     "name": "stdout",
     "output_type": "stream",
     "text": [
      "[I 2025-10-23 02:37:02,394] Trial 12 finished with value: 0.9107149282048327 and parameters: {'bootstrap_type': 'MVS', 'learning_rate': 0.019147602134535167, 'depth': 8, 'l2_leaf_reg': 4.90887486721313, 'random_strength': 1.543848024760142, 'rsm': 0.8354457441900128, 'grow_policy': 'SymmetricTree', 'min_data_in_leaf': 30, 'leaf_estimation_iterations': 3, 'border_count': 185}. Best is trial 5 with value: 0.9116366191807066.\n"
     ]
    },
    {
     "name": "stderr",
     "output_type": "stream",
     "text": [
      "Best trial: 5. Best value: 0.911637:   5%|▍         | 14/300 [45:29<16:18:59, 205.38s/it]"
     ]
    },
    {
     "name": "stdout",
     "output_type": "stream",
     "text": [
      "[I 2025-10-23 02:39:00,673] Trial 13 finished with value: 0.9109172508749509 and parameters: {'bootstrap_type': 'MVS', 'learning_rate': 0.019162190112324215, 'depth': 7, 'l2_leaf_reg': 6.970657857507842, 'random_strength': 1.2401242549848313, 'rsm': 0.9992351962861513, 'grow_policy': 'SymmetricTree', 'min_data_in_leaf': 27, 'leaf_estimation_iterations': 10, 'border_count': 181}. Best is trial 5 with value: 0.9116366191807066.\n"
     ]
    },
    {
     "name": "stderr",
     "output_type": "stream",
     "text": [
      "Best trial: 5. Best value: 0.911637:   5%|▌         | 15/300 [46:09<12:18:45, 155.53s/it]"
     ]
    },
    {
     "name": "stdout",
     "output_type": "stream",
     "text": [
      "[I 2025-10-23 02:39:40,652] Trial 14 finished with value: 0.9090106088145751 and parameters: {'bootstrap_type': 'MVS', 'learning_rate': 0.021610993148157315, 'depth': 4, 'l2_leaf_reg': 8.109691196781995, 'random_strength': 1.8292353295376786, 'rsm': 0.8122720943379185, 'grow_policy': 'SymmetricTree', 'min_data_in_leaf': 1, 'leaf_estimation_iterations': 4, 'border_count': 227}. Best is trial 5 with value: 0.9116366191807066.\n"
     ]
    },
    {
     "name": "stderr",
     "output_type": "stream",
     "text": [
      "Best trial: 5. Best value: 0.911637:   5%|▌         | 16/300 [49:13<12:57:01, 164.16s/it]"
     ]
    },
    {
     "name": "stdout",
     "output_type": "stream",
     "text": [
      "[I 2025-10-23 02:42:44,872] Trial 15 finished with value: 0.9106217607935436 and parameters: {'bootstrap_type': 'MVS', 'learning_rate': 0.015535655667906932, 'depth': 8, 'l2_leaf_reg': 4.149688234551233, 'random_strength': 1.3149368150386238, 'rsm': 0.510456783241702, 'grow_policy': 'SymmetricTree', 'min_data_in_leaf': 41, 'leaf_estimation_iterations': 7, 'border_count': 171}. Best is trial 5 with value: 0.9116366191807066.\n"
     ]
    },
    {
     "name": "stderr",
     "output_type": "stream",
     "text": [
      "Best trial: 5. Best value: 0.911637:   6%|▌         | 17/300 [50:25<10:42:51, 136.30s/it]"
     ]
    },
    {
     "name": "stdout",
     "output_type": "stream",
     "text": [
      "[I 2025-10-23 02:43:56,357] Trial 16 finished with value: 0.9099407753453035 and parameters: {'bootstrap_type': 'MVS', 'learning_rate': 0.027820627318372957, 'depth': 5, 'l2_leaf_reg': 1.0664961534719344, 'random_strength': 0.687183071775223, 'rsm': 0.9105664711516857, 'grow_policy': 'Lossguide', 'min_data_in_leaf': 18, 'leaf_estimation_iterations': 8, 'border_count': 225}. Best is trial 5 with value: 0.9116366191807066.\n"
     ]
    },
    {
     "name": "stderr",
     "output_type": "stream",
     "text": [
      "Best trial: 5. Best value: 0.911637:   6%|▌         | 18/300 [1:05:16<28:27:25, 363.28s/it]"
     ]
    },
    {
     "name": "stdout",
     "output_type": "stream",
     "text": [
      "[I 2025-10-23 02:58:48,059] Trial 17 finished with value: 0.9066580087569766 and parameters: {'bootstrap_type': 'Bayesian', 'learning_rate': 0.013074180359179401, 'depth': 10, 'l2_leaf_reg': 5.2661621209623455, 'random_strength': 1.6934976232519656, 'rsm': 0.7864874594410948, 'grow_policy': 'SymmetricTree', 'min_data_in_leaf': 36, 'leaf_estimation_iterations': 3, 'border_count': 196, 'bagging_temperature': 9.5494279529195}. Best is trial 5 with value: 0.9116366191807066.\n"
     ]
    },
    {
     "name": "stderr",
     "output_type": "stream",
     "text": [
      "Best trial: 5. Best value: 0.911637:   6%|▋         | 19/300 [1:06:57<22:11:31, 284.31s/it]"
     ]
    },
    {
     "name": "stdout",
     "output_type": "stream",
     "text": [
      "[I 2025-10-23 03:00:28,401] Trial 18 finished with value: 0.9107695063749158 and parameters: {'bootstrap_type': 'MVS', 'learning_rate': 0.026245319901291184, 'depth': 7, 'l2_leaf_reg': 7.846496480653244, 'random_strength': 1.4347378647265268, 'rsm': 0.9318662795373196, 'grow_policy': 'SymmetricTree', 'min_data_in_leaf': 23, 'leaf_estimation_iterations': 6, 'border_count': 250}. Best is trial 5 with value: 0.9116366191807066.\n"
     ]
    },
    {
     "name": "stderr",
     "output_type": "stream",
     "text": [
      "Best trial: 5. Best value: 0.911637:   7%|▋         | 20/300 [1:19:32<33:05:55, 425.56s/it]"
     ]
    },
    {
     "name": "stdout",
     "output_type": "stream",
     "text": [
      "[I 2025-10-23 03:13:03,145] Trial 19 finished with value: 0.9086105257042024 and parameters: {'bootstrap_type': 'MVS', 'learning_rate': 0.015542786302678527, 'depth': 9, 'l2_leaf_reg': 3.8636541264975923, 'random_strength': 1.7420069384465544, 'rsm': 0.872817213098703, 'grow_policy': 'SymmetricTree', 'min_data_in_leaf': 14, 'leaf_estimation_iterations': 4, 'border_count': 217}. Best is trial 5 with value: 0.9116366191807066.\n"
     ]
    },
    {
     "name": "stderr",
     "output_type": "stream",
     "text": [
      "Best trial: 5. Best value: 0.911637:   7%|▋         | 21/300 [1:21:04<25:14:07, 325.62s/it]"
     ]
    },
    {
     "name": "stdout",
     "output_type": "stream",
     "text": [
      "[I 2025-10-23 03:14:35,770] Trial 20 finished with value: 0.9091369457564439 and parameters: {'bootstrap_type': 'MVS', 'learning_rate': 0.010611278849830078, 'depth': 5, 'l2_leaf_reg': 1.700701662752326, 'random_strength': 1.9659415323176073, 'rsm': 0.7096240029905639, 'grow_policy': 'Lossguide', 'min_data_in_leaf': 48, 'leaf_estimation_iterations': 8, 'border_count': 171}. Best is trial 5 with value: 0.9116366191807066.\n"
     ]
    },
    {
     "name": "stderr",
     "output_type": "stream",
     "text": [
      "Best trial: 5. Best value: 0.911637:   7%|▋         | 22/300 [1:22:39<19:47:16, 256.25s/it]"
     ]
    },
    {
     "name": "stdout",
     "output_type": "stream",
     "text": [
      "[I 2025-10-23 03:16:10,242] Trial 21 finished with value: 0.9075678207992023 and parameters: {'bootstrap_type': 'Bernoulli', 'learning_rate': 0.06300319063516575, 'depth': 8, 'l2_leaf_reg': 4.554642946990024, 'random_strength': 1.9949396569619462, 'rsm': 0.9851899024509025, 'grow_policy': 'Depthwise', 'min_data_in_leaf': 21, 'leaf_estimation_iterations': 2, 'border_count': 209, 'subsample': 0.7530925137460197}. Best is trial 5 with value: 0.9116366191807066.\n"
     ]
    },
    {
     "name": "stderr",
     "output_type": "stream",
     "text": [
      "Best trial: 5. Best value: 0.911637:   8%|▊         | 23/300 [1:24:34<16:27:13, 213.84s/it]"
     ]
    },
    {
     "name": "stdout",
     "output_type": "stream",
     "text": [
      "[I 2025-10-23 03:18:05,160] Trial 22 finished with value: 0.9078929013122983 and parameters: {'bootstrap_type': 'Bernoulli', 'learning_rate': 0.04701769146358298, 'depth': 8, 'l2_leaf_reg': 3.3659194848162186, 'random_strength': 1.736765564911414, 'rsm': 0.9543408302961589, 'grow_policy': 'Depthwise', 'min_data_in_leaf': 17, 'leaf_estimation_iterations': 2, 'border_count': 193, 'subsample': 0.7617887914164716}. Best is trial 5 with value: 0.9116366191807066.\n"
     ]
    },
    {
     "name": "stderr",
     "output_type": "stream",
     "text": [
      "Best trial: 5. Best value: 0.911637:   8%|▊         | 24/300 [1:30:37<19:50:13, 258.74s/it]"
     ]
    },
    {
     "name": "stdout",
     "output_type": "stream",
     "text": [
      "[I 2025-10-23 03:24:08,659] Trial 23 finished with value: 0.9060474938362734 and parameters: {'bootstrap_type': 'Bayesian', 'learning_rate': 0.08310187871942573, 'depth': 7, 'l2_leaf_reg': 5.7658937992626536, 'random_strength': 1.845776056588245, 'rsm': 0.9632841493945251, 'grow_policy': 'Depthwise', 'min_data_in_leaf': 10, 'leaf_estimation_iterations': 1, 'border_count': 239, 'bagging_temperature': 7.939720697287038}. Best is trial 5 with value: 0.9116366191807066.\n"
     ]
    },
    {
     "name": "stderr",
     "output_type": "stream",
     "text": [
      "Best trial: 5. Best value: 0.911637:   8%|▊         | 25/300 [1:31:32<15:05:43, 197.61s/it]"
     ]
    },
    {
     "name": "stdout",
     "output_type": "stream",
     "text": [
      "[I 2025-10-23 03:25:03,663] Trial 24 finished with value: 0.9098219397005086 and parameters: {'bootstrap_type': 'MVS', 'learning_rate': 0.0260798606654237, 'depth': 6, 'l2_leaf_reg': 4.26157274045653, 'random_strength': 1.4077316006238005, 'rsm': 0.8812829080304144, 'grow_policy': 'SymmetricTree', 'min_data_in_leaf': 26, 'leaf_estimation_iterations': 3, 'border_count': 201}. Best is trial 5 with value: 0.9116366191807066.\n"
     ]
    },
    {
     "name": "stderr",
     "output_type": "stream",
     "text": [
      "Best trial: 5. Best value: 0.911637:   9%|▊         | 26/300 [1:35:26<15:51:59, 208.46s/it]"
     ]
    },
    {
     "name": "stdout",
     "output_type": "stream",
     "text": [
      "[I 2025-10-23 03:28:57,441] Trial 25 finished with value: 0.9097721787317375 and parameters: {'bootstrap_type': 'Bernoulli', 'learning_rate': 0.03561524483289909, 'depth': 9, 'l2_leaf_reg': 5.297964652685849, 'random_strength': 1.832588285992456, 'rsm': 0.7798873732081584, 'grow_policy': 'Depthwise', 'min_data_in_leaf': 3, 'leaf_estimation_iterations': 4, 'border_count': 180, 'subsample': 0.8371049749227472}. Best is trial 5 with value: 0.9116366191807066.\n"
     ]
    },
    {
     "name": "stderr",
     "output_type": "stream",
     "text": [
      "Best trial: 5. Best value: 0.911637:   9%|▉         | 27/300 [1:39:01<15:57:40, 210.48s/it]"
     ]
    },
    {
     "name": "stdout",
     "output_type": "stream",
     "text": [
      "[I 2025-10-23 03:32:32,625] Trial 26 finished with value: 0.9097353004442879 and parameters: {'bootstrap_type': 'MVS', 'learning_rate': 0.014476036542545647, 'depth': 8, 'l2_leaf_reg': 2.9406891455985456, 'random_strength': 1.1216338784602353, 'rsm': 0.9628400465353943, 'grow_policy': 'SymmetricTree', 'min_data_in_leaf': 15, 'leaf_estimation_iterations': 2, 'border_count': 215}. Best is trial 5 with value: 0.9116366191807066.\n"
     ]
    },
    {
     "name": "stderr",
     "output_type": "stream",
     "text": [
      "Best trial: 5. Best value: 0.911637:   9%|▉         | 28/300 [1:40:29<13:07:26, 173.70s/it]"
     ]
    },
    {
     "name": "stdout",
     "output_type": "stream",
     "text": [
      "[I 2025-10-23 03:34:00,510] Trial 27 finished with value: 0.9112456768249403 and parameters: {'bootstrap_type': 'MVS', 'learning_rate': 0.021116425215390495, 'depth': 7, 'l2_leaf_reg': 2.057324005488993, 'random_strength': 0.82556542968046, 'rsm': 0.9037061493148476, 'grow_policy': 'SymmetricTree', 'min_data_in_leaf': 20, 'leaf_estimation_iterations': 1, 'border_count': 189}. Best is trial 5 with value: 0.9116366191807066.\n"
     ]
    },
    {
     "name": "stderr",
     "output_type": "stream",
     "text": [
      "Best trial: 5. Best value: 0.911637:  10%|▉         | 29/300 [1:41:32<10:34:33, 140.49s/it]"
     ]
    },
    {
     "name": "stdout",
     "output_type": "stream",
     "text": [
      "[I 2025-10-23 03:35:03,521] Trial 28 finished with value: 0.9108874480523282 and parameters: {'bootstrap_type': 'MVS', 'learning_rate': 0.020213803560322728, 'depth': 6, 'l2_leaf_reg': 1.8429792028849228, 'random_strength': 0.7962459371452913, 'rsm': 0.8499853409431413, 'grow_policy': 'SymmetricTree', 'min_data_in_leaf': 29, 'leaf_estimation_iterations': 7, 'border_count': 169}. Best is trial 5 with value: 0.9116366191807066.\n"
     ]
    },
    {
     "name": "stderr",
     "output_type": "stream",
     "text": [
      "Best trial: 5. Best value: 0.911637:  10%|█         | 30/300 [1:42:59<9:20:17, 124.51s/it] "
     ]
    },
    {
     "name": "stdout",
     "output_type": "stream",
     "text": [
      "[I 2025-10-23 03:36:30,733] Trial 29 finished with value: 0.9112707040561747 and parameters: {'bootstrap_type': 'MVS', 'learning_rate': 0.01757811611562031, 'depth': 7, 'l2_leaf_reg': 2.377161792708822, 'random_strength': 0.48366215425634795, 'rsm': 0.9170987033684059, 'grow_policy': 'SymmetricTree', 'min_data_in_leaf': 35, 'leaf_estimation_iterations': 10, 'border_count': 186}. Best is trial 5 with value: 0.9116366191807066.\n"
     ]
    },
    {
     "name": "stderr",
     "output_type": "stream",
     "text": [
      "Best trial: 5. Best value: 0.911637:  10%|█         | 31/300 [1:43:35<7:19:19, 97.99s/it] "
     ]
    },
    {
     "name": "stdout",
     "output_type": "stream",
     "text": [
      "[I 2025-10-23 03:37:06,853] Trial 30 finished with value: 0.9105209420929141 and parameters: {'bootstrap_type': 'MVS', 'learning_rate': 0.01704375034653869, 'depth': 5, 'l2_leaf_reg': 2.649288904100224, 'random_strength': 0.5314860101836507, 'rsm': 0.9306879851112164, 'grow_policy': 'SymmetricTree', 'min_data_in_leaf': 34, 'leaf_estimation_iterations': 10, 'border_count': 159}. Best is trial 5 with value: 0.9116366191807066.\n"
     ]
    },
    {
     "name": "stderr",
     "output_type": "stream",
     "text": [
      "Best trial: 5. Best value: 0.911637:  11%|█         | 32/300 [1:44:42<6:35:49, 88.62s/it]"
     ]
    },
    {
     "name": "stdout",
     "output_type": "stream",
     "text": [
      "[I 2025-10-23 03:38:13,595] Trial 31 finished with value: 0.9110223089522269 and parameters: {'bootstrap_type': 'MVS', 'learning_rate': 0.024208361400868978, 'depth': 7, 'l2_leaf_reg': 2.2526779597476363, 'random_strength': 0.5676500913638023, 'rsm': 0.9114140422176493, 'grow_policy': 'SymmetricTree', 'min_data_in_leaf': 38, 'leaf_estimation_iterations': 9, 'border_count': 186}. Best is trial 5 with value: 0.9116366191807066.\n"
     ]
    },
    {
     "name": "stderr",
     "output_type": "stream",
     "text": [
      "Best trial: 32. Best value: 0.912775:  11%|█         | 33/300 [1:46:29<6:59:09, 94.19s/it]"
     ]
    },
    {
     "name": "stdout",
     "output_type": "stream",
     "text": [
      "[I 2025-10-23 03:40:00,804] Trial 32 finished with value: 0.9127752550647767 and parameters: {'bootstrap_type': 'MVS', 'learning_rate': 0.012617568081612757, 'depth': 7, 'l2_leaf_reg': 1.6557039039111734, 'random_strength': 0.33330882987839017, 'rsm': 0.9060410487752611, 'grow_policy': 'SymmetricTree', 'min_data_in_leaf': 25, 'leaf_estimation_iterations': 10, 'border_count': 195}. Best is trial 32 with value: 0.9127752550647767.\n"
     ]
    },
    {
     "name": "stderr",
     "output_type": "stream",
     "text": [
      "Best trial: 32. Best value: 0.912775:  11%|█▏        | 34/300 [1:47:32<6:16:25, 84.91s/it]"
     ]
    },
    {
     "name": "stdout",
     "output_type": "stream",
     "text": [
      "[I 2025-10-23 03:41:04,045] Trial 33 finished with value: 0.9106342436744252 and parameters: {'bootstrap_type': 'MVS', 'learning_rate': 0.01234124297514119, 'depth': 6, 'l2_leaf_reg': 1.5649590997654466, 'random_strength': 0.2643903142217013, 'rsm': 0.9363021045078328, 'grow_policy': 'SymmetricTree', 'min_data_in_leaf': 25, 'leaf_estimation_iterations': 10, 'border_count': 199}. Best is trial 32 with value: 0.9127752550647767.\n"
     ]
    },
    {
     "name": "stderr",
     "output_type": "stream",
     "text": [
      "Best trial: 32. Best value: 0.912775:  12%|█▏        | 35/300 [1:48:49<6:04:25, 82.51s/it]"
     ]
    },
    {
     "name": "stdout",
     "output_type": "stream",
     "text": [
      "[I 2025-10-23 03:42:20,964] Trial 34 finished with value: 0.9110823043268634 and parameters: {'bootstrap_type': 'MVS', 'learning_rate': 0.01223891355344395, 'depth': 7, 'l2_leaf_reg': 3.5183472953709622, 'random_strength': 0.008138464837826542, 'rsm': 0.8173833794668864, 'grow_policy': 'SymmetricTree', 'min_data_in_leaf': 30, 'leaf_estimation_iterations': 8, 'border_count': 177}. Best is trial 32 with value: 0.9127752550647767.\n"
     ]
    },
    {
     "name": "stderr",
     "output_type": "stream",
     "text": [
      "Best trial: 32. Best value: 0.912775:  12%|█▏        | 36/300 [1:50:32<6:29:43, 88.57s/it]"
     ]
    },
    {
     "name": "stdout",
     "output_type": "stream",
     "text": [
      "[I 2025-10-23 03:44:03,686] Trial 35 finished with value: 0.9090941040240182 and parameters: {'bootstrap_type': 'MVS', 'learning_rate': 0.01019949658537043, 'depth': 7, 'l2_leaf_reg': 2.3154691858445506, 'random_strength': 0.2936716018414022, 'rsm': 0.8691840090828876, 'grow_policy': 'Lossguide', 'min_data_in_leaf': 46, 'leaf_estimation_iterations': 9, 'border_count': 164}. Best is trial 32 with value: 0.9127752550647767.\n"
     ]
    },
    {
     "name": "stderr",
     "output_type": "stream",
     "text": [
      "Best trial: 32. Best value: 0.912775:  12%|█▏        | 37/300 [1:51:32<5:50:10, 79.89s/it]"
     ]
    },
    {
     "name": "stdout",
     "output_type": "stream",
     "text": [
      "[I 2025-10-23 03:45:03,313] Trial 36 finished with value: 0.9108588617508588 and parameters: {'bootstrap_type': 'MVS', 'learning_rate': 0.017031719204133444, 'depth': 6, 'l2_leaf_reg': 1.0526443313503797, 'random_strength': 0.3655157610179787, 'rsm': 0.771777533505208, 'grow_policy': 'SymmetricTree', 'min_data_in_leaf': 64, 'leaf_estimation_iterations': 10, 'border_count': 143}. Best is trial 32 with value: 0.9127752550647767.\n"
     ]
    },
    {
     "name": "stderr",
     "output_type": "stream",
     "text": [
      "Best trial: 32. Best value: 0.912775:  13%|█▎        | 38/300 [1:54:32<7:59:47, 109.88s/it]"
     ]
    },
    {
     "name": "stdout",
     "output_type": "stream",
     "text": [
      "[I 2025-10-23 03:48:03,154] Trial 37 finished with value: 0.9088666061915471 and parameters: {'bootstrap_type': 'Bayesian', 'learning_rate': 0.014236086206822467, 'depth': 6, 'l2_leaf_reg': 2.876449258856423, 'random_strength': 0.6502276589283534, 'rsm': 0.9032679309352731, 'grow_policy': 'SymmetricTree', 'min_data_in_leaf': 11, 'leaf_estimation_iterations': 9, 'border_count': 218, 'bagging_temperature': 5.574701216639793}. Best is trial 32 with value: 0.9127752550647767.\n"
     ]
    },
    {
     "name": "stderr",
     "output_type": "stream",
     "text": [
      "Best trial: 32. Best value: 0.912775:  13%|█▎        | 39/300 [1:55:15<6:31:03, 89.90s/it] "
     ]
    },
    {
     "name": "stdout",
     "output_type": "stream",
     "text": [
      "[I 2025-10-23 03:48:46,445] Trial 38 finished with value: 0.9087371097998628 and parameters: {'bootstrap_type': 'MVS', 'learning_rate': 0.03325602316647492, 'depth': 5, 'l2_leaf_reg': 1.4598492975197248, 'random_strength': 0.9621077677923482, 'rsm': 0.7476402931209076, 'grow_policy': 'Lossguide', 'min_data_in_leaf': 40, 'leaf_estimation_iterations': 8, 'border_count': 193}. Best is trial 32 with value: 0.9127752550647767.\n"
     ]
    },
    {
     "name": "stderr",
     "output_type": "stream",
     "text": [
      "Best trial: 32. Best value: 0.912775:  13%|█▎        | 40/300 [2:04:07<16:05:04, 222.71s/it]"
     ]
    },
    {
     "name": "stdout",
     "output_type": "stream",
     "text": [
      "[I 2025-10-23 03:57:39,034] Trial 39 finished with value: 0.9094872383153599 and parameters: {'bootstrap_type': 'MVS', 'learning_rate': 0.011560148101948834, 'depth': 9, 'l2_leaf_reg': 9.38042080846603, 'random_strength': 0.04559996305763048, 'rsm': 0.6784519530717649, 'grow_policy': 'SymmetricTree', 'min_data_in_leaf': 57, 'leaf_estimation_iterations': 10, 'border_count': 203}. Best is trial 32 with value: 0.9127752550647767.\n"
     ]
    },
    {
     "name": "stderr",
     "output_type": "stream",
     "text": [
      "Best trial: 32. Best value: 0.912775:  14%|█▎        | 41/300 [2:05:15<12:40:09, 176.10s/it]"
     ]
    },
    {
     "name": "stdout",
     "output_type": "stream",
     "text": [
      "[I 2025-10-23 03:58:46,378] Trial 40 finished with value: 0.9094235586358318 and parameters: {'bootstrap_type': 'Bayesian', 'learning_rate': 0.031417273567293125, 'depth': 7, 'l2_leaf_reg': 2.5121839205363643, 'random_strength': 0.17026483042539015, 'rsm': 0.9384697522153534, 'grow_policy': 'SymmetricTree', 'min_data_in_leaf': 32, 'leaf_estimation_iterations': 5, 'border_count': 149, 'bagging_temperature': 0.6230873738959808}. Best is trial 32 with value: 0.9127752550647767.\n"
     ]
    },
    {
     "name": "stderr",
     "output_type": "stream",
     "text": [
      "Best trial: 32. Best value: 0.912775:  14%|█▍        | 42/300 [2:06:15<10:07:43, 141.33s/it]"
     ]
    },
    {
     "name": "stdout",
     "output_type": "stream",
     "text": [
      "[I 2025-10-23 03:59:46,592] Trial 41 finished with value: 0.9107391329529353 and parameters: {'bootstrap_type': 'MVS', 'learning_rate': 0.02323943796018285, 'depth': 7, 'l2_leaf_reg': 3.2473610712449097, 'random_strength': 0.4052432869984882, 'rsm': 0.9027608974965126, 'grow_policy': 'SymmetricTree', 'min_data_in_leaf': 20, 'leaf_estimation_iterations': 9, 'border_count': 187}. Best is trial 32 with value: 0.9127752550647767.\n"
     ]
    },
    {
     "name": "stderr",
     "output_type": "stream",
     "text": [
      "Best trial: 32. Best value: 0.912775:  14%|█▍        | 43/300 [2:07:05<8:08:16, 113.99s/it] "
     ]
    },
    {
     "name": "stdout",
     "output_type": "stream",
     "text": [
      "[I 2025-10-23 04:00:36,797] Trial 42 finished with value: 0.9038706501220566 and parameters: {'bootstrap_type': 'MVS', 'learning_rate': 0.19790321427183402, 'depth': 8, 'l2_leaf_reg': 1.9893273649408996, 'random_strength': 0.7790881829680276, 'rsm': 0.8799260777915293, 'grow_policy': 'SymmetricTree', 'min_data_in_leaf': 23, 'leaf_estimation_iterations': 6, 'border_count': 189}. Best is trial 32 with value: 0.9127752550647767.\n"
     ]
    },
    {
     "name": "stderr",
     "output_type": "stream",
     "text": [
      "Best trial: 32. Best value: 0.912775:  15%|█▍        | 44/300 [2:08:44<7:47:21, 109.54s/it]"
     ]
    },
    {
     "name": "stdout",
     "output_type": "stream",
     "text": [
      "[I 2025-10-23 04:02:15,931] Trial 43 finished with value: 0.9113370215169122 and parameters: {'bootstrap_type': 'MVS', 'learning_rate': 0.017473753756700645, 'depth': 7, 'l2_leaf_reg': 2.067383511444261, 'random_strength': 1.015009677920164, 'rsm': 0.8582738216340555, 'grow_policy': 'SymmetricTree', 'min_data_in_leaf': 28, 'leaf_estimation_iterations': 9, 'border_count': 178}. Best is trial 32 with value: 0.9127752550647767.\n"
     ]
    },
    {
     "name": "stderr",
     "output_type": "stream",
     "text": [
      "Best trial: 32. Best value: 0.912775:  15%|█▌        | 45/300 [2:09:47<6:45:11, 95.34s/it] "
     ]
    },
    {
     "name": "stdout",
     "output_type": "stream",
     "text": [
      "[I 2025-10-23 04:03:18,149] Trial 44 finished with value: 0.9105748334291914 and parameters: {'bootstrap_type': 'MVS', 'learning_rate': 0.018494326433709286, 'depth': 6, 'l2_leaf_reg': 3.8136653159610914, 'random_strength': 1.0833442448636177, 'rsm': 0.8525116712883021, 'grow_policy': 'SymmetricTree', 'min_data_in_leaf': 28, 'leaf_estimation_iterations': 9, 'border_count': 176}. Best is trial 32 with value: 0.9127752550647767.\n"
     ]
    },
    {
     "name": "stderr",
     "output_type": "stream",
     "text": [
      "Best trial: 32. Best value: 0.912775:  15%|█▌        | 46/300 [2:13:00<8:48:26, 124.83s/it]"
     ]
    },
    {
     "name": "stdout",
     "output_type": "stream",
     "text": [
      "[I 2025-10-23 04:06:31,776] Trial 45 finished with value: 0.9126083472826962 and parameters: {'bootstrap_type': 'MVS', 'learning_rate': 0.016402568575278706, 'depth': 8, 'l2_leaf_reg': 6.4389172977084375, 'random_strength': 1.5865466154249994, 'rsm': 0.8117275982424627, 'grow_policy': 'SymmetricTree', 'min_data_in_leaf': 44, 'leaf_estimation_iterations': 10, 'border_count': 198}. Best is trial 32 with value: 0.9127752550647767.\n"
     ]
    },
    {
     "name": "stderr",
     "output_type": "stream",
     "text": [
      "Best trial: 32. Best value: 0.912775:  16%|█▌        | 47/300 [2:14:38<8:12:15, 116.74s/it]"
     ]
    },
    {
     "name": "stdout",
     "output_type": "stream",
     "text": [
      "[I 2025-10-23 04:08:09,655] Trial 46 finished with value: 0.9095121145457733 and parameters: {'bootstrap_type': 'MVS', 'learning_rate': 0.04118872970930326, 'depth': 8, 'l2_leaf_reg': 6.328623284672275, 'random_strength': 1.572792292971787, 'rsm': 0.8143234721844179, 'grow_policy': 'SymmetricTree', 'min_data_in_leaf': 52, 'leaf_estimation_iterations': 7, 'border_count': 206}. Best is trial 32 with value: 0.9127752550647767.\n"
     ]
    },
    {
     "name": "stderr",
     "output_type": "stream",
     "text": [
      "Best trial: 32. Best value: 0.912775:  16%|█▌        | 48/300 [2:19:02<11:15:18, 160.79s/it]"
     ]
    },
    {
     "name": "stdout",
     "output_type": "stream",
     "text": [
      "[I 2025-10-23 04:12:33,215] Trial 47 finished with value: 0.9110468438452974 and parameters: {'bootstrap_type': 'MVS', 'learning_rate': 0.013395241481278025, 'depth': 8, 'l2_leaf_reg': 6.383894429900291, 'random_strength': 1.4618130176795827, 'rsm': 0.8013801564811659, 'grow_policy': 'SymmetricTree', 'min_data_in_leaf': 43, 'leaf_estimation_iterations': 8, 'border_count': 198}. Best is trial 32 with value: 0.9127752550647767.\n"
     ]
    },
    {
     "name": "stderr",
     "output_type": "stream",
     "text": [
      "Best trial: 32. Best value: 0.912775:  16%|█▋        | 49/300 [2:21:10<10:32:06, 151.10s/it]"
     ]
    },
    {
     "name": "stdout",
     "output_type": "stream",
     "text": [
      "[I 2025-10-23 04:14:41,721] Trial 48 finished with value: 0.9090934626315395 and parameters: {'bootstrap_type': 'MVS', 'learning_rate': 0.015633841979165106, 'depth': 9, 'l2_leaf_reg': 6.884742886681019, 'random_strength': 1.6301012884939252, 'rsm': 0.7158621908349243, 'grow_policy': 'Lossguide', 'min_data_in_leaf': 54, 'leaf_estimation_iterations': 10, 'border_count': 212}. Best is trial 32 with value: 0.9127752550647767.\n"
     ]
    },
    {
     "name": "stderr",
     "output_type": "stream",
     "text": [
      "Best trial: 32. Best value: 0.912775:  17%|█▋        | 50/300 [2:25:07<12:17:06, 176.90s/it]"
     ]
    },
    {
     "name": "stdout",
     "output_type": "stream",
     "text": [
      "[I 2025-10-23 04:18:38,828] Trial 49 finished with value: 0.910886704422087 and parameters: {'bootstrap_type': 'Bernoulli', 'learning_rate': 0.011628695046927527, 'depth': 8, 'l2_leaf_reg': 7.800528677742234, 'random_strength': 1.217464174645774, 'rsm': 0.8462304515165939, 'grow_policy': 'SymmetricTree', 'min_data_in_leaf': 32, 'leaf_estimation_iterations': 9, 'border_count': 221, 'subsample': 0.9880830979208136}. Best is trial 32 with value: 0.9127752550647767.\n"
     ]
    },
    {
     "name": "stderr",
     "output_type": "stream",
     "text": [
      "Best trial: 32. Best value: 0.912775:  17%|█▋        | 51/300 [2:32:11<17:21:07, 250.87s/it]"
     ]
    },
    {
     "name": "stdout",
     "output_type": "stream",
     "text": [
      "[I 2025-10-23 04:25:42,298] Trial 50 finished with value: 0.9065205725611258 and parameters: {'bootstrap_type': 'Bayesian', 'learning_rate': 0.02897121174577353, 'depth': 10, 'l2_leaf_reg': 7.326780169667513, 'random_strength': 1.8681480351348223, 'rsm': 0.8330474551057464, 'grow_policy': 'SymmetricTree', 'min_data_in_leaf': 16, 'leaf_estimation_iterations': 10, 'border_count': 233, 'bagging_temperature': 5.739231969604393}. Best is trial 32 with value: 0.9127752550647767.\n"
     ]
    },
    {
     "name": "stderr",
     "output_type": "stream",
     "text": [
      "Best trial: 32. Best value: 0.912775:  17%|█▋        | 52/300 [2:34:02<14:23:50, 208.99s/it]"
     ]
    },
    {
     "name": "stdout",
     "output_type": "stream",
     "text": [
      "[I 2025-10-23 04:27:33,575] Trial 51 finished with value: 0.9101572407617698 and parameters: {'bootstrap_type': 'MVS', 'learning_rate': 0.017933866365451624, 'depth': 7, 'l2_leaf_reg': 1.4953506711875892, 'random_strength': 1.643872139673279, 'rsm': 0.8665880485258401, 'grow_policy': 'SymmetricTree', 'min_data_in_leaf': 35, 'leaf_estimation_iterations': 10, 'border_count': 179}. Best is trial 32 with value: 0.9127752550647767.\n"
     ]
    },
    {
     "name": "stderr",
     "output_type": "stream",
     "text": [
      "Best trial: 32. Best value: 0.912775:  18%|█▊        | 53/300 [2:35:05<11:20:05, 165.21s/it]"
     ]
    },
    {
     "name": "stdout",
     "output_type": "stream",
     "text": [
      "[I 2025-10-23 04:28:36,607] Trial 52 finished with value: 0.9110176380417747 and parameters: {'bootstrap_type': 'MVS', 'learning_rate': 0.015801366114132197, 'depth': 6, 'l2_leaf_reg': 5.930278207181118, 'random_strength': 1.7487135009146617, 'rsm': 0.987895179634486, 'grow_policy': 'SymmetricTree', 'min_data_in_leaf': 25, 'leaf_estimation_iterations': 9, 'border_count': 183}. Best is trial 32 with value: 0.9127752550647767.\n"
     ]
    },
    {
     "name": "stderr",
     "output_type": "stream",
     "text": [
      "Best trial: 53. Best value: 0.913459:  18%|█▊        | 54/300 [2:37:51<11:18:16, 165.43s/it]"
     ]
    },
    {
     "name": "stdout",
     "output_type": "stream",
     "text": [
      "[I 2025-10-23 04:31:22,566] Trial 53 finished with value: 0.9134589572013542 and parameters: {'bootstrap_type': 'MVS', 'learning_rate': 0.013826635563471967, 'depth': 7, 'l2_leaf_reg': 2.5395364407192647, 'random_strength': 1.361171023192227, 'rsm': 0.6006789244092082, 'grow_policy': 'SymmetricTree', 'min_data_in_leaf': 44, 'leaf_estimation_iterations': 10, 'border_count': 192}. Best is trial 53 with value: 0.9134589572013542.\n"
     ]
    },
    {
     "name": "stderr",
     "output_type": "stream",
     "text": [
      "Best trial: 53. Best value: 0.913459:  18%|█▊        | 55/300 [2:40:55<11:38:15, 171.00s/it]"
     ]
    },
    {
     "name": "stdout",
     "output_type": "stream",
     "text": [
      "[I 2025-10-23 04:34:26,560] Trial 54 finished with value: 0.9121224280528315 and parameters: {'bootstrap_type': 'MVS', 'learning_rate': 0.014037442998256836, 'depth': 8, 'l2_leaf_reg': 1.388596375845891, 'random_strength': 1.3262623892402434, 'rsm': 0.637521852965431, 'grow_policy': 'SymmetricTree', 'min_data_in_leaf': 45, 'leaf_estimation_iterations': 9, 'border_count': 193}. Best is trial 53 with value: 0.9134589572013542.\n"
     ]
    },
    {
     "name": "stderr",
     "output_type": "stream",
     "text": [
      "Best trial: 53. Best value: 0.913459:  19%|█▊        | 56/300 [2:44:24<12:21:53, 182.43s/it]"
     ]
    },
    {
     "name": "stdout",
     "output_type": "stream",
     "text": [
      "[I 2025-10-23 04:37:55,668] Trial 55 finished with value: 0.911145483400748 and parameters: {'bootstrap_type': 'MVS', 'learning_rate': 0.01377679631531709, 'depth': 8, 'l2_leaf_reg': 4.730862653121197, 'random_strength': 1.3546452808348681, 'rsm': 0.6032188962515642, 'grow_policy': 'SymmetricTree', 'min_data_in_leaf': 47, 'leaf_estimation_iterations': 8, 'border_count': 195}. Best is trial 53 with value: 0.9134589572013542.\n"
     ]
    },
    {
     "name": "stderr",
     "output_type": "stream",
     "text": [
      "Best trial: 53. Best value: 0.913459:  19%|█▉        | 57/300 [3:00:21<28:00:30, 414.94s/it]"
     ]
    },
    {
     "name": "stdout",
     "output_type": "stream",
     "text": [
      "[I 2025-10-23 04:53:53,125] Trial 56 finished with value: 0.911508884187518 and parameters: {'bootstrap_type': 'MVS', 'learning_rate': 0.01136193860114781, 'depth': 9, 'l2_leaf_reg': 1.2938012440775246, 'random_strength': 1.2953703695065975, 'rsm': 0.5543743847751057, 'grow_policy': 'SymmetricTree', 'min_data_in_leaf': 51, 'leaf_estimation_iterations': 10, 'border_count': 205}. Best is trial 53 with value: 0.9134589572013542.\n"
     ]
    },
    {
     "name": "stderr",
     "output_type": "stream",
     "text": [
      "Best trial: 53. Best value: 0.913459:  19%|█▉        | 58/300 [3:03:29<23:18:12, 346.66s/it]"
     ]
    },
    {
     "name": "stdout",
     "output_type": "stream",
     "text": [
      "[I 2025-10-23 04:57:00,471] Trial 57 finished with value: 0.9115780497086337 and parameters: {'bootstrap_type': 'MVS', 'learning_rate': 0.013075555558099219, 'depth': 8, 'l2_leaf_reg': 2.785261209184708, 'random_strength': 1.4947676621856438, 'rsm': 0.6127392472055728, 'grow_policy': 'Depthwise', 'min_data_in_leaf': 43, 'leaf_estimation_iterations': 10, 'border_count': 212}. Best is trial 53 with value: 0.9134589572013542.\n"
     ]
    },
    {
     "name": "stderr",
     "output_type": "stream",
     "text": [
      "Best trial: 53. Best value: 0.913459:  20%|█▉        | 59/300 [3:04:43<17:44:11, 264.95s/it]"
     ]
    },
    {
     "name": "stdout",
     "output_type": "stream",
     "text": [
      "[I 2025-10-23 04:58:14,747] Trial 58 finished with value: 0.9078431654742329 and parameters: {'bootstrap_type': 'Bernoulli', 'learning_rate': 0.05522846004654421, 'depth': 8, 'l2_leaf_reg': 5.612429116064708, 'random_strength': 1.921979516204115, 'rsm': 0.5460002685790682, 'grow_policy': 'SymmetricTree', 'min_data_in_leaf': 44, 'leaf_estimation_iterations': 6, 'border_count': 201, 'subsample': 0.6574417175953209}. Best is trial 53 with value: 0.9134589572013542.\n"
     ]
    },
    {
     "name": "stderr",
     "output_type": "stream",
     "text": [
      "Best trial: 53. Best value: 0.913459:  20%|██        | 60/300 [3:07:11<15:18:47, 229.70s/it]"
     ]
    },
    {
     "name": "stdout",
     "output_type": "stream",
     "text": [
      "[I 2025-10-23 05:00:42,195] Trial 59 finished with value: 0.9104469504580938 and parameters: {'bootstrap_type': 'MVS', 'learning_rate': 0.010379165919814264, 'depth': 8, 'l2_leaf_reg': 5.032242587525569, 'random_strength': 1.5456832913379641, 'rsm': 0.6135287178066863, 'grow_policy': 'Lossguide', 'min_data_in_leaf': 38, 'leaf_estimation_iterations': 8, 'border_count': 193}. Best is trial 53 with value: 0.9134589572013542.\n"
     ]
    },
    {
     "name": "stderr",
     "output_type": "stream",
     "text": [
      "Best trial: 53. Best value: 0.913459:  20%|██        | 61/300 [3:12:29<17:01:20, 256.40s/it]"
     ]
    },
    {
     "name": "stdout",
     "output_type": "stream",
     "text": [
      "[I 2025-10-23 05:06:00,913] Trial 60 finished with value: 0.910782218776431 and parameters: {'bootstrap_type': 'MVS', 'learning_rate': 0.022256370575561985, 'depth': 9, 'l2_leaf_reg': 3.8995888666643195, 'random_strength': 1.7671632165984401, 'rsm': 0.6470048754165285, 'grow_policy': 'SymmetricTree', 'min_data_in_leaf': 58, 'leaf_estimation_iterations': 9, 'border_count': 198}. Best is trial 53 with value: 0.9134589572013542.\n"
     ]
    },
    {
     "name": "stderr",
     "output_type": "stream",
     "text": [
      "Best trial: 53. Best value: 0.913459:  21%|██        | 62/300 [3:15:03<14:54:59, 225.63s/it]"
     ]
    },
    {
     "name": "stdout",
     "output_type": "stream",
     "text": [
      "[I 2025-10-23 05:08:34,741] Trial 61 finished with value: 0.9104447729989357 and parameters: {'bootstrap_type': 'MVS', 'learning_rate': 0.013460723294710595, 'depth': 8, 'l2_leaf_reg': 2.8589927730967255, 'random_strength': 1.4710421665144198, 'rsm': 0.6197748730255097, 'grow_policy': 'Depthwise', 'min_data_in_leaf': 49, 'leaf_estimation_iterations': 10, 'border_count': 211}. Best is trial 53 with value: 0.9134589572013542.\n"
     ]
    },
    {
     "name": "stderr",
     "output_type": "stream",
     "text": [
      "Best trial: 53. Best value: 0.913459:  21%|██        | 63/300 [3:16:56<12:37:46, 191.84s/it]"
     ]
    },
    {
     "name": "stdout",
     "output_type": "stream",
     "text": [
      "[I 2025-10-23 05:10:27,748] Trial 62 finished with value: 0.907827848299064 and parameters: {'bootstrap_type': 'MVS', 'learning_rate': 0.014941773334841488, 'depth': 8, 'l2_leaf_reg': 1.7057616870022436, 'random_strength': 1.5030552938594268, 'rsm': 0.5816116259516579, 'grow_policy': 'Depthwise', 'min_data_in_leaf': 44, 'leaf_estimation_iterations': 10, 'border_count': 207}. Best is trial 53 with value: 0.9134589572013542.\n"
     ]
    },
    {
     "name": "stderr",
     "output_type": "stream",
     "text": [
      "Best trial: 53. Best value: 0.913459:  21%|██▏       | 64/300 [3:20:01<12:26:23, 189.76s/it]"
     ]
    },
    {
     "name": "stdout",
     "output_type": "stream",
     "text": [
      "[I 2025-10-23 05:13:32,651] Trial 63 finished with value: 0.9099051444152171 and parameters: {'bootstrap_type': 'MVS', 'learning_rate': 0.012966278645639654, 'depth': 9, 'l2_leaf_reg': 3.1914256254123545, 'random_strength': 1.2133170224672938, 'rsm': 0.6715616133794482, 'grow_policy': 'Depthwise', 'min_data_in_leaf': 39, 'leaf_estimation_iterations': 9, 'border_count': 221}. Best is trial 53 with value: 0.9134589572013542.\n"
     ]
    },
    {
     "name": "stderr",
     "output_type": "stream",
     "text": [
      "Best trial: 53. Best value: 0.913459:  22%|██▏       | 65/300 [3:21:40<10:36:23, 162.49s/it]"
     ]
    },
    {
     "name": "stdout",
     "output_type": "stream",
     "text": [
      "[I 2025-10-23 05:15:11,489] Trial 64 finished with value: 0.9096311222570537 and parameters: {'bootstrap_type': 'MVS', 'learning_rate': 0.0198612913946477, 'depth': 8, 'l2_leaf_reg': 2.61942712511481, 'random_strength': 1.3940818904506405, 'rsm': 0.506910594259072, 'grow_policy': 'Depthwise', 'min_data_in_leaf': 42, 'leaf_estimation_iterations': 10, 'border_count': 203}. Best is trial 53 with value: 0.9134589572013542.\n"
     ]
    },
    {
     "name": "stderr",
     "output_type": "stream",
     "text": [
      "Best trial: 53. Best value: 0.913459:  22%|██▏       | 66/300 [3:23:31<9:33:10, 146.97s/it] "
     ]
    },
    {
     "name": "stdout",
     "output_type": "stream",
     "text": [
      "[I 2025-10-23 05:17:02,259] Trial 65 finished with value: 0.9092419662248888 and parameters: {'bootstrap_type': 'MVS', 'learning_rate': 0.01604644440964395, 'depth': 7, 'l2_leaf_reg': 1.2104137406278346, 'random_strength': 1.283988484903966, 'rsm': 0.6266751136851955, 'grow_policy': 'Depthwise', 'min_data_in_leaf': 46, 'leaf_estimation_iterations': 4, 'border_count': 213}. Best is trial 53 with value: 0.9134589572013542.\n"
     ]
    },
    {
     "name": "stderr",
     "output_type": "stream",
     "text": [
      "Best trial: 53. Best value: 0.913459:  22%|██▏       | 67/300 [3:26:00<9:32:57, 147.54s/it]"
     ]
    },
    {
     "name": "stdout",
     "output_type": "stream",
     "text": [
      "[I 2025-10-23 05:19:31,136] Trial 66 finished with value: 0.9110808999115131 and parameters: {'bootstrap_type': 'MVS', 'learning_rate': 0.011176583188689608, 'depth': 7, 'l2_leaf_reg': 2.1858793382751385, 'random_strength': 1.690194426381214, 'rsm': 0.5864558014118235, 'grow_policy': 'Depthwise', 'min_data_in_leaf': 22, 'leaf_estimation_iterations': 9, 'border_count': 194}. Best is trial 53 with value: 0.9134589572013542.\n"
     ]
    },
    {
     "name": "stderr",
     "output_type": "stream",
     "text": [
      "Best trial: 53. Best value: 0.913459:  23%|██▎       | 68/300 [3:32:20<14:01:15, 217.57s/it]"
     ]
    },
    {
     "name": "stdout",
     "output_type": "stream",
     "text": [
      "[I 2025-10-23 05:25:52,098] Trial 67 finished with value: 0.908893792181281 and parameters: {'bootstrap_type': 'Bayesian', 'learning_rate': 0.01254362039275049, 'depth': 8, 'l2_leaf_reg': 1.8132240601182925, 'random_strength': 1.59120690135382, 'rsm': 0.6663005504082524, 'grow_policy': 'SymmetricTree', 'min_data_in_leaf': 18, 'leaf_estimation_iterations': 10, 'border_count': 191, 'bagging_temperature': 3.330900955581088}. Best is trial 53 with value: 0.9134589572013542.\n"
     ]
    },
    {
     "name": "stderr",
     "output_type": "stream",
     "text": [
      "Best trial: 53. Best value: 0.913459:  23%|██▎       | 69/300 [3:33:31<11:07:21, 173.34s/it]"
     ]
    },
    {
     "name": "stdout",
     "output_type": "stream",
     "text": [
      "[I 2025-10-23 05:27:02,237] Trial 68 finished with value: 0.909179394213524 and parameters: {'bootstrap_type': 'MVS', 'learning_rate': 0.010039745592338431, 'depth': 4, 'l2_leaf_reg': 4.485294990219881, 'random_strength': 1.6803373905764838, 'rsm': 0.7253069700740031, 'grow_policy': 'SymmetricTree', 'min_data_in_leaf': 37, 'leaf_estimation_iterations': 5, 'border_count': 183}. Best is trial 53 with value: 0.9134589572013542.\n"
     ]
    },
    {
     "name": "stderr",
     "output_type": "stream",
     "text": [
      "Best trial: 53. Best value: 0.913459:  23%|██▎       | 70/300 [3:35:18<9:48:27, 153.51s/it] "
     ]
    },
    {
     "name": "stdout",
     "output_type": "stream",
     "text": [
      "[I 2025-10-23 05:28:49,486] Trial 69 finished with value: 0.9112351624210804 and parameters: {'bootstrap_type': 'Bernoulli', 'learning_rate': 0.01445441033482907, 'depth': 7, 'l2_leaf_reg': 1.3549346186169073, 'random_strength': 1.1576494184844879, 'rsm': 0.5346244757463094, 'grow_policy': 'SymmetricTree', 'min_data_in_leaf': 54, 'leaf_estimation_iterations': 10, 'border_count': 197, 'subsample': 0.8663053823854372}. Best is trial 53 with value: 0.9134589572013542.\n"
     ]
    },
    {
     "name": "stderr",
     "output_type": "stream",
     "text": [
      "Best trial: 53. Best value: 0.913459:  24%|██▎       | 71/300 [3:36:00<7:38:09, 120.04s/it]"
     ]
    },
    {
     "name": "stdout",
     "output_type": "stream",
     "text": [
      "[I 2025-10-23 05:29:31,423] Trial 70 finished with value: 0.9084962557927321 and parameters: {'bootstrap_type': 'MVS', 'learning_rate': 0.10498492809402661, 'depth': 8, 'l2_leaf_reg': 2.8203475790292067, 'random_strength': 1.8013517766295841, 'rsm': 0.6337544271415735, 'grow_policy': 'Depthwise', 'min_data_in_leaf': 41, 'leaf_estimation_iterations': 3, 'border_count': 190}. Best is trial 53 with value: 0.9134589572013542.\n"
     ]
    },
    {
     "name": "stderr",
     "output_type": "stream",
     "text": [
      "Best trial: 53. Best value: 0.913459:  24%|██▍       | 72/300 [3:43:04<13:23:26, 211.43s/it]"
     ]
    },
    {
     "name": "stdout",
     "output_type": "stream",
     "text": [
      "[I 2025-10-23 05:36:36,098] Trial 71 finished with value: 0.91030563372968 and parameters: {'bootstrap_type': 'MVS', 'learning_rate': 0.01120980540015057, 'depth': 10, 'l2_leaf_reg': 1.2726258358902571, 'random_strength': 1.3227118084714387, 'rsm': 0.5467072913351513, 'grow_policy': 'SymmetricTree', 'min_data_in_leaf': 52, 'leaf_estimation_iterations': 10, 'border_count': 206}. Best is trial 53 with value: 0.9134589572013542.\n"
     ]
    },
    {
     "name": "stderr",
     "output_type": "stream",
     "text": [
      "Best trial: 53. Best value: 0.913459:  24%|██▍       | 73/300 [3:51:51<19:17:10, 305.86s/it]"
     ]
    },
    {
     "name": "stdout",
     "output_type": "stream",
     "text": [
      "[I 2025-10-23 05:45:22,295] Trial 72 finished with value: 0.9106020605328372 and parameters: {'bootstrap_type': 'MVS', 'learning_rate': 0.012183339763774026, 'depth': 9, 'l2_leaf_reg': 1.8032547809131516, 'random_strength': 1.378117068408545, 'rsm': 0.5633365205492511, 'grow_policy': 'SymmetricTree', 'min_data_in_leaf': 61, 'leaf_estimation_iterations': 10, 'border_count': 207}. Best is trial 53 with value: 0.9134589572013542.\n"
     ]
    },
    {
     "name": "stderr",
     "output_type": "stream",
     "text": [
      "Best trial: 53. Best value: 0.913459:  25%|██▍       | 74/300 [4:02:19<25:16:11, 402.53s/it]"
     ]
    },
    {
     "name": "stdout",
     "output_type": "stream",
     "text": [
      "[I 2025-10-23 05:55:50,379] Trial 73 finished with value: 0.9109030512275782 and parameters: {'bootstrap_type': 'MVS', 'learning_rate': 0.011240558331630571, 'depth': 9, 'l2_leaf_reg': 2.4483655974910317, 'random_strength': 1.5070637070623314, 'rsm': 0.5291493002998467, 'grow_policy': 'SymmetricTree', 'min_data_in_leaf': 51, 'leaf_estimation_iterations': 9, 'border_count': 201}. Best is trial 53 with value: 0.9134589572013542.\n"
     ]
    },
    {
     "name": "stderr",
     "output_type": "stream",
     "text": [
      "Best trial: 53. Best value: 0.913459:  25%|██▌       | 75/300 [4:09:35<25:47:16, 412.61s/it]"
     ]
    },
    {
     "name": "stdout",
     "output_type": "stream",
     "text": [
      "[I 2025-10-23 06:03:06,500] Trial 74 finished with value: 0.9100732120564959 and parameters: {'bootstrap_type': 'MVS', 'learning_rate': 0.013721383439438205, 'depth': 9, 'l2_leaf_reg': 1.5289668803851688, 'random_strength': 1.8879228665328283, 'rsm': 0.5934608445311825, 'grow_policy': 'SymmetricTree', 'min_data_in_leaf': 45, 'leaf_estimation_iterations': 10, 'border_count': 216}. Best is trial 53 with value: 0.9134589572013542.\n"
     ]
    },
    {
     "name": "stderr",
     "output_type": "stream",
     "text": [
      "Best trial: 53. Best value: 0.913459:  25%|██▌       | 76/300 [4:10:53<19:26:19, 312.41s/it]"
     ]
    },
    {
     "name": "stdout",
     "output_type": "stream",
     "text": [
      "[I 2025-10-23 06:04:25,110] Trial 75 finished with value: 0.9120734841786761 and parameters: {'bootstrap_type': 'MVS', 'learning_rate': 0.016313097350074076, 'depth': 6, 'l2_leaf_reg': 6.8492091776730435, 'random_strength': 1.280188698270898, 'rsm': 0.5643121717735606, 'grow_policy': 'SymmetricTree', 'min_data_in_leaf': 48, 'leaf_estimation_iterations': 9, 'border_count': 210}. Best is trial 53 with value: 0.9134589572013542.\n"
     ]
    },
    {
     "name": "stderr",
     "output_type": "stream",
     "text": [
      "Best trial: 53. Best value: 0.913459:  26%|██▌       | 77/300 [4:12:34<15:24:28, 248.74s/it]"
     ]
    },
    {
     "name": "stdout",
     "output_type": "stream",
     "text": [
      "[I 2025-10-23 06:06:05,281] Trial 76 finished with value: 0.9117604735029381 and parameters: {'bootstrap_type': 'MVS', 'learning_rate': 0.016425474874559434, 'depth': 6, 'l2_leaf_reg': 6.681412908973553, 'random_strength': 1.257072804523132, 'rsm': 0.7692922827290838, 'grow_policy': 'SymmetricTree', 'min_data_in_leaf': 12, 'leaf_estimation_iterations': 8, 'border_count': 210}. Best is trial 53 with value: 0.9134589572013542.\n"
     ]
    },
    {
     "name": "stderr",
     "output_type": "stream",
     "text": [
      "Best trial: 53. Best value: 0.913459:  26%|██▌       | 78/300 [4:13:37<11:54:21, 193.07s/it]"
     ]
    },
    {
     "name": "stdout",
     "output_type": "stream",
     "text": [
      "[I 2025-10-23 06:07:08,462] Trial 77 finished with value: 0.909669561524101 and parameters: {'bootstrap_type': 'MVS', 'learning_rate': 0.019724330938474997, 'depth': 6, 'l2_leaf_reg': 7.07168578889858, 'random_strength': 1.1914629115252464, 'rsm': 0.7585686063811671, 'grow_policy': 'SymmetricTree', 'min_data_in_leaf': 6, 'leaf_estimation_iterations': 7, 'border_count': 226}. Best is trial 53 with value: 0.9134589572013542.\n"
     ]
    },
    {
     "name": "stderr",
     "output_type": "stream",
     "text": [
      "Best trial: 53. Best value: 0.913459:  26%|██▋       | 79/300 [4:14:29<9:15:28, 150.81s/it] "
     ]
    },
    {
     "name": "stdout",
     "output_type": "stream",
     "text": [
      "[I 2025-10-23 06:08:00,661] Trial 78 finished with value: 0.9106168191736638 and parameters: {'bootstrap_type': 'MVS', 'learning_rate': 0.01652584371888606, 'depth': 5, 'l2_leaf_reg': 6.6255101577576605, 'random_strength': 1.0416221816473255, 'rsm': 0.7896970369957333, 'grow_policy': 'SymmetricTree', 'min_data_in_leaf': 11, 'leaf_estimation_iterations': 7, 'border_count': 209}. Best is trial 53 with value: 0.9134589572013542.\n"
     ]
    },
    {
     "name": "stderr",
     "output_type": "stream",
     "text": [
      "Best trial: 53. Best value: 0.913459:  27%|██▋       | 80/300 [4:15:37<7:41:31, 125.87s/it]"
     ]
    },
    {
     "name": "stdout",
     "output_type": "stream",
     "text": [
      "[I 2025-10-23 06:09:08,351] Trial 79 finished with value: 0.9111823415873435 and parameters: {'bootstrap_type': 'MVS', 'learning_rate': 0.014796135637655054, 'depth': 6, 'l2_leaf_reg': 7.4123286196683775, 'random_strength': 0.9607798638386634, 'rsm': 0.6905292583735979, 'grow_policy': 'SymmetricTree', 'min_data_in_leaf': 13, 'leaf_estimation_iterations': 8, 'border_count': 172}. Best is trial 53 with value: 0.9134589572013542.\n"
     ]
    },
    {
     "name": "stderr",
     "output_type": "stream",
     "text": [
      "Best trial: 53. Best value: 0.913459:  27%|██▋       | 81/300 [4:19:58<10:07:51, 166.53s/it]"
     ]
    },
    {
     "name": "stdout",
     "output_type": "stream",
     "text": [
      "[I 2025-10-23 06:13:29,759] Trial 80 finished with value: 0.9091146169902945 and parameters: {'bootstrap_type': 'Bayesian', 'learning_rate': 0.02133534346691586, 'depth': 6, 'l2_leaf_reg': 6.107235770232796, 'random_strength': 1.2501678219876604, 'rsm': 0.7691139754464811, 'grow_policy': 'SymmetricTree', 'min_data_in_leaf': 8, 'leaf_estimation_iterations': 8, 'border_count': 220, 'bagging_temperature': 7.708457129394738}. Best is trial 53 with value: 0.9134589572013542.\n"
     ]
    },
    {
     "name": "stderr",
     "output_type": "stream",
     "text": [
      "Best trial: 53. Best value: 0.913459:  27%|██▋       | 82/300 [4:21:06<8:17:03, 136.81s/it] "
     ]
    },
    {
     "name": "stdout",
     "output_type": "stream",
     "text": [
      "[I 2025-10-23 06:14:37,204] Trial 81 finished with value: 0.910683535851996 and parameters: {'bootstrap_type': 'MVS', 'learning_rate': 0.018471024010888945, 'depth': 6, 'l2_leaf_reg': 6.679949678767966, 'random_strength': 1.4122127857628184, 'rsm': 0.7318712558939084, 'grow_policy': 'SymmetricTree', 'min_data_in_leaf': 48, 'leaf_estimation_iterations': 9, 'border_count': 214}. Best is trial 53 with value: 0.9134589572013542.\n"
     ]
    },
    {
     "name": "stderr",
     "output_type": "stream",
     "text": [
      "Best trial: 53. Best value: 0.913459:  28%|██▊       | 83/300 [4:22:11<6:57:39, 115.48s/it]"
     ]
    },
    {
     "name": "stdout",
     "output_type": "stream",
     "text": [
      "[I 2025-10-23 06:15:42,925] Trial 82 finished with value: 0.9109720992945434 and parameters: {'bootstrap_type': 'MVS', 'learning_rate': 0.024548085321031782, 'depth': 5, 'l2_leaf_reg': 6.205929517652175, 'random_strength': 1.337408272135798, 'rsm': 0.7937951242739549, 'grow_policy': 'Lossguide', 'min_data_in_leaf': 49, 'leaf_estimation_iterations': 9, 'border_count': 210}. Best is trial 53 with value: 0.9134589572013542.\n"
     ]
    },
    {
     "name": "stderr",
     "output_type": "stream",
     "text": [
      "Best trial: 53. Best value: 0.913459:  28%|██▊       | 84/300 [4:25:16<8:10:57, 136.38s/it]"
     ]
    },
    {
     "name": "stdout",
     "output_type": "stream",
     "text": [
      "[I 2025-10-23 06:18:48,064] Trial 83 finished with value: 0.911466466416109 and parameters: {'bootstrap_type': 'MVS', 'learning_rate': 0.016138450371327853, 'depth': 7, 'l2_leaf_reg': 6.845225164783999, 'random_strength': 1.9921307240349193, 'rsm': 0.8241826447144943, 'grow_policy': 'SymmetricTree', 'min_data_in_leaf': 43, 'leaf_estimation_iterations': 8, 'border_count': 230}. Best is trial 53 with value: 0.9134589572013542.\n"
     ]
    },
    {
     "name": "stderr",
     "output_type": "stream",
     "text": [
      "Best trial: 53. Best value: 0.913459:  28%|██▊       | 85/300 [4:27:04<7:37:27, 127.66s/it]"
     ]
    },
    {
     "name": "stdout",
     "output_type": "stream",
     "text": [
      "[I 2025-10-23 06:20:35,394] Trial 84 finished with value: 0.911352208534177 and parameters: {'bootstrap_type': 'MVS', 'learning_rate': 0.012610918956525625, 'depth': 6, 'l2_leaf_reg': 5.385132811438543, 'random_strength': 1.4326571342255578, 'rsm': 0.5694704659627596, 'grow_policy': 'SymmetricTree', 'min_data_in_leaf': 24, 'leaf_estimation_iterations': 9, 'border_count': 202}. Best is trial 53 with value: 0.9134589572013542.\n"
     ]
    },
    {
     "name": "stderr",
     "output_type": "stream",
     "text": [
      "Best trial: 53. Best value: 0.913459:  29%|██▊       | 86/300 [4:28:22<6:42:39, 112.90s/it]"
     ]
    },
    {
     "name": "stdout",
     "output_type": "stream",
     "text": [
      "[I 2025-10-23 06:21:53,832] Trial 85 finished with value: 0.9114536202092808 and parameters: {'bootstrap_type': 'MVS', 'learning_rate': 0.014655387419206967, 'depth': 5, 'l2_leaf_reg': 7.647779109742509, 'random_strength': 1.105454298912857, 'rsm': 0.9508559634836092, 'grow_policy': 'SymmetricTree', 'min_data_in_leaf': 20, 'leaf_estimation_iterations': 9, 'border_count': 196}. Best is trial 53 with value: 0.9134589572013542.\n"
     ]
    },
    {
     "name": "stderr",
     "output_type": "stream",
     "text": [
      "Best trial: 53. Best value: 0.913459:  29%|██▉       | 87/300 [4:30:02<6:27:09, 109.06s/it]"
     ]
    },
    {
     "name": "stdout",
     "output_type": "stream",
     "text": [
      "[I 2025-10-23 06:23:33,936] Trial 86 finished with value: 0.9113839647275459 and parameters: {'bootstrap_type': 'MVS', 'learning_rate': 0.018733971992924512, 'depth': 7, 'l2_leaf_reg': 8.188336708469727, 'random_strength': 1.4958260775358165, 'rsm': 0.6980603322437388, 'grow_policy': 'SymmetricTree', 'min_data_in_leaf': 40, 'leaf_estimation_iterations': 10, 'border_count': 185}. Best is trial 53 with value: 0.9134589572013542.\n"
     ]
    },
    {
     "name": "stderr",
     "output_type": "stream",
     "text": [
      "Best trial: 53. Best value: 0.913459:  29%|██▉       | 88/300 [4:31:37<6:10:16, 104.79s/it]"
     ]
    },
    {
     "name": "stdout",
     "output_type": "stream",
     "text": [
      "[I 2025-10-23 06:25:08,780] Trial 87 finished with value: 0.9105280258447945 and parameters: {'bootstrap_type': 'MVS', 'learning_rate': 0.017311274466642542, 'depth': 7, 'l2_leaf_reg': 5.9322858126687334, 'random_strength': 1.259324532561628, 'rsm': 0.657887833239762, 'grow_policy': 'SymmetricTree', 'min_data_in_leaf': 15, 'leaf_estimation_iterations': 2, 'border_count': 190}. Best is trial 53 with value: 0.9134589572013542.\n"
     ]
    },
    {
     "name": "stderr",
     "output_type": "stream",
     "text": [
      "Best trial: 53. Best value: 0.913459:  30%|██▉       | 89/300 [4:33:55<6:42:53, 114.57s/it]"
     ]
    },
    {
     "name": "stdout",
     "output_type": "stream",
     "text": [
      "[I 2025-10-23 06:27:26,148] Trial 88 finished with value: 0.9121443668752751 and parameters: {'bootstrap_type': 'Bernoulli', 'learning_rate': 0.013132649634479548, 'depth': 6, 'l2_leaf_reg': 8.375985834923188, 'random_strength': 1.1586964515139293, 'rsm': 0.604083317155526, 'grow_policy': 'SymmetricTree', 'min_data_in_leaf': 30, 'leaf_estimation_iterations': 8, 'border_count': 223, 'subsample': 0.6847706304611012}. Best is trial 53 with value: 0.9134589572013542.\n"
     ]
    },
    {
     "name": "stderr",
     "output_type": "stream",
     "text": [
      "Best trial: 53. Best value: 0.913459:  30%|███       | 90/300 [4:35:46<6:37:42, 113.63s/it]"
     ]
    },
    {
     "name": "stdout",
     "output_type": "stream",
     "text": [
      "[I 2025-10-23 06:29:17,596] Trial 89 finished with value: 0.9105322043902601 and parameters: {'bootstrap_type': 'Bernoulli', 'learning_rate': 0.015113518930992415, 'depth': 6, 'l2_leaf_reg': 8.50238152412034, 'random_strength': 1.1489539215931452, 'rsm': 0.7366295333599046, 'grow_policy': 'SymmetricTree', 'min_data_in_leaf': 30, 'leaf_estimation_iterations': 7, 'border_count': 244, 'subsample': 0.6646431007694489}. Best is trial 53 with value: 0.9134589572013542.\n"
     ]
    },
    {
     "name": "stderr",
     "output_type": "stream",
     "text": [
      "Best trial: 53. Best value: 0.913459:  30%|███       | 91/300 [4:38:24<7:21:43, 126.81s/it]"
     ]
    },
    {
     "name": "stdout",
     "output_type": "stream",
     "text": [
      "[I 2025-10-23 06:31:55,162] Trial 90 finished with value: 0.9111552605181791 and parameters: {'bootstrap_type': 'Bernoulli', 'learning_rate': 0.013877419852404765, 'depth': 6, 'l2_leaf_reg': 8.909160468748992, 'random_strength': 0.9536767331140175, 'rsm': 0.8042787217640259, 'grow_policy': 'SymmetricTree', 'min_data_in_leaf': 26, 'leaf_estimation_iterations': 8, 'border_count': 236, 'subsample': 0.6852529260534981}. Best is trial 53 with value: 0.9134589572013542.\n"
     ]
    },
    {
     "name": "stderr",
     "output_type": "stream",
     "text": [
      "Best trial: 53. Best value: 0.913459:  31%|███       | 92/300 [4:40:08<6:56:25, 120.12s/it]"
     ]
    },
    {
     "name": "stdout",
     "output_type": "stream",
     "text": [
      "[I 2025-10-23 06:33:39,675] Trial 91 finished with value: 0.9115837559920731 and parameters: {'bootstrap_type': 'Bernoulli', 'learning_rate': 0.0131081610648039, 'depth': 6, 'l2_leaf_reg': 9.477748373037617, 'random_strength': 1.178081528572879, 'rsm': 0.5997455682595922, 'grow_policy': 'SymmetricTree', 'min_data_in_leaf': 33, 'leaf_estimation_iterations': 9, 'border_count': 199, 'subsample': 0.8213526431606528}. Best is trial 53 with value: 0.9134589572013542.\n"
     ]
    },
    {
     "name": "stderr",
     "output_type": "stream",
     "text": [
      "Best trial: 53. Best value: 0.913459:  31%|███       | 93/300 [4:42:22<7:08:54, 124.32s/it]"
     ]
    },
    {
     "name": "stdout",
     "output_type": "stream",
     "text": [
      "[I 2025-10-23 06:35:53,797] Trial 92 finished with value: 0.9113929667870087 and parameters: {'bootstrap_type': 'Bernoulli', 'learning_rate': 0.012147841113773282, 'depth': 6, 'l2_leaf_reg': 9.957716897394315, 'random_strength': 1.1633788295573448, 'rsm': 0.6001858948434785, 'grow_policy': 'SymmetricTree', 'min_data_in_leaf': 28, 'leaf_estimation_iterations': 8, 'border_count': 199, 'subsample': 0.8657492772988024}. Best is trial 53 with value: 0.9134589572013542.\n"
     ]
    },
    {
     "name": "stderr",
     "output_type": "stream",
     "text": [
      "Best trial: 53. Best value: 0.913459:  31%|███▏      | 94/300 [4:44:08<6:47:50, 118.79s/it]"
     ]
    },
    {
     "name": "stdout",
     "output_type": "stream",
     "text": [
      "[I 2025-10-23 06:37:39,682] Trial 93 finished with value: 0.9125177834154503 and parameters: {'bootstrap_type': 'Bernoulli', 'learning_rate': 0.01665215339529965, 'depth': 6, 'l2_leaf_reg': 9.312525869518295, 'random_strength': 1.056372217372784, 'rsm': 0.978500200215394, 'grow_policy': 'SymmetricTree', 'min_data_in_leaf': 33, 'leaf_estimation_iterations': 9, 'border_count': 204, 'subsample': 0.8115550578264341}. Best is trial 53 with value: 0.9134589572013542.\n"
     ]
    },
    {
     "name": "stderr",
     "output_type": "stream",
     "text": [
      "Best trial: 53. Best value: 0.913459:  32%|███▏      | 95/300 [4:45:45<6:23:54, 112.37s/it]"
     ]
    },
    {
     "name": "stdout",
     "output_type": "stream",
     "text": [
      "[I 2025-10-23 06:39:17,056] Trial 94 finished with value: 0.9113612788217171 and parameters: {'bootstrap_type': 'Bernoulli', 'learning_rate': 0.016690969020305656, 'depth': 6, 'l2_leaf_reg': 9.024136862268808, 'random_strength': 0.8737417573318056, 'rsm': 0.9719183152976573, 'grow_policy': 'SymmetricTree', 'min_data_in_leaf': 18, 'leaf_estimation_iterations': 8, 'border_count': 218, 'subsample': 0.7969747408227228}. Best is trial 53 with value: 0.9134589572013542.\n"
     ]
    },
    {
     "name": "stderr",
     "output_type": "stream",
     "text": [
      "Best trial: 53. Best value: 0.913459:  32%|███▏      | 96/300 [4:46:56<5:39:14, 99.78s/it] "
     ]
    },
    {
     "name": "stdout",
     "output_type": "stream",
     "text": [
      "[I 2025-10-23 06:40:27,458] Trial 95 finished with value: 0.91120134214942 and parameters: {'bootstrap_type': 'Bernoulli', 'learning_rate': 0.020756846442583566, 'depth': 5, 'l2_leaf_reg': 8.40381798209815, 'random_strength': 1.0301551995155418, 'rsm': 0.9971857255041779, 'grow_policy': 'SymmetricTree', 'min_data_in_leaf': 22, 'leaf_estimation_iterations': 7, 'border_count': 204, 'subsample': 0.7187690095816848}. Best is trial 53 with value: 0.9134589572013542.\n"
     ]
    },
    {
     "name": "stderr",
     "output_type": "stream",
     "text": [
      "Best trial: 53. Best value: 0.913459:  32%|███▏      | 97/300 [4:47:39<4:39:45, 82.69s/it]"
     ]
    },
    {
     "name": "stdout",
     "output_type": "stream",
     "text": [
      "[I 2025-10-23 06:41:10,270] Trial 96 finished with value: 0.9111822456416462 and parameters: {'bootstrap_type': 'Bernoulli', 'learning_rate': 0.07414144744875358, 'depth': 7, 'l2_leaf_reg': 7.511913497228287, 'random_strength': 1.0580432854337984, 'rsm': 0.9205853981790423, 'grow_policy': 'SymmetricTree', 'min_data_in_leaf': 25, 'leaf_estimation_iterations': 5, 'border_count': 188, 'subsample': 0.5443041424719243}. Best is trial 53 with value: 0.9134589572013542.\n"
     ]
    },
    {
     "name": "stderr",
     "output_type": "stream",
     "text": [
      "Best trial: 53. Best value: 0.913459:  33%|███▎      | 98/300 [4:49:54<5:31:36, 98.50s/it]"
     ]
    },
    {
     "name": "stdout",
     "output_type": "stream",
     "text": [
      "[I 2025-10-23 06:43:25,652] Trial 97 finished with value: 0.9108201351780192 and parameters: {'bootstrap_type': 'Bernoulli', 'learning_rate': 0.010631471713928281, 'depth': 6, 'l2_leaf_reg': 7.2334045602255665, 'random_strength': 1.1080970570431063, 'rsm': 0.9736754492314623, 'grow_policy': 'SymmetricTree', 'min_data_in_leaf': 27, 'leaf_estimation_iterations': 9, 'border_count': 193, 'subsample': 0.6387297401669485}. Best is trial 53 with value: 0.9134589572013542.\n"
     ]
    },
    {
     "name": "stderr",
     "output_type": "stream",
     "text": [
      "Best trial: 53. Best value: 0.913459:  33%|███▎      | 99/300 [4:52:15<6:12:28, 111.19s/it]"
     ]
    },
    {
     "name": "stdout",
     "output_type": "stream",
     "text": [
      "[I 2025-10-23 06:45:46,457] Trial 98 finished with value: 0.9120913829835318 and parameters: {'bootstrap_type': 'Bernoulli', 'learning_rate': 0.015478824993545763, 'depth': 6, 'l2_leaf_reg': 1.010573235430508, 'random_strength': 1.2911187679415619, 'rsm': 0.8913776258437072, 'grow_policy': 'SymmetricTree', 'min_data_in_leaf': 30, 'leaf_estimation_iterations': 6, 'border_count': 224, 'subsample': 0.7095170101632866}. Best is trial 53 with value: 0.9134589572013542.\n"
     ]
    },
    {
     "name": "stderr",
     "output_type": "stream",
     "text": [
      "Best trial: 53. Best value: 0.913459:  33%|███▎      | 100/300 [4:54:17<6:21:33, 114.47s/it]"
     ]
    },
    {
     "name": "stdout",
     "output_type": "stream",
     "text": [
      "[I 2025-10-23 06:47:48,578] Trial 99 finished with value: 0.9118237364492617 and parameters: {'bootstrap_type': 'Bernoulli', 'learning_rate': 0.014228258148091833, 'depth': 6, 'l2_leaf_reg': 1.0602984078655189, 'random_strength': 1.3019816058589129, 'rsm': 0.8876995244104611, 'grow_policy': 'SymmetricTree', 'min_data_in_leaf': 32, 'leaf_estimation_iterations': 7, 'border_count': 225, 'subsample': 0.7045351693956774}. Best is trial 53 with value: 0.9134589572013542.\n"
     ]
    },
    {
     "name": "stderr",
     "output_type": "stream",
     "text": [
      "Best trial: 53. Best value: 0.913459:  34%|███▎      | 101/300 [4:55:41<5:49:32, 105.39s/it]"
     ]
    },
    {
     "name": "stdout",
     "output_type": "stream",
     "text": [
      "[I 2025-10-23 06:49:12,788] Trial 100 finished with value: 0.9113938600453257 and parameters: {'bootstrap_type': 'Bernoulli', 'learning_rate': 0.015471003692291357, 'depth': 6, 'l2_leaf_reg': 1.1540641174409159, 'random_strength': 1.284673727046872, 'rsm': 0.5801590364629318, 'grow_policy': 'SymmetricTree', 'min_data_in_leaf': 35, 'leaf_estimation_iterations': 6, 'border_count': 230, 'subsample': 0.700523530476605}. Best is trial 53 with value: 0.9134589572013542.\n"
     ]
    },
    {
     "name": "stderr",
     "output_type": "stream",
     "text": [
      "Best trial: 53. Best value: 0.913459:  34%|███▍      | 102/300 [4:57:57<6:17:53, 114.52s/it]"
     ]
    },
    {
     "name": "stdout",
     "output_type": "stream",
     "text": [
      "[I 2025-10-23 06:51:28,592] Trial 101 finished with value: 0.9108621722050216 and parameters: {'bootstrap_type': 'Bernoulli', 'learning_rate': 0.01429630875082734, 'depth': 6, 'l2_leaf_reg': 1.0293652897569487, 'random_strength': 1.2224537405806775, 'rsm': 0.8932588317391281, 'grow_policy': 'SymmetricTree', 'min_data_in_leaf': 31, 'leaf_estimation_iterations': 6, 'border_count': 224, 'subsample': 0.6255171253083189}. Best is trial 53 with value: 0.9134589572013542.\n"
     ]
    },
    {
     "name": "stderr",
     "output_type": "stream",
     "text": [
      "Best trial: 53. Best value: 0.913459:  34%|███▍      | 103/300 [5:00:44<7:07:14, 130.12s/it]"
     ]
    },
    {
     "name": "stdout",
     "output_type": "stream",
     "text": [
      "[I 2025-10-23 06:54:15,137] Trial 102 finished with value: 0.9121059342775133 and parameters: {'bootstrap_type': 'Bernoulli', 'learning_rate': 0.012065523544736709, 'depth': 6, 'l2_leaf_reg': 1.6220710384351982, 'random_strength': 1.3443371640725488, 'rsm': 0.895459602841553, 'grow_policy': 'SymmetricTree', 'min_data_in_leaf': 34, 'leaf_estimation_iterations': 7, 'border_count': 223, 'subsample': 0.7194054379943398}. Best is trial 53 with value: 0.9134589572013542.\n"
     ]
    },
    {
     "name": "stderr",
     "output_type": "stream",
     "text": [
      "Best trial: 53. Best value: 0.913459:  35%|███▍      | 104/300 [5:02:45<6:56:38, 127.54s/it]"
     ]
    },
    {
     "name": "stdout",
     "output_type": "stream",
     "text": [
      "[I 2025-10-23 06:56:16,654] Trial 103 finished with value: 0.912632553425006 and parameters: {'bootstrap_type': 'Bernoulli', 'learning_rate': 0.011853550502685812, 'depth': 6, 'l2_leaf_reg': 1.5699689950145093, 'random_strength': 1.271801946889265, 'rsm': 0.8932800883832968, 'grow_policy': 'SymmetricTree', 'min_data_in_leaf': 34, 'leaf_estimation_iterations': 7, 'border_count': 242, 'subsample': 0.7184472175312154}. Best is trial 53 with value: 0.9134589572013542.\n"
     ]
    },
    {
     "name": "stderr",
     "output_type": "stream",
     "text": [
      "Best trial: 53. Best value: 0.913459:  35%|███▌      | 105/300 [5:05:14<7:15:01, 133.85s/it]"
     ]
    },
    {
     "name": "stdout",
     "output_type": "stream",
     "text": [
      "[I 2025-10-23 06:58:45,231] Trial 104 finished with value: 0.9121788956203709 and parameters: {'bootstrap_type': 'Bernoulli', 'learning_rate': 0.011735643542761484, 'depth': 6, 'l2_leaf_reg': 1.6421472085603928, 'random_strength': 1.3484274253962045, 'rsm': 0.8905279336447377, 'grow_policy': 'SymmetricTree', 'min_data_in_leaf': 31, 'leaf_estimation_iterations': 7, 'border_count': 241, 'subsample': 0.7173597695489983}. Best is trial 53 with value: 0.9134589572013542.\n"
     ]
    },
    {
     "name": "stderr",
     "output_type": "stream",
     "text": [
      "Best trial: 53. Best value: 0.913459:  35%|███▌      | 106/300 [5:08:07<7:50:43, 145.58s/it]"
     ]
    },
    {
     "name": "stdout",
     "output_type": "stream",
     "text": [
      "[I 2025-10-23 07:01:38,187] Trial 105 finished with value: 0.9106874894067364 and parameters: {'bootstrap_type': 'Bernoulli', 'learning_rate': 0.01193971108784989, 'depth': 6, 'l2_leaf_reg': 1.615231981200754, 'random_strength': 1.3436153212401638, 'rsm': 0.9247864376665836, 'grow_policy': 'Lossguide', 'min_data_in_leaf': 34, 'leaf_estimation_iterations': 7, 'border_count': 227, 'subsample': 0.7829475413607665}. Best is trial 53 with value: 0.9134589572013542.\n"
     ]
    },
    {
     "name": "stderr",
     "output_type": "stream",
     "text": [
      "Best trial: 53. Best value: 0.913459:  36%|███▌      | 107/300 [5:09:46<7:03:59, 131.81s/it]"
     ]
    },
    {
     "name": "stdout",
     "output_type": "stream",
     "text": [
      "[I 2025-10-23 07:03:17,857] Trial 106 finished with value: 0.9116602628145658 and parameters: {'bootstrap_type': 'Bernoulli', 'learning_rate': 0.010811584551302692, 'depth': 5, 'l2_leaf_reg': 1.8620801080529377, 'random_strength': 1.3837803406279179, 'rsm': 0.9462341889220657, 'grow_policy': 'SymmetricTree', 'min_data_in_leaf': 30, 'leaf_estimation_iterations': 6, 'border_count': 244, 'subsample': 0.7252131533842151}. Best is trial 53 with value: 0.9134589572013542.\n"
     ]
    },
    {
     "name": "stderr",
     "output_type": "stream",
     "text": [
      "Best trial: 53. Best value: 0.913459:  36%|███▌      | 108/300 [5:12:17<7:20:03, 137.52s/it]"
     ]
    },
    {
     "name": "stdout",
     "output_type": "stream",
     "text": [
      "[I 2025-10-23 07:05:48,695] Trial 107 finished with value: 0.9123695965255916 and parameters: {'bootstrap_type': 'Bernoulli', 'learning_rate': 0.011978024247398208, 'depth': 6, 'l2_leaf_reg': 2.064844038245306, 'random_strength': 1.454474617680628, 'rsm': 0.86689574227739, 'grow_policy': 'SymmetricTree', 'min_data_in_leaf': 37, 'leaf_estimation_iterations': 7, 'border_count': 251, 'subsample': 0.73246204243401}. Best is trial 53 with value: 0.9134589572013542.\n"
     ]
    },
    {
     "name": "stderr",
     "output_type": "stream",
     "text": [
      "Best trial: 53. Best value: 0.913459:  36%|███▋      | 109/300 [5:18:07<10:40:54, 201.33s/it]"
     ]
    },
    {
     "name": "stdout",
     "output_type": "stream",
     "text": [
      "[I 2025-10-23 07:11:38,931] Trial 108 finished with value: 0.9128111173537365 and parameters: {'bootstrap_type': 'Bernoulli', 'learning_rate': 0.011843553945003265, 'depth': 7, 'l2_leaf_reg': 1.9609461567578026, 'random_strength': 1.4520453462026848, 'rsm': 0.8778302025390071, 'grow_policy': 'SymmetricTree', 'min_data_in_leaf': 36, 'leaf_estimation_iterations': 6, 'border_count': 253, 'subsample': 0.7286882517861486}. Best is trial 53 with value: 0.9134589572013542.\n"
     ]
    },
    {
     "name": "stderr",
     "output_type": "stream",
     "text": [
      "Best trial: 53. Best value: 0.913459:  37%|███▋      | 110/300 [5:23:30<12:32:57, 237.78s/it]"
     ]
    },
    {
     "name": "stdout",
     "output_type": "stream",
     "text": [
      "[I 2025-10-23 07:17:01,744] Trial 109 finished with value: 0.9120634265037024 and parameters: {'bootstrap_type': 'Bernoulli', 'learning_rate': 0.010025117990582226, 'depth': 7, 'l2_leaf_reg': 2.0585341342876933, 'random_strength': 1.4585119935686344, 'rsm': 0.8648205432459289, 'grow_policy': 'SymmetricTree', 'min_data_in_leaf': 37, 'leaf_estimation_iterations': 7, 'border_count': 254, 'subsample': 0.7359591207184937}. Best is trial 53 with value: 0.9134589572013542.\n"
     ]
    },
    {
     "name": "stderr",
     "output_type": "stream",
     "text": [
      "Best trial: 53. Best value: 0.913459:  37%|███▋      | 111/300 [5:27:14<12:15:35, 233.52s/it]"
     ]
    },
    {
     "name": "stdout",
     "output_type": "stream",
     "text": [
      "[I 2025-10-23 07:20:45,329] Trial 110 finished with value: 0.9117036781803778 and parameters: {'bootstrap_type': 'Bernoulli', 'learning_rate': 0.011627571105877062, 'depth': 7, 'l2_leaf_reg': 1.9506785556154163, 'random_strength': 1.5336008849758629, 'rsm': 0.9110960591474085, 'grow_policy': 'SymmetricTree', 'min_data_in_leaf': 36, 'leaf_estimation_iterations': 7, 'border_count': 247, 'subsample': 0.6788784357336933}. Best is trial 53 with value: 0.9134589572013542.\n"
     ]
    },
    {
     "name": "stderr",
     "output_type": "stream",
     "text": [
      "Best trial: 53. Best value: 0.913459:  37%|███▋      | 112/300 [5:29:40<10:49:58, 207.44s/it]"
     ]
    },
    {
     "name": "stdout",
     "output_type": "stream",
     "text": [
      "[I 2025-10-23 07:23:11,914] Trial 111 finished with value: 0.9116045526747003 and parameters: {'bootstrap_type': 'Bernoulli', 'learning_rate': 0.012588844530627849, 'depth': 6, 'l2_leaf_reg': 2.2137553809599426, 'random_strength': 1.3606955388213204, 'rsm': 0.8996529298780579, 'grow_policy': 'SymmetricTree', 'min_data_in_leaf': 34, 'leaf_estimation_iterations': 6, 'border_count': 251, 'subsample': 0.718367579163551}. Best is trial 53 with value: 0.9134589572013542.\n"
     ]
    },
    {
     "name": "stderr",
     "output_type": "stream",
     "text": [
      "Best trial: 53. Best value: 0.913459:  38%|███▊      | 113/300 [6:13:49<48:49:33, 939.97s/it]"
     ]
    },
    {
     "name": "stdout",
     "output_type": "stream",
     "text": [
      "[I 2025-10-23 08:07:21,108] Trial 112 finished with value: 0.9118121741244165 and parameters: {'bootstrap_type': 'Bernoulli', 'learning_rate': 0.010662448356470055, 'depth': 7, 'l2_leaf_reg': 1.6809861315382846, 'random_strength': 1.419341069061869, 'rsm': 0.8404543031246222, 'grow_policy': 'SymmetricTree', 'min_data_in_leaf': 38, 'leaf_estimation_iterations': 6, 'border_count': 243, 'subsample': 0.7674697266319255}. Best is trial 53 with value: 0.9134589572013542.\n"
     ]
    },
    {
     "name": "stderr",
     "output_type": "stream",
     "text": [
      "Best trial: 53. Best value: 0.913459:  38%|███▊      | 114/300 [6:17:13<37:09:06, 719.07s/it]"
     ]
    },
    {
     "name": "stdout",
     "output_type": "stream",
     "text": [
      "[I 2025-10-23 08:10:44,751] Trial 113 finished with value: 0.9107191499344852 and parameters: {'bootstrap_type': 'Bernoulli', 'learning_rate': 0.013180363145596119, 'depth': 6, 'l2_leaf_reg': 1.397083561581695, 'random_strength': 1.6043339448722571, 'rsm': 0.8778543777774347, 'grow_policy': 'SymmetricTree', 'min_data_in_leaf': 31, 'leaf_estimation_iterations': 7, 'border_count': 248, 'subsample': 0.6934819243692184}. Best is trial 53 with value: 0.9134589572013542.\n"
     ]
    },
    {
     "name": "stderr",
     "output_type": "stream",
     "text": [
      "Best trial: 53. Best value: 0.913459:  38%|███▊      | 115/300 [6:21:01<29:22:19, 571.56s/it]"
     ]
    },
    {
     "name": "stdout",
     "output_type": "stream",
     "text": [
      "[I 2025-10-23 08:14:32,133] Trial 114 finished with value: 0.9108172734517472 and parameters: {'bootstrap_type': 'Bernoulli', 'learning_rate': 0.01184121925605337, 'depth': 7, 'l2_leaf_reg': 1.467748025251381, 'random_strength': 1.56776052298865, 'rsm': 0.8911874364911542, 'grow_policy': 'SymmetricTree', 'min_data_in_leaf': 29, 'leaf_estimation_iterations': 6, 'border_count': 237, 'subsample': 0.7347398862841817}. Best is trial 53 with value: 0.9134589572013542.\n"
     ]
    },
    {
     "name": "stderr",
     "output_type": "stream",
     "text": [
      "Best trial: 53. Best value: 0.913459:  39%|███▊      | 116/300 [6:23:29<22:43:26, 444.60s/it]"
     ]
    },
    {
     "name": "stdout",
     "output_type": "stream",
     "text": [
      "[I 2025-10-23 08:17:00,490] Trial 115 finished with value: 0.9114437189327215 and parameters: {'bootstrap_type': 'Bernoulli', 'learning_rate': 0.013532129772734693, 'depth': 6, 'l2_leaf_reg': 2.3171454266186253, 'random_strength': 1.4456872971425117, 'rsm': 0.8746474835448406, 'grow_policy': 'SymmetricTree', 'min_data_in_leaf': 36, 'leaf_estimation_iterations': 5, 'border_count': 252, 'subsample': 0.7993989160317507}. Best is trial 53 with value: 0.9134589572013542.\n"
     ]
    },
    {
     "name": "stderr",
     "output_type": "stream",
     "text": [
      "Best trial: 53. Best value: 0.913459:  39%|███▉      | 117/300 [6:26:58<19:01:01, 374.10s/it]"
     ]
    },
    {
     "name": "stdout",
     "output_type": "stream",
     "text": [
      "[I 2025-10-23 08:20:30,105] Trial 116 finished with value: 0.9120703692987975 and parameters: {'bootstrap_type': 'Bernoulli', 'learning_rate': 0.010785329787170303, 'depth': 6, 'l2_leaf_reg': 1.6620542018041393, 'random_strength': 1.3133427130355406, 'rsm': 0.883745055673801, 'grow_policy': 'SymmetricTree', 'min_data_in_leaf': 33, 'leaf_estimation_iterations': 7, 'border_count': 241, 'subsample': 0.7159131015828641}. Best is trial 53 with value: 0.9134589572013542.\n"
     ]
    },
    {
     "name": "stderr",
     "output_type": "stream",
     "text": [
      "Best trial: 53. Best value: 0.913459:  39%|███▉      | 118/300 [6:30:13<16:11:29, 320.27s/it]"
     ]
    },
    {
     "name": "stdout",
     "output_type": "stream",
     "text": [
      "[I 2025-10-23 08:23:44,773] Trial 117 finished with value: 0.9121231105299548 and parameters: {'bootstrap_type': 'Bernoulli', 'learning_rate': 0.01245624288776049, 'depth': 7, 'l2_leaf_reg': 1.2960574682881476, 'random_strength': 1.38855571857116, 'rsm': 0.8300412455388922, 'grow_policy': 'SymmetricTree', 'min_data_in_leaf': 40, 'leaf_estimation_iterations': 7, 'border_count': 234, 'subsample': 0.745393532054858}. Best is trial 53 with value: 0.9134589572013542.\n"
     ]
    },
    {
     "name": "stderr",
     "output_type": "stream",
     "text": [
      "Best trial: 53. Best value: 0.913459:  40%|███▉      | 119/300 [6:36:44<17:09:49, 341.38s/it]"
     ]
    },
    {
     "name": "stdout",
     "output_type": "stream",
     "text": [
      "[I 2025-10-23 08:30:15,386] Trial 118 finished with value: 0.9109323512478644 and parameters: {'bootstrap_type': 'Bernoulli', 'learning_rate': 0.012600064647507403, 'depth': 7, 'l2_leaf_reg': 2.121903716954406, 'random_strength': 1.6398043545837395, 'rsm': 0.8547856762112741, 'grow_policy': 'SymmetricTree', 'min_data_in_leaf': 41, 'leaf_estimation_iterations': 7, 'border_count': 248, 'subsample': 0.7536975610225147}. Best is trial 53 with value: 0.9134589572013542.\n"
     ]
    },
    {
     "name": "stderr",
     "output_type": "stream",
     "text": [
      "Best trial: 53. Best value: 0.913459:  40%|████      | 120/300 [6:42:06<16:47:12, 335.74s/it]"
     ]
    },
    {
     "name": "stdout",
     "output_type": "stream",
     "text": [
      "[I 2025-10-23 08:35:37,956] Trial 119 finished with value: 0.9124334811644692 and parameters: {'bootstrap_type': 'Bernoulli', 'learning_rate': 0.011266645454946845, 'depth': 7, 'l2_leaf_reg': 2.505359118686425, 'random_strength': 1.396218695907004, 'rsm': 0.8318688739591844, 'grow_policy': 'SymmetricTree', 'min_data_in_leaf': 38, 'leaf_estimation_iterations': 7, 'border_count': 235, 'subsample': 0.7758602927301604}. Best is trial 53 with value: 0.9134589572013542.\n"
     ]
    },
    {
     "name": "stderr",
     "output_type": "stream",
     "text": [
      "Best trial: 53. Best value: 0.913459:  40%|████      | 121/300 [6:45:27<14:40:21, 295.09s/it]"
     ]
    },
    {
     "name": "stdout",
     "output_type": "stream",
     "text": [
      "[I 2025-10-23 08:38:58,220] Trial 120 finished with value: 0.9085236418699487 and parameters: {'bootstrap_type': 'Bernoulli', 'learning_rate': 0.011261492234730589, 'depth': 7, 'l2_leaf_reg': 1.9049471704438783, 'random_strength': 1.403496569560365, 'rsm': 0.8332861400574294, 'grow_policy': 'Lossguide', 'min_data_in_leaf': 39, 'leaf_estimation_iterations': 7, 'border_count': 239, 'subsample': 0.7787467924856004}. Best is trial 53 with value: 0.9134589572013542.\n"
     ]
    },
    {
     "name": "stderr",
     "output_type": "stream",
     "text": [
      "Best trial: 53. Best value: 0.913459:  41%|████      | 122/300 [6:49:56<14:12:11, 287.25s/it]"
     ]
    },
    {
     "name": "stdout",
     "output_type": "stream",
     "text": [
      "[I 2025-10-23 08:43:27,180] Trial 121 finished with value: 0.912050874405404 and parameters: {'bootstrap_type': 'Bernoulli', 'learning_rate': 0.01192605006568965, 'depth': 7, 'l2_leaf_reg': 2.4949491059825633, 'random_strength': 1.3690937223126833, 'rsm': 0.8554572527694255, 'grow_policy': 'SymmetricTree', 'min_data_in_leaf': 37, 'leaf_estimation_iterations': 7, 'border_count': 236, 'subsample': 0.7423698450276142}. Best is trial 53 with value: 0.9134589572013542.\n"
     ]
    },
    {
     "name": "stderr",
     "output_type": "stream",
     "text": [
      "Best trial: 53. Best value: 0.913459:  41%|████      | 123/300 [6:54:13<13:41:14, 278.38s/it]"
     ]
    },
    {
     "name": "stdout",
     "output_type": "stream",
     "text": [
      "[I 2025-10-23 08:47:44,872] Trial 122 finished with value: 0.9115536079687458 and parameters: {'bootstrap_type': 'Bernoulli', 'learning_rate': 0.01317704542939891, 'depth': 7, 'l2_leaf_reg': 1.3269323353318827, 'random_strength': 1.5293473499962351, 'rsm': 0.8646008322127835, 'grow_policy': 'SymmetricTree', 'min_data_in_leaf': 45, 'leaf_estimation_iterations': 8, 'border_count': 255, 'subsample': 0.8257257218891388}. Best is trial 53 with value: 0.9134589572013542.\n"
     ]
    },
    {
     "name": "stderr",
     "output_type": "stream",
     "text": [
      "Best trial: 53. Best value: 0.913459:  41%|████▏     | 124/300 [6:58:39<13:25:46, 274.70s/it]"
     ]
    },
    {
     "name": "stdout",
     "output_type": "stream",
     "text": [
      "[I 2025-10-23 08:52:10,972] Trial 123 finished with value: 0.9118570919384585 and parameters: {'bootstrap_type': 'Bernoulli', 'learning_rate': 0.011517662311496984, 'depth': 7, 'l2_leaf_reg': 8.949602918819112, 'random_strength': 1.4558669373368205, 'rsm': 0.8236051966797784, 'grow_policy': 'SymmetricTree', 'min_data_in_leaf': 40, 'leaf_estimation_iterations': 7, 'border_count': 234, 'subsample': 0.7623554554204692}. Best is trial 53 with value: 0.9134589572013542.\n"
     ]
    },
    {
     "name": "stderr",
     "output_type": "stream",
     "text": [
      "Best trial: 53. Best value: 0.913459:  42%|████▏     | 125/300 [7:04:35<14:31:53, 298.94s/it]"
     ]
    },
    {
     "name": "stdout",
     "output_type": "stream",
     "text": [
      "[I 2025-10-23 08:58:06,460] Trial 124 finished with value: 0.9129935459815385 and parameters: {'bootstrap_type': 'Bernoulli', 'learning_rate': 0.010115338156702168, 'depth': 7, 'l2_leaf_reg': 2.6098062466813654, 'random_strength': 1.2199254514534843, 'rsm': 0.8402379969270654, 'grow_policy': 'SymmetricTree', 'min_data_in_leaf': 42, 'leaf_estimation_iterations': 7, 'border_count': 233, 'subsample': 0.6702654452760788}. Best is trial 53 with value: 0.9134589572013542.\n"
     ]
    },
    {
     "name": "stderr",
     "output_type": "stream",
     "text": [
      "Best trial: 53. Best value: 0.913459:  42%|████▏     | 126/300 [7:09:32<14:25:35, 298.48s/it]"
     ]
    },
    {
     "name": "stdout",
     "output_type": "stream",
     "text": [
      "[I 2025-10-23 09:03:03,879] Trial 125 finished with value: 0.9101233218725495 and parameters: {'bootstrap_type': 'Bernoulli', 'learning_rate': 0.010811663879532047, 'depth': 7, 'l2_leaf_reg': 2.9677238752055266, 'random_strength': 1.210523406388002, 'rsm': 0.8440286645583923, 'grow_policy': 'SymmetricTree', 'min_data_in_leaf': 42, 'leaf_estimation_iterations': 8, 'border_count': 233, 'subsample': 0.6610699700178205}. Best is trial 53 with value: 0.9134589572013542.\n"
     ]
    },
    {
     "name": "stderr",
     "output_type": "stream",
     "text": [
      "Best trial: 53. Best value: 0.913459:  42%|████▏     | 127/300 [7:10:49<11:08:59, 232.02s/it]"
     ]
    },
    {
     "name": "stdout",
     "output_type": "stream",
     "text": [
      "[I 2025-10-23 09:04:20,815] Trial 126 finished with value: 0.9101247154867536 and parameters: {'bootstrap_type': 'Bernoulli', 'learning_rate': 0.03905481064680351, 'depth': 7, 'l2_leaf_reg': 2.6473837437336076, 'random_strength': 1.2361270706960432, 'rsm': 0.8128006991674656, 'grow_policy': 'SymmetricTree', 'min_data_in_leaf': 46, 'leaf_estimation_iterations': 7, 'border_count': 240, 'subsample': 0.6772618084952229}. Best is trial 53 with value: 0.9134589572013542.\n"
     ]
    },
    {
     "name": "stderr",
     "output_type": "stream",
     "text": [
      "Best trial: 53. Best value: 0.913459:  43%|████▎     | 128/300 [7:14:54<11:15:46, 235.74s/it]"
     ]
    },
    {
     "name": "stdout",
     "output_type": "stream",
     "text": [
      "[I 2025-10-23 09:08:25,225] Trial 127 finished with value: 0.911698321675424 and parameters: {'bootstrap_type': 'Bernoulli', 'learning_rate': 0.010238546377629195, 'depth': 7, 'l2_leaf_reg': 3.5013561975000758, 'random_strength': 1.1340155435270924, 'rsm': 0.8700801547403632, 'grow_policy': 'SymmetricTree', 'min_data_in_leaf': 39, 'leaf_estimation_iterations': 6, 'border_count': 246, 'subsample': 0.6323624194628391}. Best is trial 53 with value: 0.9134589572013542.\n"
     ]
    },
    {
     "name": "stderr",
     "output_type": "stream",
     "text": [
      "Best trial: 53. Best value: 0.913459:  43%|████▎     | 129/300 [7:44:34<33:12:26, 699.10s/it]"
     ]
    },
    {
     "name": "stdout",
     "output_type": "stream",
     "text": [
      "[I 2025-10-23 09:38:05,522] Trial 128 finished with value: 0.9134504370829521 and parameters: {'bootstrap_type': 'Bernoulli', 'learning_rate': 0.01370706656064224, 'depth': 7, 'l2_leaf_reg': 2.2467092676495612, 'random_strength': 1.0761515080273942, 'rsm': 0.8213615471558182, 'grow_policy': 'SymmetricTree', 'min_data_in_leaf': 41, 'leaf_estimation_iterations': 10, 'border_count': 229, 'subsample': 0.8030761687820593}. Best is trial 53 with value: 0.9134589572013542.\n"
     ]
    },
    {
     "name": "stderr",
     "output_type": "stream",
     "text": [
      "Best trial: 53. Best value: 0.913459:  43%|████▎     | 130/300 [7:48:01<26:02:23, 551.43s/it]"
     ]
    },
    {
     "name": "stdout",
     "output_type": "stream",
     "text": [
      "[I 2025-10-23 09:41:32,389] Trial 129 finished with value: 0.9113679053922217 and parameters: {'bootstrap_type': 'Bernoulli', 'learning_rate': 0.012702528306416874, 'depth': 7, 'l2_leaf_reg': 2.3064331803116405, 'random_strength': 1.0766927905781016, 'rsm': 0.7971885683993822, 'grow_policy': 'SymmetricTree', 'min_data_in_leaf': 42, 'leaf_estimation_iterations': 10, 'border_count': 229, 'subsample': 0.8071595604180902}. Best is trial 53 with value: 0.9134589572013542.\n"
     ]
    },
    {
     "name": "stderr",
     "output_type": "stream",
     "text": [
      "Best trial: 53. Best value: 0.913459:  44%|████▎     | 131/300 [7:52:22<21:47:39, 464.26s/it]"
     ]
    },
    {
     "name": "stdout",
     "output_type": "stream",
     "text": [
      "[I 2025-10-23 09:45:53,235] Trial 130 finished with value: 0.9112854357857839 and parameters: {'bootstrap_type': 'Bernoulli', 'learning_rate': 0.010045685836615798, 'depth': 7, 'l2_leaf_reg': 3.1581474183904907, 'random_strength': 0.9173652671635467, 'rsm': 0.8306525886919923, 'grow_policy': 'SymmetricTree', 'min_data_in_leaf': 38, 'leaf_estimation_iterations': 10, 'border_count': 232, 'subsample': 0.846266499706272}. Best is trial 53 with value: 0.9134589572013542.\n"
     ]
    },
    {
     "name": "stderr",
     "output_type": "stream",
     "text": [
      "Best trial: 53. Best value: 0.913459:  44%|████▍     | 132/300 [7:55:11<17:32:10, 375.77s/it]"
     ]
    },
    {
     "name": "stdout",
     "output_type": "stream",
     "text": [
      "[I 2025-10-23 09:48:42,553] Trial 131 finished with value: 0.9120034031705657 and parameters: {'bootstrap_type': 'Bernoulli', 'learning_rate': 0.013992306065268384, 'depth': 7, 'l2_leaf_reg': 2.03369255503603, 'random_strength': 1.183461895307966, 'rsm': 0.8466098731555364, 'grow_policy': 'SymmetricTree', 'min_data_in_leaf': 44, 'leaf_estimation_iterations': 10, 'border_count': 242, 'subsample': 0.7802893393411648}. Best is trial 53 with value: 0.9134589572013542.\n"
     ]
    },
    {
     "name": "stderr",
     "output_type": "stream",
     "text": [
      "Best trial: 53. Best value: 0.913459:  44%|████▍     | 133/300 [8:01:07<17:09:11, 369.77s/it]"
     ]
    },
    {
     "name": "stdout",
     "output_type": "stream",
     "text": [
      "[I 2025-10-23 09:54:38,320] Trial 132 finished with value: 0.9121584884355292 and parameters: {'bootstrap_type': 'Bernoulli', 'learning_rate': 0.014847422482968877, 'depth': 8, 'l2_leaf_reg': 1.7860220296113303, 'random_strength': 0.9985133830173567, 'rsm': 0.861073469529814, 'grow_policy': 'SymmetricTree', 'min_data_in_leaf': 41, 'leaf_estimation_iterations': 7, 'border_count': 238, 'subsample': 0.7465194427896359}. Best is trial 53 with value: 0.9134589572013542.\n"
     ]
    },
    {
     "name": "stderr",
     "output_type": "stream",
     "text": [
      "Best trial: 53. Best value: 0.913459:  45%|████▍     | 134/300 [8:03:48<14:09:56, 307.21s/it]"
     ]
    },
    {
     "name": "stdout",
     "output_type": "stream",
     "text": [
      "[I 2025-10-23 09:57:19,554] Trial 133 finished with value: 0.9110046602141526 and parameters: {'bootstrap_type': 'Bernoulli', 'learning_rate': 0.014766726381488937, 'depth': 7, 'l2_leaf_reg': 1.8133829710743272, 'random_strength': 0.992599599623214, 'rsm': 0.8598605159240073, 'grow_policy': 'SymmetricTree', 'min_data_in_leaf': 41, 'leaf_estimation_iterations': 7, 'border_count': 237, 'subsample': 0.7490101916574282}. Best is trial 53 with value: 0.9134589572013542.\n"
     ]
    },
    {
     "name": "stderr",
     "output_type": "stream",
     "text": [
      "Best trial: 53. Best value: 0.913459:  45%|████▌     | 135/300 [8:10:34<15:26:26, 336.89s/it]"
     ]
    },
    {
     "name": "stdout",
     "output_type": "stream",
     "text": [
      "[I 2025-10-23 10:04:05,687] Trial 134 finished with value: 0.9120632504189842 and parameters: {'bootstrap_type': 'Bernoulli', 'learning_rate': 0.01103663482452199, 'depth': 8, 'l2_leaf_reg': 2.5970311768197814, 'random_strength': 1.1191328390144482, 'rsm': 0.7800619182561179, 'grow_policy': 'SymmetricTree', 'min_data_in_leaf': 36, 'leaf_estimation_iterations': 7, 'border_count': 239, 'subsample': 0.7718004804108931}. Best is trial 53 with value: 0.9134589572013542.\n"
     ]
    },
    {
     "name": "stderr",
     "output_type": "stream",
     "text": [
      "Best trial: 53. Best value: 0.913459:  45%|████▌     | 136/300 [8:14:02<13:34:41, 298.06s/it]"
     ]
    },
    {
     "name": "stdout",
     "output_type": "stream",
     "text": [
      "[I 2025-10-23 10:07:33,147] Trial 135 finished with value: 0.9117871508757227 and parameters: {'bootstrap_type': 'Bernoulli', 'learning_rate': 0.013317595005782817, 'depth': 7, 'l2_leaf_reg': 2.3856016177006647, 'random_strength': 1.4813200369635817, 'rsm': 0.8263150105218456, 'grow_policy': 'SymmetricTree', 'min_data_in_leaf': 43, 'leaf_estimation_iterations': 7, 'border_count': 250, 'subsample': 0.7355726638104804}. Best is trial 53 with value: 0.9134589572013542.\n"
     ]
    },
    {
     "name": "stderr",
     "output_type": "stream",
     "text": [
      "Best trial: 53. Best value: 0.913459:  46%|████▌     | 137/300 [8:23:47<17:24:20, 384.42s/it]"
     ]
    },
    {
     "name": "stdout",
     "output_type": "stream",
     "text": [
      "[I 2025-10-23 10:17:19,070] Trial 136 finished with value: 0.9096628870336361 and parameters: {'bootstrap_type': 'Bayesian', 'learning_rate': 0.012550182723522691, 'depth': 7, 'l2_leaf_reg': 9.17657601999544, 'random_strength': 0.6755482002458899, 'rsm': 0.8414056395995375, 'grow_policy': 'SymmetricTree', 'min_data_in_leaf': 39, 'leaf_estimation_iterations': 8, 'border_count': 233, 'bagging_temperature': 9.938167611626248}. Best is trial 53 with value: 0.9134589572013542.\n"
     ]
    },
    {
     "name": "stderr",
     "output_type": "stream",
     "text": [
      "Best trial: 53. Best value: 0.913459:  46%|████▌     | 138/300 [8:26:40<14:26:15, 320.83s/it]"
     ]
    },
    {
     "name": "stdout",
     "output_type": "stream",
     "text": [
      "[I 2025-10-23 10:20:11,540] Trial 137 finished with value: 0.9120450976563738 and parameters: {'bootstrap_type': 'Bernoulli', 'learning_rate': 0.011792243121504538, 'depth': 7, 'l2_leaf_reg': 8.655891411122324, 'random_strength': 0.1932078739592269, 'rsm': 0.8099735771452073, 'grow_policy': 'SymmetricTree', 'min_data_in_leaf': 40, 'leaf_estimation_iterations': 7, 'border_count': 246, 'subsample': 0.693798208355543}. Best is trial 53 with value: 0.9134589572013542.\n"
     ]
    },
    {
     "name": "stderr",
     "output_type": "stream",
     "text": [
      "Best trial: 53. Best value: 0.913459:  46%|████▋     | 139/300 [8:31:47<14:09:40, 316.65s/it]"
     ]
    },
    {
     "name": "stdout",
     "output_type": "stream",
     "text": [
      "[I 2025-10-23 10:25:18,414] Trial 138 finished with value: 0.9095421076706732 and parameters: {'bootstrap_type': 'Bernoulli', 'learning_rate': 0.015262688226423777, 'depth': 8, 'l2_leaf_reg': 9.712819803687573, 'random_strength': 0.7395050139440045, 'rsm': 0.8204319024657862, 'grow_policy': 'SymmetricTree', 'min_data_in_leaf': 35, 'leaf_estimation_iterations': 10, 'border_count': 229, 'subsample': 0.8086201166868542}. Best is trial 53 with value: 0.9134589572013542.\n"
     ]
    },
    {
     "name": "stderr",
     "output_type": "stream",
     "text": [
      "Best trial: 53. Best value: 0.913459:  47%|████▋     | 140/300 [8:34:46<12:14:36, 275.48s/it]"
     ]
    },
    {
     "name": "stdout",
     "output_type": "stream",
     "text": [
      "[I 2025-10-23 10:28:17,826] Trial 139 finished with value: 0.9118852572579063 and parameters: {'bootstrap_type': 'Bernoulli', 'learning_rate': 0.013898497486341076, 'depth': 7, 'l2_leaf_reg': 7.957593276112084, 'random_strength': 0.5787300671255853, 'rsm': 0.914231122244761, 'grow_policy': 'SymmetricTree', 'min_data_in_leaf': 37, 'leaf_estimation_iterations': 6, 'border_count': 235, 'subsample': 0.7556880432916715}. Best is trial 53 with value: 0.9134589572013542.\n"
     ]
    },
    {
     "name": "stderr",
     "output_type": "stream",
     "text": [
      "Best trial: 53. Best value: 0.913459:  47%|████▋     | 141/300 [8:40:52<13:21:28, 302.44s/it]"
     ]
    },
    {
     "name": "stdout",
     "output_type": "stream",
     "text": [
      "[I 2025-10-23 10:34:23,196] Trial 140 finished with value: 0.9099624579048179 and parameters: {'bootstrap_type': 'Bernoulli', 'learning_rate': 0.011389263254704773, 'depth': 8, 'l2_leaf_reg': 2.1640215230819475, 'random_strength': 1.3996798561126678, 'rsm': 0.8814871377523078, 'grow_policy': 'SymmetricTree', 'min_data_in_leaf': 33, 'leaf_estimation_iterations': 10, 'border_count': 238, 'subsample': 0.7872062237481529}. Best is trial 53 with value: 0.9134589572013542.\n"
     ]
    },
    {
     "name": "stderr",
     "output_type": "stream",
     "text": [
      "Best trial: 53. Best value: 0.913459:  47%|████▋     | 142/300 [8:44:04<11:49:19, 269.36s/it]"
     ]
    },
    {
     "name": "stdout",
     "output_type": "stream",
     "text": [
      "[I 2025-10-23 10:37:35,360] Trial 141 finished with value: 0.9114037302187892 and parameters: {'bootstrap_type': 'Bernoulli', 'learning_rate': 0.014118976443820472, 'depth': 8, 'l2_leaf_reg': 1.507982819986128, 'random_strength': 1.3337557653414707, 'rsm': 0.6311393373195732, 'grow_policy': 'SymmetricTree', 'min_data_in_leaf': 45, 'leaf_estimation_iterations': 7, 'border_count': 231, 'subsample': 0.6789631104271334}. Best is trial 53 with value: 0.9134589572013542.\n"
     ]
    },
    {
     "name": "stderr",
     "output_type": "stream",
     "text": [
      "Best trial: 53. Best value: 0.913459:  48%|████▊     | 143/300 [8:49:55<12:48:48, 293.81s/it]"
     ]
    },
    {
     "name": "stdout",
     "output_type": "stream",
     "text": [
      "[I 2025-10-23 10:43:26,235] Trial 142 finished with value: 0.9093074831358081 and parameters: {'bootstrap_type': 'Bernoulli', 'learning_rate': 0.01283264761111034, 'depth': 8, 'l2_leaf_reg': 1.7668380882592887, 'random_strength': 1.2543586478609041, 'rsm': 0.8499382138267123, 'grow_policy': 'SymmetricTree', 'min_data_in_leaf': 42, 'leaf_estimation_iterations': 8, 'border_count': 253, 'subsample': 0.6503575817634146}. Best is trial 53 with value: 0.9134589572013542.\n"
     ]
    },
    {
     "name": "stderr",
     "output_type": "stream",
     "text": [
      "Best trial: 53. Best value: 0.913459:  48%|████▊     | 144/300 [8:53:35<11:46:38, 271.79s/it]"
     ]
    },
    {
     "name": "stdout",
     "output_type": "stream",
     "text": [
      "[I 2025-10-23 10:47:06,627] Trial 143 finished with value: 0.9117810769006048 and parameters: {'bootstrap_type': 'Bernoulli', 'learning_rate': 0.012183564577648886, 'depth': 8, 'l2_leaf_reg': 1.286560395993965, 'random_strength': 1.075901149808855, 'rsm': 0.9045114471380034, 'grow_policy': 'SymmetricTree', 'min_data_in_leaf': 44, 'leaf_estimation_iterations': 10, 'border_count': 243, 'subsample': 0.7033465176163618}. Best is trial 53 with value: 0.9134589572013542.\n"
     ]
    },
    {
     "name": "stderr",
     "output_type": "stream",
     "text": [
      "Best trial: 53. Best value: 0.913459:  48%|████▊     | 145/300 [8:54:10<8:38:25, 200.68s/it] "
     ]
    },
    {
     "name": "stdout",
     "output_type": "stream",
     "text": [
      "[I 2025-10-23 10:47:41,391] Trial 144 finished with value: 0.9080137520848518 and parameters: {'bootstrap_type': 'Bernoulli', 'learning_rate': 0.1642444891677064, 'depth': 7, 'l2_leaf_reg': 1.9520230512466883, 'random_strength': 1.429761015078427, 'rsm': 0.8747857735421022, 'grow_policy': 'SymmetricTree', 'min_data_in_leaf': 40, 'leaf_estimation_iterations': 7, 'border_count': 192, 'subsample': 0.8527686656992607}. Best is trial 53 with value: 0.9134589572013542.\n"
     ]
    },
    {
     "name": "stderr",
     "output_type": "stream",
     "text": [
      "Best trial: 53. Best value: 0.913459:  49%|████▊     | 146/300 [8:58:47<9:33:48, 223.56s/it]"
     ]
    },
    {
     "name": "stdout",
     "output_type": "stream",
     "text": [
      "[I 2025-10-23 10:52:18,342] Trial 145 finished with value: 0.9074001817123746 and parameters: {'bootstrap_type': 'Bayesian', 'learning_rate': 0.014711814437248021, 'depth': 8, 'l2_leaf_reg': 2.8094365416929876, 'random_strength': 1.0159700339698128, 'rsm': 0.8346454153309474, 'grow_policy': 'SymmetricTree', 'min_data_in_leaf': 46, 'leaf_estimation_iterations': 9, 'border_count': 130, 'bagging_temperature': 3.2947368035949567}. Best is trial 53 with value: 0.9134589572013542.\n"
     ]
    },
    {
     "name": "stderr",
     "output_type": "stream",
     "text": [
      "Best trial: 53. Best value: 0.913459:  49%|████▉     | 147/300 [9:00:34<8:01:14, 188.72s/it]"
     ]
    },
    {
     "name": "stdout",
     "output_type": "stream",
     "text": [
      "[I 2025-10-23 10:54:05,775] Trial 146 finished with value: 0.9123101801978379 and parameters: {'bootstrap_type': 'Bernoulli', 'learning_rate': 0.017892992947363205, 'depth': 7, 'l2_leaf_reg': 2.4713092055262105, 'random_strength': 1.3156671708121488, 'rsm': 0.6168052684010394, 'grow_policy': 'SymmetricTree', 'min_data_in_leaf': 31, 'leaf_estimation_iterations': 8, 'border_count': 195, 'subsample': 0.7314998179293719}. Best is trial 53 with value: 0.9134589572013542.\n"
     ]
    },
    {
     "name": "stderr",
     "output_type": "stream",
     "text": [
      "Best trial: 53. Best value: 0.913459:  49%|████▉     | 148/300 [9:01:51<6:32:47, 155.05s/it]"
     ]
    },
    {
     "name": "stdout",
     "output_type": "stream",
     "text": [
      "[I 2025-10-23 10:55:22,259] Trial 147 finished with value: 0.9107365382486818 and parameters: {'bootstrap_type': 'Bernoulli', 'learning_rate': 0.01694769438456377, 'depth': 7, 'l2_leaf_reg': 2.3707257735428495, 'random_strength': 1.1898155151479717, 'rsm': 0.9405669259779095, 'grow_policy': 'SymmetricTree', 'min_data_in_leaf': 31, 'leaf_estimation_iterations': 8, 'border_count': 137, 'subsample': 0.7331075256833262}. Best is trial 53 with value: 0.9134589572013542.\n"
     ]
    },
    {
     "name": "stderr",
     "output_type": "stream",
     "text": [
      "Best trial: 53. Best value: 0.913459:  50%|████▉     | 149/300 [9:02:55<5:21:55, 127.92s/it]"
     ]
    },
    {
     "name": "stdout",
     "output_type": "stream",
     "text": [
      "[I 2025-10-23 10:56:26,859] Trial 148 finished with value: 0.9092074580731437 and parameters: {'bootstrap_type': 'Bernoulli', 'learning_rate': 0.015773962773772514, 'depth': 7, 'l2_leaf_reg': 3.02025199707699, 'random_strength': 0.08457709794680679, 'rsm': 0.6098140543151256, 'grow_policy': 'Lossguide', 'min_data_in_leaf': 32, 'leaf_estimation_iterations': 7, 'border_count': 250, 'subsample': 0.7226931322990747}. Best is trial 53 with value: 0.9134589572013542.\n"
     ]
    },
    {
     "name": "stderr",
     "output_type": "stream",
     "text": [
      "Best trial: 53. Best value: 0.913459:  50%|█████     | 150/300 [9:03:56<4:29:41, 107.88s/it]"
     ]
    },
    {
     "name": "stdout",
     "output_type": "stream",
     "text": [
      "[I 2025-10-23 10:57:27,982] Trial 149 finished with value: 0.9109259568628646 and parameters: {'bootstrap_type': 'Bernoulli', 'learning_rate': 0.05157995336085425, 'depth': 7, 'l2_leaf_reg': 2.6442287428770443, 'random_strength': 1.2695802435811623, 'rsm': 0.8617713282009506, 'grow_policy': 'SymmetricTree', 'min_data_in_leaf': 35, 'leaf_estimation_iterations': 8, 'border_count': 241, 'subsample': 0.7469041240189828}. Best is trial 53 with value: 0.9134589572013542.\n"
     ]
    },
    {
     "name": "stderr",
     "output_type": "stream",
     "text": [
      "Best trial: 53. Best value: 0.913459:  50%|█████     | 151/300 [9:08:18<6:22:18, 153.95s/it]"
     ]
    },
    {
     "name": "stdout",
     "output_type": "stream",
     "text": [
      "[I 2025-10-23 11:01:49,425] Trial 150 finished with value: 0.9111741260878077 and parameters: {'bootstrap_type': 'Bernoulli', 'learning_rate': 0.010752629015540725, 'depth': 7, 'l2_leaf_reg': 2.1071246448223415, 'random_strength': 1.5686378467973707, 'rsm': 0.8032334752360158, 'grow_policy': 'SymmetricTree', 'min_data_in_leaf': 28, 'leaf_estimation_iterations': 7, 'border_count': 228, 'subsample': 0.7111200483550469}. Best is trial 53 with value: 0.9134589572013542.\n"
     ]
    },
    {
     "name": "stderr",
     "output_type": "stream",
     "text": [
      "Best trial: 53. Best value: 0.913459:  51%|█████     | 152/300 [9:10:03<5:43:34, 139.29s/it]"
     ]
    },
    {
     "name": "stdout",
     "output_type": "stream",
     "text": [
      "[I 2025-10-23 11:03:34,502] Trial 151 finished with value: 0.9114055575387545 and parameters: {'bootstrap_type': 'Bernoulli', 'learning_rate': 0.017578820438811735, 'depth': 7, 'l2_leaf_reg': 1.526561620510234, 'random_strength': 1.3269019685746595, 'rsm': 0.6234606442165969, 'grow_policy': 'SymmetricTree', 'min_data_in_leaf': 38, 'leaf_estimation_iterations': 10, 'border_count': 194, 'subsample': 0.8169241975558258}. Best is trial 53 with value: 0.9134589572013542.\n"
     ]
    },
    {
     "name": "stderr",
     "output_type": "stream",
     "text": [
      "Best trial: 53. Best value: 0.913459:  51%|█████     | 153/300 [9:12:12<5:33:57, 136.31s/it]"
     ]
    },
    {
     "name": "stdout",
     "output_type": "stream",
     "text": [
      "[I 2025-10-23 11:05:43,873] Trial 152 finished with value: 0.912112335866377 and parameters: {'bootstrap_type': 'Bernoulli', 'learning_rate': 0.013439443759814037, 'depth': 6, 'l2_leaf_reg': 1.7140771041446592, 'random_strength': 1.3634441764928906, 'rsm': 0.5913616484396569, 'grow_policy': 'SymmetricTree', 'min_data_in_leaf': 42, 'leaf_estimation_iterations': 9, 'border_count': 196, 'subsample': 0.7652171875564036}. Best is trial 53 with value: 0.9134589572013542.\n"
     ]
    },
    {
     "name": "stderr",
     "output_type": "stream",
     "text": [
      "Best trial: 53. Best value: 0.913459:  51%|█████▏    | 154/300 [9:15:45<6:27:43, 159.34s/it]"
     ]
    },
    {
     "name": "stdout",
     "output_type": "stream",
     "text": [
      "[I 2025-10-23 11:09:16,941] Trial 153 finished with value: 0.9120764081336225 and parameters: {'bootstrap_type': 'Bernoulli', 'learning_rate': 0.018957795050864694, 'depth': 8, 'l2_leaf_reg': 2.4552021259327286, 'random_strength': 1.3074612091056241, 'rsm': 0.8700207615723503, 'grow_policy': 'SymmetricTree', 'min_data_in_leaf': 43, 'leaf_estimation_iterations': 8, 'border_count': 188, 'subsample': 0.7921189562708553}. Best is trial 53 with value: 0.9134589572013542.\n"
     ]
    },
    {
     "name": "stderr",
     "output_type": "stream",
     "text": [
      "Best trial: 53. Best value: 0.913459:  52%|█████▏    | 155/300 [9:17:41<5:53:23, 146.23s/it]"
     ]
    },
    {
     "name": "stdout",
     "output_type": "stream",
     "text": [
      "[I 2025-10-23 11:11:12,593] Trial 154 finished with value: 0.9117292242159327 and parameters: {'bootstrap_type': 'Bernoulli', 'learning_rate': 0.012293519257090647, 'depth': 6, 'l2_leaf_reg': 1.9163699875285403, 'random_strength': 1.3994993859150193, 'rsm': 0.6462496744893779, 'grow_policy': 'SymmetricTree', 'min_data_in_leaf': 34, 'leaf_estimation_iterations': 10, 'border_count': 245, 'subsample': 0.6870283865810657}. Best is trial 53 with value: 0.9134589572013542.\n"
     ]
    },
    {
     "name": "stderr",
     "output_type": "stream",
     "text": [
      "Best trial: 53. Best value: 0.913459:  52%|█████▏    | 156/300 [9:20:43<6:17:00, 157.09s/it]"
     ]
    },
    {
     "name": "stdout",
     "output_type": "stream",
     "text": [
      "[I 2025-10-23 11:14:15,011] Trial 155 finished with value: 0.9114985172437167 and parameters: {'bootstrap_type': 'Bernoulli', 'learning_rate': 0.011465710311278547, 'depth': 7, 'l2_leaf_reg': 1.2190107686649467, 'random_strength': 0.4190402573271589, 'rsm': 0.6096960828081175, 'grow_policy': 'SymmetricTree', 'min_data_in_leaf': 29, 'leaf_estimation_iterations': 9, 'border_count': 199, 'subsample': 0.6120036622535353}. Best is trial 53 with value: 0.9134589572013542.\n"
     ]
    },
    {
     "name": "stderr",
     "output_type": "stream",
     "text": [
      "Best trial: 53. Best value: 0.913459:  52%|█████▏    | 157/300 [9:22:53<5:54:45, 148.85s/it]"
     ]
    },
    {
     "name": "stdout",
     "output_type": "stream",
     "text": [
      "[I 2025-10-23 11:16:24,649] Trial 156 finished with value: 0.9120097055375623 and parameters: {'bootstrap_type': 'Bernoulli', 'learning_rate': 0.014871756938512089, 'depth': 6, 'l2_leaf_reg': 2.2395277520279397, 'random_strength': 1.2374150359742833, 'rsm': 0.9602314592543629, 'grow_policy': 'SymmetricTree', 'min_data_in_leaf': 37, 'leaf_estimation_iterations': 6, 'border_count': 236, 'subsample': 0.7301888277941341}. Best is trial 53 with value: 0.9134589572013542.\n"
     ]
    },
    {
     "name": "stderr",
     "output_type": "stream",
     "text": [
      "Best trial: 53. Best value: 0.913459:  53%|█████▎    | 158/300 [9:25:27<5:55:59, 150.42s/it]"
     ]
    },
    {
     "name": "stdout",
     "output_type": "stream",
     "text": [
      "[I 2025-10-23 11:18:58,733] Trial 157 finished with value: 0.9106120623757629 and parameters: {'bootstrap_type': 'Bernoulli', 'learning_rate': 0.013483660222905548, 'depth': 7, 'l2_leaf_reg': 1.5936699559091922, 'random_strength': 1.5048128620236056, 'rsm': 0.6360152777918986, 'grow_policy': 'SymmetricTree', 'min_data_in_leaf': 47, 'leaf_estimation_iterations': 7, 'border_count': 191, 'subsample': 0.6719323655153822}. Best is trial 53 with value: 0.9134589572013542.\n"
     ]
    },
    {
     "name": "stderr",
     "output_type": "stream",
     "text": [
      "Best trial: 53. Best value: 0.913459:  53%|█████▎    | 159/300 [9:30:31<7:41:24, 196.34s/it]"
     ]
    },
    {
     "name": "stdout",
     "output_type": "stream",
     "text": [
      "[I 2025-10-23 11:24:02,218] Trial 158 finished with value: 0.9096815687417461 and parameters: {'bootstrap_type': 'Bernoulli', 'learning_rate': 0.016037356633238093, 'depth': 8, 'l2_leaf_reg': 4.979860222685669, 'random_strength': 1.1540498092641311, 'rsm': 0.8176232311335697, 'grow_policy': 'SymmetricTree', 'min_data_in_leaf': 36, 'leaf_estimation_iterations': 7, 'border_count': 234, 'subsample': 0.702781234458036}. Best is trial 53 with value: 0.9134589572013542.\n"
     ]
    },
    {
     "name": "stderr",
     "output_type": "stream",
     "text": [
      "Best trial: 53. Best value: 0.913459:  53%|█████▎    | 160/300 [9:32:47<6:56:27, 178.48s/it]"
     ]
    },
    {
     "name": "stdout",
     "output_type": "stream",
     "text": [
      "[I 2025-10-23 11:26:19,033] Trial 159 finished with value: 0.912499160217264 and parameters: {'bootstrap_type': 'Bernoulli', 'learning_rate': 0.012911137428527513, 'depth': 7, 'l2_leaf_reg': 1.8910203951620543, 'random_strength': 1.448956632700995, 'rsm': 0.9279265481287683, 'grow_policy': 'SymmetricTree', 'min_data_in_leaf': 39, 'leaf_estimation_iterations': 10, 'border_count': 196, 'subsample': 0.8861855090974814}. Best is trial 53 with value: 0.9134589572013542.\n"
     ]
    },
    {
     "name": "stderr",
     "output_type": "stream",
     "text": [
      "Best trial: 53. Best value: 0.913459:  54%|█████▎    | 161/300 [9:35:50<6:56:36, 179.83s/it]"
     ]
    },
    {
     "name": "stdout",
     "output_type": "stream",
     "text": [
      "[I 2025-10-23 11:29:22,018] Trial 160 finished with value: 0.9126547901582774 and parameters: {'bootstrap_type': 'Bernoulli', 'learning_rate': 0.012800181589840115, 'depth': 7, 'l2_leaf_reg': 2.0986976386337117, 'random_strength': 1.4656672293097222, 'rsm': 0.9315955368354226, 'grow_policy': 'SymmetricTree', 'min_data_in_leaf': 39, 'leaf_estimation_iterations': 10, 'border_count': 196, 'subsample': 0.908688197097679}. Best is trial 53 with value: 0.9134589572013542.\n"
     ]
    },
    {
     "name": "stderr",
     "output_type": "stream",
     "text": [
      "Best trial: 53. Best value: 0.913459:  54%|█████▍    | 162/300 [9:39:29<7:20:39, 191.59s/it]"
     ]
    },
    {
     "name": "stdout",
     "output_type": "stream",
     "text": [
      "[I 2025-10-23 11:33:01,044] Trial 161 finished with value: 0.911625678396006 and parameters: {'bootstrap_type': 'Bernoulli', 'learning_rate': 0.012899663340138071, 'depth': 7, 'l2_leaf_reg': 2.0898639192946313, 'random_strength': 1.472215778324677, 'rsm': 0.9296154761908348, 'grow_policy': 'SymmetricTree', 'min_data_in_leaf': 39, 'leaf_estimation_iterations': 10, 'border_count': 196, 'subsample': 0.9133526100785077}. Best is trial 53 with value: 0.9134589572013542.\n"
     ]
    },
    {
     "name": "stderr",
     "output_type": "stream",
     "text": [
      "Best trial: 53. Best value: 0.913459:  54%|█████▍    | 163/300 [9:42:45<7:20:03, 192.73s/it]"
     ]
    },
    {
     "name": "stdout",
     "output_type": "stream",
     "text": [
      "[I 2025-10-23 11:36:16,430] Trial 162 finished with value: 0.9117070450351857 and parameters: {'bootstrap_type': 'Bernoulli', 'learning_rate': 0.011903253940939275, 'depth': 7, 'l2_leaf_reg': 2.5227329637637053, 'random_strength': 1.5294239944722827, 'rsm': 0.9056654349945874, 'grow_policy': 'SymmetricTree', 'min_data_in_leaf': 40, 'leaf_estimation_iterations': 10, 'border_count': 200, 'subsample': 0.8909741712811672}. Best is trial 53 with value: 0.9134589572013542.\n"
     ]
    },
    {
     "name": "stderr",
     "output_type": "stream",
     "text": [
      "Best trial: 53. Best value: 0.913459:  55%|█████▍    | 164/300 [9:47:22<8:14:10, 218.02s/it]"
     ]
    },
    {
     "name": "stdout",
     "output_type": "stream",
     "text": [
      "[I 2025-10-23 11:40:53,446] Trial 163 finished with value: 0.9103714504867992 and parameters: {'bootstrap_type': 'Bernoulli', 'learning_rate': 0.010560099392883283, 'depth': 7, 'l2_leaf_reg': 1.9174224247803862, 'random_strength': 1.4263140376236052, 'rsm': 0.9194370513138916, 'grow_policy': 'SymmetricTree', 'min_data_in_leaf': 41, 'leaf_estimation_iterations': 10, 'border_count': 202, 'subsample': 0.9332831741960845}. Best is trial 53 with value: 0.9134589572013542.\n"
     ]
    },
    {
     "name": "stderr",
     "output_type": "stream",
     "text": [
      "Best trial: 53. Best value: 0.913459:  55%|█████▌    | 165/300 [9:50:35<7:53:59, 210.66s/it]"
     ]
    },
    {
     "name": "stdout",
     "output_type": "stream",
     "text": [
      "[I 2025-10-23 11:44:06,950] Trial 164 finished with value: 0.9121928358829064 and parameters: {'bootstrap_type': 'Bernoulli', 'learning_rate': 0.01242605034176037, 'depth': 7, 'l2_leaf_reg': 2.1893484210433924, 'random_strength': 1.3643105349264137, 'rsm': 0.8878044695204989, 'grow_policy': 'SymmetricTree', 'min_data_in_leaf': 38, 'leaf_estimation_iterations': 10, 'border_count': 198, 'subsample': 0.9979506681760456}. Best is trial 53 with value: 0.9134589572013542.\n"
     ]
    },
    {
     "name": "stderr",
     "output_type": "stream",
     "text": [
      "Best trial: 53. Best value: 0.913459:  55%|█████▌    | 166/300 [10:50:36<45:41:48, 1227.67s/it]"
     ]
    },
    {
     "name": "stdout",
     "output_type": "stream",
     "text": [
      "[I 2025-10-23 12:44:07,652] Trial 165 finished with value: 0.9118360425276874 and parameters: {'bootstrap_type': 'Bernoulli', 'learning_rate': 0.011413703727627268, 'depth': 7, 'l2_leaf_reg': 2.2408983289777105, 'random_strength': 1.4598616251968617, 'rsm': 0.8846489526414598, 'grow_policy': 'SymmetricTree', 'min_data_in_leaf': 38, 'leaf_estimation_iterations': 10, 'border_count': 198, 'subsample': 0.9426411812813846}. Best is trial 53 with value: 0.9134589572013542.\n"
     ]
    },
    {
     "name": "stderr",
     "output_type": "stream",
     "text": [
      "Best trial: 166. Best value: 0.913481:  56%|█████▌    | 167/300 [11:02:47<39:50:45, 1078.53s/it]"
     ]
    },
    {
     "name": "stdout",
     "output_type": "stream",
     "text": [
      "[I 2025-10-23 12:56:18,195] Trial 166 finished with value: 0.91348079741901 and parameters: {'bootstrap_type': 'Bernoulli', 'learning_rate': 0.014037365162760896, 'depth': 7, 'l2_leaf_reg': 2.023988484329167, 'random_strength': 1.6045592527655719, 'rsm': 0.8961258820754674, 'grow_policy': 'SymmetricTree', 'min_data_in_leaf': 33, 'leaf_estimation_iterations': 10, 'border_count': 194, 'subsample': 0.998862897480944}. Best is trial 166 with value: 0.91348079741901.\n"
     ]
    },
    {
     "name": "stderr",
     "output_type": "stream",
     "text": [
      "Best trial: 166. Best value: 0.913481:  56%|█████▌    | 168/300 [11:05:35<29:32:09, 805.52s/it] "
     ]
    },
    {
     "name": "stdout",
     "output_type": "stream",
     "text": [
      "[I 2025-10-23 12:59:06,697] Trial 167 finished with value: 0.9115923178326215 and parameters: {'bootstrap_type': 'Bernoulli', 'learning_rate': 0.014095846770197873, 'depth': 7, 'l2_leaf_reg': 2.7810599124086406, 'random_strength': 1.6712813045134678, 'rsm': 0.89941818537854, 'grow_policy': 'SymmetricTree', 'min_data_in_leaf': 35, 'leaf_estimation_iterations': 10, 'border_count': 195, 'subsample': 0.9975872922444574}. Best is trial 166 with value: 0.91348079741901.\n"
     ]
    },
    {
     "name": "stderr",
     "output_type": "stream",
     "text": [
      "Best trial: 166. Best value: 0.913481:  56%|█████▋    | 169/300 [11:08:25<22:22:05, 614.70s/it]"
     ]
    },
    {
     "name": "stdout",
     "output_type": "stream",
     "text": [
      "[I 2025-10-23 13:01:56,134] Trial 168 finished with value: 0.9121837354783102 and parameters: {'bootstrap_type': 'Bernoulli', 'learning_rate': 0.014976383944047284, 'depth': 7, 'l2_leaf_reg': 2.4036197681725837, 'random_strength': 1.5936527970841605, 'rsm': 0.9384564445627676, 'grow_policy': 'SymmetricTree', 'min_data_in_leaf': 36, 'leaf_estimation_iterations': 10, 'border_count': 203, 'subsample': 0.977549165988426}. Best is trial 166 with value: 0.91348079741901.\n"
     ]
    },
    {
     "name": "stderr",
     "output_type": "stream",
     "text": [
      "Best trial: 166. Best value: 0.913481:  57%|█████▋    | 170/300 [11:13:06<18:35:11, 514.71s/it]"
     ]
    },
    {
     "name": "stdout",
     "output_type": "stream",
     "text": [
      "[I 2025-10-23 13:06:37,524] Trial 169 finished with value: 0.9103694611425244 and parameters: {'bootstrap_type': 'Bernoulli', 'learning_rate': 0.011190890030476507, 'depth': 7, 'l2_leaf_reg': 2.397218786944043, 'random_strength': 1.5909408900998072, 'rsm': 0.9334949828871558, 'grow_policy': 'Depthwise', 'min_data_in_leaf': 32, 'leaf_estimation_iterations': 10, 'border_count': 205, 'subsample': 0.9778882067750456}. Best is trial 166 with value: 0.91348079741901.\n"
     ]
    },
    {
     "name": "stderr",
     "output_type": "stream",
     "text": [
      "Best trial: 166. Best value: 0.913481:  57%|█████▋    | 171/300 [11:16:02<14:48:14, 413.13s/it]"
     ]
    },
    {
     "name": "stdout",
     "output_type": "stream",
     "text": [
      "[I 2025-10-23 13:09:33,653] Trial 170 finished with value: 0.9125196454083789 and parameters: {'bootstrap_type': 'Bernoulli', 'learning_rate': 0.017582426079921575, 'depth': 7, 'l2_leaf_reg': 3.346741322775139, 'random_strength': 1.6166867912520695, 'rsm': 0.9233055782191988, 'grow_policy': 'SymmetricTree', 'min_data_in_leaf': 36, 'leaf_estimation_iterations': 10, 'border_count': 190, 'subsample': 0.9717582130705826}. Best is trial 166 with value: 0.91348079741901.\n"
     ]
    },
    {
     "name": "stderr",
     "output_type": "stream",
     "text": [
      "Best trial: 166. Best value: 0.913481:  57%|█████▋    | 172/300 [11:18:51<12:05:09, 339.92s/it]"
     ]
    },
    {
     "name": "stdout",
     "output_type": "stream",
     "text": [
      "[I 2025-10-23 13:12:22,735] Trial 171 finished with value: 0.9105693480850494 and parameters: {'bootstrap_type': 'Bernoulli', 'learning_rate': 0.015917372243426094, 'depth': 7, 'l2_leaf_reg': 4.042716260419844, 'random_strength': 1.7200308528034345, 'rsm': 0.9457461845143479, 'grow_policy': 'SymmetricTree', 'min_data_in_leaf': 34, 'leaf_estimation_iterations': 10, 'border_count': 184, 'subsample': 0.9648847127260176}. Best is trial 166 with value: 0.91348079741901.\n"
     ]
    },
    {
     "name": "stderr",
     "output_type": "stream",
     "text": [
      "Best trial: 166. Best value: 0.913481:  58%|█████▊    | 173/300 [11:26:19<13:08:15, 372.41s/it]"
     ]
    },
    {
     "name": "stdout",
     "output_type": "stream",
     "text": [
      "[I 2025-10-23 13:19:50,948] Trial 172 finished with value: 0.9115754544774455 and parameters: {'bootstrap_type': 'Bernoulli', 'learning_rate': 0.010013496133505186, 'depth': 7, 'l2_leaf_reg': 3.3188468917945633, 'random_strength': 1.6273779811885796, 'rsm': 0.9219918977494845, 'grow_policy': 'SymmetricTree', 'min_data_in_leaf': 36, 'leaf_estimation_iterations': 10, 'border_count': 191, 'subsample': 0.9795764349457166}. Best is trial 166 with value: 0.91348079741901.\n"
     ]
    },
    {
     "name": "stderr",
     "output_type": "stream",
     "text": [
      "Best trial: 166. Best value: 0.913481:  58%|█████▊    | 174/300 [11:28:36<10:33:23, 301.62s/it]"
     ]
    },
    {
     "name": "stdout",
     "output_type": "stream",
     "text": [
      "[I 2025-10-23 13:22:07,390] Trial 173 finished with value: 0.9112299677661636 and parameters: {'bootstrap_type': 'Bernoulli', 'learning_rate': 0.018344628506645002, 'depth': 7, 'l2_leaf_reg': 2.7405120530285894, 'random_strength': 1.5533468067461864, 'rsm': 0.9083635418105105, 'grow_policy': 'SymmetricTree', 'min_data_in_leaf': 37, 'leaf_estimation_iterations': 10, 'border_count': 197, 'subsample': 0.9958956887416023}. Best is trial 166 with value: 0.91348079741901.\n"
     ]
    },
    {
     "name": "stderr",
     "output_type": "stream",
     "text": [
      "Best trial: 166. Best value: 0.913481:  58%|█████▊    | 175/300 [11:30:33<8:33:22, 246.42s/it] "
     ]
    },
    {
     "name": "stdout",
     "output_type": "stream",
     "text": [
      "[I 2025-10-23 13:24:05,008] Trial 174 finished with value: 0.9103741002556729 and parameters: {'bootstrap_type': 'Bernoulli', 'learning_rate': 0.017702425803824372, 'depth': 7, 'l2_leaf_reg': 2.158918360823387, 'random_strength': 1.6473664593200024, 'rsm': 0.9336412160947427, 'grow_policy': 'SymmetricTree', 'min_data_in_leaf': 35, 'leaf_estimation_iterations': 10, 'border_count': 188, 'subsample': 0.9695486214646717}. Best is trial 166 with value: 0.91348079741901.\n"
     ]
    },
    {
     "name": "stderr",
     "output_type": "stream",
     "text": [
      "Best trial: 166. Best value: 0.913481:  59%|█████▊    | 176/300 [11:33:40<7:52:02, 228.41s/it]"
     ]
    },
    {
     "name": "stdout",
     "output_type": "stream",
     "text": [
      "[I 2025-10-23 13:27:11,402] Trial 175 finished with value: 0.9115388320165184 and parameters: {'bootstrap_type': 'Bernoulli', 'learning_rate': 0.013716965676605238, 'depth': 7, 'l2_leaf_reg': 2.5516660915566542, 'random_strength': 1.497109913796918, 'rsm': 0.9539435419704783, 'grow_policy': 'SymmetricTree', 'min_data_in_leaf': 38, 'leaf_estimation_iterations': 10, 'border_count': 181, 'subsample': 0.9491949353796203}. Best is trial 166 with value: 0.91348079741901.\n"
     ]
    },
    {
     "name": "stderr",
     "output_type": "stream",
     "text": [
      "Best trial: 166. Best value: 0.913481:  59%|█████▉    | 177/300 [11:38:06<8:11:13, 239.62s/it]"
     ]
    },
    {
     "name": "stdout",
     "output_type": "stream",
     "text": [
      "[I 2025-10-23 13:31:37,166] Trial 176 finished with value: 0.9075223681103811 and parameters: {'bootstrap_type': 'Bayesian', 'learning_rate': 0.01676690800736937, 'depth': 7, 'l2_leaf_reg': 2.319083507205622, 'random_strength': 1.5899231933540579, 'rsm': 0.9131004010280537, 'grow_policy': 'SymmetricTree', 'min_data_in_leaf': 33, 'leaf_estimation_iterations': 10, 'border_count': 194, 'bagging_temperature': 6.865738446501619}. Best is trial 166 with value: 0.91348079741901.\n"
     ]
    },
    {
     "name": "stderr",
     "output_type": "stream",
     "text": [
      "Best trial: 166. Best value: 0.913481:  59%|█████▉    | 178/300 [11:46:00<10:30:29, 310.07s/it]"
     ]
    },
    {
     "name": "stdout",
     "output_type": "stream",
     "text": [
      "[I 2025-10-23 13:39:31,646] Trial 177 finished with value: 0.9130051428419859 and parameters: {'bootstrap_type': 'Bernoulli', 'learning_rate': 0.012539874334453919, 'depth': 7, 'l2_leaf_reg': 1.9389559429142245, 'random_strength': 1.5400632250599773, 'rsm': 0.8961441612900992, 'grow_policy': 'SymmetricTree', 'min_data_in_leaf': 39, 'leaf_estimation_iterations': 10, 'border_count': 201, 'subsample': 0.8912769458699588}. Best is trial 166 with value: 0.91348079741901.\n"
     ]
    },
    {
     "name": "stderr",
     "output_type": "stream",
     "text": [
      "Best trial: 166. Best value: 0.913481:  60%|█████▉    | 179/300 [11:48:22<8:43:21, 259.51s/it] "
     ]
    },
    {
     "name": "stdout",
     "output_type": "stream",
     "text": [
      "[I 2025-10-23 13:41:53,182] Trial 178 finished with value: 0.9128831310037404 and parameters: {'bootstrap_type': 'Bernoulli', 'learning_rate': 0.012918649761932093, 'depth': 7, 'l2_leaf_reg': 2.047449738963902, 'random_strength': 1.5479635908224454, 'rsm': 0.9820802838588072, 'grow_policy': 'SymmetricTree', 'min_data_in_leaf': 39, 'leaf_estimation_iterations': 10, 'border_count': 202, 'subsample': 0.9026827933035583}. Best is trial 166 with value: 0.91348079741901.\n"
     ]
    },
    {
     "name": "stderr",
     "output_type": "stream",
     "text": [
      "Best trial: 166. Best value: 0.913481:  60%|██████    | 180/300 [11:52:13<8:22:17, 251.15s/it]"
     ]
    },
    {
     "name": "stdout",
     "output_type": "stream",
     "text": [
      "[I 2025-10-23 13:45:44,808] Trial 179 finished with value: 0.909626511102835 and parameters: {'bootstrap_type': 'Bernoulli', 'learning_rate': 0.012705086757275295, 'depth': 7, 'l2_leaf_reg': 1.8529660811433137, 'random_strength': 1.5395933335737972, 'rsm': 0.8974811250597954, 'grow_policy': 'Lossguide', 'min_data_in_leaf': 39, 'leaf_estimation_iterations': 10, 'border_count': 201, 'subsample': 0.8998119488072834}. Best is trial 166 with value: 0.91348079741901.\n"
     ]
    },
    {
     "name": "stderr",
     "output_type": "stream",
     "text": [
      "Best trial: 166. Best value: 0.913481:  60%|██████    | 181/300 [11:55:41<7:52:32, 238.26s/it]"
     ]
    },
    {
     "name": "stdout",
     "output_type": "stream",
     "text": [
      "[I 2025-10-23 13:49:12,989] Trial 180 finished with value: 0.9104956654171235 and parameters: {'bootstrap_type': 'Bernoulli', 'learning_rate': 0.01228649006307917, 'depth': 7, 'l2_leaf_reg': 2.026816252138468, 'random_strength': 1.5128103364205954, 'rsm': 0.9998441294575063, 'grow_policy': 'SymmetricTree', 'min_data_in_leaf': 38, 'leaf_estimation_iterations': 10, 'border_count': 207, 'subsample': 0.8743299649703081}. Best is trial 166 with value: 0.91348079741901.\n"
     ]
    },
    {
     "name": "stderr",
     "output_type": "stream",
     "text": [
      "Best trial: 166. Best value: 0.913481:  61%|██████    | 182/300 [12:14:00<16:15:59, 496.27s/it]"
     ]
    },
    {
     "name": "stdout",
     "output_type": "stream",
     "text": [
      "[I 2025-10-23 14:07:31,286] Trial 181 finished with value: 0.912599104317974 and parameters: {'bootstrap_type': 'Bernoulli', 'learning_rate': 0.015033408947562967, 'depth': 7, 'l2_leaf_reg': 2.1634038331899434, 'random_strength': 1.5980802507458396, 'rsm': 0.9224623494327745, 'grow_policy': 'SymmetricTree', 'min_data_in_leaf': 37, 'leaf_estimation_iterations': 10, 'border_count': 203, 'subsample': 0.9187995307323964}. Best is trial 166 with value: 0.91348079741901.\n"
     ]
    },
    {
     "name": "stderr",
     "output_type": "stream",
     "text": [
      "Best trial: 182. Best value: 0.913776:  61%|██████    | 183/300 [12:17:36<13:23:40, 412.14s/it]"
     ]
    },
    {
     "name": "stdout",
     "output_type": "stream",
     "text": [
      "[I 2025-10-23 14:11:07,133] Trial 182 finished with value: 0.9137760678402584 and parameters: {'bootstrap_type': 'Bernoulli', 'learning_rate': 0.013479589376428751, 'depth': 7, 'l2_leaf_reg': 2.1344781637002246, 'random_strength': 1.6633405648010309, 'rsm': 0.9836297790399975, 'grow_policy': 'SymmetricTree', 'min_data_in_leaf': 37, 'leaf_estimation_iterations': 10, 'border_count': 198, 'subsample': 0.9182761009116077}. Best is trial 182 with value: 0.9137760678402584.\n"
     ]
    },
    {
     "name": "stderr",
     "output_type": "stream",
     "text": [
      "Best trial: 182. Best value: 0.913776:  61%|██████▏   | 184/300 [12:20:56<11:14:17, 348.77s/it]"
     ]
    },
    {
     "name": "stdout",
     "output_type": "stream",
     "text": [
      "[I 2025-10-23 14:14:28,032] Trial 183 finished with value: 0.9110027204044994 and parameters: {'bootstrap_type': 'Bernoulli', 'learning_rate': 0.014517049176373462, 'depth': 7, 'l2_leaf_reg': 2.0103433291213935, 'random_strength': 1.694386230968754, 'rsm': 0.9878440020508403, 'grow_policy': 'SymmetricTree', 'min_data_in_leaf': 36, 'leaf_estimation_iterations': 10, 'border_count': 193, 'subsample': 0.916265052253658}. Best is trial 182 with value: 0.9137760678402584.\n"
     ]
    },
    {
     "name": "stderr",
     "output_type": "stream",
     "text": [
      "Best trial: 182. Best value: 0.913776:  62%|██████▏   | 185/300 [12:24:50<10:02:02, 314.10s/it]"
     ]
    },
    {
     "name": "stdout",
     "output_type": "stream",
     "text": [
      "[I 2025-10-23 14:18:21,253] Trial 184 finished with value: 0.9114449325380041 and parameters: {'bootstrap_type': 'Bernoulli', 'learning_rate': 0.013762528368785444, 'depth': 7, 'l2_leaf_reg': 2.6205881585455515, 'random_strength': 1.6340052484670071, 'rsm': 0.9772676561396543, 'grow_policy': 'SymmetricTree', 'min_data_in_leaf': 39, 'leaf_estimation_iterations': 10, 'border_count': 204, 'subsample': 0.93054064894073}. Best is trial 182 with value: 0.9137760678402584.\n"
     ]
    },
    {
     "name": "stderr",
     "output_type": "stream",
     "text": [
      "Best trial: 182. Best value: 0.913776:  62%|██████▏   | 186/300 [12:27:51<8:41:03, 274.24s/it] "
     ]
    },
    {
     "name": "stdout",
     "output_type": "stream",
     "text": [
      "[I 2025-10-23 14:21:22,483] Trial 185 finished with value: 0.9109861731600712 and parameters: {'bootstrap_type': 'Bernoulli', 'learning_rate': 0.013119468582770182, 'depth': 7, 'l2_leaf_reg': 1.9778949324722808, 'random_strength': 1.7987180670430527, 'rsm': 0.9600422556370513, 'grow_policy': 'SymmetricTree', 'min_data_in_leaf': 37, 'leaf_estimation_iterations': 10, 'border_count': 200, 'subsample': 0.8800246622148635}. Best is trial 182 with value: 0.9137760678402584.\n"
     ]
    },
    {
     "name": "stderr",
     "output_type": "stream",
     "text": [
      "Best trial: 182. Best value: 0.913776:  62%|██████▏   | 187/300 [12:31:29<8:04:55, 257.48s/it]"
     ]
    },
    {
     "name": "stdout",
     "output_type": "stream",
     "text": [
      "[I 2025-10-23 14:25:00,856] Trial 186 finished with value: 0.9119301122767268 and parameters: {'bootstrap_type': 'Bernoulli', 'learning_rate': 0.015501763822218094, 'depth': 7, 'l2_leaf_reg': 1.7898577533449873, 'random_strength': 1.6568143179080441, 'rsm': 0.9262059413852292, 'grow_policy': 'SymmetricTree', 'min_data_in_leaf': 34, 'leaf_estimation_iterations': 10, 'border_count': 196, 'subsample': 0.9002872582045781}. Best is trial 182 with value: 0.9137760678402584.\n"
     ]
    },
    {
     "name": "stderr",
     "output_type": "stream",
     "text": [
      "Best trial: 182. Best value: 0.913776:  63%|██████▎   | 188/300 [12:34:29<7:17:02, 234.13s/it]"
     ]
    },
    {
     "name": "stdout",
     "output_type": "stream",
     "text": [
      "[I 2025-10-23 14:28:00,484] Trial 187 finished with value: 0.911015646464703 and parameters: {'bootstrap_type': 'Bernoulli', 'learning_rate': 0.014296362711516098, 'depth': 7, 'l2_leaf_reg': 3.6803464708520695, 'random_strength': 1.5595174020323834, 'rsm': 0.9847467160304056, 'grow_policy': 'SymmetricTree', 'min_data_in_leaf': 42, 'leaf_estimation_iterations': 10, 'border_count': 191, 'subsample': 0.9191447603606036}. Best is trial 182 with value: 0.9137760678402584.\n"
     ]
    },
    {
     "name": "stderr",
     "output_type": "stream",
     "text": [
      "Best trial: 182. Best value: 0.913776:  63%|██████▎   | 189/300 [13:11:10<25:24:39, 824.14s/it]"
     ]
    },
    {
     "name": "stdout",
     "output_type": "stream",
     "text": [
      "[I 2025-10-23 15:04:41,322] Trial 188 finished with value: 0.9125496741322818 and parameters: {'bootstrap_type': 'Bernoulli', 'learning_rate': 0.010802157348982612, 'depth': 7, 'l2_leaf_reg': 2.1291769558442715, 'random_strength': 1.7113295665980277, 'rsm': 0.9714181202448795, 'grow_policy': 'SymmetricTree', 'min_data_in_leaf': 41, 'leaf_estimation_iterations': 10, 'border_count': 187, 'subsample': 0.9283902343059827}. Best is trial 182 with value: 0.9137760678402584.\n"
     ]
    },
    {
     "name": "stderr",
     "output_type": "stream",
     "text": [
      "Best trial: 182. Best value: 0.913776:  63%|██████▎   | 190/300 [13:16:15<20:25:36, 668.51s/it]"
     ]
    },
    {
     "name": "stdout",
     "output_type": "stream",
     "text": [
      "[I 2025-10-23 15:09:46,702] Trial 189 finished with value: 0.9115897242348547 and parameters: {'bootstrap_type': 'Bernoulli', 'learning_rate': 0.010871070609244495, 'depth': 7, 'l2_leaf_reg': 2.256554229604109, 'random_strength': 1.7670167013379263, 'rsm': 0.9619089043518888, 'grow_policy': 'SymmetricTree', 'min_data_in_leaf': 40, 'leaf_estimation_iterations': 10, 'border_count': 188, 'subsample': 0.8880999239984628}. Best is trial 182 with value: 0.9137760678402584.\n"
     ]
    },
    {
     "name": "stderr",
     "output_type": "stream",
     "text": [
      "Best trial: 182. Best value: 0.913776:  64%|██████▎   | 191/300 [13:19:44<16:03:47, 530.53s/it]"
     ]
    },
    {
     "name": "stdout",
     "output_type": "stream",
     "text": [
      "[I 2025-10-23 15:13:15,264] Trial 190 finished with value: 0.9118674897129291 and parameters: {'bootstrap_type': 'Bernoulli', 'learning_rate': 0.011380576319705734, 'depth': 7, 'l2_leaf_reg': 2.0937627311667346, 'random_strength': 1.5990608822519001, 'rsm': 0.9911942876899633, 'grow_policy': 'SymmetricTree', 'min_data_in_leaf': 43, 'leaf_estimation_iterations': 10, 'border_count': 184, 'subsample': 0.9261848987992405}. Best is trial 182 with value: 0.9137760678402584.\n"
     ]
    },
    {
     "name": "stderr",
     "output_type": "stream",
     "text": [
      "Best trial: 182. Best value: 0.913776:  64%|██████▍   | 192/300 [13:22:50<12:48:53, 427.16s/it]"
     ]
    },
    {
     "name": "stdout",
     "output_type": "stream",
     "text": [
      "[I 2025-10-23 15:16:21,249] Trial 191 finished with value: 0.9114708459608665 and parameters: {'bootstrap_type': 'Bernoulli', 'learning_rate': 0.010584601651267109, 'depth': 7, 'l2_leaf_reg': 2.4812941566374587, 'random_strength': 1.7225521914647468, 'rsm': 0.9774722096828172, 'grow_policy': 'SymmetricTree', 'min_data_in_leaf': 41, 'leaf_estimation_iterations': 10, 'border_count': 186, 'subsample': 0.9054356021756755}. Best is trial 182 with value: 0.9137760678402584.\n"
     ]
    },
    {
     "name": "stderr",
     "output_type": "stream",
     "text": [
      "Best trial: 182. Best value: 0.913776:  64%|██████▍   | 193/300 [13:26:31<10:51:28, 365.31s/it]"
     ]
    },
    {
     "name": "stdout",
     "output_type": "stream",
     "text": [
      "[I 2025-10-23 15:20:02,236] Trial 192 finished with value: 0.9106700695361303 and parameters: {'bootstrap_type': 'Bernoulli', 'learning_rate': 0.011924241101162695, 'depth': 7, 'l2_leaf_reg': 2.2279476744434983, 'random_strength': 1.6917473313985307, 'rsm': 0.9669247304235379, 'grow_policy': 'SymmetricTree', 'min_data_in_leaf': 39, 'leaf_estimation_iterations': 10, 'border_count': 195, 'subsample': 0.939468686638425}. Best is trial 182 with value: 0.9137760678402584.\n"
     ]
    },
    {
     "name": "stderr",
     "output_type": "stream",
     "text": [
      "Best trial: 182. Best value: 0.913776:  65%|██████▍   | 194/300 [13:29:07<8:54:23, 302.49s/it] "
     ]
    },
    {
     "name": "stdout",
     "output_type": "stream",
     "text": [
      "[I 2025-10-23 15:22:38,138] Trial 193 finished with value: 0.9096226670183789 and parameters: {'bootstrap_type': 'Bernoulli', 'learning_rate': 0.013012689704527743, 'depth': 7, 'l2_leaf_reg': 2.9805827592060137, 'random_strength': 1.476800546121003, 'rsm': 0.9493766692370506, 'grow_policy': 'SymmetricTree', 'min_data_in_leaf': 37, 'leaf_estimation_iterations': 10, 'border_count': 201, 'subsample': 0.8950258657145809}. Best is trial 182 with value: 0.9137760678402584.\n"
     ]
    },
    {
     "name": "stderr",
     "output_type": "stream",
     "text": [
      "Best trial: 182. Best value: 0.913776:  65%|██████▌   | 195/300 [13:31:06<7:13:28, 247.70s/it]"
     ]
    },
    {
     "name": "stdout",
     "output_type": "stream",
     "text": [
      "[I 2025-10-23 15:24:38,002] Trial 194 finished with value: 0.9124566418530777 and parameters: {'bootstrap_type': 'Bernoulli', 'learning_rate': 0.019531716094623203, 'depth': 7, 'l2_leaf_reg': 1.8756594548515004, 'random_strength': 1.5530602246823444, 'rsm': 0.9155499202028381, 'grow_policy': 'SymmetricTree', 'min_data_in_leaf': 40, 'leaf_estimation_iterations': 10, 'border_count': 192, 'subsample': 0.8580144336881842}. Best is trial 182 with value: 0.9137760678402584.\n"
     ]
    },
    {
     "name": "stderr",
     "output_type": "stream",
     "text": [
      "Best trial: 182. Best value: 0.913776:  65%|██████▌   | 196/300 [13:33:15<6:07:17, 211.90s/it]"
     ]
    },
    {
     "name": "stdout",
     "output_type": "stream",
     "text": [
      "[I 2025-10-23 15:26:46,364] Trial 195 finished with value: 0.9116583512018379 and parameters: {'bootstrap_type': 'Bernoulli', 'learning_rate': 0.01954503040155215, 'depth': 7, 'l2_leaf_reg': 1.725626426726099, 'random_strength': 1.5585846632523699, 'rsm': 0.920120107061656, 'grow_policy': 'SymmetricTree', 'min_data_in_leaf': 44, 'leaf_estimation_iterations': 10, 'border_count': 189, 'subsample': 0.8587598116784341}. Best is trial 182 with value: 0.9137760678402584.\n"
     ]
    },
    {
     "name": "stderr",
     "output_type": "stream",
     "text": [
      "Best trial: 182. Best value: 0.913776:  66%|██████▌   | 197/300 [13:37:14<6:17:38, 219.99s/it]"
     ]
    },
    {
     "name": "stdout",
     "output_type": "stream",
     "text": [
      "[I 2025-10-23 15:30:45,226] Trial 196 finished with value: 0.9115601417806249 and parameters: {'bootstrap_type': 'Bernoulli', 'learning_rate': 0.013460175330797654, 'depth': 7, 'l2_leaf_reg': 1.9378222870074697, 'random_strength': 1.6232096748133764, 'rsm': 0.9112499541579921, 'grow_policy': 'SymmetricTree', 'min_data_in_leaf': 42, 'leaf_estimation_iterations': 10, 'border_count': 192, 'subsample': 0.8336530726708699}. Best is trial 182 with value: 0.9137760678402584.\n"
     ]
    },
    {
     "name": "stderr",
     "output_type": "stream",
     "text": [
      "Best trial: 182. Best value: 0.913776:  66%|██████▌   | 198/300 [13:40:15<5:54:05, 208.29s/it]"
     ]
    },
    {
     "name": "stdout",
     "output_type": "stream",
     "text": [
      "[I 2025-10-23 15:33:46,225] Trial 197 finished with value: 0.9123491702587176 and parameters: {'bootstrap_type': 'Bernoulli', 'learning_rate': 0.011984317977775697, 'depth': 7, 'l2_leaf_reg': 1.4713274350053498, 'random_strength': 1.5056576428005999, 'rsm': 0.9714611605506732, 'grow_policy': 'SymmetricTree', 'min_data_in_leaf': 40, 'leaf_estimation_iterations': 10, 'border_count': 207, 'subsample': 0.876242041766074}. Best is trial 182 with value: 0.9137760678402584.\n"
     ]
    },
    {
     "name": "stderr",
     "output_type": "stream",
     "text": [
      "Best trial: 182. Best value: 0.913776:  66%|██████▋   | 199/300 [13:42:49<5:23:30, 192.18s/it]"
     ]
    },
    {
     "name": "stdout",
     "output_type": "stream",
     "text": [
      "[I 2025-10-23 15:36:20,827] Trial 198 finished with value: 0.9108824597513978 and parameters: {'bootstrap_type': 'Bernoulli', 'learning_rate': 0.016793087923707466, 'depth': 7, 'l2_leaf_reg': 1.809131322375594, 'random_strength': 1.6129796929276203, 'rsm': 0.9821975838287667, 'grow_policy': 'SymmetricTree', 'min_data_in_leaf': 39, 'leaf_estimation_iterations': 5, 'border_count': 198, 'subsample': 0.8659876575312219}. Best is trial 182 with value: 0.9137760678402584.\n"
     ]
    },
    {
     "name": "stderr",
     "output_type": "stream",
     "text": [
      "Best trial: 182. Best value: 0.913776:  67%|██████▋   | 200/300 [14:23:52<24:15:35, 873.35s/it]"
     ]
    },
    {
     "name": "stdout",
     "output_type": "stream",
     "text": [
      "[I 2025-10-23 16:17:23,568] Trial 199 finished with value: 0.9119244031642743 and parameters: {'bootstrap_type': 'Bernoulli', 'learning_rate': 0.011102507054012327, 'depth': 7, 'l2_leaf_reg': 5.608737295413686, 'random_strength': 1.5339558451763322, 'rsm': 0.8991683351692541, 'grow_policy': 'SymmetricTree', 'min_data_in_leaf': 36, 'leaf_estimation_iterations': 10, 'border_count': 175, 'subsample': 0.9573454966719694}. Best is trial 182 with value: 0.9137760678402584.\n"
     ]
    },
    {
     "name": "stderr",
     "output_type": "stream",
     "text": [
      "Best trial: 182. Best value: 0.913776:  67%|██████▋   | 201/300 [14:27:12<18:27:42, 671.34s/it]"
     ]
    },
    {
     "name": "stdout",
     "output_type": "stream",
     "text": [
      "[I 2025-10-23 16:20:43,542] Trial 200 finished with value: 0.9096138544789261 and parameters: {'bootstrap_type': 'Bayesian', 'learning_rate': 0.012725317218512404, 'depth': 7, 'l2_leaf_reg': 2.0646758648225427, 'random_strength': 1.6723744323827232, 'rsm': 0.9283636272538527, 'grow_policy': 'SymmetricTree', 'min_data_in_leaf': 40, 'leaf_estimation_iterations': 10, 'border_count': 255, 'bagging_temperature': 1.9091489589669526}. Best is trial 182 with value: 0.9137760678402584.\n"
     ]
    },
    {
     "name": "stderr",
     "output_type": "stream",
     "text": [
      "Best trial: 182. Best value: 0.913776:  67%|██████▋   | 202/300 [14:30:39<14:29:04, 532.09s/it]"
     ]
    },
    {
     "name": "stdout",
     "output_type": "stream",
     "text": [
      "[I 2025-10-23 16:24:10,713] Trial 201 finished with value: 0.9110735173654495 and parameters: {'bootstrap_type': 'Bernoulli', 'learning_rate': 0.011775225603581775, 'depth': 7, 'l2_leaf_reg': 1.500089282802594, 'random_strength': 1.5082106178744494, 'rsm': 0.9686952479823296, 'grow_policy': 'SymmetricTree', 'min_data_in_leaf': 41, 'leaf_estimation_iterations': 10, 'border_count': 204, 'subsample': 0.8797137338854689}. Best is trial 182 with value: 0.9137760678402584.\n"
     ]
    },
    {
     "name": "stderr",
     "output_type": "stream",
     "text": [
      "Best trial: 182. Best value: 0.913776:  68%|██████▊   | 203/300 [14:33:19<11:19:29, 420.31s/it]"
     ]
    },
    {
     "name": "stdout",
     "output_type": "stream",
     "text": [
      "[I 2025-10-23 16:26:50,202] Trial 202 finished with value: 0.9108154077287183 and parameters: {'bootstrap_type': 'Bernoulli', 'learning_rate': 0.012089993107969451, 'depth': 7, 'l2_leaf_reg': 4.725285501964351, 'random_strength': 1.4548328997962643, 'rsm': 0.9683722272206065, 'grow_policy': 'SymmetricTree', 'min_data_in_leaf': 40, 'leaf_estimation_iterations': 10, 'border_count': 207, 'subsample': 0.909809868096265}. Best is trial 182 with value: 0.9137760678402584.\n"
     ]
    },
    {
     "name": "stderr",
     "output_type": "stream",
     "text": [
      "Best trial: 182. Best value: 0.913776:  68%|██████▊   | 204/300 [14:35:56<9:06:14, 341.40s/it] "
     ]
    },
    {
     "name": "stdout",
     "output_type": "stream",
     "text": [
      "[I 2025-10-23 16:29:27,480] Trial 203 finished with value: 0.9104923119361316 and parameters: {'bootstrap_type': 'Bernoulli', 'learning_rate': 0.013853767908533918, 'depth': 7, 'l2_leaf_reg': 1.6656251833108684, 'random_strength': 1.583460342019173, 'rsm': 0.9454004992772784, 'grow_policy': 'SymmetricTree', 'min_data_in_leaf': 38, 'leaf_estimation_iterations': 10, 'border_count': 197, 'subsample': 0.8418816213130772}. Best is trial 182 with value: 0.9137760678402584.\n"
     ]
    },
    {
     "name": "stderr",
     "output_type": "stream",
     "text": [
      "Best trial: 182. Best value: 0.913776:  68%|██████▊   | 205/300 [14:38:30<7:31:33, 285.19s/it]"
     ]
    },
    {
     "name": "stdout",
     "output_type": "stream",
     "text": [
      "[I 2025-10-23 16:32:01,518] Trial 204 finished with value: 0.9108718331253451 and parameters: {'bootstrap_type': 'Bernoulli', 'learning_rate': 0.010506014273471857, 'depth': 7, 'l2_leaf_reg': 1.9132142315404113, 'random_strength': 1.4864087876466032, 'rsm': 0.9955053972520717, 'grow_policy': 'SymmetricTree', 'min_data_in_leaf': 43, 'leaf_estimation_iterations': 10, 'border_count': 202, 'subsample': 0.8856267854853759}. Best is trial 182 with value: 0.9137760678402584.\n"
     ]
    },
    {
     "name": "stderr",
     "output_type": "stream",
     "text": [
      "Best trial: 182. Best value: 0.913776:  69%|██████▊   | 206/300 [14:41:10<6:28:12, 247.79s/it]"
     ]
    },
    {
     "name": "stdout",
     "output_type": "stream",
     "text": [
      "[I 2025-10-23 16:34:42,039] Trial 205 finished with value: 0.9123485114506538 and parameters: {'bootstrap_type': 'Bernoulli', 'learning_rate': 0.015304031121323959, 'depth': 7, 'l2_leaf_reg': 1.5676536717340448, 'random_strength': 1.4347447505608555, 'rsm': 0.9154563636369627, 'grow_policy': 'SymmetricTree', 'min_data_in_leaf': 41, 'leaf_estimation_iterations': 10, 'border_count': 193, 'subsample': 0.921562395884934}. Best is trial 182 with value: 0.9137760678402584.\n"
     ]
    },
    {
     "name": "stderr",
     "output_type": "stream",
     "text": [
      "Best trial: 182. Best value: 0.913776:  69%|██████▉   | 207/300 [14:43:38<5:37:21, 217.65s/it]"
     ]
    },
    {
     "name": "stdout",
     "output_type": "stream",
     "text": [
      "[I 2025-10-23 16:37:09,379] Trial 206 finished with value: 0.9085625512656792 and parameters: {'bootstrap_type': 'Bernoulli', 'learning_rate': 0.013079434338597363, 'depth': 7, 'l2_leaf_reg': 2.2633960246596203, 'random_strength': 1.5298895507577537, 'rsm': 0.8799532488289862, 'grow_policy': 'Depthwise', 'min_data_in_leaf': 38, 'leaf_estimation_iterations': 9, 'border_count': 200, 'subsample': 0.872777035754894}. Best is trial 182 with value: 0.9137760678402584.\n"
     ]
    },
    {
     "name": "stderr",
     "output_type": "stream",
     "text": [
      "Best trial: 182. Best value: 0.913776:  69%|██████▉   | 208/300 [14:46:06<5:01:43, 196.77s/it]"
     ]
    },
    {
     "name": "stdout",
     "output_type": "stream",
     "text": [
      "[I 2025-10-23 16:39:37,426] Trial 207 finished with value: 0.9108722974190175 and parameters: {'bootstrap_type': 'Bernoulli', 'learning_rate': 0.01213972105256788, 'depth': 7, 'l2_leaf_reg': 1.4263796095253496, 'random_strength': 1.5680993545010031, 'rsm': 0.975642338231428, 'grow_policy': 'SymmetricTree', 'min_data_in_leaf': 35, 'leaf_estimation_iterations': 10, 'border_count': 190, 'subsample': 0.8017507166731674}. Best is trial 182 with value: 0.9137760678402584.\n"
     ]
    },
    {
     "name": "stderr",
     "output_type": "stream",
     "text": [
      "Best trial: 182. Best value: 0.913776:  70%|██████▉   | 209/300 [14:49:55<5:12:57, 206.35s/it]"
     ]
    },
    {
     "name": "stdout",
     "output_type": "stream",
     "text": [
      "[I 2025-10-23 16:43:26,127] Trial 208 finished with value: 0.9126635676211603 and parameters: {'bootstrap_type': 'Bernoulli', 'learning_rate': 0.011275391602373374, 'depth': 7, 'l2_leaf_reg': 2.1356787804164266, 'random_strength': 1.635625514762178, 'rsm': 0.9019236714696675, 'grow_policy': 'SymmetricTree', 'min_data_in_leaf': 37, 'leaf_estimation_iterations': 10, 'border_count': 249, 'subsample': 0.7733645818264047}. Best is trial 182 with value: 0.9137760678402584.\n"
     ]
    },
    {
     "name": "stderr",
     "output_type": "stream",
     "text": [
      "Best trial: 182. Best value: 0.913776:  70%|███████   | 210/300 [14:50:38<3:56:07, 157.42s/it]"
     ]
    },
    {
     "name": "stdout",
     "output_type": "stream",
     "text": [
      "[I 2025-10-23 16:44:09,371] Trial 209 finished with value: 0.9103214335341404 and parameters: {'bootstrap_type': 'Bernoulli', 'learning_rate': 0.10390528269719819, 'depth': 7, 'l2_leaf_reg': 2.052605347345069, 'random_strength': 1.733332759112375, 'rsm': 0.9018043026137424, 'grow_policy': 'SymmetricTree', 'min_data_in_leaf': 37, 'leaf_estimation_iterations': 10, 'border_count': 248, 'subsample': 0.9047622569860903}. Best is trial 182 with value: 0.9137760678402584.\n"
     ]
    },
    {
     "name": "stderr",
     "output_type": "stream",
     "text": [
      "Best trial: 182. Best value: 0.913776:  70%|███████   | 211/300 [14:54:07<4:16:26, 172.89s/it]"
     ]
    },
    {
     "name": "stdout",
     "output_type": "stream",
     "text": [
      "[I 2025-10-23 16:47:38,348] Trial 210 finished with value: 0.9100703481331192 and parameters: {'bootstrap_type': 'Bernoulli', 'learning_rate': 0.011129492415032466, 'depth': 7, 'l2_leaf_reg': 2.343198785772323, 'random_strength': 1.6523433454568148, 'rsm': 0.8913394021567705, 'grow_policy': 'SymmetricTree', 'min_data_in_leaf': 33, 'leaf_estimation_iterations': 10, 'border_count': 251, 'subsample': 0.5348249858352927}. Best is trial 182 with value: 0.9137760678402584.\n"
     ]
    },
    {
     "name": "stderr",
     "output_type": "stream",
     "text": [
      "Best trial: 182. Best value: 0.913776:  71%|███████   | 212/300 [14:59:23<5:16:31, 215.81s/it]"
     ]
    },
    {
     "name": "stdout",
     "output_type": "stream",
     "text": [
      "[I 2025-10-23 16:52:54,312] Trial 211 finished with value: 0.9113558081299027 and parameters: {'bootstrap_type': 'Bernoulli', 'learning_rate': 0.01004074861810653, 'depth': 7, 'l2_leaf_reg': 1.8557238082746814, 'random_strength': 1.6126509724193874, 'rsm': 0.90898939135713, 'grow_policy': 'SymmetricTree', 'min_data_in_leaf': 39, 'leaf_estimation_iterations': 10, 'border_count': 250, 'subsample': 0.759178491665563}. Best is trial 182 with value: 0.9137760678402584.\n"
     ]
    },
    {
     "name": "stderr",
     "output_type": "stream",
     "text": [
      "Best trial: 182. Best value: 0.913776:  71%|███████   | 213/300 [15:01:46<4:41:24, 194.08s/it]"
     ]
    },
    {
     "name": "stdout",
     "output_type": "stream",
     "text": [
      "[I 2025-10-23 16:55:17,687] Trial 212 finished with value: 0.911951790895148 and parameters: {'bootstrap_type': 'Bernoulli', 'learning_rate': 0.011259205157280659, 'depth': 7, 'l2_leaf_reg': 2.148959026367733, 'random_strength': 0.32955875608885477, 'rsm': 0.923402883925712, 'grow_policy': 'SymmetricTree', 'min_data_in_leaf': 36, 'leaf_estimation_iterations': 10, 'border_count': 198, 'subsample': 0.7825247573832426}. Best is trial 182 with value: 0.9137760678402584.\n"
     ]
    },
    {
     "name": "stderr",
     "output_type": "stream",
     "text": [
      "Best trial: 182. Best value: 0.913776:  71%|███████▏  | 214/300 [15:04:51<4:34:27, 191.48s/it]"
     ]
    },
    {
     "name": "stdout",
     "output_type": "stream",
     "text": [
      "[I 2025-10-23 16:58:23,113] Trial 213 finished with value: 0.9120121551234479 and parameters: {'bootstrap_type': 'Bernoulli', 'learning_rate': 0.01227732494094602, 'depth': 7, 'l2_leaf_reg': 1.7285723899344412, 'random_strength': 1.709469561069342, 'rsm': 0.9379203105557117, 'grow_policy': 'SymmetricTree', 'min_data_in_leaf': 34, 'leaf_estimation_iterations': 10, 'border_count': 208, 'subsample': 0.8179131674716278}. Best is trial 182 with value: 0.9137760678402584.\n"
     ]
    },
    {
     "name": "stderr",
     "output_type": "stream",
     "text": [
      "Best trial: 182. Best value: 0.913776:  72%|███████▏  | 215/300 [15:07:53<4:27:13, 188.63s/it]"
     ]
    },
    {
     "name": "stdout",
     "output_type": "stream",
     "text": [
      "[I 2025-10-23 17:01:25,071] Trial 214 finished with value: 0.9120471471431794 and parameters: {'bootstrap_type': 'Bernoulli', 'learning_rate': 0.013042569919441874, 'depth': 7, 'l2_leaf_reg': 1.9676998866442945, 'random_strength': 1.446807758674108, 'rsm': 0.9062251827298468, 'grow_policy': 'SymmetricTree', 'min_data_in_leaf': 41, 'leaf_estimation_iterations': 10, 'border_count': 253, 'subsample': 0.8967948062730673}. Best is trial 182 with value: 0.9137760678402584.\n"
     ]
    },
    {
     "name": "stderr",
     "output_type": "stream",
     "text": [
      "Best trial: 182. Best value: 0.913776:  72%|███████▏  | 216/300 [15:10:02<3:58:57, 170.68s/it]"
     ]
    },
    {
     "name": "stdout",
     "output_type": "stream",
     "text": [
      "[I 2025-10-23 17:03:33,886] Trial 215 finished with value: 0.9113392628266305 and parameters: {'bootstrap_type': 'Bernoulli', 'learning_rate': 0.014205595609547962, 'depth': 7, 'l2_leaf_reg': 2.2032735383784576, 'random_strength': 1.5487565364019507, 'rsm': 0.9546063436450066, 'grow_policy': 'SymmetricTree', 'min_data_in_leaf': 37, 'leaf_estimation_iterations': 10, 'border_count': 195, 'subsample': 0.7762428776509684}. Best is trial 182 with value: 0.9137760678402584.\n"
     ]
    },
    {
     "name": "stderr",
     "output_type": "stream",
     "text": [
      "Best trial: 182. Best value: 0.913776:  72%|███████▏  | 217/300 [15:10:32<2:57:43, 128.48s/it]"
     ]
    },
    {
     "name": "stdout",
     "output_type": "stream",
     "text": [
      "[I 2025-10-23 17:04:03,878] Trial 216 finished with value: 0.910973224004562 and parameters: {'bootstrap_type': 'Bernoulli', 'learning_rate': 0.02840565429664724, 'depth': 4, 'l2_leaf_reg': 2.363952262682321, 'random_strength': 1.4995994573638392, 'rsm': 0.8787813509608686, 'grow_policy': 'SymmetricTree', 'min_data_in_leaf': 39, 'leaf_estimation_iterations': 4, 'border_count': 204, 'subsample': 0.859243980893497}. Best is trial 182 with value: 0.9137760678402584.\n"
     ]
    },
    {
     "name": "stderr",
     "output_type": "stream",
     "text": [
      "Best trial: 182. Best value: 0.913776:  73%|███████▎  | 218/300 [15:13:54<3:25:37, 150.46s/it]"
     ]
    },
    {
     "name": "stdout",
     "output_type": "stream",
     "text": [
      "[I 2025-10-23 17:07:25,621] Trial 217 finished with value: 0.9109801429703408 and parameters: {'bootstrap_type': 'Bernoulli', 'learning_rate': 0.011654131913638996, 'depth': 7, 'l2_leaf_reg': 5.1752544227671216, 'random_strength': 1.663330835599024, 'rsm': 0.9836822553345452, 'grow_policy': 'Lossguide', 'min_data_in_leaf': 42, 'leaf_estimation_iterations': 10, 'border_count': 200, 'subsample': 0.914169991197143}. Best is trial 182 with value: 0.9137760678402584.\n"
     ]
    },
    {
     "name": "stderr",
     "output_type": "stream",
     "text": [
      "Best trial: 218. Best value: 0.914366:  73%|███████▎  | 219/300 [15:15:01<2:49:27, 125.52s/it]"
     ]
    },
    {
     "name": "stdout",
     "output_type": "stream",
     "text": [
      "[I 2025-10-23 17:08:32,956] Trial 218 finished with value: 0.914366286271263 and parameters: {'bootstrap_type': 'MVS', 'learning_rate': 0.03210446479623253, 'depth': 7, 'l2_leaf_reg': 1.6920399390073075, 'random_strength': 1.6154397653677859, 'rsm': 0.921748554489924, 'grow_policy': 'SymmetricTree', 'min_data_in_leaf': 35, 'leaf_estimation_iterations': 9, 'border_count': 186}. Best is trial 218 with value: 0.914366286271263.\n"
     ]
    },
    {
     "name": "stderr",
     "output_type": "stream",
     "text": [
      "Best trial: 218. Best value: 0.914366:  73%|███████▎  | 220/300 [15:16:38<2:35:52, 116.90s/it]"
     ]
    },
    {
     "name": "stdout",
     "output_type": "stream",
     "text": [
      "[I 2025-10-23 17:10:09,755] Trial 219 finished with value: 0.9108000860465185 and parameters: {'bootstrap_type': 'MVS', 'learning_rate': 0.01624629219259634, 'depth': 7, 'l2_leaf_reg': 2.7046596134408887, 'random_strength': 1.6206551965152074, 'rsm': 0.8945719102009472, 'grow_policy': 'SymmetricTree', 'min_data_in_leaf': 35, 'leaf_estimation_iterations': 9, 'border_count': 191}. Best is trial 218 with value: 0.914366286271263.\n"
     ]
    },
    {
     "name": "stderr",
     "output_type": "stream",
     "text": [
      "Best trial: 218. Best value: 0.914366:  74%|███████▎  | 221/300 [15:17:47<2:14:58, 102.51s/it]"
     ]
    },
    {
     "name": "stdout",
     "output_type": "stream",
     "text": [
      "[I 2025-10-23 17:11:18,696] Trial 220 finished with value: 0.9096456413525873 and parameters: {'bootstrap_type': 'MVS', 'learning_rate': 0.03264199677863655, 'depth': 7, 'l2_leaf_reg': 1.7395827844208192, 'random_strength': 1.5754624086160995, 'rsm': 0.9135084682286467, 'grow_policy': 'SymmetricTree', 'min_data_in_leaf': 35, 'leaf_estimation_iterations': 9, 'border_count': 187}. Best is trial 218 with value: 0.914366286271263.\n"
     ]
    },
    {
     "name": "stderr",
     "output_type": "stream",
     "text": [
      "Best trial: 218. Best value: 0.914366:  74%|███████▍  | 222/300 [15:21:16<2:54:45, 134.43s/it]"
     ]
    },
    {
     "name": "stdout",
     "output_type": "stream",
     "text": [
      "[I 2025-10-23 17:14:47,599] Trial 221 finished with value: 0.9125090615556933 and parameters: {'bootstrap_type': 'MVS', 'learning_rate': 0.012384048331396684, 'depth': 7, 'l2_leaf_reg': 2.068851707321228, 'random_strength': 1.4108351153841832, 'rsm': 0.9280567687452304, 'grow_policy': 'SymmetricTree', 'min_data_in_leaf': 38, 'leaf_estimation_iterations': 10, 'border_count': 182}. Best is trial 218 with value: 0.914366286271263.\n"
     ]
    },
    {
     "name": "stderr",
     "output_type": "stream",
     "text": [
      "Best trial: 218. Best value: 0.914366:  74%|███████▍  | 223/300 [15:24:07<3:06:25, 145.27s/it]"
     ]
    },
    {
     "name": "stdout",
     "output_type": "stream",
     "text": [
      "[I 2025-10-23 17:17:38,148] Trial 222 finished with value: 0.9119372814192019 and parameters: {'bootstrap_type': 'MVS', 'learning_rate': 0.012812359111136316, 'depth': 7, 'l2_leaf_reg': 2.0622741150176407, 'random_strength': 1.4032997223010892, 'rsm': 0.9271714232814932, 'grow_policy': 'SymmetricTree', 'min_data_in_leaf': 37, 'leaf_estimation_iterations': 10, 'border_count': 179}. Best is trial 218 with value: 0.914366286271263.\n"
     ]
    },
    {
     "name": "stderr",
     "output_type": "stream",
     "text": [
      "Best trial: 218. Best value: 0.914366:  75%|███████▍  | 224/300 [15:27:08<3:17:42, 156.08s/it]"
     ]
    },
    {
     "name": "stdout",
     "output_type": "stream",
     "text": [
      "[I 2025-10-23 17:20:39,457] Trial 223 finished with value: 0.9134160161243671 and parameters: {'bootstrap_type': 'MVS', 'learning_rate': 0.013672738738471997, 'depth': 7, 'l2_leaf_reg': 1.9131057912820748, 'random_strength': 1.4260377720776398, 'rsm': 0.9195647175173619, 'grow_policy': 'SymmetricTree', 'min_data_in_leaf': 38, 'leaf_estimation_iterations': 10, 'border_count': 185}. Best is trial 218 with value: 0.914366286271263.\n"
     ]
    },
    {
     "name": "stderr",
     "output_type": "stream",
     "text": [
      "Best trial: 218. Best value: 0.914366:  75%|███████▌  | 225/300 [15:29:18<3:05:33, 148.45s/it]"
     ]
    },
    {
     "name": "stdout",
     "output_type": "stream",
     "text": [
      "[I 2025-10-23 17:22:50,104] Trial 224 finished with value: 0.911541075586258 and parameters: {'bootstrap_type': 'MVS', 'learning_rate': 0.014858652246975763, 'depth': 7, 'l2_leaf_reg': 1.8456812716964914, 'random_strength': 1.3964299194549405, 'rsm': 0.9185506414008071, 'grow_policy': 'SymmetricTree', 'min_data_in_leaf': 38, 'leaf_estimation_iterations': 10, 'border_count': 183}. Best is trial 218 with value: 0.914366286271263.\n"
     ]
    },
    {
     "name": "stderr",
     "output_type": "stream",
     "text": [
      "Best trial: 218. Best value: 0.914366:  75%|███████▌  | 226/300 [15:30:44<2:39:53, 129.64s/it]"
     ]
    },
    {
     "name": "stdout",
     "output_type": "stream",
     "text": [
      "[I 2025-10-23 17:24:15,846] Trial 225 finished with value: 0.9124476633156263 and parameters: {'bootstrap_type': 'MVS', 'learning_rate': 0.023137706794981304, 'depth': 7, 'l2_leaf_reg': 1.93485434829598, 'random_strength': 1.6415121934311803, 'rsm': 0.9341745509631066, 'grow_policy': 'SymmetricTree', 'min_data_in_leaf': 33, 'leaf_estimation_iterations': 10, 'border_count': 186}. Best is trial 218 with value: 0.914366286271263.\n"
     ]
    },
    {
     "name": "stderr",
     "output_type": "stream",
     "text": [
      "Best trial: 218. Best value: 0.914366:  76%|███████▌  | 227/300 [15:32:01<2:18:36, 113.93s/it]"
     ]
    },
    {
     "name": "stdout",
     "output_type": "stream",
     "text": [
      "[I 2025-10-23 17:25:33,121] Trial 226 finished with value: 0.9107965915239684 and parameters: {'bootstrap_type': 'MVS', 'learning_rate': 0.03897667237025018, 'depth': 7, 'l2_leaf_reg': 1.9189530551354246, 'random_strength': 1.6838129670389455, 'rsm': 0.9338868508715299, 'grow_policy': 'SymmetricTree', 'min_data_in_leaf': 33, 'leaf_estimation_iterations': 10, 'border_count': 182}. Best is trial 218 with value: 0.914366286271263.\n"
     ]
    },
    {
     "name": "stderr",
     "output_type": "stream",
     "text": [
      "Best trial: 218. Best value: 0.914366:  76%|███████▌  | 228/300 [15:33:46<2:13:23, 111.15s/it]"
     ]
    },
    {
     "name": "stdout",
     "output_type": "stream",
     "text": [
      "[I 2025-10-23 17:27:17,799] Trial 227 finished with value: 0.9113343631382169 and parameters: {'bootstrap_type': 'MVS', 'learning_rate': 0.022561800851591648, 'depth': 7, 'l2_leaf_reg': 1.6375907351098615, 'random_strength': 1.6371237311145954, 'rsm': 0.9289833291550214, 'grow_policy': 'SymmetricTree', 'min_data_in_leaf': 32, 'leaf_estimation_iterations': 10, 'border_count': 187}. Best is trial 218 with value: 0.914366286271263.\n"
     ]
    },
    {
     "name": "stderr",
     "output_type": "stream",
     "text": [
      "Best trial: 218. Best value: 0.914366:  76%|███████▋  | 229/300 [15:35:45<2:14:10, 113.38s/it]"
     ]
    },
    {
     "name": "stdout",
     "output_type": "stream",
     "text": [
      "[I 2025-10-23 17:29:16,388] Trial 228 finished with value: 0.9102634705543344 and parameters: {'bootstrap_type': 'MVS', 'learning_rate': 0.021105144368424106, 'depth': 7, 'l2_leaf_reg': 2.1111310003563064, 'random_strength': 1.5868580858987, 'rsm': 0.944883205099033, 'grow_policy': 'SymmetricTree', 'min_data_in_leaf': 34, 'leaf_estimation_iterations': 10, 'border_count': 184}. Best is trial 218 with value: 0.914366286271263.\n"
     ]
    },
    {
     "name": "stderr",
     "output_type": "stream",
     "text": [
      "Best trial: 218. Best value: 0.914366:  77%|███████▋  | 230/300 [15:37:29<2:09:07, 110.67s/it]"
     ]
    },
    {
     "name": "stdout",
     "output_type": "stream",
     "text": [
      "[I 2025-10-23 17:31:00,740] Trial 229 finished with value: 0.9105736602772196 and parameters: {'bootstrap_type': 'MVS', 'learning_rate': 0.0242962159672113, 'depth': 7, 'l2_leaf_reg': 1.844477777452497, 'random_strength': 1.7656969213013376, 'rsm': 0.9143160368910895, 'grow_policy': 'SymmetricTree', 'min_data_in_leaf': 36, 'leaf_estimation_iterations': 10, 'border_count': 186}. Best is trial 218 with value: 0.914366286271263.\n"
     ]
    },
    {
     "name": "stderr",
     "output_type": "stream",
     "text": [
      "Best trial: 218. Best value: 0.914366:  77%|███████▋  | 231/300 [15:39:56<2:19:45, 121.52s/it]"
     ]
    },
    {
     "name": "stdout",
     "output_type": "stream",
     "text": [
      "[I 2025-10-23 17:33:27,576] Trial 230 finished with value: 0.9127458278261666 and parameters: {'bootstrap_type': 'MVS', 'learning_rate': 0.017287047906814516, 'depth': 7, 'l2_leaf_reg': 1.6890445607283313, 'random_strength': 1.625232338237802, 'rsm': 0.9395174925724229, 'grow_policy': 'SymmetricTree', 'min_data_in_leaf': 44, 'leaf_estimation_iterations': 10, 'border_count': 180}. Best is trial 218 with value: 0.914366286271263.\n"
     ]
    },
    {
     "name": "stderr",
     "output_type": "stream",
     "text": [
      "Best trial: 218. Best value: 0.914366:  77%|███████▋  | 232/300 [15:42:01<2:18:52, 122.54s/it]"
     ]
    },
    {
     "name": "stdout",
     "output_type": "stream",
     "text": [
      "[I 2025-10-23 17:35:32,501] Trial 231 finished with value: 0.9124962489532812 and parameters: {'bootstrap_type': 'MVS', 'learning_rate': 0.019232273234882594, 'depth': 7, 'l2_leaf_reg': 1.5793626058258319, 'random_strength': 1.6570890162539371, 'rsm': 0.9389826060945332, 'grow_policy': 'SymmetricTree', 'min_data_in_leaf': 44, 'leaf_estimation_iterations': 10, 'border_count': 180}. Best is trial 218 with value: 0.914366286271263.\n"
     ]
    },
    {
     "name": "stderr",
     "output_type": "stream",
     "text": [
      "Best trial: 218. Best value: 0.914366:  78%|███████▊  | 233/300 [15:44:27<2:24:43, 129.61s/it]"
     ]
    },
    {
     "name": "stdout",
     "output_type": "stream",
     "text": [
      "[I 2025-10-23 17:37:58,592] Trial 232 finished with value: 0.9122539551759778 and parameters: {'bootstrap_type': 'MVS', 'learning_rate': 0.019245765212190284, 'depth': 7, 'l2_leaf_reg': 1.4165982912921973, 'random_strength': 1.6181794958521338, 'rsm': 0.9226869944575052, 'grow_policy': 'SymmetricTree', 'min_data_in_leaf': 46, 'leaf_estimation_iterations': 10, 'border_count': 177}. Best is trial 218 with value: 0.914366286271263.\n"
     ]
    },
    {
     "name": "stderr",
     "output_type": "stream",
     "text": [
      "Best trial: 218. Best value: 0.914366:  78%|███████▊  | 234/300 [15:45:22<1:58:02, 107.31s/it]"
     ]
    },
    {
     "name": "stdout",
     "output_type": "stream",
     "text": [
      "[I 2025-10-23 17:38:53,889] Trial 233 finished with value: 0.9132234662162513 and parameters: {'bootstrap_type': 'MVS', 'learning_rate': 0.06557684262179138, 'depth': 7, 'l2_leaf_reg': 1.6113707541008555, 'random_strength': 1.6821696468645093, 'rsm': 0.9390788353274439, 'grow_policy': 'SymmetricTree', 'min_data_in_leaf': 44, 'leaf_estimation_iterations': 10, 'border_count': 181}. Best is trial 218 with value: 0.914366286271263.\n"
     ]
    },
    {
     "name": "stderr",
     "output_type": "stream",
     "text": [
      "Best trial: 218. Best value: 0.914366:  78%|███████▊  | 235/300 [15:46:14<1:38:18, 90.75s/it] "
     ]
    },
    {
     "name": "stdout",
     "output_type": "stream",
     "text": [
      "[I 2025-10-23 17:39:45,973] Trial 234 finished with value: 0.9106591750410297 and parameters: {'bootstrap_type': 'MVS', 'learning_rate': 0.06381915627962831, 'depth': 7, 'l2_leaf_reg': 1.6211567020186206, 'random_strength': 1.7016124798329444, 'rsm': 0.942537660284179, 'grow_policy': 'SymmetricTree', 'min_data_in_leaf': 44, 'leaf_estimation_iterations': 10, 'border_count': 182}. Best is trial 218 with value: 0.914366286271263.\n"
     ]
    },
    {
     "name": "stderr",
     "output_type": "stream",
     "text": [
      "Best trial: 218. Best value: 0.914366:  79%|███████▊  | 236/300 [15:47:02<1:22:51, 77.68s/it]"
     ]
    },
    {
     "name": "stdout",
     "output_type": "stream",
     "text": [
      "[I 2025-10-23 17:40:33,160] Trial 235 finished with value: 0.9092423651737451 and parameters: {'bootstrap_type': 'MVS', 'learning_rate': 0.06886423392978573, 'depth': 7, 'l2_leaf_reg': 1.6074870923255469, 'random_strength': 1.6740629363354065, 'rsm': 0.9535383568316912, 'grow_policy': 'SymmetricTree', 'min_data_in_leaf': 44, 'leaf_estimation_iterations': 10, 'border_count': 180}. Best is trial 218 with value: 0.914366286271263.\n"
     ]
    },
    {
     "name": "stderr",
     "output_type": "stream",
     "text": [
      "Best trial: 218. Best value: 0.914366:  79%|███████▉  | 237/300 [15:49:07<1:36:40, 92.07s/it]"
     ]
    },
    {
     "name": "stdout",
     "output_type": "stream",
     "text": [
      "[I 2025-10-23 17:42:38,788] Trial 236 finished with value: 0.9113425928769705 and parameters: {'bootstrap_type': 'MVS', 'learning_rate': 0.029864246601786923, 'depth': 7, 'l2_leaf_reg': 1.3330127358039474, 'random_strength': 1.7971123346685418, 'rsm': 0.9380922079835684, 'grow_policy': 'SymmetricTree', 'min_data_in_leaf': 45, 'leaf_estimation_iterations': 9, 'border_count': 175}. Best is trial 218 with value: 0.914366286271263.\n"
     ]
    },
    {
     "name": "stderr",
     "output_type": "stream",
     "text": [
      "Best trial: 218. Best value: 0.914366:  79%|███████▉  | 238/300 [15:50:08<1:25:21, 82.60s/it]"
     ]
    },
    {
     "name": "stdout",
     "output_type": "stream",
     "text": [
      "[I 2025-10-23 17:43:39,310] Trial 237 finished with value: 0.9110577946181337 and parameters: {'bootstrap_type': 'MVS', 'learning_rate': 0.04528849563902374, 'depth': 7, 'l2_leaf_reg': 2.252438965906454, 'random_strength': 1.6553935726453686, 'rsm': 0.9051944203916149, 'grow_policy': 'SymmetricTree', 'min_data_in_leaf': 45, 'leaf_estimation_iterations': 10, 'border_count': 168}. Best is trial 218 with value: 0.914366286271263.\n"
     ]
    },
    {
     "name": "stderr",
     "output_type": "stream",
     "text": [
      "Best trial: 218. Best value: 0.914366:  80%|███████▉  | 239/300 [15:52:31<1:42:37, 100.94s/it]"
     ]
    },
    {
     "name": "stdout",
     "output_type": "stream",
     "text": [
      "[I 2025-10-23 17:46:03,045] Trial 238 finished with value: 0.9118650585787701 and parameters: {'bootstrap_type': 'MVS', 'learning_rate': 0.017399127357037535, 'depth': 7, 'l2_leaf_reg': 1.7465320128253625, 'random_strength': 1.6048288282508645, 'rsm': 0.9251485185793884, 'grow_policy': 'SymmetricTree', 'min_data_in_leaf': 42, 'leaf_estimation_iterations': 10, 'border_count': 180}. Best is trial 218 with value: 0.914366286271263.\n"
     ]
    },
    {
     "name": "stderr",
     "output_type": "stream",
     "text": [
      "Best trial: 218. Best value: 0.914366:  80%|████████  | 240/300 [15:55:02<1:55:45, 115.75s/it]"
     ]
    },
    {
     "name": "stdout",
     "output_type": "stream",
     "text": [
      "[I 2025-10-23 17:48:33,366] Trial 239 finished with value: 0.9114572670717834 and parameters: {'bootstrap_type': 'MVS', 'learning_rate': 0.015689071918450898, 'depth': 7, 'l2_leaf_reg': 4.254700085642819, 'random_strength': 1.7342864409845242, 'rsm': 0.9589937091679133, 'grow_policy': 'SymmetricTree', 'min_data_in_leaf': 47, 'leaf_estimation_iterations': 10, 'border_count': 176}. Best is trial 218 with value: 0.914366286271263.\n"
     ]
    },
    {
     "name": "stderr",
     "output_type": "stream",
     "text": [
      "Best trial: 218. Best value: 0.914366:  80%|████████  | 241/300 [15:55:48<1:33:25, 95.00s/it] "
     ]
    },
    {
     "name": "stdout",
     "output_type": "stream",
     "text": [
      "[I 2025-10-23 17:49:19,939] Trial 240 finished with value: 0.9060292131539169 and parameters: {'bootstrap_type': 'MVS', 'learning_rate': 0.07886242780138891, 'depth': 7, 'l2_leaf_reg': 1.5337124282552974, 'random_strength': 1.689937059917027, 'rsm': 0.9438820273583511, 'grow_policy': 'SymmetricTree', 'min_data_in_leaf': 44, 'leaf_estimation_iterations': 10, 'border_count': 179}. Best is trial 218 with value: 0.914366286271263.\n"
     ]
    },
    {
     "name": "stderr",
     "output_type": "stream",
     "text": [
      "Best trial: 218. Best value: 0.914366:  81%|████████  | 242/300 [15:56:40<1:19:14, 81.97s/it]"
     ]
    },
    {
     "name": "stdout",
     "output_type": "stream",
     "text": [
      "[I 2025-10-23 17:50:11,495] Trial 241 finished with value: 0.909451970262866 and parameters: {'bootstrap_type': 'MVS', 'learning_rate': 0.05029596531432341, 'depth': 7, 'l2_leaf_reg': 1.9865528436520308, 'random_strength': 1.5529139860481145, 'rsm': 0.9169548118717058, 'grow_policy': 'SymmetricTree', 'min_data_in_leaf': 42, 'leaf_estimation_iterations': 10, 'border_count': 184}. Best is trial 218 with value: 0.914366286271263.\n"
     ]
    },
    {
     "name": "stderr",
     "output_type": "stream",
     "text": [
      "Best trial: 218. Best value: 0.914366:  81%|████████  | 243/300 [15:58:39<1:28:32, 93.20s/it]"
     ]
    },
    {
     "name": "stdout",
     "output_type": "stream",
     "text": [
      "[I 2025-10-23 17:52:10,892] Trial 242 finished with value: 0.9134923012807759 and parameters: {'bootstrap_type': 'MVS', 'learning_rate': 0.017679436156931377, 'depth': 7, 'l2_leaf_reg': 1.8285061190647096, 'random_strength': 1.5834729186430336, 'rsm': 0.9002483957764632, 'grow_policy': 'SymmetricTree', 'min_data_in_leaf': 43, 'leaf_estimation_iterations': 10, 'border_count': 189}. Best is trial 218 with value: 0.914366286271263.\n"
     ]
    },
    {
     "name": "stderr",
     "output_type": "stream",
     "text": [
      "Best trial: 218. Best value: 0.914366:  81%|████████▏ | 244/300 [16:00:24<1:30:07, 96.57s/it]"
     ]
    },
    {
     "name": "stdout",
     "output_type": "stream",
     "text": [
      "[I 2025-10-23 17:53:55,320] Trial 243 finished with value: 0.9103100845753387 and parameters: {'bootstrap_type': 'MVS', 'learning_rate': 0.026805906603488264, 'depth': 7, 'l2_leaf_reg': 1.7278606394563103, 'random_strength': 1.6022374691215022, 'rsm': 0.8990224996483708, 'grow_policy': 'SymmetricTree', 'min_data_in_leaf': 44, 'leaf_estimation_iterations': 10, 'border_count': 182}. Best is trial 218 with value: 0.914366286271263.\n"
     ]
    },
    {
     "name": "stderr",
     "output_type": "stream",
     "text": [
      "Best trial: 218. Best value: 0.914366:  82%|████████▏ | 245/300 [16:02:31<1:36:54, 105.73s/it]"
     ]
    },
    {
     "name": "stdout",
     "output_type": "stream",
     "text": [
      "[I 2025-10-23 17:56:02,421] Trial 244 finished with value: 0.9122804722707132 and parameters: {'bootstrap_type': 'MVS', 'learning_rate': 0.01831455229403545, 'depth': 7, 'l2_leaf_reg': 2.160877863188706, 'random_strength': 0.8514867148878529, 'rsm': 0.8894921936753288, 'grow_policy': 'SymmetricTree', 'min_data_in_leaf': 43, 'leaf_estimation_iterations': 10, 'border_count': 189}. Best is trial 218 with value: 0.914366286271263.\n"
     ]
    },
    {
     "name": "stderr",
     "output_type": "stream",
     "text": [
      "Best trial: 218. Best value: 0.914366:  82%|████████▏ | 246/300 [16:10:31<3:16:21, 218.17s/it]"
     ]
    },
    {
     "name": "stdout",
     "output_type": "stream",
     "text": [
      "[I 2025-10-23 18:04:02,966] Trial 245 finished with value: 0.911818946025106 and parameters: {'bootstrap_type': 'MVS', 'learning_rate': 0.01637892806790006, 'depth': 7, 'l2_leaf_reg': 2.034750739411999, 'random_strength': 1.6476596651061257, 'rsm': 0.9057431437959109, 'grow_policy': 'SymmetricTree', 'min_data_in_leaf': 45, 'leaf_estimation_iterations': 10, 'border_count': 186}. Best is trial 218 with value: 0.914366286271263.\n"
     ]
    }
   ],
   "source": [
    "# -*- coding: utf-8 -*-\n",
    "# Jupyter cell — LOCO + chr-disjoint HPO with expanded spaces for CatBoost/XGBoost\n",
    "\n",
    "import os, json, random, warnings\n",
    "warnings.filterwarnings(\"ignore\")\n",
    "\n",
    "import optuna\n",
    "import numpy as np\n",
    "import pandas as pd\n",
    "from scipy.stats import spearmanr\n",
    "from functools import partial\n",
    "from sklearn.metrics import roc_auc_score\n",
    "\n",
    "import lightgbm as lgb\n",
    "import xgboost as xgb\n",
    "from catboost import CatBoostClassifier, CatBoostRegressor\n",
    "\n",
    "# ========== config ==========\n",
    "SEED = 42\n",
    "random.seed(SEED); np.random.seed(SEED)\n",
    "\n",
    "TRAIN_PATH = \"../preprocessed_data/reference/1. merged data/with_y_100_one_side/X1_all_rank_features_with_y.tsv\"\n",
    "VAL_PATH   = \"../preprocessed_data/reference/1. merged data/with_y_100_one_side/X2_all_rank_features_with_y.tsv\"\n",
    "\n",
    "SAVE_ROOT = \"../results/hpo_loco_chr_disjoint\"\n",
    "os.makedirs(SAVE_ROOT, exist_ok=True)\n",
    "\n",
    "META_COLS = [\"gene_name\",\"chr\",\"gene_start\",\"gene_end\",\"TSS_start\",\"TSS_end\",\"strand\",\"gex\",\"gex_rank\"]\n",
    "TARGET_R  = \"gex_rank\"\n",
    "TARGET_B  = \"gex_binary\"\n",
    "\n",
    "# trials per study（依資源調整）\n",
    "N_TRIALS_LGBM_BIN = 300\n",
    "N_TRIALS_XGB_BIN  = 300\n",
    "N_TRIALS_CAT_BIN  = 300\n",
    "N_TRIALS_CAT_REG  = 300\n",
    "\n",
    "K_VAL_CHR = 4  # 每個 trial 驗證用的 chr 數\n",
    "\n",
    "# ========== load ==========\n",
    "df_x1 = pd.read_csv(TRAIN_PATH, sep=\"\\t\"); df_x1[\"cell_id\"] = \"X1\"\n",
    "df_x2 = pd.read_csv(VAL_PATH,   sep=\"\\t\"); df_x2[\"cell_id\"] = \"X2\"\n",
    "\n",
    "df_all = pd.concat([df_x1, df_x2], ignore_index=True)\n",
    "df_all[TARGET_B] = (df_all[\"gex\"] > 0.0).astype(int)\n",
    "\n",
    "# features\n",
    "drop_cols = set(META_COLS + [TARGET_B, \"cell_id\"])\n",
    "feature_cols = [c for c in df_all.columns if c not in drop_cols]\n",
    "chromosomes = sorted(df_all[\"chr\"].unique())\n",
    "print(f\"🧬 chromosomes: {chromosomes}\")\n",
    "print(f\"Feature count: {len(feature_cols)} | Total rows: {len(df_all):,}\")\n",
    "\n",
    "# ========== helpers ==========\n",
    "def split_loco_by_chromosomes(trial, train_cell, val_cell, k_val=K_VAL_CHR):\n",
    "    \"\"\"LOCO: train on one cell, validate on the other; chromosomes disjoint.\"\"\"\n",
    "    rng = random.Random(SEED)  # 確保每個 trial 不同\n",
    "    if k_val > len(chromosomes):\n",
    "        raise ValueError(\"k_val exceeds available chromosomes.\")\n",
    "    val_chrs = rng.sample(chromosomes, k_val)\n",
    "    tr = df_all[(df_all[\"cell_id\"] == train_cell) & (~df_all[\"chr\"].isin(val_chrs))].copy()\n",
    "    va = df_all[(df_all[\"cell_id\"] == val_cell)   & ( df_all[\"chr\"].isin(val_chrs))].copy()\n",
    "    return tr, va, val_chrs\n",
    "\n",
    "def mean_per_chr_auc(df_v, y_true, y_pred):\n",
    "    per = []\n",
    "    tmp = df_v.assign(_y=np.asarray(y_true), _p=np.asarray(y_pred))\n",
    "    for _, g in tmp.groupby(\"chr\"):\n",
    "        yt = g[\"_y\"].values; yp = g[\"_p\"].values\n",
    "        if len(np.unique(yt)) == 2 and len(yt) >= 3:\n",
    "            per.append(roc_auc_score(yt, yp))\n",
    "    return np.nanmean(per) if per else np.nan\n",
    "\n",
    "def mean_per_chr_spearman(df_v, y_true, y_pred):\n",
    "    per = []\n",
    "    tmp = df_v.assign(_y=np.asarray(y_true), _p=np.asarray(y_pred))\n",
    "    for _, g in tmp.groupby(\"chr\"):\n",
    "        if len(g) >= 3:\n",
    "            per.append(spearmanr(g[\"_y\"], g[\"_p\"])[0])\n",
    "    return np.nanmean(per) if per else np.nan\n",
    "{        loss_function=\"Logloss\",\n",
    "        eval_metric=\"AUC\",\n",
    "        iterations=6000,\n",
    "                random_seed=SEED,\n",
    "        od_type=\"Iter\", od_wait=200,\n",
    "        verbose=False,\n",
    "        bootstrap_type=bootstrap_type,\n",
    "        'bootstrap_type': 'MVS', 'learning_rate': 0.03210446479623253, 'depth': 7, 'l2_leaf_reg': 1.6920399390073075, 'random_strength': 1.6154397653677859, 'rsm': 0.921748554489924, 'grow_policy': 'SymmetricTree', 'min_data_in_leaf': 35, 'leaf_estimation_iterations': 9, 'border_count': 186}. Best is trial 218 with value: 0.914366286271263.\n",
    "\n",
    "def objective_cat_bin(trial, train_cell, val_cell):\n",
    "    tr, va, _ = split_loco_by_chromosomes(trial, train_cell, val_cell)\n",
    "    X_tr, y_tr = tr[feature_cols], tr[TARGET_B]\n",
    "    X_va, y_va = va[feature_cols], va[TARGET_B]\n",
    "\n",
    "    bootstrap_type = trial.suggest_categorical(\"bootstrap_type\", [\"Bayesian\", \"Bernoulli\", \"MVS\"])\n",
    "    params = dict(\n",
    "        loss_function=\"Logloss\",\n",
    "        eval_metric=\"AUC\",\n",
    "        iterations=6000,\n",
    "        learning_rate=trial.suggest_float(\"learning_rate\", 0.01, 0.2, log=True),\n",
    "        depth=trial.suggest_int(\"depth\", 4, 10),\n",
    "        l2_leaf_reg=trial.suggest_float(\"l2_leaf_reg\", 1.0, 10.0),\n",
    "        random_strength=trial.suggest_float(\"random_strength\", 0.0, 2.0),\n",
    "        rsm=trial.suggest_float(\"rsm\", 0.5, 1.0),  # feature subsampling\n",
    "        grow_policy=trial.suggest_categorical(\"grow_policy\", [\"SymmetricTree\", \"Depthwise\", \"Lossguide\"]),\n",
    "        min_data_in_leaf=trial.suggest_int(\"min_data_in_leaf\", 1, 64),\n",
    "        leaf_estimation_iterations=trial.suggest_int(\"leaf_estimation_iterations\", 1, 10),\n",
    "        border_count=trial.suggest_int(\"border_count\", 128, 255),  # 連續特徵 bin 數\n",
    "        random_seed=SEED,\n",
    "        od_type=\"Iter\", od_wait=200,\n",
    "        verbose=False,\n",
    "        bootstrap_type=bootstrap_type,\n",
    "    )\n",
    "    # 依 bootstrap_type 增加條件參數\n",
    "    if bootstrap_type == \"Bernoulli\":\n",
    "        params[\"subsample\"] = trial.suggest_float(\"subsample\", 0.5, 1.0)\n",
    "    elif bootstrap_type == \"Bayesian\":\n",
    "        params[\"bagging_temperature\"] = trial.suggest_float(\"bagging_temperature\", 0.0, 10.0)\n",
    "    # MVS 不需要額外參數\n",
    "\n",
    "    mdl = CatBoostClassifier(**params)\n",
    "    mdl.fit(X_tr, y_tr, eval_set=(X_va, y_va), verbose=False)\n",
    "    p = mdl.predict_proba(X_va)[:,1]\n",
    "    auc_chr = mean_per_chr_auc(va, y_va, p)\n",
    "    auc_all = roc_auc_score(y_va, p)\n",
    "    return auc_chr if not np.isnan(auc_chr) else auc_all\n",
    "\n",
    "def objective_cat_reg(trial, train_cell, val_cell):\n",
    "    tr, va, _ = split_loco_by_chromosomes(trial, train_cell, val_cell)\n",
    "    X_tr, y_tr = tr[feature_cols], tr[TARGET_R]\n",
    "    X_va, y_va = va[feature_cols], va[TARGET_R]\n",
    "\n",
    "    bootstrap_type = trial.suggest_categorical(\"bootstrap_type\", [\"Bayesian\", \"Bernoulli\", \"MVS\"])\n",
    "    params = dict(\n",
    "        loss_function=\"RMSE\",\n",
    "        eval_metric=\"RMSE\",\n",
    "        iterations=6000,\n",
    "        learning_rate=trial.suggest_float(\"learning_rate\", 0.005, 0.1, log=True),\n",
    "        depth=trial.suggest_int(\"depth\", 4, 10),\n",
    "        l2_leaf_reg=trial.suggest_float(\"l2_leaf_reg\", 1.0, 10.0),\n",
    "        random_strength=trial.suggest_float(\"random_strength\", 0.0, 2.0),\n",
    "        rsm=trial.suggest_float(\"rsm\", 0.5, 1.0),\n",
    "        grow_policy=trial.suggest_categorical(\"grow_policy\", [\"SymmetricTree\", \"Depthwise\", \"Lossguide\"]),\n",
    "        min_data_in_leaf=trial.suggest_int(\"min_data_in_leaf\", 1, 64),\n",
    "        leaf_estimation_iterations=trial.suggest_int(\"leaf_estimation_iterations\", 1, 10),\n",
    "        border_count=trial.suggest_int(\"border_count\", 128, 255),\n",
    "        random_seed=SEED,\n",
    "        od_type=\"Iter\", od_wait=200,\n",
    "        verbose=False,\n",
    "        bootstrap_type=bootstrap_type,\n",
    "    )\n",
    "    if bootstrap_type == \"Bernoulli\":\n",
    "        params[\"subsample\"] = trial.suggest_float(\"subsample\", 0.5, 1.0)\n",
    "    elif bootstrap_type == \"Bayesian\":\n",
    "        params[\"bagging_temperature\"] = trial.suggest_float(\"bagging_temperature\", 0.0, 10.0)\n",
    "\n",
    "    mdl = CatBoostRegressor(**params)\n",
    "    mdl.fit(X_tr, y_tr, eval_set=(X_va, y_va), verbose=False)\n",
    "    pred = mdl.predict(X_va)\n",
    "    rho_chr = mean_per_chr_spearman(va, y_va, pred)\n",
    "    rho_all = spearmanr(y_va, pred)[0]\n",
    "    return rho_chr if not np.isnan(rho_chr) else rho_all\n",
    "\n",
    "# ========== run studies for both LOCO directions ==========\n",
    "def run_and_save(name, objective_fn, n_trials, train_cell, val_cell):\n",
    "    tag = f\"{name}_{train_cell}_to_{val_cell}\"\n",
    "    print(f\"\\n===== 🔎 Start study: {tag} | trials={n_trials} =====\")\n",
    "    study = optuna.create_study(direction=\"maximize\",\n",
    "                                sampler=optuna.samplers.TPESampler(seed=SEED))\n",
    "    study.optimize(partial(objective_fn, train_cell=train_cell, val_cell=val_cell),\n",
    "                   n_trials=n_trials, show_progress_bar=True)\n",
    "    print(f\"✅ {tag} Best value: {study.best_value}\")\n",
    "    print(\"🏆 Best params:\")\n",
    "    for k,v in study.best_params.items():\n",
    "        print(f\"  {k}: {v}\")\n",
    "    out_dir = os.path.join(SAVE_ROOT, tag); os.makedirs(out_dir, exist_ok=True)\n",
    "    study.trials_dataframe().to_csv(os.path.join(out_dir, \"trials_log.csv\"), index=False)\n",
    "    with open(os.path.join(out_dir, \"best_params.json\"), \"w\") as f:\n",
    "        json.dump(study.best_params, f, indent=4)\n",
    "    print(f\"💾 Saved to {out_dir}\")\n",
    "    return study\n",
    "\n",
    "PAIRS = [(\"X1\",\"X2\"), (\"X2\",\"X1\")]\n",
    "\n",
    "for a,b in PAIRS:\n",
    "    run_and_save(\"catboost_bin\", objective_cat_bin,  N_TRIALS_CAT_BIN,  a, b)\n",
    "    run_and_save(\"catboost_reg\", objective_cat_reg,  N_TRIALS_CAT_REG,  a, b)\n"
   ]
  },
  {
   "cell_type": "code",
   "execution_count": 1,
   "metadata": {},
   "outputs": [
    {
     "name": "stderr",
     "output_type": "stream",
     "text": [
      "[I 2025-10-23 18:13:56,976] A new study created in memory with name: no-name-e3ca706c-dd73-4799-bd62-964389964128\n"
     ]
    },
    {
     "name": "stdout",
     "output_type": "stream",
     "text": [
      "🧬 chromosomes: ['chr10', 'chr11', 'chr12', 'chr13', 'chr14', 'chr15', 'chr16', 'chr17', 'chr18', 'chr19', 'chr2', 'chr20', 'chr21', 'chr22', 'chr3', 'chr4', 'chr5', 'chr6', 'chr7', 'chr8', 'chr9']\n",
      "Feature count: 2892 | Total rows: 32,568\n",
      "\n",
      "===== 🔎 Start study: catboost_reg_X1_to_X2 | trials=300 =====\n"
     ]
    },
    {
     "name": "stderr",
     "output_type": "stream",
     "text": [
      "Best trial: 0. Best value: 0.784287:   0%|          | 1/300 [1:36:45<482:09:36, 5805.27s/it]"
     ]
    },
    {
     "name": "stdout",
     "output_type": "stream",
     "text": [
      "[I 2025-10-23 19:50:42,269] Trial 0 finished with value: 0.7842867620946721 and parameters: {'bootstrap_type': 'Bernoulli', 'learning_rate': 0.030049873591901578, 'depth': 5, 'l2_leaf_reg': 2.403950683025824, 'random_strength': 0.11616722433639892, 'rsm': 0.9330880728874675, 'grow_policy': 'Depthwise', 'min_data_in_leaf': 63, 'leaf_estimation_iterations': 9, 'border_count': 155, 'subsample': 0.5909124836035503}. Best is trial 0 with value: 0.7842867620946721.\n"
     ]
    },
    {
     "name": "stderr",
     "output_type": "stream",
     "text": [
      "Best trial: 0. Best value: 0.784287:   1%|          | 2/300 [1:38:45<203:43:23, 2461.08s/it]"
     ]
    },
    {
     "name": "stdout",
     "output_type": "stream",
     "text": [
      "[I 2025-10-23 19:52:42,423] Trial 1 finished with value: 0.7826593288543319 and parameters: {'bootstrap_type': 'MVS', 'learning_rate': 0.018236581424556055, 'depth': 6, 'l2_leaf_reg': 6.506676052501415, 'random_strength': 0.27898772130408367, 'rsm': 0.6460723242676091, 'grow_policy': 'Lossguide', 'min_data_in_leaf': 13, 'leaf_estimation_iterations': 6, 'border_count': 203}. Best is trial 0 with value: 0.7842867620946721.\n"
     ]
    },
    {
     "name": "stderr",
     "output_type": "stream",
     "text": [
      "Best trial: 0. Best value: 0.784287:   1%|          | 3/300 [1:49:28<134:33:36, 1631.03s/it]"
     ]
    },
    {
     "name": "stdout",
     "output_type": "stream",
     "text": [
      "[I 2025-10-23 20:03:25,693] Trial 2 finished with value: 0.7819870636792594 and parameters: {'bootstrap_type': 'Bernoulli', 'learning_rate': 0.0060758085133366885, 'depth': 10, 'l2_leaf_reg': 9.690688297671034, 'random_strength': 1.6167946962329223, 'rsm': 0.6523068845866853, 'grow_policy': 'Depthwise', 'min_data_in_leaf': 8, 'leaf_estimation_iterations': 5, 'border_count': 132, 'subsample': 0.954660201039391}. Best is trial 0 with value: 0.7842867620946721.\n"
     ]
    },
    {
     "name": "stderr",
     "output_type": "stream",
     "text": [
      "Best trial: 3. Best value: 0.785301:   1%|▏         | 4/300 [1:51:47<85:40:51, 1042.07s/it] "
     ]
    },
    {
     "name": "stdout",
     "output_type": "stream",
     "text": [
      "[I 2025-10-23 20:05:44,877] Trial 3 finished with value: 0.785300664439774 and parameters: {'bootstrap_type': 'Bernoulli', 'learning_rate': 0.023746198818402044, 'depth': 7, 'l2_leaf_reg': 2.6636900997297435, 'random_strength': 1.9391692555291171, 'rsm': 0.8875664116805573, 'grow_policy': 'SymmetricTree', 'min_data_in_leaf': 59, 'leaf_estimation_iterations': 1, 'border_count': 153, 'subsample': 0.522613644455269}. Best is trial 3 with value: 0.785300664439774.\n"
     ]
    },
    {
     "name": "stderr",
     "output_type": "stream",
     "text": [
      "Best trial: 3. Best value: 0.785301:   2%|▏         | 5/300 [1:52:29<55:48:54, 681.13s/it] "
     ]
    },
    {
     "name": "stdout",
     "output_type": "stream",
     "text": [
      "[I 2025-10-23 20:06:26,041] Trial 4 finished with value: 0.7825431224423481 and parameters: {'bootstrap_type': 'Bernoulli', 'learning_rate': 0.05986629236379361, 'depth': 6, 'l2_leaf_reg': 3.5284105871864266, 'random_strength': 1.085392166316497, 'rsm': 0.5704621124873813, 'grow_policy': 'Lossguide', 'min_data_in_leaf': 50, 'leaf_estimation_iterations': 2, 'border_count': 128, 'subsample': 0.9077307142274171}. Best is trial 3 with value: 0.785300664439774.\n"
     ]
    },
    {
     "name": "stderr",
     "output_type": "stream",
     "text": [
      "Best trial: 3. Best value: 0.785301:   2%|▏         | 6/300 [1:56:13<42:56:42, 525.86s/it]"
     ]
    },
    {
     "name": "stdout",
     "output_type": "stream",
     "text": [
      "[I 2025-10-23 20:10:10,485] Trial 5 finished with value: 0.7840404666281727 and parameters: {'bootstrap_type': 'MVS', 'learning_rate': 0.006241720498669827, 'depth': 6, 'l2_leaf_reg': 2.0428215357261674, 'random_strength': 1.726206851751187, 'rsm': 0.811649063413779, 'grow_policy': 'SymmetricTree', 'min_data_in_leaf': 21, 'leaf_estimation_iterations': 8, 'border_count': 209}. Best is trial 3 with value: 0.785300664439774.\n"
     ]
    },
    {
     "name": "stderr",
     "output_type": "stream",
     "text": [
      "Best trial: 3. Best value: 0.785301:   2%|▏         | 7/300 [2:09:03<49:18:27, 605.83s/it]"
     ]
    },
    {
     "name": "stdout",
     "output_type": "stream",
     "text": [
      "[I 2025-10-23 20:23:00,949] Trial 6 finished with value: 0.7802221148497679 and parameters: {'bootstrap_type': 'Bayesian', 'learning_rate': 0.042356773126632795, 'depth': 9, 'l2_leaf_reg': 6.051494778125466, 'random_strength': 1.541934359909122, 'rsm': 0.7468977981821954, 'grow_policy': 'SymmetricTree', 'min_data_in_leaf': 7, 'leaf_estimation_iterations': 1, 'border_count': 209, 'bagging_temperature': 3.143559810763267}. Best is trial 3 with value: 0.785300664439774.\n"
     ]
    },
    {
     "name": "stderr",
     "output_type": "stream",
     "text": [
      "Best trial: 3. Best value: 0.785301:   3%|▎         | 8/300 [2:11:15<36:54:17, 454.99s/it]"
     ]
    },
    {
     "name": "stdout",
     "output_type": "stream",
     "text": [
      "[I 2025-10-23 20:25:12,973] Trial 7 finished with value: 0.7836254113618722 and parameters: {'bootstrap_type': 'Bernoulli', 'learning_rate': 0.017095842058829476, 'depth': 9, 'l2_leaf_reg': 3.059183489424602, 'random_strength': 0.15395981965758598, 'rsm': 0.6448757264568841, 'grow_policy': 'Depthwise', 'min_data_in_leaf': 41, 'leaf_estimation_iterations': 9, 'border_count': 230, 'subsample': 0.5932850294430179}. Best is trial 3 with value: 0.785300664439774.\n"
     ]
    },
    {
     "name": "stderr",
     "output_type": "stream",
     "text": [
      "Best trial: 3. Best value: 0.785301:   3%|▎         | 9/300 [2:12:03<26:28:46, 327.58s/it]"
     ]
    },
    {
     "name": "stdout",
     "output_type": "stream",
     "text": [
      "[I 2025-10-23 20:26:00,406] Trial 8 finished with value: 0.779115894035395 and parameters: {'bootstrap_type': 'Bayesian', 'learning_rate': 0.07325068062521803, 'depth': 6, 'l2_leaf_reg': 1.9904673207490908, 'random_strength': 0.45587032508388337, 'rsm': 0.7135538943131281, 'grow_policy': 'Depthwise', 'min_data_in_leaf': 33, 'leaf_estimation_iterations': 5, 'border_count': 156, 'bagging_temperature': 1.198653673336828}. Best is trial 3 with value: 0.785300664439774.\n"
     ]
    },
    {
     "name": "stderr",
     "output_type": "stream",
     "text": [
      "Best trial: 3. Best value: 0.785301:   3%|▎         | 10/300 [2:15:58<24:05:40, 299.10s/it]"
     ]
    },
    {
     "name": "stdout",
     "output_type": "stream",
     "text": [
      "[I 2025-10-23 20:29:55,747] Trial 9 finished with value: 0.7833912002331195 and parameters: {'bootstrap_type': 'Bernoulli', 'learning_rate': 0.023655501778132408, 'depth': 8, 'l2_leaf_reg': 4.272666421413646, 'random_strength': 1.9435641654419213, 'rsm': 0.9812236474710556, 'grow_policy': 'Depthwise', 'min_data_in_leaf': 19, 'leaf_estimation_iterations': 1, 'border_count': 206, 'subsample': 0.7513395116144308}. Best is trial 3 with value: 0.785300664439774.\n"
     ]
    },
    {
     "name": "stderr",
     "output_type": "stream",
     "text": [
      "Best trial: 3. Best value: 0.785301:   4%|▎         | 11/300 [2:20:32<23:23:43, 291.43s/it]"
     ]
    },
    {
     "name": "stdout",
     "output_type": "stream",
     "text": [
      "[I 2025-10-23 20:34:29,776] Trial 10 finished with value: 0.7720970048936341 and parameters: {'bootstrap_type': 'Bayesian', 'learning_rate': 0.008900933802017338, 'depth': 4, 'l2_leaf_reg': 8.284148500456554, 'random_strength': 1.1312261813628064, 'rsm': 0.8665991722022603, 'grow_policy': 'SymmetricTree', 'min_data_in_leaf': 63, 'leaf_estimation_iterations': 3, 'border_count': 175, 'bagging_temperature': 9.862080677321078}. Best is trial 3 with value: 0.785300664439774.\n"
     ]
    },
    {
     "name": "stderr",
     "output_type": "stream",
     "text": [
      "Best trial: 3. Best value: 0.785301:   4%|▍         | 12/300 [2:20:53<16:43:55, 209.15s/it]"
     ]
    },
    {
     "name": "stdout",
     "output_type": "stream",
     "text": [
      "[I 2025-10-23 20:34:50,743] Trial 11 finished with value: 0.7789077099579769 and parameters: {'bootstrap_type': 'Bernoulli', 'learning_rate': 0.03611505728950798, 'depth': 4, 'l2_leaf_reg': 1.3043334279577685, 'random_strength': 0.6365725002496161, 'rsm': 0.9578030178206616, 'grow_policy': 'SymmetricTree', 'min_data_in_leaf': 61, 'leaf_estimation_iterations': 10, 'border_count': 161, 'subsample': 0.5038627396761364}. Best is trial 3 with value: 0.785300664439774.\n"
     ]
    },
    {
     "name": "stderr",
     "output_type": "stream",
     "text": [
      "Best trial: 3. Best value: 0.785301:   4%|▍         | 13/300 [2:22:02<13:16:43, 166.56s/it]"
     ]
    },
    {
     "name": "stdout",
     "output_type": "stream",
     "text": [
      "[I 2025-10-23 20:35:59,300] Trial 12 finished with value: 0.7828399373478236 and parameters: {'bootstrap_type': 'Bernoulli', 'learning_rate': 0.027823964380872913, 'depth': 7, 'l2_leaf_reg': 4.715776593809631, 'random_strength': 0.7953698536254696, 'rsm': 0.8559889011067058, 'grow_policy': 'Depthwise', 'min_data_in_leaf': 51, 'leaf_estimation_iterations': 7, 'border_count': 152, 'subsample': 0.6251343810631648}. Best is trial 3 with value: 0.785300664439774.\n"
     ]
    },
    {
     "name": "stderr",
     "output_type": "stream",
     "text": [
      "Best trial: 3. Best value: 0.785301:   5%|▍         | 14/300 [2:23:15<10:59:30, 138.36s/it]"
     ]
    },
    {
     "name": "stdout",
     "output_type": "stream",
     "text": [
      "[I 2025-10-23 20:37:12,492] Trial 13 finished with value: 0.7839054486662138 and parameters: {'bootstrap_type': 'Bernoulli', 'learning_rate': 0.012343096222918855, 'depth': 5, 'l2_leaf_reg': 2.992862453678275, 'random_strength': 0.0978651353019204, 'rsm': 0.9147913520605927, 'grow_policy': 'SymmetricTree', 'min_data_in_leaf': 54, 'leaf_estimation_iterations': 4, 'border_count': 178, 'subsample': 0.5363381839143551}. Best is trial 3 with value: 0.785300664439774.\n"
     ]
    },
    {
     "name": "stderr",
     "output_type": "stream",
     "text": [
      "Best trial: 3. Best value: 0.785301:   5%|▌         | 15/300 [2:24:13<9:02:50, 114.28s/it] "
     ]
    },
    {
     "name": "stdout",
     "output_type": "stream",
     "text": [
      "[I 2025-10-23 20:38:10,980] Trial 14 finished with value: 0.7840611543776655 and parameters: {'bootstrap_type': 'MVS', 'learning_rate': 0.044693474116878615, 'depth': 7, 'l2_leaf_reg': 1.0275598814341835, 'random_strength': 1.3250341969671993, 'rsm': 0.8202139292383122, 'grow_policy': 'Lossguide', 'min_data_in_leaf': 40, 'leaf_estimation_iterations': 10, 'border_count': 253}. Best is trial 3 with value: 0.785300664439774.\n"
     ]
    },
    {
     "name": "stderr",
     "output_type": "stream",
     "text": [
      "Best trial: 3. Best value: 0.785301:   5%|▌         | 16/300 [2:25:50<8:34:56, 108.79s/it]"
     ]
    },
    {
     "name": "stdout",
     "output_type": "stream",
     "text": [
      "[I 2025-10-23 20:39:46,995] Trial 15 finished with value: 0.7852945759134192 and parameters: {'bootstrap_type': 'Bernoulli', 'learning_rate': 0.012938994721135145, 'depth': 5, 'l2_leaf_reg': 5.02933862017341, 'random_strength': 0.8317646976470201, 'rsm': 0.9066133977431999, 'grow_policy': 'Depthwise', 'min_data_in_leaf': 64, 'leaf_estimation_iterations': 7, 'border_count': 147, 'subsample': 0.7181030855185174}. Best is trial 3 with value: 0.785300664439774.\n"
     ]
    },
    {
     "name": "stderr",
     "output_type": "stream",
     "text": [
      "Best trial: 3. Best value: 0.785301:   6%|▌         | 17/300 [2:29:01<10:30:33, 133.69s/it]"
     ]
    },
    {
     "name": "stdout",
     "output_type": "stream",
     "text": [
      "[I 2025-10-23 20:42:58,604] Trial 16 finished with value: 0.7845413147774267 and parameters: {'bootstrap_type': 'Bernoulli', 'learning_rate': 0.012820295616567568, 'depth': 8, 'l2_leaf_reg': 7.293301250948909, 'random_strength': 0.8250147374525401, 'rsm': 0.9995788632752637, 'grow_policy': 'SymmetricTree', 'min_data_in_leaf': 56, 'leaf_estimation_iterations': 7, 'border_count': 140, 'subsample': 0.7346731338817981}. Best is trial 3 with value: 0.785300664439774.\n"
     ]
    },
    {
     "name": "stderr",
     "output_type": "stream",
     "text": [
      "Best trial: 3. Best value: 0.785301:   6%|▌         | 18/300 [2:31:20<10:35:12, 135.15s/it]"
     ]
    },
    {
     "name": "stdout",
     "output_type": "stream",
     "text": [
      "[I 2025-10-23 20:45:17,160] Trial 17 finished with value: 0.7846025303423366 and parameters: {'bootstrap_type': 'Bernoulli', 'learning_rate': 0.011455385488230338, 'depth': 5, 'l2_leaf_reg': 4.9817751292271595, 'random_strength': 1.2505922866736312, 'rsm': 0.895810529981527, 'grow_policy': 'Depthwise', 'min_data_in_leaf': 44, 'leaf_estimation_iterations': 3, 'border_count': 179, 'subsample': 0.7231610042250181}. Best is trial 3 with value: 0.785300664439774.\n"
     ]
    },
    {
     "name": "stderr",
     "output_type": "stream",
     "text": [
      "Best trial: 3. Best value: 0.785301:   6%|▋         | 19/300 [2:34:05<11:15:37, 144.26s/it]"
     ]
    },
    {
     "name": "stdout",
     "output_type": "stream",
     "text": [
      "[I 2025-10-23 20:48:02,637] Trial 18 finished with value: 0.7830326369098339 and parameters: {'bootstrap_type': 'MVS', 'learning_rate': 0.018049726374436, 'depth': 8, 'l2_leaf_reg': 3.9019080575379053, 'random_strength': 1.987468906913035, 'rsm': 0.8018733225219701, 'grow_policy': 'SymmetricTree', 'min_data_in_leaf': 30, 'leaf_estimation_iterations': 6, 'border_count': 145}. Best is trial 3 with value: 0.785300664439774.\n"
     ]
    },
    {
     "name": "stderr",
     "output_type": "stream",
     "text": [
      "Best trial: 3. Best value: 0.785301:   7%|▋         | 20/300 [2:35:21<9:37:01, 123.65s/it] "
     ]
    },
    {
     "name": "stdout",
     "output_type": "stream",
     "text": [
      "[I 2025-10-23 20:49:18,245] Trial 19 finished with value: 0.7573956131691391 and parameters: {'bootstrap_type': 'Bayesian', 'learning_rate': 0.09817237071061363, 'depth': 4, 'l2_leaf_reg': 5.126381269017203, 'random_strength': 0.8487524694999136, 'rsm': 0.7626324301054039, 'grow_policy': 'Lossguide', 'min_data_in_leaf': 47, 'leaf_estimation_iterations': 4, 'border_count': 169, 'bagging_temperature': 7.6119832098598135}. Best is trial 3 with value: 0.785300664439774.\n"
     ]
    },
    {
     "name": "stderr",
     "output_type": "stream",
     "text": [
      "Best trial: 20. Best value: 0.78633:   7%|▋         | 21/300 [2:39:03<11:52:46, 153.28s/it]"
     ]
    },
    {
     "name": "stdout",
     "output_type": "stream",
     "text": [
      "[I 2025-10-23 20:53:00,623] Trial 20 finished with value: 0.7863299453993088 and parameters: {'bootstrap_type': 'Bernoulli', 'learning_rate': 0.008418168915969259, 'depth': 7, 'l2_leaf_reg': 5.878372779788215, 'random_strength': 0.537348259529556, 'rsm': 0.8817337323490013, 'grow_policy': 'SymmetricTree', 'min_data_in_leaf': 34, 'leaf_estimation_iterations': 7, 'border_count': 194, 'subsample': 0.838718712678912}. Best is trial 20 with value: 0.7863299453993088.\n"
     ]
    },
    {
     "name": "stderr",
     "output_type": "stream",
     "text": [
      "Best trial: 21. Best value: 0.786588:   7%|▋         | 22/300 [2:42:09<12:34:57, 162.94s/it]"
     ]
    },
    {
     "name": "stdout",
     "output_type": "stream",
     "text": [
      "[I 2025-10-23 20:56:06,087] Trial 21 finished with value: 0.7865881862418531 and parameters: {'bootstrap_type': 'Bernoulli', 'learning_rate': 0.008391049246959811, 'depth': 7, 'l2_leaf_reg': 7.346640886535388, 'random_strength': 0.5316161931651155, 'rsm': 0.8786573830716804, 'grow_policy': 'SymmetricTree', 'min_data_in_leaf': 57, 'leaf_estimation_iterations': 7, 'border_count': 191, 'subsample': 0.8501191485755071}. Best is trial 21 with value: 0.7865881862418531.\n"
     ]
    },
    {
     "name": "stderr",
     "output_type": "stream",
     "text": [
      "Best trial: 22. Best value: 0.78847:   8%|▊         | 23/300 [2:46:58<15:27:41, 200.94s/it] "
     ]
    },
    {
     "name": "stdout",
     "output_type": "stream",
     "text": [
      "[I 2025-10-23 21:00:55,666] Trial 22 finished with value: 0.7884696825062045 and parameters: {'bootstrap_type': 'Bernoulli', 'learning_rate': 0.008111285070567976, 'depth': 7, 'l2_leaf_reg': 7.551679361074981, 'random_strength': 0.4917354726408797, 'rsm': 0.8531464275928351, 'grow_policy': 'SymmetricTree', 'min_data_in_leaf': 34, 'leaf_estimation_iterations': 8, 'border_count': 193, 'subsample': 0.849243087135847}. Best is trial 22 with value: 0.7884696825062045.\n"
     ]
    },
    {
     "name": "stderr",
     "output_type": "stream",
     "text": [
      "Best trial: 22. Best value: 0.78847:   8%|▊         | 24/300 [2:53:16<19:27:52, 253.89s/it]"
     ]
    },
    {
     "name": "stdout",
     "output_type": "stream",
     "text": [
      "[I 2025-10-23 21:07:13,057] Trial 23 finished with value: 0.7865092793661288 and parameters: {'bootstrap_type': 'Bernoulli', 'learning_rate': 0.008437722593490432, 'depth': 8, 'l2_leaf_reg': 8.0759638288117, 'random_strength': 0.4558218808871758, 'rsm': 0.84268137653544, 'grow_policy': 'SymmetricTree', 'min_data_in_leaf': 33, 'leaf_estimation_iterations': 8, 'border_count': 192, 'subsample': 0.8487655506087961}. Best is trial 22 with value: 0.7884696825062045.\n"
     ]
    },
    {
     "name": "stderr",
     "output_type": "stream",
     "text": [
      "Best trial: 22. Best value: 0.78847:   8%|▊         | 25/300 [3:07:06<32:35:52, 426.74s/it]"
     ]
    },
    {
     "name": "stdout",
     "output_type": "stream",
     "text": [
      "[I 2025-10-23 21:21:03,034] Trial 24 finished with value: 0.7859942495840249 and parameters: {'bootstrap_type': 'Bernoulli', 'learning_rate': 0.0052462320566064435, 'depth': 9, 'l2_leaf_reg': 8.338720180253327, 'random_strength': 0.35205288648193744, 'rsm': 0.5045332811460875, 'grow_policy': 'SymmetricTree', 'min_data_in_leaf': 26, 'leaf_estimation_iterations': 8, 'border_count': 222, 'subsample': 0.8454825792799306}. Best is trial 22 with value: 0.7884696825062045.\n"
     ]
    },
    {
     "name": "stderr",
     "output_type": "stream",
     "text": [
      "Best trial: 22. Best value: 0.78847:   9%|▊         | 26/300 [3:11:35<28:53:51, 379.68s/it]"
     ]
    },
    {
     "name": "stdout",
     "output_type": "stream",
     "text": [
      "[I 2025-10-23 21:25:32,912] Trial 25 finished with value: 0.7844497628602383 and parameters: {'bootstrap_type': 'Bernoulli', 'learning_rate': 0.008108420591173551, 'depth': 8, 'l2_leaf_reg': 7.465907854694441, 'random_strength': 0.6609858799356112, 'rsm': 0.8308980748589323, 'grow_policy': 'SymmetricTree', 'min_data_in_leaf': 26, 'leaf_estimation_iterations': 8, 'border_count': 192, 'subsample': 0.8341733571293349}. Best is trial 22 with value: 0.7884696825062045.\n"
     ]
    },
    {
     "name": "stderr",
     "output_type": "stream",
     "text": [
      "Best trial: 22. Best value: 0.78847:   9%|▉         | 27/300 [3:14:31<24:08:21, 318.32s/it]"
     ]
    },
    {
     "name": "stdout",
     "output_type": "stream",
     "text": [
      "[I 2025-10-23 21:28:28,081] Trial 26 finished with value: 0.7852099394619946 and parameters: {'bootstrap_type': 'Bernoulli', 'learning_rate': 0.007286668201971058, 'depth': 7, 'l2_leaf_reg': 9.353342949215683, 'random_strength': 0.3195983751384925, 'rsm': 0.7566944879946816, 'grow_policy': 'SymmetricTree', 'min_data_in_leaf': 35, 'leaf_estimation_iterations': 9, 'border_count': 186, 'subsample': 0.8817361401363394}. Best is trial 22 with value: 0.7884696825062045.\n"
     ]
    },
    {
     "name": "stderr",
     "output_type": "stream",
     "text": [
      "Best trial: 22. Best value: 0.78847:   9%|▉         | 28/300 [3:22:18<27:26:06, 363.11s/it]"
     ]
    },
    {
     "name": "stdout",
     "output_type": "stream",
     "text": [
      "[I 2025-10-23 21:36:15,702] Trial 27 finished with value: 0.7851800425462395 and parameters: {'bootstrap_type': 'Bernoulli', 'learning_rate': 0.010213295903731913, 'depth': 10, 'l2_leaf_reg': 8.743053693135202, 'random_strength': 0.48551092749701064, 'rsm': 0.949125329896604, 'grow_policy': 'SymmetricTree', 'min_data_in_leaf': 38, 'leaf_estimation_iterations': 8, 'border_count': 222, 'subsample': 0.9992483437747104}. Best is trial 22 with value: 0.7884696825062045.\n"
     ]
    },
    {
     "name": "stderr",
     "output_type": "stream",
     "text": [
      "Best trial: 22. Best value: 0.78847:  10%|▉         | 29/300 [3:29:05<28:18:56, 376.15s/it]"
     ]
    },
    {
     "name": "stdout",
     "output_type": "stream",
     "text": [
      "[I 2025-10-23 21:43:02,270] Trial 28 finished with value: 0.7839421749322548 and parameters: {'bootstrap_type': 'MVS', 'learning_rate': 0.00505565457939701, 'depth': 8, 'l2_leaf_reg': 7.162961364908149, 'random_strength': 0.6727613245672466, 'rsm': 0.7888355662469323, 'grow_policy': 'SymmetricTree', 'min_data_in_leaf': 15, 'leaf_estimation_iterations': 9, 'border_count': 198}. Best is trial 22 with value: 0.7884696825062045.\n"
     ]
    },
    {
     "name": "stderr",
     "output_type": "stream",
     "text": [
      "Best trial: 22. Best value: 0.78847:  10%|█         | 30/300 [3:49:54<47:51:43, 638.16s/it]"
     ]
    },
    {
     "name": "stdout",
     "output_type": "stream",
     "text": [
      "[I 2025-10-23 22:03:51,770] Trial 29 finished with value: 0.7766940317186526 and parameters: {'bootstrap_type': 'Bayesian', 'learning_rate': 0.015741423419209633, 'depth': 9, 'l2_leaf_reg': 7.857480581053576, 'random_strength': 0.03281177596062901, 'rsm': 0.8455218201444892, 'grow_policy': 'SymmetricTree', 'min_data_in_leaf': 2, 'leaf_estimation_iterations': 6, 'border_count': 184, 'bagging_temperature': 5.435553207873853}. Best is trial 22 with value: 0.7884696825062045.\n"
     ]
    },
    {
     "name": "stderr",
     "output_type": "stream",
     "text": [
      "Best trial: 22. Best value: 0.78847:  10%|█         | 31/300 [3:52:36<37:00:44, 495.33s/it]"
     ]
    },
    {
     "name": "stdout",
     "output_type": "stream",
     "text": [
      "[I 2025-10-23 22:06:33,842] Trial 30 finished with value: 0.7860094019014724 and parameters: {'bootstrap_type': 'Bernoulli', 'learning_rate': 0.007017433940532899, 'depth': 6, 'l2_leaf_reg': 6.672851595544086, 'random_strength': 0.9805613323189879, 'rsm': 0.7027881606222592, 'grow_policy': 'SymmetricTree', 'min_data_in_leaf': 28, 'leaf_estimation_iterations': 9, 'border_count': 166, 'subsample': 0.793696360777233}. Best is trial 22 with value: 0.7884696825062045.\n"
     ]
    },
    {
     "name": "stderr",
     "output_type": "stream",
     "text": [
      "Best trial: 31. Best value: 0.789598:  11%|█         | 32/300 [3:57:04<31:47:49, 427.13s/it]"
     ]
    },
    {
     "name": "stdout",
     "output_type": "stream",
     "text": [
      "[I 2025-10-23 22:11:01,825] Trial 31 finished with value: 0.7895976862259292 and parameters: {'bootstrap_type': 'Bernoulli', 'learning_rate': 0.008920076119194029, 'depth': 7, 'l2_leaf_reg': 5.830094477392112, 'random_strength': 0.5339936408411412, 'rsm': 0.8754187980470268, 'grow_policy': 'SymmetricTree', 'min_data_in_leaf': 36, 'leaf_estimation_iterations': 7, 'border_count': 193, 'subsample': 0.8108780459412758}. Best is trial 31 with value: 0.7895976862259292.\n"
     ]
    },
    {
     "name": "stderr",
     "output_type": "stream",
     "text": [
      "Best trial: 31. Best value: 0.789598:  11%|█         | 33/300 [4:00:25<26:38:44, 359.27s/it]"
     ]
    },
    {
     "name": "stdout",
     "output_type": "stream",
     "text": [
      "[I 2025-10-23 22:14:22,762] Trial 32 finished with value: 0.7886907441116453 and parameters: {'bootstrap_type': 'Bernoulli', 'learning_rate': 0.009903709906503105, 'depth': 7, 'l2_leaf_reg': 6.56899124079443, 'random_strength': 0.2024817025851987, 'rsm': 0.9361530092299479, 'grow_policy': 'SymmetricTree', 'min_data_in_leaf': 23, 'leaf_estimation_iterations': 7, 'border_count': 219, 'subsample': 0.7928963337438807}. Best is trial 31 with value: 0.7895976862259292.\n"
     ]
    },
    {
     "name": "stderr",
     "output_type": "stream",
     "text": [
      "Best trial: 31. Best value: 0.789598:  11%|█▏        | 34/300 [4:04:15<23:40:13, 320.35s/it]"
     ]
    },
    {
     "name": "stdout",
     "output_type": "stream",
     "text": [
      "[I 2025-10-23 22:18:12,310] Trial 33 finished with value: 0.784997014630644 and parameters: {'bootstrap_type': 'Bernoulli', 'learning_rate': 0.01018544847596598, 'depth': 7, 'l2_leaf_reg': 6.621576829043401, 'random_strength': 0.21484751015337794, 'rsm': 0.927319424463893, 'grow_policy': 'SymmetricTree', 'min_data_in_leaf': 21, 'leaf_estimation_iterations': 6, 'border_count': 240, 'subsample': 0.795634048715267}. Best is trial 31 with value: 0.7895976862259292.\n"
     ]
    },
    {
     "name": "stderr",
     "output_type": "stream",
     "text": [
      "Best trial: 31. Best value: 0.789598:  12%|█▏        | 35/300 [4:06:16<19:10:49, 260.57s/it]"
     ]
    },
    {
     "name": "stdout",
     "output_type": "stream",
     "text": [
      "[I 2025-10-23 22:20:13,374] Trial 34 finished with value: 0.785403086320865 and parameters: {'bootstrap_type': 'Bernoulli', 'learning_rate': 0.014903819320888812, 'depth': 6, 'l2_leaf_reg': 5.862201199888252, 'random_strength': 0.34729633125197856, 'rsm': 0.9449087957146781, 'grow_policy': 'Lossguide', 'min_data_in_leaf': 17, 'leaf_estimation_iterations': 7, 'border_count': 217, 'subsample': 0.7942891969977218}. Best is trial 31 with value: 0.7895976862259292.\n"
     ]
    },
    {
     "name": "stderr",
     "output_type": "stream",
     "text": [
      "Best trial: 31. Best value: 0.789598:  12%|█▏        | 36/300 [4:10:14<18:37:25, 253.96s/it]"
     ]
    },
    {
     "name": "stdout",
     "output_type": "stream",
     "text": [
      "[I 2025-10-23 22:24:11,919] Trial 35 finished with value: 0.7878039940923762 and parameters: {'bootstrap_type': 'Bernoulli', 'learning_rate': 0.006312990676938165, 'depth': 7, 'l2_leaf_reg': 6.4079155677205915, 'random_strength': 0.0029000235855070056, 'rsm': 0.877631223875931, 'grow_policy': 'SymmetricTree', 'min_data_in_leaf': 11, 'leaf_estimation_iterations': 5, 'border_count': 200, 'subsample': 0.8810116006904267}. Best is trial 31 with value: 0.7895976862259292.\n"
     ]
    },
    {
     "name": "stderr",
     "output_type": "stream",
     "text": [
      "Best trial: 31. Best value: 0.789598:  12%|█▏        | 37/300 [4:12:54<16:28:53, 225.60s/it]"
     ]
    },
    {
     "name": "stdout",
     "output_type": "stream",
     "text": [
      "[I 2025-10-23 22:26:51,350] Trial 36 finished with value: 0.7855753463888216 and parameters: {'bootstrap_type': 'Bernoulli', 'learning_rate': 0.006266225765517852, 'depth': 6, 'l2_leaf_reg': 6.473470811854021, 'random_strength': 0.00844328843313577, 'rsm': 0.9179067321229339, 'grow_policy': 'SymmetricTree', 'min_data_in_leaf': 8, 'leaf_estimation_iterations': 5, 'border_count': 202, 'subsample': 0.9159292983635867}. Best is trial 31 with value: 0.7895976862259292.\n"
     ]
    },
    {
     "name": "stderr",
     "output_type": "stream",
     "text": [
      "Best trial: 31. Best value: 0.789598:  13%|█▎        | 38/300 [4:16:08<15:43:41, 216.11s/it]"
     ]
    },
    {
     "name": "stdout",
     "output_type": "stream",
     "text": [
      "[I 2025-10-23 22:30:05,318] Trial 37 finished with value: 0.7839847037114827 and parameters: {'bootstrap_type': 'MVS', 'learning_rate': 0.006083435352562328, 'depth': 7, 'l2_leaf_reg': 6.359758363042304, 'random_strength': 0.2093871970635044, 'rsm': 0.9680036865307506, 'grow_policy': 'Lossguide', 'min_data_in_leaf': 12, 'leaf_estimation_iterations': 5, 'border_count': 216}. Best is trial 31 with value: 0.7895976862259292.\n"
     ]
    },
    {
     "name": "stderr",
     "output_type": "stream",
     "text": [
      "Best trial: 31. Best value: 0.789598:  13%|█▎        | 39/300 [4:19:07<14:51:50, 205.02s/it]"
     ]
    },
    {
     "name": "stdout",
     "output_type": "stream",
     "text": [
      "[I 2025-10-23 22:33:04,466] Trial 38 finished with value: 0.7881758249992563 and parameters: {'bootstrap_type': 'Bernoulli', 'learning_rate': 0.0103783439103182, 'depth': 7, 'l2_leaf_reg': 5.467372118139502, 'random_strength': 0.11954873844152931, 'rsm': 0.7777253956690701, 'grow_policy': 'SymmetricTree', 'min_data_in_leaf': 23, 'leaf_estimation_iterations': 6, 'border_count': 213, 'subsample': 0.6792474588708739}. Best is trial 31 with value: 0.7895976862259292.\n"
     ]
    },
    {
     "name": "stderr",
     "output_type": "stream",
     "text": [
      "Best trial: 31. Best value: 0.789598:  13%|█▎        | 40/300 [4:20:45<12:29:25, 172.94s/it]"
     ]
    },
    {
     "name": "stdout",
     "output_type": "stream",
     "text": [
      "[I 2025-10-23 22:34:42,556] Trial 39 finished with value: 0.7868878213236508 and parameters: {'bootstrap_type': 'Bernoulli', 'learning_rate': 0.01971302844039011, 'depth': 6, 'l2_leaf_reg': 5.388326216998041, 'random_strength': 0.2543986091558305, 'rsm': 0.789474834216533, 'grow_policy': 'SymmetricTree', 'min_data_in_leaf': 24, 'leaf_estimation_iterations': 6, 'border_count': 214, 'subsample': 0.6736282108417907}. Best is trial 31 with value: 0.7895976862259292.\n"
     ]
    },
    {
     "name": "stderr",
     "output_type": "stream",
     "text": [
      "Best trial: 31. Best value: 0.789598:  14%|█▎        | 41/300 [4:25:11<14:26:50, 200.81s/it]"
     ]
    },
    {
     "name": "stdout",
     "output_type": "stream",
     "text": [
      "[I 2025-10-23 22:39:08,399] Trial 40 finished with value: 0.7864297197102437 and parameters: {'bootstrap_type': 'Bayesian', 'learning_rate': 0.010203974329048416, 'depth': 8, 'l2_leaf_reg': 4.489561456588662, 'random_strength': 0.12479116438834525, 'rsm': 0.7103823364238535, 'grow_policy': 'SymmetricTree', 'min_data_in_leaf': 37, 'leaf_estimation_iterations': 8, 'border_count': 233, 'bagging_temperature': 0.5406690104380472}. Best is trial 31 with value: 0.7895976862259292.\n"
     ]
    },
    {
     "name": "stderr",
     "output_type": "stream",
     "text": [
      "Best trial: 31. Best value: 0.789598:  14%|█▍        | 42/300 [4:29:00<15:00:24, 209.40s/it]"
     ]
    },
    {
     "name": "stdout",
     "output_type": "stream",
     "text": [
      "[I 2025-10-23 22:42:57,827] Trial 41 finished with value: 0.7880529887566394 and parameters: {'bootstrap_type': 'Bernoulli', 'learning_rate': 0.007473567641623346, 'depth': 7, 'l2_leaf_reg': 5.692565738131791, 'random_strength': 0.38227171538556637, 'rsm': 0.8579105763576915, 'grow_policy': 'SymmetricTree', 'min_data_in_leaf': 30, 'leaf_estimation_iterations': 4, 'border_count': 201, 'subsample': 0.7740234470143346}. Best is trial 31 with value: 0.7895976862259292.\n"
     ]
    },
    {
     "name": "stderr",
     "output_type": "stream",
     "text": [
      "Best trial: 31. Best value: 0.789598:  14%|█▍        | 43/300 [4:32:15<14:38:23, 205.07s/it]"
     ]
    },
    {
     "name": "stdout",
     "output_type": "stream",
     "text": [
      "[I 2025-10-23 22:46:12,808] Trial 42 finished with value: 0.7871420382865638 and parameters: {'bootstrap_type': 'Bernoulli', 'learning_rate': 0.010885191652239336, 'depth': 7, 'l2_leaf_reg': 5.59383814998613, 'random_strength': 0.40110777149752813, 'rsm': 0.6666631623645105, 'grow_policy': 'SymmetricTree', 'min_data_in_leaf': 30, 'leaf_estimation_iterations': 4, 'border_count': 207, 'subsample': 0.7661576793724343}. Best is trial 31 with value: 0.7895976862259292.\n"
     ]
    },
    {
     "name": "stderr",
     "output_type": "stream",
     "text": [
      "Best trial: 31. Best value: 0.789598:  15%|█▍        | 44/300 [4:34:51<13:32:13, 190.36s/it]"
     ]
    },
    {
     "name": "stdout",
     "output_type": "stream",
     "text": [
      "[I 2025-10-23 22:48:48,856] Trial 43 finished with value: 0.7864482704586211 and parameters: {'bootstrap_type': 'Bernoulli', 'learning_rate': 0.007067043570613273, 'depth': 6, 'l2_leaf_reg': 6.8294454538726175, 'random_strength': 0.24368048216036917, 'rsm': 0.773512971619494, 'grow_policy': 'SymmetricTree', 'min_data_in_leaf': 23, 'leaf_estimation_iterations': 6, 'border_count': 233, 'subsample': 0.6800039187313172}. Best is trial 31 with value: 0.7895976862259292.\n"
     ]
    },
    {
     "name": "stderr",
     "output_type": "stream",
     "text": [
      "Best trial: 31. Best value: 0.789598:  15%|█▌        | 45/300 [4:39:47<15:43:18, 221.96s/it]"
     ]
    },
    {
     "name": "stdout",
     "output_type": "stream",
     "text": [
      "[I 2025-10-23 22:53:44,522] Trial 44 finished with value: 0.7883333820945754 and parameters: {'bootstrap_type': 'Bernoulli', 'learning_rate': 0.009095865602702287, 'depth': 7, 'l2_leaf_reg': 5.985142985282977, 'random_strength': 0.6061855264169287, 'rsm': 0.7355854694083394, 'grow_policy': 'SymmetricTree', 'min_data_in_leaf': 29, 'leaf_estimation_iterations': 3, 'border_count': 224, 'subsample': 0.688451864518213}. Best is trial 31 with value: 0.7895976862259292.\n"
     ]
    },
    {
     "name": "stderr",
     "output_type": "stream",
     "text": [
      "Best trial: 31. Best value: 0.789598:  15%|█▌        | 46/300 [4:41:45<13:27:34, 190.76s/it]"
     ]
    },
    {
     "name": "stdout",
     "output_type": "stream",
     "text": [
      "[I 2025-10-23 22:55:42,509] Trial 45 finished with value: 0.7883340570946874 and parameters: {'bootstrap_type': 'Bernoulli', 'learning_rate': 0.014036669568134388, 'depth': 6, 'l2_leaf_reg': 6.151096613150888, 'random_strength': 0.5769632901683444, 'rsm': 0.7338661899540343, 'grow_policy': 'SymmetricTree', 'min_data_in_leaf': 45, 'leaf_estimation_iterations': 3, 'border_count': 225, 'subsample': 0.6784433627051408}. Best is trial 31 with value: 0.7895976862259292.\n"
     ]
    },
    {
     "name": "stderr",
     "output_type": "stream",
     "text": [
      "Best trial: 31. Best value: 0.789598:  16%|█▌        | 47/300 [4:43:35<11:42:13, 166.54s/it]"
     ]
    },
    {
     "name": "stdout",
     "output_type": "stream",
     "text": [
      "[I 2025-10-23 22:57:32,508] Trial 46 finished with value: 0.7851565083035497 and parameters: {'bootstrap_type': 'Bernoulli', 'learning_rate': 0.01380476723028215, 'depth': 6, 'l2_leaf_reg': 6.19383132010404, 'random_strength': 0.9566829749700924, 'rsm': 0.7350495525554092, 'grow_policy': 'SymmetricTree', 'min_data_in_leaf': 43, 'leaf_estimation_iterations': 2, 'border_count': 240, 'subsample': 0.6487923278289396}. Best is trial 31 with value: 0.7895976862259292.\n"
     ]
    },
    {
     "name": "stderr",
     "output_type": "stream",
     "text": [
      "Best trial: 31. Best value: 0.789598:  16%|█▌        | 48/300 [4:45:20<10:22:13, 148.15s/it]"
     ]
    },
    {
     "name": "stdout",
     "output_type": "stream",
     "text": [
      "[I 2025-10-23 22:59:17,751] Trial 47 finished with value: 0.7828935523102354 and parameters: {'bootstrap_type': 'MVS', 'learning_rate': 0.009089317388701248, 'depth': 6, 'l2_leaf_reg': 7.668457623358019, 'random_strength': 0.6091168205329919, 'rsm': 0.671370842754589, 'grow_policy': 'Lossguide', 'min_data_in_leaf': 39, 'leaf_estimation_iterations': 3, 'border_count': 224}. Best is trial 31 with value: 0.7895976862259292.\n"
     ]
    },
    {
     "name": "stderr",
     "output_type": "stream",
     "text": [
      "Best trial: 31. Best value: 0.789598:  16%|█▋        | 49/300 [4:46:45<8:59:51, 129.05s/it] "
     ]
    },
    {
     "name": "stdout",
     "output_type": "stream",
     "text": [
      "[I 2025-10-23 23:00:42,236] Trial 48 finished with value: 0.7835648765841214 and parameters: {'bootstrap_type': 'Bernoulli', 'learning_rate': 0.015063712971530792, 'depth': 5, 'l2_leaf_reg': 7.010056380285396, 'random_strength': 0.7181817926363251, 'rsm': 0.7281647455280468, 'grow_policy': 'Depthwise', 'min_data_in_leaf': 47, 'leaf_estimation_iterations': 2, 'border_count': 243, 'subsample': 0.7060364740755068}. Best is trial 31 with value: 0.7895976862259292.\n"
     ]
    },
    {
     "name": "stderr",
     "output_type": "stream",
     "text": [
      "Best trial: 31. Best value: 0.789598:  17%|█▋        | 50/300 [4:49:31<9:44:39, 140.32s/it]"
     ]
    },
    {
     "name": "stdout",
     "output_type": "stream",
     "text": [
      "[I 2025-10-23 23:03:28,844] Trial 49 finished with value: 0.7817125715832219 and parameters: {'bootstrap_type': 'Bayesian', 'learning_rate': 0.027678512443749005, 'depth': 6, 'l2_leaf_reg': 3.9926023344892316, 'random_strength': 0.5642571259093516, 'rsm': 0.696826711943847, 'grow_policy': 'SymmetricTree', 'min_data_in_leaf': 43, 'leaf_estimation_iterations': 2, 'border_count': 228, 'bagging_temperature': 5.148037841686708}. Best is trial 31 with value: 0.7895976862259292.\n"
     ]
    },
    {
     "name": "stderr",
     "output_type": "stream",
     "text": [
      "Best trial: 31. Best value: 0.789598:  17%|█▋        | 51/300 [4:51:22<9:05:53, 131.54s/it]"
     ]
    },
    {
     "name": "stdout",
     "output_type": "stream",
     "text": [
      "[I 2025-10-23 23:05:19,907] Trial 50 finished with value: 0.7854770612890063 and parameters: {'bootstrap_type': 'Bernoulli', 'learning_rate': 0.020747816678640493, 'depth': 7, 'l2_leaf_reg': 6.074772233848279, 'random_strength': 0.727208732425219, 'rsm': 0.6158388645238249, 'grow_policy': 'SymmetricTree', 'min_data_in_leaf': 36, 'leaf_estimation_iterations': 3, 'border_count': 255, 'subsample': 0.8158313423382547}. Best is trial 31 with value: 0.7895976862259292.\n"
     ]
    },
    {
     "name": "stderr",
     "output_type": "stream",
     "text": [
      "Best trial: 31. Best value: 0.789598:  17%|█▋        | 52/300 [4:55:01<10:51:39, 157.66s/it]"
     ]
    },
    {
     "name": "stdout",
     "output_type": "stream",
     "text": [
      "[I 2025-10-23 23:08:58,507] Trial 51 finished with value: 0.7875221169807626 and parameters: {'bootstrap_type': 'Bernoulli', 'learning_rate': 0.011574646428123636, 'depth': 7, 'l2_leaf_reg': 5.383830688991296, 'random_strength': 0.14688771916708587, 'rsm': 0.812548796884496, 'grow_policy': 'SymmetricTree', 'min_data_in_leaf': 20, 'leaf_estimation_iterations': 7, 'border_count': 213, 'subsample': 0.685907655084214}. Best is trial 31 with value: 0.7895976862259292.\n"
     ]
    },
    {
     "name": "stderr",
     "output_type": "stream",
     "text": [
      "Best trial: 31. Best value: 0.789598:  17%|█▋        | 52/300 [4:58:34<23:43:59, 344.51s/it]\n"
     ]
    },
    {
     "name": "stdout",
     "output_type": "stream",
     "text": [
      "[W 2025-10-23 23:12:31,624] Trial 52 failed with parameters: {'bootstrap_type': 'Bernoulli', 'learning_rate': 0.009513000995566671, 'depth': 8, 'l2_leaf_reg': 4.581673487697778, 'random_strength': 0.435917201021137, 'rsm': 0.7411991368842427, 'grow_policy': 'SymmetricTree', 'min_data_in_leaf': 28, 'leaf_estimation_iterations': 1, 'border_count': 219, 'subsample': 0.6318627436774725} because of the following error: KeyboardInterrupt('').\n",
      "Traceback (most recent call last):\n",
      "  File \"/opt/anaconda3/envs/ml4g_project1/lib/python3.12/site-packages/optuna/study/_optimize.py\", line 201, in _run_trial\n",
      "    value_or_values = func(trial)\n",
      "                      ^^^^^^^^^^^\n",
      "  File \"/var/folders/7g/j5s0yzcj34l3v043s7znkplc0000gn/T/ipykernel_19080/4286109250.py\", line 113, in objective_cat_reg\n",
      "    mdl.fit(X_tr, y_tr, eval_set=(X_va, y_va), verbose=False)\n",
      "  File \"/opt/anaconda3/envs/ml4g_project1/lib/python3.12/site-packages/catboost/core.py\", line 5873, in fit\n",
      "    return self._fit(X, y, cat_features, text_features, embedding_features, None, graph, sample_weight, None, None, None, None, baseline,\n",
      "           ^^^^^^^^^^^^^^^^^^^^^^^^^^^^^^^^^^^^^^^^^^^^^^^^^^^^^^^^^^^^^^^^^^^^^^^^^^^^^^^^^^^^^^^^^^^^^^^^^^^^^^^^^^^^^^^^^^^^^^^^^^^^^^\n",
      "  File \"/opt/anaconda3/envs/ml4g_project1/lib/python3.12/site-packages/catboost/core.py\", line 2410, in _fit\n",
      "    self._train(\n",
      "  File \"/opt/anaconda3/envs/ml4g_project1/lib/python3.12/site-packages/catboost/core.py\", line 1790, in _train\n",
      "    self._object._train(train_pool, test_pool, params, allow_clear_pool, init_model._object if init_model else None)\n",
      "  File \"_catboost.pyx\", line 5017, in _catboost._CatBoost._train\n",
      "  File \"_catboost.pyx\", line 5066, in _catboost._CatBoost._train\n",
      "KeyboardInterrupt\n",
      "[W 2025-10-23 23:12:31,640] Trial 52 failed with value None.\n"
     ]
    },
    {
     "ename": "KeyboardInterrupt",
     "evalue": "",
     "output_type": "error",
     "traceback": [
      "\u001b[31m---------------------------------------------------------------------------\u001b[39m",
      "\u001b[31mKeyboardInterrupt\u001b[39m                         Traceback (most recent call last)",
      "\u001b[36mCell\u001b[39m\u001b[36m \u001b[39m\u001b[32mIn[1]\u001b[39m\u001b[32m, line 141\u001b[39m\n\u001b[32m    138\u001b[39m PAIRS = [(\u001b[33m\"\u001b[39m\u001b[33mX1\u001b[39m\u001b[33m\"\u001b[39m,\u001b[33m\"\u001b[39m\u001b[33mX2\u001b[39m\u001b[33m\"\u001b[39m), (\u001b[33m\"\u001b[39m\u001b[33mX2\u001b[39m\u001b[33m\"\u001b[39m,\u001b[33m\"\u001b[39m\u001b[33mX1\u001b[39m\u001b[33m\"\u001b[39m)]\n\u001b[32m    140\u001b[39m \u001b[38;5;28;01mfor\u001b[39;00m a,b \u001b[38;5;129;01min\u001b[39;00m PAIRS:\n\u001b[32m--> \u001b[39m\u001b[32m141\u001b[39m     \u001b[43mrun_and_save\u001b[49m\u001b[43m(\u001b[49m\u001b[33;43m\"\u001b[39;49m\u001b[33;43mcatboost_reg\u001b[39;49m\u001b[33;43m\"\u001b[39;49m\u001b[43m,\u001b[49m\u001b[43m \u001b[49m\u001b[43mobjective_cat_reg\u001b[49m\u001b[43m,\u001b[49m\u001b[43m  \u001b[49m\u001b[43mN_TRIALS_CAT_REG\u001b[49m\u001b[43m,\u001b[49m\u001b[43m  \u001b[49m\u001b[43ma\u001b[49m\u001b[43m,\u001b[49m\u001b[43m \u001b[49m\u001b[43mb\u001b[49m\u001b[43m)\u001b[49m\n",
      "\u001b[36mCell\u001b[39m\u001b[36m \u001b[39m\u001b[32mIn[1]\u001b[39m\u001b[32m, line 125\u001b[39m, in \u001b[36mrun_and_save\u001b[39m\u001b[34m(name, objective_fn, n_trials, train_cell, val_cell)\u001b[39m\n\u001b[32m    122\u001b[39m \u001b[38;5;28mprint\u001b[39m(\u001b[33mf\u001b[39m\u001b[33m\"\u001b[39m\u001b[38;5;130;01m\\n\u001b[39;00m\u001b[33m===== 🔎 Start study: \u001b[39m\u001b[38;5;132;01m{\u001b[39;00mtag\u001b[38;5;132;01m}\u001b[39;00m\u001b[33m | trials=\u001b[39m\u001b[38;5;132;01m{\u001b[39;00mn_trials\u001b[38;5;132;01m}\u001b[39;00m\u001b[33m =====\u001b[39m\u001b[33m\"\u001b[39m)\n\u001b[32m    123\u001b[39m study = optuna.create_study(direction=\u001b[33m\"\u001b[39m\u001b[33mmaximize\u001b[39m\u001b[33m\"\u001b[39m,\n\u001b[32m    124\u001b[39m                             sampler=optuna.samplers.TPESampler(seed=SEED))\n\u001b[32m--> \u001b[39m\u001b[32m125\u001b[39m \u001b[43mstudy\u001b[49m\u001b[43m.\u001b[49m\u001b[43moptimize\u001b[49m\u001b[43m(\u001b[49m\u001b[43mpartial\u001b[49m\u001b[43m(\u001b[49m\u001b[43mobjective_fn\u001b[49m\u001b[43m,\u001b[49m\u001b[43m \u001b[49m\u001b[43mtrain_cell\u001b[49m\u001b[43m=\u001b[49m\u001b[43mtrain_cell\u001b[49m\u001b[43m,\u001b[49m\u001b[43m \u001b[49m\u001b[43mval_cell\u001b[49m\u001b[43m=\u001b[49m\u001b[43mval_cell\u001b[49m\u001b[43m)\u001b[49m\u001b[43m,\u001b[49m\n\u001b[32m    126\u001b[39m \u001b[43m               \u001b[49m\u001b[43mn_trials\u001b[49m\u001b[43m=\u001b[49m\u001b[43mn_trials\u001b[49m\u001b[43m,\u001b[49m\u001b[43m \u001b[49m\u001b[43mshow_progress_bar\u001b[49m\u001b[43m=\u001b[49m\u001b[38;5;28;43;01mTrue\u001b[39;49;00m\u001b[43m)\u001b[49m\n\u001b[32m    127\u001b[39m \u001b[38;5;28mprint\u001b[39m(\u001b[33mf\u001b[39m\u001b[33m\"\u001b[39m\u001b[33m✅ \u001b[39m\u001b[38;5;132;01m{\u001b[39;00mtag\u001b[38;5;132;01m}\u001b[39;00m\u001b[33m Best value: \u001b[39m\u001b[38;5;132;01m{\u001b[39;00mstudy.best_value\u001b[38;5;132;01m}\u001b[39;00m\u001b[33m\"\u001b[39m)\n\u001b[32m    128\u001b[39m \u001b[38;5;28mprint\u001b[39m(\u001b[33m\"\u001b[39m\u001b[33m🏆 Best params:\u001b[39m\u001b[33m\"\u001b[39m)\n",
      "\u001b[36mFile \u001b[39m\u001b[32m/opt/anaconda3/envs/ml4g_project1/lib/python3.12/site-packages/optuna/study/study.py:490\u001b[39m, in \u001b[36mStudy.optimize\u001b[39m\u001b[34m(self, func, n_trials, timeout, n_jobs, catch, callbacks, gc_after_trial, show_progress_bar)\u001b[39m\n\u001b[32m    388\u001b[39m \u001b[38;5;28;01mdef\u001b[39;00m\u001b[38;5;250m \u001b[39m\u001b[34moptimize\u001b[39m(\n\u001b[32m    389\u001b[39m     \u001b[38;5;28mself\u001b[39m,\n\u001b[32m    390\u001b[39m     func: ObjectiveFuncType,\n\u001b[32m   (...)\u001b[39m\u001b[32m    397\u001b[39m     show_progress_bar: \u001b[38;5;28mbool\u001b[39m = \u001b[38;5;28;01mFalse\u001b[39;00m,\n\u001b[32m    398\u001b[39m ) -> \u001b[38;5;28;01mNone\u001b[39;00m:\n\u001b[32m    399\u001b[39m \u001b[38;5;250m    \u001b[39m\u001b[33;03m\"\"\"Optimize an objective function.\u001b[39;00m\n\u001b[32m    400\u001b[39m \n\u001b[32m    401\u001b[39m \u001b[33;03m    Optimization is done by choosing a suitable set of hyperparameter values from a given\u001b[39;00m\n\u001b[32m   (...)\u001b[39m\u001b[32m    488\u001b[39m \u001b[33;03m            If nested invocation of this method occurs.\u001b[39;00m\n\u001b[32m    489\u001b[39m \u001b[33;03m    \"\"\"\u001b[39;00m\n\u001b[32m--> \u001b[39m\u001b[32m490\u001b[39m     \u001b[43m_optimize\u001b[49m\u001b[43m(\u001b[49m\n\u001b[32m    491\u001b[39m \u001b[43m        \u001b[49m\u001b[43mstudy\u001b[49m\u001b[43m=\u001b[49m\u001b[38;5;28;43mself\u001b[39;49m\u001b[43m,\u001b[49m\n\u001b[32m    492\u001b[39m \u001b[43m        \u001b[49m\u001b[43mfunc\u001b[49m\u001b[43m=\u001b[49m\u001b[43mfunc\u001b[49m\u001b[43m,\u001b[49m\n\u001b[32m    493\u001b[39m \u001b[43m        \u001b[49m\u001b[43mn_trials\u001b[49m\u001b[43m=\u001b[49m\u001b[43mn_trials\u001b[49m\u001b[43m,\u001b[49m\n\u001b[32m    494\u001b[39m \u001b[43m        \u001b[49m\u001b[43mtimeout\u001b[49m\u001b[43m=\u001b[49m\u001b[43mtimeout\u001b[49m\u001b[43m,\u001b[49m\n\u001b[32m    495\u001b[39m \u001b[43m        \u001b[49m\u001b[43mn_jobs\u001b[49m\u001b[43m=\u001b[49m\u001b[43mn_jobs\u001b[49m\u001b[43m,\u001b[49m\n\u001b[32m    496\u001b[39m \u001b[43m        \u001b[49m\u001b[43mcatch\u001b[49m\u001b[43m=\u001b[49m\u001b[38;5;28;43mtuple\u001b[39;49m\u001b[43m(\u001b[49m\u001b[43mcatch\u001b[49m\u001b[43m)\u001b[49m\u001b[43m \u001b[49m\u001b[38;5;28;43;01mif\u001b[39;49;00m\u001b[43m \u001b[49m\u001b[38;5;28;43misinstance\u001b[39;49m\u001b[43m(\u001b[49m\u001b[43mcatch\u001b[49m\u001b[43m,\u001b[49m\u001b[43m \u001b[49m\u001b[43mIterable\u001b[49m\u001b[43m)\u001b[49m\u001b[43m \u001b[49m\u001b[38;5;28;43;01melse\u001b[39;49;00m\u001b[43m \u001b[49m\u001b[43m(\u001b[49m\u001b[43mcatch\u001b[49m\u001b[43m,\u001b[49m\u001b[43m)\u001b[49m\u001b[43m,\u001b[49m\n\u001b[32m    497\u001b[39m \u001b[43m        \u001b[49m\u001b[43mcallbacks\u001b[49m\u001b[43m=\u001b[49m\u001b[43mcallbacks\u001b[49m\u001b[43m,\u001b[49m\n\u001b[32m    498\u001b[39m \u001b[43m        \u001b[49m\u001b[43mgc_after_trial\u001b[49m\u001b[43m=\u001b[49m\u001b[43mgc_after_trial\u001b[49m\u001b[43m,\u001b[49m\n\u001b[32m    499\u001b[39m \u001b[43m        \u001b[49m\u001b[43mshow_progress_bar\u001b[49m\u001b[43m=\u001b[49m\u001b[43mshow_progress_bar\u001b[49m\u001b[43m,\u001b[49m\n\u001b[32m    500\u001b[39m \u001b[43m    \u001b[49m\u001b[43m)\u001b[49m\n",
      "\u001b[36mFile \u001b[39m\u001b[32m/opt/anaconda3/envs/ml4g_project1/lib/python3.12/site-packages/optuna/study/_optimize.py:63\u001b[39m, in \u001b[36m_optimize\u001b[39m\u001b[34m(study, func, n_trials, timeout, n_jobs, catch, callbacks, gc_after_trial, show_progress_bar)\u001b[39m\n\u001b[32m     61\u001b[39m \u001b[38;5;28;01mtry\u001b[39;00m:\n\u001b[32m     62\u001b[39m     \u001b[38;5;28;01mif\u001b[39;00m n_jobs == \u001b[32m1\u001b[39m:\n\u001b[32m---> \u001b[39m\u001b[32m63\u001b[39m         \u001b[43m_optimize_sequential\u001b[49m\u001b[43m(\u001b[49m\n\u001b[32m     64\u001b[39m \u001b[43m            \u001b[49m\u001b[43mstudy\u001b[49m\u001b[43m,\u001b[49m\n\u001b[32m     65\u001b[39m \u001b[43m            \u001b[49m\u001b[43mfunc\u001b[49m\u001b[43m,\u001b[49m\n\u001b[32m     66\u001b[39m \u001b[43m            \u001b[49m\u001b[43mn_trials\u001b[49m\u001b[43m,\u001b[49m\n\u001b[32m     67\u001b[39m \u001b[43m            \u001b[49m\u001b[43mtimeout\u001b[49m\u001b[43m,\u001b[49m\n\u001b[32m     68\u001b[39m \u001b[43m            \u001b[49m\u001b[43mcatch\u001b[49m\u001b[43m,\u001b[49m\n\u001b[32m     69\u001b[39m \u001b[43m            \u001b[49m\u001b[43mcallbacks\u001b[49m\u001b[43m,\u001b[49m\n\u001b[32m     70\u001b[39m \u001b[43m            \u001b[49m\u001b[43mgc_after_trial\u001b[49m\u001b[43m,\u001b[49m\n\u001b[32m     71\u001b[39m \u001b[43m            \u001b[49m\u001b[43mreseed_sampler_rng\u001b[49m\u001b[43m=\u001b[49m\u001b[38;5;28;43;01mFalse\u001b[39;49;00m\u001b[43m,\u001b[49m\n\u001b[32m     72\u001b[39m \u001b[43m            \u001b[49m\u001b[43mtime_start\u001b[49m\u001b[43m=\u001b[49m\u001b[38;5;28;43;01mNone\u001b[39;49;00m\u001b[43m,\u001b[49m\n\u001b[32m     73\u001b[39m \u001b[43m            \u001b[49m\u001b[43mprogress_bar\u001b[49m\u001b[43m=\u001b[49m\u001b[43mprogress_bar\u001b[49m\u001b[43m,\u001b[49m\n\u001b[32m     74\u001b[39m \u001b[43m        \u001b[49m\u001b[43m)\u001b[49m\n\u001b[32m     75\u001b[39m     \u001b[38;5;28;01melse\u001b[39;00m:\n\u001b[32m     76\u001b[39m         \u001b[38;5;28;01mif\u001b[39;00m n_jobs == -\u001b[32m1\u001b[39m:\n",
      "\u001b[36mFile \u001b[39m\u001b[32m/opt/anaconda3/envs/ml4g_project1/lib/python3.12/site-packages/optuna/study/_optimize.py:160\u001b[39m, in \u001b[36m_optimize_sequential\u001b[39m\u001b[34m(study, func, n_trials, timeout, catch, callbacks, gc_after_trial, reseed_sampler_rng, time_start, progress_bar)\u001b[39m\n\u001b[32m    157\u001b[39m         \u001b[38;5;28;01mbreak\u001b[39;00m\n\u001b[32m    159\u001b[39m \u001b[38;5;28;01mtry\u001b[39;00m:\n\u001b[32m--> \u001b[39m\u001b[32m160\u001b[39m     frozen_trial_id = \u001b[43m_run_trial\u001b[49m\u001b[43m(\u001b[49m\u001b[43mstudy\u001b[49m\u001b[43m,\u001b[49m\u001b[43m \u001b[49m\u001b[43mfunc\u001b[49m\u001b[43m,\u001b[49m\u001b[43m \u001b[49m\u001b[43mcatch\u001b[49m\u001b[43m)\u001b[49m\n\u001b[32m    161\u001b[39m \u001b[38;5;28;01mfinally\u001b[39;00m:\n\u001b[32m    162\u001b[39m     \u001b[38;5;66;03m# The following line mitigates memory problems that can be occurred in some\u001b[39;00m\n\u001b[32m    163\u001b[39m     \u001b[38;5;66;03m# environments (e.g., services that use computing containers such as GitHub Actions).\u001b[39;00m\n\u001b[32m    164\u001b[39m     \u001b[38;5;66;03m# Please refer to the following PR for further details:\u001b[39;00m\n\u001b[32m    165\u001b[39m     \u001b[38;5;66;03m# https://github.com/optuna/optuna/pull/325.\u001b[39;00m\n\u001b[32m    166\u001b[39m     \u001b[38;5;28;01mif\u001b[39;00m gc_after_trial:\n",
      "\u001b[36mFile \u001b[39m\u001b[32m/opt/anaconda3/envs/ml4g_project1/lib/python3.12/site-packages/optuna/study/_optimize.py:258\u001b[39m, in \u001b[36m_run_trial\u001b[39m\u001b[34m(study, func, catch)\u001b[39m\n\u001b[32m    251\u001b[39m         \u001b[38;5;28;01massert\u001b[39;00m \u001b[38;5;28;01mFalse\u001b[39;00m, \u001b[33m\"\u001b[39m\u001b[33mShould not reach.\u001b[39m\u001b[33m\"\u001b[39m\n\u001b[32m    253\u001b[39m \u001b[38;5;28;01mif\u001b[39;00m (\n\u001b[32m    254\u001b[39m     updated_state == TrialState.FAIL\n\u001b[32m    255\u001b[39m     \u001b[38;5;129;01mand\u001b[39;00m func_err \u001b[38;5;129;01mis\u001b[39;00m \u001b[38;5;129;01mnot\u001b[39;00m \u001b[38;5;28;01mNone\u001b[39;00m\n\u001b[32m    256\u001b[39m     \u001b[38;5;129;01mand\u001b[39;00m \u001b[38;5;129;01mnot\u001b[39;00m \u001b[38;5;28misinstance\u001b[39m(func_err, catch)\n\u001b[32m    257\u001b[39m ):\n\u001b[32m--> \u001b[39m\u001b[32m258\u001b[39m     \u001b[38;5;28;01mraise\u001b[39;00m func_err\n\u001b[32m    259\u001b[39m \u001b[38;5;28;01mreturn\u001b[39;00m trial._trial_id\n",
      "\u001b[36mFile \u001b[39m\u001b[32m/opt/anaconda3/envs/ml4g_project1/lib/python3.12/site-packages/optuna/study/_optimize.py:201\u001b[39m, in \u001b[36m_run_trial\u001b[39m\u001b[34m(study, func, catch)\u001b[39m\n\u001b[32m    199\u001b[39m \u001b[38;5;28;01mwith\u001b[39;00m get_heartbeat_thread(trial._trial_id, study._storage):\n\u001b[32m    200\u001b[39m     \u001b[38;5;28;01mtry\u001b[39;00m:\n\u001b[32m--> \u001b[39m\u001b[32m201\u001b[39m         value_or_values = \u001b[43mfunc\u001b[49m\u001b[43m(\u001b[49m\u001b[43mtrial\u001b[49m\u001b[43m)\u001b[49m\n\u001b[32m    202\u001b[39m     \u001b[38;5;28;01mexcept\u001b[39;00m exceptions.TrialPruned \u001b[38;5;28;01mas\u001b[39;00m e:\n\u001b[32m    203\u001b[39m         \u001b[38;5;66;03m# TODO(mamu): Handle multi-objective cases.\u001b[39;00m\n\u001b[32m    204\u001b[39m         state = TrialState.PRUNED\n",
      "\u001b[36mCell\u001b[39m\u001b[36m \u001b[39m\u001b[32mIn[1]\u001b[39m\u001b[32m, line 113\u001b[39m, in \u001b[36mobjective_cat_reg\u001b[39m\u001b[34m(trial, train_cell, val_cell)\u001b[39m\n\u001b[32m    110\u001b[39m     params[\u001b[33m\"\u001b[39m\u001b[33mbagging_temperature\u001b[39m\u001b[33m\"\u001b[39m] = trial.suggest_float(\u001b[33m\"\u001b[39m\u001b[33mbagging_temperature\u001b[39m\u001b[33m\"\u001b[39m, \u001b[32m0.0\u001b[39m, \u001b[32m10.0\u001b[39m)\n\u001b[32m    112\u001b[39m mdl = CatBoostRegressor(**params)\n\u001b[32m--> \u001b[39m\u001b[32m113\u001b[39m \u001b[43mmdl\u001b[49m\u001b[43m.\u001b[49m\u001b[43mfit\u001b[49m\u001b[43m(\u001b[49m\u001b[43mX_tr\u001b[49m\u001b[43m,\u001b[49m\u001b[43m \u001b[49m\u001b[43my_tr\u001b[49m\u001b[43m,\u001b[49m\u001b[43m \u001b[49m\u001b[43meval_set\u001b[49m\u001b[43m=\u001b[49m\u001b[43m(\u001b[49m\u001b[43mX_va\u001b[49m\u001b[43m,\u001b[49m\u001b[43m \u001b[49m\u001b[43my_va\u001b[49m\u001b[43m)\u001b[49m\u001b[43m,\u001b[49m\u001b[43m \u001b[49m\u001b[43mverbose\u001b[49m\u001b[43m=\u001b[49m\u001b[38;5;28;43;01mFalse\u001b[39;49;00m\u001b[43m)\u001b[49m\n\u001b[32m    114\u001b[39m pred = mdl.predict(X_va)\n\u001b[32m    115\u001b[39m rho_chr = mean_per_chr_spearman(va, y_va, pred)\n",
      "\u001b[36mFile \u001b[39m\u001b[32m/opt/anaconda3/envs/ml4g_project1/lib/python3.12/site-packages/catboost/core.py:5873\u001b[39m, in \u001b[36mCatBoostRegressor.fit\u001b[39m\u001b[34m(self, X, y, cat_features, text_features, embedding_features, graph, sample_weight, baseline, use_best_model, eval_set, verbose, logging_level, plot, plot_file, column_description, verbose_eval, metric_period, silent, early_stopping_rounds, save_snapshot, snapshot_file, snapshot_interval, init_model, callbacks, log_cout, log_cerr)\u001b[39m\n\u001b[32m   5871\u001b[39m \u001b[38;5;28;01mif\u001b[39;00m \u001b[33m'\u001b[39m\u001b[33mloss_function\u001b[39m\u001b[33m'\u001b[39m \u001b[38;5;129;01min\u001b[39;00m params:\n\u001b[32m   5872\u001b[39m     CatBoostRegressor._check_is_compatible_loss(params[\u001b[33m'\u001b[39m\u001b[33mloss_function\u001b[39m\u001b[33m'\u001b[39m])\n\u001b[32m-> \u001b[39m\u001b[32m5873\u001b[39m \u001b[38;5;28;01mreturn\u001b[39;00m \u001b[38;5;28;43mself\u001b[39;49m\u001b[43m.\u001b[49m\u001b[43m_fit\u001b[49m\u001b[43m(\u001b[49m\u001b[43mX\u001b[49m\u001b[43m,\u001b[49m\u001b[43m \u001b[49m\u001b[43my\u001b[49m\u001b[43m,\u001b[49m\u001b[43m \u001b[49m\u001b[43mcat_features\u001b[49m\u001b[43m,\u001b[49m\u001b[43m \u001b[49m\u001b[43mtext_features\u001b[49m\u001b[43m,\u001b[49m\u001b[43m \u001b[49m\u001b[43membedding_features\u001b[49m\u001b[43m,\u001b[49m\u001b[43m \u001b[49m\u001b[38;5;28;43;01mNone\u001b[39;49;00m\u001b[43m,\u001b[49m\u001b[43m \u001b[49m\u001b[43mgraph\u001b[49m\u001b[43m,\u001b[49m\u001b[43m \u001b[49m\u001b[43msample_weight\u001b[49m\u001b[43m,\u001b[49m\u001b[43m \u001b[49m\u001b[38;5;28;43;01mNone\u001b[39;49;00m\u001b[43m,\u001b[49m\u001b[43m \u001b[49m\u001b[38;5;28;43;01mNone\u001b[39;49;00m\u001b[43m,\u001b[49m\u001b[43m \u001b[49m\u001b[38;5;28;43;01mNone\u001b[39;49;00m\u001b[43m,\u001b[49m\u001b[43m \u001b[49m\u001b[38;5;28;43;01mNone\u001b[39;49;00m\u001b[43m,\u001b[49m\u001b[43m \u001b[49m\u001b[43mbaseline\u001b[49m\u001b[43m,\u001b[49m\n\u001b[32m   5874\u001b[39m \u001b[43m                 \u001b[49m\u001b[43muse_best_model\u001b[49m\u001b[43m,\u001b[49m\u001b[43m \u001b[49m\u001b[43meval_set\u001b[49m\u001b[43m,\u001b[49m\u001b[43m \u001b[49m\u001b[43mverbose\u001b[49m\u001b[43m,\u001b[49m\u001b[43m \u001b[49m\u001b[43mlogging_level\u001b[49m\u001b[43m,\u001b[49m\u001b[43m \u001b[49m\u001b[43mplot\u001b[49m\u001b[43m,\u001b[49m\u001b[43m \u001b[49m\u001b[43mplot_file\u001b[49m\u001b[43m,\u001b[49m\u001b[43m \u001b[49m\u001b[43mcolumn_description\u001b[49m\u001b[43m,\u001b[49m\n\u001b[32m   5875\u001b[39m \u001b[43m                 \u001b[49m\u001b[43mverbose_eval\u001b[49m\u001b[43m,\u001b[49m\u001b[43m \u001b[49m\u001b[43mmetric_period\u001b[49m\u001b[43m,\u001b[49m\u001b[43m \u001b[49m\u001b[43msilent\u001b[49m\u001b[43m,\u001b[49m\u001b[43m \u001b[49m\u001b[43mearly_stopping_rounds\u001b[49m\u001b[43m,\u001b[49m\n\u001b[32m   5876\u001b[39m \u001b[43m                 \u001b[49m\u001b[43msave_snapshot\u001b[49m\u001b[43m,\u001b[49m\u001b[43m \u001b[49m\u001b[43msnapshot_file\u001b[49m\u001b[43m,\u001b[49m\u001b[43m \u001b[49m\u001b[43msnapshot_interval\u001b[49m\u001b[43m,\u001b[49m\u001b[43m \u001b[49m\u001b[43minit_model\u001b[49m\u001b[43m,\u001b[49m\u001b[43m \u001b[49m\u001b[43mcallbacks\u001b[49m\u001b[43m,\u001b[49m\u001b[43m \u001b[49m\u001b[43mlog_cout\u001b[49m\u001b[43m,\u001b[49m\u001b[43m \u001b[49m\u001b[43mlog_cerr\u001b[49m\u001b[43m)\u001b[49m\n",
      "\u001b[36mFile \u001b[39m\u001b[32m/opt/anaconda3/envs/ml4g_project1/lib/python3.12/site-packages/catboost/core.py:2410\u001b[39m, in \u001b[36mCatBoost._fit\u001b[39m\u001b[34m(self, X, y, cat_features, text_features, embedding_features, pairs, graph, sample_weight, group_id, group_weight, subgroup_id, pairs_weight, baseline, use_best_model, eval_set, verbose, logging_level, plot, plot_file, column_description, verbose_eval, metric_period, silent, early_stopping_rounds, save_snapshot, snapshot_file, snapshot_interval, init_model, callbacks, log_cout, log_cerr)\u001b[39m\n\u001b[32m   2407\u001b[39m allow_clear_pool = train_params[\u001b[33m\"\u001b[39m\u001b[33mallow_clear_pool\u001b[39m\u001b[33m\"\u001b[39m]\n\u001b[32m   2409\u001b[39m \u001b[38;5;28;01mwith\u001b[39;00m plot_wrapper(plot, plot_file, \u001b[33m'\u001b[39m\u001b[33mTraining plots\u001b[39m\u001b[33m'\u001b[39m, [_get_train_dir(\u001b[38;5;28mself\u001b[39m.get_params())]):\n\u001b[32m-> \u001b[39m\u001b[32m2410\u001b[39m     \u001b[38;5;28;43mself\u001b[39;49m\u001b[43m.\u001b[49m\u001b[43m_train\u001b[49m\u001b[43m(\u001b[49m\n\u001b[32m   2411\u001b[39m \u001b[43m        \u001b[49m\u001b[43mtrain_pool\u001b[49m\u001b[43m,\u001b[49m\n\u001b[32m   2412\u001b[39m \u001b[43m        \u001b[49m\u001b[43mtrain_params\u001b[49m\u001b[43m[\u001b[49m\u001b[33;43m\"\u001b[39;49m\u001b[33;43meval_sets\u001b[39;49m\u001b[33;43m\"\u001b[39;49m\u001b[43m]\u001b[49m\u001b[43m,\u001b[49m\n\u001b[32m   2413\u001b[39m \u001b[43m        \u001b[49m\u001b[43mparams\u001b[49m\u001b[43m,\u001b[49m\n\u001b[32m   2414\u001b[39m \u001b[43m        \u001b[49m\u001b[43mallow_clear_pool\u001b[49m\u001b[43m,\u001b[49m\n\u001b[32m   2415\u001b[39m \u001b[43m        \u001b[49m\u001b[43mtrain_params\u001b[49m\u001b[43m[\u001b[49m\u001b[33;43m\"\u001b[39;49m\u001b[33;43minit_model\u001b[39;49m\u001b[33;43m\"\u001b[39;49m\u001b[43m]\u001b[49m\n\u001b[32m   2416\u001b[39m \u001b[43m    \u001b[49m\u001b[43m)\u001b[49m\n\u001b[32m   2418\u001b[39m \u001b[38;5;66;03m# Have property feature_importance possibly set\u001b[39;00m\n\u001b[32m   2419\u001b[39m loss = \u001b[38;5;28mself\u001b[39m._object._get_loss_function_name()\n",
      "\u001b[36mFile \u001b[39m\u001b[32m/opt/anaconda3/envs/ml4g_project1/lib/python3.12/site-packages/catboost/core.py:1790\u001b[39m, in \u001b[36m_CatBoostBase._train\u001b[39m\u001b[34m(self, train_pool, test_pool, params, allow_clear_pool, init_model)\u001b[39m\n\u001b[32m   1789\u001b[39m \u001b[38;5;28;01mdef\u001b[39;00m\u001b[38;5;250m \u001b[39m\u001b[34m_train\u001b[39m(\u001b[38;5;28mself\u001b[39m, train_pool, test_pool, params, allow_clear_pool, init_model):\n\u001b[32m-> \u001b[39m\u001b[32m1790\u001b[39m     \u001b[38;5;28;43mself\u001b[39;49m\u001b[43m.\u001b[49m\u001b[43m_object\u001b[49m\u001b[43m.\u001b[49m\u001b[43m_train\u001b[49m\u001b[43m(\u001b[49m\u001b[43mtrain_pool\u001b[49m\u001b[43m,\u001b[49m\u001b[43m \u001b[49m\u001b[43mtest_pool\u001b[49m\u001b[43m,\u001b[49m\u001b[43m \u001b[49m\u001b[43mparams\u001b[49m\u001b[43m,\u001b[49m\u001b[43m \u001b[49m\u001b[43mallow_clear_pool\u001b[49m\u001b[43m,\u001b[49m\u001b[43m \u001b[49m\u001b[43minit_model\u001b[49m\u001b[43m.\u001b[49m\u001b[43m_object\u001b[49m\u001b[43m \u001b[49m\u001b[38;5;28;43;01mif\u001b[39;49;00m\u001b[43m \u001b[49m\u001b[43minit_model\u001b[49m\u001b[43m \u001b[49m\u001b[38;5;28;43;01melse\u001b[39;49;00m\u001b[43m \u001b[49m\u001b[38;5;28;43;01mNone\u001b[39;49;00m\u001b[43m)\u001b[49m\n\u001b[32m   1791\u001b[39m     \u001b[38;5;28mself\u001b[39m._set_trained_model_attributes()\n",
      "\u001b[36mFile \u001b[39m\u001b[32m_catboost.pyx:5017\u001b[39m, in \u001b[36m_catboost._CatBoost._train\u001b[39m\u001b[34m()\u001b[39m\n",
      "\u001b[36mFile \u001b[39m\u001b[32m_catboost.pyx:5066\u001b[39m, in \u001b[36m_catboost._CatBoost._train\u001b[39m\u001b[34m()\u001b[39m\n",
      "\u001b[31mKeyboardInterrupt\u001b[39m: "
     ]
    }
   ],
   "source": [
    "# -*- coding: utf-8 -*-\n",
    "# Jupyter cell — LOCO + chr-disjoint HPO with expanded spaces for CatBoost/XGBoost\n",
    "\n",
    "import os, json, random, warnings\n",
    "warnings.filterwarnings(\"ignore\")\n",
    "\n",
    "import optuna\n",
    "import numpy as np\n",
    "import pandas as pd\n",
    "from scipy.stats import spearmanr\n",
    "from functools import partial\n",
    "from sklearn.metrics import roc_auc_score\n",
    "\n",
    "import lightgbm as lgb\n",
    "import xgboost as xgb\n",
    "from catboost import CatBoostClassifier, CatBoostRegressor\n",
    "\n",
    "# ========== config ==========\n",
    "SEED = 42\n",
    "random.seed(SEED); np.random.seed(SEED)\n",
    "\n",
    "TRAIN_PATH = \"../preprocessed_data/reference/1. merged data/with_y_100_one_side/X1_all_rank_features_with_y.tsv\"\n",
    "VAL_PATH   = \"../preprocessed_data/reference/1. merged data/with_y_100_one_side/X2_all_rank_features_with_y.tsv\"\n",
    "\n",
    "SAVE_ROOT = \"../results/hpo_loco_chr_disjoint\"\n",
    "os.makedirs(SAVE_ROOT, exist_ok=True)\n",
    "\n",
    "META_COLS = [\"gene_name\",\"chr\",\"gene_start\",\"gene_end\",\"TSS_start\",\"TSS_end\",\"strand\",\"gex\",\"gex_rank\"]\n",
    "TARGET_R  = \"gex_rank\"\n",
    "TARGET_B  = \"gex_binary\"\n",
    "\n",
    "# trials per study（依資源調整）\n",
    "N_TRIALS_LGBM_BIN = 300\n",
    "N_TRIALS_XGB_BIN  = 300\n",
    "N_TRIALS_CAT_BIN  = 300\n",
    "N_TRIALS_CAT_REG  = 300\n",
    "\n",
    "K_VAL_CHR = 4  # 每個 trial 驗證用的 chr 數\n",
    "\n",
    "# ========== load ==========\n",
    "df_x1 = pd.read_csv(TRAIN_PATH, sep=\"\\t\"); df_x1[\"cell_id\"] = \"X1\"\n",
    "df_x2 = pd.read_csv(VAL_PATH,   sep=\"\\t\"); df_x2[\"cell_id\"] = \"X2\"\n",
    "\n",
    "df_all = pd.concat([df_x1, df_x2], ignore_index=True)\n",
    "df_all[TARGET_B] = (df_all[\"gex\"] > 0.0).astype(int)\n",
    "\n",
    "# features\n",
    "drop_cols = set(META_COLS + [TARGET_B, \"cell_id\"])\n",
    "feature_cols = [c for c in df_all.columns if c not in drop_cols]\n",
    "chromosomes = sorted(df_all[\"chr\"].unique())\n",
    "print(f\"🧬 chromosomes: {chromosomes}\")\n",
    "print(f\"Feature count: {len(feature_cols)} | Total rows: {len(df_all):,}\")\n",
    "\n",
    "# ========== helpers ==========\n",
    "def split_loco_by_chromosomes(trial, train_cell, val_cell, k_val=K_VAL_CHR):\n",
    "    \"\"\"LOCO: train on one cell, validate on the other; chromosomes disjoint.\"\"\"\n",
    "    rng = random.Random(SEED)  # 確保每個 trial 不同\n",
    "    if k_val > len(chromosomes):\n",
    "        raise ValueError(\"k_val exceeds available chromosomes.\")\n",
    "    val_chrs = rng.sample(chromosomes, k_val)\n",
    "    tr = df_all[(df_all[\"cell_id\"] == train_cell) & (~df_all[\"chr\"].isin(val_chrs))].copy()\n",
    "    va = df_all[(df_all[\"cell_id\"] == val_cell)   & ( df_all[\"chr\"].isin(val_chrs))].copy()\n",
    "    return tr, va, val_chrs\n",
    "\n",
    "def mean_per_chr_auc(df_v, y_true, y_pred):\n",
    "    per = []\n",
    "    tmp = df_v.assign(_y=np.asarray(y_true), _p=np.asarray(y_pred))\n",
    "    for _, g in tmp.groupby(\"chr\"):\n",
    "        yt = g[\"_y\"].values; yp = g[\"_p\"].values\n",
    "        if len(np.unique(yt)) == 2 and len(yt) >= 3:\n",
    "            per.append(roc_auc_score(yt, yp))\n",
    "    return np.nanmean(per) if per else np.nan\n",
    "\n",
    "def mean_per_chr_spearman(df_v, y_true, y_pred):\n",
    "    per = []\n",
    "    tmp = df_v.assign(_y=np.asarray(y_true), _p=np.asarray(y_pred))\n",
    "    for _, g in tmp.groupby(\"chr\"):\n",
    "        if len(g) >= 3:\n",
    "            per.append(spearmanr(g[\"_y\"], g[\"_p\"])[0])\n",
    "    return np.nanmean(per) if per else np.nan\n",
    "\n",
    "         {loss_function=\"RMSE\",\n",
    "        eval_metric=\"RMSE\",\n",
    "        iterations=6000,\n",
    "                random_seed=SEED,\n",
    "        od_type=\"Iter\", od_wait=200,\n",
    "        verbose=False,\n",
    "        bootstrap_type=bootstrap_type,\n",
    "      'bootstrap_type': 'Bernoulli', 'learning_rate': 0.023746198818402044, 'depth': 7, 'l2_leaf_reg': 2.6636900997297435, 'random_strength': 1.9391692555291171, 'rsm': 0.8875664116805573, 'grow_policy': 'SymmetricTree', 'min_data_in_leaf': 59, 'leaf_estimation_iterations': 1, 'border_count': 153, 'subsample': 0.522613644455269}. Best is trial 3 with value: 0.785300664439774.\n",
    " \n",
    "def objective_cat_reg(trial, train_cell, val_cell):\n",
    "    tr, va, _ = split_loco_by_chromosomes(trial, train_cell, val_cell)\n",
    "    X_tr, y_tr = tr[feature_cols], tr[TARGET_R]\n",
    "    X_va, y_va = va[feature_cols], va[TARGET_R]\n",
    "\n",
    "    bootstrap_type = trial.suggest_categorical(\"bootstrap_type\", [\"Bayesian\", \"Bernoulli\", \"MVS\"])\n",
    "    params = dict(\n",
    "        loss_function=\"RMSE\",\n",
    "        eval_metric=\"RMSE\",\n",
    "        iterations=6000,\n",
    "        learning_rate=trial.suggest_float(\"learning_rate\", 0.005, 0.1, log=True),\n",
    "        depth=trial.suggest_int(\"depth\", 4, 10),\n",
    "        l2_leaf_reg=trial.suggest_float(\"l2_leaf_reg\", 1.0, 10.0),\n",
    "        random_strength=trial.suggest_float(\"random_strength\", 0.0, 2.0),\n",
    "        rsm=trial.suggest_float(\"rsm\", 0.5, 1.0),\n",
    "        grow_policy=trial.suggest_categorical(\"grow_policy\", [\"SymmetricTree\", \"Depthwise\", \"Lossguide\"]),\n",
    "        min_data_in_leaf=trial.suggest_int(\"min_data_in_leaf\", 1, 64),\n",
    "        leaf_estimation_iterations=trial.suggest_int(\"leaf_estimation_iterations\", 1, 10),\n",
    "        border_count=trial.suggest_int(\"border_count\", 128, 255),\n",
    "        random_seed=SEED,\n",
    "        od_type=\"Iter\", od_wait=200,\n",
    "        verbose=False,\n",
    "        bootstrap_type=bootstrap_type,\n",
    "    )\n",
    "    if bootstrap_type == \"Bernoulli\":\n",
    "        params[\"subsample\"] = trial.suggest_float(\"subsample\", 0.5, 1.0)\n",
    "    elif bootstrap_type == \"Bayesian\":\n",
    "        params[\"bagging_temperature\"] = trial.suggest_float(\"bagging_temperature\", 0.0, 10.0)\n",
    "\n",
    "    mdl = CatBoostRegressor(**params)\n",
    "    mdl.fit(X_tr, y_tr, eval_set=(X_va, y_va), verbose=False)\n",
    "    pred = mdl.predict(X_va)\n",
    "    rho_chr = mean_per_chr_spearman(va, y_va, pred)\n",
    "    rho_all = spearmanr(y_va, pred)[0]\n",
    "    return rho_chr if not np.isnan(rho_chr) else rho_all\n",
    "\n",
    "# ========== run studies for both LOCO directions ==========\n",
    "def run_and_save(name, objective_fn, n_trials, train_cell, val_cell):\n",
    "    tag = f\"{name}_{train_cell}_to_{val_cell}\"\n",
    "    print(f\"\\n===== 🔎 Start study: {tag} | trials={n_trials} =====\")\n",
    "    study = optuna.create_study(direction=\"maximize\",\n",
    "                                sampler=optuna.samplers.TPESampler(seed=SEED))\n",
    "    study.optimize(partial(objective_fn, train_cell=train_cell, val_cell=val_cell),\n",
    "                   n_trials=n_trials, show_progress_bar=True)\n",
    "    print(f\"✅ {tag} Best value: {study.best_value}\")\n",
    "    print(\"🏆 Best params:\")\n",
    "    for k,v in study.best_params.items():\n",
    "        print(f\"  {k}: {v}\")\n",
    "    out_dir = os.path.join(SAVE_ROOT, tag); os.makedirs(out_dir, exist_ok=True)\n",
    "    study.trials_dataframe().to_csv(os.path.join(out_dir, \"trials_log.csv\"), index=False)\n",
    "    with open(os.path.join(out_dir, \"best_params.json\"), \"w\") as f:\n",
    "        json.dump(study.best_params, f, indent=4)\n",
    "    print(f\"💾 Saved to {out_dir}\")\n",
    "    return study\n",
    "\n",
    "PAIRS = [(\"X1\",\"X2\"), (\"X2\",\"X1\")]\n",
    "\n",
    "for a,b in PAIRS:\n",
    "    run_and_save(\"catboost_reg\", objective_cat_reg,  N_TRIALS_CAT_REG,  a, b)\n"
   ]
  }
 ],
 "metadata": {
  "kernelspec": {
   "display_name": "ml4g_project1",
   "language": "python",
   "name": "python3"
  },
  "language_info": {
   "codemirror_mode": {
    "name": "ipython",
    "version": 3
   },
   "file_extension": ".py",
   "mimetype": "text/x-python",
   "name": "python",
   "nbconvert_exporter": "python",
   "pygments_lexer": "ipython3",
   "version": "3.12.11"
  }
 },
 "nbformat": 4,
 "nbformat_minor": 2
}
