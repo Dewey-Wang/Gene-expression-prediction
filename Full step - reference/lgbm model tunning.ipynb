{
 "cells": [
  {
   "cell_type": "code",
   "execution_count": null,
   "metadata": {},
   "outputs": [
    {
     "name": "stderr",
     "output_type": "stream",
     "text": [
      "[I 2025-10-23 01:53:15,918] A new study created in memory with name: no-name-d6480c2c-996c-40a7-a725-e12fc5ce67e2\n"
     ]
    },
    {
     "name": "stdout",
     "output_type": "stream",
     "text": [
      "🧬 chromosomes: ['chr10', 'chr11', 'chr12', 'chr13', 'chr14', 'chr15', 'chr16', 'chr17', 'chr18', 'chr19', 'chr2', 'chr20', 'chr21', 'chr22', 'chr3', 'chr4', 'chr5', 'chr6', 'chr7', 'chr8', 'chr9']\n",
      "Feature count: 2892 | Total rows: 32,568\n",
      "\n",
      "===== 🔎 Start study: lgbm_binary_X1_to_X2 | trials=300 =====\n"
     ]
    },
    {
     "name": "stderr",
     "output_type": "stream",
     "text": [
      "Best trial: 0. Best value: 0.905329:   0%|          | 1/300 [04:24<21:59:32, 264.79s/it]"
     ]
    },
    {
     "name": "stdout",
     "output_type": "stream",
     "text": [
      "[I 2025-10-23 01:57:40,726] Trial 0 finished with value: 0.9053291570312813 and parameters: {'boosting_type': 'dart', 'learning_rate': 0.05395030966670229, 'num_leaves': 159, 'max_depth': 1, 'feature_fraction': 0.662397808134481, 'bagging_fraction': 0.5290418060840998, 'bagging_freq': 7, 'lambda_l1': 1.2022300234864176, 'lambda_l2': 3.540362888980227, 'min_gain_to_split': 0.0020584494295802446, 'min_data_in_leaf': 195}. Best is trial 0 with value: 0.9053291570312813.\n"
     ]
    },
    {
     "name": "stderr",
     "output_type": "stream",
     "text": [
      "Best trial: 1. Best value: 0.90918:   1%|          | 2/300 [05:19<11:41:12, 141.18s/it] "
     ]
    },
    {
     "name": "stdout",
     "output_type": "stream",
     "text": [
      "[I 2025-10-23 01:58:35,372] Trial 1 finished with value: 0.909180259726796 and parameters: {'boosting_type': 'gbdt', 'learning_rate': 0.015199348301309814, 'num_leaves': 63, 'max_depth': 3, 'feature_fraction': 0.8099025726528951, 'bagging_fraction': 0.7159725093210578, 'bagging_freq': 3, 'lambda_l1': 1.223705789444759, 'lambda_l2': 0.6974693032602092, 'min_gain_to_split': 0.029214464853521818, 'min_data_in_leaf': 79}. Best is trial 1 with value: 0.909180259726796.\n"
     ]
    },
    {
     "name": "stderr",
     "output_type": "stream",
     "text": [
      "Best trial: 1. Best value: 0.90918:   1%|          | 3/300 [29:44<61:30:41, 745.59s/it]"
     ]
    },
    {
     "name": "stdout",
     "output_type": "stream",
     "text": [
      "[I 2025-10-23 02:23:00,196] Trial 2 finished with value: 0.9082210368465173 and parameters: {'boosting_type': 'dart', 'learning_rate': 0.015837031559118753, 'num_leaves': 143, 'max_depth': 7, 'feature_fraction': 0.6185801650879991, 'bagging_fraction': 0.8037724259507192, 'bagging_freq': 2, 'lambda_l1': 0.13010318597055903, 'lambda_l2': 4.7444276862666666, 'min_gain_to_split': 0.09656320330745594, 'min_data_in_leaf': 164}. Best is trial 1 with value: 0.909180259726796.\n"
     ]
    },
    {
     "name": "stderr",
     "output_type": "stream",
     "text": [
      "Best trial: 3. Best value: 0.911066:   1%|▏         | 4/300 [31:12<39:58:14, 486.13s/it]"
     ]
    },
    {
     "name": "stdout",
     "output_type": "stream",
     "text": [
      "[I 2025-10-23 02:24:28,579] Trial 3 finished with value: 0.9110661105639903 and parameters: {'boosting_type': 'gbdt', 'learning_rate': 0.04833180632488466, 'num_leaves': 127, 'max_depth': 0, 'feature_fraction': 0.798070764044508, 'bagging_fraction': 0.5171942605576092, 'bagging_freq': 7, 'lambda_l1': 0.5175599632000338, 'lambda_l2': 3.31261142176991, 'min_gain_to_split': 0.031171107608941095, 'min_data_in_leaf': 109}. Best is trial 3 with value: 0.9110661105639903.\n"
     ]
    },
    {
     "name": "stderr",
     "output_type": "stream",
     "text": [
      "Best trial: 3. Best value: 0.911066:   2%|▏         | 5/300 [33:00<28:40:12, 349.87s/it]"
     ]
    },
    {
     "name": "stdout",
     "output_type": "stream",
     "text": [
      "[I 2025-10-23 02:26:16,845] Trial 4 finished with value: 0.9094543541277682 and parameters: {'boosting_type': 'gbdt', 'learning_rate': 0.09323621351781479, 'num_leaves': 207, 'max_depth': 12, 'feature_fraction': 0.9579309401710595, 'bagging_fraction': 0.7989499894055425, 'bagging_freq': 7, 'lambda_l1': 0.176985004103839, 'lambda_l2': 0.979914312095726, 'min_gain_to_split': 0.004522728891053806, 'min_data_in_leaf': 72}. Best is trial 3 with value: 0.9110661105639903.\n"
     ]
    },
    {
     "name": "stderr",
     "output_type": "stream",
     "text": [
      "Best trial: 5. Best value: 0.912048:   2%|▏         | 6/300 [33:20<19:24:45, 237.71s/it]"
     ]
    },
    {
     "name": "stdout",
     "output_type": "stream",
     "text": [
      "[I 2025-10-23 02:26:36,758] Trial 5 finished with value: 0.912048275825848 and parameters: {'boosting_type': 'gbdt', 'learning_rate': 0.06741204610702763, 'num_leaves': 111, 'max_depth': 2, 'feature_fraction': 0.8170784332632994, 'bagging_fraction': 0.5704621124873813, 'bagging_freq': 6, 'lambda_l1': 0.14910128735954165, 'lambda_l2': 4.9344346830025865, 'min_gain_to_split': 0.07722447692966575, 'min_data_in_leaf': 47}. Best is trial 5 with value: 0.912048275825848.\n"
     ]
    },
    {
     "name": "stderr",
     "output_type": "stream",
     "text": [
      "Best trial: 5. Best value: 0.912048:   2%|▏         | 7/300 [1:05:32<64:24:18, 791.33s/it]"
     ]
    },
    {
     "name": "stdout",
     "output_type": "stream",
     "text": [
      "[I 2025-10-23 02:58:47,978] Trial 6 finished with value: 0.903431161274558 and parameters: {'boosting_type': 'dart', 'learning_rate': 0.050916359458185526, 'num_leaves': 191, 'max_depth': 9, 'feature_fraction': 0.6296178606936361, 'bagging_fraction': 0.6792328642721364, 'bagging_freq': 1, 'lambda_l1': 1.726206851751187, 'lambda_l2': 3.1164906341377896, 'min_gain_to_split': 0.03308980248526492, 'min_data_in_leaf': 22}. Best is trial 5 with value: 0.912048275825848.\n"
     ]
    },
    {
     "name": "stderr",
     "output_type": "stream",
     "text": [
      "Best trial: 5. Best value: 0.912048:   3%|▎         | 8/300 [1:23:13<71:09:20, 877.26s/it]"
     ]
    },
    {
     "name": "stdout",
     "output_type": "stream",
     "text": [
      "[I 2025-10-23 03:16:29,230] Trial 7 finished with value: 0.9015430133632162 and parameters: {'boosting_type': 'dart', 'learning_rate': 0.053654503243520245, 'num_leaves': 175, 'max_depth': 11, 'feature_fraction': 0.7888859700647797, 'bagging_fraction': 0.5597971229691509, 'bagging_freq': 5, 'lambda_l1': 1.5215700972337949, 'lambda_l2': 2.8063859878474813, 'min_gain_to_split': 0.0770967179954561, 'min_data_in_leaf': 104}. Best is trial 5 with value: 0.912048275825848.\n"
     ]
    },
    {
     "name": "stderr",
     "output_type": "stream",
     "text": [
      "Best trial: 5. Best value: 0.912048:   3%|▎         | 9/300 [1:25:39<52:26:42, 648.81s/it]"
     ]
    },
    {
     "name": "stdout",
     "output_type": "stream",
     "text": [
      "[I 2025-10-23 03:18:55,709] Trial 8 finished with value: 0.9091104258658727 and parameters: {'boosting_type': 'gbdt', 'learning_rate': 0.010602764778958863, 'num_leaves': 47, 'max_depth': -1, 'feature_fraction': 0.8545641645055122, 'bagging_fraction': 0.6571779905381634, 'bagging_freq': 4, 'lambda_l1': 1.815132947852186, 'lambda_l2': 1.2464611457443748, 'min_gain_to_split': 0.04103829230356298, 'min_data_in_leaf': 154}. Best is trial 5 with value: 0.912048275825848.\n"
     ]
    },
    {
     "name": "stderr",
     "output_type": "stream",
     "text": [
      "Best trial: 5. Best value: 0.912048:   3%|▎         | 10/300 [1:27:38<39:04:46, 485.13s/it]"
     ]
    },
    {
     "name": "stdout",
     "output_type": "stream",
     "text": [
      "[I 2025-10-23 03:20:54,302] Trial 9 finished with value: 0.9112868741225564 and parameters: {'boosting_type': 'gbdt', 'learning_rate': 0.01948729021356848, 'num_leaves': 63, 'max_depth': 12, 'feature_fraction': 0.9232481518257668, 'bagging_fraction': 0.8167018782552118, 'bagging_freq': 7, 'lambda_l1': 1.607344153798229, 'lambda_l2': 0.9328502944301792, 'min_gain_to_split': 0.08925589984899779, 'min_data_in_leaf': 113}. Best is trial 5 with value: 0.912048275825848.\n"
     ]
    },
    {
     "name": "stderr",
     "output_type": "stream",
     "text": [
      "Best trial: 5. Best value: 0.912048:   4%|▎         | 11/300 [1:28:09<27:48:06, 346.32s/it]"
     ]
    },
    {
     "name": "stdout",
     "output_type": "stream",
     "text": [
      "[I 2025-10-23 03:21:25,912] Trial 10 finished with value: 0.9073517168238141 and parameters: {'boosting_type': 'gbdt', 'learning_rate': 0.08496633102125709, 'num_leaves': 255, 'max_depth': 4, 'feature_fraction': 0.7151987250787625, 'bagging_fraction': 0.9538323976412588, 'bagging_freq': 5, 'lambda_l1': 0.6786149788025785, 'lambda_l2': 4.850836713339941, 'min_gain_to_split': 0.06511976680541434, 'min_data_in_leaf': 15}. Best is trial 5 with value: 0.912048275825848.\n"
     ]
    },
    {
     "name": "stderr",
     "output_type": "stream",
     "text": [
      "Best trial: 11. Best value: 0.912111:   4%|▍         | 12/300 [1:29:32<21:17:27, 266.14s/it]"
     ]
    },
    {
     "name": "stdout",
     "output_type": "stream",
     "text": [
      "[I 2025-10-23 03:22:48,657] Trial 11 finished with value: 0.9121109744205222 and parameters: {'boosting_type': 'gbdt', 'learning_rate': 0.028004432641457806, 'num_leaves': 95, 'max_depth': 5, 'feature_fraction': 0.9418432536901911, 'bagging_fraction': 0.9132335190929217, 'bagging_freq': 6, 'lambda_l1': 0.8023016460591171, 'lambda_l2': 1.8518775385529413, 'min_gain_to_split': 0.09636223044412803, 'min_data_in_leaf': 55}. Best is trial 11 with value: 0.9121109744205222.\n"
     ]
    },
    {
     "name": "stderr",
     "output_type": "stream",
     "text": [
      "Best trial: 11. Best value: 0.912111:   4%|▍         | 13/300 [1:30:56<16:48:25, 210.82s/it]"
     ]
    },
    {
     "name": "stdout",
     "output_type": "stream",
     "text": [
      "[I 2025-10-23 03:24:12,181] Trial 12 finished with value: 0.9105141250499671 and parameters: {'boosting_type': 'gbdt', 'learning_rate': 0.02829040943577342, 'num_leaves': 95, 'max_depth': 6, 'feature_fraction': 0.9897794873655514, 'bagging_fraction': 0.9980082658737177, 'bagging_freq': 5, 'lambda_l1': 0.7571910435970566, 'lambda_l2': 2.0392941597747734, 'min_gain_to_split': 0.06888556913348881, 'min_data_in_leaf': 46}. Best is trial 11 with value: 0.9121109744205222.\n"
     ]
    },
    {
     "name": "stderr",
     "output_type": "stream",
     "text": [
      "Best trial: 11. Best value: 0.912111:   5%|▍         | 14/300 [1:31:43<12:49:42, 161.48s/it]"
     ]
    },
    {
     "name": "stdout",
     "output_type": "stream",
     "text": [
      "[I 2025-10-23 03:24:59,656] Trial 13 finished with value: 0.9105739414518483 and parameters: {'boosting_type': 'gbdt', 'learning_rate': 0.03141126260425448, 'num_leaves': 111, 'max_depth': 3, 'feature_fraction': 0.8930172274971967, 'bagging_fraction': 0.8980287392138382, 'bagging_freq': 6, 'lambda_l1': 0.3847197571767913, 'lambda_l2': 1.8054555424584853, 'min_gain_to_split': 0.08348441739353891, 'min_data_in_leaf': 43}. Best is trial 11 with value: 0.9121109744205222.\n"
     ]
    },
    {
     "name": "stderr",
     "output_type": "stream",
     "text": [
      "Best trial: 11. Best value: 0.912111:   5%|▌         | 15/300 [1:32:07<9:29:26, 119.88s/it] "
     ]
    },
    {
     "name": "stdout",
     "output_type": "stream",
     "text": [
      "[I 2025-10-23 03:25:23,115] Trial 14 finished with value: 0.9085640146046791 and parameters: {'boosting_type': 'gbdt', 'learning_rate': 0.024263257194565666, 'num_leaves': 79, 'max_depth': 2, 'feature_fraction': 0.7280900662649685, 'bagging_fraction': 0.6107022591788887, 'bagging_freq': 6, 'lambda_l1': 0.9283329920899026, 'lambda_l2': 0.07755190997113592, 'min_gain_to_split': 0.058251088224403356, 'min_data_in_leaf': 59}. Best is trial 11 with value: 0.9121109744205222.\n"
     ]
    },
    {
     "name": "stderr",
     "output_type": "stream",
     "text": [
      "Best trial: 11. Best value: 0.912111:   5%|▌         | 16/300 [1:32:33<7:14:37, 91.82s/it] "
     ]
    },
    {
     "name": "stdout",
     "output_type": "stream",
     "text": [
      "[I 2025-10-23 03:25:49,795] Trial 15 finished with value: 0.9101399224963909 and parameters: {'boosting_type': 'gbdt', 'learning_rate': 0.07052744840577305, 'num_leaves': 31, 'max_depth': 5, 'feature_fraction': 0.8716211445364191, 'bagging_fraction': 0.8671553784997496, 'bagging_freq': 4, 'lambda_l1': 0.02635842876184713, 'lambda_l2': 4.066097670770474, 'min_gain_to_split': 0.09827249933965432, 'min_data_in_leaf': 85}. Best is trial 11 with value: 0.9121109744205222.\n"
     ]
    },
    {
     "name": "stderr",
     "output_type": "stream",
     "text": [
      "Best trial: 11. Best value: 0.912111:   6%|▌         | 17/300 [1:34:00<7:06:01, 90.32s/it]"
     ]
    },
    {
     "name": "stdout",
     "output_type": "stream",
     "text": [
      "[I 2025-10-23 03:27:16,607] Trial 16 finished with value: 0.9093885720869199 and parameters: {'boosting_type': 'gbdt', 'learning_rate': 0.038101194594529354, 'num_leaves': 111, 'max_depth': 8, 'feature_fraction': 0.9991041040351111, 'bagging_fraction': 0.7452798895508516, 'bagging_freq': 6, 'lambda_l1': 0.346057781854115, 'lambda_l2': 2.386424321935792, 'min_gain_to_split': 0.07734908779662607, 'min_data_in_leaf': 32}. Best is trial 11 with value: 0.9121109744205222.\n"
     ]
    },
    {
     "name": "stderr",
     "output_type": "stream",
     "text": [
      "Best trial: 11. Best value: 0.912111:   6%|▌         | 18/300 [1:34:37<5:48:34, 74.17s/it]"
     ]
    },
    {
     "name": "stdout",
     "output_type": "stream",
     "text": [
      "[I 2025-10-23 03:27:53,167] Trial 17 finished with value: 0.9115131553614788 and parameters: {'boosting_type': 'gbdt', 'learning_rate': 0.03664162274754567, 'num_leaves': 95, 'max_depth': 5, 'feature_fraction': 0.9189991401785472, 'bagging_fraction': 0.6147449496099402, 'bagging_freq': 3, 'lambda_l1': 1.1208927879166355, 'lambda_l2': 4.070107180624586, 'min_gain_to_split': 0.05138811575365114, 'min_data_in_leaf': 56}. Best is trial 11 with value: 0.9121109744205222.\n"
     ]
    },
    {
     "name": "stderr",
     "output_type": "stream",
     "text": [
      "Best trial: 11. Best value: 0.912111:   6%|▋         | 19/300 [1:39:11<10:28:08, 134.12s/it]"
     ]
    },
    {
     "name": "stdout",
     "output_type": "stream",
     "text": [
      "[I 2025-10-23 03:32:26,968] Trial 18 finished with value: 0.9075190366435726 and parameters: {'boosting_type': 'dart', 'learning_rate': 0.07124567531176272, 'num_leaves': 223, 'max_depth': 1, 'feature_fraction': 0.8341382742858963, 'bagging_fraction': 0.8941468837236076, 'bagging_freq': 6, 'lambda_l1': 0.8858959987123342, 'lambda_l2': 1.5972733117451905, 'min_gain_to_split': 0.08731424285218721, 'min_data_in_leaf': 133}. Best is trial 11 with value: 0.9121109744205222.\n"
     ]
    },
    {
     "name": "stderr",
     "output_type": "stream",
     "text": [
      "Best trial: 11. Best value: 0.912111:   7%|▋         | 20/300 [1:40:54<9:42:21, 124.79s/it] "
     ]
    },
    {
     "name": "stdout",
     "output_type": "stream",
     "text": [
      "[I 2025-10-23 03:34:10,021] Trial 19 finished with value: 0.9112948303397483 and parameters: {'boosting_type': 'gbdt', 'learning_rate': 0.02279177000520842, 'num_leaves': 143, 'max_depth': 9, 'feature_fraction': 0.7718908439817933, 'bagging_fraction': 0.9748144607072987, 'bagging_freq': 5, 'lambda_l1': 0.5528469336377964, 'lambda_l2': 2.3490741713763517, 'min_gain_to_split': 0.06890613428054726, 'min_data_in_leaf': 68}. Best is trial 11 with value: 0.9121109744205222.\n"
     ]
    },
    {
     "name": "stderr",
     "output_type": "stream",
     "text": [
      "Best trial: 11. Best value: 0.912111:   7%|▋         | 21/300 [1:41:21<7:24:07, 95.51s/it] "
     ]
    },
    {
     "name": "stdout",
     "output_type": "stream",
     "text": [
      "[I 2025-10-23 03:34:37,276] Trial 20 finished with value: 0.9106987956210687 and parameters: {'boosting_type': 'gbdt', 'learning_rate': 0.04009979074270934, 'num_leaves': 31, 'max_depth': 3, 'feature_fraction': 0.7316382251927922, 'bagging_fraction': 0.5870687444449515, 'bagging_freq': 3, 'lambda_l1': 1.4382548128928179, 'lambda_l2': 4.034475375900488, 'min_gain_to_split': 0.09936042868762716, 'min_data_in_leaf': 13}. Best is trial 11 with value: 0.9121109744205222.\n"
     ]
    },
    {
     "name": "stderr",
     "output_type": "stream",
     "text": [
      "Best trial: 11. Best value: 0.912111:   7%|▋         | 22/300 [1:42:00<6:03:47, 78.51s/it]"
     ]
    },
    {
     "name": "stdout",
     "output_type": "stream",
     "text": [
      "[I 2025-10-23 03:35:16,144] Trial 21 finished with value: 0.90992621438122 and parameters: {'boosting_type': 'gbdt', 'learning_rate': 0.03798122561693055, 'num_leaves': 95, 'max_depth': 5, 'feature_fraction': 0.9165722469604898, 'bagging_fraction': 0.632905363491958, 'bagging_freq': 3, 'lambda_l1': 1.1587280930158355, 'lambda_l2': 4.298511164779876, 'min_gain_to_split': 0.05251075578029398, 'min_data_in_leaf': 49}. Best is trial 11 with value: 0.9121109744205222.\n"
     ]
    },
    {
     "name": "stderr",
     "output_type": "stream",
     "text": [
      "Best trial: 11. Best value: 0.912111:   8%|▊         | 23/300 [1:43:00<5:37:08, 73.03s/it]"
     ]
    },
    {
     "name": "stdout",
     "output_type": "stream",
     "text": [
      "[I 2025-10-23 03:36:16,364] Trial 22 finished with value: 0.9114276571449775 and parameters: {'boosting_type': 'gbdt', 'learning_rate': 0.027073037073621756, 'num_leaves': 111, 'max_depth': 6, 'feature_fraction': 0.9445120634377033, 'bagging_fraction': 0.6880616202400078, 'bagging_freq': 2, 'lambda_l1': 1.07496587669361, 'lambda_l2': 4.9989523471766955, 'min_gain_to_split': 0.014629925898303732, 'min_data_in_leaf': 90}. Best is trial 11 with value: 0.9121109744205222.\n"
     ]
    },
    {
     "name": "stderr",
     "output_type": "stream",
     "text": [
      "Best trial: 11. Best value: 0.912111:   8%|▊         | 24/300 [1:43:23<4:26:16, 57.89s/it]"
     ]
    },
    {
     "name": "stdout",
     "output_type": "stream",
     "text": [
      "[I 2025-10-23 03:36:38,954] Trial 23 finished with value: 0.9112662162538541 and parameters: {'boosting_type': 'gbdt', 'learning_rate': 0.067269032564762, 'num_leaves': 79, 'max_depth': 4, 'feature_fraction': 0.8936358200432648, 'bagging_fraction': 0.5666141074478376, 'bagging_freq': 4, 'lambda_l1': 0.7839471515755104, 'lambda_l2': 4.410216169178171, 'min_gain_to_split': 0.04474262902273829, 'min_data_in_leaf': 34}. Best is trial 11 with value: 0.9121109744205222.\n"
     ]
    },
    {
     "name": "stderr",
     "output_type": "stream",
     "text": [
      "Best trial: 11. Best value: 0.912111:   8%|▊         | 25/300 [1:44:16<4:18:50, 56.47s/it]"
     ]
    },
    {
     "name": "stdout",
     "output_type": "stream",
     "text": [
      "[I 2025-10-23 03:37:32,112] Trial 24 finished with value: 0.9102358014656972 and parameters: {'boosting_type': 'gbdt', 'learning_rate': 0.03477047636412518, 'num_leaves': 127, 'max_depth': 7, 'feature_fraction': 0.947719796864097, 'bagging_fraction': 0.6170649272296242, 'bagging_freq': 2, 'lambda_l1': 1.3418749828058685, 'lambda_l2': 3.5611563158372497, 'min_gain_to_split': 0.07937725467443787, 'min_data_in_leaf': 64}. Best is trial 11 with value: 0.9121109744205222.\n"
     ]
    },
    {
     "name": "stderr",
     "output_type": "stream",
     "text": [
      "Best trial: 11. Best value: 0.912111:   9%|▊         | 26/300 [1:44:49<3:46:10, 49.53s/it]"
     ]
    },
    {
     "name": "stdout",
     "output_type": "stream",
     "text": [
      "[I 2025-10-23 03:38:05,431] Trial 25 finished with value: 0.9097318428619294 and parameters: {'boosting_type': 'gbdt', 'learning_rate': 0.04281377085151922, 'num_leaves': 79, 'max_depth': 4, 'feature_fraction': 0.8501757318117114, 'bagging_fraction': 0.7597914829136437, 'bagging_freq': 6, 'lambda_l1': 1.948167920527457, 'lambda_l2': 2.725072823105102, 'min_gain_to_split': 0.057046678793648595, 'min_data_in_leaf': 56}. Best is trial 11 with value: 0.9121109744205222.\n"
     ]
    },
    {
     "name": "stderr",
     "output_type": "stream",
     "text": [
      "Best trial: 11. Best value: 0.912111:   9%|▉         | 27/300 [1:49:39<9:13:05, 121.56s/it]"
     ]
    },
    {
     "name": "stdout",
     "output_type": "stream",
     "text": [
      "[I 2025-10-23 03:42:55,058] Trial 26 finished with value: 0.9086579372632471 and parameters: {'boosting_type': 'dart', 'learning_rate': 0.01916071012691636, 'num_leaves': 143, 'max_depth': 2, 'feature_fraction': 0.966560265981964, 'bagging_fraction': 0.5460619180407452, 'bagging_freq': 3, 'lambda_l1': 1.00658237377837, 'lambda_l2': 4.526078619205234, 'min_gain_to_split': 0.08917875584202396, 'min_data_in_leaf': 33}. Best is trial 11 with value: 0.9121109744205222.\n"
     ]
    },
    {
     "name": "stderr",
     "output_type": "stream",
     "text": [
      "Best trial: 27. Best value: 0.912964:   9%|▉         | 28/300 [1:50:33<7:39:15, 101.31s/it]"
     ]
    },
    {
     "name": "stdout",
     "output_type": "stream",
     "text": [
      "[I 2025-10-23 03:43:49,106] Trial 27 finished with value: 0.9129644418275721 and parameters: {'boosting_type': 'gbdt', 'learning_rate': 0.058830842752831125, 'num_leaves': 95, 'max_depth': 7, 'feature_fraction': 0.908500415047629, 'bagging_fraction': 0.8459152592410443, 'bagging_freq': 5, 'lambda_l1': 0.33868506758743955, 'lambda_l2': 3.853842903360542, 'min_gain_to_split': 0.06214742337504002, 'min_data_in_leaf': 91}. Best is trial 27 with value: 0.9129644418275721.\n"
     ]
    },
    {
     "name": "stderr",
     "output_type": "stream",
     "text": [
      "Best trial: 27. Best value: 0.912964:  10%|▉         | 29/300 [1:51:38<6:49:15, 90.61s/it] "
     ]
    },
    {
     "name": "stdout",
     "output_type": "stream",
     "text": [
      "[I 2025-10-23 03:44:54,760] Trial 28 finished with value: 0.9117223994102006 and parameters: {'boosting_type': 'gbdt', 'learning_rate': 0.06000627649873746, 'num_leaves': 63, 'max_depth': 10, 'feature_fraction': 0.8850672530592305, 'bagging_fraction': 0.8530061325852217, 'bagging_freq': 5, 'lambda_l1': 0.27926233697722624, 'lambda_l2': 3.660575365832906, 'min_gain_to_split': 0.06387122464719101, 'min_data_in_leaf': 102}. Best is trial 27 with value: 0.9129644418275721.\n"
     ]
    },
    {
     "name": "stderr",
     "output_type": "stream",
     "text": [
      "Best trial: 27. Best value: 0.912964:  10%|█         | 30/300 [2:10:10<29:45:53, 396.87s/it]"
     ]
    },
    {
     "name": "stdout",
     "output_type": "stream",
     "text": [
      "[I 2025-10-23 04:03:26,175] Trial 29 finished with value: 0.9005428387999432 and parameters: {'boosting_type': 'dart', 'learning_rate': 0.08770839608813463, 'num_leaves': 159, 'max_depth': 7, 'feature_fraction': 0.7526792592660001, 'bagging_fraction': 0.9307614765567622, 'bagging_freq': 7, 'lambda_l1': 0.5185643048291454, 'lambda_l2': 3.7659848925054753, 'min_gain_to_split': 0.07458840025769367, 'min_data_in_leaf': 191}. Best is trial 27 with value: 0.9129644418275721.\n"
     ]
    },
    {
     "name": "stderr",
     "output_type": "stream",
     "text": [
      "Best trial: 27. Best value: 0.912964:  10%|█         | 31/300 [2:10:51<21:40:31, 290.08s/it]"
     ]
    },
    {
     "name": "stdout",
     "output_type": "stream",
     "text": [
      "[I 2025-10-23 04:04:07,129] Trial 30 finished with value: 0.9105014022657693 and parameters: {'boosting_type': 'gbdt', 'learning_rate': 0.058714922412264135, 'num_leaves': 127, 'max_depth': 1, 'feature_fraction': 0.8266874699461593, 'bagging_fraction': 0.8411081482596577, 'bagging_freq': 6, 'lambda_l1': 0.013977492085997328, 'lambda_l2': 3.311554812252514, 'min_gain_to_split': 0.09215622958911895, 'min_data_in_leaf': 93}. Best is trial 27 with value: 0.9129644418275721.\n"
     ]
    },
    {
     "name": "stderr",
     "output_type": "stream",
     "text": [
      "Best trial: 27. Best value: 0.912964:  11%|█         | 32/300 [2:11:50<16:26:41, 220.90s/it]"
     ]
    },
    {
     "name": "stdout",
     "output_type": "stream",
     "text": [
      "[I 2025-10-23 04:05:06,616] Trial 31 finished with value: 0.9097725247516271 and parameters: {'boosting_type': 'gbdt', 'learning_rate': 0.06178519077648666, 'num_leaves': 63, 'max_depth': 9, 'feature_fraction': 0.8805849932390285, 'bagging_fraction': 0.8956595987896903, 'bagging_freq': 5, 'lambda_l1': 0.30170086979476196, 'lambda_l2': 2.9514829389089536, 'min_gain_to_split': 0.06324819286759972, 'min_data_in_leaf': 121}. Best is trial 27 with value: 0.9129644418275721.\n"
     ]
    },
    {
     "name": "stderr",
     "output_type": "stream",
     "text": [
      "Best trial: 27. Best value: 0.912964:  11%|█         | 33/300 [2:12:56<12:56:16, 174.44s/it]"
     ]
    },
    {
     "name": "stdout",
     "output_type": "stream",
     "text": [
      "[I 2025-10-23 04:06:12,655] Trial 32 finished with value: 0.9106028931390148 and parameters: {'boosting_type': 'gbdt', 'learning_rate': 0.07824949974013552, 'num_leaves': 47, 'max_depth': 10, 'feature_fraction': 0.9109472293328398, 'bagging_fraction': 0.8555158948285918, 'bagging_freq': 5, 'lambda_l1': 0.22703947415391956, 'lambda_l2': 3.6630695858984863, 'min_gain_to_split': 0.06078558031730658, 'min_data_in_leaf': 98}. Best is trial 27 with value: 0.9129644418275721.\n"
     ]
    },
    {
     "name": "stderr",
     "output_type": "stream",
     "text": [
      "Best trial: 27. Best value: 0.912964:  11%|█▏        | 34/300 [2:13:38<9:57:31, 134.78s/it] "
     ]
    },
    {
     "name": "stdout",
     "output_type": "stream",
     "text": [
      "[I 2025-10-23 04:06:54,877] Trial 33 finished with value: 0.9075444550889442 and parameters: {'boosting_type': 'gbdt', 'learning_rate': 0.09859327956115364, 'num_leaves': 79, 'max_depth': 8, 'feature_fraction': 0.8640448987530646, 'bagging_fraction': 0.7690062665904192, 'bagging_freq': 4, 'lambda_l1': 0.39886818009888786, 'lambda_l2': 2.034983970405197, 'min_gain_to_split': 0.06982184765580451, 'min_data_in_leaf': 77}. Best is trial 27 with value: 0.9129644418275721.\n"
     ]
    },
    {
     "name": "stderr",
     "output_type": "stream",
     "text": [
      "Best trial: 27. Best value: 0.912964:  12%|█▏        | 35/300 [2:14:50<8:31:43, 115.86s/it]"
     ]
    },
    {
     "name": "stdout",
     "output_type": "stream",
     "text": [
      "[I 2025-10-23 04:08:06,611] Trial 34 finished with value: 0.9068710253351818 and parameters: {'boosting_type': 'gbdt', 'learning_rate': 0.04951782498670917, 'num_leaves': 47, 'max_depth': 11, 'feature_fraction': 0.8198299888984041, 'bagging_fraction': 0.9278464886991484, 'bagging_freq': 6, 'lambda_l1': 0.615070156341749, 'lambda_l2': 4.6730547984574144, 'min_gain_to_split': 0.08368186659683849, 'min_data_in_leaf': 128}. Best is trial 27 with value: 0.9129644418275721.\n"
     ]
    },
    {
     "name": "stderr",
     "output_type": "stream",
     "text": [
      "Best trial: 27. Best value: 0.912964:  12%|█▏        | 36/300 [2:15:33<6:53:12, 93.91s/it] "
     ]
    },
    {
     "name": "stdout",
     "output_type": "stream",
     "text": [
      "[I 2025-10-23 04:08:49,283] Trial 35 finished with value: 0.9090511589176817 and parameters: {'boosting_type': 'gbdt', 'learning_rate': 0.06037899895926095, 'num_leaves': 95, 'max_depth': 8, 'feature_fraction': 0.9722194293671246, 'bagging_fraction': 0.5025299506007311, 'bagging_freq': 5, 'lambda_l1': 0.13227416746609774, 'lambda_l2': 3.907314366487447, 'min_gain_to_split': 0.07154590966430996, 'min_data_in_leaf': 82}. Best is trial 27 with value: 0.9129644418275721.\n"
     ]
    },
    {
     "name": "stderr",
     "output_type": "stream",
     "text": [
      "Best trial: 27. Best value: 0.912964:  12%|█▏        | 37/300 [2:40:24<37:29:20, 513.16s/it]"
     ]
    },
    {
     "name": "stdout",
     "output_type": "stream",
     "text": [
      "[I 2025-10-23 04:33:40,689] Trial 36 finished with value: 0.9019391035501331 and parameters: {'boosting_type': 'dart', 'learning_rate': 0.044369781367686593, 'num_leaves': 63, 'max_depth': -1, 'feature_fraction': 0.936533751651615, 'bagging_fraction': 0.8219818890823735, 'bagging_freq': 7, 'lambda_l1': 0.4430805326372563, 'lambda_l2': 3.2417649713098244, 'min_gain_to_split': 0.04596894043462893, 'min_data_in_leaf': 146}. Best is trial 27 with value: 0.9129644418275721.\n"
     ]
    },
    {
     "name": "stderr",
     "output_type": "stream",
     "text": [
      "Best trial: 27. Best value: 0.912964:  13%|█▎        | 38/300 [2:41:23<27:26:01, 376.95s/it]"
     ]
    },
    {
     "name": "stdout",
     "output_type": "stream",
     "text": [
      "[I 2025-10-23 04:34:39,820] Trial 37 finished with value: 0.907021974961069 and parameters: {'boosting_type': 'gbdt', 'learning_rate': 0.04566531889877461, 'num_leaves': 111, 'max_depth': 10, 'feature_fraction': 0.6870748705312015, 'bagging_fraction': 0.7870185230822873, 'bagging_freq': 4, 'lambda_l1': 0.2532114761635009, 'lambda_l2': 2.570332172275143, 'min_gain_to_split': 0.08195233445498917, 'min_data_in_leaf': 108}. Best is trial 27 with value: 0.9129644418275721.\n"
     ]
    },
    {
     "name": "stderr",
     "output_type": "stream",
     "text": [
      "Best trial: 27. Best value: 0.912964:  13%|█▎        | 39/300 [2:41:56<19:50:11, 273.61s/it]"
     ]
    },
    {
     "name": "stdout",
     "output_type": "stream",
     "text": [
      "[I 2025-10-23 04:35:12,303] Trial 38 finished with value: 0.912550059498189 and parameters: {'boosting_type': 'gbdt', 'learning_rate': 0.0782776271008736, 'num_leaves': 159, 'max_depth': 6, 'feature_fraction': 0.7895060088358324, 'bagging_fraction': 0.7204101759058876, 'bagging_freq': 6, 'lambda_l1': 0.19236578064123838, 'lambda_l2': 4.280061200611348, 'min_gain_to_split': 0.020462490006386582, 'min_data_in_leaf': 70}. Best is trial 27 with value: 0.9129644418275721.\n"
     ]
    },
    {
     "name": "stderr",
     "output_type": "stream",
     "text": [
      "Best trial: 27. Best value: 0.912964:  13%|█▎        | 40/300 [2:56:16<32:27:37, 449.45s/it]"
     ]
    },
    {
     "name": "stdout",
     "output_type": "stream",
     "text": [
      "[I 2025-10-23 04:49:32,050] Trial 39 finished with value: 0.9008500089670489 and parameters: {'boosting_type': 'dart', 'learning_rate': 0.07868094784121822, 'num_leaves': 175, 'max_depth': 6, 'feature_fraction': 0.7942012316736353, 'bagging_fraction': 0.7256219622305989, 'bagging_freq': 7, 'lambda_l1': 0.11592619864782434, 'lambda_l2': 4.275331808268196, 'min_gain_to_split': 0.022195690907387027, 'min_data_in_leaf': 74}. Best is trial 27 with value: 0.9129644418275721.\n"
     ]
    },
    {
     "name": "stderr",
     "output_type": "stream",
     "text": [
      "Best trial: 27. Best value: 0.912964:  14%|█▎        | 41/300 [3:01:02<28:48:22, 400.40s/it]"
     ]
    },
    {
     "name": "stdout",
     "output_type": "stream",
     "text": [
      "[I 2025-10-23 04:54:17,990] Trial 40 finished with value: 0.9096260794873351 and parameters: {'boosting_type': 'gbdt', 'learning_rate': 0.012913319261486684, 'num_leaves': 159, 'max_depth': 0, 'feature_fraction': 0.6539068785574704, 'bagging_fraction': 0.6908284087907097, 'bagging_freq': 6, 'lambda_l1': 0.4688144786714887, 'lambda_l2': 4.651049175978001, 'min_gain_to_split': 0.035011837255055536, 'min_data_in_leaf': 26}. Best is trial 27 with value: 0.9129644418275721.\n"
     ]
    },
    {
     "name": "stderr",
     "output_type": "stream",
     "text": [
      "Best trial: 27. Best value: 0.912964:  14%|█▍        | 42/300 [3:01:32<20:44:24, 289.40s/it]"
     ]
    },
    {
     "name": "stdout",
     "output_type": "stream",
     "text": [
      "[I 2025-10-23 04:54:48,388] Trial 41 finished with value: 0.9118979363740678 and parameters: {'boosting_type': 'gbdt', 'learning_rate': 0.0541169063617924, 'num_leaves': 127, 'max_depth': 7, 'feature_fraction': 0.7755056318166637, 'bagging_fraction': 0.8667095673309109, 'bagging_freq': 5, 'lambda_l1': 0.19016228154606535, 'lambda_l2': 4.926605954510247, 'min_gain_to_split': 0.0021647726329054352, 'min_data_in_leaf': 96}. Best is trial 27 with value: 0.9129644418275721.\n"
     ]
    },
    {
     "name": "stderr",
     "output_type": "stream",
     "text": [
      "Best trial: 27. Best value: 0.912964:  14%|█▍        | 43/300 [3:02:11<15:17:50, 214.28s/it]"
     ]
    },
    {
     "name": "stdout",
     "output_type": "stream",
     "text": [
      "[I 2025-10-23 04:55:27,387] Trial 42 finished with value: 0.9098544537942841 and parameters: {'boosting_type': 'gbdt', 'learning_rate': 0.07899729938085757, 'num_leaves': 127, 'max_depth': 7, 'feature_fraction': 0.7733418020710713, 'bagging_fraction': 0.8794574748352274, 'bagging_freq': 6, 'lambda_l1': 0.13132335156526442, 'lambda_l2': 4.801500427771237, 'min_gain_to_split': 0.0005018568041906465, 'min_data_in_leaf': 69}. Best is trial 27 with value: 0.9129644418275721.\n"
     ]
    },
    {
     "name": "stderr",
     "output_type": "stream",
     "text": [
      "Best trial: 27. Best value: 0.912964:  15%|█▍        | 44/300 [3:02:52<11:32:04, 162.21s/it]"
     ]
    },
    {
     "name": "stdout",
     "output_type": "stream",
     "text": [
      "[I 2025-10-23 04:56:08,098] Trial 43 finished with value: 0.9113851381573053 and parameters: {'boosting_type': 'gbdt', 'learning_rate': 0.05392445545209734, 'num_leaves': 175, 'max_depth': 6, 'feature_fraction': 0.7598903492610594, 'bagging_fraction': 0.9172734848491357, 'bagging_freq': 5, 'lambda_l1': 0.016410049250504516, 'lambda_l2': 4.990657158835917, 'min_gain_to_split': 0.011118916552164931, 'min_data_in_leaf': 43}. Best is trial 27 with value: 0.9129644418275721.\n"
     ]
    },
    {
     "name": "stderr",
     "output_type": "stream",
     "text": [
      "Best trial: 27. Best value: 0.912964:  15%|█▌        | 45/300 [3:03:38<9:01:50, 127.49s/it] "
     ]
    },
    {
     "name": "stdout",
     "output_type": "stream",
     "text": [
      "[I 2025-10-23 04:56:54,579] Trial 44 finished with value: 0.9117976351885142 and parameters: {'boosting_type': 'gbdt', 'learning_rate': 0.03248957480650789, 'num_leaves': 127, 'max_depth': 7, 'feature_fraction': 0.8044667574130874, 'bagging_fraction': 0.831137964457092, 'bagging_freq': 7, 'lambda_l1': 0.15141258925996282, 'lambda_l2': 1.2777841116947888, 'min_gain_to_split': 0.005552707870573999, 'min_data_in_leaf': 86}. Best is trial 27 with value: 0.9129644418275721.\n"
     ]
    },
    {
     "name": "stderr",
     "output_type": "stream",
     "text": [
      "Best trial: 27. Best value: 0.912964:  15%|█▌        | 46/300 [3:04:00<6:46:09, 95.94s/it] "
     ]
    },
    {
     "name": "stdout",
     "output_type": "stream",
     "text": [
      "[I 2025-10-23 04:57:16,918] Trial 45 finished with value: 0.911706177488162 and parameters: {'boosting_type': 'gbdt', 'learning_rate': 0.06490541953309456, 'num_leaves': 111, 'max_depth': 4, 'feature_fraction': 0.8405495293711072, 'bagging_fraction': 0.799474031146305, 'bagging_freq': 5, 'lambda_l1': 0.6773927919108248, 'lambda_l2': 4.490658750087163, 'min_gain_to_split': 0.025444873713792775, 'min_data_in_leaf': 78}. Best is trial 27 with value: 0.9129644418275721.\n"
     ]
    },
    {
     "name": "stderr",
     "output_type": "stream",
     "text": [
      "Best trial: 27. Best value: 0.912964:  16%|█▌        | 47/300 [3:04:26<5:15:52, 74.91s/it]"
     ]
    },
    {
     "name": "stdout",
     "output_type": "stream",
     "text": [
      "[I 2025-10-23 04:57:42,749] Trial 46 finished with value: 0.9107082891551814 and parameters: {'boosting_type': 'gbdt', 'learning_rate': 0.05091400723480349, 'num_leaves': 207, 'max_depth': 5, 'feature_fraction': 0.7105888805647005, 'bagging_fraction': 0.9688114015929917, 'bagging_freq': 6, 'lambda_l1': 0.33428743212835665, 'lambda_l2': 4.201761605003968, 'min_gain_to_split': 0.017228527699587135, 'min_data_in_leaf': 118}. Best is trial 27 with value: 0.9129644418275721.\n"
     ]
    },
    {
     "name": "stderr",
     "output_type": "stream",
     "text": [
      "Best trial: 27. Best value: 0.912964:  16%|█▌        | 48/300 [3:04:40<3:57:36, 56.57s/it]"
     ]
    },
    {
     "name": "stdout",
     "output_type": "stream",
     "text": [
      "[I 2025-10-23 04:57:56,538] Trial 47 finished with value: 0.909994292956456 and parameters: {'boosting_type': 'gbdt', 'learning_rate': 0.07253221957071145, 'num_leaves': 159, 'max_depth': 2, 'feature_fraction': 0.7829076557948779, 'bagging_fraction': 0.6558881797752208, 'bagging_freq': 6, 'lambda_l1': 0.19413309492603245, 'lambda_l2': 4.51538441724816, 'min_gain_to_split': 0.005947222540702761, 'min_data_in_leaf': 61}. Best is trial 27 with value: 0.9129644418275721.\n"
     ]
    },
    {
     "name": "stderr",
     "output_type": "stream",
     "text": [
      "Best trial: 27. Best value: 0.912964:  16%|█▋        | 49/300 [3:05:14<3:27:58, 49.72s/it]"
     ]
    },
    {
     "name": "stdout",
     "output_type": "stream",
     "text": [
      "[I 2025-10-23 04:58:30,250] Trial 48 finished with value: 0.9094942615747063 and parameters: {'boosting_type': 'gbdt', 'learning_rate': 0.08490307131439571, 'num_leaves': 95, 'max_depth': 8, 'feature_fraction': 0.7467524448336498, 'bagging_fraction': 0.9452584309517987, 'bagging_freq': 5, 'lambda_l1': 0.0764146833198232, 'lambda_l2': 0.4498354810919798, 'min_gain_to_split': 0.09349741161734103, 'min_data_in_leaf': 98}. Best is trial 27 with value: 0.9129644418275721.\n"
     ]
    },
    {
     "name": "stderr",
     "output_type": "stream",
     "text": [
      "Best trial: 27. Best value: 0.912964:  17%|█▋        | 50/300 [3:20:49<21:53:31, 315.25s/it]"
     ]
    },
    {
     "name": "stdout",
     "output_type": "stream",
     "text": [
      "[I 2025-10-23 05:14:05,063] Trial 49 finished with value: 0.9041520725635308 and parameters: {'boosting_type': 'dart', 'learning_rate': 0.029042776179576298, 'num_leaves': 191, 'max_depth': 6, 'feature_fraction': 0.8068193995912732, 'bagging_fraction': 0.785146440119848, 'bagging_freq': 7, 'lambda_l1': 0.8285870885882684, 'lambda_l2': 4.780160075835792, 'min_gain_to_split': 0.03572843717119688, 'min_data_in_leaf': 52}. Best is trial 27 with value: 0.9129644418275721.\n"
     ]
    },
    {
     "name": "stderr",
     "output_type": "stream",
     "text": [
      "Best trial: 27. Best value: 0.912964:  17%|█▋        | 51/300 [3:21:07<15:38:15, 226.09s/it]"
     ]
    },
    {
     "name": "stdout",
     "output_type": "stream",
     "text": [
      "[I 2025-10-23 05:14:23,115] Trial 50 finished with value: 0.9078966483315838 and parameters: {'boosting_type': 'gbdt', 'learning_rate': 0.055533607172123335, 'num_leaves': 143, 'max_depth': 3, 'feature_fraction': 0.6979046681376826, 'bagging_fraction': 0.7230672380436903, 'bagging_freq': 4, 'lambda_l1': 0.5940568541658735, 'lambda_l2': 1.3726331714624678, 'min_gain_to_split': 0.02779860054726077, 'min_data_in_leaf': 41}. Best is trial 27 with value: 0.9129644418275721.\n"
     ]
    },
    {
     "name": "stderr",
     "output_type": "stream",
     "text": [
      "Best trial: 27. Best value: 0.912964:  17%|█▋        | 52/300 [3:21:46<11:42:47, 170.03s/it]"
     ]
    },
    {
     "name": "stdout",
     "output_type": "stream",
     "text": [
      "[I 2025-10-23 05:15:02,355] Trial 51 finished with value: 0.9111224655564775 and parameters: {'boosting_type': 'gbdt', 'learning_rate': 0.03368441788974806, 'num_leaves': 127, 'max_depth': 7, 'feature_fraction': 0.8094189310696445, 'bagging_fraction': 0.8295987037167842, 'bagging_freq': 7, 'lambda_l1': 0.19908801674564539, 'lambda_l2': 1.0324153515171133, 'min_gain_to_split': 0.006803204494020105, 'min_data_in_leaf': 90}. Best is trial 27 with value: 0.9129644418275721.\n"
     ]
    },
    {
     "name": "stderr",
     "output_type": "stream",
     "text": [
      "Best trial: 52. Best value: 0.913119:  18%|█▊        | 53/300 [3:22:41<9:18:16, 135.61s/it] "
     ]
    },
    {
     "name": "stdout",
     "output_type": "stream",
     "text": [
      "[I 2025-10-23 05:15:57,652] Trial 52 finished with value: 0.9131185631114179 and parameters: {'boosting_type': 'gbdt', 'learning_rate': 0.024494804914946718, 'num_leaves': 127, 'max_depth': 7, 'feature_fraction': 0.6040159924904394, 'bagging_fraction': 0.9096989074822693, 'bagging_freq': 7, 'lambda_l1': 0.4009978624883063, 'lambda_l2': 1.6685615035080072, 'min_gain_to_split': 0.009642756595426964, 'min_data_in_leaf': 85}. Best is trial 52 with value: 0.9131185631114179.\n"
     ]
    },
    {
     "name": "stderr",
     "output_type": "stream",
     "text": [
      "Best trial: 52. Best value: 0.913119:  18%|█▊        | 54/300 [3:23:57<8:02:27, 117.67s/it]"
     ]
    },
    {
     "name": "stdout",
     "output_type": "stream",
     "text": [
      "[I 2025-10-23 05:17:13,457] Trial 53 finished with value: 0.9125090082468224 and parameters: {'boosting_type': 'gbdt', 'learning_rate': 0.02156720746193125, 'num_leaves': 111, 'max_depth': 8, 'feature_fraction': 0.6282689938202426, 'bagging_fraction': 0.8713820215807082, 'bagging_freq': 6, 'lambda_l1': 0.41044243445492284, 'lambda_l2': 1.93403649826268, 'min_gain_to_split': 0.012145357412165183, 'min_data_in_leaf': 65}. Best is trial 52 with value: 0.9131185631114179.\n"
     ]
    },
    {
     "name": "stderr",
     "output_type": "stream",
     "text": [
      "Best trial: 52. Best value: 0.913119:  18%|█▊        | 55/300 [3:25:23<7:22:00, 108.25s/it]"
     ]
    },
    {
     "name": "stdout",
     "output_type": "stream",
     "text": [
      "[I 2025-10-23 05:18:39,718] Trial 54 finished with value: 0.9120285860515542 and parameters: {'boosting_type': 'gbdt', 'learning_rate': 0.020666655855023395, 'num_leaves': 111, 'max_depth': 9, 'feature_fraction': 0.6120131508369917, 'bagging_fraction': 0.9080875776569676, 'bagging_freq': 6, 'lambda_l1': 0.4304814759098613, 'lambda_l2': 1.8101524983105075, 'min_gain_to_split': 0.018288901149749626, 'min_data_in_leaf': 66}. Best is trial 52 with value: 0.9131185631114179.\n"
     ]
    },
    {
     "name": "stderr",
     "output_type": "stream",
     "text": [
      "Best trial: 52. Best value: 0.913119:  19%|█▊        | 56/300 [3:26:17<6:13:09, 91.76s/it] "
     ]
    },
    {
     "name": "stdout",
     "output_type": "stream",
     "text": [
      "[I 2025-10-23 05:19:32,973] Trial 55 finished with value: 0.911206775122069 and parameters: {'boosting_type': 'gbdt', 'learning_rate': 0.01727351678090736, 'num_leaves': 95, 'max_depth': 5, 'feature_fraction': 0.6258763419623157, 'bagging_fraction': 0.9992366601746011, 'bagging_freq': 7, 'lambda_l1': 0.6747346138582093, 'lambda_l2': 2.240134770847538, 'min_gain_to_split': 0.012226256865754402, 'min_data_in_leaf': 50}. Best is trial 52 with value: 0.9131185631114179.\n"
     ]
    },
    {
     "name": "stderr",
     "output_type": "stream",
     "text": [
      "Best trial: 52. Best value: 0.913119:  19%|█▉        | 57/300 [3:27:23<5:40:56, 84.18s/it]"
     ]
    },
    {
     "name": "stdout",
     "output_type": "stream",
     "text": [
      "[I 2025-10-23 05:20:39,521] Trial 56 finished with value: 0.9105228066319045 and parameters: {'boosting_type': 'gbdt', 'learning_rate': 0.02564822006349107, 'num_leaves': 143, 'max_depth': 8, 'feature_fraction': 0.6680954104877713, 'bagging_fraction': 0.877422909800605, 'bagging_freq': 6, 'lambda_l1': 0.361704680221288, 'lambda_l2': 1.542997062604504, 'min_gain_to_split': 0.009597053746259021, 'min_data_in_leaf': 71}. Best is trial 52 with value: 0.9131185631114179.\n"
     ]
    },
    {
     "name": "stderr",
     "output_type": "stream",
     "text": [
      "Best trial: 52. Best value: 0.913119:  19%|█▉        | 58/300 [3:28:20<5:06:40, 76.03s/it]"
     ]
    },
    {
     "name": "stdout",
     "output_type": "stream",
     "text": [
      "[I 2025-10-23 05:21:36,548] Trial 57 finished with value: 0.9103486918860841 and parameters: {'boosting_type': 'gbdt', 'learning_rate': 0.02140818746557603, 'num_leaves': 79, 'max_depth': 6, 'feature_fraction': 0.6036555597915898, 'bagging_fraction': 0.9462198477870467, 'bagging_freq': 7, 'lambda_l1': 0.4734350302902811, 'lambda_l2': 1.9985333149248043, 'min_gain_to_split': 0.02115184713694339, 'min_data_in_leaf': 39}. Best is trial 52 with value: 0.9131185631114179.\n"
     ]
    },
    {
     "name": "stderr",
     "output_type": "stream",
     "text": [
      "Best trial: 52. Best value: 0.913119:  20%|█▉        | 59/300 [3:29:29<4:56:22, 73.79s/it]"
     ]
    },
    {
     "name": "stdout",
     "output_type": "stream",
     "text": [
      "[I 2025-10-23 05:22:45,077] Trial 58 finished with value: 0.910839041858883 and parameters: {'boosting_type': 'gbdt', 'learning_rate': 0.023498576607383685, 'num_leaves': 111, 'max_depth': 8, 'feature_fraction': 0.6477695961717281, 'bagging_fraction': 0.58553557644035, 'bagging_freq': 1, 'lambda_l1': 0.29023073917647996, 'lambda_l2': 1.7238653338531504, 'min_gain_to_split': 0.015506797803680798, 'min_data_in_leaf': 58}. Best is trial 52 with value: 0.9131185631114179.\n"
     ]
    },
    {
     "name": "stderr",
     "output_type": "stream",
     "text": [
      "Best trial: 52. Best value: 0.913119:  20%|██        | 60/300 [3:30:38<4:50:15, 72.56s/it]"
     ]
    },
    {
     "name": "stdout",
     "output_type": "stream",
     "text": [
      "[I 2025-10-23 05:23:54,800] Trial 59 finished with value: 0.9100611443683951 and parameters: {'boosting_type': 'gbdt', 'learning_rate': 0.015480367794686227, 'num_leaves': 159, 'max_depth': 4, 'feature_fraction': 0.6373505302187408, 'bagging_fraction': 0.9700579658783852, 'bagging_freq': 6, 'lambda_l1': 0.5258454167256404, 'lambda_l2': 2.1477576270963206, 'min_gain_to_split': 0.04128050247146996, 'min_data_in_leaf': 24}. Best is trial 52 with value: 0.9131185631114179.\n"
     ]
    },
    {
     "name": "stderr",
     "output_type": "stream",
     "text": [
      "Best trial: 52. Best value: 0.913119:  20%|██        | 61/300 [3:31:13<4:03:16, 61.07s/it]"
     ]
    },
    {
     "name": "stdout",
     "output_type": "stream",
     "text": [
      "[I 2025-10-23 05:24:29,054] Trial 60 finished with value: 0.9102012830632698 and parameters: {'boosting_type': 'gbdt', 'learning_rate': 0.02931836774798556, 'num_leaves': 143, 'max_depth': 5, 'feature_fraction': 0.905059312648316, 'bagging_fraction': 0.5306647052309694, 'bagging_freq': 6, 'lambda_l1': 1.248070685238316, 'lambda_l2': 0.7998198799201357, 'min_gain_to_split': 0.09508166145715648, 'min_data_in_leaf': 78}. Best is trial 52 with value: 0.9131185631114179.\n"
     ]
    },
    {
     "name": "stderr",
     "output_type": "stream",
     "text": [
      "Best trial: 52. Best value: 0.913119:  21%|██        | 62/300 [3:32:34<4:26:22, 67.15s/it]"
     ]
    },
    {
     "name": "stdout",
     "output_type": "stream",
     "text": [
      "[I 2025-10-23 05:25:50,388] Trial 61 finished with value: 0.9096072930822414 and parameters: {'boosting_type': 'gbdt', 'learning_rate': 0.02053292010683302, 'num_leaves': 111, 'max_depth': 9, 'feature_fraction': 0.6041756595326252, 'bagging_fraction': 0.9050964462675357, 'bagging_freq': 6, 'lambda_l1': 0.4400589638009147, 'lambda_l2': 1.8690591322191272, 'min_gain_to_split': 0.01894846871416453, 'min_data_in_leaf': 61}. Best is trial 52 with value: 0.9131185631114179.\n"
     ]
    },
    {
     "name": "stderr",
     "output_type": "stream",
     "text": [
      "Best trial: 52. Best value: 0.913119:  21%|██        | 63/300 [3:34:16<5:06:19, 77.55s/it]"
     ]
    },
    {
     "name": "stdout",
     "output_type": "stream",
     "text": [
      "[I 2025-10-23 05:27:32,198] Trial 62 finished with value: 0.9110773691722647 and parameters: {'boosting_type': 'gbdt', 'learning_rate': 0.01794577630545562, 'num_leaves': 95, 'max_depth': 9, 'feature_fraction': 0.6707790509771316, 'bagging_fraction': 0.9128316650579695, 'bagging_freq': 6, 'lambda_l1': 0.35798929765181053, 'lambda_l2': 1.5172468317931664, 'min_gain_to_split': 0.05450555052219526, 'min_data_in_leaf': 66}. Best is trial 52 with value: 0.9131185631114179.\n"
     ]
    },
    {
     "name": "stderr",
     "output_type": "stream",
     "text": [
      "Best trial: 52. Best value: 0.913119:  21%|██▏       | 64/300 [3:36:16<5:55:20, 90.34s/it]"
     ]
    },
    {
     "name": "stdout",
     "output_type": "stream",
     "text": [
      "[I 2025-10-23 05:29:32,334] Trial 63 finished with value: 0.9120004872611585 and parameters: {'boosting_type': 'gbdt', 'learning_rate': 0.013945582245942787, 'num_leaves': 111, 'max_depth': 7, 'feature_fraction': 0.6188055450763749, 'bagging_fraction': 0.8790760726757306, 'bagging_freq': 6, 'lambda_l1': 0.7207928261826015, 'lambda_l2': 2.4830979983754546, 'min_gain_to_split': 0.02413062981744876, 'min_data_in_leaf': 53}. Best is trial 52 with value: 0.9131185631114179.\n"
     ]
    },
    {
     "name": "stderr",
     "output_type": "stream",
     "text": [
      "Best trial: 52. Best value: 0.913119:  22%|██▏       | 65/300 [3:38:11<6:22:39, 97.70s/it]"
     ]
    },
    {
     "name": "stdout",
     "output_type": "stream",
     "text": [
      "[I 2025-10-23 05:31:27,258] Trial 64 finished with value: 0.9119678164690925 and parameters: {'boosting_type': 'gbdt', 'learning_rate': 0.025819575257643116, 'num_leaves': 79, 'max_depth': 0, 'feature_fraction': 0.6010061443836489, 'bagging_fraction': 0.9259290425151574, 'bagging_freq': 7, 'lambda_l1': 0.609272094834997, 'lambda_l2': 1.7933145652289495, 'min_gain_to_split': 0.03092965083409551, 'min_data_in_leaf': 83}. Best is trial 52 with value: 0.9131185631114179.\n"
     ]
    },
    {
     "name": "stderr",
     "output_type": "stream",
     "text": [
      "Best trial: 52. Best value: 0.913119:  22%|██▏       | 66/300 [3:40:06<6:41:46, 103.02s/it]"
     ]
    },
    {
     "name": "stdout",
     "output_type": "stream",
     "text": [
      "[I 2025-10-23 05:33:22,686] Trial 65 finished with value: 0.9100746610669402 and parameters: {'boosting_type': 'gbdt', 'learning_rate': 0.020845471332476825, 'num_leaves': 95, 'max_depth': 11, 'feature_fraction': 0.6311567687252801, 'bagging_fraction': 0.8514255440381129, 'bagging_freq': 6, 'lambda_l1': 0.3946643051727091, 'lambda_l2': 1.6253006657253082, 'min_gain_to_split': 0.009349507330525527, 'min_data_in_leaf': 67}. Best is trial 52 with value: 0.9131185631114179.\n"
     ]
    },
    {
     "name": "stderr",
     "output_type": "stream",
     "text": [
      "Best trial: 52. Best value: 0.913119:  22%|██▏       | 67/300 [4:05:14<33:56:20, 524.38s/it]"
     ]
    },
    {
     "name": "stdout",
     "output_type": "stream",
     "text": [
      "[I 2025-10-23 05:58:30,225] Trial 66 finished with value: 0.9062818449993336 and parameters: {'boosting_type': 'dart', 'learning_rate': 0.022634968565233515, 'num_leaves': 111, 'max_depth': 9, 'feature_fraction': 0.9338701132182392, 'bagging_fraction': 0.8954864262409634, 'bagging_freq': 7, 'lambda_l1': 0.08193560839374336, 'lambda_l2': 1.9608276123217916, 'min_gain_to_split': 0.014362704832262306, 'min_data_in_leaf': 88}. Best is trial 52 with value: 0.9131185631114179.\n"
     ]
    },
    {
     "name": "stderr",
     "output_type": "stream",
     "text": [
      "Best trial: 52. Best value: 0.913119:  23%|██▎       | 68/300 [4:08:21<27:16:06, 423.13s/it]"
     ]
    },
    {
     "name": "stdout",
     "output_type": "stream",
     "text": [
      "[I 2025-10-23 06:01:37,124] Trial 67 finished with value: 0.9096913485403461 and parameters: {'boosting_type': 'gbdt', 'learning_rate': 0.016876456127716988, 'num_leaves': 127, 'max_depth': 10, 'feature_fraction': 0.9824262434520226, 'bagging_fraction': 0.9437140858898725, 'bagging_freq': 5, 'lambda_l1': 0.8804967509745634, 'lambda_l2': 1.127896977244835, 'min_gain_to_split': 0.07261776710363782, 'min_data_in_leaf': 47}. Best is trial 52 with value: 0.9131185631114179.\n"
     ]
    },
    {
     "name": "stderr",
     "output_type": "stream",
     "text": [
      "Best trial: 52. Best value: 0.913119:  23%|██▎       | 69/300 [4:09:42<20:34:03, 320.54s/it]"
     ]
    },
    {
     "name": "stdout",
     "output_type": "stream",
     "text": [
      "[I 2025-10-23 06:02:58,272] Trial 68 finished with value: 0.911382369204104 and parameters: {'boosting_type': 'gbdt', 'learning_rate': 0.019059615738456586, 'num_leaves': 143, 'max_depth': 8, 'feature_fraction': 0.6436702379536061, 'bagging_fraction': 0.8135445656968334, 'bagging_freq': 6, 'lambda_l1': 0.29125078931002735, 'lambda_l2': 1.4028393929755718, 'min_gain_to_split': 0.07680179221440903, 'min_data_in_leaf': 73}. Best is trial 52 with value: 0.9131185631114179.\n"
     ]
    },
    {
     "name": "stderr",
     "output_type": "stream",
     "text": [
      "Best trial: 52. Best value: 0.913119:  23%|██▎       | 70/300 [4:10:33<15:19:03, 239.76s/it]"
     ]
    },
    {
     "name": "stdout",
     "output_type": "stream",
     "text": [
      "[I 2025-10-23 06:03:49,543] Trial 69 finished with value: 0.9102073680317775 and parameters: {'boosting_type': 'gbdt', 'learning_rate': 0.02439376696540344, 'num_leaves': 95, 'max_depth': 7, 'feature_fraction': 0.9551505635151394, 'bagging_fraction': 0.7391371678487596, 'bagging_freq': 5, 'lambda_l1': 0.5556130249920348, 'lambda_l2': 2.2684810922107124, 'min_gain_to_split': 0.047494659516306555, 'min_data_in_leaf': 175}. Best is trial 52 with value: 0.9131185631114179.\n"
     ]
    },
    {
     "name": "stderr",
     "output_type": "stream",
     "text": [
      "Best trial: 52. Best value: 0.913119:  24%|██▎       | 71/300 [4:11:13<11:26:03, 179.76s/it]"
     ]
    },
    {
     "name": "stdout",
     "output_type": "stream",
     "text": [
      "[I 2025-10-23 06:04:29,299] Trial 70 finished with value: 0.9117961671422372 and parameters: {'boosting_type': 'gbdt', 'learning_rate': 0.02765576964200335, 'num_leaves': 127, 'max_depth': 6, 'feature_fraction': 0.6181454339433402, 'bagging_fraction': 0.6556588960281275, 'bagging_freq': 6, 'lambda_l1': 0.9537335685393161, 'lambda_l2': 2.8781360177623228, 'min_gain_to_split': 0.09010955432584196, 'min_data_in_leaf': 54}. Best is trial 52 with value: 0.9131185631114179.\n"
     ]
    },
    {
     "name": "stderr",
     "output_type": "stream",
     "text": [
      "Best trial: 52. Best value: 0.913119:  24%|██▍       | 72/300 [4:12:43<9:41:09, 152.94s/it] "
     ]
    },
    {
     "name": "stdout",
     "output_type": "stream",
     "text": [
      "[I 2025-10-23 06:05:59,658] Trial 71 finished with value: 0.9125567168545863 and parameters: {'boosting_type': 'gbdt', 'learning_rate': 0.014008939450149228, 'num_leaves': 111, 'max_depth': 7, 'feature_fraction': 0.6156905941358082, 'bagging_fraction': 0.8816674300628076, 'bagging_freq': 6, 'lambda_l1': 0.6894977231241581, 'lambda_l2': 2.4438072033271476, 'min_gain_to_split': 0.0245506205335169, 'min_data_in_leaf': 63}. Best is trial 52 with value: 0.9131185631114179.\n"
     ]
    },
    {
     "name": "stderr",
     "output_type": "stream",
     "text": [
      "Best trial: 52. Best value: 0.913119:  24%|██▍       | 73/300 [4:14:29<8:44:55, 138.75s/it]"
     ]
    },
    {
     "name": "stdout",
     "output_type": "stream",
     "text": [
      "[I 2025-10-23 06:07:45,284] Trial 72 finished with value: 0.9114507264790409 and parameters: {'boosting_type': 'gbdt', 'learning_rate': 0.013904700538975969, 'num_leaves': 111, 'max_depth': 8, 'feature_fraction': 0.6601091334994438, 'bagging_fraction': 0.8872319783038078, 'bagging_freq': 6, 'lambda_l1': 0.7932454662724615, 'lambda_l2': 2.681871146059667, 'min_gain_to_split': 0.01990946207669385, 'min_data_in_leaf': 60}. Best is trial 52 with value: 0.9131185631114179.\n"
     ]
    },
    {
     "name": "stderr",
     "output_type": "stream",
     "text": [
      "Best trial: 52. Best value: 0.913119:  25%|██▍       | 74/300 [4:15:51<7:38:40, 121.77s/it]"
     ]
    },
    {
     "name": "stdout",
     "output_type": "stream",
     "text": [
      "[I 2025-10-23 06:09:07,461] Trial 73 finished with value: 0.9123979865909391 and parameters: {'boosting_type': 'gbdt', 'learning_rate': 0.01070137340061602, 'num_leaves': 79, 'max_depth': 6, 'feature_fraction': 0.6208796629705173, 'bagging_fraction': 0.8586911278727666, 'bagging_freq': 6, 'lambda_l1': 0.23979940450278153, 'lambda_l2': 2.444328278273938, 'min_gain_to_split': 0.025705751388034093, 'min_data_in_leaf': 65}. Best is trial 52 with value: 0.9131185631114179.\n"
     ]
    },
    {
     "name": "stderr",
     "output_type": "stream",
     "text": [
      "Best trial: 52. Best value: 0.913119:  25%|██▌       | 75/300 [4:17:22<7:01:56, 112.52s/it]"
     ]
    },
    {
     "name": "stdout",
     "output_type": "stream",
     "text": [
      "[I 2025-10-23 06:10:38,378] Trial 74 finished with value: 0.9118258599542243 and parameters: {'boosting_type': 'gbdt', 'learning_rate': 0.010263562186403051, 'num_leaves': 63, 'max_depth': 5, 'feature_fraction': 0.6758648205380384, 'bagging_fraction': 0.8603513780703592, 'bagging_freq': 7, 'lambda_l1': 0.24179074168511389, 'lambda_l2': 2.4948369891637228, 'min_gain_to_split': 0.024963881357381732, 'min_data_in_leaf': 38}. Best is trial 52 with value: 0.9131185631114179.\n"
     ]
    },
    {
     "name": "stderr",
     "output_type": "stream",
     "text": [
      "Best trial: 52. Best value: 0.913119:  25%|██▌       | 76/300 [4:18:36<6:17:21, 101.08s/it]"
     ]
    },
    {
     "name": "stdout",
     "output_type": "stream",
     "text": [
      "[I 2025-10-23 06:11:52,772] Trial 75 finished with value: 0.9127813483923033 and parameters: {'boosting_type': 'gbdt', 'learning_rate': 0.011623850800010603, 'num_leaves': 79, 'max_depth': 6, 'feature_fraction': 0.62473587183263, 'bagging_fraction': 0.8407825525942959, 'bagging_freq': 5, 'lambda_l1': 0.06361533828075083, 'lambda_l2': 3.110917987243109, 'min_gain_to_split': 0.08681318450927444, 'min_data_in_leaf': 75}. Best is trial 52 with value: 0.9131185631114179.\n"
     ]
    },
    {
     "name": "stderr",
     "output_type": "stream",
     "text": [
      "Best trial: 52. Best value: 0.913119:  26%|██▌       | 77/300 [4:20:05<6:01:32, 97.27s/it] "
     ]
    },
    {
     "name": "stdout",
     "output_type": "stream",
     "text": [
      "[I 2025-10-23 06:13:21,156] Trial 76 finished with value: 0.9118573854191874 and parameters: {'boosting_type': 'gbdt', 'learning_rate': 0.012595095317214828, 'num_leaves': 79, 'max_depth': 6, 'feature_fraction': 0.6340901153713167, 'bagging_fraction': 0.8342995005481539, 'bagging_freq': 5, 'lambda_l1': 0.04918501569870834, 'lambda_l2': 2.623813818475692, 'min_gain_to_split': 0.09946315066717223, 'min_data_in_leaf': 82}. Best is trial 52 with value: 0.9131185631114179.\n"
     ]
    },
    {
     "name": "stderr",
     "output_type": "stream",
     "text": [
      "Best trial: 52. Best value: 0.913119:  26%|██▌       | 78/300 [4:21:10<5:24:53, 87.81s/it]"
     ]
    },
    {
     "name": "stdout",
     "output_type": "stream",
     "text": [
      "[I 2025-10-23 06:14:26,886] Trial 77 finished with value: 0.9131089147436576 and parameters: {'boosting_type': 'gbdt', 'learning_rate': 0.012566476902480243, 'num_leaves': 79, 'max_depth': 6, 'feature_fraction': 0.6209508846273971, 'bagging_fraction': 0.86774868772447, 'bagging_freq': 4, 'lambda_l1': 0.3269712767078897, 'lambda_l2': 3.0854940237225112, 'min_gain_to_split': 0.08670042681135574, 'min_data_in_leaf': 106}. Best is trial 52 with value: 0.9131185631114179.\n"
     ]
    },
    {
     "name": "stderr",
     "output_type": "stream",
     "text": [
      "Best trial: 52. Best value: 0.913119:  26%|██▋       | 79/300 [4:22:24<5:07:48, 83.57s/it]"
     ]
    },
    {
     "name": "stdout",
     "output_type": "stream",
     "text": [
      "[I 2025-10-23 06:15:40,559] Trial 78 finished with value: 0.9118233165801339 and parameters: {'boosting_type': 'gbdt', 'learning_rate': 0.011155408694486125, 'num_leaves': 63, 'max_depth': 6, 'feature_fraction': 0.6231717314495935, 'bagging_fraction': 0.7049065940044947, 'bagging_freq': 4, 'lambda_l1': 0.25825068271132656, 'lambda_l2': 3.2495279481152872, 'min_gain_to_split': 0.028552537204396863, 'min_data_in_leaf': 102}. Best is trial 52 with value: 0.9131185631114179.\n"
     ]
    },
    {
     "name": "stderr",
     "output_type": "stream",
     "text": [
      "Best trial: 52. Best value: 0.913119:  27%|██▋       | 80/300 [4:41:58<25:05:37, 410.63s/it]"
     ]
    },
    {
     "name": "stdout",
     "output_type": "stream",
     "text": [
      "[I 2025-10-23 06:35:14,318] Trial 79 finished with value: 0.9072818961979189 and parameters: {'boosting_type': 'dart', 'learning_rate': 0.011347084346422471, 'num_leaves': 79, 'max_depth': 7, 'feature_fraction': 0.641778646955456, 'bagging_fraction': 0.8485775409220563, 'bagging_freq': 4, 'lambda_l1': 0.4915589993437777, 'lambda_l2': 3.044615091743924, 'min_gain_to_split': 0.03681766934879531, 'min_data_in_leaf': 76}. Best is trial 52 with value: 0.9131185631114179.\n"
     ]
    },
    {
     "name": "stderr",
     "output_type": "stream",
     "text": [
      "Best trial: 52. Best value: 0.913119:  27%|██▋       | 81/300 [4:43:32<19:11:42, 315.54s/it]"
     ]
    },
    {
     "name": "stdout",
     "output_type": "stream",
     "text": [
      "[I 2025-10-23 06:36:47,960] Trial 80 finished with value: 0.9122093256775188 and parameters: {'boosting_type': 'gbdt', 'learning_rate': 0.012027756554866641, 'num_leaves': 47, 'max_depth': 7, 'feature_fraction': 0.6540112848770241, 'bagging_fraction': 0.8680153143123359, 'bagging_freq': 4, 'lambda_l1': 0.33331670304331307, 'lambda_l2': 3.464707455273587, 'min_gain_to_split': 0.08335024354626619, 'min_data_in_leaf': 112}. Best is trial 52 with value: 0.9131185631114179.\n"
     ]
    },
    {
     "name": "stderr",
     "output_type": "stream",
     "text": [
      "Best trial: 52. Best value: 0.913119:  27%|██▋       | 82/300 [4:45:15<15:15:24, 251.95s/it]"
     ]
    },
    {
     "name": "stdout",
     "output_type": "stream",
     "text": [
      "[I 2025-10-23 06:38:31,549] Trial 81 finished with value: 0.9121478461228425 and parameters: {'boosting_type': 'gbdt', 'learning_rate': 0.01174385537831712, 'num_leaves': 31, 'max_depth': 7, 'feature_fraction': 0.6122794650541221, 'bagging_fraction': 0.871453248904143, 'bagging_freq': 4, 'lambda_l1': 0.3248559035592911, 'lambda_l2': 3.400194370382918, 'min_gain_to_split': 0.08557397545615054, 'min_data_in_leaf': 114}. Best is trial 52 with value: 0.9131185631114179.\n"
     ]
    },
    {
     "name": "stderr",
     "output_type": "stream",
     "text": [
      "Best trial: 52. Best value: 0.913119:  28%|██▊       | 83/300 [4:46:42<12:12:03, 202.41s/it]"
     ]
    },
    {
     "name": "stdout",
     "output_type": "stream",
     "text": [
      "[I 2025-10-23 06:39:58,369] Trial 82 finished with value: 0.9124733765359094 and parameters: {'boosting_type': 'gbdt', 'learning_rate': 0.01246122496031868, 'num_leaves': 47, 'max_depth': 6, 'feature_fraction': 0.6529642121144684, 'bagging_fraction': 0.8173961642666887, 'bagging_freq': 3, 'lambda_l1': 0.1764972296935743, 'lambda_l2': 3.867487178703588, 'min_gain_to_split': 0.0816656338424643, 'min_data_in_leaf': 109}. Best is trial 52 with value: 0.9131185631114179.\n"
     ]
    },
    {
     "name": "stderr",
     "output_type": "stream",
     "text": [
      "Best trial: 52. Best value: 0.913119:  28%|██▊       | 84/300 [4:48:10<10:05:00, 168.06s/it]"
     ]
    },
    {
     "name": "stdout",
     "output_type": "stream",
     "text": [
      "[I 2025-10-23 06:41:26,283] Trial 83 finished with value: 0.912005519914256 and parameters: {'boosting_type': 'gbdt', 'learning_rate': 0.010028542349982147, 'num_leaves': 63, 'max_depth': 6, 'feature_fraction': 0.6826122813372242, 'bagging_fraction': 0.8125765244603305, 'bagging_freq': 2, 'lambda_l1': 0.09348671738560603, 'lambda_l2': 4.078315703977511, 'min_gain_to_split': 0.0882531381505682, 'min_data_in_leaf': 106}. Best is trial 52 with value: 0.9131185631114179.\n"
     ]
    },
    {
     "name": "stderr",
     "output_type": "stream",
     "text": [
      "Best trial: 52. Best value: 0.913119:  28%|██▊       | 85/300 [4:49:11<8:07:40, 136.09s/it] "
     ]
    },
    {
     "name": "stdout",
     "output_type": "stream",
     "text": [
      "[I 2025-10-23 06:42:27,789] Trial 84 finished with value: 0.9114711379184908 and parameters: {'boosting_type': 'gbdt', 'learning_rate': 0.014437734073961223, 'num_leaves': 47, 'max_depth': 5, 'feature_fraction': 0.6306219858557042, 'bagging_fraction': 0.8493630958429366, 'bagging_freq': 2, 'lambda_l1': 0.17522973754278368, 'lambda_l2': 3.8459841555004184, 'min_gain_to_split': 0.06650266433248671, 'min_data_in_leaf': 127}. Best is trial 52 with value: 0.9131185631114179.\n"
     ]
    },
    {
     "name": "stderr",
     "output_type": "stream",
     "text": [
      "Best trial: 52. Best value: 0.913119:  29%|██▊       | 86/300 [4:50:36<7:10:09, 120.60s/it]"
     ]
    },
    {
     "name": "stdout",
     "output_type": "stream",
     "text": [
      "[I 2025-10-23 06:43:52,255] Trial 85 finished with value: 0.9128908648080409 and parameters: {'boosting_type': 'gbdt', 'learning_rate': 0.01294503058215443, 'num_leaves': 79, 'max_depth': 6, 'feature_fraction': 0.6127377484226433, 'bagging_fraction': 0.7937267815200768, 'bagging_freq': 3, 'lambda_l1': 0.2299305903339756, 'lambda_l2': 2.7930389381023706, 'min_gain_to_split': 0.003008587716131151, 'min_data_in_leaf': 95}. Best is trial 52 with value: 0.9131185631114179.\n"
     ]
    },
    {
     "name": "stderr",
     "output_type": "stream",
     "text": [
      "Best trial: 52. Best value: 0.913119:  29%|██▉       | 87/300 [4:52:04<6:33:40, 110.89s/it]"
     ]
    },
    {
     "name": "stdout",
     "output_type": "stream",
     "text": [
      "[I 2025-10-23 06:45:20,492] Trial 86 finished with value: 0.912650391759603 and parameters: {'boosting_type': 'gbdt', 'learning_rate': 0.013203587077438206, 'num_leaves': 95, 'max_depth': 6, 'feature_fraction': 0.6120516320059073, 'bagging_fraction': 0.776408374532872, 'bagging_freq': 3, 'lambda_l1': 0.14702709712661735, 'lambda_l2': 2.841569981664384, 'min_gain_to_split': 0.003478090770973507, 'min_data_in_leaf': 95}. Best is trial 52 with value: 0.9131185631114179.\n"
     ]
    },
    {
     "name": "stderr",
     "output_type": "stream",
     "text": [
      "Best trial: 52. Best value: 0.913119:  29%|██▉       | 88/300 [4:53:23<5:58:07, 101.35s/it]"
     ]
    },
    {
     "name": "stdout",
     "output_type": "stream",
     "text": [
      "[I 2025-10-23 06:46:39,583] Trial 87 finished with value: 0.9109624187475215 and parameters: {'boosting_type': 'gbdt', 'learning_rate': 0.01608387700737564, 'num_leaves': 95, 'max_depth': 7, 'feature_fraction': 0.6108740956188893, 'bagging_fraction': 0.7772772219444641, 'bagging_freq': 3, 'lambda_l1': 0.39959069665717356, 'lambda_l2': 3.0942461904792786, 'min_gain_to_split': 0.002399311604420289, 'min_data_in_leaf': 92}. Best is trial 52 with value: 0.9131185631114179.\n"
     ]
    },
    {
     "name": "stderr",
     "output_type": "stream",
     "text": [
      "Best trial: 52. Best value: 0.913119:  30%|██▉       | 89/300 [4:55:17<6:09:22, 105.03s/it]"
     ]
    },
    {
     "name": "stdout",
     "output_type": "stream",
     "text": [
      "[I 2025-10-23 06:48:33,199] Trial 88 finished with value: 0.9121704720152347 and parameters: {'boosting_type': 'gbdt', 'learning_rate': 0.013513502769707565, 'num_leaves': 79, 'max_depth': 8, 'feature_fraction': 0.6006240079685868, 'bagging_fraction': 0.7475221710160428, 'bagging_freq': 3, 'lambda_l1': 0.14032473853944277, 'lambda_l2': 2.8472971790543404, 'min_gain_to_split': 0.004389509593319285, 'min_data_in_leaf': 97}. Best is trial 52 with value: 0.9131185631114179.\n"
     ]
    },
    {
     "name": "stderr",
     "output_type": "stream",
     "text": [
      "Best trial: 52. Best value: 0.913119:  30%|███       | 90/300 [4:56:13<5:16:44, 90.50s/it] "
     ]
    },
    {
     "name": "stdout",
     "output_type": "stream",
     "text": [
      "[I 2025-10-23 06:49:29,777] Trial 89 finished with value: 0.9128789945530943 and parameters: {'boosting_type': 'gbdt', 'learning_rate': 0.014926047748966517, 'num_leaves': 239, 'max_depth': 5, 'feature_fraction': 0.6382610051411659, 'bagging_fraction': 0.7609123094544872, 'bagging_freq': 3, 'lambda_l1': 0.22007794311291953, 'lambda_l2': 3.057704115750834, 'min_gain_to_split': 0.008385645769077254, 'min_data_in_leaf': 86}. Best is trial 52 with value: 0.9131185631114179.\n"
     ]
    },
    {
     "name": "stderr",
     "output_type": "stream",
     "text": [
      "Best trial: 52. Best value: 0.913119:  30%|███       | 91/300 [4:57:01<4:30:35, 77.68s/it]"
     ]
    },
    {
     "name": "stdout",
     "output_type": "stream",
     "text": [
      "[I 2025-10-23 06:50:17,567] Trial 90 finished with value: 0.9121304370030657 and parameters: {'boosting_type': 'gbdt', 'learning_rate': 0.01508461499276971, 'num_leaves': 223, 'max_depth': 4, 'feature_fraction': 0.6130542856130304, 'bagging_fraction': 0.7624325019334851, 'bagging_freq': 3, 'lambda_l1': 0.006306771696749924, 'lambda_l2': 2.99029578052017, 'min_gain_to_split': 0.0008962406543878967, 'min_data_in_leaf': 93}. Best is trial 52 with value: 0.9131185631114179.\n"
     ]
    },
    {
     "name": "stderr",
     "output_type": "stream",
     "text": [
      "Best trial: 52. Best value: 0.913119:  31%|███       | 92/300 [4:58:04<4:13:37, 73.16s/it]"
     ]
    },
    {
     "name": "stdout",
     "output_type": "stream",
     "text": [
      "[I 2025-10-23 06:51:20,163] Trial 91 finished with value: 0.9128381827315225 and parameters: {'boosting_type': 'gbdt', 'learning_rate': 0.013066860459951292, 'num_leaves': 239, 'max_depth': 5, 'feature_fraction': 0.6398075865540372, 'bagging_fraction': 0.792238721326855, 'bagging_freq': 3, 'lambda_l1': 0.21878028542008163, 'lambda_l2': 2.757579183178894, 'min_gain_to_split': 0.008265960461394734, 'min_data_in_leaf': 84}. Best is trial 52 with value: 0.9131185631114179.\n"
     ]
    },
    {
     "name": "stderr",
     "output_type": "stream",
     "text": [
      "Best trial: 92. Best value: 0.913146:  31%|███       | 93/300 [4:59:04<3:59:12, 69.34s/it]"
     ]
    },
    {
     "name": "stdout",
     "output_type": "stream",
     "text": [
      "[I 2025-10-23 06:52:20,553] Trial 92 finished with value: 0.9131458855121426 and parameters: {'boosting_type': 'gbdt', 'learning_rate': 0.01306977880494184, 'num_leaves': 255, 'max_depth': 5, 'feature_fraction': 0.6576541117853819, 'bagging_fraction': 0.7953256841011886, 'bagging_freq': 3, 'lambda_l1': 0.22816672606898208, 'lambda_l2': 2.7547339370702137, 'min_gain_to_split': 0.009004815216414035, 'min_data_in_leaf': 86}. Best is trial 92 with value: 0.9131458855121426.\n"
     ]
    },
    {
     "name": "stderr",
     "output_type": "stream",
     "text": [
      "Best trial: 92. Best value: 0.913146:  31%|███▏      | 94/300 [5:00:21<4:05:32, 71.52s/it]"
     ]
    },
    {
     "name": "stdout",
     "output_type": "stream",
     "text": [
      "[I 2025-10-23 06:53:37,202] Trial 93 finished with value: 0.911888462914416 and parameters: {'boosting_type': 'gbdt', 'learning_rate': 0.013248761043532732, 'num_leaves': 255, 'max_depth': 5, 'feature_fraction': 0.6398716397988439, 'bagging_fraction': 0.7885831091217465, 'bagging_freq': 3, 'lambda_l1': 0.056444355301057486, 'lambda_l2': 2.7385436350201937, 'min_gain_to_split': 0.007909609667599415, 'min_data_in_leaf': 102}. Best is trial 92 with value: 0.9131458855121426.\n"
     ]
    },
    {
     "name": "stderr",
     "output_type": "stream",
     "text": [
      "Best trial: 92. Best value: 0.913146:  32%|███▏      | 95/300 [5:01:23<3:54:32, 68.65s/it]"
     ]
    },
    {
     "name": "stdout",
     "output_type": "stream",
     "text": [
      "[I 2025-10-23 06:54:39,150] Trial 94 finished with value: 0.9104437027488359 and parameters: {'boosting_type': 'gbdt', 'learning_rate': 0.014525210659593658, 'num_leaves': 239, 'max_depth': 5, 'feature_fraction': 0.6513251853095989, 'bagging_fraction': 0.8079027131553081, 'bagging_freq': 2, 'lambda_l1': 0.11148982299690244, 'lambda_l2': 3.2152204280096477, 'min_gain_to_split': 0.003528920314490252, 'min_data_in_leaf': 87}. Best is trial 92 with value: 0.9131458855121426.\n"
     ]
    },
    {
     "name": "stderr",
     "output_type": "stream",
     "text": [
      "Best trial: 92. Best value: 0.913146:  32%|███▏      | 96/300 [5:02:29<3:51:25, 68.06s/it]"
     ]
    },
    {
     "name": "stdout",
     "output_type": "stream",
     "text": [
      "[I 2025-10-23 06:55:45,856] Trial 95 finished with value: 0.9119517228246437 and parameters: {'boosting_type': 'gbdt', 'learning_rate': 0.01200888605852868, 'num_leaves': 255, 'max_depth': 5, 'feature_fraction': 0.63557700008408, 'bagging_fraction': 0.7977479631941558, 'bagging_freq': 3, 'lambda_l1': 0.27127922462712795, 'lambda_l2': 2.8064719619064045, 'min_gain_to_split': 0.008335195141470002, 'min_data_in_leaf': 83}. Best is trial 92 with value: 0.9131458855121426.\n"
     ]
    },
    {
     "name": "stderr",
     "output_type": "stream",
     "text": [
      "Best trial: 92. Best value: 0.913146:  32%|███▏      | 97/300 [5:12:52<13:12:41, 234.29s/it]"
     ]
    },
    {
     "name": "stdout",
     "output_type": "stream",
     "text": [
      "[I 2025-10-23 07:06:07,989] Trial 96 finished with value: 0.9107875065581094 and parameters: {'boosting_type': 'dart', 'learning_rate': 0.011017696387830086, 'num_leaves': 239, 'max_depth': 4, 'feature_fraction': 0.6636368824706511, 'bagging_fraction': 0.7699854725331521, 'bagging_freq': 3, 'lambda_l1': 0.21972216708824752, 'lambda_l2': 3.131556203069498, 'min_gain_to_split': 0.012840955132761048, 'min_data_in_leaf': 100}. Best is trial 92 with value: 0.9131458855121426.\n"
     ]
    },
    {
     "name": "stderr",
     "output_type": "stream",
     "text": [
      "Best trial: 92. Best value: 0.913146:  33%|███▎      | 98/300 [5:14:07<10:28:00, 186.54s/it]"
     ]
    },
    {
     "name": "stdout",
     "output_type": "stream",
     "text": [
      "[I 2025-10-23 07:07:23,132] Trial 97 finished with value: 0.9110389036769049 and parameters: {'boosting_type': 'gbdt', 'learning_rate': 0.013224096959121167, 'num_leaves': 255, 'max_depth': 3, 'feature_fraction': 0.6122329714400401, 'bagging_fraction': 0.7369428068906136, 'bagging_freq': 3, 'lambda_l1': 0.31308011085181, 'lambda_l2': 2.9292459600090615, 'min_gain_to_split': 0.01639332664171276, 'min_data_in_leaf': 93}. Best is trial 92 with value: 0.9131458855121426.\n"
     ]
    },
    {
     "name": "stderr",
     "output_type": "stream",
     "text": [
      "Best trial: 92. Best value: 0.913146:  33%|███▎      | 99/300 [5:16:01<9:12:01, 164.79s/it] "
     ]
    },
    {
     "name": "stdout",
     "output_type": "stream",
     "text": [
      "[I 2025-10-23 07:09:17,149] Trial 98 finished with value: 0.9128045691460882 and parameters: {'boosting_type': 'gbdt', 'learning_rate': 0.01243243055774854, 'num_leaves': 223, 'max_depth': 6, 'feature_fraction': 0.6934182355819919, 'bagging_fraction': 0.7949757093307025, 'bagging_freq': 3, 'lambda_l1': 0.1520379535910802, 'lambda_l2': 3.6123541944899453, 'min_gain_to_split': 0.005558378076612523, 'min_data_in_leaf': 81}. Best is trial 92 with value: 0.9131458855121426.\n"
     ]
    },
    {
     "name": "stderr",
     "output_type": "stream",
     "text": [
      "Best trial: 92. Best value: 0.913146:  33%|███▎      | 100/300 [5:18:06<8:29:39, 152.90s/it]"
     ]
    },
    {
     "name": "stdout",
     "output_type": "stream",
     "text": [
      "[I 2025-10-23 07:11:22,311] Trial 99 finished with value: 0.9116657518426158 and parameters: {'boosting_type': 'gbdt', 'learning_rate': 0.011530548062611543, 'num_leaves': 239, 'max_depth': 6, 'feature_fraction': 0.6977922979387289, 'bagging_fraction': 0.793672990733824, 'bagging_freq': 3, 'lambda_l1': 0.14899323650366528, 'lambda_l2': 3.6487237324062978, 'min_gain_to_split': 0.005467047715794928, 'min_data_in_leaf': 88}. Best is trial 92 with value: 0.9131458855121426.\n"
     ]
    },
    {
     "name": "stderr",
     "output_type": "stream",
     "text": [
      "Best trial: 92. Best value: 0.913146:  34%|███▎      | 101/300 [5:19:12<7:00:48, 126.88s/it]"
     ]
    },
    {
     "name": "stdout",
     "output_type": "stream",
     "text": [
      "[I 2025-10-23 07:12:28,462] Trial 100 finished with value: 0.9122599855088606 and parameters: {'boosting_type': 'gbdt', 'learning_rate': 0.01614677371456456, 'num_leaves': 223, 'max_depth': 5, 'feature_fraction': 0.6597806867536519, 'bagging_fraction': 0.7568215467525125, 'bagging_freq': 2, 'lambda_l1': 0.2163884720493083, 'lambda_l2': 3.442157510386574, 'min_gain_to_split': 0.010283141366910678, 'min_data_in_leaf': 79}. Best is trial 92 with value: 0.9131458855121426.\n"
     ]
    },
    {
     "name": "stderr",
     "output_type": "stream",
     "text": [
      "Best trial: 92. Best value: 0.913146:  34%|███▍      | 102/300 [5:20:56<6:35:57, 119.99s/it]"
     ]
    },
    {
     "name": "stdout",
     "output_type": "stream",
     "text": [
      "[I 2025-10-23 07:14:12,379] Trial 101 finished with value: 0.9121377731322631 and parameters: {'boosting_type': 'gbdt', 'learning_rate': 0.012540333188246338, 'num_leaves': 239, 'max_depth': 6, 'feature_fraction': 0.6442614487074018, 'bagging_fraction': 0.8235093843619813, 'bagging_freq': 3, 'lambda_l1': 1.6637585856459793, 'lambda_l2': 2.5881551050870004, 'min_gain_to_split': 0.0074005733701255905, 'min_data_in_leaf': 95}. Best is trial 92 with value: 0.9131458855121426.\n"
     ]
    },
    {
     "name": "stderr",
     "output_type": "stream",
     "text": [
      "Best trial: 92. Best value: 0.913146:  34%|███▍      | 103/300 [5:22:06<5:44:17, 104.86s/it]"
     ]
    },
    {
     "name": "stdout",
     "output_type": "stream",
     "text": [
      "[I 2025-10-23 07:15:21,950] Trial 102 finished with value: 0.9114060753776554 and parameters: {'boosting_type': 'gbdt', 'learning_rate': 0.01411244457582774, 'num_leaves': 239, 'max_depth': 4, 'feature_fraction': 0.6226050208803068, 'bagging_fraction': 0.8408010531455389, 'bagging_freq': 3, 'lambda_l1': 0.09833085753218754, 'lambda_l2': 3.152090388109487, 'min_gain_to_split': 0.0004362194597455713, 'min_data_in_leaf': 73}. Best is trial 92 with value: 0.9131458855121426.\n"
     ]
    },
    {
     "name": "stderr",
     "output_type": "stream",
     "text": [
      "Best trial: 92. Best value: 0.913146:  35%|███▍      | 104/300 [5:23:34<5:26:20, 99.90s/it] "
     ]
    },
    {
     "name": "stdout",
     "output_type": "stream",
     "text": [
      "[I 2025-10-23 07:16:50,275] Trial 103 finished with value: 0.9128725814925676 and parameters: {'boosting_type': 'gbdt', 'learning_rate': 0.015059142837629273, 'num_leaves': 207, 'max_depth': 6, 'feature_fraction': 0.6292535143821499, 'bagging_fraction': 0.7819195470392096, 'bagging_freq': 3, 'lambda_l1': 0.057878727473780756, 'lambda_l2': 2.3413227914399686, 'min_gain_to_split': 0.003755150609571369, 'min_data_in_leaf': 105}. Best is trial 92 with value: 0.9131458855121426.\n"
     ]
    },
    {
     "name": "stderr",
     "output_type": "stream",
     "text": [
      "Best trial: 92. Best value: 0.913146:  35%|███▌      | 105/300 [5:25:05<5:16:20, 97.33s/it]"
     ]
    },
    {
     "name": "stdout",
     "output_type": "stream",
     "text": [
      "[I 2025-10-23 07:18:21,628] Trial 104 finished with value: 0.912590498589534 and parameters: {'boosting_type': 'gbdt', 'learning_rate': 0.014879031302808144, 'num_leaves': 223, 'max_depth': 6, 'feature_fraction': 0.6267947088576359, 'bagging_fraction': 0.7782267101701547, 'bagging_freq': 3, 'lambda_l1': 0.15810461690186756, 'lambda_l2': 3.368783055189894, 'min_gain_to_split': 0.004034560305927488, 'min_data_in_leaf': 104}. Best is trial 92 with value: 0.9131458855121426.\n"
     ]
    },
    {
     "name": "stderr",
     "output_type": "stream",
     "text": [
      "Best trial: 92. Best value: 0.913146:  35%|███▌      | 106/300 [5:26:15<4:48:20, 89.18s/it]"
     ]
    },
    {
     "name": "stdout",
     "output_type": "stream",
     "text": [
      "[I 2025-10-23 07:19:31,740] Trial 105 finished with value: 0.9125587637879016 and parameters: {'boosting_type': 'gbdt', 'learning_rate': 0.012257704354218895, 'num_leaves': 207, 'max_depth': 5, 'feature_fraction': 0.6062409238781573, 'bagging_fraction': 0.8000946743586634, 'bagging_freq': 4, 'lambda_l1': 0.04771829809846992, 'lambda_l2': 2.7205258678630138, 'min_gain_to_split': 0.002948649432439247, 'min_data_in_leaf': 119}. Best is trial 92 with value: 0.9131458855121426.\n"
     ]
    },
    {
     "name": "stderr",
     "output_type": "stream",
     "text": [
      "Best trial: 106. Best value: 0.913396:  36%|███▌      | 107/300 [5:27:39<4:42:00, 87.67s/it]"
     ]
    },
    {
     "name": "stdout",
     "output_type": "stream",
     "text": [
      "[I 2025-10-23 07:20:55,919] Trial 106 finished with value: 0.9133962462995409 and parameters: {'boosting_type': 'gbdt', 'learning_rate': 0.012907375574987431, 'num_leaves': 255, 'max_depth': 6, 'feature_fraction': 0.675613879278387, 'bagging_fraction': 0.7725465803608962, 'bagging_freq': 3, 'lambda_l1': 0.2740111195536285, 'lambda_l2': 3.590526740852559, 'min_gain_to_split': 0.013367379844969773, 'min_data_in_leaf': 86}. Best is trial 106 with value: 0.9133962462995409.\n"
     ]
    },
    {
     "name": "stderr",
     "output_type": "stream",
     "text": [
      "Best trial: 106. Best value: 0.913396:  36%|███▌      | 108/300 [5:28:47<4:21:26, 81.70s/it]"
     ]
    },
    {
     "name": "stdout",
     "output_type": "stream",
     "text": [
      "[I 2025-10-23 07:22:03,687] Trial 107 finished with value: 0.912062597204237 and parameters: {'boosting_type': 'gbdt', 'learning_rate': 0.015440783203979023, 'num_leaves': 255, 'max_depth': 5, 'feature_fraction': 0.691403358489618, 'bagging_fraction': 0.7550217872797622, 'bagging_freq': 2, 'lambda_l1': 0.2695947821867267, 'lambda_l2': 3.578634637103554, 'min_gain_to_split': 0.012571462192323279, 'min_data_in_leaf': 80}. Best is trial 106 with value: 0.9133962462995409.\n"
     ]
    },
    {
     "name": "stderr",
     "output_type": "stream",
     "text": [
      "Best trial: 106. Best value: 0.913396:  36%|███▋      | 109/300 [5:30:43<4:52:54, 92.01s/it]"
     ]
    },
    {
     "name": "stdout",
     "output_type": "stream",
     "text": [
      "[I 2025-10-23 07:23:59,768] Trial 108 finished with value: 0.911265709500509 and parameters: {'boosting_type': 'gbdt', 'learning_rate': 0.010862701583397902, 'num_leaves': 239, 'max_depth': 6, 'feature_fraction': 0.6763627719417207, 'bagging_fraction': 0.7678738100474791, 'bagging_freq': 3, 'lambda_l1': 0.37853075340474907, 'lambda_l2': 3.001337062121985, 'min_gain_to_split': 0.014532082271423793, 'min_data_in_leaf': 90}. Best is trial 106 with value: 0.9133962462995409.\n"
     ]
    },
    {
     "name": "stderr",
     "output_type": "stream",
     "text": [
      "Best trial: 106. Best value: 0.913396:  37%|███▋      | 110/300 [5:35:58<8:23:03, 158.86s/it]"
     ]
    },
    {
     "name": "stdout",
     "output_type": "stream",
     "text": [
      "[I 2025-10-23 07:29:14,588] Trial 109 finished with value: 0.9098957637249305 and parameters: {'boosting_type': 'gbdt', 'learning_rate': 0.018266281063746236, 'num_leaves': 223, 'max_depth': 4, 'feature_fraction': 0.7114502529032432, 'bagging_fraction': 0.7349735644002635, 'bagging_freq': 3, 'lambda_l1': 0.00020463508109386241, 'lambda_l2': 3.298850697305996, 'min_gain_to_split': 0.010340898937023241, 'min_data_in_leaf': 114}. Best is trial 106 with value: 0.9133962462995409.\n"
     ]
    },
    {
     "name": "stderr",
     "output_type": "stream",
     "text": [
      "Best trial: 106. Best value: 0.913396:  37%|███▋      | 111/300 [6:13:45<41:32:26, 791.25s/it]"
     ]
    },
    {
     "name": "stdout",
     "output_type": "stream",
     "text": [
      "[I 2025-10-23 08:07:01,418] Trial 110 finished with value: 0.9129243520953998 and parameters: {'boosting_type': 'gbdt', 'learning_rate': 0.016368757027094727, 'num_leaves': 255, 'max_depth': 7, 'feature_fraction': 0.6679025775990465, 'bagging_fraction': 0.7854173093505719, 'bagging_freq': 4, 'lambda_l1': 0.21164706858592316, 'lambda_l2': 3.7672376656328286, 'min_gain_to_split': 0.005870997925827126, 'min_data_in_leaf': 84}. Best is trial 106 with value: 0.9133962462995409.\n"
     ]
    },
    {
     "name": "stderr",
     "output_type": "stream",
     "text": [
      "Best trial: 106. Best value: 0.913396:  37%|███▋      | 112/300 [6:16:04<31:06:16, 595.62s/it]"
     ]
    },
    {
     "name": "stdout",
     "output_type": "stream",
     "text": [
      "[I 2025-10-23 08:09:20,588] Trial 111 finished with value: 0.9129517881539652 and parameters: {'boosting_type': 'gbdt', 'learning_rate': 0.01355927934764979, 'num_leaves': 255, 'max_depth': 7, 'feature_fraction': 0.7260041563839911, 'bagging_fraction': 0.786747357224864, 'bagging_freq': 4, 'lambda_l1': 0.2220385623435957, 'lambda_l2': 3.9903484060397107, 'min_gain_to_split': 0.006576400599871177, 'min_data_in_leaf': 75}. Best is trial 106 with value: 0.9133962462995409.\n"
     ]
    },
    {
     "name": "stderr",
     "output_type": "stream",
     "text": [
      "Best trial: 106. Best value: 0.913396:  38%|███▊      | 113/300 [6:18:50<24:14:48, 466.79s/it]"
     ]
    },
    {
     "name": "stdout",
     "output_type": "stream",
     "text": [
      "[I 2025-10-23 08:12:06,747] Trial 112 finished with value: 0.9130898496013182 and parameters: {'boosting_type': 'gbdt', 'learning_rate': 0.012716485605201923, 'num_leaves': 255, 'max_depth': 7, 'feature_fraction': 0.7267571313274747, 'bagging_fraction': 0.7834777519256264, 'bagging_freq': 4, 'lambda_l1': 0.22169095213346823, 'lambda_l2': 3.984376382644432, 'min_gain_to_split': 0.0066005146606469495, 'min_data_in_leaf': 86}. Best is trial 106 with value: 0.9133962462995409.\n"
     ]
    },
    {
     "name": "stderr",
     "output_type": "stream",
     "text": [
      "Best trial: 106. Best value: 0.913396:  38%|███▊      | 114/300 [6:20:24<18:19:37, 354.72s/it]"
     ]
    },
    {
     "name": "stdout",
     "output_type": "stream",
     "text": [
      "[I 2025-10-23 08:13:39,996] Trial 113 finished with value: 0.9114536194482428 and parameters: {'boosting_type': 'gbdt', 'learning_rate': 0.017201297831917955, 'num_leaves': 255, 'max_depth': 7, 'feature_fraction': 0.6811917788081673, 'bagging_fraction': 0.7844945500501755, 'bagging_freq': 4, 'lambda_l1': 0.299335162155842, 'lambda_l2': 3.731085172370464, 'min_gain_to_split': 0.007572062905466257, 'min_data_in_leaf': 99}. Best is trial 106 with value: 0.9133962462995409.\n"
     ]
    },
    {
     "name": "stderr",
     "output_type": "stream",
     "text": [
      "Best trial: 106. Best value: 0.913396:  38%|███▊      | 115/300 [6:22:22<14:35:30, 283.95s/it]"
     ]
    },
    {
     "name": "stdout",
     "output_type": "stream",
     "text": [
      "[I 2025-10-23 08:15:38,802] Trial 114 finished with value: 0.9116991832011887 and parameters: {'boosting_type': 'gbdt', 'learning_rate': 0.015909117283549403, 'num_leaves': 255, 'max_depth': 7, 'feature_fraction': 0.7310782875755379, 'bagging_fraction': 0.8049374876322555, 'bagging_freq': 4, 'lambda_l1': 0.21907071378817938, 'lambda_l2': 4.0027139448500675, 'min_gain_to_split': 0.011091669927068759, 'min_data_in_leaf': 85}. Best is trial 106 with value: 0.9133962462995409.\n"
     ]
    },
    {
     "name": "stderr",
     "output_type": "stream",
     "text": [
      "Best trial: 106. Best value: 0.913396:  39%|███▊      | 116/300 [6:24:50<12:25:12, 243.01s/it]"
     ]
    },
    {
     "name": "stdout",
     "output_type": "stream",
     "text": [
      "[I 2025-10-23 08:18:06,267] Trial 115 finished with value: 0.9103654758510966 and parameters: {'boosting_type': 'gbdt', 'learning_rate': 0.013702940878833069, 'num_leaves': 255, 'max_depth': 7, 'feature_fraction': 0.7642550344466486, 'bagging_fraction': 0.7513583585143929, 'bagging_freq': 4, 'lambda_l1': 0.352843616059343, 'lambda_l2': 3.7579076700114555, 'min_gain_to_split': 0.009150886001181776, 'min_data_in_leaf': 86}. Best is trial 106 with value: 0.9133962462995409.\n"
     ]
    },
    {
     "name": "stderr",
     "output_type": "stream",
     "text": [
      "Best trial: 106. Best value: 0.913396:  39%|███▉      | 117/300 [6:52:08<33:37:32, 661.49s/it]"
     ]
    },
    {
     "name": "stdout",
     "output_type": "stream",
     "text": [
      "[I 2025-10-23 08:45:24,230] Trial 116 finished with value: 0.9071983492930229 and parameters: {'boosting_type': 'dart', 'learning_rate': 0.01639707207155234, 'num_leaves': 239, 'max_depth': 7, 'feature_fraction': 0.6661297977639932, 'bagging_fraction': 0.763646728486096, 'bagging_freq': 4, 'lambda_l1': 0.2595437541640441, 'lambda_l2': 2.182719121986054, 'min_gain_to_split': 7.516851696972443e-05, 'min_data_in_leaf': 90}. Best is trial 106 with value: 0.9133962462995409.\n"
     ]
    },
    {
     "name": "stderr",
     "output_type": "stream",
     "text": [
      "Best trial: 106. Best value: 0.913396:  39%|███▉      | 118/300 [6:53:59<25:05:35, 496.35s/it]"
     ]
    },
    {
     "name": "stdout",
     "output_type": "stream",
     "text": [
      "[I 2025-10-23 08:47:15,236] Trial 117 finished with value: 0.9116952752806001 and parameters: {'boosting_type': 'gbdt', 'learning_rate': 0.012959927812557092, 'num_leaves': 255, 'max_depth': 7, 'feature_fraction': 0.7016766766989817, 'bagging_fraction': 0.7805838719255943, 'bagging_freq': 4, 'lambda_l1': 0.18930073565469394, 'lambda_l2': 4.134961348359507, 'min_gain_to_split': 0.006703809778837219, 'min_data_in_leaf': 106}. Best is trial 106 with value: 0.9133962462995409.\n"
     ]
    },
    {
     "name": "stderr",
     "output_type": "stream",
     "text": [
      "Best trial: 106. Best value: 0.913396:  40%|███▉      | 119/300 [6:55:48<19:07:03, 380.24s/it]"
     ]
    },
    {
     "name": "stdout",
     "output_type": "stream",
     "text": [
      "[I 2025-10-23 08:49:04,579] Trial 118 finished with value: 0.9111519539069551 and parameters: {'boosting_type': 'gbdt', 'learning_rate': 0.014778145609073612, 'num_leaves': 255, 'max_depth': 8, 'feature_fraction': 0.6568801598832047, 'bagging_fraction': 0.7125734167675748, 'bagging_freq': 4, 'lambda_l1': 0.3319422779481916, 'lambda_l2': 3.9763707419383634, 'min_gain_to_split': 0.013747372245723758, 'min_data_in_leaf': 70}. Best is trial 106 with value: 0.9133962462995409.\n"
     ]
    },
    {
     "name": "stderr",
     "output_type": "stream",
     "text": [
      "Best trial: 106. Best value: 0.913396:  40%|████      | 120/300 [6:57:55<15:12:39, 304.22s/it]"
     ]
    },
    {
     "name": "stdout",
     "output_type": "stream",
     "text": [
      "[I 2025-10-23 08:51:11,402] Trial 119 finished with value: 0.9114107714578059 and parameters: {'boosting_type': 'gbdt', 'learning_rate': 0.015442488286253523, 'num_leaves': 239, 'max_depth': 7, 'feature_fraction': 0.6490656572041188, 'bagging_fraction': 0.8213012270882408, 'bagging_freq': 4, 'lambda_l1': 0.24906826372775037, 'lambda_l2': 4.225524330065575, 'min_gain_to_split': 0.0055686424059231375, 'min_data_in_leaf': 76}. Best is trial 106 with value: 0.9133962462995409.\n"
     ]
    },
    {
     "name": "stderr",
     "output_type": "stream",
     "text": [
      "Best trial: 106. Best value: 0.913396:  40%|████      | 121/300 [6:59:41<12:10:29, 244.86s/it]"
     ]
    },
    {
     "name": "stdout",
     "output_type": "stream",
     "text": [
      "[I 2025-10-23 08:52:57,764] Trial 120 finished with value: 0.9109885459356943 and parameters: {'boosting_type': 'gbdt', 'learning_rate': 0.010454974277697251, 'num_leaves': 255, 'max_depth': 5, 'feature_fraction': 0.7210994339639722, 'bagging_fraction': 0.7438657347556505, 'bagging_freq': 3, 'lambda_l1': 1.8907037860295275, 'lambda_l2': 3.4766510126563226, 'min_gain_to_split': 0.0161452609723973, 'min_data_in_leaf': 98}. Best is trial 106 with value: 0.9133962462995409.\n"
     ]
    },
    {
     "name": "stderr",
     "output_type": "stream",
     "text": [
      "Best trial: 106. Best value: 0.913396:  41%|████      | 122/300 [7:01:30<10:04:55, 203.91s/it]"
     ]
    },
    {
     "name": "stdout",
     "output_type": "stream",
     "text": [
      "[I 2025-10-23 08:54:46,123] Trial 121 finished with value: 0.9122626429809035 and parameters: {'boosting_type': 'gbdt', 'learning_rate': 0.01267431765836262, 'num_leaves': 239, 'max_depth': 6, 'feature_fraction': 0.7423604152992915, 'bagging_fraction': 0.7927488245812331, 'bagging_freq': 3, 'lambda_l1': 0.21296033465218212, 'lambda_l2': 3.577152627214944, 'min_gain_to_split': 0.005197224730672282, 'min_data_in_leaf': 81}. Best is trial 106 with value: 0.9133962462995409.\n"
     ]
    },
    {
     "name": "stderr",
     "output_type": "stream",
     "text": [
      "Best trial: 106. Best value: 0.913396:  41%|████      | 123/300 [7:03:21<8:39:13, 176.01s/it] "
     ]
    },
    {
     "name": "stdout",
     "output_type": "stream",
     "text": [
      "[I 2025-10-23 08:56:37,003] Trial 122 finished with value: 0.9132114318939442 and parameters: {'boosting_type': 'gbdt', 'learning_rate': 0.013564908446074372, 'num_leaves': 223, 'max_depth': 6, 'feature_fraction': 0.6904275731585436, 'bagging_fraction': 0.805562048781687, 'bagging_freq': 3, 'lambda_l1': 0.1144739498794784, 'lambda_l2': 3.829676287751514, 'min_gain_to_split': 0.0022205913023741683, 'min_data_in_leaf': 85}. Best is trial 106 with value: 0.9133962462995409.\n"
     ]
    },
    {
     "name": "stderr",
     "output_type": "stream",
     "text": [
      "Best trial: 106. Best value: 0.913396:  41%|████▏     | 124/300 [7:04:57<7:25:56, 152.03s/it]"
     ]
    },
    {
     "name": "stdout",
     "output_type": "stream",
     "text": [
      "[I 2025-10-23 08:58:13,071] Trial 123 finished with value: 0.9121341152182234 and parameters: {'boosting_type': 'gbdt', 'learning_rate': 0.014191259900482235, 'num_leaves': 239, 'max_depth': 6, 'feature_fraction': 0.7384942839315048, 'bagging_fraction': 0.8057258307335611, 'bagging_freq': 4, 'lambda_l1': 0.11460195322142036, 'lambda_l2': 3.9710092626948024, 'min_gain_to_split': 0.002243091721381231, 'min_data_in_leaf': 85}. Best is trial 106 with value: 0.9133962462995409.\n"
     ]
    },
    {
     "name": "stderr",
     "output_type": "stream",
     "text": [
      "Best trial: 106. Best value: 0.913396:  42%|████▏     | 125/300 [7:06:44<6:44:05, 138.54s/it]"
     ]
    },
    {
     "name": "stdout",
     "output_type": "stream",
     "text": [
      "[I 2025-10-23 09:00:00,176] Trial 124 finished with value: 0.9117069224309338 and parameters: {'boosting_type': 'gbdt', 'learning_rate': 0.013526564016381635, 'num_leaves': 255, 'max_depth': 7, 'feature_fraction': 0.7040898564201395, 'bagging_fraction': 0.7736411160774492, 'bagging_freq': 3, 'lambda_l1': 0.29692322063181364, 'lambda_l2': 4.376588603537437, 'min_gain_to_split': 0.007652266475851584, 'min_data_in_leaf': 90}. Best is trial 106 with value: 0.9133962462995409.\n"
     ]
    },
    {
     "name": "stderr",
     "output_type": "stream",
     "text": [
      "Best trial: 106. Best value: 0.913396:  42%|████▏     | 126/300 [7:08:26<6:10:29, 127.76s/it]"
     ]
    },
    {
     "name": "stdout",
     "output_type": "stream",
     "text": [
      "[I 2025-10-23 09:01:42,760] Trial 125 finished with value: 0.9122176687789884 and parameters: {'boosting_type': 'gbdt', 'learning_rate': 0.011747827150808167, 'num_leaves': 223, 'max_depth': 5, 'feature_fraction': 0.6731678798238636, 'bagging_fraction': 0.8122109128763039, 'bagging_freq': 3, 'lambda_l1': 0.4390143570452489, 'lambda_l2': 3.820308351577182, 'min_gain_to_split': 0.010597771974593892, 'min_data_in_leaf': 111}. Best is trial 106 with value: 0.9133962462995409.\n"
     ]
    },
    {
     "name": "stderr",
     "output_type": "stream",
     "text": [
      "Best trial: 106. Best value: 0.913396:  42%|████▏     | 127/300 [7:09:42<5:23:35, 112.23s/it]"
     ]
    },
    {
     "name": "stdout",
     "output_type": "stream",
     "text": [
      "[I 2025-10-23 09:02:58,746] Trial 126 finished with value: 0.9103683571386956 and parameters: {'boosting_type': 'gbdt', 'learning_rate': 0.031000437115445135, 'num_leaves': 207, 'max_depth': 6, 'feature_fraction': 0.7194740474705592, 'bagging_fraction': 0.7872582414235445, 'bagging_freq': 3, 'lambda_l1': 0.19170540342118714, 'lambda_l2': 2.3528826995720857, 'min_gain_to_split': 0.001770130893161255, 'min_data_in_leaf': 94}. Best is trial 106 with value: 0.9133962462995409.\n"
     ]
    },
    {
     "name": "stderr",
     "output_type": "stream",
     "text": [
      "Best trial: 106. Best value: 0.913396:  43%|████▎     | 128/300 [7:11:05<4:56:17, 103.36s/it]"
     ]
    },
    {
     "name": "stdout",
     "output_type": "stream",
     "text": [
      "[I 2025-10-23 09:04:21,435] Trial 127 finished with value: 0.9116956095811553 and parameters: {'boosting_type': 'gbdt', 'learning_rate': 0.018245066463665166, 'num_leaves': 191, 'max_depth': 7, 'feature_fraction': 0.6438713807360903, 'bagging_fraction': 0.8294962589230367, 'bagging_freq': 4, 'lambda_l1': 0.3752847375714134, 'lambda_l2': 3.947630641889321, 'min_gain_to_split': 0.0088209748915604, 'min_data_in_leaf': 84}. Best is trial 106 with value: 0.9133962462995409.\n"
     ]
    },
    {
     "name": "stderr",
     "output_type": "stream",
     "text": [
      "Best trial: 106. Best value: 0.913396:  43%|████▎     | 129/300 [7:12:40<4:47:26, 100.85s/it]"
     ]
    },
    {
     "name": "stdout",
     "output_type": "stream",
     "text": [
      "[I 2025-10-23 09:05:56,432] Trial 128 finished with value: 0.9123781412753905 and parameters: {'boosting_type': 'gbdt', 'learning_rate': 0.014635641598399895, 'num_leaves': 239, 'max_depth': 5, 'feature_fraction': 0.6861870339772378, 'bagging_fraction': 0.7591544778843804, 'bagging_freq': 4, 'lambda_l1': 0.2860082995320976, 'lambda_l2': 4.089248480365057, 'min_gain_to_split': 0.003994016610134532, 'min_data_in_leaf': 78}. Best is trial 106 with value: 0.9133962462995409.\n"
     ]
    },
    {
     "name": "stderr",
     "output_type": "stream",
     "text": [
      "Best trial: 106. Best value: 0.913396:  43%|████▎     | 130/300 [7:13:36<4:07:38, 87.40s/it] "
     ]
    },
    {
     "name": "stdout",
     "output_type": "stream",
     "text": [
      "[I 2025-10-23 09:06:52,440] Trial 129 finished with value: 0.9106483059909528 and parameters: {'boosting_type': 'gbdt', 'learning_rate': 0.039337518628535004, 'num_leaves': 255, 'max_depth': 8, 'feature_fraction': 0.6359714009578914, 'bagging_fraction': 0.7672403703688367, 'bagging_freq': 3, 'lambda_l1': 0.1035497163074233, 'lambda_l2': 2.621750776963411, 'min_gain_to_split': 0.011809944215905734, 'min_data_in_leaf': 103}. Best is trial 106 with value: 0.9133962462995409.\n"
     ]
    },
    {
     "name": "stderr",
     "output_type": "stream",
     "text": [
      "Best trial: 106. Best value: 0.913396:  44%|████▎     | 131/300 [7:15:10<4:11:29, 89.29s/it]"
     ]
    },
    {
     "name": "stdout",
     "output_type": "stream",
     "text": [
      "[I 2025-10-23 09:08:26,141] Trial 130 finished with value: 0.9133756059994425 and parameters: {'boosting_type': 'gbdt', 'learning_rate': 0.01300635503215202, 'num_leaves': 255, 'max_depth': 6, 'feature_fraction': 0.6714834100802488, 'bagging_fraction': 0.8041701430487964, 'bagging_freq': 3, 'lambda_l1': 0.23613202872156813, 'lambda_l2': 3.737204448158829, 'min_gain_to_split': 0.06057030205194171, 'min_data_in_leaf': 88}. Best is trial 106 with value: 0.9133962462995409.\n"
     ]
    },
    {
     "name": "stderr",
     "output_type": "stream",
     "text": [
      "Best trial: 106. Best value: 0.913396:  44%|████▍     | 132/300 [7:17:09<4:35:20, 98.33s/it]"
     ]
    },
    {
     "name": "stdout",
     "output_type": "stream",
     "text": [
      "[I 2025-10-23 09:10:25,572] Trial 131 finished with value: 0.9130302740009486 and parameters: {'boosting_type': 'gbdt', 'learning_rate': 0.013220131554258684, 'num_leaves': 255, 'max_depth': 6, 'feature_fraction': 0.6697588429123245, 'bagging_fraction': 0.8054719589621929, 'bagging_freq': 3, 'lambda_l1': 0.22897920589131643, 'lambda_l2': 3.723583155791742, 'min_gain_to_split': 0.05390301231587917, 'min_data_in_leaf': 88}. Best is trial 106 with value: 0.9133962462995409.\n"
     ]
    },
    {
     "name": "stderr",
     "output_type": "stream",
     "text": [
      "Best trial: 106. Best value: 0.913396:  44%|████▍     | 133/300 [7:44:51<26:19:22, 567.44s/it]"
     ]
    },
    {
     "name": "stdout",
     "output_type": "stream",
     "text": [
      "[I 2025-10-23 09:38:07,612] Trial 132 finished with value: 0.9125462893075043 and parameters: {'boosting_type': 'gbdt', 'learning_rate': 0.013762045954392978, 'num_leaves': 255, 'max_depth': 6, 'feature_fraction': 0.6731113114665114, 'bagging_fraction': 0.8346308230311835, 'bagging_freq': 3, 'lambda_l1': 0.24990575244435553, 'lambda_l2': 4.159580602522737, 'min_gain_to_split': 0.05490629214131321, 'min_data_in_leaf': 89}. Best is trial 106 with value: 0.9133962462995409.\n"
     ]
    },
    {
     "name": "stderr",
     "output_type": "stream",
     "text": [
      "Best trial: 106. Best value: 0.913396:  45%|████▍     | 134/300 [7:46:37<19:46:55, 429.01s/it]"
     ]
    },
    {
     "name": "stdout",
     "output_type": "stream",
     "text": [
      "[I 2025-10-23 09:39:53,579] Trial 133 finished with value: 0.9117132567567274 and parameters: {'boosting_type': 'gbdt', 'learning_rate': 0.01210216830762211, 'num_leaves': 255, 'max_depth': 6, 'feature_fraction': 0.6661938857913677, 'bagging_fraction': 0.8042706486645921, 'bagging_freq': 3, 'lambda_l1': 0.3261776101689589, 'lambda_l2': 3.760505496215562, 'min_gain_to_split': 0.060392053825783096, 'min_data_in_leaf': 96}. Best is trial 106 with value: 0.9133962462995409.\n"
     ]
    },
    {
     "name": "stderr",
     "output_type": "stream",
     "text": [
      "Best trial: 106. Best value: 0.913396:  45%|████▌     | 135/300 [7:48:21<15:11:40, 331.52s/it]"
     ]
    },
    {
     "name": "stdout",
     "output_type": "stream",
     "text": [
      "[I 2025-10-23 09:41:37,629] Trial 134 finished with value: 0.912544688832999 and parameters: {'boosting_type': 'gbdt', 'learning_rate': 0.012955116097699547, 'num_leaves': 255, 'max_depth': 6, 'feature_fraction': 0.6846697623857186, 'bagging_fraction': 0.8164292935601569, 'bagging_freq': 3, 'lambda_l1': 0.17602651962414417, 'lambda_l2': 3.697928703727591, 'min_gain_to_split': 0.06213737801537147, 'min_data_in_leaf': 100}. Best is trial 106 with value: 0.9133962462995409.\n"
     ]
    },
    {
     "name": "stderr",
     "output_type": "stream",
     "text": [
      "Best trial: 106. Best value: 0.913396:  45%|████▌     | 136/300 [7:50:08<12:02:04, 264.18s/it]"
     ]
    },
    {
     "name": "stdout",
     "output_type": "stream",
     "text": [
      "[I 2025-10-23 09:43:24,674] Trial 135 finished with value: 0.9112609706956775 and parameters: {'boosting_type': 'gbdt', 'learning_rate': 0.015153041315594326, 'num_leaves': 255, 'max_depth': 7, 'feature_fraction': 0.6582567474407627, 'bagging_fraction': 0.8281583131872695, 'bagging_freq': 3, 'lambda_l1': 0.07524538722812607, 'lambda_l2': 3.8540377061906614, 'min_gain_to_split': 0.04964727414447748, 'min_data_in_leaf': 92}. Best is trial 106 with value: 0.9133962462995409.\n"
     ]
    },
    {
     "name": "stderr",
     "output_type": "stream",
     "text": [
      "Best trial: 106. Best value: 0.913396:  46%|████▌     | 137/300 [7:51:22<9:22:21, 207.00s/it] "
     ]
    },
    {
     "name": "stdout",
     "output_type": "stream",
     "text": [
      "[I 2025-10-23 09:44:38,297] Trial 136 finished with value: 0.9116027312590623 and parameters: {'boosting_type': 'gbdt', 'learning_rate': 0.01671971264235298, 'num_leaves': 239, 'max_depth': 6, 'feature_fraction': 0.7056634829234263, 'bagging_fraction': 0.7816770527782981, 'bagging_freq': 2, 'lambda_l1': 0.12085610172943119, 'lambda_l2': 3.559204478935885, 'min_gain_to_split': 0.058060529248349396, 'min_data_in_leaf': 73}. Best is trial 106 with value: 0.9133962462995409.\n"
     ]
    },
    {
     "name": "stderr",
     "output_type": "stream",
     "text": [
      "Best trial: 106. Best value: 0.913396:  46%|████▌     | 138/300 [8:10:14<21:48:03, 484.47s/it]"
     ]
    },
    {
     "name": "stdout",
     "output_type": "stream",
     "text": [
      "[I 2025-10-23 10:03:30,166] Trial 137 finished with value: 0.9069368405677559 and parameters: {'boosting_type': 'dart', 'learning_rate': 0.01112479571418643, 'num_leaves': 255, 'max_depth': 7, 'feature_fraction': 0.6795303627149418, 'bagging_fraction': 0.7300841170481231, 'bagging_freq': 4, 'lambda_l1': 0.3693946560052508, 'lambda_l2': 3.7962228680016588, 'min_gain_to_split': 0.059654242179325745, 'min_data_in_leaf': 87}. Best is trial 106 with value: 0.9133962462995409.\n"
     ]
    },
    {
     "name": "stderr",
     "output_type": "stream",
     "text": [
      "Best trial: 106. Best value: 0.913396:  46%|████▋     | 139/300 [8:11:53<16:29:32, 368.77s/it]"
     ]
    },
    {
     "name": "stdout",
     "output_type": "stream",
     "text": [
      "[I 2025-10-23 10:05:08,980] Trial 138 finished with value: 0.9109982792211265 and parameters: {'boosting_type': 'gbdt', 'learning_rate': 0.01445050714362489, 'num_leaves': 255, 'max_depth': 7, 'feature_fraction': 0.8621328269474156, 'bagging_fraction': 0.8001490221955802, 'bagging_freq': 2, 'lambda_l1': 0.28195581153174665, 'lambda_l2': 4.302069305598098, 'min_gain_to_split': 0.06622871877780291, 'min_data_in_leaf': 106}. Best is trial 106 with value: 0.9133962462995409.\n"
     ]
    },
    {
     "name": "stderr",
     "output_type": "stream",
     "text": [
      "Best trial: 106. Best value: 0.913396:  47%|████▋     | 140/300 [8:13:31<12:47:06, 287.66s/it]"
     ]
    },
    {
     "name": "stdout",
     "output_type": "stream",
     "text": [
      "[I 2025-10-23 10:06:47,398] Trial 139 finished with value: 0.9123468755087443 and parameters: {'boosting_type': 'gbdt', 'learning_rate': 0.013590747737476544, 'num_leaves': 239, 'max_depth': 6, 'feature_fraction': 0.6640979954592262, 'bagging_fraction': 0.7743925139207481, 'bagging_freq': 1, 'lambda_l1': 1.458583185201167, 'lambda_l2': 0.39651280141262113, 'min_gain_to_split': 0.05681052454998393, 'min_data_in_leaf': 79}. Best is trial 106 with value: 0.9133962462995409.\n"
     ]
    },
    {
     "name": "stderr",
     "output_type": "stream",
     "text": [
      "Best trial: 106. Best value: 0.913396:  47%|████▋     | 141/300 [8:14:29<9:39:32, 218.70s/it] "
     ]
    },
    {
     "name": "stdout",
     "output_type": "stream",
     "text": [
      "[I 2025-10-23 10:07:45,160] Trial 140 finished with value: 0.9111466328477463 and parameters: {'boosting_type': 'gbdt', 'learning_rate': 0.03547964355019054, 'num_leaves': 255, 'max_depth': 8, 'feature_fraction': 0.6329568048462041, 'bagging_fraction': 0.7877266324665865, 'bagging_freq': 4, 'lambda_l1': 0.22947856881337894, 'lambda_l2': 3.9063276140978154, 'min_gain_to_split': 0.06344384755631831, 'min_data_in_leaf': 92}. Best is trial 106 with value: 0.9133962462995409.\n"
     ]
    },
    {
     "name": "stderr",
     "output_type": "stream",
     "text": [
      "Best trial: 106. Best value: 0.913396:  47%|████▋     | 142/300 [8:15:50<7:47:06, 177.38s/it]"
     ]
    },
    {
     "name": "stdout",
     "output_type": "stream",
     "text": [
      "[I 2025-10-23 10:09:06,166] Trial 141 finished with value: 0.9126178395576984 and parameters: {'boosting_type': 'gbdt', 'learning_rate': 0.013060906132155034, 'num_leaves': 239, 'max_depth': 5, 'feature_fraction': 0.647297647507826, 'bagging_fraction': 0.794264383712659, 'bagging_freq': 3, 'lambda_l1': 0.19776886554919673, 'lambda_l2': 2.9476201432154094, 'min_gain_to_split': 0.05473160516582982, 'min_data_in_leaf': 83}. Best is trial 106 with value: 0.9133962462995409.\n"
     ]
    },
    {
     "name": "stderr",
     "output_type": "stream",
     "text": [
      "Best trial: 106. Best value: 0.913396:  48%|████▊     | 143/300 [8:17:04<6:23:33, 146.58s/it]"
     ]
    },
    {
     "name": "stdout",
     "output_type": "stream",
     "text": [
      "[I 2025-10-23 10:10:20,856] Trial 142 finished with value: 0.9123369256363824 and parameters: {'boosting_type': 'gbdt', 'learning_rate': 0.012267185328227277, 'num_leaves': 239, 'max_depth': 5, 'feature_fraction': 0.6399197043118315, 'bagging_fraction': 0.8142141933629853, 'bagging_freq': 3, 'lambda_l1': 0.14643227475287424, 'lambda_l2': 2.7507342757828352, 'min_gain_to_split': 0.005734687892602805, 'min_data_in_leaf': 86}. Best is trial 106 with value: 0.9133962462995409.\n"
     ]
    },
    {
     "name": "stderr",
     "output_type": "stream",
     "text": [
      "Best trial: 106. Best value: 0.913396:  48%|████▊     | 144/300 [8:19:23<6:15:13, 144.31s/it]"
     ]
    },
    {
     "name": "stdout",
     "output_type": "stream",
     "text": [
      "[I 2025-10-23 10:12:39,898] Trial 143 finished with value: 0.9115129946983682 and parameters: {'boosting_type': 'gbdt', 'learning_rate': 0.012719744551832692, 'num_leaves': 223, 'max_depth': 6, 'feature_fraction': 0.7544098174034002, 'bagging_fraction': 0.7480042606021973, 'bagging_freq': 3, 'lambda_l1': 0.23119499706937888, 'lambda_l2': 3.6710276546301257, 'min_gain_to_split': 0.051083449240981696, 'min_data_in_leaf': 77}. Best is trial 106 with value: 0.9133962462995409.\n"
     ]
    },
    {
     "name": "stderr",
     "output_type": "stream",
     "text": [
      "Best trial: 106. Best value: 0.913396:  48%|████▊     | 145/300 [8:21:15<5:47:38, 134.57s/it]"
     ]
    },
    {
     "name": "stdout",
     "output_type": "stream",
     "text": [
      "[I 2025-10-23 10:14:31,724] Trial 144 finished with value: 0.9124464727033353 and parameters: {'boosting_type': 'gbdt', 'learning_rate': 0.011659782347947347, 'num_leaves': 255, 'max_depth': 6, 'feature_fraction': 0.6531667938874086, 'bagging_fraction': 0.769417319110422, 'bagging_freq': 3, 'lambda_l1': 0.3219214904747828, 'lambda_l2': 3.483658678249246, 'min_gain_to_split': 0.04159631012717362, 'min_data_in_leaf': 97}. Best is trial 106 with value: 0.9133962462995409.\n"
     ]
    },
    {
     "name": "stderr",
     "output_type": "stream",
     "text": [
      "Best trial: 106. Best value: 0.913396:  49%|████▊     | 146/300 [8:22:25<4:55:09, 115.00s/it]"
     ]
    },
    {
     "name": "stdout",
     "output_type": "stream",
     "text": [
      "[I 2025-10-23 10:15:41,053] Trial 145 finished with value: 0.9132288047557899 and parameters: {'boosting_type': 'gbdt', 'learning_rate': 0.014069943290833354, 'num_leaves': 239, 'max_depth': 5, 'feature_fraction': 0.6906299013429585, 'bagging_fraction': 0.8062079676312282, 'bagging_freq': 3, 'lambda_l1': 0.17829332531112885, 'lambda_l2': 2.5523032696676724, 'min_gain_to_split': 0.002546246233771344, 'min_data_in_leaf': 81}. Best is trial 106 with value: 0.9133962462995409.\n"
     ]
    },
    {
     "name": "stderr",
     "output_type": "stream",
     "text": [
      "Best trial: 106. Best value: 0.913396:  49%|████▉     | 147/300 [8:23:44<4:25:55, 104.28s/it]"
     ]
    },
    {
     "name": "stdout",
     "output_type": "stream",
     "text": [
      "[I 2025-10-23 10:17:00,331] Trial 146 finished with value: 0.913385919851766 and parameters: {'boosting_type': 'gbdt', 'learning_rate': 0.01564600213909119, 'num_leaves': 255, 'max_depth': 6, 'feature_fraction': 0.6912231514431413, 'bagging_fraction': 0.8054596390022342, 'bagging_freq': 3, 'lambda_l1': 0.046529743926847625, 'lambda_l2': 3.359606047455589, 'min_gain_to_split': 0.0018528504976733622, 'min_data_in_leaf': 81}. Best is trial 106 with value: 0.9133962462995409.\n"
     ]
    },
    {
     "name": "stderr",
     "output_type": "stream",
     "text": [
      "Best trial: 106. Best value: 0.913396:  49%|████▉     | 148/300 [8:24:59<4:02:09, 95.59s/it] "
     ]
    },
    {
     "name": "stdout",
     "output_type": "stream",
     "text": [
      "[I 2025-10-23 10:18:15,625] Trial 147 finished with value: 0.9126424870421193 and parameters: {'boosting_type': 'gbdt', 'learning_rate': 0.014204572277924188, 'num_leaves': 255, 'max_depth': 5, 'feature_fraction': 0.6927113047979636, 'bagging_fraction': 0.8235708227366059, 'bagging_freq': 3, 'lambda_l1': 0.16589713542849935, 'lambda_l2': 3.353903751722299, 'min_gain_to_split': 0.0019996286663001707, 'min_data_in_leaf': 73}. Best is trial 106 with value: 0.9133962462995409.\n"
     ]
    },
    {
     "name": "stderr",
     "output_type": "stream",
     "text": [
      "Best trial: 106. Best value: 0.913396:  50%|████▉     | 149/300 [8:26:00<3:34:39, 85.29s/it]"
     ]
    },
    {
     "name": "stdout",
     "output_type": "stream",
     "text": [
      "[I 2025-10-23 10:19:16,917] Trial 148 finished with value: 0.9107481417736701 and parameters: {'boosting_type': 'gbdt', 'learning_rate': 0.013410679417740995, 'num_leaves': 255, 'max_depth': 4, 'feature_fraction': 0.7117236413132692, 'bagging_fraction': 0.8425056216736785, 'bagging_freq': 4, 'lambda_l1': 0.2822275122075293, 'lambda_l2': 3.2450089246634968, 'min_gain_to_split': 0.00048567222199466715, 'min_data_in_leaf': 80}. Best is trial 106 with value: 0.9133962462995409.\n"
     ]
    },
    {
     "name": "stderr",
     "output_type": "stream",
     "text": [
      "Best trial: 106. Best value: 0.913396:  50%|█████     | 150/300 [8:27:39<3:43:18, 89.32s/it]"
     ]
    },
    {
     "name": "stdout",
     "output_type": "stream",
     "text": [
      "[I 2025-10-23 10:20:55,645] Trial 149 finished with value: 0.9125890438768687 and parameters: {'boosting_type': 'gbdt', 'learning_rate': 0.013980407002268882, 'num_leaves': 255, 'max_depth': 7, 'feature_fraction': 0.7250681131742278, 'bagging_fraction': 0.8151320258506106, 'bagging_freq': 3, 'lambda_l1': 0.40703544249863177, 'lambda_l2': 4.048813802870829, 'min_gain_to_split': 0.04376513422187227, 'min_data_in_leaf': 88}. Best is trial 106 with value: 0.9133962462995409.\n"
     ]
    },
    {
     "name": "stderr",
     "output_type": "stream",
     "text": [
      "Best trial: 106. Best value: 0.913396:  50%|█████     | 151/300 [8:29:08<3:41:10, 89.07s/it]"
     ]
    },
    {
     "name": "stdout",
     "output_type": "stream",
     "text": [
      "[I 2025-10-23 10:22:24,112] Trial 150 finished with value: 0.913299964315069 and parameters: {'boosting_type': 'gbdt', 'learning_rate': 0.017503925876873543, 'num_leaves': 239, 'max_depth': 6, 'feature_fraction': 0.6880506011431198, 'bagging_fraction': 0.8035684040448022, 'bagging_freq': 4, 'lambda_l1': 0.03168304987622994, 'lambda_l2': 3.5157173661871854, 'min_gain_to_split': 0.005993067531803357, 'min_data_in_leaf': 199}. Best is trial 106 with value: 0.9133962462995409.\n"
     ]
    },
    {
     "name": "stderr",
     "output_type": "stream",
     "text": [
      "Best trial: 106. Best value: 0.913396:  51%|█████     | 152/300 [8:30:14<3:22:34, 82.13s/it]"
     ]
    },
    {
     "name": "stdout",
     "output_type": "stream",
     "text": [
      "[I 2025-10-23 10:23:30,036] Trial 151 finished with value: 0.9121678605135389 and parameters: {'boosting_type': 'gbdt', 'learning_rate': 0.0174199614484812, 'num_leaves': 239, 'max_depth': 6, 'feature_fraction': 0.6947319030313218, 'bagging_fraction': 0.8070188383156793, 'bagging_freq': 4, 'lambda_l1': 0.03441131683185754, 'lambda_l2': 3.5042204990267436, 'min_gain_to_split': 0.006409010359853885, 'min_data_in_leaf': 152}. Best is trial 106 with value: 0.9133962462995409.\n"
     ]
    },
    {
     "name": "stderr",
     "output_type": "stream",
     "text": [
      "Best trial: 106. Best value: 0.913396:  51%|█████     | 153/300 [8:31:46<3:28:31, 85.12s/it]"
     ]
    },
    {
     "name": "stdout",
     "output_type": "stream",
     "text": [
      "[I 2025-10-23 10:25:02,121] Trial 152 finished with value: 0.9120625675357676 and parameters: {'boosting_type': 'gbdt', 'learning_rate': 0.01966144108738122, 'num_leaves': 239, 'max_depth': 7, 'feature_fraction': 0.6866950796893867, 'bagging_fraction': 0.801080410723743, 'bagging_freq': 3, 'lambda_l1': 0.09299605553618394, 'lambda_l2': 3.699910430067425, 'min_gain_to_split': 0.0032905635637191823, 'min_data_in_leaf': 185}. Best is trial 106 with value: 0.9133962462995409.\n"
     ]
    },
    {
     "name": "stderr",
     "output_type": "stream",
     "text": [
      "Best trial: 106. Best value: 0.913396:  51%|█████▏    | 154/300 [8:33:14<3:29:47, 86.22s/it]"
     ]
    },
    {
     "name": "stdout",
     "output_type": "stream",
     "text": [
      "[I 2025-10-23 10:26:30,925] Trial 153 finished with value: 0.9118844958484876 and parameters: {'boosting_type': 'gbdt', 'learning_rate': 0.015932372335576355, 'num_leaves': 255, 'max_depth': 6, 'feature_fraction': 0.6748198752389968, 'bagging_fraction': 0.7873368795605583, 'bagging_freq': 4, 'lambda_l1': 0.1316582167227658, 'lambda_l2': 3.590772863032527, 'min_gain_to_split': 0.009736533916418062, 'min_data_in_leaf': 82}. Best is trial 106 with value: 0.9133962462995409.\n"
     ]
    },
    {
     "name": "stderr",
     "output_type": "stream",
     "text": [
      "Best trial: 106. Best value: 0.913396:  52%|█████▏    | 155/300 [8:34:18<3:11:34, 79.27s/it]"
     ]
    },
    {
     "name": "stdout",
     "output_type": "stream",
     "text": [
      "[I 2025-10-23 10:27:33,968] Trial 154 finished with value: 0.9110036915940177 and parameters: {'boosting_type': 'gbdt', 'learning_rate': 0.015454441713251508, 'num_leaves': 239, 'max_depth': 5, 'feature_fraction': 0.6694358674886529, 'bagging_fraction': 0.8339371022713847, 'bagging_freq': 4, 'lambda_l1': 0.18313132152761344, 'lambda_l2': 3.383940745702997, 'min_gain_to_split': 0.049002222917442884, 'min_data_in_leaf': 139}. Best is trial 106 with value: 0.9133962462995409.\n"
     ]
    },
    {
     "name": "stderr",
     "output_type": "stream",
     "text": [
      "Best trial: 106. Best value: 0.913396:  52%|█████▏    | 156/300 [8:35:55<3:23:11, 84.66s/it]"
     ]
    },
    {
     "name": "stdout",
     "output_type": "stream",
     "text": [
      "[I 2025-10-23 10:29:11,224] Trial 155 finished with value: 0.9123583205883575 and parameters: {'boosting_type': 'gbdt', 'learning_rate': 0.014715181945678278, 'num_leaves': 255, 'max_depth': 7, 'feature_fraction': 0.7049794163019286, 'bagging_fraction': 0.7974634217484036, 'bagging_freq': 3, 'lambda_l1': 1.0452831642860276, 'lambda_l2': 3.19363564788128, 'min_gain_to_split': 0.053118865380499286, 'min_data_in_leaf': 70}. Best is trial 106 with value: 0.9133962462995409.\n"
     ]
    },
    {
     "name": "stderr",
     "output_type": "stream",
     "text": [
      "Best trial: 106. Best value: 0.913396:  52%|█████▏    | 157/300 [8:37:12<3:16:16, 82.35s/it]"
     ]
    },
    {
     "name": "stdout",
     "output_type": "stream",
     "text": [
      "[I 2025-10-23 10:30:28,188] Trial 156 finished with value: 0.9114620072190647 and parameters: {'boosting_type': 'gbdt', 'learning_rate': 0.012184784387000581, 'num_leaves': 255, 'max_depth': 6, 'feature_fraction': 0.6817774613485745, 'bagging_fraction': 0.8107876371242321, 'bagging_freq': 3, 'lambda_l1': 0.2554884028684381, 'lambda_l2': 3.90153599696438, 'min_gain_to_split': 0.007202329817514886, 'min_data_in_leaf': 171}. Best is trial 106 with value: 0.9133962462995409.\n"
     ]
    },
    {
     "name": "stderr",
     "output_type": "stream",
     "text": [
      "Best trial: 106. Best value: 0.913396:  53%|█████▎    | 158/300 [8:38:18<3:03:28, 77.53s/it]"
     ]
    },
    {
     "name": "stdout",
     "output_type": "stream",
     "text": [
      "[I 2025-10-23 10:31:34,458] Trial 157 finished with value: 0.9119403207879427 and parameters: {'boosting_type': 'gbdt', 'learning_rate': 0.016116800498771462, 'num_leaves': 239, 'max_depth': 6, 'feature_fraction': 0.6891918358681969, 'bagging_fraction': 0.759220305618222, 'bagging_freq': 5, 'lambda_l1': 0.0003783992346074183, 'lambda_l2': 3.0648694815513164, 'min_gain_to_split': 0.06847836138424256, 'min_data_in_leaf': 76}. Best is trial 106 with value: 0.9133962462995409.\n"
     ]
    },
    {
     "name": "stderr",
     "output_type": "stream",
     "text": [
      "Best trial: 106. Best value: 0.913396:  53%|█████▎    | 159/300 [8:39:59<3:18:44, 84.57s/it]"
     ]
    },
    {
     "name": "stdout",
     "output_type": "stream",
     "text": [
      "[I 2025-10-23 10:33:15,459] Trial 158 finished with value: 0.9115366210923732 and parameters: {'boosting_type': 'gbdt', 'learning_rate': 0.01341424670554601, 'num_leaves': 255, 'max_depth': 5, 'feature_fraction': 0.6955822000693761, 'bagging_fraction': 0.777108953337103, 'bagging_freq': 3, 'lambda_l1': 0.0719006539710099, 'lambda_l2': 2.892939041716821, 'min_gain_to_split': 4.3013779966610995e-05, 'min_data_in_leaf': 191}. Best is trial 106 with value: 0.9133962462995409.\n"
     ]
    },
    {
     "name": "stderr",
     "output_type": "stream",
     "text": [
      "Best trial: 106. Best value: 0.913396:  53%|█████▎    | 160/300 [9:01:25<17:18:33, 445.10s/it]"
     ]
    },
    {
     "name": "stdout",
     "output_type": "stream",
     "text": [
      "[I 2025-10-23 10:54:41,790] Trial 159 finished with value: 0.9061849243235378 and parameters: {'boosting_type': 'dart', 'learning_rate': 0.011495405530512579, 'num_leaves': 63, 'max_depth': 7, 'feature_fraction': 0.7154704552289852, 'bagging_fraction': 0.8228553744404011, 'bagging_freq': 2, 'lambda_l1': 0.3486536760527357, 'lambda_l2': 3.3047130970102816, 'min_gain_to_split': 0.004510239667523645, 'min_data_in_leaf': 91}. Best is trial 106 with value: 0.9133962462995409.\n"
     ]
    },
    {
     "name": "stderr",
     "output_type": "stream",
     "text": [
      "Best trial: 106. Best value: 0.913396:  54%|█████▎    | 161/300 [9:03:04<13:10:11, 341.09s/it]"
     ]
    },
    {
     "name": "stdout",
     "output_type": "stream",
     "text": [
      "[I 2025-10-23 10:56:20,205] Trial 160 finished with value: 0.9118805377914503 and parameters: {'boosting_type': 'gbdt', 'learning_rate': 0.012683090808347307, 'num_leaves': 175, 'max_depth': 6, 'feature_fraction': 0.662071572949627, 'bagging_fraction': 0.8587345748717445, 'bagging_freq': 4, 'lambda_l1': 0.20919088238592798, 'lambda_l2': 3.8152431296062823, 'min_gain_to_split': 0.002239066708943621, 'min_data_in_leaf': 86}. Best is trial 106 with value: 0.9133962462995409.\n"
     ]
    },
    {
     "name": "stderr",
     "output_type": "stream",
     "text": [
      "Best trial: 106. Best value: 0.913396:  54%|█████▍    | 162/300 [9:04:17<9:59:24, 260.61s/it] "
     ]
    },
    {
     "name": "stdout",
     "output_type": "stream",
     "text": [
      "[I 2025-10-23 10:57:33,020] Trial 161 finished with value: 0.911496028278816 and parameters: {'boosting_type': 'gbdt', 'learning_rate': 0.015230384530513567, 'num_leaves': 223, 'max_depth': 6, 'feature_fraction': 0.618485248384389, 'bagging_fraction': 0.7905608385572382, 'bagging_freq': 3, 'lambda_l1': 0.032350873769665875, 'lambda_l2': 2.564576875578155, 'min_gain_to_split': 0.003929352205421604, 'min_data_in_leaf': 94}. Best is trial 106 with value: 0.9133962462995409.\n"
     ]
    },
    {
     "name": "stderr",
     "output_type": "stream",
     "text": [
      "Best trial: 106. Best value: 0.913396:  54%|█████▍    | 163/300 [9:05:17<7:38:06, 200.63s/it]"
     ]
    },
    {
     "name": "stdout",
     "output_type": "stream",
     "text": [
      "[I 2025-10-23 10:58:33,694] Trial 162 finished with value: 0.9117125841186348 and parameters: {'boosting_type': 'gbdt', 'learning_rate': 0.014816664610290011, 'num_leaves': 207, 'max_depth': 5, 'feature_fraction': 0.6728546544609453, 'bagging_fraction': 0.7786321611220105, 'bagging_freq': 3, 'lambda_l1': 0.058314515396475905, 'lambda_l2': 3.647744879167023, 'min_gain_to_split': 0.00629494100002343, 'min_data_in_leaf': 160}. Best is trial 106 with value: 0.9133962462995409.\n"
     ]
    },
    {
     "name": "stderr",
     "output_type": "stream",
     "text": [
      "Best trial: 106. Best value: 0.913396:  55%|█████▍    | 164/300 [9:06:59<6:27:25, 170.92s/it]"
     ]
    },
    {
     "name": "stdout",
     "output_type": "stream",
     "text": [
      "[I 2025-10-23 11:00:15,298] Trial 163 finished with value: 0.9132800607816502 and parameters: {'boosting_type': 'gbdt', 'learning_rate': 0.016665866600774317, 'num_leaves': 79, 'max_depth': 6, 'feature_fraction': 0.6278860599877188, 'bagging_fraction': 0.8028922572024979, 'bagging_freq': 3, 'lambda_l1': 0.11807197144972367, 'lambda_l2': 4.013489611707294, 'min_gain_to_split': 0.009602761348046909, 'min_data_in_leaf': 82}. Best is trial 106 with value: 0.9133962462995409.\n"
     ]
    },
    {
     "name": "stderr",
     "output_type": "stream",
     "text": [
      "Best trial: 106. Best value: 0.913396:  55%|█████▌    | 165/300 [9:08:29<5:30:06, 146.72s/it]"
     ]
    },
    {
     "name": "stdout",
     "output_type": "stream",
     "text": [
      "[I 2025-10-23 11:01:45,532] Trial 164 finished with value: 0.9114505974701173 and parameters: {'boosting_type': 'gbdt', 'learning_rate': 0.016843007394594538, 'num_leaves': 79, 'max_depth': 6, 'feature_fraction': 0.6078082296206428, 'bagging_fraction': 0.8054171298257813, 'bagging_freq': 3, 'lambda_l1': 0.14974444225048114, 'lambda_l2': 3.992290546712975, 'min_gain_to_split': 0.013204469574093592, 'min_data_in_leaf': 81}. Best is trial 106 with value: 0.9133962462995409.\n"
     ]
    },
    {
     "name": "stderr",
     "output_type": "stream",
     "text": [
      "Best trial: 106. Best value: 0.913396:  55%|█████▌    | 166/300 [9:09:10<4:16:30, 114.85s/it]"
     ]
    },
    {
     "name": "stdout",
     "output_type": "stream",
     "text": [
      "[I 2025-10-23 11:02:26,056] Trial 165 finished with value: 0.9120752049825794 and parameters: {'boosting_type': 'gbdt', 'learning_rate': 0.047813531130401515, 'num_leaves': 79, 'max_depth': 7, 'feature_fraction': 0.6807545082469558, 'bagging_fraction': 0.8009701375533207, 'bagging_freq': 3, 'lambda_l1': 0.12032694207175025, 'lambda_l2': 4.155388665796608, 'min_gain_to_split': 0.008897532790092243, 'min_data_in_leaf': 88}. Best is trial 106 with value: 0.9133962462995409.\n"
     ]
    },
    {
     "name": "stderr",
     "output_type": "stream",
     "text": [
      "Best trial: 106. Best value: 0.913396:  56%|█████▌    | 167/300 [9:10:20<3:44:51, 101.44s/it]"
     ]
    },
    {
     "name": "stdout",
     "output_type": "stream",
     "text": [
      "[I 2025-10-23 11:03:36,188] Trial 166 finished with value: 0.9120798667271948 and parameters: {'boosting_type': 'gbdt', 'learning_rate': 0.014097685584089813, 'num_leaves': 95, 'max_depth': 5, 'feature_fraction': 0.7004408251379045, 'bagging_fraction': 0.8185184932181941, 'bagging_freq': 3, 'lambda_l1': 0.30650479123545227, 'lambda_l2': 3.7586182795152574, 'min_gain_to_split': 0.011509717741946389, 'min_data_in_leaf': 200}. Best is trial 106 with value: 0.9133962462995409.\n"
     ]
    },
    {
     "name": "stderr",
     "output_type": "stream",
     "text": [
      "Best trial: 106. Best value: 0.913396:  56%|█████▌    | 168/300 [9:12:15<3:52:18, 105.59s/it]"
     ]
    },
    {
     "name": "stdout",
     "output_type": "stream",
     "text": [
      "[I 2025-10-23 11:05:31,474] Trial 167 finished with value: 0.9110024948930144 and parameters: {'boosting_type': 'gbdt', 'learning_rate': 0.013077618559366136, 'num_leaves': 79, 'max_depth': 8, 'feature_fraction': 0.8441082202054673, 'bagging_fraction': 0.8903819463122358, 'bagging_freq': 3, 'lambda_l1': 0.2534616769268801, 'lambda_l2': 3.945340585639943, 'min_gain_to_split': 0.008059895679480738, 'min_data_in_leaf': 76}. Best is trial 106 with value: 0.9133962462995409.\n"
     ]
    },
    {
     "name": "stderr",
     "output_type": "stream",
     "text": [
      "Best trial: 106. Best value: 0.913396:  56%|█████▋    | 169/300 [9:13:28<3:29:29, 95.95s/it] "
     ]
    },
    {
     "name": "stdout",
     "output_type": "stream",
     "text": [
      "[I 2025-10-23 11:06:44,908] Trial 168 finished with value: 0.9115471714049925 and parameters: {'boosting_type': 'gbdt', 'learning_rate': 0.017958291937463986, 'num_leaves': 63, 'max_depth': 6, 'feature_fraction': 0.6558583182035529, 'bagging_fraction': 0.9022470494543119, 'bagging_freq': 4, 'lambda_l1': 0.18001535269525554, 'lambda_l2': 3.541121350265364, 'min_gain_to_split': 0.009986928395738151, 'min_data_in_leaf': 83}. Best is trial 106 with value: 0.9133962462995409.\n"
     ]
    },
    {
     "name": "stderr",
     "output_type": "stream",
     "text": [
      "Best trial: 106. Best value: 0.913396:  57%|█████▋    | 170/300 [9:15:25<3:41:23, 102.18s/it]"
     ]
    },
    {
     "name": "stdout",
     "output_type": "stream",
     "text": [
      "[I 2025-10-23 11:08:41,646] Trial 169 finished with value: 0.9121049382478842 and parameters: {'boosting_type': 'gbdt', 'learning_rate': 0.0166780788010852, 'num_leaves': 255, 'max_depth': 6, 'feature_fraction': 0.6676709085535795, 'bagging_fraction': 0.7866132371449658, 'bagging_freq': 3, 'lambda_l1': 0.09618606666042866, 'lambda_l2': 3.448303858722815, 'min_gain_to_split': 0.00560797940889268, 'min_data_in_leaf': 16}. Best is trial 106 with value: 0.9133962462995409.\n"
     ]
    },
    {
     "name": "stderr",
     "output_type": "stream",
     "text": [
      "Best trial: 106. Best value: 0.913396:  57%|█████▋    | 171/300 [9:17:03<3:36:59, 100.93s/it]"
     ]
    },
    {
     "name": "stdout",
     "output_type": "stream",
     "text": [
      "[I 2025-10-23 11:10:19,642] Trial 170 finished with value: 0.9112920424024893 and parameters: {'boosting_type': 'gbdt', 'learning_rate': 0.01384622304781609, 'num_leaves': 255, 'max_depth': 7, 'feature_fraction': 0.735726021943535, 'bagging_fraction': 0.9338541527894179, 'bagging_freq': 4, 'lambda_l1': 1.2941551678825771, 'lambda_l2': 4.079275508538035, 'min_gain_to_split': 0.0024552710187639992, 'min_data_in_leaf': 91}. Best is trial 106 with value: 0.9133962462995409.\n"
     ]
    },
    {
     "name": "stderr",
     "output_type": "stream",
     "text": [
      "Best trial: 106. Best value: 0.913396:  57%|█████▋    | 172/300 [9:18:16<3:17:15, 92.46s/it] "
     ]
    },
    {
     "name": "stdout",
     "output_type": "stream",
     "text": [
      "[I 2025-10-23 11:11:32,358] Trial 171 finished with value: 0.9111523758102541 and parameters: {'boosting_type': 'gbdt', 'learning_rate': 0.019551732878823575, 'num_leaves': 239, 'max_depth': 6, 'feature_fraction': 0.6225977182253726, 'bagging_fraction': 0.7717948257514528, 'bagging_freq': 3, 'lambda_l1': 0.04300203933143472, 'lambda_l2': 3.857435789399195, 'min_gain_to_split': 0.004755565068885914, 'min_data_in_leaf': 85}. Best is trial 106 with value: 0.9133962462995409.\n"
     ]
    },
    {
     "name": "stderr",
     "output_type": "stream",
     "text": [
      "Best trial: 106. Best value: 0.913396:  58%|█████▊    | 173/300 [9:19:39<3:09:33, 89.56s/it]"
     ]
    },
    {
     "name": "stdout",
     "output_type": "stream",
     "text": [
      "[I 2025-10-23 11:12:55,132] Trial 172 finished with value: 0.9120706242881815 and parameters: {'boosting_type': 'gbdt', 'learning_rate': 0.015697865922848893, 'num_leaves': 223, 'max_depth': 6, 'feature_fraction': 0.6287523149509329, 'bagging_fraction': 0.7830744359298888, 'bagging_freq': 3, 'lambda_l1': 0.2151077304112123, 'lambda_l2': 3.6749561702425635, 'min_gain_to_split': 0.0040447098020114924, 'min_data_in_leaf': 78}. Best is trial 106 with value: 0.9133962462995409.\n"
     ]
    },
    {
     "name": "stderr",
     "output_type": "stream",
     "text": [
      "Best trial: 106. Best value: 0.913396:  58%|█████▊    | 174/300 [9:21:22<3:16:28, 93.56s/it]"
     ]
    },
    {
     "name": "stdout",
     "output_type": "stream",
     "text": [
      "[I 2025-10-23 11:14:38,033] Trial 173 finished with value: 0.9132157197048933 and parameters: {'boosting_type': 'gbdt', 'learning_rate': 0.014956284907172103, 'num_leaves': 239, 'max_depth': 7, 'feature_fraction': 0.6458334619492944, 'bagging_fraction': 0.7963631269264249, 'bagging_freq': 3, 'lambda_l1': 0.1279578391220193, 'lambda_l2': 3.776024586564424, 'min_gain_to_split': 0.007206401136746933, 'min_data_in_leaf': 89}. Best is trial 106 with value: 0.9133962462995409.\n"
     ]
    },
    {
     "name": "stderr",
     "output_type": "stream",
     "text": [
      "Best trial: 106. Best value: 0.913396:  58%|█████▊    | 175/300 [9:23:22<3:31:41, 101.61s/it]"
     ]
    },
    {
     "name": "stdout",
     "output_type": "stream",
     "text": [
      "[I 2025-10-23 11:16:38,430] Trial 174 finished with value: 0.9123974702650546 and parameters: {'boosting_type': 'gbdt', 'learning_rate': 0.014614338630400613, 'num_leaves': 239, 'max_depth': 7, 'feature_fraction': 0.6506337335678078, 'bagging_fraction': 0.7969591119026378, 'bagging_freq': 3, 'lambda_l1': 0.16120418651456575, 'lambda_l2': 3.7798431889868147, 'min_gain_to_split': 0.007692152678585595, 'min_data_in_leaf': 89}. Best is trial 106 with value: 0.9133962462995409.\n"
     ]
    },
    {
     "name": "stderr",
     "output_type": "stream",
     "text": [
      "Best trial: 106. Best value: 0.913396:  59%|█████▊    | 176/300 [9:25:02<3:29:06, 101.18s/it]"
     ]
    },
    {
     "name": "stdout",
     "output_type": "stream",
     "text": [
      "[I 2025-10-23 11:18:18,598] Trial 175 finished with value: 0.911100516303898 and parameters: {'boosting_type': 'gbdt', 'learning_rate': 0.012585038356844488, 'num_leaves': 255, 'max_depth': 7, 'feature_fraction': 0.7840974448118992, 'bagging_fraction': 0.809769751041852, 'bagging_freq': 3, 'lambda_l1': 0.25241546642705176, 'lambda_l2': 3.906786577651553, 'min_gain_to_split': 0.014822624991473334, 'min_data_in_leaf': 81}. Best is trial 106 with value: 0.9133962462995409.\n"
     ]
    },
    {
     "name": "stderr",
     "output_type": "stream",
     "text": [
      "Best trial: 106. Best value: 0.913396:  59%|█████▉    | 177/300 [9:27:18<3:48:31, 111.48s/it]"
     ]
    },
    {
     "name": "stdout",
     "output_type": "stream",
     "text": [
      "[I 2025-10-23 11:20:34,110] Trial 176 finished with value: 0.9122347983536728 and parameters: {'boosting_type': 'gbdt', 'learning_rate': 0.0136904739715387, 'num_leaves': 239, 'max_depth': 7, 'feature_fraction': 0.6620804000164979, 'bagging_fraction': 0.8256826432675308, 'bagging_freq': 3, 'lambda_l1': 0.12391937237860175, 'lambda_l2': 4.006491091880643, 'min_gain_to_split': 0.07396320421651661, 'min_data_in_leaf': 95}. Best is trial 106 with value: 0.9133962462995409.\n"
     ]
    },
    {
     "name": "stderr",
     "output_type": "stream",
     "text": [
      "Best trial: 106. Best value: 0.913396:  59%|█████▉    | 178/300 [9:29:58<4:16:20, 126.07s/it]"
     ]
    },
    {
     "name": "stdout",
     "output_type": "stream",
     "text": [
      "[I 2025-10-23 11:23:14,207] Trial 177 finished with value: 0.911071990631905 and parameters: {'boosting_type': 'gbdt', 'learning_rate': 0.01885079732480628, 'num_leaves': 255, 'max_depth': 12, 'feature_fraction': 0.8209101354673558, 'bagging_fraction': 0.7640915912675815, 'bagging_freq': 3, 'lambda_l1': 0.2021365261757544, 'lambda_l2': 3.022030896019215, 'min_gain_to_split': 0.010886836740517762, 'min_data_in_leaf': 73}. Best is trial 106 with value: 0.9133962462995409.\n"
     ]
    },
    {
     "name": "stderr",
     "output_type": "stream",
     "text": [
      "Best trial: 106. Best value: 0.913396:  60%|█████▉    | 179/300 [9:32:23<4:25:56, 131.87s/it]"
     ]
    },
    {
     "name": "stdout",
     "output_type": "stream",
     "text": [
      "[I 2025-10-23 11:25:39,629] Trial 178 finished with value: 0.9122761462883062 and parameters: {'boosting_type': 'gbdt', 'learning_rate': 0.011804936223704564, 'num_leaves': 239, 'max_depth': 8, 'feature_fraction': 0.600807626267036, 'bagging_fraction': 0.8455533442332712, 'bagging_freq': 4, 'lambda_l1': 0.2958801028933835, 'lambda_l2': 3.579783235685693, 'min_gain_to_split': 0.006310438585315003, 'min_data_in_leaf': 85}. Best is trial 106 with value: 0.9133962462995409.\n"
     ]
    },
    {
     "name": "stderr",
     "output_type": "stream",
     "text": [
      "Best trial: 106. Best value: 0.913396:  60%|██████    | 180/300 [9:33:33<3:46:17, 113.14s/it]"
     ]
    },
    {
     "name": "stdout",
     "output_type": "stream",
     "text": [
      "[I 2025-10-23 11:26:49,036] Trial 179 finished with value: 0.9116068433649931 and parameters: {'boosting_type': 'gbdt', 'learning_rate': 0.01748669923961078, 'num_leaves': 255, 'max_depth': 5, 'feature_fraction': 0.6765324671017293, 'bagging_fraction': 0.7939688854957757, 'bagging_freq': 3, 'lambda_l1': 0.0859885549224005, 'lambda_l2': 3.7316413644487274, 'min_gain_to_split': 0.009026480961907751, 'min_data_in_leaf': 99}. Best is trial 106 with value: 0.9133962462995409.\n"
     ]
    },
    {
     "name": "stderr",
     "output_type": "stream",
     "text": [
      "Best trial: 106. Best value: 0.913396:  60%|██████    | 181/300 [9:35:08<3:33:59, 107.90s/it]"
     ]
    },
    {
     "name": "stdout",
     "output_type": "stream",
     "text": [
      "[I 2025-10-23 11:28:24,743] Trial 180 finished with value: 0.9118734256423808 and parameters: {'boosting_type': 'gbdt', 'learning_rate': 0.016213628481254478, 'num_leaves': 79, 'max_depth': 7, 'feature_fraction': 0.6865196649514161, 'bagging_fraction': 0.8088843700001506, 'bagging_freq': 3, 'lambda_l1': 0.2315165752096667, 'lambda_l2': 3.819144957533879, 'min_gain_to_split': 0.07821244722531258, 'min_data_in_leaf': 68}. Best is trial 106 with value: 0.9133962462995409.\n"
     ]
    },
    {
     "name": "stderr",
     "output_type": "stream",
     "text": [
      "Best trial: 106. Best value: 0.913396:  61%|██████    | 182/300 [9:36:49<3:27:41, 105.61s/it]"
     ]
    },
    {
     "name": "stdout",
     "output_type": "stream",
     "text": [
      "[I 2025-10-23 11:30:05,012] Trial 181 finished with value: 0.9130474660689283 and parameters: {'boosting_type': 'gbdt', 'learning_rate': 0.015160536869561148, 'num_leaves': 223, 'max_depth': 6, 'feature_fraction': 0.6316836498255239, 'bagging_fraction': 0.7823734451303569, 'bagging_freq': 3, 'lambda_l1': 0.062070864952857525, 'lambda_l2': 2.645899249900189, 'min_gain_to_split': 0.002147926354333621, 'min_data_in_leaf': 89}. Best is trial 106 with value: 0.9133962462995409.\n"
     ]
    },
    {
     "name": "stderr",
     "output_type": "stream",
     "text": [
      "Best trial: 106. Best value: 0.913396:  61%|██████    | 183/300 [9:38:24<3:19:59, 102.56s/it]"
     ]
    },
    {
     "name": "stdout",
     "output_type": "stream",
     "text": [
      "[I 2025-10-23 11:31:40,426] Trial 182 finished with value: 0.9128193742093218 and parameters: {'boosting_type': 'gbdt', 'learning_rate': 0.015463070414219234, 'num_leaves': 223, 'max_depth': 6, 'feature_fraction': 0.6444086874184786, 'bagging_fraction': 0.9579125174279787, 'bagging_freq': 3, 'lambda_l1': 0.1669494445653548, 'lambda_l2': 2.574262242676767, 'min_gain_to_split': 0.0018513086642773834, 'min_data_in_leaf': 88}. Best is trial 106 with value: 0.9133962462995409.\n"
     ]
    },
    {
     "name": "stderr",
     "output_type": "stream",
     "text": [
      "Best trial: 106. Best value: 0.913396:  61%|██████▏   | 184/300 [9:39:15<2:48:05, 86.94s/it] "
     ]
    },
    {
     "name": "stdout",
     "output_type": "stream",
     "text": [
      "[I 2025-10-23 11:32:30,949] Trial 183 finished with value: 0.9118385396938543 and parameters: {'boosting_type': 'gbdt', 'learning_rate': 0.04275863929717814, 'num_leaves': 239, 'max_depth': 6, 'feature_fraction': 0.6352202688272761, 'bagging_fraction': 0.7903508264574404, 'bagging_freq': 3, 'lambda_l1': 0.12184072911555356, 'lambda_l2': 2.792076036825812, 'min_gain_to_split': 0.038210314969142865, 'min_data_in_leaf': 93}. Best is trial 106 with value: 0.9133962462995409.\n"
     ]
    },
    {
     "name": "stderr",
     "output_type": "stream",
     "text": [
      "Best trial: 184. Best value: 0.913837:  62%|██████▏   | 185/300 [9:41:05<2:59:59, 93.90s/it]"
     ]
    },
    {
     "name": "stdout",
     "output_type": "stream",
     "text": [
      "[I 2025-10-23 11:34:21,089] Trial 184 finished with value: 0.9138369124411465 and parameters: {'boosting_type': 'gbdt', 'learning_rate': 0.014450254916555947, 'num_leaves': 255, 'max_depth': 7, 'feature_fraction': 0.6167453009951839, 'bagging_fraction': 0.7728190048717188, 'bagging_freq': 3, 'lambda_l1': 0.027231251361905073, 'lambda_l2': 2.4464198964150525, 'min_gain_to_split': 0.002098259202927108, 'min_data_in_leaf': 83}. Best is trial 184 with value: 0.9138369124411465.\n"
     ]
    },
    {
     "name": "stderr",
     "output_type": "stream",
     "text": [
      "Best trial: 184. Best value: 0.913837:  62%|██████▏   | 186/300 [9:43:05<3:13:18, 101.74s/it]"
     ]
    },
    {
     "name": "stdout",
     "output_type": "stream",
     "text": [
      "[I 2025-10-23 11:36:21,115] Trial 185 finished with value: 0.9124370254934755 and parameters: {'boosting_type': 'gbdt', 'learning_rate': 0.013068481975229893, 'num_leaves': 255, 'max_depth': 7, 'feature_fraction': 0.6159710905456519, 'bagging_fraction': 0.7754376471057676, 'bagging_freq': 3, 'lambda_l1': 0.02172083383013121, 'lambda_l2': 2.422136701947883, 'min_gain_to_split': 0.0006163450551001299, 'min_data_in_leaf': 81}. Best is trial 184 with value: 0.9138369124411465.\n"
     ]
    },
    {
     "name": "stderr",
     "output_type": "stream",
     "text": [
      "Best trial: 184. Best value: 0.913837:  62%|██████▏   | 187/300 [9:45:42<3:43:17, 118.56s/it]"
     ]
    },
    {
     "name": "stdout",
     "output_type": "stream",
     "text": [
      "[I 2025-10-23 11:38:58,927] Trial 186 finished with value: 0.9123364888740918 and parameters: {'boosting_type': 'gbdt', 'learning_rate': 0.0141535656994905, 'num_leaves': 255, 'max_depth': 7, 'feature_fraction': 0.9992976749447171, 'bagging_fraction': 0.8013800932200373, 'bagging_freq': 3, 'lambda_l1': 0.029808068477932916, 'lambda_l2': 3.6489645981832455, 'min_gain_to_split': 0.0028892458767449704, 'min_data_in_leaf': 78}. Best is trial 184 with value: 0.9138369124411465.\n"
     ]
    },
    {
     "name": "stderr",
     "output_type": "stream",
     "text": [
      "Best trial: 184. Best value: 0.913837:  63%|██████▎   | 188/300 [9:48:46<4:17:39, 138.03s/it]"
     ]
    },
    {
     "name": "stdout",
     "output_type": "stream",
     "text": [
      "[I 2025-10-23 11:42:02,389] Trial 187 finished with value: 0.9130812352570685 and parameters: {'boosting_type': 'gbdt', 'learning_rate': 0.01223778866340526, 'num_leaves': 255, 'max_depth': 8, 'feature_fraction': 0.6094951503515492, 'bagging_fraction': 0.7842543227374865, 'bagging_freq': 4, 'lambda_l1': 0.08146444855272773, 'lambda_l2': 2.6594362893118935, 'min_gain_to_split': 0.005010436415514599, 'min_data_in_leaf': 84}. Best is trial 184 with value: 0.9138369124411465.\n"
     ]
    },
    {
     "name": "stderr",
     "output_type": "stream",
     "text": [
      "Best trial: 184. Best value: 0.913837:  63%|██████▎   | 189/300 [9:49:29<3:22:51, 109.65s/it]"
     ]
    },
    {
     "name": "stdout",
     "output_type": "stream",
     "text": [
      "[I 2025-10-23 11:42:45,818] Trial 188 finished with value: 0.910702358877796 and parameters: {'boosting_type': 'gbdt', 'learning_rate': 0.09375302886270107, 'num_leaves': 255, 'max_depth': 8, 'feature_fraction': 0.6234681004335163, 'bagging_fraction': 0.7826033841189518, 'bagging_freq': 4, 'lambda_l1': 0.07651686084757942, 'lambda_l2': 2.690468439534039, 'min_gain_to_split': 0.006128197931068603, 'min_data_in_leaf': 84}. Best is trial 184 with value: 0.9138369124411465.\n"
     ]
    },
    {
     "name": "stderr",
     "output_type": "stream",
     "text": [
      "Best trial: 184. Best value: 0.913837:  63%|██████▎   | 190/300 [11:28:22<56:43:26, 1856.43s/it]"
     ]
    },
    {
     "name": "stdout",
     "output_type": "stream",
     "text": [
      "[I 2025-10-23 13:21:38,058] Trial 189 finished with value: 0.9085289669962562 and parameters: {'boosting_type': 'dart', 'learning_rate': 0.012053089644650735, 'num_leaves': 255, 'max_depth': 8, 'feature_fraction': 0.8962638566824952, 'bagging_fraction': 0.7532423226478511, 'bagging_freq': 4, 'lambda_l1': 0.09475238202500783, 'lambda_l2': 2.480092521811325, 'min_gain_to_split': 0.004400522324740809, 'min_data_in_leaf': 75}. Best is trial 184 with value: 0.9138369124411465.\n"
     ]
    },
    {
     "name": "stderr",
     "output_type": "stream",
     "text": [
      "Best trial: 184. Best value: 0.913837:  64%|██████▎   | 191/300 [11:30:19<40:24:44, 1334.72s/it]"
     ]
    },
    {
     "name": "stdout",
     "output_type": "stream",
     "text": [
      "[I 2025-10-23 13:23:35,465] Trial 190 finished with value: 0.9137662965516703 and parameters: {'boosting_type': 'gbdt', 'learning_rate': 0.014333607577334024, 'num_leaves': 255, 'max_depth': 8, 'feature_fraction': 0.6078639448919819, 'bagging_fraction': 0.8177016125858838, 'bagging_freq': 4, 'lambda_l1': 0.055642312291102745, 'lambda_l2': 2.211548266316217, 'min_gain_to_split': 0.00019402833509145302, 'min_data_in_leaf': 81}. Best is trial 184 with value: 0.9138369124411465.\n"
     ]
    },
    {
     "name": "stderr",
     "output_type": "stream",
     "text": [
      "Best trial: 184. Best value: 0.913837:  64%|██████▍   | 192/300 [11:33:26<29:42:46, 990.43s/it] "
     ]
    },
    {
     "name": "stdout",
     "output_type": "stream",
     "text": [
      "[I 2025-10-23 13:26:42,542] Trial 191 finished with value: 0.9124903118835107 and parameters: {'boosting_type': 'gbdt', 'learning_rate': 0.013403732047858722, 'num_leaves': 255, 'max_depth': 9, 'feature_fraction': 0.6094380679565633, 'bagging_fraction': 0.8196472115213294, 'bagging_freq': 4, 'lambda_l1': 0.0012685348708318667, 'lambda_l2': 2.3878859392359897, 'min_gain_to_split': 0.0003367069696890337, 'min_data_in_leaf': 81}. Best is trial 184 with value: 0.9138369124411465.\n"
     ]
    },
    {
     "name": "stderr",
     "output_type": "stream",
     "text": [
      "Best trial: 184. Best value: 0.913837:  64%|██████▍   | 193/300 [11:35:34<21:44:57, 731.75s/it]"
     ]
    },
    {
     "name": "stdout",
     "output_type": "stream",
     "text": [
      "[I 2025-10-23 13:28:50,701] Trial 192 finished with value: 0.9131404003870139 and parameters: {'boosting_type': 'gbdt', 'learning_rate': 0.014368438012105569, 'num_leaves': 255, 'max_depth': 8, 'feature_fraction': 0.6020317160981118, 'bagging_fraction': 0.8325607822524579, 'bagging_freq': 4, 'lambda_l1': 0.04600209895002662, 'lambda_l2': 2.1059290702162903, 'min_gain_to_split': 0.09665309064102466, 'min_data_in_leaf': 89}. Best is trial 184 with value: 0.9138369124411465.\n"
     ]
    },
    {
     "name": "stderr",
     "output_type": "stream",
     "text": [
      "Best trial: 184. Best value: 0.913837:  65%|██████▍   | 194/300 [11:37:38<16:10:43, 549.47s/it]"
     ]
    },
    {
     "name": "stdout",
     "output_type": "stream",
     "text": [
      "[I 2025-10-23 13:30:54,862] Trial 193 finished with value: 0.9118066966698963 and parameters: {'boosting_type': 'gbdt', 'learning_rate': 0.014071468988177793, 'num_leaves': 191, 'max_depth': 8, 'feature_fraction': 0.6011967269060989, 'bagging_fraction': 0.8347711348161841, 'bagging_freq': 4, 'lambda_l1': 0.05566372700879727, 'lambda_l2': 2.219038483304301, 'min_gain_to_split': 1.728190739390574e-05, 'min_data_in_leaf': 90}. Best is trial 184 with value: 0.9138369124411465.\n"
     ]
    },
    {
     "name": "stderr",
     "output_type": "stream",
     "text": [
      "Best trial: 184. Best value: 0.913837:  65%|██████▌   | 195/300 [11:44:41<14:55:00, 511.44s/it]"
     ]
    },
    {
     "name": "stdout",
     "output_type": "stream",
     "text": [
      "[I 2025-10-23 13:37:57,557] Trial 194 finished with value: 0.9119344799476554 and parameters: {'boosting_type': 'gbdt', 'learning_rate': 0.014327562783954431, 'num_leaves': 255, 'max_depth': 8, 'feature_fraction': 0.6086764010090254, 'bagging_fraction': 0.9828154375114553, 'bagging_freq': 4, 'lambda_l1': 0.06109208304567002, 'lambda_l2': 2.1684672054147556, 'min_gain_to_split': 0.0018311574757846336, 'min_data_in_leaf': 88}. Best is trial 184 with value: 0.9138369124411465.\n"
     ]
    },
    {
     "name": "stderr",
     "output_type": "stream",
     "text": [
      "Best trial: 184. Best value: 0.913837:  65%|██████▌   | 196/300 [11:47:16<11:41:17, 404.59s/it]"
     ]
    },
    {
     "name": "stdout",
     "output_type": "stream",
     "text": [
      "[I 2025-10-23 13:40:32,825] Trial 195 finished with value: 0.9118368454633281 and parameters: {'boosting_type': 'gbdt', 'learning_rate': 0.012630260632916609, 'num_leaves': 255, 'max_depth': 9, 'feature_fraction': 0.6156278706898557, 'bagging_fraction': 0.8380175078595221, 'bagging_freq': 4, 'lambda_l1': 0.11714169298372501, 'lambda_l2': 2.294050336558979, 'min_gain_to_split': 0.0970058769959448, 'min_data_in_leaf': 80}. Best is trial 184 with value: 0.9138369124411465.\n"
     ]
    },
    {
     "name": "stderr",
     "output_type": "stream",
     "text": [
      "Best trial: 184. Best value: 0.913837:  66%|██████▌   | 197/300 [11:49:48<9:24:01, 328.56s/it] "
     ]
    },
    {
     "name": "stdout",
     "output_type": "stream",
     "text": [
      "[I 2025-10-23 13:43:04,005] Trial 196 finished with value: 0.9119408170160763 and parameters: {'boosting_type': 'gbdt', 'learning_rate': 0.014844137868910305, 'num_leaves': 255, 'max_depth': 8, 'feature_fraction': 0.6191506329577613, 'bagging_fraction': 0.8117987173691735, 'bagging_freq': 5, 'lambda_l1': 0.032127749427281006, 'lambda_l2': 2.0953027235410056, 'min_gain_to_split': 0.09615600355326089, 'min_data_in_leaf': 71}. Best is trial 184 with value: 0.9138369124411465.\n"
     ]
    },
    {
     "name": "stderr",
     "output_type": "stream",
     "text": [
      "Best trial: 184. Best value: 0.913837:  66%|██████▌   | 198/300 [11:52:28<7:52:41, 278.06s/it]"
     ]
    },
    {
     "name": "stdout",
     "output_type": "stream",
     "text": [
      "[I 2025-10-23 13:45:44,214] Trial 197 finished with value: 0.9136163210979845 and parameters: {'boosting_type': 'gbdt', 'learning_rate': 0.013417698084228316, 'num_leaves': 239, 'max_depth': 8, 'feature_fraction': 0.6006396474403677, 'bagging_fraction': 0.8227424201757179, 'bagging_freq': 4, 'lambda_l1': 0.08706187143999247, 'lambda_l2': 2.0686190504155273, 'min_gain_to_split': 0.0038538620361319325, 'min_data_in_leaf': 85}. Best is trial 184 with value: 0.9138369124411465.\n"
     ]
    },
    {
     "name": "stderr",
     "output_type": "stream",
     "text": [
      "Best trial: 184. Best value: 0.913837:  66%|██████▋   | 199/300 [11:54:49<6:39:01, 237.04s/it]"
     ]
    },
    {
     "name": "stdout",
     "output_type": "stream",
     "text": [
      "[I 2025-10-23 13:48:05,552] Trial 198 finished with value: 0.912320509670575 and parameters: {'boosting_type': 'gbdt', 'learning_rate': 0.012296707213691475, 'num_leaves': 239, 'max_depth': 8, 'feature_fraction': 0.6020062876629941, 'bagging_fraction': 0.8518233528437822, 'bagging_freq': 4, 'lambda_l1': 0.08611648095943186, 'lambda_l2': 2.2719951672627996, 'min_gain_to_split': 0.0033111940636638415, 'min_data_in_leaf': 92}. Best is trial 184 with value: 0.9138369124411465.\n"
     ]
    },
    {
     "name": "stderr",
     "output_type": "stream",
     "text": [
      "Best trial: 184. Best value: 0.913837:  67%|██████▋   | 200/300 [11:56:46<5:34:45, 200.85s/it]"
     ]
    },
    {
     "name": "stdout",
     "output_type": "stream",
     "text": [
      "[I 2025-10-23 13:50:01,964] Trial 199 finished with value: 0.9106246258388807 and parameters: {'boosting_type': 'gbdt', 'learning_rate': 0.013216780165156226, 'num_leaves': 239, 'max_depth': 8, 'feature_fraction': 0.6003543916654354, 'bagging_fraction': 0.8244940969305325, 'bagging_freq': 5, 'lambda_l1': 0.01227233785713358, 'lambda_l2': 1.9571383071599933, 'min_gain_to_split': 0.004304049043918337, 'min_data_in_leaf': 86}. Best is trial 184 with value: 0.9138369124411465.\n"
     ]
    },
    {
     "name": "stderr",
     "output_type": "stream",
     "text": [
      "Best trial: 184. Best value: 0.913837:  67%|██████▋   | 201/300 [12:13:57<12:22:21, 449.92s/it]"
     ]
    },
    {
     "name": "stdout",
     "output_type": "stream",
     "text": [
      "[I 2025-10-23 14:07:13,036] Trial 200 finished with value: 0.9126033472698318 and parameters: {'boosting_type': 'gbdt', 'learning_rate': 0.015237294622139306, 'num_leaves': 239, 'max_depth': 9, 'feature_fraction': 0.6272035718555585, 'bagging_fraction': 0.8167678992693344, 'bagging_freq': 4, 'lambda_l1': 0.12317309637423714, 'lambda_l2': 2.101352596147394, 'min_gain_to_split': 0.09460847998026493, 'min_data_in_leaf': 83}. Best is trial 184 with value: 0.9138369124411465.\n"
     ]
    },
    {
     "name": "stderr",
     "output_type": "stream",
     "text": [
      "Best trial: 184. Best value: 0.913837:  67%|██████▋   | 202/300 [12:16:10<9:39:34, 354.85s/it] "
     ]
    },
    {
     "name": "stdout",
     "output_type": "stream",
     "text": [
      "[I 2025-10-23 14:09:26,027] Trial 201 finished with value: 0.9124082707153922 and parameters: {'boosting_type': 'gbdt', 'learning_rate': 0.013986652138537475, 'num_leaves': 255, 'max_depth': 8, 'feature_fraction': 0.6083204044912356, 'bagging_fraction': 0.803930779682219, 'bagging_freq': 4, 'lambda_l1': 0.07339029544281123, 'lambda_l2': 1.7613776301215425, 'min_gain_to_split': 0.006853428581716759, 'min_data_in_leaf': 77}. Best is trial 184 with value: 0.9138369124411465.\n"
     ]
    },
    {
     "name": "stderr",
     "output_type": "stream",
     "text": [
      "Best trial: 184. Best value: 0.913837:  68%|██████▊   | 203/300 [12:18:11<7:40:19, 284.74s/it]"
     ]
    },
    {
     "name": "stdout",
     "output_type": "stream",
     "text": [
      "[I 2025-10-23 14:11:27,185] Trial 202 finished with value: 0.9127284677957352 and parameters: {'boosting_type': 'gbdt', 'learning_rate': 0.013569390499358465, 'num_leaves': 255, 'max_depth': 7, 'feature_fraction': 0.6144159281061958, 'bagging_fraction': 0.8337782464404576, 'bagging_freq': 4, 'lambda_l1': 0.15318206859072547, 'lambda_l2': 2.505982261213576, 'min_gain_to_split': 0.0028508299778683354, 'min_data_in_leaf': 88}. Best is trial 184 with value: 0.9138369124411465.\n"
     ]
    },
    {
     "name": "stderr",
     "output_type": "stream",
     "text": [
      "Best trial: 184. Best value: 0.913837:  68%|██████▊   | 204/300 [12:20:39<6:30:02, 243.77s/it]"
     ]
    },
    {
     "name": "stdout",
     "output_type": "stream",
     "text": [
      "[I 2025-10-23 14:13:55,357] Trial 203 finished with value: 0.9117425658688247 and parameters: {'boosting_type': 'gbdt', 'learning_rate': 0.012741951033120185, 'num_leaves': 255, 'max_depth': 8, 'feature_fraction': 0.6083207449482538, 'bagging_fraction': 0.8015481216127335, 'bagging_freq': 4, 'lambda_l1': 0.05166735699971326, 'lambda_l2': 1.9116440717156638, 'min_gain_to_split': 0.08094691774094134, 'min_data_in_leaf': 83}. Best is trial 184 with value: 0.9138369124411465.\n"
     ]
    },
    {
     "name": "stderr",
     "output_type": "stream",
     "text": [
      "Best trial: 184. Best value: 0.913837:  68%|██████▊   | 205/300 [12:22:49<5:32:07, 209.77s/it]"
     ]
    },
    {
     "name": "stdout",
     "output_type": "stream",
     "text": [
      "[I 2025-10-23 14:16:05,801] Trial 204 finished with value: 0.9112518716178422 and parameters: {'boosting_type': 'gbdt', 'learning_rate': 0.014566257590176874, 'num_leaves': 255, 'max_depth': 6, 'feature_fraction': 0.6223405754741816, 'bagging_fraction': 0.8270635967907095, 'bagging_freq': 4, 'lambda_l1': 0.1054356237796579, 'lambda_l2': 2.0611997950357006, 'min_gain_to_split': 0.09037744113818957, 'min_data_in_leaf': 78}. Best is trial 184 with value: 0.9138369124411465.\n"
     ]
    },
    {
     "name": "stderr",
     "output_type": "stream",
     "text": [
      "Best trial: 184. Best value: 0.913837:  69%|██████▊   | 206/300 [12:25:16<4:59:09, 190.95s/it]"
     ]
    },
    {
     "name": "stdout",
     "output_type": "stream",
     "text": [
      "[I 2025-10-23 14:18:32,860] Trial 205 finished with value: 0.9125561043291128 and parameters: {'boosting_type': 'gbdt', 'learning_rate': 0.01342291177064625, 'num_leaves': 239, 'max_depth': 6, 'feature_fraction': 0.6184647826131199, 'bagging_fraction': 0.8103510948078017, 'bagging_freq': 4, 'lambda_l1': 0.15468229063986066, 'lambda_l2': 2.3718083619869326, 'min_gain_to_split': 0.005062609391443476, 'min_data_in_leaf': 92}. Best is trial 184 with value: 0.9138369124411465.\n"
     ]
    },
    {
     "name": "stderr",
     "output_type": "stream",
     "text": [
      "Best trial: 184. Best value: 0.913837:  69%|██████▉   | 207/300 [12:27:40<4:33:49, 176.66s/it]"
     ]
    },
    {
     "name": "stdout",
     "output_type": "stream",
     "text": [
      "[I 2025-10-23 14:20:56,177] Trial 206 finished with value: 0.9116814816207662 and parameters: {'boosting_type': 'gbdt', 'learning_rate': 0.011863521360425714, 'num_leaves': 255, 'max_depth': 7, 'feature_fraction': 0.6091683868874397, 'bagging_fraction': 0.790421904950429, 'bagging_freq': 3, 'lambda_l1': 0.04760022544663041, 'lambda_l2': 2.6141808381934486, 'min_gain_to_split': 0.09320919313493115, 'min_data_in_leaf': 86}. Best is trial 184 with value: 0.9138369124411465.\n"
     ]
    },
    {
     "name": "stderr",
     "output_type": "stream",
     "text": [
      "Best trial: 184. Best value: 0.913837:  69%|██████▉   | 208/300 [12:31:23<4:52:13, 190.58s/it]"
     ]
    },
    {
     "name": "stdout",
     "output_type": "stream",
     "text": [
      "[I 2025-10-23 14:24:39,210] Trial 207 finished with value: 0.9113908813202741 and parameters: {'boosting_type': 'gbdt', 'learning_rate': 0.015344519403703351, 'num_leaves': 239, 'max_depth': 9, 'feature_fraction': 0.6318663974364025, 'bagging_fraction': 0.7966446699034458, 'bagging_freq': 4, 'lambda_l1': 0.08956269637558595, 'lambda_l2': 1.669990711061426, 'min_gain_to_split': 0.09979546384506725, 'min_data_in_leaf': 74}. Best is trial 184 with value: 0.9138369124411465.\n"
     ]
    },
    {
     "name": "stderr",
     "output_type": "stream",
     "text": [
      "Best trial: 184. Best value: 0.913837:  70%|██████▉   | 209/300 [12:33:53<4:30:39, 178.46s/it]"
     ]
    },
    {
     "name": "stdout",
     "output_type": "stream",
     "text": [
      "[I 2025-10-23 14:27:09,373] Trial 208 finished with value: 0.9133664589903082 and parameters: {'boosting_type': 'gbdt', 'learning_rate': 0.014288464452570109, 'num_leaves': 255, 'max_depth': 8, 'feature_fraction': 0.6003035152168303, 'bagging_fraction': 0.8141518189716783, 'bagging_freq': 3, 'lambda_l1': 0.1348452112940321, 'lambda_l2': 2.6560661846303595, 'min_gain_to_split': 0.007645162027812253, 'min_data_in_leaf': 80}. Best is trial 184 with value: 0.9138369124411465.\n"
     ]
    },
    {
     "name": "stderr",
     "output_type": "stream",
     "text": [
      "Best trial: 184. Best value: 0.913837:  70%|███████   | 210/300 [12:35:47<3:58:45, 159.18s/it]"
     ]
    },
    {
     "name": "stdout",
     "output_type": "stream",
     "text": [
      "[I 2025-10-23 14:29:03,580] Trial 209 finished with value: 0.9119771054480785 and parameters: {'boosting_type': 'gbdt', 'learning_rate': 0.014339803953790397, 'num_leaves': 255, 'max_depth': 8, 'feature_fraction': 0.6007500816401293, 'bagging_fraction': 0.8470402143135446, 'bagging_freq': 3, 'lambda_l1': 0.0009333507633652108, 'lambda_l2': 2.6456765000731073, 'min_gain_to_split': 0.05695822590264951, 'min_data_in_leaf': 96}. Best is trial 184 with value: 0.9138369124411465.\n"
     ]
    },
    {
     "name": "stderr",
     "output_type": "stream",
     "text": [
      "Best trial: 184. Best value: 0.913837:  70%|███████   | 211/300 [13:09:12<17:37:38, 713.01s/it]"
     ]
    },
    {
     "name": "stdout",
     "output_type": "stream",
     "text": [
      "[I 2025-10-23 15:02:28,873] Trial 210 finished with value: 0.911288329086204 and parameters: {'boosting_type': 'gbdt', 'learning_rate': 0.025955663653555144, 'num_leaves': 239, 'max_depth': 8, 'feature_fraction': 0.6139352967203665, 'bagging_fraction': 0.8186144958387196, 'bagging_freq': 3, 'lambda_l1': 0.13520876463483408, 'lambda_l2': 2.6917847237187065, 'min_gain_to_split': 0.046654423476832144, 'min_data_in_leaf': 81}. Best is trial 184 with value: 0.9138369124411465.\n"
     ]
    },
    {
     "name": "stderr",
     "output_type": "stream",
     "text": [
      "Best trial: 184. Best value: 0.913837:  71%|███████   | 212/300 [13:12:14<13:32:04, 553.69s/it]"
     ]
    },
    {
     "name": "stdout",
     "output_type": "stream",
     "text": [
      "[I 2025-10-23 15:05:30,827] Trial 211 finished with value: 0.9117547341499002 and parameters: {'boosting_type': 'gbdt', 'learning_rate': 0.013651562104454704, 'num_leaves': 255, 'max_depth': 8, 'feature_fraction': 0.6002468974638605, 'bagging_fraction': 0.8645036467590728, 'bagging_freq': 3, 'lambda_l1': 0.1710635027323686, 'lambda_l2': 2.8567874969219607, 'min_gain_to_split': 0.007824850733052108, 'min_data_in_leaf': 85}. Best is trial 184 with value: 0.9138369124411465.\n"
     ]
    },
    {
     "name": "stderr",
     "output_type": "stream",
     "text": [
      "Best trial: 184. Best value: 0.913837:  71%|███████   | 213/300 [13:14:25<10:18:47, 426.75s/it]"
     ]
    },
    {
     "name": "stdout",
     "output_type": "stream",
     "text": [
      "[I 2025-10-23 15:07:41,384] Trial 212 finished with value: 0.9123562539443953 and parameters: {'boosting_type': 'gbdt', 'learning_rate': 0.012923124349395479, 'num_leaves': 255, 'max_depth': 7, 'feature_fraction': 0.6242026125163155, 'bagging_fraction': 0.8071276807647114, 'bagging_freq': 3, 'lambda_l1': 0.09800222904526427, 'lambda_l2': 2.5127376481577697, 'min_gain_to_split': 0.08576976800485084, 'min_data_in_leaf': 79}. Best is trial 184 with value: 0.9138369124411465.\n"
     ]
    },
    {
     "name": "stderr",
     "output_type": "stream",
     "text": [
      "Best trial: 184. Best value: 0.913837:  71%|███████▏  | 214/300 [13:16:56<8:13:06, 344.03s/it] "
     ]
    },
    {
     "name": "stdout",
     "output_type": "stream",
     "text": [
      "[I 2025-10-23 15:10:12,410] Trial 213 finished with value: 0.9113025761639042 and parameters: {'boosting_type': 'gbdt', 'learning_rate': 0.015683573626428568, 'num_leaves': 255, 'max_depth': 9, 'feature_fraction': 0.6913434383298165, 'bagging_fraction': 0.8178116145287994, 'bagging_freq': 3, 'lambda_l1': 0.06015366775008018, 'lambda_l2': 1.362421352034129, 'min_gain_to_split': 0.0021342735108106302, 'min_data_in_leaf': 90}. Best is trial 184 with value: 0.9138369124411465.\n"
     ]
    },
    {
     "name": "stderr",
     "output_type": "stream",
     "text": [
      "Best trial: 184. Best value: 0.913837:  72%|███████▏  | 215/300 [13:18:30<6:21:03, 268.99s/it]"
     ]
    },
    {
     "name": "stdout",
     "output_type": "stream",
     "text": [
      "[I 2025-10-23 15:11:46,278] Trial 214 finished with value: 0.9121965816478085 and parameters: {'boosting_type': 'gbdt', 'learning_rate': 0.012372128702830835, 'num_leaves': 255, 'max_depth': 6, 'feature_fraction': 0.6096088470640906, 'bagging_fraction': 0.7695283500183747, 'bagging_freq': 3, 'lambda_l1': 0.1808789000231602, 'lambda_l2': 2.5222872311101323, 'min_gain_to_split': 0.008679330449282308, 'min_data_in_leaf': 87}. Best is trial 184 with value: 0.9138369124411465.\n"
     ]
    },
    {
     "name": "stderr",
     "output_type": "stream",
     "text": [
      "Best trial: 184. Best value: 0.913837:  72%|███████▏  | 216/300 [13:20:19<5:09:22, 220.98s/it]"
     ]
    },
    {
     "name": "stdout",
     "output_type": "stream",
     "text": [
      "[I 2025-10-23 15:13:35,254] Trial 215 finished with value: 0.9123313737075104 and parameters: {'boosting_type': 'gbdt', 'learning_rate': 0.014607229485985359, 'num_leaves': 223, 'max_depth': 7, 'feature_fraction': 0.6215653493767966, 'bagging_fraction': 0.795322812288857, 'bagging_freq': 4, 'lambda_l1': 0.13356927404306712, 'lambda_l2': 3.8975860997435343, 'min_gain_to_split': 0.01163433403147552, 'min_data_in_leaf': 83}. Best is trial 184 with value: 0.9138369124411465.\n"
     ]
    },
    {
     "name": "stderr",
     "output_type": "stream",
     "text": [
      "Best trial: 216. Best value: 0.913855:  72%|███████▏  | 217/300 [13:21:42<4:08:28, 179.62s/it]"
     ]
    },
    {
     "name": "stdout",
     "output_type": "stream",
     "text": [
      "[I 2025-10-23 15:14:58,379] Trial 216 finished with value: 0.9138551498223769 and parameters: {'boosting_type': 'gbdt', 'learning_rate': 0.022304681327133882, 'num_leaves': 239, 'max_depth': 6, 'feature_fraction': 0.6784788704445406, 'bagging_fraction': 0.8292714608265909, 'bagging_freq': 3, 'lambda_l1': 0.05280848375788881, 'lambda_l2': 2.3128050171504064, 'min_gain_to_split': 0.006032745275265724, 'min_data_in_leaf': 75}. Best is trial 216 with value: 0.9138551498223769.\n"
     ]
    },
    {
     "name": "stderr",
     "output_type": "stream",
     "text": [
      "Best trial: 216. Best value: 0.913855:  73%|███████▎  | 218/300 [13:22:57<3:22:40, 148.29s/it]"
     ]
    },
    {
     "name": "stdout",
     "output_type": "stream",
     "text": [
      "[I 2025-10-23 15:16:13,547] Trial 217 finished with value: 0.9109959056456948 and parameters: {'boosting_type': 'gbdt', 'learning_rate': 0.02198735220546127, 'num_leaves': 239, 'max_depth': 6, 'feature_fraction': 0.6800054807277297, 'bagging_fraction': 0.8336064454029473, 'bagging_freq': 3, 'lambda_l1': 0.030361806754848994, 'lambda_l2': 2.238747949285189, 'min_gain_to_split': 0.005163131477908585, 'min_data_in_leaf': 128}. Best is trial 216 with value: 0.9138551498223769.\n"
     ]
    },
    {
     "name": "stderr",
     "output_type": "stream",
     "text": [
      "Best trial: 216. Best value: 0.913855:  73%|███████▎  | 219/300 [13:23:50<2:41:27, 119.60s/it]"
     ]
    },
    {
     "name": "stdout",
     "output_type": "stream",
     "text": [
      "[I 2025-10-23 15:17:06,220] Trial 218 finished with value: 0.9117527391223793 and parameters: {'boosting_type': 'gbdt', 'learning_rate': 0.03188119038688171, 'num_leaves': 175, 'max_depth': 6, 'feature_fraction': 0.671891658519427, 'bagging_fraction': 0.8269747267702896, 'bagging_freq': 3, 'lambda_l1': 0.07920848073736622, 'lambda_l2': 2.298519051127817, 'min_gain_to_split': 0.009412144705262193, 'min_data_in_leaf': 90}. Best is trial 216 with value: 0.9138551498223769.\n"
     ]
    },
    {
     "name": "stderr",
     "output_type": "stream",
     "text": [
      "Best trial: 216. Best value: 0.913855:  73%|███████▎  | 220/300 [13:25:27<2:30:21, 112.77s/it]"
     ]
    },
    {
     "name": "stdout",
     "output_type": "stream",
     "text": [
      "[I 2025-10-23 15:18:43,012] Trial 219 finished with value: 0.9113158450195957 and parameters: {'boosting_type': 'gbdt', 'learning_rate': 0.01666531010824416, 'num_leaves': 223, 'max_depth': 6, 'feature_fraction': 0.6290975530913123, 'bagging_fraction': 0.8423615312987315, 'bagging_freq': 2, 'lambda_l1': 0.041145191030317274, 'lambda_l2': 2.396067027846528, 'min_gain_to_split': 0.07082192928055085, 'min_data_in_leaf': 79}. Best is trial 216 with value: 0.9138551498223769.\n"
     ]
    },
    {
     "name": "stderr",
     "output_type": "stream",
     "text": [
      "Best trial: 216. Best value: 0.913855:  74%|███████▎  | 221/300 [13:27:22<2:29:36, 113.63s/it]"
     ]
    },
    {
     "name": "stdout",
     "output_type": "stream",
     "text": [
      "[I 2025-10-23 15:20:38,656] Trial 220 finished with value: 0.9118736754771265 and parameters: {'boosting_type': 'gbdt', 'learning_rate': 0.023749577610938193, 'num_leaves': 239, 'max_depth': 8, 'feature_fraction': 0.6878965090571845, 'bagging_fraction': 0.8117401408696624, 'bagging_freq': 3, 'lambda_l1': 0.1059562894981023, 'lambda_l2': 2.4385816963200515, 'min_gain_to_split': 0.0026880868603363817, 'min_data_in_leaf': 84}. Best is trial 216 with value: 0.9138551498223769.\n"
     ]
    },
    {
     "name": "stderr",
     "output_type": "stream",
     "text": [
      "Best trial: 216. Best value: 0.913855:  74%|███████▍  | 222/300 [13:28:31<2:10:01, 100.02s/it]"
     ]
    },
    {
     "name": "stdout",
     "output_type": "stream",
     "text": [
      "[I 2025-10-23 15:21:46,916] Trial 221 finished with value: 0.9110283006085381 and parameters: {'boosting_type': 'gbdt', 'learning_rate': 0.024983282085020198, 'num_leaves': 255, 'max_depth': 7, 'feature_fraction': 0.7006603927844808, 'bagging_fraction': 0.9187079144362925, 'bagging_freq': 3, 'lambda_l1': 0.19126326049781808, 'lambda_l2': 2.1385136052381513, 'min_gain_to_split': 0.006892220761486668, 'min_data_in_leaf': 74}. Best is trial 216 with value: 0.9138551498223769.\n"
     ]
    },
    {
     "name": "stderr",
     "output_type": "stream",
     "text": [
      "Best trial: 216. Best value: 0.913855:  74%|███████▍  | 223/300 [13:29:24<1:50:23, 86.02s/it] "
     ]
    },
    {
     "name": "stdout",
     "output_type": "stream",
     "text": [
      "[I 2025-10-23 15:22:40,295] Trial 222 finished with value: 0.9094624835146388 and parameters: {'boosting_type': 'gbdt', 'learning_rate': 0.030191201148538297, 'num_leaves': 255, 'max_depth': 6, 'feature_fraction': 0.7983323768602397, 'bagging_fraction': 0.7805998907971258, 'bagging_freq': 3, 'lambda_l1': 0.13828554912842794, 'lambda_l2': 2.6587496538949718, 'min_gain_to_split': 0.004869325187456513, 'min_data_in_leaf': 68}. Best is trial 216 with value: 0.9138551498223769.\n"
     ]
    },
    {
     "name": "stderr",
     "output_type": "stream",
     "text": [
      "Best trial: 216. Best value: 0.913855:  75%|███████▍  | 224/300 [13:31:30<2:04:09, 98.03s/it]"
     ]
    },
    {
     "name": "stdout",
     "output_type": "stream",
     "text": [
      "[I 2025-10-23 15:24:46,327] Trial 223 finished with value: 0.9118862706430925 and parameters: {'boosting_type': 'gbdt', 'learning_rate': 0.013807748570235366, 'num_leaves': 239, 'max_depth': 7, 'feature_fraction': 0.6594227702164478, 'bagging_fraction': 0.8024156159081143, 'bagging_freq': 3, 'lambda_l1': 0.003842277711102314, 'lambda_l2': 3.9964543434882427, 'min_gain_to_split': 0.006671061933710441, 'min_data_in_leaf': 76}. Best is trial 216 with value: 0.9138551498223769.\n"
     ]
    },
    {
     "name": "stderr",
     "output_type": "stream",
     "text": [
      "Best trial: 216. Best value: 0.913855:  75%|███████▌  | 225/300 [13:33:40<2:14:33, 107.65s/it]"
     ]
    },
    {
     "name": "stdout",
     "output_type": "stream",
     "text": [
      "[I 2025-10-23 15:26:56,456] Trial 224 finished with value: 0.9126655688941175 and parameters: {'boosting_type': 'gbdt', 'learning_rate': 0.013055019165209167, 'num_leaves': 255, 'max_depth': 6, 'feature_fraction': 0.6781704428922795, 'bagging_fraction': 0.7912526019073375, 'bagging_freq': 3, 'lambda_l1': 0.26843109849824187, 'lambda_l2': 1.97302624736107, 'min_gain_to_split': 0.0015153918256018938, 'min_data_in_leaf': 81}. Best is trial 216 with value: 0.9138551498223769.\n"
     ]
    },
    {
     "name": "stderr",
     "output_type": "stream",
     "text": [
      "Best trial: 216. Best value: 0.913855:  75%|███████▌  | 226/300 [13:35:03<2:03:41, 100.29s/it]"
     ]
    },
    {
     "name": "stdout",
     "output_type": "stream",
     "text": [
      "[I 2025-10-23 15:28:19,533] Trial 225 finished with value: 0.9122311923083195 and parameters: {'boosting_type': 'gbdt', 'learning_rate': 0.01495296961273495, 'num_leaves': 255, 'max_depth': 5, 'feature_fraction': 0.6151691439888453, 'bagging_fraction': 0.8174304094110735, 'bagging_freq': 4, 'lambda_l1': 0.06781347224936635, 'lambda_l2': 4.08847832268547, 'min_gain_to_split': 0.009707536728241335, 'min_data_in_leaf': 87}. Best is trial 216 with value: 0.9138551498223769.\n"
     ]
    },
    {
     "name": "stderr",
     "output_type": "stream",
     "text": [
      "Best trial: 216. Best value: 0.913855:  76%|███████▌  | 227/300 [13:36:27<1:56:09, 95.47s/it] "
     ]
    },
    {
     "name": "stdout",
     "output_type": "stream",
     "text": [
      "[I 2025-10-23 15:29:43,768] Trial 226 finished with value: 0.912086223743025 and parameters: {'boosting_type': 'gbdt', 'learning_rate': 0.014025809646664292, 'num_leaves': 239, 'max_depth': 6, 'feature_fraction': 0.7075939705823351, 'bagging_fraction': 0.8046360605161964, 'bagging_freq': 3, 'lambda_l1': 0.32200043299108033, 'lambda_l2': 2.584092871777214, 'min_gain_to_split': 9.584633456589334e-05, 'min_data_in_leaf': 140}. Best is trial 216 with value: 0.9138551498223769.\n"
     ]
    },
    {
     "name": "stderr",
     "output_type": "stream",
     "text": [
      "Best trial: 216. Best value: 0.913855:  76%|███████▌  | 228/300 [14:39:11<23:55:12, 1196.00s/it]"
     ]
    },
    {
     "name": "stdout",
     "output_type": "stream",
     "text": [
      "[I 2025-10-23 16:32:27,673] Trial 227 finished with value: 0.9056498192935661 and parameters: {'boosting_type': 'dart', 'learning_rate': 0.02270441398797538, 'num_leaves': 255, 'max_depth': 8, 'feature_fraction': 0.6078250445486629, 'bagging_fraction': 0.7838108519276481, 'bagging_freq': 4, 'lambda_l1': 0.12631064292654676, 'lambda_l2': 3.8435846824368918, 'min_gain_to_split': 0.061939929984390234, 'min_data_in_leaf': 93}. Best is trial 216 with value: 0.9138551498223769.\n"
     ]
    },
    {
     "name": "stderr",
     "output_type": "stream",
     "text": [
      "Best trial: 216. Best value: 0.913855:  76%|███████▋  | 229/300 [14:41:31<17:20:24, 879.22s/it] "
     ]
    },
    {
     "name": "stdout",
     "output_type": "stream",
     "text": [
      "[I 2025-10-23 16:34:47,760] Trial 228 finished with value: 0.9119899111943578 and parameters: {'boosting_type': 'gbdt', 'learning_rate': 0.011206025853556305, 'num_leaves': 255, 'max_depth': 6, 'feature_fraction': 0.6466348206552237, 'bagging_fraction': 0.8271762071386777, 'bagging_freq': 3, 'lambda_l1': 0.17720684972280945, 'lambda_l2': 3.70301699370626, 'min_gain_to_split': 0.004084366973427656, 'min_data_in_leaf': 83}. Best is trial 216 with value: 0.9138551498223769.\n"
     ]
    },
    {
     "name": "stderr",
     "output_type": "stream",
     "text": [
      "Best trial: 216. Best value: 0.913855:  77%|███████▋  | 230/300 [14:44:11<12:53:47, 663.25s/it]"
     ]
    },
    {
     "name": "stdout",
     "output_type": "stream",
     "text": [
      "[I 2025-10-23 16:37:27,082] Trial 229 finished with value: 0.912978333014168 and parameters: {'boosting_type': 'gbdt', 'learning_rate': 0.013375490509115913, 'num_leaves': 239, 'max_depth': 7, 'feature_fraction': 0.7495420946144165, 'bagging_fraction': 0.7975104414998052, 'bagging_freq': 3, 'lambda_l1': 0.08253869082821566, 'lambda_l2': 3.5064827006394204, 'min_gain_to_split': 0.012305086032875091, 'min_data_in_leaf': 78}. Best is trial 216 with value: 0.9138551498223769.\n"
     ]
    },
    {
     "name": "stderr",
     "output_type": "stream",
     "text": [
      "Best trial: 216. Best value: 0.913855:  77%|███████▋  | 231/300 [14:45:21<9:18:04, 485.29s/it] "
     ]
    },
    {
     "name": "stdout",
     "output_type": "stream",
     "text": [
      "[I 2025-10-23 16:38:37,116] Trial 230 finished with value: 0.9113223964625826 and parameters: {'boosting_type': 'gbdt', 'learning_rate': 0.02786707489516699, 'num_leaves': 239, 'max_depth': 7, 'feature_fraction': 0.6660602517213764, 'bagging_fraction': 0.8114201371063606, 'bagging_freq': 3, 'lambda_l1': 0.0531966353174354, 'lambda_l2': 3.511266721129622, 'min_gain_to_split': 0.012013713858307268, 'min_data_in_leaf': 89}. Best is trial 216 with value: 0.9138551498223769.\n"
     ]
    },
    {
     "name": "stderr",
     "output_type": "stream",
     "text": [
      "Best trial: 216. Best value: 0.913855:  77%|███████▋  | 232/300 [14:47:29<7:08:38, 378.21s/it]"
     ]
    },
    {
     "name": "stdout",
     "output_type": "stream",
     "text": [
      "[I 2025-10-23 16:40:45,462] Trial 231 finished with value: 0.9129316369168997 and parameters: {'boosting_type': 'gbdt', 'learning_rate': 0.013300427472837167, 'num_leaves': 239, 'max_depth': 7, 'feature_fraction': 0.6935210972262109, 'bagging_fraction': 0.799825378932682, 'bagging_freq': 3, 'lambda_l1': 0.10034735067149732, 'lambda_l2': 3.376426968110945, 'min_gain_to_split': 0.01381362167282819, 'min_data_in_leaf': 73}. Best is trial 216 with value: 0.9138551498223769.\n"
     ]
    },
    {
     "name": "stderr",
     "output_type": "stream",
     "text": [
      "Best trial: 216. Best value: 0.913855:  78%|███████▊  | 233/300 [14:49:33<5:37:01, 301.81s/it]"
     ]
    },
    {
     "name": "stdout",
     "output_type": "stream",
     "text": [
      "[I 2025-10-23 16:42:49,012] Trial 232 finished with value: 0.91262748311132 and parameters: {'boosting_type': 'gbdt', 'learning_rate': 0.012606539832366927, 'num_leaves': 239, 'max_depth': 7, 'feature_fraction': 0.7305825616220616, 'bagging_fraction': 0.7936299521407523, 'bagging_freq': 3, 'lambda_l1': 0.07087742221062293, 'lambda_l2': 3.5679830228715375, 'min_gain_to_split': 0.007239930192757168, 'min_data_in_leaf': 78}. Best is trial 216 with value: 0.9138551498223769.\n"
     ]
    },
    {
     "name": "stderr",
     "output_type": "stream",
     "text": [
      "Best trial: 216. Best value: 0.913855:  78%|███████▊  | 234/300 [14:51:24<4:29:10, 244.70s/it]"
     ]
    },
    {
     "name": "stdout",
     "output_type": "stream",
     "text": [
      "[I 2025-10-23 16:44:40,462] Trial 233 finished with value: 0.9129201265586977 and parameters: {'boosting_type': 'gbdt', 'learning_rate': 0.013534123716791937, 'num_leaves': 255, 'max_depth': 7, 'feature_fraction': 0.7601240203128641, 'bagging_fraction': 0.7704941029409127, 'bagging_freq': 3, 'lambda_l1': 0.237746796104229, 'lambda_l2': 2.7393179064934516, 'min_gain_to_split': 0.03344333661785141, 'min_data_in_leaf': 82}. Best is trial 216 with value: 0.9138551498223769.\n"
     ]
    },
    {
     "name": "stderr",
     "output_type": "stream",
     "text": [
      "Best trial: 216. Best value: 0.913855:  78%|███████▊  | 235/300 [14:53:41<3:50:02, 212.35s/it]"
     ]
    },
    {
     "name": "stdout",
     "output_type": "stream",
     "text": [
      "[I 2025-10-23 16:46:57,337] Trial 234 finished with value: 0.9110486093874223 and parameters: {'boosting_type': 'gbdt', 'learning_rate': 0.014577811967442194, 'num_leaves': 223, 'max_depth': 8, 'feature_fraction': 0.7463321521714348, 'bagging_fraction': 0.7870985548700614, 'bagging_freq': 3, 'lambda_l1': 0.14845945967775212, 'lambda_l2': 1.49785194581303, 'min_gain_to_split': 0.010574863265503049, 'min_data_in_leaf': 77}. Best is trial 216 with value: 0.9138551498223769.\n"
     ]
    },
    {
     "name": "stderr",
     "output_type": "stream",
     "text": [
      "Best trial: 216. Best value: 0.913855:  79%|███████▊  | 236/300 [14:55:12<3:07:37, 175.90s/it]"
     ]
    },
    {
     "name": "stdout",
     "output_type": "stream",
     "text": [
      "[I 2025-10-23 16:48:28,178] Trial 235 finished with value: 0.9132476609516673 and parameters: {'boosting_type': 'gbdt', 'learning_rate': 0.015636141995092633, 'num_leaves': 255, 'max_depth': 6, 'feature_fraction': 0.7205364420408017, 'bagging_fraction': 0.8235230735715859, 'bagging_freq': 3, 'lambda_l1': 0.028685494102906616, 'lambda_l2': 3.4325849993933732, 'min_gain_to_split': 0.005131272011639869, 'min_data_in_leaf': 86}. Best is trial 216 with value: 0.9138551498223769.\n"
     ]
    },
    {
     "name": "stderr",
     "output_type": "stream",
     "text": [
      "Best trial: 216. Best value: 0.913855:  79%|███████▉  | 237/300 [14:56:29<2:33:35, 146.27s/it]"
     ]
    },
    {
     "name": "stdout",
     "output_type": "stream",
     "text": [
      "[I 2025-10-23 16:49:45,313] Trial 236 finished with value: 0.912819274533722 and parameters: {'boosting_type': 'gbdt', 'learning_rate': 0.01594628111931244, 'num_leaves': 127, 'max_depth': 6, 'feature_fraction': 0.7152161957199153, 'bagging_fraction': 0.8284121737644996, 'bagging_freq': 3, 'lambda_l1': 0.003908826478402409, 'lambda_l2': 3.4773996936185854, 'min_gain_to_split': 0.003696505299945572, 'min_data_in_leaf': 89}. Best is trial 216 with value: 0.9138551498223769.\n"
     ]
    },
    {
     "name": "stderr",
     "output_type": "stream",
     "text": [
      "Best trial: 216. Best value: 0.913855:  79%|███████▉  | 238/300 [14:57:59<2:13:45, 129.45s/it]"
     ]
    },
    {
     "name": "stdout",
     "output_type": "stream",
     "text": [
      "[I 2025-10-23 16:51:15,522] Trial 237 finished with value: 0.9117718529917085 and parameters: {'boosting_type': 'gbdt', 'learning_rate': 0.01734247285410205, 'num_leaves': 207, 'max_depth': 6, 'feature_fraction': 0.6850181588362104, 'bagging_fraction': 0.8194359654078336, 'bagging_freq': 3, 'lambda_l1': 0.033862184517849066, 'lambda_l2': 3.6021853030408217, 'min_gain_to_split': 0.0053321750975878855, 'min_data_in_leaf': 85}. Best is trial 216 with value: 0.9138551498223769.\n"
     ]
    },
    {
     "name": "stderr",
     "output_type": "stream",
     "text": [
      "Best trial: 216. Best value: 0.913855:  80%|███████▉  | 239/300 [14:59:13<1:54:34, 112.70s/it]"
     ]
    },
    {
     "name": "stdout",
     "output_type": "stream",
     "text": [
      "[I 2025-10-23 16:52:29,132] Trial 238 finished with value: 0.9127459731746994 and parameters: {'boosting_type': 'gbdt', 'learning_rate': 0.01567206437762158, 'num_leaves': 239, 'max_depth': 5, 'feature_fraction': 0.6069388481539328, 'bagging_fraction': 0.8417997399554249, 'bagging_freq': 3, 'lambda_l1': 0.100276712844817, 'lambda_l2': 3.232873101864, 'min_gain_to_split': 0.017968289925291467, 'min_data_in_leaf': 94}. Best is trial 216 with value: 0.9138551498223769.\n"
     ]
    },
    {
     "name": "stderr",
     "output_type": "stream",
     "text": [
      "Best trial: 216. Best value: 0.913855:  80%|████████  | 240/300 [15:00:47<1:47:05, 107.09s/it]"
     ]
    },
    {
     "name": "stdout",
     "output_type": "stream",
     "text": [
      "[I 2025-10-23 16:54:03,110] Trial 239 finished with value: 0.9132866672725473 and parameters: {'boosting_type': 'gbdt', 'learning_rate': 0.014345408118569884, 'num_leaves': 255, 'max_depth': 6, 'feature_fraction': 0.9844538683164981, 'bagging_fraction': 0.8082781793928171, 'bagging_freq': 3, 'lambda_l1': 0.04448343555013955, 'lambda_l2': 3.365650268768296, 'min_gain_to_split': 0.001695589465838837, 'min_data_in_leaf': 86}. Best is trial 216 with value: 0.9138551498223769.\n"
     ]
    },
    {
     "name": "stderr",
     "output_type": "stream",
     "text": [
      "Best trial: 216. Best value: 0.913855:  80%|████████  | 241/300 [15:02:12<1:38:55, 100.60s/it]"
     ]
    },
    {
     "name": "stdout",
     "output_type": "stream",
     "text": [
      "[I 2025-10-23 16:55:28,603] Trial 240 finished with value: 0.9111641895152356 and parameters: {'boosting_type': 'gbdt', 'learning_rate': 0.015053930251394057, 'num_leaves': 255, 'max_depth': 6, 'feature_fraction': 0.6990234578599845, 'bagging_fraction': 0.807382669591905, 'bagging_freq': 1, 'lambda_l1': 0.03735302781205896, 'lambda_l2': 3.289504830394874, 'min_gain_to_split': 0.0017640946595162978, 'min_data_in_leaf': 86}. Best is trial 216 with value: 0.9138551498223769.\n"
     ]
    },
    {
     "name": "stderr",
     "output_type": "stream",
     "text": [
      "Best trial: 241. Best value: 0.914243:  81%|████████  | 242/300 [15:04:14<1:43:24, 106.97s/it]"
     ]
    },
    {
     "name": "stdout",
     "output_type": "stream",
     "text": [
      "[I 2025-10-23 16:57:30,426] Trial 241 finished with value: 0.9142433219066382 and parameters: {'boosting_type': 'gbdt', 'learning_rate': 0.014402072841568437, 'num_leaves': 255, 'max_depth': 6, 'feature_fraction': 0.944895820123302, 'bagging_fraction': 0.8211997632722063, 'bagging_freq': 3, 'lambda_l1': 0.0007855142418538297, 'lambda_l2': 3.4756805625425016, 'min_gain_to_split': 0.0027287013314003013, 'min_data_in_leaf': 81}. Best is trial 241 with value: 0.9142433219066382.\n"
     ]
    },
    {
     "name": "stderr",
     "output_type": "stream",
     "text": [
      "Best trial: 241. Best value: 0.914243:  81%|████████  | 243/300 [15:05:36<1:34:25, 99.40s/it] "
     ]
    },
    {
     "name": "stdout",
     "output_type": "stream",
     "text": [
      "[I 2025-10-23 16:58:52,168] Trial 242 finished with value: 0.9133188850425303 and parameters: {'boosting_type': 'gbdt', 'learning_rate': 0.013941848036585143, 'num_leaves': 255, 'max_depth': 6, 'feature_fraction': 0.6166156159964563, 'bagging_fraction': 0.8141345689229714, 'bagging_freq': 3, 'lambda_l1': 0.03505402047915214, 'lambda_l2': 3.355042886440779, 'min_gain_to_split': 0.0022162458006743614, 'min_data_in_leaf': 80}. Best is trial 241 with value: 0.9142433219066382.\n"
     ]
    },
    {
     "name": "stderr",
     "output_type": "stream",
     "text": [
      "Best trial: 241. Best value: 0.914243:  81%|████████▏ | 244/300 [15:07:37<1:38:52, 105.93s/it]"
     ]
    },
    {
     "name": "stdout",
     "output_type": "stream",
     "text": [
      "[I 2025-10-23 17:00:53,349] Trial 243 finished with value: 0.9134468224624127 and parameters: {'boosting_type': 'gbdt', 'learning_rate': 0.014439644649070386, 'num_leaves': 255, 'max_depth': 6, 'feature_fraction': 0.9809640763050957, 'bagging_fraction': 0.8176473204146611, 'bagging_freq': 3, 'lambda_l1': 0.024082102202705125, 'lambda_l2': 3.3473514074867046, 'min_gain_to_split': 0.0020457816513846654, 'min_data_in_leaf': 82}. Best is trial 241 with value: 0.9142433219066382.\n"
     ]
    },
    {
     "name": "stderr",
     "output_type": "stream",
     "text": [
      "Best trial: 241. Best value: 0.914243:  82%|████████▏ | 245/300 [15:09:10<1:33:28, 101.97s/it]"
     ]
    },
    {
     "name": "stdout",
     "output_type": "stream",
     "text": [
      "[I 2025-10-23 17:02:26,053] Trial 244 finished with value: 0.9139915526019052 and parameters: {'boosting_type': 'gbdt', 'learning_rate': 0.014364971271582, 'num_leaves': 255, 'max_depth': 6, 'feature_fraction': 0.9861437825177922, 'bagging_fraction': 0.8205791187890331, 'bagging_freq': 3, 'lambda_l1': 0.015846627653197706, 'lambda_l2': 3.344085546114958, 'min_gain_to_split': 0.002056193130793606, 'min_data_in_leaf': 81}. Best is trial 241 with value: 0.9142433219066382.\n"
     ]
    },
    {
     "name": "stderr",
     "output_type": "stream",
     "text": [
      "Best trial: 241. Best value: 0.914243:  82%|████████▏ | 246/300 [15:10:53<1:32:16, 102.53s/it]"
     ]
    },
    {
     "name": "stdout",
     "output_type": "stream",
     "text": [
      "[I 2025-10-23 17:04:09,896] Trial 245 finished with value: 0.9141549554205954 and parameters: {'boosting_type': 'gbdt', 'learning_rate': 0.014380439156841184, 'num_leaves': 255, 'max_depth': 6, 'feature_fraction': 0.9903224613556135, 'bagging_fraction': 0.8197640531691857, 'bagging_freq': 3, 'lambda_l1': 0.008945849718950606, 'lambda_l2': 3.396002066908981, 'min_gain_to_split': 3.005673644107445e-05, 'min_data_in_leaf': 82}. Best is trial 241 with value: 0.9142433219066382.\n"
     ]
    },
    {
     "name": "stderr",
     "output_type": "stream",
     "text": [
      "Best trial: 246. Best value: 0.914449:  82%|████████▏ | 247/300 [15:12:26<1:27:57, 99.57s/it] "
     ]
    },
    {
     "name": "stdout",
     "output_type": "stream",
     "text": [
      "[I 2025-10-23 17:05:42,567] Trial 246 finished with value: 0.9144489553536803 and parameters: {'boosting_type': 'gbdt', 'learning_rate': 0.01477281760820308, 'num_leaves': 255, 'max_depth': 6, 'feature_fraction': 0.979934848965599, 'bagging_fraction': 0.8239524654604804, 'bagging_freq': 3, 'lambda_l1': 0.0007199066419496594, 'lambda_l2': 3.1584112930514254, 'min_gain_to_split': 0.0011043184994089846, 'min_data_in_leaf': 80}. Best is trial 246 with value: 0.9144489553536803.\n"
     ]
    },
    {
     "name": "stderr",
     "output_type": "stream",
     "text": [
      "Best trial: 247. Best value: 0.91451:  83%|████████▎ | 248/300 [15:14:22<1:30:36, 104.54s/it]"
     ]
    },
    {
     "name": "stdout",
     "output_type": "stream",
     "text": [
      "[I 2025-10-23 17:07:38,706] Trial 247 finished with value: 0.9145096322649733 and parameters: {'boosting_type': 'gbdt', 'learning_rate': 0.014346720117475667, 'num_leaves': 255, 'max_depth': 6, 'feature_fraction': 0.9952944676298193, 'bagging_fraction': 0.8216668173082509, 'bagging_freq': 3, 'lambda_l1': 0.018487314424426086, 'lambda_l2': 3.362256989326086, 'min_gain_to_split': 0.00014663142338152378, 'min_data_in_leaf': 80}. Best is trial 247 with value: 0.9145096322649733.\n"
     ]
    },
    {
     "name": "stderr",
     "output_type": "stream",
     "text": [
      "Best trial: 247. Best value: 0.91451:  83%|████████▎ | 249/300 [15:15:51<1:24:47, 99.76s/it] "
     ]
    },
    {
     "name": "stdout",
     "output_type": "stream",
     "text": [
      "[I 2025-10-23 17:09:07,321] Trial 248 finished with value: 0.913993762253122 and parameters: {'boosting_type': 'gbdt', 'learning_rate': 0.014330844293670122, 'num_leaves': 255, 'max_depth': 6, 'feature_fraction': 0.9802038129420357, 'bagging_fraction': 0.8223489177127746, 'bagging_freq': 3, 'lambda_l1': 0.0055097139927592735, 'lambda_l2': 3.286629638535839, 'min_gain_to_split': 0.0009166205029398757, 'min_data_in_leaf': 81}. Best is trial 247 with value: 0.9145096322649733.\n"
     ]
    },
    {
     "name": "stderr",
     "output_type": "stream",
     "text": [
      "Best trial: 247. Best value: 0.91451:  83%|████████▎ | 250/300 [15:17:35<1:24:10, 101.01s/it]"
     ]
    },
    {
     "name": "stdout",
     "output_type": "stream",
     "text": [
      "[I 2025-10-23 17:10:51,235] Trial 249 finished with value: 0.9132945242344629 and parameters: {'boosting_type': 'gbdt', 'learning_rate': 0.014560891172276068, 'num_leaves': 255, 'max_depth': 6, 'feature_fraction': 0.9869546427601897, 'bagging_fraction': 0.8304272075861469, 'bagging_freq': 3, 'lambda_l1': 0.002585188736814157, 'lambda_l2': 3.35015578467312, 'min_gain_to_split': 5.0479837324587246e-05, 'min_data_in_leaf': 80}. Best is trial 247 with value: 0.9145096322649733.\n"
     ]
    },
    {
     "name": "stderr",
     "output_type": "stream",
     "text": [
      "Best trial: 247. Best value: 0.91451:  84%|████████▎ | 251/300 [15:18:59<1:18:27, 96.08s/it] "
     ]
    },
    {
     "name": "stdout",
     "output_type": "stream",
     "text": [
      "[I 2025-10-23 17:12:15,824] Trial 250 finished with value: 0.9139698217173766 and parameters: {'boosting_type': 'gbdt', 'learning_rate': 0.014583420233724442, 'num_leaves': 255, 'max_depth': 6, 'feature_fraction': 0.9860177979337322, 'bagging_fraction': 0.8245461407719367, 'bagging_freq': 3, 'lambda_l1': 0.001965919177776221, 'lambda_l2': 3.368413246825714, 'min_gain_to_split': 0.00016665706934258827, 'min_data_in_leaf': 71}. Best is trial 247 with value: 0.9145096322649733.\n"
     ]
    },
    {
     "name": "stderr",
     "output_type": "stream",
     "text": [
      "Best trial: 251. Best value: 0.914858:  84%|████████▍ | 252/300 [15:20:28<1:15:06, 93.89s/it]"
     ]
    },
    {
     "name": "stdout",
     "output_type": "stream",
     "text": [
      "[I 2025-10-23 17:13:44,601] Trial 251 finished with value: 0.9148580287548755 and parameters: {'boosting_type': 'gbdt', 'learning_rate': 0.0146685089787606, 'num_leaves': 255, 'max_depth': 6, 'feature_fraction': 0.9858860399292683, 'bagging_fraction': 0.8226391742154083, 'bagging_freq': 3, 'lambda_l1': 0.007735614920456876, 'lambda_l2': 3.361829978100786, 'min_gain_to_split': 9.619347787902851e-05, 'min_data_in_leaf': 70}. Best is trial 251 with value: 0.9148580287548755.\n"
     ]
    },
    {
     "name": "stderr",
     "output_type": "stream",
     "text": [
      "Best trial: 251. Best value: 0.914858:  84%|████████▍ | 253/300 [15:21:56<1:12:11, 92.17s/it]"
     ]
    },
    {
     "name": "stdout",
     "output_type": "stream",
     "text": [
      "[I 2025-10-23 17:15:12,755] Trial 252 finished with value: 0.9130484276207012 and parameters: {'boosting_type': 'gbdt', 'learning_rate': 0.015979221795478525, 'num_leaves': 255, 'max_depth': 6, 'feature_fraction': 0.9862131712871433, 'bagging_fraction': 0.8225917619222556, 'bagging_freq': 3, 'lambda_l1': 0.014513460108716028, 'lambda_l2': 3.373326972256114, 'min_gain_to_split': 0.000462095917101564, 'min_data_in_leaf': 68}. Best is trial 251 with value: 0.9148580287548755.\n"
     ]
    },
    {
     "name": "stderr",
     "output_type": "stream",
     "text": [
      "Best trial: 251. Best value: 0.914858:  85%|████████▍ | 254/300 [15:23:32<1:11:27, 93.20s/it]"
     ]
    },
    {
     "name": "stdout",
     "output_type": "stream",
     "text": [
      "[I 2025-10-23 17:16:48,369] Trial 253 finished with value: 0.9142193917620433 and parameters: {'boosting_type': 'gbdt', 'learning_rate': 0.0148482572819708, 'num_leaves': 255, 'max_depth': 6, 'feature_fraction': 0.9803550692559684, 'bagging_fraction': 0.8350630931926203, 'bagging_freq': 3, 'lambda_l1': 0.011748082448081423, 'lambda_l2': 3.335708052508854, 'min_gain_to_split': 0.0006007957954512148, 'min_data_in_leaf': 64}. Best is trial 251 with value: 0.9148580287548755.\n"
     ]
    },
    {
     "name": "stderr",
     "output_type": "stream",
     "text": [
      "Best trial: 254. Best value: 0.91555:  85%|████████▌ | 255/300 [15:25:14<1:11:48, 95.75s/it] "
     ]
    },
    {
     "name": "stdout",
     "output_type": "stream",
     "text": [
      "[I 2025-10-23 17:18:30,050] Trial 254 finished with value: 0.9155502562335951 and parameters: {'boosting_type': 'gbdt', 'learning_rate': 0.014328694665192626, 'num_leaves': 255, 'max_depth': 6, 'feature_fraction': 0.973498540964601, 'bagging_fraction': 0.8351233611911494, 'bagging_freq': 3, 'lambda_l1': 0.0035975268754911338, 'lambda_l2': 3.2985631542214695, 'min_gain_to_split': 0.00029176449174959777, 'min_data_in_leaf': 63}. Best is trial 254 with value: 0.9155502562335951.\n"
     ]
    },
    {
     "name": "stderr",
     "output_type": "stream",
     "text": [
      "Best trial: 254. Best value: 0.91555:  85%|████████▌ | 256/300 [15:26:51<1:10:38, 96.33s/it]"
     ]
    },
    {
     "name": "stdout",
     "output_type": "stream",
     "text": [
      "[I 2025-10-23 17:20:07,747] Trial 255 finished with value: 0.9140874291693235 and parameters: {'boosting_type': 'gbdt', 'learning_rate': 0.014872056581262632, 'num_leaves': 255, 'max_depth': 6, 'feature_fraction': 0.9755967927309405, 'bagging_fraction': 0.8378825841869854, 'bagging_freq': 3, 'lambda_l1': 0.008300581732488257, 'lambda_l2': 3.3018990495969653, 'min_gain_to_split': 0.00013462086962489142, 'min_data_in_leaf': 58}. Best is trial 254 with value: 0.9155502562335951.\n"
     ]
    },
    {
     "name": "stderr",
     "output_type": "stream",
     "text": [
      "Best trial: 254. Best value: 0.91555:  86%|████████▌ | 257/300 [15:28:27<1:08:52, 96.10s/it]"
     ]
    },
    {
     "name": "stdout",
     "output_type": "stream",
     "text": [
      "[I 2025-10-23 17:21:43,308] Trial 256 finished with value: 0.9138890820819403 and parameters: {'boosting_type': 'gbdt', 'learning_rate': 0.014553170211311103, 'num_leaves': 255, 'max_depth': 6, 'feature_fraction': 0.9735220424131297, 'bagging_fraction': 0.8393336245361374, 'bagging_freq': 3, 'lambda_l1': 0.001596963060351314, 'lambda_l2': 3.316323314983792, 'min_gain_to_split': 0.00017553524668487727, 'min_data_in_leaf': 55}. Best is trial 254 with value: 0.9155502562335951.\n"
     ]
    },
    {
     "name": "stderr",
     "output_type": "stream",
     "text": [
      "Best trial: 254. Best value: 0.91555:  86%|████████▌ | 258/300 [15:29:58<1:06:15, 94.66s/it]"
     ]
    },
    {
     "name": "stdout",
     "output_type": "stream",
     "text": [
      "[I 2025-10-23 17:23:14,600] Trial 257 finished with value: 0.9136478764269468 and parameters: {'boosting_type': 'gbdt', 'learning_rate': 0.014474767113216226, 'num_leaves': 255, 'max_depth': 6, 'feature_fraction': 0.9736020563781501, 'bagging_fraction': 0.8503427580947103, 'bagging_freq': 3, 'lambda_l1': 0.00555678329550784, 'lambda_l2': 3.221118275122987, 'min_gain_to_split': 0.0005369926194079262, 'min_data_in_leaf': 65}. Best is trial 254 with value: 0.9155502562335951.\n"
     ]
    },
    {
     "name": "stderr",
     "output_type": "stream",
     "text": [
      "Best trial: 254. Best value: 0.91555:  86%|████████▋ | 259/300 [15:31:33<1:04:47, 94.83s/it]"
     ]
    },
    {
     "name": "stdout",
     "output_type": "stream",
     "text": [
      "[I 2025-10-23 17:24:49,818] Trial 258 finished with value: 0.9137763483668606 and parameters: {'boosting_type': 'gbdt', 'learning_rate': 0.014751636637932088, 'num_leaves': 255, 'max_depth': 6, 'feature_fraction': 0.9718078810187711, 'bagging_fraction': 0.839864413642091, 'bagging_freq': 3, 'lambda_l1': 0.01036305767067662, 'lambda_l2': 3.1929637355814986, 'min_gain_to_split': 6.328478594217206e-06, 'min_data_in_leaf': 57}. Best is trial 254 with value: 0.9155502562335951.\n"
     ]
    },
    {
     "name": "stderr",
     "output_type": "stream",
     "text": [
      "Best trial: 254. Best value: 0.91555:  87%|████████▋ | 260/300 [15:33:20<1:05:30, 98.27s/it]"
     ]
    },
    {
     "name": "stdout",
     "output_type": "stream",
     "text": [
      "[I 2025-10-23 17:26:36,120] Trial 259 finished with value: 0.9135078214114613 and parameters: {'boosting_type': 'gbdt', 'learning_rate': 0.015009184882444078, 'num_leaves': 255, 'max_depth': 6, 'feature_fraction': 0.9704063748603693, 'bagging_fraction': 0.852297002822807, 'bagging_freq': 3, 'lambda_l1': 0.00208825294628698, 'lambda_l2': 3.1710987607546026, 'min_gain_to_split': 0.0001122728302853644, 'min_data_in_leaf': 58}. Best is trial 254 with value: 0.9155502562335951.\n"
     ]
    },
    {
     "name": "stderr",
     "output_type": "stream",
     "text": [
      "Best trial: 254. Best value: 0.91555:  87%|████████▋ | 261/300 [15:35:09<1:06:01, 101.59s/it]"
     ]
    },
    {
     "name": "stdout",
     "output_type": "stream",
     "text": [
      "[I 2025-10-23 17:28:25,417] Trial 260 finished with value: 0.9135923763678813 and parameters: {'boosting_type': 'gbdt', 'learning_rate': 0.014894634458927466, 'num_leaves': 255, 'max_depth': 6, 'feature_fraction': 0.9707617697559001, 'bagging_fraction': 0.8530588372309571, 'bagging_freq': 3, 'lambda_l1': 0.004394095168153776, 'lambda_l2': 3.19545769367016, 'min_gain_to_split': 0.000748688133346301, 'min_data_in_leaf': 60}. Best is trial 254 with value: 0.9155502562335951.\n"
     ]
    },
    {
     "name": "stderr",
     "output_type": "stream",
     "text": [
      "Best trial: 254. Best value: 0.91555:  87%|████████▋ | 262/300 [15:58:20<5:09:21, 488.45s/it]"
     ]
    },
    {
     "name": "stdout",
     "output_type": "stream",
     "text": [
      "[I 2025-10-23 17:51:36,567] Trial 261 finished with value: 0.9072816089154233 and parameters: {'boosting_type': 'dart', 'learning_rate': 0.01512231149738305, 'num_leaves': 255, 'max_depth': 6, 'feature_fraction': 0.972399269843018, 'bagging_fraction': 0.8595419112120969, 'bagging_freq': 3, 'lambda_l1': 0.024457002728383002, 'lambda_l2': 3.1833740114632634, 'min_gain_to_split': 0.0003262195037595851, 'min_data_in_leaf': 58}. Best is trial 254 with value: 0.9155502562335951.\n"
     ]
    },
    {
     "name": "stderr",
     "output_type": "stream",
     "text": [
      "Best trial: 254. Best value: 0.91555:  88%|████████▊ | 263/300 [16:00:00<3:49:24, 372.01s/it]"
     ]
    },
    {
     "name": "stdout",
     "output_type": "stream",
     "text": [
      "[I 2025-10-23 17:53:16,887] Trial 262 finished with value: 0.9133037382505031 and parameters: {'boosting_type': 'gbdt', 'learning_rate': 0.0147334738929461, 'num_leaves': 255, 'max_depth': 6, 'feature_fraction': 0.9698231220837077, 'bagging_fraction': 0.8513692439794677, 'bagging_freq': 3, 'lambda_l1': 0.005675398260654437, 'lambda_l2': 3.2476645657017618, 'min_gain_to_split': 0.00011291012102230343, 'min_data_in_leaf': 62}. Best is trial 254 with value: 0.9155502562335951.\n"
     ]
    },
    {
     "name": "stderr",
     "output_type": "stream",
     "text": [
      "Best trial: 254. Best value: 0.91555:  88%|████████▊ | 264/300 [16:01:46<2:55:11, 291.99s/it]"
     ]
    },
    {
     "name": "stdout",
     "output_type": "stream",
     "text": [
      "[I 2025-10-23 17:55:02,169] Trial 263 finished with value: 0.91428291212997 and parameters: {'boosting_type': 'gbdt', 'learning_rate': 0.0152511629938118, 'num_leaves': 255, 'max_depth': 6, 'feature_fraction': 0.961730257553892, 'bagging_fraction': 0.8432637993106202, 'bagging_freq': 3, 'lambda_l1': 0.007301820663386057, 'lambda_l2': 3.164713036112661, 'min_gain_to_split': 0.0005834006018741475, 'min_data_in_leaf': 56}. Best is trial 254 with value: 0.9155502562335951.\n"
     ]
    },
    {
     "name": "stderr",
     "output_type": "stream",
     "text": [
      "Best trial: 254. Best value: 0.91555:  88%|████████▊ | 265/300 [16:03:36<2:18:34, 237.55s/it]"
     ]
    },
    {
     "name": "stdout",
     "output_type": "stream",
     "text": [
      "[I 2025-10-23 17:56:52,713] Trial 264 finished with value: 0.9128606473014569 and parameters: {'boosting_type': 'gbdt', 'learning_rate': 0.015300827875819371, 'num_leaves': 255, 'max_depth': 6, 'feature_fraction': 0.9607251365237753, 'bagging_fraction': 0.8544166105464417, 'bagging_freq': 3, 'lambda_l1': 0.0008506808390266619, 'lambda_l2': 3.151459518745016, 'min_gain_to_split': 0.0003445565498368287, 'min_data_in_leaf': 53}. Best is trial 254 with value: 0.9155502562335951.\n"
     ]
    }
   ],
   "source": [
    "# -*- coding: utf-8 -*-\n",
    "# Jupyter cell — LOCO + chr-disjoint HPO with expanded spaces for CatBoost/XGBoost\n",
    "\n",
    "import os, json, random, warnings\n",
    "warnings.filterwarnings(\"ignore\")\n",
    "\n",
    "import optuna\n",
    "import numpy as np\n",
    "import pandas as pd\n",
    "from scipy.stats import spearmanr\n",
    "from functools import partial\n",
    "from sklearn.metrics import roc_auc_score\n",
    "\n",
    "import lightgbm as lgb\n",
    "import xgboost as xgb\n",
    "from catboost import CatBoostClassifier, CatBoostRegressor\n",
    "\n",
    "# ========== config ==========\n",
    "SEED = 42\n",
    "random.seed(SEED); np.random.seed(SEED)\n",
    "\n",
    "TRAIN_PATH = \"../preprocessed_data/reference/1. merged data/with_y_100_one_side/X1_all_rank_features_with_y.tsv\"\n",
    "VAL_PATH   = \"../preprocessed_data/reference/1. merged data/with_y_100_one_side/X2_all_rank_features_with_y.tsv\"\n",
    "\n",
    "SAVE_ROOT = \"../results/hpo_loco_chr_disjoint\"\n",
    "os.makedirs(SAVE_ROOT, exist_ok=True)\n",
    "\n",
    "META_COLS = [\"gene_name\",\"chr\",\"gene_start\",\"gene_end\",\"TSS_start\",\"TSS_end\",\"strand\",\"gex\",\"gex_rank\"]\n",
    "TARGET_R  = \"gex_rank\"\n",
    "TARGET_B  = \"gex_binary\"\n",
    "\n",
    "# trials per study（依資源調整）\n",
    "N_TRIALS_LGBM_BIN = 300\n",
    "N_TRIALS_XGB_BIN  = 300\n",
    "N_TRIALS_CAT_BIN  = 300\n",
    "N_TRIALS_CAT_REG  = 300\n",
    "\n",
    "K_VAL_CHR = 4  # 每個 trial 驗證用的 chr 數\n",
    "\n",
    "# ========== load ==========\n",
    "df_x1 = pd.read_csv(TRAIN_PATH, sep=\"\\t\"); df_x1[\"cell_id\"] = \"X1\"\n",
    "df_x2 = pd.read_csv(VAL_PATH,   sep=\"\\t\"); df_x2[\"cell_id\"] = \"X2\"\n",
    "\n",
    "df_all = pd.concat([df_x1, df_x2], ignore_index=True)\n",
    "df_all[TARGET_B] = (df_all[\"gex\"] > 0.0).astype(int)\n",
    "\n",
    "# features\n",
    "drop_cols = set(META_COLS + [TARGET_B, \"cell_id\"])\n",
    "feature_cols = [c for c in df_all.columns if c not in drop_cols]\n",
    "chromosomes = sorted(df_all[\"chr\"].unique())\n",
    "print(f\"🧬 chromosomes: {chromosomes}\")\n",
    "print(f\"Feature count: {len(feature_cols)} | Total rows: {len(df_all):,}\")\n",
    "\n",
    "# ========== helpers ==========\n",
    "def split_loco_by_chromosomes(trial, train_cell, val_cell, k_val=K_VAL_CHR):\n",
    "    \"\"\"LOCO: train on one cell, validate on the other; chromosomes disjoint.\"\"\"\n",
    "    rng = random.Random(SEED)  # 確保每個 trial 不同\n",
    "    if k_val > len(chromosomes):\n",
    "        raise ValueError(\"k_val exceeds available chromosomes.\")\n",
    "    val_chrs = rng.sample(chromosomes, k_val)\n",
    "    tr = df_all[(df_all[\"cell_id\"] == train_cell) & (~df_all[\"chr\"].isin(val_chrs))].copy()\n",
    "    va = df_all[(df_all[\"cell_id\"] == val_cell)   & ( df_all[\"chr\"].isin(val_chrs))].copy()\n",
    "    return tr, va, val_chrs\n",
    "\n",
    "def mean_per_chr_auc(df_v, y_true, y_pred):\n",
    "    per = []\n",
    "    tmp = df_v.assign(_y=np.asarray(y_true), _p=np.asarray(y_pred))\n",
    "    for _, g in tmp.groupby(\"chr\"):\n",
    "        yt = g[\"_y\"].values; yp = g[\"_p\"].values\n",
    "        if len(np.unique(yt)) == 2 and len(yt) >= 3:\n",
    "            per.append(roc_auc_score(yt, yp))\n",
    "    return np.nanmean(per) if per else np.nan\n",
    "\n",
    "def mean_per_chr_spearman(df_v, y_true, y_pred):\n",
    "    per = []\n",
    "    tmp = df_v.assign(_y=np.asarray(y_true), _p=np.asarray(y_pred))\n",
    "    for _, g in tmp.groupby(\"chr\"):\n",
    "        if len(g) >= 3:\n",
    "            per.append(spearmanr(g[\"_y\"], g[\"_p\"])[0])\n",
    "    return np.nanmean(per) if per else np.nan\n",
    "\n",
    "# ========== objectives ==========\n",
    "def objective_lgbm_bin(trial, train_cell, val_cell):\n",
    "    tr, va, _ = split_loco_by_chromosomes(trial, train_cell, val_cell)\n",
    "    X_tr, y_tr = tr[feature_cols], tr[TARGET_B]\n",
    "    X_va, y_va = va[feature_cols], va[TARGET_B]\n",
    "{\"objective\": \"binary\",        \"verbosity\": -1,\n",
    "        \"seed\": SEED,\n",
    "        \"deterministic\": True,\n",
    "        \"force_row_wise\": True,\n",
    "        \"metric\": \"auc\",'boosting_type': 'gbdt', 'learning_rate': 0.014346720117475667, 'num_leaves': 255, 'max_depth': 6, 'feature_fraction': 0.9952944676298193, 'bagging_fraction': 0.8216668173082509, 'bagging_freq': 3, 'lambda_l1': 0.018487314424426086, 'lambda_l2': 3.362256989326086, 'min_gain_to_split': 0.00014663142338152378, 'min_data_in_leaf': 80}. Best is trial 247 with value: 0.9145096322649733.\n",
    "\n",
    "    params = {\n",
    "        \"objective\": \"binary\",\n",
    "        \"metric\": \"auc\",\n",
    "        \"boosting_type\": trial.suggest_categorical(\"boosting_type\", [\"gbdt\", \"dart\"]),\n",
    "        \"learning_rate\": trial.suggest_float(\"learning_rate\", 0.01, 0.1, log=True),\n",
    "        \"num_leaves\": trial.suggest_int(\"num_leaves\", 31, 255, step=16),\n",
    "        \"max_depth\": trial.suggest_int(\"max_depth\", -1, 12),\n",
    "        \"feature_fraction\": trial.suggest_float(\"feature_fraction\", 0.6, 1.0),\n",
    "        \"bagging_fraction\": trial.suggest_float(\"bagging_fraction\", 0.5, 1.0),\n",
    "        \"bagging_freq\": trial.suggest_int(\"bagging_freq\", 1, 7),\n",
    "        \"lambda_l1\": trial.suggest_float(\"lambda_l1\", 0.0, 2.0),\n",
    "        \"lambda_l2\": trial.suggest_float(\"lambda_l2\", 0.0, 5.0),\n",
    "        \"min_gain_to_split\": trial.suggest_float(\"min_gain_to_split\", 0.0, 0.1),\n",
    "        \"min_data_in_leaf\": trial.suggest_int(\"min_data_in_leaf\", 10, 200),\n",
    "        \"verbosity\": -1,\n",
    "        \"seed\": SEED,\n",
    "        \"deterministic\": True,\n",
    "        \"force_row_wise\": True,\n",
    "    }\n",
    "    dtr = lgb.Dataset(X_tr, label=y_tr); dva = lgb.Dataset(X_va, label=y_va, reference=dtr)\n",
    "    mdl = lgb.train(params, dtr, valid_sets=[dva], num_boost_round=6000,\n",
    "                    callbacks=[lgb.early_stopping(200, verbose=False)])\n",
    "    p = mdl.predict(X_va, num_iteration=mdl.best_iteration)\n",
    "    auc_chr = mean_per_chr_auc(va, y_va, p)\n",
    "    auc_all = roc_auc_score(y_va, p)\n",
    "    return auc_chr if not np.isnan(auc_chr) else auc_all\n",
    "\n",
    "# ========== run studies for both LOCO directions ==========\n",
    "def run_and_save(name, objective_fn, n_trials, train_cell, val_cell):\n",
    "    tag = f\"{name}_{train_cell}_to_{val_cell}\"\n",
    "    print(f\"\\n===== 🔎 Start study: {tag} | trials={n_trials} =====\")\n",
    "    study = optuna.create_study(direction=\"maximize\",\n",
    "                                sampler=optuna.samplers.TPESampler(seed=SEED))\n",
    "    study.optimize(partial(objective_fn, train_cell=train_cell, val_cell=val_cell),\n",
    "                   n_trials=n_trials, show_progress_bar=True)\n",
    "    print(f\"✅ {tag} Best value: {study.best_value}\")\n",
    "    print(\"🏆 Best params:\")\n",
    "    for k,v in study.best_params.items():\n",
    "        print(f\"  {k}: {v}\")\n",
    "    out_dir = os.path.join(SAVE_ROOT, tag); os.makedirs(out_dir, exist_ok=True)\n",
    "    study.trials_dataframe().to_csv(os.path.join(out_dir, \"trials_log.csv\"), index=False)\n",
    "    with open(os.path.join(out_dir, \"best_params.json\"), \"w\") as f:\n",
    "        json.dump(study.best_params, f, indent=4)\n",
    "    print(f\"💾 Saved to {out_dir}\")\n",
    "    return study\n",
    "\n",
    "PAIRS = [(\"X1\",\"X2\"), (\"X2\",\"X1\")]\n",
    "\n",
    "for a,b in PAIRS:\n",
    "    run_and_save(\"lgbm_binary\",  objective_lgbm_bin, N_TRIALS_LGBM_BIN, a, b)"
   ]
  }
 ],
 "metadata": {
  "kernelspec": {
   "display_name": "ml4g_project1",
   "language": "python",
   "name": "python3"
  },
  "language_info": {
   "codemirror_mode": {
    "name": "ipython",
    "version": 3
   },
   "file_extension": ".py",
   "mimetype": "text/x-python",
   "name": "python",
   "nbconvert_exporter": "python",
   "pygments_lexer": "ipython3",
   "version": "3.12.11"
  }
 },
 "nbformat": 4,
 "nbformat_minor": 2
}
