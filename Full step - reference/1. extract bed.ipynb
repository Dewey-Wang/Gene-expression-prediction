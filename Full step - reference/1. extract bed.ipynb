{
 "cells": [
  {
   "cell_type": "markdown",
   "metadata": {},
   "source": [
    "# Features engineer"
   ]
  },
  {
   "cell_type": "code",
   "execution_count": null,
   "metadata": {},
   "outputs": [],
   "source": [
    "import numpy as np\n",
    "import pandas as pd\n",
    "from tqdm import tqdm\n",
    "from dataclasses import dataclass\n",
    "from typing import List, Dict\n",
    "\n",
    "# ============================================================\n",
    "# ⚙️ Normalize utility\n",
    "# ============================================================\n",
    "def normalize_array(x: np.ndarray, mode: str = \"none\", global_mean=None, global_std=None) -> np.ndarray:\n",
    "    \"\"\"多模式 normalization\"\"\"\n",
    "    if len(x) == 0:\n",
    "        return x\n",
    "    if mode == \"none\":\n",
    "        return x\n",
    "    elif mode == \"zscore\":\n",
    "        if global_mean is None or global_std is None:\n",
    "            raise ValueError(\"Missing global mean/std for zscore.\")\n",
    "        return (x - global_mean) / (global_std + 1e-8)\n",
    "    elif mode == \"log_zscore\":\n",
    "        x = np.log1p(np.clip(x, a_min=0, a_max=None))\n",
    "        if global_mean is None or global_std is None:\n",
    "            global_mean, global_std = np.mean(x), np.std(x)\n",
    "        return (x - global_mean) / (global_std + 1e-8)\n",
    "    else:\n",
    "        raise ValueError(f\"Unsupported normalization mode: {mode}\")\n",
    "\n",
    "\n",
    "# ============================================================\n",
    "# 📏 Helper functions\n",
    "# ============================================================\n",
    "@dataclass\n",
    "class Interval:\n",
    "    start: int\n",
    "    end: int\n",
    "\n",
    "def union_length(intervals: List[Interval]) -> int:\n",
    "    if not intervals:\n",
    "        return 0\n",
    "    intervals.sort(key=lambda iv: (iv.start, iv.end))\n",
    "    total = 0\n",
    "    cs, ce = intervals[0].start, intervals[0].end\n",
    "    for iv in intervals[1:]:\n",
    "        if iv.start > ce:\n",
    "            total += ce - cs\n",
    "            cs, ce = iv.start, iv.end\n",
    "        elif iv.end > ce:\n",
    "            ce = iv.end\n",
    "    total += ce - cs\n",
    "    return total\n",
    "\n",
    "def get_tss_region(row, window=1000):\n",
    "    \"\"\"根據 strand (+/-) 給出 promoter (TSS ± window) 區域\"\"\"\n",
    "    if row[\"strand\"] == \"+\":\n",
    "        start = max(0, row[\"TSS_start\"] - window)\n",
    "        end = row[\"TSS_end\"]\n",
    "    else:  # strand == \"-\"\n",
    "        start = row[\"TSS_start\"]\n",
    "        end = row[\"TSS_end\"] + window\n",
    "    return start, end\n",
    "\n",
    "def gene_region(row):\n",
    "    return int(row[\"gene_start\"]), int(row[\"gene_end\"])\n",
    "\n",
    "def select_mask(peaks_chr: pd.DataFrame, start: int, end: int) -> pd.Series:\n",
    "    return (peaks_chr[\"summit\"] >= start) & (peaks_chr[\"summit\"] < end)\n",
    "\n",
    "def shannon_entropy_from_weights(weights: np.ndarray) -> float:\n",
    "    s = float(weights.sum())\n",
    "    if s <= 0:\n",
    "        return 0.0\n",
    "    p = weights / s\n",
    "    p = p[p > 0]\n",
    "    return float(-(p * np.log2(p)).sum()) if p.size else 0.0\n",
    "\n",
    "def spacing_std_from_positions(pos: np.ndarray) -> float:\n",
    "    if pos.size < 2:\n",
    "        return 0.0\n",
    "    diffs = np.diff(np.sort(pos))\n",
    "    return float(diffs.std(ddof=0))\n",
    "\n",
    "# ============================================================\n",
    "# 🧬 主函式\n",
    "# ============================================================\n",
    "def compute_features(df_genes: pd.DataFrame,\n",
    "                     peaks_by_chr: Dict[str, pd.DataFrame],\n",
    "                     region: str = \"gene\",\n",
    "                     tss_window_bp: int = 5000,\n",
    "                     norm_mode: str = \"none\") -> pd.DataFrame:\n",
    "    assert region in {\"gene\", \"tss\"}\n",
    "    rows = []\n",
    "    peak_densities = []  # 🆕 收集所有 density\n",
    "\n",
    "    # === 統一 global mean/std ===\n",
    "    all_signals = np.concatenate([v[\"signal_value\"].to_numpy() for v in peaks_by_chr.values()])\n",
    "    global_mean = np.mean(all_signals)\n",
    "    global_std = np.std(all_signals)\n",
    "    print(f\"🌍 Global mean/std (signal): {global_mean:.4f}, {global_std:.4f}\")\n",
    "\n",
    "    for _, g in tqdm(df_genes.iterrows(), total=len(df_genes), desc=f\"Computing {region} features\"):\n",
    "        chrom = g[\"chr\"]\n",
    "        if chrom not in peaks_by_chr:\n",
    "            rows.append({\"gene_name\": g[\"gene_name\"], \"has_peak\": 0})\n",
    "            continue\n",
    "\n",
    "        start, end = (gene_region(g) if region == \"gene\" else get_tss_region(g, window=tss_window_bp))\n",
    "        peaks_chr = peaks_by_chr[chrom]\n",
    "        sub = peaks_chr.loc[select_mask(peaks_chr, start, end)]\n",
    "        if sub.empty:\n",
    "            rows.append({\"gene_name\": g[\"gene_name\"], \"has_peak\": 0})\n",
    "            continue\n",
    "\n",
    "        s_val = sub[\"signal_value\"].to_numpy()\n",
    "        w = sub[\"width\"].to_numpy()\n",
    "        qv = sub[\"q_value\"].to_numpy()\n",
    "        sc = sub[\"score\"].to_numpy()\n",
    "        summits = sub[\"summit\"].to_numpy()\n",
    "\n",
    "        # === Normalize signal_value ===\n",
    "        s_val_norm = normalize_array(s_val, mode=norm_mode, global_mean=global_mean, global_std=global_std)\n",
    "\n",
    "        region_len = max(1, end - start)\n",
    "        ivs = [Interval(int(s), int(e)) for s, e in zip(sub[\"start\"], sub[\"end\"])]\n",
    "        cov = union_length(ivs) / region_len\n",
    "        n = len(sub)\n",
    "        peak_density = n / region_len\n",
    "        peak_densities.append(peak_density)\n",
    "\n",
    "        # === 統計計算統一函式 ===\n",
    "        def stat_block(arr):\n",
    "            if arr.size == 0:\n",
    "                return dict(sum=0.0, mean=0.0, std=0.0, min=0.0, max=0.0, diff=0.0)\n",
    "            return dict(\n",
    "                sum=float(np.sum(arr)),\n",
    "                mean=float(np.mean(arr)),\n",
    "                std=float(np.std(arr, ddof=0)),\n",
    "                min=float(np.min(arr)),\n",
    "                max=float(np.max(arr)),\n",
    "                diff=float(np.max(arr) - np.min(arr))\n",
    "            )\n",
    "\n",
    "        stat_signal = stat_block(s_val_norm)\n",
    "        stat_width  = stat_block(w)\n",
    "        stat_qvalue = stat_block(qv)\n",
    "        stat_score  = stat_block(sc)\n",
    "\n",
    "        rows.append({\n",
    "            \"gene_name\": g[\"gene_name\"],\n",
    "            \"has_peak\": 1,\n",
    "            \"num_peaks\": n,\n",
    "            \"peak_density\": peak_density,  # 🆕 暫時未 normalize\n",
    "            **{f\"signal_{k}\": v for k, v in stat_signal.items()},\n",
    "            **{f\"width_{k}\": v for k, v in stat_width.items()},\n",
    "            **{f\"qvalue_{k}\": v for k, v in stat_qvalue.items()},\n",
    "            **{f\"score_{k}\": v for k, v in stat_score.items()},\n",
    "            \"coverage_ratio\": cov,\n",
    "            \"peak_entropy\": shannon_entropy_from_weights(s_val_norm),\n",
    "            \"spacing_std\": spacing_std_from_positions(summits),\n",
    "            \"width_entropy\": float(-np.sum((w / w.sum()) * np.log2((w / w.sum()) + 1e-8))) if w.sum() > 0 else 0.0,\n",
    "            \"compactness\": cov / n if n > 0 else 0.0,\n",
    "            \"peak_pos_entropy\": (\n",
    "                lambda hist: float(-np.sum(hist * np.log2(hist + 1e-8)))\n",
    "            )(np.histogram(np.clip((summits - start) / region_len, 0, 1),\n",
    "                           bins=5, range=(0, 1))[0] / max(1, n))\n",
    "            if region_len > 0 and len(summits) > 0 else 0.0,\n",
    "            \"closest_peak_to_TSS\": float(np.abs(summits - ((g[\"TSS_start\"] + g[\"TSS_end\"]) / 2)).min()),\n",
    "            \"directional_peak_bias\": (\n",
    "                (np.sum(summits > ((g[\"TSS_start\"] + g[\"TSS_end\"]) / 2)) -\n",
    "                 np.sum(summits < ((g[\"TSS_start\"] + g[\"TSS_end\"]) / 2))) / n if n > 0 else 0.0\n",
    "            ),\n",
    "            \"signal_weighted_dist_to_TSS\": (\n",
    "                float(np.sum(s_val_norm * np.abs(summits - ((g[\"TSS_start\"] + g[\"TSS_end\"]) / 2)))) / np.sum(s_val_norm)\n",
    "                if np.sum(s_val_norm) > 0 else 0.0\n",
    "            ),\n",
    "        })\n",
    "\n",
    "    # === 組裝結果表 ===\n",
    "    df = pd.DataFrame(rows)\n",
    "\n",
    "    # === 🧮 peak_density 做 0–1 normalization ===\n",
    "    if \"peak_density\" in df.columns:\n",
    "        min_d, max_d = np.nanmin(peak_densities), np.nanmax(peak_densities)\n",
    "        if max_d > min_d:\n",
    "            df[\"peak_density\"] = (df[\"peak_density\"] - min_d) / (max_d - min_d)\n",
    "        else:\n",
    "            df[\"peak_density\"] = 0.0\n",
    "\n",
    "    # === 🧹 把所有 NaN 補 0 ===\n",
    "    df = df.replace([np.inf, -np.inf], np.nan)\n",
    "    df = df.fillna(0.0)\n",
    "    df = df.applymap(lambda x: 0.0 if isinstance(x, float) and not np.isfinite(x) else x)\n",
    "\n",
    "    return df\n"
   ]
  },
  {
   "cell_type": "code",
   "execution_count": null,
   "metadata": {},
   "outputs": [
    {
     "name": "stdout",
     "output_type": "stream",
     "text": [
      "📖 Loaded reference table: ../preprocessed_data/reference/reference_gene_table.tsv (18268 genes)\n",
      "📂 Loaded 135476 peaks from ../ML4G_Project_1_Data/H3K4me1-bed/X2.bed\n",
      "🌍 Global mean/std (signal): 4.1086, 1.0515\n"
     ]
    },
    {
     "name": "stderr",
     "output_type": "stream",
     "text": [
      "Computing gene features: 100%|██████████| 18268/18268 [00:08<00:00, 2246.50it/s]\n",
      "/var/folders/7g/j5s0yzcj34l3v043s7znkplc0000gn/T/ipykernel_65120/4241374501.py:186: FutureWarning: DataFrame.applymap has been deprecated. Use DataFrame.map instead.\n",
      "  df = df.applymap(lambda x: 0.0 if isinstance(x, float) and not np.isfinite(x) else x)\n"
     ]
    },
    {
     "name": "stdout",
     "output_type": "stream",
     "text": [
      "🌍 Global mean/std (signal): 4.1086, 1.0515\n"
     ]
    },
    {
     "name": "stderr",
     "output_type": "stream",
     "text": [
      "Computing tss features: 100%|██████████| 18268/18268 [00:06<00:00, 2884.81it/s]\n"
     ]
    }
   ],
   "source": [
    "# ============================================================\n",
    "#                  基本設定\n",
    "# ============================================================\n",
    "REF_PATH = \"../preprocessed_data/reference/reference_gene_table.tsv\"\n",
    "PEAK_FILE = \"../ML4G_Project_1_Data/H3K4me1-bed/X2.bed\"\n",
    "OUTPUT_PATH = \"../preprocessed_data/reference/0. raw_bed/X2_raw_bed_fullFeatures.tsv\"\n",
    "\n",
    "TSS_WINDOW_BP = 5000\n",
    "MARK_NAME = \"H3K4me1\"\n",
    "\n",
    "# ============================================================\n",
    "#                  載入資料\n",
    "# ============================================================\n",
    "ref_genes = pd.read_csv(REF_PATH, sep=\"\\t\")\n",
    "print(f\"📖 Loaded reference table: {REF_PATH} ({len(ref_genes)} genes)\")\n",
    "\n",
    "df_peaks = pd.read_csv(\n",
    "    PEAK_FILE, sep=\"\\t\", header=None,\n",
    "    names=[\"chr\", \"start\", \"end\", \"name\", \"score\", \"strand\", \"signal_value\", \"p_value\", \"q_value\", \"peak\"],\n",
    "    dtype={\"chr\": str, \"start\": np.int64, \"end\": np.int64, \"name\": str, \"score\": float,\n",
    "           \"strand\": str, \"signal_value\": float, \"p_value\": float, \"q_value\": float, \"peak\": np.int64}\n",
    ")\n",
    "print(f\"📂 Loaded {len(df_peaks)} peaks from {PEAK_FILE}\")\n",
    "\n",
    "df_peaks[\"summit\"] = df_peaks[\"start\"] + df_peaks[\"peak\"]\n",
    "df_peaks[\"width\"] = df_peaks[\"end\"] - df_peaks[\"start\"]\n",
    "peaks_by_chr: Dict[str, pd.DataFrame] = {c: sub.reset_index(drop=True) for c, sub in df_peaks.groupby(\"chr\", sort=False)}\n",
    "\n",
    "\n",
    "feat_gene = compute_features(ref_genes, peaks_by_chr, region=\"gene\", norm_mode=\"log_zscore\")\n",
    "feat_tss  = compute_features(ref_genes, peaks_by_chr, region=\"tss\", norm_mode=\"log_zscore\")\n",
    "\n",
    "# 加上標籤方便 merge\n",
    "feat_gene = feat_gene.rename(columns={c: f\"{MARK_NAME}_gene_{c}\" for c in feat_gene.columns if c != \"gene_name\"})\n",
    "feat_tss  = feat_tss.rename(columns={c: f\"{MARK_NAME}_tss_{c}\" for c in feat_tss.columns if c != \"gene_name\"})\n",
    "\n",
    "df_out = (ref_genes[[\"gene_name\"]]\n",
    "          .merge(feat_gene, on=\"gene_name\", how=\"left\")\n",
    "          .merge(feat_tss,  on=\"gene_name\", how=\"left\"))\n",
    "df_out = df_out.fillna(0.0)"
   ]
  },
  {
   "cell_type": "code",
   "execution_count": null,
   "metadata": {},
   "outputs": [],
   "source": [
    "import os\n",
    "import numpy as np\n",
    "import pandas as pd\n",
    "from typing import List\n",
    "\n",
    "# ============================================================\n",
    "#                  批次整合多 mark / 多 cell line\n",
    "# ============================================================\n",
    "def process_cellline(cell_name: str,\n",
    "                     marks: List[str],\n",
    "                     base_dir: str,\n",
    "                     ref_path: str,\n",
    "                     tss_window_bp: int = 5000,\n",
    "                     output_dir: str = \"../preprocessed_data/reference/0. raw_bed\",\n",
    "                     norm_mode: str = \"log_zscore\"):\n",
    "    \"\"\"\n",
    "    對指定 cell line (如 X1) 的所有 histone marks 一次處理。\n",
    "    使用 reference_gene_table.tsv 為基準。\n",
    "    支援 normalization 模式 (none / zscore / log_zscore)\n",
    "    \"\"\"\n",
    "    print(f\"\\n=== 🧬 Processing Cell Line: {cell_name} ===\")\n",
    "    print(f\"Normalization mode: {norm_mode}\")\n",
    "\n",
    "    # --- 載入 reference ---\n",
    "    df_genes = pd.read_csv(ref_path, sep=\"\\t\")\n",
    "    print(f\"📖 Loaded reference table: {len(df_genes)} genes\")\n",
    "\n",
    "    # --- 基礎表格 ---\n",
    "    df_all = df_genes[[\"gene_name\", \"chr\", \"strand\", \"gene_start\", \"gene_end\", \"TSS_start\", \"TSS_end\"]].copy()\n",
    "\n",
    "    # --- 每個 mark 處理 ---\n",
    "    for mark in marks:\n",
    "        bed_path = os.path.join(base_dir, f\"{mark}-bed\", f\"{cell_name}.bed\")\n",
    "        if not os.path.exists(bed_path):\n",
    "            print(f\"⚠️ Missing {mark} for {cell_name}: {bed_path}\")\n",
    "            continue\n",
    "\n",
    "        print(f\"\\n📘 Reading {mark} ({cell_name}) ...\")\n",
    "        df_peaks = pd.read_csv(\n",
    "            bed_path, sep=\"\\t\", header=None,\n",
    "            names=[\"chr\", \"start\", \"end\", \"name\", \"score\", \"strand\",\n",
    "                   \"signal_value\", \"p_value\", \"q_value\", \"peak\"],\n",
    "            dtype={\"chr\": str, \"start\": np.int64, \"end\": np.int64,\n",
    "                   \"name\": str, \"score\": float, \"strand\": str,\n",
    "                   \"signal_value\": float, \"p_value\": float,\n",
    "                   \"q_value\": float, \"peak\": np.int64}\n",
    "        )\n",
    "\n",
    "        # === 基本欄位處理 ===\n",
    "        df_peaks[\"summit\"] = df_peaks[\"start\"] + df_peaks[\"peak\"]\n",
    "        df_peaks[\"width\"] = df_peaks[\"end\"] - df_peaks[\"start\"]\n",
    "        peaks_by_chr = {c: sub.reset_index(drop=True) for c, sub in df_peaks.groupby(\"chr\", sort=False)}\n",
    "        print(f\"📊 Loaded {len(df_peaks)} peaks, grouped into {len(peaks_by_chr)} chromosomes\")\n",
    "\n",
    "        # === 計算特徵 ===\n",
    "        print(f\"⚙️ Computing features for {mark} ({cell_name}) ...\")\n",
    "        feat_gene = compute_features(df_genes, peaks_by_chr, region=\"gene\", tss_window_bp=tss_window_bp, norm_mode=norm_mode)\n",
    "        feat_tss  = compute_features(df_genes, peaks_by_chr, region=\"tss\",  tss_window_bp=tss_window_bp, norm_mode=norm_mode)\n",
    "\n",
    "        # === 加上前綴標籤 ===\n",
    "        feat_gene = feat_gene.rename(columns={c: f\"{mark}_gene_{c}\" for c in feat_gene.columns if c != \"gene_name\"})\n",
    "        feat_tss  = feat_tss.rename(columns={c: f\"{mark}_tss_{c}\"  for c in feat_tss.columns if c != \"gene_name\"})\n",
    "\n",
    "        # === 合併進主表 ===\n",
    "        df_all = df_all.merge(feat_gene, on=\"gene_name\", how=\"left\")\n",
    "        df_all = df_all.merge(feat_tss,  on=\"gene_name\", how=\"left\")\n",
    "\n",
    "    # === 補 0 ===\n",
    "    df_all = df_all.fillna(0.0)\n",
    "\n",
    "    # === 動態輸出檔名 ===\n",
    "    norm_suffix = {\n",
    "        \"none\": \"raw\",\n",
    "        \"zscore\": \"zscore\",\n",
    "        \"log_zscore\": \"logzscore\"\n",
    "    }.get(norm_mode, norm_mode)\n",
    "\n",
    "    os.makedirs(output_dir, exist_ok=True)\n",
    "    out_path = os.path.join(output_dir, f\"{cell_name}_{norm_suffix}.tsv\")\n",
    "    df_all.to_csv(out_path, sep=\"\\t\", index=False)\n",
    "\n",
    "    print(f\"\\n✅ Saved: {out_path}\")\n",
    "    print(f\"📊 Final shape: {df_all.shape[0]} genes × {df_all.shape[1]} columns\")\n",
    "    return df_all\n",
    "\n",
    "\n"
   ]
  },
  {
   "cell_type": "code",
   "execution_count": 6,
   "metadata": {},
   "outputs": [
    {
     "name": "stdout",
     "output_type": "stream",
     "text": [
      "\n",
      "=== 🧬 Processing Cell Line: X1 ===\n",
      "Normalization mode: log_zscore\n",
      "📖 Loaded reference table: 18268 genes\n",
      "\n",
      "📘 Reading DNase (X1) ...\n",
      "📊 Loaded 56452 peaks, grouped into 24 chromosomes\n",
      "⚙️ Computing features for DNase (X1) ...\n",
      "🌍 Global mean/std (signal): 41.9516, 69.8208\n"
     ]
    },
    {
     "name": "stderr",
     "output_type": "stream",
     "text": [
      "Computing gene features: 100%|██████████| 18268/18268 [00:07<00:00, 2565.39it/s]\n",
      "/var/folders/7g/j5s0yzcj34l3v043s7znkplc0000gn/T/ipykernel_74264/3463236200.py:191: FutureWarning: DataFrame.applymap has been deprecated. Use DataFrame.map instead.\n",
      "  df = df.applymap(lambda x: 0.0 if isinstance(x, float) and not np.isfinite(x) else x)\n"
     ]
    },
    {
     "name": "stdout",
     "output_type": "stream",
     "text": [
      "🌍 Global mean/std (signal): 41.9516, 69.8208\n"
     ]
    },
    {
     "name": "stderr",
     "output_type": "stream",
     "text": [
      "Computing tss features: 100%|██████████| 18268/18268 [00:04<00:00, 3859.00it/s]\n"
     ]
    },
    {
     "name": "stdout",
     "output_type": "stream",
     "text": [
      "\n",
      "📘 Reading H3K27ac (X1) ...\n",
      "📊 Loaded 57887 peaks, grouped into 30 chromosomes\n",
      "⚙️ Computing features for H3K27ac (X1) ...\n",
      "🌍 Global mean/std (signal): 10.4143, 8.9643\n"
     ]
    },
    {
     "name": "stderr",
     "output_type": "stream",
     "text": [
      "Computing gene features: 100%|██████████| 18268/18268 [00:05<00:00, 3072.20it/s]\n",
      "/var/folders/7g/j5s0yzcj34l3v043s7znkplc0000gn/T/ipykernel_74264/3463236200.py:191: FutureWarning: DataFrame.applymap has been deprecated. Use DataFrame.map instead.\n",
      "  df = df.applymap(lambda x: 0.0 if isinstance(x, float) and not np.isfinite(x) else x)\n"
     ]
    },
    {
     "name": "stdout",
     "output_type": "stream",
     "text": [
      "🌍 Global mean/std (signal): 10.4143, 8.9643\n"
     ]
    },
    {
     "name": "stderr",
     "output_type": "stream",
     "text": [
      "Computing tss features: 100%|██████████| 18268/18268 [00:03<00:00, 5495.03it/s]\n"
     ]
    },
    {
     "name": "stdout",
     "output_type": "stream",
     "text": [
      "\n",
      "📘 Reading H3K4me3 (X1) ...\n",
      "📊 Loaded 42002 peaks, grouped into 30 chromosomes\n",
      "⚙️ Computing features for H3K4me3 (X1) ...\n",
      "🌍 Global mean/std (signal): 8.1494, 4.5913\n"
     ]
    },
    {
     "name": "stderr",
     "output_type": "stream",
     "text": [
      "Computing gene features: 100%|██████████| 18268/18268 [00:06<00:00, 2941.71it/s]\n",
      "/var/folders/7g/j5s0yzcj34l3v043s7znkplc0000gn/T/ipykernel_74264/3463236200.py:191: FutureWarning: DataFrame.applymap has been deprecated. Use DataFrame.map instead.\n",
      "  df = df.applymap(lambda x: 0.0 if isinstance(x, float) and not np.isfinite(x) else x)\n"
     ]
    },
    {
     "name": "stdout",
     "output_type": "stream",
     "text": [
      "🌍 Global mean/std (signal): 8.1494, 4.5913\n"
     ]
    },
    {
     "name": "stderr",
     "output_type": "stream",
     "text": [
      "Computing tss features: 100%|██████████| 18268/18268 [00:03<00:00, 5085.79it/s]\n"
     ]
    },
    {
     "name": "stdout",
     "output_type": "stream",
     "text": [
      "\n",
      "📘 Reading H3K27me3 (X1) ...\n",
      "📊 Loaded 26900 peaks, grouped into 24 chromosomes\n",
      "⚙️ Computing features for H3K27me3 (X1) ...\n",
      "🌍 Global mean/std (signal): 35.4562, 7.7610\n"
     ]
    },
    {
     "name": "stderr",
     "output_type": "stream",
     "text": [
      "Computing gene features: 100%|██████████| 18268/18268 [00:04<00:00, 4200.86it/s]\n",
      "/var/folders/7g/j5s0yzcj34l3v043s7znkplc0000gn/T/ipykernel_74264/3463236200.py:191: FutureWarning: DataFrame.applymap has been deprecated. Use DataFrame.map instead.\n",
      "  df = df.applymap(lambda x: 0.0 if isinstance(x, float) and not np.isfinite(x) else x)\n"
     ]
    },
    {
     "name": "stdout",
     "output_type": "stream",
     "text": [
      "🌍 Global mean/std (signal): 35.4562, 7.7610\n"
     ]
    },
    {
     "name": "stderr",
     "output_type": "stream",
     "text": [
      "Computing tss features: 100%|██████████| 18268/18268 [00:02<00:00, 6213.80it/s]\n"
     ]
    },
    {
     "name": "stdout",
     "output_type": "stream",
     "text": [
      "\n",
      "📘 Reading H3K36me3 (X1) ...\n",
      "📊 Loaded 81541 peaks, grouped into 27 chromosomes\n",
      "⚙️ Computing features for H3K36me3 (X1) ...\n",
      "🌍 Global mean/std (signal): 6.3442, 1.7012\n"
     ]
    },
    {
     "name": "stderr",
     "output_type": "stream",
     "text": [
      "Computing gene features: 100%|██████████| 18268/18268 [00:05<00:00, 3178.66it/s]\n",
      "/var/folders/7g/j5s0yzcj34l3v043s7znkplc0000gn/T/ipykernel_74264/3463236200.py:191: FutureWarning: DataFrame.applymap has been deprecated. Use DataFrame.map instead.\n",
      "  df = df.applymap(lambda x: 0.0 if isinstance(x, float) and not np.isfinite(x) else x)\n"
     ]
    },
    {
     "name": "stdout",
     "output_type": "stream",
     "text": [
      "🌍 Global mean/std (signal): 6.3442, 1.7012\n"
     ]
    },
    {
     "name": "stderr",
     "output_type": "stream",
     "text": [
      "Computing tss features: 100%|██████████| 18268/18268 [00:03<00:00, 5940.80it/s]\n"
     ]
    },
    {
     "name": "stdout",
     "output_type": "stream",
     "text": [
      "\n",
      "📘 Reading H3K4me1 (X1) ...\n",
      "📊 Loaded 89812 peaks, grouped into 26 chromosomes\n",
      "⚙️ Computing features for H3K4me1 (X1) ...\n",
      "🌍 Global mean/std (signal): 4.7735, 1.7659\n"
     ]
    },
    {
     "name": "stderr",
     "output_type": "stream",
     "text": [
      "Computing gene features: 100%|██████████| 18268/18268 [00:06<00:00, 2669.85it/s]\n",
      "/var/folders/7g/j5s0yzcj34l3v043s7znkplc0000gn/T/ipykernel_74264/3463236200.py:191: FutureWarning: DataFrame.applymap has been deprecated. Use DataFrame.map instead.\n",
      "  df = df.applymap(lambda x: 0.0 if isinstance(x, float) and not np.isfinite(x) else x)\n"
     ]
    },
    {
     "name": "stdout",
     "output_type": "stream",
     "text": [
      "🌍 Global mean/std (signal): 4.7735, 1.7659\n"
     ]
    },
    {
     "name": "stderr",
     "output_type": "stream",
     "text": [
      "Computing tss features: 100%|██████████| 18268/18268 [00:02<00:00, 6600.52it/s]\n"
     ]
    },
    {
     "name": "stdout",
     "output_type": "stream",
     "text": [
      "\n",
      "📘 Reading H3K9me3 (X1) ...\n",
      "📊 Loaded 18835 peaks, grouped into 30 chromosomes\n",
      "⚙️ Computing features for H3K9me3 (X1) ...\n",
      "🌍 Global mean/std (signal): 4.1487, 0.9139\n"
     ]
    },
    {
     "name": "stderr",
     "output_type": "stream",
     "text": [
      "Computing gene features: 100%|██████████| 18268/18268 [00:04<00:00, 4317.15it/s]\n",
      "/var/folders/7g/j5s0yzcj34l3v043s7znkplc0000gn/T/ipykernel_74264/3463236200.py:191: FutureWarning: DataFrame.applymap has been deprecated. Use DataFrame.map instead.\n",
      "  df = df.applymap(lambda x: 0.0 if isinstance(x, float) and not np.isfinite(x) else x)\n"
     ]
    },
    {
     "name": "stdout",
     "output_type": "stream",
     "text": [
      "🌍 Global mean/std (signal): 4.1487, 0.9139\n"
     ]
    },
    {
     "name": "stderr",
     "output_type": "stream",
     "text": [
      "Computing tss features: 100%|██████████| 18268/18268 [00:02<00:00, 6673.42it/s]\n"
     ]
    },
    {
     "name": "stdout",
     "output_type": "stream",
     "text": [
      "\n",
      "✅ Saved: ../preprocessed_data/reference/0. data/bed250_one_side/X1_logzscore.tsv\n",
      "📊 Final shape: 18268 genes × 511 columns\n",
      "\n",
      "=== 🧬 Processing Cell Line: X2 ===\n",
      "Normalization mode: log_zscore\n",
      "📖 Loaded reference table: 18268 genes\n",
      "\n",
      "📘 Reading DNase (X2) ...\n",
      "📊 Loaded 181146 peaks, grouped into 24 chromosomes\n",
      "⚙️ Computing features for DNase (X2) ...\n",
      "🌍 Global mean/std (signal): 92.3270, 122.1105\n"
     ]
    },
    {
     "name": "stderr",
     "output_type": "stream",
     "text": [
      "Computing gene features: 100%|██████████| 18268/18268 [00:07<00:00, 2293.93it/s]\n",
      "/var/folders/7g/j5s0yzcj34l3v043s7znkplc0000gn/T/ipykernel_74264/3463236200.py:191: FutureWarning: DataFrame.applymap has been deprecated. Use DataFrame.map instead.\n",
      "  df = df.applymap(lambda x: 0.0 if isinstance(x, float) and not np.isfinite(x) else x)\n"
     ]
    },
    {
     "name": "stdout",
     "output_type": "stream",
     "text": [
      "🌍 Global mean/std (signal): 92.3270, 122.1105\n"
     ]
    },
    {
     "name": "stderr",
     "output_type": "stream",
     "text": [
      "Computing tss features: 100%|██████████| 18268/18268 [00:05<00:00, 3239.25it/s]\n"
     ]
    },
    {
     "name": "stdout",
     "output_type": "stream",
     "text": [
      "\n",
      "📘 Reading H3K27ac (X2) ...\n",
      "📊 Loaded 76094 peaks, grouped into 26 chromosomes\n",
      "⚙️ Computing features for H3K27ac (X2) ...\n",
      "🌍 Global mean/std (signal): 27.9351, 15.7785\n"
     ]
    },
    {
     "name": "stderr",
     "output_type": "stream",
     "text": [
      "Computing gene features: 100%|██████████| 18268/18268 [00:05<00:00, 3053.78it/s]\n",
      "/var/folders/7g/j5s0yzcj34l3v043s7znkplc0000gn/T/ipykernel_74264/3463236200.py:191: FutureWarning: DataFrame.applymap has been deprecated. Use DataFrame.map instead.\n",
      "  df = df.applymap(lambda x: 0.0 if isinstance(x, float) and not np.isfinite(x) else x)\n"
     ]
    },
    {
     "name": "stdout",
     "output_type": "stream",
     "text": [
      "🌍 Global mean/std (signal): 27.9351, 15.7785\n"
     ]
    },
    {
     "name": "stderr",
     "output_type": "stream",
     "text": [
      "Computing tss features: 100%|██████████| 18268/18268 [00:03<00:00, 5336.09it/s]\n"
     ]
    },
    {
     "name": "stdout",
     "output_type": "stream",
     "text": [
      "\n",
      "📘 Reading H3K4me3 (X2) ...\n",
      "📊 Loaded 42142 peaks, grouped into 39 chromosomes\n",
      "⚙️ Computing features for H3K4me3 (X2) ...\n",
      "🌍 Global mean/std (signal): 2.3985, 2.0274\n"
     ]
    },
    {
     "name": "stderr",
     "output_type": "stream",
     "text": [
      "Computing gene features: 100%|██████████| 18268/18268 [00:07<00:00, 2497.81it/s]\n",
      "/var/folders/7g/j5s0yzcj34l3v043s7znkplc0000gn/T/ipykernel_74264/3463236200.py:191: FutureWarning: DataFrame.applymap has been deprecated. Use DataFrame.map instead.\n",
      "  df = df.applymap(lambda x: 0.0 if isinstance(x, float) and not np.isfinite(x) else x)\n"
     ]
    },
    {
     "name": "stdout",
     "output_type": "stream",
     "text": [
      "🌍 Global mean/std (signal): 2.3985, 2.0274\n"
     ]
    },
    {
     "name": "stderr",
     "output_type": "stream",
     "text": [
      "Computing tss features: 100%|██████████| 18268/18268 [00:03<00:00, 5289.15it/s]\n"
     ]
    },
    {
     "name": "stdout",
     "output_type": "stream",
     "text": [
      "\n",
      "📘 Reading H3K27me3 (X2) ...\n",
      "📊 Loaded 24458 peaks, grouped into 29 chromosomes\n",
      "⚙️ Computing features for H3K27me3 (X2) ...\n",
      "🌍 Global mean/std (signal): 3.7757, 3.3489\n"
     ]
    },
    {
     "name": "stderr",
     "output_type": "stream",
     "text": [
      "Computing gene features: 100%|██████████| 18268/18268 [00:04<00:00, 3972.65it/s]\n",
      "/var/folders/7g/j5s0yzcj34l3v043s7znkplc0000gn/T/ipykernel_74264/3463236200.py:191: FutureWarning: DataFrame.applymap has been deprecated. Use DataFrame.map instead.\n",
      "  df = df.applymap(lambda x: 0.0 if isinstance(x, float) and not np.isfinite(x) else x)\n"
     ]
    },
    {
     "name": "stdout",
     "output_type": "stream",
     "text": [
      "🌍 Global mean/std (signal): 3.7757, 3.3489\n"
     ]
    },
    {
     "name": "stderr",
     "output_type": "stream",
     "text": [
      "Computing tss features: 100%|██████████| 18268/18268 [00:02<00:00, 6132.63it/s]\n"
     ]
    },
    {
     "name": "stdout",
     "output_type": "stream",
     "text": [
      "\n",
      "📘 Reading H3K36me3 (X2) ...\n",
      "📊 Loaded 77131 peaks, grouped into 26 chromosomes\n",
      "⚙️ Computing features for H3K36me3 (X2) ...\n",
      "🌍 Global mean/std (signal): 4.0910, 1.0740\n"
     ]
    },
    {
     "name": "stderr",
     "output_type": "stream",
     "text": [
      "Computing gene features: 100%|██████████| 18268/18268 [00:05<00:00, 3166.36it/s]\n",
      "/var/folders/7g/j5s0yzcj34l3v043s7znkplc0000gn/T/ipykernel_74264/3463236200.py:191: FutureWarning: DataFrame.applymap has been deprecated. Use DataFrame.map instead.\n",
      "  df = df.applymap(lambda x: 0.0 if isinstance(x, float) and not np.isfinite(x) else x)\n"
     ]
    },
    {
     "name": "stdout",
     "output_type": "stream",
     "text": [
      "🌍 Global mean/std (signal): 4.0910, 1.0740\n"
     ]
    },
    {
     "name": "stderr",
     "output_type": "stream",
     "text": [
      "Computing tss features: 100%|██████████| 18268/18268 [00:02<00:00, 6306.91it/s]\n"
     ]
    },
    {
     "name": "stdout",
     "output_type": "stream",
     "text": [
      "\n",
      "📘 Reading H3K4me1 (X2) ...\n",
      "📊 Loaded 135476 peaks, grouped into 28 chromosomes\n",
      "⚙️ Computing features for H3K4me1 (X2) ...\n",
      "🌍 Global mean/std (signal): 4.1086, 1.0515\n"
     ]
    },
    {
     "name": "stderr",
     "output_type": "stream",
     "text": [
      "Computing gene features: 100%|██████████| 18268/18268 [00:06<00:00, 2662.58it/s]\n",
      "/var/folders/7g/j5s0yzcj34l3v043s7znkplc0000gn/T/ipykernel_74264/3463236200.py:191: FutureWarning: DataFrame.applymap has been deprecated. Use DataFrame.map instead.\n",
      "  df = df.applymap(lambda x: 0.0 if isinstance(x, float) and not np.isfinite(x) else x)\n"
     ]
    },
    {
     "name": "stdout",
     "output_type": "stream",
     "text": [
      "🌍 Global mean/std (signal): 4.1086, 1.0515\n"
     ]
    },
    {
     "name": "stderr",
     "output_type": "stream",
     "text": [
      "Computing tss features: 100%|██████████| 18268/18268 [00:03<00:00, 5839.76it/s]\n"
     ]
    },
    {
     "name": "stdout",
     "output_type": "stream",
     "text": [
      "\n",
      "📘 Reading H3K9me3 (X2) ...\n",
      "📊 Loaded 94156 peaks, grouped into 91 chromosomes\n",
      "⚙️ Computing features for H3K9me3 (X2) ...\n",
      "🌍 Global mean/std (signal): 4.6121, 1.2591\n"
     ]
    },
    {
     "name": "stderr",
     "output_type": "stream",
     "text": [
      "Computing gene features: 100%|██████████| 18268/18268 [00:04<00:00, 4077.67it/s]\n",
      "/var/folders/7g/j5s0yzcj34l3v043s7znkplc0000gn/T/ipykernel_74264/3463236200.py:191: FutureWarning: DataFrame.applymap has been deprecated. Use DataFrame.map instead.\n",
      "  df = df.applymap(lambda x: 0.0 if isinstance(x, float) and not np.isfinite(x) else x)\n"
     ]
    },
    {
     "name": "stdout",
     "output_type": "stream",
     "text": [
      "🌍 Global mean/std (signal): 4.6121, 1.2591\n"
     ]
    },
    {
     "name": "stderr",
     "output_type": "stream",
     "text": [
      "Computing tss features: 100%|██████████| 18268/18268 [00:02<00:00, 6813.89it/s]\n"
     ]
    },
    {
     "name": "stdout",
     "output_type": "stream",
     "text": [
      "\n",
      "✅ Saved: ../preprocessed_data/reference/0. data/bed250_one_side/X2_logzscore.tsv\n",
      "📊 Final shape: 18268 genes × 511 columns\n",
      "\n",
      "=== 🧬 Processing Cell Line: X3 ===\n",
      "Normalization mode: log_zscore\n",
      "📖 Loaded reference table: 18268 genes\n",
      "\n",
      "📘 Reading DNase (X3) ...\n",
      "📊 Loaded 71812 peaks, grouped into 24 chromosomes\n",
      "⚙️ Computing features for DNase (X3) ...\n",
      "🌍 Global mean/std (signal): 49.7253, 41.5291\n"
     ]
    },
    {
     "name": "stderr",
     "output_type": "stream",
     "text": [
      "Computing gene features: 100%|██████████| 18268/18268 [00:07<00:00, 2399.71it/s]\n",
      "/var/folders/7g/j5s0yzcj34l3v043s7znkplc0000gn/T/ipykernel_74264/3463236200.py:191: FutureWarning: DataFrame.applymap has been deprecated. Use DataFrame.map instead.\n",
      "  df = df.applymap(lambda x: 0.0 if isinstance(x, float) and not np.isfinite(x) else x)\n"
     ]
    },
    {
     "name": "stdout",
     "output_type": "stream",
     "text": [
      "🌍 Global mean/std (signal): 49.7253, 41.5291\n"
     ]
    },
    {
     "name": "stderr",
     "output_type": "stream",
     "text": [
      "Computing tss features: 100%|██████████| 18268/18268 [00:05<00:00, 3110.99it/s]\n"
     ]
    },
    {
     "name": "stdout",
     "output_type": "stream",
     "text": [
      "\n",
      "📘 Reading H3K27ac (X3) ...\n",
      "📊 Loaded 54474 peaks, grouped into 29 chromosomes\n",
      "⚙️ Computing features for H3K27ac (X3) ...\n",
      "🌍 Global mean/std (signal): 10.1940, 8.4926\n"
     ]
    },
    {
     "name": "stderr",
     "output_type": "stream",
     "text": [
      "Computing gene features: 100%|██████████| 18268/18268 [00:06<00:00, 2751.32it/s]\n",
      "/var/folders/7g/j5s0yzcj34l3v043s7znkplc0000gn/T/ipykernel_74264/3463236200.py:191: FutureWarning: DataFrame.applymap has been deprecated. Use DataFrame.map instead.\n",
      "  df = df.applymap(lambda x: 0.0 if isinstance(x, float) and not np.isfinite(x) else x)\n"
     ]
    },
    {
     "name": "stdout",
     "output_type": "stream",
     "text": [
      "🌍 Global mean/std (signal): 10.1940, 8.4926\n"
     ]
    },
    {
     "name": "stderr",
     "output_type": "stream",
     "text": [
      "Computing tss features: 100%|██████████| 18268/18268 [00:03<00:00, 4784.57it/s]\n"
     ]
    },
    {
     "name": "stdout",
     "output_type": "stream",
     "text": [
      "\n",
      "📘 Reading H3K4me3 (X3) ...\n",
      "📊 Loaded 34488 peaks, grouped into 26 chromosomes\n",
      "⚙️ Computing features for H3K4me3 (X3) ...\n",
      "🌍 Global mean/std (signal): 13.2355, 11.7258\n"
     ]
    },
    {
     "name": "stderr",
     "output_type": "stream",
     "text": [
      "Computing gene features: 100%|██████████| 18268/18268 [00:06<00:00, 2645.05it/s]\n",
      "/var/folders/7g/j5s0yzcj34l3v043s7znkplc0000gn/T/ipykernel_74264/3463236200.py:191: FutureWarning: DataFrame.applymap has been deprecated. Use DataFrame.map instead.\n",
      "  df = df.applymap(lambda x: 0.0 if isinstance(x, float) and not np.isfinite(x) else x)\n"
     ]
    },
    {
     "name": "stdout",
     "output_type": "stream",
     "text": [
      "🌍 Global mean/std (signal): 13.2355, 11.7258\n"
     ]
    },
    {
     "name": "stderr",
     "output_type": "stream",
     "text": [
      "Computing tss features: 100%|██████████| 18268/18268 [00:03<00:00, 5666.86it/s]\n"
     ]
    },
    {
     "name": "stdout",
     "output_type": "stream",
     "text": [
      "\n",
      "📘 Reading H3K27me3 (X3) ...\n",
      "📊 Loaded 82769 peaks, grouped into 27 chromosomes\n",
      "⚙️ Computing features for H3K27me3 (X3) ...\n",
      "🌍 Global mean/std (signal): 4.9255, 1.9164\n"
     ]
    },
    {
     "name": "stderr",
     "output_type": "stream",
     "text": [
      "Computing gene features: 100%|██████████| 18268/18268 [00:04<00:00, 3977.34it/s]\n",
      "/var/folders/7g/j5s0yzcj34l3v043s7znkplc0000gn/T/ipykernel_74264/3463236200.py:191: FutureWarning: DataFrame.applymap has been deprecated. Use DataFrame.map instead.\n",
      "  df = df.applymap(lambda x: 0.0 if isinstance(x, float) and not np.isfinite(x) else x)\n"
     ]
    },
    {
     "name": "stdout",
     "output_type": "stream",
     "text": [
      "🌍 Global mean/std (signal): 4.9255, 1.9164\n"
     ]
    },
    {
     "name": "stderr",
     "output_type": "stream",
     "text": [
      "Computing tss features: 100%|██████████| 18268/18268 [00:02<00:00, 6148.51it/s]\n"
     ]
    },
    {
     "name": "stdout",
     "output_type": "stream",
     "text": [
      "\n",
      "📘 Reading H3K36me3 (X3) ...\n",
      "📊 Loaded 68682 peaks, grouped into 24 chromosomes\n",
      "⚙️ Computing features for H3K36me3 (X3) ...\n",
      "🌍 Global mean/std (signal): 4.8880, 1.2712\n"
     ]
    },
    {
     "name": "stderr",
     "output_type": "stream",
     "text": [
      "Computing gene features: 100%|██████████| 18268/18268 [00:05<00:00, 3282.73it/s]\n",
      "/var/folders/7g/j5s0yzcj34l3v043s7znkplc0000gn/T/ipykernel_74264/3463236200.py:191: FutureWarning: DataFrame.applymap has been deprecated. Use DataFrame.map instead.\n",
      "  df = df.applymap(lambda x: 0.0 if isinstance(x, float) and not np.isfinite(x) else x)\n"
     ]
    },
    {
     "name": "stdout",
     "output_type": "stream",
     "text": [
      "🌍 Global mean/std (signal): 4.8880, 1.2712\n"
     ]
    },
    {
     "name": "stderr",
     "output_type": "stream",
     "text": [
      "Computing tss features: 100%|██████████| 18268/18268 [00:03<00:00, 6085.76it/s]\n"
     ]
    },
    {
     "name": "stdout",
     "output_type": "stream",
     "text": [
      "\n",
      "📘 Reading H3K4me1 (X3) ...\n",
      "📊 Loaded 107213 peaks, grouped into 28 chromosomes\n",
      "⚙️ Computing features for H3K4me1 (X3) ...\n",
      "🌍 Global mean/std (signal): 2.7148, 1.0648\n"
     ]
    },
    {
     "name": "stderr",
     "output_type": "stream",
     "text": [
      "Computing gene features: 100%|██████████| 18268/18268 [00:07<00:00, 2474.81it/s]\n",
      "/var/folders/7g/j5s0yzcj34l3v043s7znkplc0000gn/T/ipykernel_74264/3463236200.py:191: FutureWarning: DataFrame.applymap has been deprecated. Use DataFrame.map instead.\n",
      "  df = df.applymap(lambda x: 0.0 if isinstance(x, float) and not np.isfinite(x) else x)\n"
     ]
    },
    {
     "name": "stdout",
     "output_type": "stream",
     "text": [
      "🌍 Global mean/std (signal): 2.7148, 1.0648\n"
     ]
    },
    {
     "name": "stderr",
     "output_type": "stream",
     "text": [
      "Computing tss features: 100%|██████████| 18268/18268 [00:03<00:00, 5862.17it/s]\n"
     ]
    },
    {
     "name": "stdout",
     "output_type": "stream",
     "text": [
      "\n",
      "📘 Reading H3K9me3 (X3) ...\n",
      "📊 Loaded 46565 peaks, grouped into 69 chromosomes\n",
      "⚙️ Computing features for H3K9me3 (X3) ...\n",
      "🌍 Global mean/std (signal): 3.7462, 0.6023\n"
     ]
    },
    {
     "name": "stderr",
     "output_type": "stream",
     "text": [
      "Computing gene features: 100%|██████████| 18268/18268 [00:03<00:00, 5515.05it/s]\n",
      "/var/folders/7g/j5s0yzcj34l3v043s7znkplc0000gn/T/ipykernel_74264/3463236200.py:191: FutureWarning: DataFrame.applymap has been deprecated. Use DataFrame.map instead.\n",
      "  df = df.applymap(lambda x: 0.0 if isinstance(x, float) and not np.isfinite(x) else x)\n"
     ]
    },
    {
     "name": "stdout",
     "output_type": "stream",
     "text": [
      "🌍 Global mean/std (signal): 3.7462, 0.6023\n"
     ]
    },
    {
     "name": "stderr",
     "output_type": "stream",
     "text": [
      "Computing tss features: 100%|██████████| 18268/18268 [00:02<00:00, 6273.14it/s]\n"
     ]
    },
    {
     "name": "stdout",
     "output_type": "stream",
     "text": [
      "\n",
      "✅ Saved: ../preprocessed_data/reference/0. data/bed250_one_side/X3_logzscore.tsv\n",
      "📊 Final shape: 18268 genes × 511 columns\n"
     ]
    }
   ],
   "source": [
    "# ============================================================\n",
    "#                  主批次執行\n",
    "# ============================================================\n",
    "if __name__ == \"__main__\":\n",
    "    base_dir = \"/Users/deweywang/Desktop/GitHub/Gene-expression-prediction/ML4G_Project_1_Data\"\n",
    "    ref_path = \"../preprocessed_data/reference/reference_gene_table.tsv\"\n",
    "    output_dir = \"../preprocessed_data/reference/0. data/bed250_one_side/\"\n",
    "\n",
    "    marks = [\"DNase\", \"H3K27ac\", \"H3K4me3\", \"H3K27me3\", \"H3K36me3\", \"H3K4me1\", \"H3K9me3\"]\n",
    "    cells = [\"X1\", \"X2\", \"X3\"]\n",
    "\n",
    "    for cell in cells:\n",
    "        process_cellline(\n",
    "            cell_name=cell,\n",
    "            marks=marks,\n",
    "            base_dir=base_dir,\n",
    "            ref_path=ref_path,\n",
    "            tss_window_bp=250,\n",
    "            output_dir=output_dir,\n",
    "            norm_mode=\"log_zscore\"  # 🔧 可改成 none / zscore\n",
    "        )"
   ]
  },
  {
   "cell_type": "code",
   "execution_count": 10,
   "metadata": {},
   "outputs": [
    {
     "name": "stdout",
     "output_type": "stream",
     "text": [
      "\n",
      "=== 🧬 Processing Cell Line: X1 ===\n",
      "Normalization mode: log_zscore\n",
      "📖 Loaded reference table: 18268 genes\n",
      "\n",
      "📘 Reading DNase (X1) ...\n",
      "📊 Loaded 56452 peaks, grouped into 24 chromosomes\n",
      "⚙️ Computing features for DNase (X1) ...\n",
      "🌍 Global mean/std (signal): 41.9516, 69.8208\n"
     ]
    },
    {
     "name": "stderr",
     "output_type": "stream",
     "text": [
      "Computing gene features: 100%|██████████| 18268/18268 [00:06<00:00, 2613.54it/s]\n",
      "/var/folders/7g/j5s0yzcj34l3v043s7znkplc0000gn/T/ipykernel_74264/3463236200.py:191: FutureWarning: DataFrame.applymap has been deprecated. Use DataFrame.map instead.\n",
      "  df = df.applymap(lambda x: 0.0 if isinstance(x, float) and not np.isfinite(x) else x)\n"
     ]
    },
    {
     "name": "stdout",
     "output_type": "stream",
     "text": [
      "🌍 Global mean/std (signal): 41.9516, 69.8208\n"
     ]
    },
    {
     "name": "stderr",
     "output_type": "stream",
     "text": [
      "Computing tss features: 100%|██████████| 18268/18268 [00:04<00:00, 4400.27it/s]\n"
     ]
    },
    {
     "name": "stdout",
     "output_type": "stream",
     "text": [
      "\n",
      "📘 Reading H3K27ac (X1) ...\n",
      "📊 Loaded 57887 peaks, grouped into 30 chromosomes\n",
      "⚙️ Computing features for H3K27ac (X1) ...\n",
      "🌍 Global mean/std (signal): 10.4143, 8.9643\n"
     ]
    },
    {
     "name": "stderr",
     "output_type": "stream",
     "text": [
      "Computing gene features: 100%|██████████| 18268/18268 [00:06<00:00, 2711.19it/s]\n",
      "/var/folders/7g/j5s0yzcj34l3v043s7znkplc0000gn/T/ipykernel_74264/3463236200.py:191: FutureWarning: DataFrame.applymap has been deprecated. Use DataFrame.map instead.\n",
      "  df = df.applymap(lambda x: 0.0 if isinstance(x, float) and not np.isfinite(x) else x)\n"
     ]
    },
    {
     "name": "stdout",
     "output_type": "stream",
     "text": [
      "🌍 Global mean/std (signal): 10.4143, 8.9643\n"
     ]
    },
    {
     "name": "stderr",
     "output_type": "stream",
     "text": [
      "Computing tss features: 100%|██████████| 18268/18268 [00:02<00:00, 6784.77it/s]\n"
     ]
    },
    {
     "name": "stdout",
     "output_type": "stream",
     "text": [
      "\n",
      "📘 Reading H3K4me3 (X1) ...\n",
      "📊 Loaded 42002 peaks, grouped into 30 chromosomes\n",
      "⚙️ Computing features for H3K4me3 (X1) ...\n",
      "🌍 Global mean/std (signal): 8.1494, 4.5913\n"
     ]
    },
    {
     "name": "stderr",
     "output_type": "stream",
     "text": [
      "Computing gene features: 100%|██████████| 18268/18268 [00:06<00:00, 2764.68it/s]\n",
      "/var/folders/7g/j5s0yzcj34l3v043s7znkplc0000gn/T/ipykernel_74264/3463236200.py:191: FutureWarning: DataFrame.applymap has been deprecated. Use DataFrame.map instead.\n",
      "  df = df.applymap(lambda x: 0.0 if isinstance(x, float) and not np.isfinite(x) else x)\n"
     ]
    },
    {
     "name": "stdout",
     "output_type": "stream",
     "text": [
      "🌍 Global mean/std (signal): 8.1494, 4.5913\n"
     ]
    },
    {
     "name": "stderr",
     "output_type": "stream",
     "text": [
      "Computing tss features: 100%|██████████| 18268/18268 [00:02<00:00, 6201.01it/s]\n"
     ]
    },
    {
     "name": "stdout",
     "output_type": "stream",
     "text": [
      "\n",
      "📘 Reading H3K27me3 (X1) ...\n",
      "📊 Loaded 26900 peaks, grouped into 24 chromosomes\n",
      "⚙️ Computing features for H3K27me3 (X1) ...\n",
      "🌍 Global mean/std (signal): 35.4562, 7.7610\n"
     ]
    },
    {
     "name": "stderr",
     "output_type": "stream",
     "text": [
      "Computing gene features: 100%|██████████| 18268/18268 [00:03<00:00, 4683.03it/s]\n",
      "/var/folders/7g/j5s0yzcj34l3v043s7znkplc0000gn/T/ipykernel_74264/3463236200.py:191: FutureWarning: DataFrame.applymap has been deprecated. Use DataFrame.map instead.\n",
      "  df = df.applymap(lambda x: 0.0 if isinstance(x, float) and not np.isfinite(x) else x)\n"
     ]
    },
    {
     "name": "stdout",
     "output_type": "stream",
     "text": [
      "🌍 Global mean/std (signal): 35.4562, 7.7610\n"
     ]
    },
    {
     "name": "stderr",
     "output_type": "stream",
     "text": [
      "Computing tss features: 100%|██████████| 18268/18268 [00:02<00:00, 6466.83it/s]\n"
     ]
    },
    {
     "name": "stdout",
     "output_type": "stream",
     "text": [
      "\n",
      "📘 Reading H3K36me3 (X1) ...\n",
      "📊 Loaded 81541 peaks, grouped into 27 chromosomes\n",
      "⚙️ Computing features for H3K36me3 (X1) ...\n",
      "🌍 Global mean/std (signal): 6.3442, 1.7012\n"
     ]
    },
    {
     "name": "stderr",
     "output_type": "stream",
     "text": [
      "Computing gene features: 100%|██████████| 18268/18268 [00:06<00:00, 2956.00it/s]\n",
      "/var/folders/7g/j5s0yzcj34l3v043s7znkplc0000gn/T/ipykernel_74264/3463236200.py:191: FutureWarning: DataFrame.applymap has been deprecated. Use DataFrame.map instead.\n",
      "  df = df.applymap(lambda x: 0.0 if isinstance(x, float) and not np.isfinite(x) else x)\n"
     ]
    },
    {
     "name": "stdout",
     "output_type": "stream",
     "text": [
      "🌍 Global mean/std (signal): 6.3442, 1.7012\n"
     ]
    },
    {
     "name": "stderr",
     "output_type": "stream",
     "text": [
      "Computing tss features: 100%|██████████| 18268/18268 [00:02<00:00, 6769.47it/s]\n"
     ]
    },
    {
     "name": "stdout",
     "output_type": "stream",
     "text": [
      "\n",
      "📘 Reading H3K4me1 (X1) ...\n",
      "📊 Loaded 89812 peaks, grouped into 26 chromosomes\n",
      "⚙️ Computing features for H3K4me1 (X1) ...\n",
      "🌍 Global mean/std (signal): 4.7735, 1.7659\n"
     ]
    },
    {
     "name": "stderr",
     "output_type": "stream",
     "text": [
      "Computing gene features: 100%|██████████| 18268/18268 [00:06<00:00, 2906.89it/s]\n",
      "/var/folders/7g/j5s0yzcj34l3v043s7znkplc0000gn/T/ipykernel_74264/3463236200.py:191: FutureWarning: DataFrame.applymap has been deprecated. Use DataFrame.map instead.\n",
      "  df = df.applymap(lambda x: 0.0 if isinstance(x, float) and not np.isfinite(x) else x)\n"
     ]
    },
    {
     "name": "stdout",
     "output_type": "stream",
     "text": [
      "🌍 Global mean/std (signal): 4.7735, 1.7659\n"
     ]
    },
    {
     "name": "stderr",
     "output_type": "stream",
     "text": [
      "Computing tss features: 100%|██████████| 18268/18268 [00:02<00:00, 6325.67it/s]\n"
     ]
    },
    {
     "name": "stdout",
     "output_type": "stream",
     "text": [
      "\n",
      "📘 Reading H3K9me3 (X1) ...\n",
      "📊 Loaded 18835 peaks, grouped into 30 chromosomes\n",
      "⚙️ Computing features for H3K9me3 (X1) ...\n",
      "🌍 Global mean/std (signal): 4.1487, 0.9139\n"
     ]
    },
    {
     "name": "stderr",
     "output_type": "stream",
     "text": [
      "Computing gene features: 100%|██████████| 18268/18268 [00:03<00:00, 4796.13it/s]\n",
      "/var/folders/7g/j5s0yzcj34l3v043s7znkplc0000gn/T/ipykernel_74264/3463236200.py:191: FutureWarning: DataFrame.applymap has been deprecated. Use DataFrame.map instead.\n",
      "  df = df.applymap(lambda x: 0.0 if isinstance(x, float) and not np.isfinite(x) else x)\n"
     ]
    },
    {
     "name": "stdout",
     "output_type": "stream",
     "text": [
      "🌍 Global mean/std (signal): 4.1487, 0.9139\n"
     ]
    },
    {
     "name": "stderr",
     "output_type": "stream",
     "text": [
      "Computing tss features: 100%|██████████| 18268/18268 [00:02<00:00, 7107.32it/s]\n"
     ]
    },
    {
     "name": "stdout",
     "output_type": "stream",
     "text": [
      "\n",
      "✅ Saved: ../preprocessed_data/reference/0. data/bed50_one_side/X1_logzscore.tsv\n",
      "📊 Final shape: 18268 genes × 511 columns\n",
      "\n",
      "=== 🧬 Processing Cell Line: X2 ===\n",
      "Normalization mode: log_zscore\n",
      "📖 Loaded reference table: 18268 genes\n",
      "\n",
      "📘 Reading DNase (X2) ...\n",
      "📊 Loaded 181146 peaks, grouped into 24 chromosomes\n",
      "⚙️ Computing features for DNase (X2) ...\n",
      "🌍 Global mean/std (signal): 92.3270, 122.1105\n"
     ]
    },
    {
     "name": "stderr",
     "output_type": "stream",
     "text": [
      "Computing gene features: 100%|██████████| 18268/18268 [00:07<00:00, 2566.28it/s]\n",
      "/var/folders/7g/j5s0yzcj34l3v043s7znkplc0000gn/T/ipykernel_74264/3463236200.py:191: FutureWarning: DataFrame.applymap has been deprecated. Use DataFrame.map instead.\n",
      "  df = df.applymap(lambda x: 0.0 if isinstance(x, float) and not np.isfinite(x) else x)\n"
     ]
    },
    {
     "name": "stdout",
     "output_type": "stream",
     "text": [
      "🌍 Global mean/std (signal): 92.3270, 122.1105\n"
     ]
    },
    {
     "name": "stderr",
     "output_type": "stream",
     "text": [
      "Computing tss features: 100%|██████████| 18268/18268 [00:03<00:00, 4741.88it/s]\n"
     ]
    },
    {
     "name": "stdout",
     "output_type": "stream",
     "text": [
      "\n",
      "📘 Reading H3K27ac (X2) ...\n",
      "📊 Loaded 76094 peaks, grouped into 26 chromosomes\n",
      "⚙️ Computing features for H3K27ac (X2) ...\n",
      "🌍 Global mean/std (signal): 27.9351, 15.7785\n"
     ]
    },
    {
     "name": "stderr",
     "output_type": "stream",
     "text": [
      "Computing gene features: 100%|██████████| 18268/18268 [00:05<00:00, 3183.26it/s]\n",
      "/var/folders/7g/j5s0yzcj34l3v043s7znkplc0000gn/T/ipykernel_74264/3463236200.py:191: FutureWarning: DataFrame.applymap has been deprecated. Use DataFrame.map instead.\n",
      "  df = df.applymap(lambda x: 0.0 if isinstance(x, float) and not np.isfinite(x) else x)\n"
     ]
    },
    {
     "name": "stdout",
     "output_type": "stream",
     "text": [
      "🌍 Global mean/std (signal): 27.9351, 15.7785\n"
     ]
    },
    {
     "name": "stderr",
     "output_type": "stream",
     "text": [
      "Computing tss features: 100%|██████████| 18268/18268 [00:02<00:00, 6376.90it/s]\n"
     ]
    },
    {
     "name": "stdout",
     "output_type": "stream",
     "text": [
      "\n",
      "📘 Reading H3K4me3 (X2) ...\n",
      "📊 Loaded 42142 peaks, grouped into 39 chromosomes\n",
      "⚙️ Computing features for H3K4me3 (X2) ...\n",
      "🌍 Global mean/std (signal): 2.3985, 2.0274\n"
     ]
    },
    {
     "name": "stderr",
     "output_type": "stream",
     "text": [
      "Computing gene features: 100%|██████████| 18268/18268 [00:06<00:00, 2799.34it/s]\n",
      "/var/folders/7g/j5s0yzcj34l3v043s7znkplc0000gn/T/ipykernel_74264/3463236200.py:191: FutureWarning: DataFrame.applymap has been deprecated. Use DataFrame.map instead.\n",
      "  df = df.applymap(lambda x: 0.0 if isinstance(x, float) and not np.isfinite(x) else x)\n"
     ]
    },
    {
     "name": "stdout",
     "output_type": "stream",
     "text": [
      "🌍 Global mean/std (signal): 2.3985, 2.0274\n"
     ]
    },
    {
     "name": "stderr",
     "output_type": "stream",
     "text": [
      "Computing tss features: 100%|██████████| 18268/18268 [00:02<00:00, 6787.99it/s]\n"
     ]
    },
    {
     "name": "stdout",
     "output_type": "stream",
     "text": [
      "\n",
      "📘 Reading H3K27me3 (X2) ...\n",
      "📊 Loaded 24458 peaks, grouped into 29 chromosomes\n",
      "⚙️ Computing features for H3K27me3 (X2) ...\n",
      "🌍 Global mean/std (signal): 3.7757, 3.3489\n"
     ]
    },
    {
     "name": "stderr",
     "output_type": "stream",
     "text": [
      "Computing gene features: 100%|██████████| 18268/18268 [00:04<00:00, 3918.11it/s]\n",
      "/var/folders/7g/j5s0yzcj34l3v043s7znkplc0000gn/T/ipykernel_74264/3463236200.py:191: FutureWarning: DataFrame.applymap has been deprecated. Use DataFrame.map instead.\n",
      "  df = df.applymap(lambda x: 0.0 if isinstance(x, float) and not np.isfinite(x) else x)\n"
     ]
    },
    {
     "name": "stdout",
     "output_type": "stream",
     "text": [
      "🌍 Global mean/std (signal): 3.7757, 3.3489\n"
     ]
    },
    {
     "name": "stderr",
     "output_type": "stream",
     "text": [
      "Computing tss features: 100%|██████████| 18268/18268 [00:02<00:00, 6857.38it/s]\n"
     ]
    },
    {
     "name": "stdout",
     "output_type": "stream",
     "text": [
      "\n",
      "📘 Reading H3K36me3 (X2) ...\n",
      "📊 Loaded 77131 peaks, grouped into 26 chromosomes\n",
      "⚙️ Computing features for H3K36me3 (X2) ...\n",
      "🌍 Global mean/std (signal): 4.0910, 1.0740\n"
     ]
    },
    {
     "name": "stderr",
     "output_type": "stream",
     "text": [
      "Computing gene features: 100%|██████████| 18268/18268 [00:05<00:00, 3365.79it/s]\n",
      "/var/folders/7g/j5s0yzcj34l3v043s7znkplc0000gn/T/ipykernel_74264/3463236200.py:191: FutureWarning: DataFrame.applymap has been deprecated. Use DataFrame.map instead.\n",
      "  df = df.applymap(lambda x: 0.0 if isinstance(x, float) and not np.isfinite(x) else x)\n"
     ]
    },
    {
     "name": "stdout",
     "output_type": "stream",
     "text": [
      "🌍 Global mean/std (signal): 4.0910, 1.0740\n"
     ]
    },
    {
     "name": "stderr",
     "output_type": "stream",
     "text": [
      "Computing tss features: 100%|██████████| 18268/18268 [00:02<00:00, 7098.16it/s]\n"
     ]
    },
    {
     "name": "stdout",
     "output_type": "stream",
     "text": [
      "\n",
      "📘 Reading H3K4me1 (X2) ...\n",
      "📊 Loaded 135476 peaks, grouped into 28 chromosomes\n",
      "⚙️ Computing features for H3K4me1 (X2) ...\n",
      "🌍 Global mean/std (signal): 4.1086, 1.0515\n"
     ]
    },
    {
     "name": "stderr",
     "output_type": "stream",
     "text": [
      "Computing gene features: 100%|██████████| 18268/18268 [00:06<00:00, 2820.49it/s]\n",
      "/var/folders/7g/j5s0yzcj34l3v043s7znkplc0000gn/T/ipykernel_74264/3463236200.py:191: FutureWarning: DataFrame.applymap has been deprecated. Use DataFrame.map instead.\n",
      "  df = df.applymap(lambda x: 0.0 if isinstance(x, float) and not np.isfinite(x) else x)\n"
     ]
    },
    {
     "name": "stdout",
     "output_type": "stream",
     "text": [
      "🌍 Global mean/std (signal): 4.1086, 1.0515\n"
     ]
    },
    {
     "name": "stderr",
     "output_type": "stream",
     "text": [
      "Computing tss features: 100%|██████████| 18268/18268 [00:02<00:00, 7009.77it/s]\n"
     ]
    },
    {
     "name": "stdout",
     "output_type": "stream",
     "text": [
      "\n",
      "📘 Reading H3K9me3 (X2) ...\n",
      "📊 Loaded 94156 peaks, grouped into 91 chromosomes\n",
      "⚙️ Computing features for H3K9me3 (X2) ...\n",
      "🌍 Global mean/std (signal): 4.6121, 1.2591\n"
     ]
    },
    {
     "name": "stderr",
     "output_type": "stream",
     "text": [
      "Computing gene features: 100%|██████████| 18268/18268 [00:04<00:00, 4452.19it/s]\n",
      "/var/folders/7g/j5s0yzcj34l3v043s7znkplc0000gn/T/ipykernel_74264/3463236200.py:191: FutureWarning: DataFrame.applymap has been deprecated. Use DataFrame.map instead.\n",
      "  df = df.applymap(lambda x: 0.0 if isinstance(x, float) and not np.isfinite(x) else x)\n"
     ]
    },
    {
     "name": "stdout",
     "output_type": "stream",
     "text": [
      "🌍 Global mean/std (signal): 4.6121, 1.2591\n"
     ]
    },
    {
     "name": "stderr",
     "output_type": "stream",
     "text": [
      "Computing tss features: 100%|██████████| 18268/18268 [00:02<00:00, 7250.92it/s]\n"
     ]
    },
    {
     "name": "stdout",
     "output_type": "stream",
     "text": [
      "\n",
      "✅ Saved: ../preprocessed_data/reference/0. data/bed50_one_side/X2_logzscore.tsv\n",
      "📊 Final shape: 18268 genes × 511 columns\n",
      "\n",
      "=== 🧬 Processing Cell Line: X3 ===\n",
      "Normalization mode: log_zscore\n",
      "📖 Loaded reference table: 18268 genes\n",
      "\n",
      "📘 Reading DNase (X3) ...\n",
      "📊 Loaded 71812 peaks, grouped into 24 chromosomes\n",
      "⚙️ Computing features for DNase (X3) ...\n",
      "🌍 Global mean/std (signal): 49.7253, 41.5291\n"
     ]
    },
    {
     "name": "stderr",
     "output_type": "stream",
     "text": [
      "Computing gene features: 100%|██████████| 18268/18268 [00:06<00:00, 2970.41it/s]\n",
      "/var/folders/7g/j5s0yzcj34l3v043s7znkplc0000gn/T/ipykernel_74264/3463236200.py:191: FutureWarning: DataFrame.applymap has been deprecated. Use DataFrame.map instead.\n",
      "  df = df.applymap(lambda x: 0.0 if isinstance(x, float) and not np.isfinite(x) else x)\n"
     ]
    },
    {
     "name": "stdout",
     "output_type": "stream",
     "text": [
      "🌍 Global mean/std (signal): 49.7253, 41.5291\n"
     ]
    },
    {
     "name": "stderr",
     "output_type": "stream",
     "text": [
      "Computing tss features: 100%|██████████| 18268/18268 [00:03<00:00, 4901.90it/s]\n"
     ]
    },
    {
     "name": "stdout",
     "output_type": "stream",
     "text": [
      "\n",
      "📘 Reading H3K27ac (X3) ...\n",
      "📊 Loaded 54474 peaks, grouped into 29 chromosomes\n",
      "⚙️ Computing features for H3K27ac (X3) ...\n",
      "🌍 Global mean/std (signal): 10.1940, 8.4926\n"
     ]
    },
    {
     "name": "stderr",
     "output_type": "stream",
     "text": [
      "Computing gene features: 100%|██████████| 18268/18268 [00:05<00:00, 3193.24it/s]\n",
      "/var/folders/7g/j5s0yzcj34l3v043s7znkplc0000gn/T/ipykernel_74264/3463236200.py:191: FutureWarning: DataFrame.applymap has been deprecated. Use DataFrame.map instead.\n",
      "  df = df.applymap(lambda x: 0.0 if isinstance(x, float) and not np.isfinite(x) else x)\n"
     ]
    },
    {
     "name": "stdout",
     "output_type": "stream",
     "text": [
      "🌍 Global mean/std (signal): 10.1940, 8.4926\n"
     ]
    },
    {
     "name": "stderr",
     "output_type": "stream",
     "text": [
      "Computing tss features: 100%|██████████| 18268/18268 [00:02<00:00, 6785.73it/s]\n"
     ]
    },
    {
     "name": "stdout",
     "output_type": "stream",
     "text": [
      "\n",
      "📘 Reading H3K4me3 (X3) ...\n",
      "📊 Loaded 34488 peaks, grouped into 26 chromosomes\n",
      "⚙️ Computing features for H3K4me3 (X3) ...\n",
      "🌍 Global mean/std (signal): 13.2355, 11.7258\n"
     ]
    },
    {
     "name": "stderr",
     "output_type": "stream",
     "text": [
      "Computing gene features: 100%|██████████| 18268/18268 [00:06<00:00, 2632.54it/s]\n",
      "/var/folders/7g/j5s0yzcj34l3v043s7znkplc0000gn/T/ipykernel_74264/3463236200.py:191: FutureWarning: DataFrame.applymap has been deprecated. Use DataFrame.map instead.\n",
      "  df = df.applymap(lambda x: 0.0 if isinstance(x, float) and not np.isfinite(x) else x)\n"
     ]
    },
    {
     "name": "stdout",
     "output_type": "stream",
     "text": [
      "🌍 Global mean/std (signal): 13.2355, 11.7258\n"
     ]
    },
    {
     "name": "stderr",
     "output_type": "stream",
     "text": [
      "Computing tss features: 100%|██████████| 18268/18268 [00:03<00:00, 6027.51it/s]\n"
     ]
    },
    {
     "name": "stdout",
     "output_type": "stream",
     "text": [
      "\n",
      "📘 Reading H3K27me3 (X3) ...\n",
      "📊 Loaded 82769 peaks, grouped into 27 chromosomes\n",
      "⚙️ Computing features for H3K27me3 (X3) ...\n",
      "🌍 Global mean/std (signal): 4.9255, 1.9164\n"
     ]
    },
    {
     "name": "stderr",
     "output_type": "stream",
     "text": [
      "Computing gene features: 100%|██████████| 18268/18268 [00:04<00:00, 3732.97it/s]\n",
      "/var/folders/7g/j5s0yzcj34l3v043s7znkplc0000gn/T/ipykernel_74264/3463236200.py:191: FutureWarning: DataFrame.applymap has been deprecated. Use DataFrame.map instead.\n",
      "  df = df.applymap(lambda x: 0.0 if isinstance(x, float) and not np.isfinite(x) else x)\n"
     ]
    },
    {
     "name": "stdout",
     "output_type": "stream",
     "text": [
      "🌍 Global mean/std (signal): 4.9255, 1.9164\n"
     ]
    },
    {
     "name": "stderr",
     "output_type": "stream",
     "text": [
      "Computing tss features: 100%|██████████| 18268/18268 [00:02<00:00, 6267.63it/s]\n"
     ]
    },
    {
     "name": "stdout",
     "output_type": "stream",
     "text": [
      "\n",
      "📘 Reading H3K36me3 (X3) ...\n",
      "📊 Loaded 68682 peaks, grouped into 24 chromosomes\n",
      "⚙️ Computing features for H3K36me3 (X3) ...\n",
      "🌍 Global mean/std (signal): 4.8880, 1.2712\n"
     ]
    },
    {
     "name": "stderr",
     "output_type": "stream",
     "text": [
      "Computing gene features: 100%|██████████| 18268/18268 [00:06<00:00, 2794.27it/s]\n",
      "/var/folders/7g/j5s0yzcj34l3v043s7znkplc0000gn/T/ipykernel_74264/3463236200.py:191: FutureWarning: DataFrame.applymap has been deprecated. Use DataFrame.map instead.\n",
      "  df = df.applymap(lambda x: 0.0 if isinstance(x, float) and not np.isfinite(x) else x)\n"
     ]
    },
    {
     "name": "stdout",
     "output_type": "stream",
     "text": [
      "🌍 Global mean/std (signal): 4.8880, 1.2712\n"
     ]
    },
    {
     "name": "stderr",
     "output_type": "stream",
     "text": [
      "Computing tss features: 100%|██████████| 18268/18268 [00:02<00:00, 6265.66it/s]\n"
     ]
    },
    {
     "name": "stdout",
     "output_type": "stream",
     "text": [
      "\n",
      "📘 Reading H3K4me1 (X3) ...\n",
      "📊 Loaded 107213 peaks, grouped into 28 chromosomes\n",
      "⚙️ Computing features for H3K4me1 (X3) ...\n",
      "🌍 Global mean/std (signal): 2.7148, 1.0648\n"
     ]
    },
    {
     "name": "stderr",
     "output_type": "stream",
     "text": [
      "Computing gene features: 100%|██████████| 18268/18268 [00:07<00:00, 2491.08it/s]\n",
      "/var/folders/7g/j5s0yzcj34l3v043s7znkplc0000gn/T/ipykernel_74264/3463236200.py:191: FutureWarning: DataFrame.applymap has been deprecated. Use DataFrame.map instead.\n",
      "  df = df.applymap(lambda x: 0.0 if isinstance(x, float) and not np.isfinite(x) else x)\n"
     ]
    },
    {
     "name": "stdout",
     "output_type": "stream",
     "text": [
      "🌍 Global mean/std (signal): 2.7148, 1.0648\n"
     ]
    },
    {
     "name": "stderr",
     "output_type": "stream",
     "text": [
      "Computing tss features: 100%|██████████| 18268/18268 [00:02<00:00, 6876.08it/s]\n"
     ]
    },
    {
     "name": "stdout",
     "output_type": "stream",
     "text": [
      "\n",
      "📘 Reading H3K9me3 (X3) ...\n",
      "📊 Loaded 46565 peaks, grouped into 69 chromosomes\n",
      "⚙️ Computing features for H3K9me3 (X3) ...\n",
      "🌍 Global mean/std (signal): 3.7462, 0.6023\n"
     ]
    },
    {
     "name": "stderr",
     "output_type": "stream",
     "text": [
      "Computing gene features: 100%|██████████| 18268/18268 [00:03<00:00, 5325.69it/s]\n",
      "/var/folders/7g/j5s0yzcj34l3v043s7znkplc0000gn/T/ipykernel_74264/3463236200.py:191: FutureWarning: DataFrame.applymap has been deprecated. Use DataFrame.map instead.\n",
      "  df = df.applymap(lambda x: 0.0 if isinstance(x, float) and not np.isfinite(x) else x)\n"
     ]
    },
    {
     "name": "stdout",
     "output_type": "stream",
     "text": [
      "🌍 Global mean/std (signal): 3.7462, 0.6023\n"
     ]
    },
    {
     "name": "stderr",
     "output_type": "stream",
     "text": [
      "Computing tss features: 100%|██████████| 18268/18268 [00:02<00:00, 6510.39it/s]\n"
     ]
    },
    {
     "name": "stdout",
     "output_type": "stream",
     "text": [
      "\n",
      "✅ Saved: ../preprocessed_data/reference/0. data/bed50_one_side/X3_logzscore.tsv\n",
      "📊 Final shape: 18268 genes × 511 columns\n"
     ]
    }
   ],
   "source": [
    "# ============================================================\n",
    "#                  主批次執行\n",
    "# ============================================================\n",
    "if __name__ == \"__main__\":\n",
    "    base_dir = \"/Users/deweywang/Desktop/GitHub/Gene-expression-prediction/ML4G_Project_1_Data\"\n",
    "    ref_path = \"../preprocessed_data/reference/reference_gene_table.tsv\"\n",
    "    output_dir = \"../preprocessed_data/reference/0. data/bed50_one_side\"\n",
    "\n",
    "    marks = [\"DNase\", \"H3K27ac\", \"H3K4me3\", \"H3K27me3\", \"H3K36me3\", \"H3K4me1\", \"H3K9me3\"]\n",
    "    cells = [\"X1\", \"X2\", \"X3\"]\n",
    "\n",
    "    for cell in cells:\n",
    "        process_cellline(\n",
    "            cell_name=cell,\n",
    "            marks=marks,\n",
    "            base_dir=base_dir,\n",
    "            ref_path=ref_path,\n",
    "            tss_window_bp=50,\n",
    "            output_dir=output_dir,\n",
    "            norm_mode=\"log_zscore\"  # 🔧 可改成 none / zscore\n",
    "        )"
   ]
  },
  {
   "cell_type": "code",
   "execution_count": 11,
   "metadata": {},
   "outputs": [
    {
     "name": "stdout",
     "output_type": "stream",
     "text": [
      "\n",
      "=== 🧬 Processing Cell Line: X1 ===\n",
      "Normalization mode: log_zscore\n",
      "📖 Loaded reference table: 18268 genes\n",
      "\n",
      "📘 Reading DNase (X1) ...\n",
      "📊 Loaded 56452 peaks, grouped into 24 chromosomes\n",
      "⚙️ Computing features for DNase (X1) ...\n",
      "🌍 Global mean/std (signal): 41.9516, 69.8208\n"
     ]
    },
    {
     "name": "stderr",
     "output_type": "stream",
     "text": [
      "Computing gene features: 100%|██████████| 18268/18268 [00:07<00:00, 2422.61it/s]\n",
      "/var/folders/7g/j5s0yzcj34l3v043s7znkplc0000gn/T/ipykernel_74264/3463236200.py:191: FutureWarning: DataFrame.applymap has been deprecated. Use DataFrame.map instead.\n",
      "  df = df.applymap(lambda x: 0.0 if isinstance(x, float) and not np.isfinite(x) else x)\n"
     ]
    },
    {
     "name": "stdout",
     "output_type": "stream",
     "text": [
      "🌍 Global mean/std (signal): 41.9516, 69.8208\n"
     ]
    },
    {
     "name": "stderr",
     "output_type": "stream",
     "text": [
      "Computing tss features: 100%|██████████| 18268/18268 [00:04<00:00, 4484.32it/s]\n"
     ]
    },
    {
     "name": "stdout",
     "output_type": "stream",
     "text": [
      "\n",
      "📘 Reading H3K27ac (X1) ...\n",
      "📊 Loaded 57887 peaks, grouped into 30 chromosomes\n",
      "⚙️ Computing features for H3K27ac (X1) ...\n",
      "🌍 Global mean/std (signal): 10.4143, 8.9643\n"
     ]
    },
    {
     "name": "stderr",
     "output_type": "stream",
     "text": [
      "Computing gene features: 100%|██████████| 18268/18268 [00:07<00:00, 2389.72it/s]\n",
      "/var/folders/7g/j5s0yzcj34l3v043s7znkplc0000gn/T/ipykernel_74264/3463236200.py:191: FutureWarning: DataFrame.applymap has been deprecated. Use DataFrame.map instead.\n",
      "  df = df.applymap(lambda x: 0.0 if isinstance(x, float) and not np.isfinite(x) else x)\n"
     ]
    },
    {
     "name": "stdout",
     "output_type": "stream",
     "text": [
      "🌍 Global mean/std (signal): 10.4143, 8.9643\n"
     ]
    },
    {
     "name": "stderr",
     "output_type": "stream",
     "text": [
      "Computing tss features: 100%|██████████| 18268/18268 [00:03<00:00, 5688.43it/s]\n"
     ]
    },
    {
     "name": "stdout",
     "output_type": "stream",
     "text": [
      "\n",
      "📘 Reading H3K4me3 (X1) ...\n",
      "📊 Loaded 42002 peaks, grouped into 30 chromosomes\n",
      "⚙️ Computing features for H3K4me3 (X1) ...\n",
      "🌍 Global mean/std (signal): 8.1494, 4.5913\n"
     ]
    },
    {
     "name": "stderr",
     "output_type": "stream",
     "text": [
      "Computing gene features: 100%|██████████| 18268/18268 [00:07<00:00, 2362.52it/s]\n",
      "/var/folders/7g/j5s0yzcj34l3v043s7znkplc0000gn/T/ipykernel_74264/3463236200.py:191: FutureWarning: DataFrame.applymap has been deprecated. Use DataFrame.map instead.\n",
      "  df = df.applymap(lambda x: 0.0 if isinstance(x, float) and not np.isfinite(x) else x)\n"
     ]
    },
    {
     "name": "stdout",
     "output_type": "stream",
     "text": [
      "🌍 Global mean/std (signal): 8.1494, 4.5913\n"
     ]
    },
    {
     "name": "stderr",
     "output_type": "stream",
     "text": [
      "Computing tss features: 100%|██████████| 18268/18268 [00:03<00:00, 5565.26it/s]\n"
     ]
    },
    {
     "name": "stdout",
     "output_type": "stream",
     "text": [
      "\n",
      "📘 Reading H3K27me3 (X1) ...\n",
      "📊 Loaded 26900 peaks, grouped into 24 chromosomes\n",
      "⚙️ Computing features for H3K27me3 (X1) ...\n",
      "🌍 Global mean/std (signal): 35.4562, 7.7610\n"
     ]
    },
    {
     "name": "stderr",
     "output_type": "stream",
     "text": [
      "Computing gene features: 100%|██████████| 18268/18268 [00:05<00:00, 3451.08it/s]\n",
      "/var/folders/7g/j5s0yzcj34l3v043s7znkplc0000gn/T/ipykernel_74264/3463236200.py:191: FutureWarning: DataFrame.applymap has been deprecated. Use DataFrame.map instead.\n",
      "  df = df.applymap(lambda x: 0.0 if isinstance(x, float) and not np.isfinite(x) else x)\n"
     ]
    },
    {
     "name": "stdout",
     "output_type": "stream",
     "text": [
      "🌍 Global mean/std (signal): 35.4562, 7.7610\n"
     ]
    },
    {
     "name": "stderr",
     "output_type": "stream",
     "text": [
      "Computing tss features: 100%|██████████| 18268/18268 [00:03<00:00, 5697.64it/s]\n"
     ]
    },
    {
     "name": "stdout",
     "output_type": "stream",
     "text": [
      "\n",
      "📘 Reading H3K36me3 (X1) ...\n",
      "📊 Loaded 81541 peaks, grouped into 27 chromosomes\n",
      "⚙️ Computing features for H3K36me3 (X1) ...\n",
      "🌍 Global mean/std (signal): 6.3442, 1.7012\n"
     ]
    },
    {
     "name": "stderr",
     "output_type": "stream",
     "text": [
      "Computing gene features: 100%|██████████| 18268/18268 [00:06<00:00, 2724.49it/s]\n",
      "/var/folders/7g/j5s0yzcj34l3v043s7znkplc0000gn/T/ipykernel_74264/3463236200.py:191: FutureWarning: DataFrame.applymap has been deprecated. Use DataFrame.map instead.\n",
      "  df = df.applymap(lambda x: 0.0 if isinstance(x, float) and not np.isfinite(x) else x)\n"
     ]
    },
    {
     "name": "stdout",
     "output_type": "stream",
     "text": [
      "🌍 Global mean/std (signal): 6.3442, 1.7012\n"
     ]
    },
    {
     "name": "stderr",
     "output_type": "stream",
     "text": [
      "Computing tss features: 100%|██████████| 18268/18268 [00:03<00:00, 5815.47it/s]\n"
     ]
    },
    {
     "name": "stdout",
     "output_type": "stream",
     "text": [
      "\n",
      "📘 Reading H3K4me1 (X1) ...\n",
      "📊 Loaded 89812 peaks, grouped into 26 chromosomes\n",
      "⚙️ Computing features for H3K4me1 (X1) ...\n",
      "🌍 Global mean/std (signal): 4.7735, 1.7659\n"
     ]
    },
    {
     "name": "stderr",
     "output_type": "stream",
     "text": [
      "Computing gene features: 100%|██████████| 18268/18268 [00:06<00:00, 2753.11it/s]\n",
      "/var/folders/7g/j5s0yzcj34l3v043s7znkplc0000gn/T/ipykernel_74264/3463236200.py:191: FutureWarning: DataFrame.applymap has been deprecated. Use DataFrame.map instead.\n",
      "  df = df.applymap(lambda x: 0.0 if isinstance(x, float) and not np.isfinite(x) else x)\n"
     ]
    },
    {
     "name": "stdout",
     "output_type": "stream",
     "text": [
      "🌍 Global mean/std (signal): 4.7735, 1.7659\n"
     ]
    },
    {
     "name": "stderr",
     "output_type": "stream",
     "text": [
      "Computing tss features: 100%|██████████| 18268/18268 [00:02<00:00, 6127.95it/s]\n"
     ]
    },
    {
     "name": "stdout",
     "output_type": "stream",
     "text": [
      "\n",
      "📘 Reading H3K9me3 (X1) ...\n",
      "📊 Loaded 18835 peaks, grouped into 30 chromosomes\n",
      "⚙️ Computing features for H3K9me3 (X1) ...\n",
      "🌍 Global mean/std (signal): 4.1487, 0.9139\n"
     ]
    },
    {
     "name": "stderr",
     "output_type": "stream",
     "text": [
      "Computing gene features: 100%|██████████| 18268/18268 [00:05<00:00, 3597.85it/s]\n",
      "/var/folders/7g/j5s0yzcj34l3v043s7znkplc0000gn/T/ipykernel_74264/3463236200.py:191: FutureWarning: DataFrame.applymap has been deprecated. Use DataFrame.map instead.\n",
      "  df = df.applymap(lambda x: 0.0 if isinstance(x, float) and not np.isfinite(x) else x)\n"
     ]
    },
    {
     "name": "stdout",
     "output_type": "stream",
     "text": [
      "🌍 Global mean/std (signal): 4.1487, 0.9139\n"
     ]
    },
    {
     "name": "stderr",
     "output_type": "stream",
     "text": [
      "Computing tss features: 100%|██████████| 18268/18268 [00:03<00:00, 5904.72it/s]\n"
     ]
    },
    {
     "name": "stdout",
     "output_type": "stream",
     "text": [
      "\n",
      "✅ Saved: ../preprocessed_data/reference/0. data/bed0_one_side/X1_logzscore.tsv\n",
      "📊 Final shape: 18268 genes × 511 columns\n",
      "\n",
      "=== 🧬 Processing Cell Line: X2 ===\n",
      "Normalization mode: log_zscore\n",
      "📖 Loaded reference table: 18268 genes\n",
      "\n",
      "📘 Reading DNase (X2) ...\n",
      "📊 Loaded 181146 peaks, grouped into 24 chromosomes\n",
      "⚙️ Computing features for DNase (X2) ...\n",
      "🌍 Global mean/std (signal): 92.3270, 122.1105\n"
     ]
    },
    {
     "name": "stderr",
     "output_type": "stream",
     "text": [
      "Computing gene features: 100%|██████████| 18268/18268 [00:08<00:00, 2177.41it/s]\n",
      "/var/folders/7g/j5s0yzcj34l3v043s7znkplc0000gn/T/ipykernel_74264/3463236200.py:191: FutureWarning: DataFrame.applymap has been deprecated. Use DataFrame.map instead.\n",
      "  df = df.applymap(lambda x: 0.0 if isinstance(x, float) and not np.isfinite(x) else x)\n"
     ]
    },
    {
     "name": "stdout",
     "output_type": "stream",
     "text": [
      "🌍 Global mean/std (signal): 92.3270, 122.1105\n"
     ]
    },
    {
     "name": "stderr",
     "output_type": "stream",
     "text": [
      "Computing tss features: 100%|██████████| 18268/18268 [00:03<00:00, 5315.97it/s]\n"
     ]
    },
    {
     "name": "stdout",
     "output_type": "stream",
     "text": [
      "\n",
      "📘 Reading H3K27ac (X2) ...\n",
      "📊 Loaded 76094 peaks, grouped into 26 chromosomes\n",
      "⚙️ Computing features for H3K27ac (X2) ...\n",
      "🌍 Global mean/std (signal): 27.9351, 15.7785\n"
     ]
    },
    {
     "name": "stderr",
     "output_type": "stream",
     "text": [
      "Computing gene features: 100%|██████████| 18268/18268 [00:07<00:00, 2313.58it/s]\n",
      "/var/folders/7g/j5s0yzcj34l3v043s7znkplc0000gn/T/ipykernel_74264/3463236200.py:191: FutureWarning: DataFrame.applymap has been deprecated. Use DataFrame.map instead.\n",
      "  df = df.applymap(lambda x: 0.0 if isinstance(x, float) and not np.isfinite(x) else x)\n"
     ]
    },
    {
     "name": "stdout",
     "output_type": "stream",
     "text": [
      "🌍 Global mean/std (signal): 27.9351, 15.7785\n"
     ]
    },
    {
     "name": "stderr",
     "output_type": "stream",
     "text": [
      "Computing tss features: 100%|██████████| 18268/18268 [00:03<00:00, 5746.02it/s]\n"
     ]
    },
    {
     "name": "stdout",
     "output_type": "stream",
     "text": [
      "\n",
      "📘 Reading H3K4me3 (X2) ...\n",
      "📊 Loaded 42142 peaks, grouped into 39 chromosomes\n",
      "⚙️ Computing features for H3K4me3 (X2) ...\n",
      "🌍 Global mean/std (signal): 2.3985, 2.0274\n"
     ]
    },
    {
     "name": "stderr",
     "output_type": "stream",
     "text": [
      "Computing gene features: 100%|██████████| 18268/18268 [00:08<00:00, 2176.97it/s]\n",
      "/var/folders/7g/j5s0yzcj34l3v043s7znkplc0000gn/T/ipykernel_74264/3463236200.py:191: FutureWarning: DataFrame.applymap has been deprecated. Use DataFrame.map instead.\n",
      "  df = df.applymap(lambda x: 0.0 if isinstance(x, float) and not np.isfinite(x) else x)\n"
     ]
    },
    {
     "name": "stdout",
     "output_type": "stream",
     "text": [
      "🌍 Global mean/std (signal): 2.3985, 2.0274\n"
     ]
    },
    {
     "name": "stderr",
     "output_type": "stream",
     "text": [
      "Computing tss features: 100%|██████████| 18268/18268 [00:03<00:00, 5866.05it/s]\n"
     ]
    },
    {
     "name": "stdout",
     "output_type": "stream",
     "text": [
      "\n",
      "📘 Reading H3K27me3 (X2) ...\n",
      "📊 Loaded 24458 peaks, grouped into 29 chromosomes\n",
      "⚙️ Computing features for H3K27me3 (X2) ...\n",
      "🌍 Global mean/std (signal): 3.7757, 3.3489\n"
     ]
    },
    {
     "name": "stderr",
     "output_type": "stream",
     "text": [
      "Computing gene features: 100%|██████████| 18268/18268 [00:04<00:00, 3762.68it/s]\n",
      "/var/folders/7g/j5s0yzcj34l3v043s7znkplc0000gn/T/ipykernel_74264/3463236200.py:191: FutureWarning: DataFrame.applymap has been deprecated. Use DataFrame.map instead.\n",
      "  df = df.applymap(lambda x: 0.0 if isinstance(x, float) and not np.isfinite(x) else x)\n"
     ]
    },
    {
     "name": "stdout",
     "output_type": "stream",
     "text": [
      "🌍 Global mean/std (signal): 3.7757, 3.3489\n"
     ]
    },
    {
     "name": "stderr",
     "output_type": "stream",
     "text": [
      "Computing tss features: 100%|██████████| 18268/18268 [00:03<00:00, 6002.28it/s]\n"
     ]
    },
    {
     "name": "stdout",
     "output_type": "stream",
     "text": [
      "\n",
      "📘 Reading H3K36me3 (X2) ...\n",
      "📊 Loaded 77131 peaks, grouped into 26 chromosomes\n",
      "⚙️ Computing features for H3K36me3 (X2) ...\n",
      "🌍 Global mean/std (signal): 4.0910, 1.0740\n"
     ]
    },
    {
     "name": "stderr",
     "output_type": "stream",
     "text": [
      "Computing gene features: 100%|██████████| 18268/18268 [00:06<00:00, 2643.30it/s]\n",
      "/var/folders/7g/j5s0yzcj34l3v043s7znkplc0000gn/T/ipykernel_74264/3463236200.py:191: FutureWarning: DataFrame.applymap has been deprecated. Use DataFrame.map instead.\n",
      "  df = df.applymap(lambda x: 0.0 if isinstance(x, float) and not np.isfinite(x) else x)\n"
     ]
    },
    {
     "name": "stdout",
     "output_type": "stream",
     "text": [
      "🌍 Global mean/std (signal): 4.0910, 1.0740\n"
     ]
    },
    {
     "name": "stderr",
     "output_type": "stream",
     "text": [
      "Computing tss features: 100%|██████████| 18268/18268 [00:03<00:00, 5227.78it/s]\n"
     ]
    },
    {
     "name": "stdout",
     "output_type": "stream",
     "text": [
      "\n",
      "📘 Reading H3K4me1 (X2) ...\n",
      "📊 Loaded 135476 peaks, grouped into 28 chromosomes\n",
      "⚙️ Computing features for H3K4me1 (X2) ...\n",
      "🌍 Global mean/std (signal): 4.1086, 1.0515\n"
     ]
    },
    {
     "name": "stderr",
     "output_type": "stream",
     "text": [
      "Computing gene features: 100%|██████████| 18268/18268 [00:07<00:00, 2366.07it/s]\n",
      "/var/folders/7g/j5s0yzcj34l3v043s7znkplc0000gn/T/ipykernel_74264/3463236200.py:191: FutureWarning: DataFrame.applymap has been deprecated. Use DataFrame.map instead.\n",
      "  df = df.applymap(lambda x: 0.0 if isinstance(x, float) and not np.isfinite(x) else x)\n"
     ]
    },
    {
     "name": "stdout",
     "output_type": "stream",
     "text": [
      "🌍 Global mean/std (signal): 4.1086, 1.0515\n"
     ]
    },
    {
     "name": "stderr",
     "output_type": "stream",
     "text": [
      "Computing tss features: 100%|██████████| 18268/18268 [00:03<00:00, 5944.50it/s]\n"
     ]
    },
    {
     "name": "stdout",
     "output_type": "stream",
     "text": [
      "\n",
      "📘 Reading H3K9me3 (X2) ...\n",
      "📊 Loaded 94156 peaks, grouped into 91 chromosomes\n",
      "⚙️ Computing features for H3K9me3 (X2) ...\n",
      "🌍 Global mean/std (signal): 4.6121, 1.2591\n"
     ]
    },
    {
     "name": "stderr",
     "output_type": "stream",
     "text": [
      "Computing gene features: 100%|██████████| 18268/18268 [00:04<00:00, 4455.68it/s]\n",
      "/var/folders/7g/j5s0yzcj34l3v043s7znkplc0000gn/T/ipykernel_74264/3463236200.py:191: FutureWarning: DataFrame.applymap has been deprecated. Use DataFrame.map instead.\n",
      "  df = df.applymap(lambda x: 0.0 if isinstance(x, float) and not np.isfinite(x) else x)\n"
     ]
    },
    {
     "name": "stdout",
     "output_type": "stream",
     "text": [
      "🌍 Global mean/std (signal): 4.6121, 1.2591\n"
     ]
    },
    {
     "name": "stderr",
     "output_type": "stream",
     "text": [
      "Computing tss features: 100%|██████████| 18268/18268 [00:02<00:00, 7320.60it/s]\n"
     ]
    },
    {
     "name": "stdout",
     "output_type": "stream",
     "text": [
      "\n",
      "✅ Saved: ../preprocessed_data/reference/0. data/bed0_one_side/X2_logzscore.tsv\n",
      "📊 Final shape: 18268 genes × 511 columns\n",
      "\n",
      "=== 🧬 Processing Cell Line: X3 ===\n",
      "Normalization mode: log_zscore\n",
      "📖 Loaded reference table: 18268 genes\n",
      "\n",
      "📘 Reading DNase (X3) ...\n",
      "📊 Loaded 71812 peaks, grouped into 24 chromosomes\n",
      "⚙️ Computing features for DNase (X3) ...\n",
      "🌍 Global mean/std (signal): 49.7253, 41.5291\n"
     ]
    },
    {
     "name": "stderr",
     "output_type": "stream",
     "text": [
      "Computing gene features: 100%|██████████| 18268/18268 [00:06<00:00, 2944.58it/s]\n",
      "/var/folders/7g/j5s0yzcj34l3v043s7znkplc0000gn/T/ipykernel_74264/3463236200.py:191: FutureWarning: DataFrame.applymap has been deprecated. Use DataFrame.map instead.\n",
      "  df = df.applymap(lambda x: 0.0 if isinstance(x, float) and not np.isfinite(x) else x)\n"
     ]
    },
    {
     "name": "stdout",
     "output_type": "stream",
     "text": [
      "🌍 Global mean/std (signal): 49.7253, 41.5291\n"
     ]
    },
    {
     "name": "stderr",
     "output_type": "stream",
     "text": [
      "Computing tss features: 100%|██████████| 18268/18268 [00:02<00:00, 6409.91it/s]\n"
     ]
    },
    {
     "name": "stdout",
     "output_type": "stream",
     "text": [
      "\n",
      "📘 Reading H3K27ac (X3) ...\n",
      "📊 Loaded 54474 peaks, grouped into 29 chromosomes\n",
      "⚙️ Computing features for H3K27ac (X3) ...\n",
      "🌍 Global mean/std (signal): 10.1940, 8.4926\n"
     ]
    },
    {
     "name": "stderr",
     "output_type": "stream",
     "text": [
      "Computing gene features: 100%|██████████| 18268/18268 [00:05<00:00, 3332.26it/s]\n",
      "/var/folders/7g/j5s0yzcj34l3v043s7znkplc0000gn/T/ipykernel_74264/3463236200.py:191: FutureWarning: DataFrame.applymap has been deprecated. Use DataFrame.map instead.\n",
      "  df = df.applymap(lambda x: 0.0 if isinstance(x, float) and not np.isfinite(x) else x)\n"
     ]
    },
    {
     "name": "stdout",
     "output_type": "stream",
     "text": [
      "🌍 Global mean/std (signal): 10.1940, 8.4926\n"
     ]
    },
    {
     "name": "stderr",
     "output_type": "stream",
     "text": [
      "Computing tss features: 100%|██████████| 18268/18268 [00:02<00:00, 7070.21it/s]\n"
     ]
    },
    {
     "name": "stdout",
     "output_type": "stream",
     "text": [
      "\n",
      "📘 Reading H3K4me3 (X3) ...\n",
      "📊 Loaded 34488 peaks, grouped into 26 chromosomes\n",
      "⚙️ Computing features for H3K4me3 (X3) ...\n",
      "🌍 Global mean/std (signal): 13.2355, 11.7258\n"
     ]
    },
    {
     "name": "stderr",
     "output_type": "stream",
     "text": [
      "Computing gene features: 100%|██████████| 18268/18268 [00:06<00:00, 2953.30it/s]\n",
      "/var/folders/7g/j5s0yzcj34l3v043s7znkplc0000gn/T/ipykernel_74264/3463236200.py:191: FutureWarning: DataFrame.applymap has been deprecated. Use DataFrame.map instead.\n",
      "  df = df.applymap(lambda x: 0.0 if isinstance(x, float) and not np.isfinite(x) else x)\n"
     ]
    },
    {
     "name": "stdout",
     "output_type": "stream",
     "text": [
      "🌍 Global mean/std (signal): 13.2355, 11.7258\n"
     ]
    },
    {
     "name": "stderr",
     "output_type": "stream",
     "text": [
      "Computing tss features: 100%|██████████| 18268/18268 [00:03<00:00, 5366.16it/s]\n"
     ]
    },
    {
     "name": "stdout",
     "output_type": "stream",
     "text": [
      "\n",
      "📘 Reading H3K27me3 (X3) ...\n",
      "📊 Loaded 82769 peaks, grouped into 27 chromosomes\n",
      "⚙️ Computing features for H3K27me3 (X3) ...\n",
      "🌍 Global mean/std (signal): 4.9255, 1.9164\n"
     ]
    },
    {
     "name": "stderr",
     "output_type": "stream",
     "text": [
      "Computing gene features: 100%|██████████| 18268/18268 [00:04<00:00, 4347.49it/s]\n",
      "/var/folders/7g/j5s0yzcj34l3v043s7znkplc0000gn/T/ipykernel_74264/3463236200.py:191: FutureWarning: DataFrame.applymap has been deprecated. Use DataFrame.map instead.\n",
      "  df = df.applymap(lambda x: 0.0 if isinstance(x, float) and not np.isfinite(x) else x)\n"
     ]
    },
    {
     "name": "stdout",
     "output_type": "stream",
     "text": [
      "🌍 Global mean/std (signal): 4.9255, 1.9164\n"
     ]
    },
    {
     "name": "stderr",
     "output_type": "stream",
     "text": [
      "Computing tss features: 100%|██████████| 18268/18268 [00:02<00:00, 7031.52it/s]\n"
     ]
    },
    {
     "name": "stdout",
     "output_type": "stream",
     "text": [
      "\n",
      "📘 Reading H3K36me3 (X3) ...\n",
      "📊 Loaded 68682 peaks, grouped into 24 chromosomes\n",
      "⚙️ Computing features for H3K36me3 (X3) ...\n",
      "🌍 Global mean/std (signal): 4.8880, 1.2712\n"
     ]
    },
    {
     "name": "stderr",
     "output_type": "stream",
     "text": [
      "Computing gene features: 100%|██████████| 18268/18268 [00:04<00:00, 3718.95it/s]\n",
      "/var/folders/7g/j5s0yzcj34l3v043s7znkplc0000gn/T/ipykernel_74264/3463236200.py:191: FutureWarning: DataFrame.applymap has been deprecated. Use DataFrame.map instead.\n",
      "  df = df.applymap(lambda x: 0.0 if isinstance(x, float) and not np.isfinite(x) else x)\n"
     ]
    },
    {
     "name": "stdout",
     "output_type": "stream",
     "text": [
      "🌍 Global mean/std (signal): 4.8880, 1.2712\n"
     ]
    },
    {
     "name": "stderr",
     "output_type": "stream",
     "text": [
      "Computing tss features: 100%|██████████| 18268/18268 [00:02<00:00, 6851.09it/s]\n"
     ]
    },
    {
     "name": "stdout",
     "output_type": "stream",
     "text": [
      "\n",
      "📘 Reading H3K4me1 (X3) ...\n",
      "📊 Loaded 107213 peaks, grouped into 28 chromosomes\n",
      "⚙️ Computing features for H3K4me1 (X3) ...\n",
      "🌍 Global mean/std (signal): 2.7148, 1.0648\n"
     ]
    },
    {
     "name": "stderr",
     "output_type": "stream",
     "text": [
      "Computing gene features: 100%|██████████| 18268/18268 [00:06<00:00, 2893.63it/s]\n",
      "/var/folders/7g/j5s0yzcj34l3v043s7znkplc0000gn/T/ipykernel_74264/3463236200.py:191: FutureWarning: DataFrame.applymap has been deprecated. Use DataFrame.map instead.\n",
      "  df = df.applymap(lambda x: 0.0 if isinstance(x, float) and not np.isfinite(x) else x)\n"
     ]
    },
    {
     "name": "stdout",
     "output_type": "stream",
     "text": [
      "🌍 Global mean/std (signal): 2.7148, 1.0648\n"
     ]
    },
    {
     "name": "stderr",
     "output_type": "stream",
     "text": [
      "Computing tss features: 100%|██████████| 18268/18268 [00:02<00:00, 7011.98it/s]\n"
     ]
    },
    {
     "name": "stdout",
     "output_type": "stream",
     "text": [
      "\n",
      "📘 Reading H3K9me3 (X3) ...\n",
      "📊 Loaded 46565 peaks, grouped into 69 chromosomes\n",
      "⚙️ Computing features for H3K9me3 (X3) ...\n",
      "🌍 Global mean/std (signal): 3.7462, 0.6023\n"
     ]
    },
    {
     "name": "stderr",
     "output_type": "stream",
     "text": [
      "Computing gene features: 100%|██████████| 18268/18268 [00:02<00:00, 6093.17it/s]\n",
      "/var/folders/7g/j5s0yzcj34l3v043s7znkplc0000gn/T/ipykernel_74264/3463236200.py:191: FutureWarning: DataFrame.applymap has been deprecated. Use DataFrame.map instead.\n",
      "  df = df.applymap(lambda x: 0.0 if isinstance(x, float) and not np.isfinite(x) else x)\n"
     ]
    },
    {
     "name": "stdout",
     "output_type": "stream",
     "text": [
      "🌍 Global mean/std (signal): 3.7462, 0.6023\n"
     ]
    },
    {
     "name": "stderr",
     "output_type": "stream",
     "text": [
      "Computing tss features: 100%|██████████| 18268/18268 [00:02<00:00, 7352.05it/s]\n"
     ]
    },
    {
     "name": "stdout",
     "output_type": "stream",
     "text": [
      "\n",
      "✅ Saved: ../preprocessed_data/reference/0. data/bed0_one_side/X3_logzscore.tsv\n",
      "📊 Final shape: 18268 genes × 511 columns\n"
     ]
    }
   ],
   "source": [
    "# ============================================================\n",
    "#                  主批次執行\n",
    "# ============================================================\n",
    "if __name__ == \"__main__\":\n",
    "    base_dir = \"/Users/deweywang/Desktop/GitHub/Gene-expression-prediction/ML4G_Project_1_Data\"\n",
    "    ref_path = \"../preprocessed_data/reference/reference_gene_table.tsv\"\n",
    "    output_dir = \"../preprocessed_data/reference/0. data/bed0_one_side\"\n",
    "\n",
    "    marks = [\"DNase\", \"H3K27ac\", \"H3K4me3\", \"H3K27me3\", \"H3K36me3\", \"H3K4me1\", \"H3K9me3\"]\n",
    "    cells = [\"X1\", \"X2\", \"X3\"]\n",
    "\n",
    "    for cell in cells:\n",
    "        process_cellline(\n",
    "            cell_name=cell,\n",
    "            marks=marks,\n",
    "            base_dir=base_dir,\n",
    "            ref_path=ref_path,\n",
    "            tss_window_bp=0,\n",
    "            output_dir=output_dir,\n",
    "            norm_mode=\"log_zscore\"  # 🔧 可改成 none / zscore\n",
    "        )"
   ]
  },
  {
   "cell_type": "code",
   "execution_count": 12,
   "metadata": {},
   "outputs": [
    {
     "name": "stdout",
     "output_type": "stream",
     "text": [
      "\n",
      "=== 🧬 Processing Cell Line: X1 ===\n",
      "Normalization mode: log_zscore\n",
      "📖 Loaded reference table: 18268 genes\n",
      "\n",
      "📘 Reading DNase (X1) ...\n",
      "📊 Loaded 56452 peaks, grouped into 24 chromosomes\n",
      "⚙️ Computing features for DNase (X1) ...\n",
      "🌍 Global mean/std (signal): 41.9516, 69.8208\n"
     ]
    },
    {
     "name": "stderr",
     "output_type": "stream",
     "text": [
      "Computing gene features: 100%|██████████| 18268/18268 [00:09<00:00, 2005.16it/s]\n",
      "/var/folders/7g/j5s0yzcj34l3v043s7znkplc0000gn/T/ipykernel_18314/3463236200.py:191: FutureWarning: DataFrame.applymap has been deprecated. Use DataFrame.map instead.\n",
      "  df = df.applymap(lambda x: 0.0 if isinstance(x, float) and not np.isfinite(x) else x)\n"
     ]
    },
    {
     "name": "stdout",
     "output_type": "stream",
     "text": [
      "🌍 Global mean/std (signal): 41.9516, 69.8208\n"
     ]
    },
    {
     "name": "stderr",
     "output_type": "stream",
     "text": [
      "Computing tss features: 100%|██████████| 18268/18268 [00:06<00:00, 2786.06it/s]\n"
     ]
    },
    {
     "name": "stdout",
     "output_type": "stream",
     "text": [
      "\n",
      "📘 Reading H3K27ac (X1) ...\n",
      "📊 Loaded 57887 peaks, grouped into 30 chromosomes\n",
      "⚙️ Computing features for H3K27ac (X1) ...\n",
      "🌍 Global mean/std (signal): 10.4143, 8.9643\n"
     ]
    },
    {
     "name": "stderr",
     "output_type": "stream",
     "text": [
      "Computing gene features: 100%|██████████| 18268/18268 [00:08<00:00, 2120.52it/s]\n",
      "/var/folders/7g/j5s0yzcj34l3v043s7znkplc0000gn/T/ipykernel_18314/3463236200.py:191: FutureWarning: DataFrame.applymap has been deprecated. Use DataFrame.map instead.\n",
      "  df = df.applymap(lambda x: 0.0 if isinstance(x, float) and not np.isfinite(x) else x)\n"
     ]
    },
    {
     "name": "stdout",
     "output_type": "stream",
     "text": [
      "🌍 Global mean/std (signal): 10.4143, 8.9643\n"
     ]
    },
    {
     "name": "stderr",
     "output_type": "stream",
     "text": [
      "Computing tss features: 100%|██████████| 18268/18268 [00:06<00:00, 2916.86it/s]\n"
     ]
    },
    {
     "name": "stdout",
     "output_type": "stream",
     "text": [
      "\n",
      "📘 Reading H3K4me3 (X1) ...\n",
      "📊 Loaded 42002 peaks, grouped into 30 chromosomes\n",
      "⚙️ Computing features for H3K4me3 (X1) ...\n",
      "🌍 Global mean/std (signal): 8.1494, 4.5913\n"
     ]
    },
    {
     "name": "stderr",
     "output_type": "stream",
     "text": [
      "Computing gene features: 100%|██████████| 18268/18268 [00:09<00:00, 2000.77it/s]\n",
      "/var/folders/7g/j5s0yzcj34l3v043s7znkplc0000gn/T/ipykernel_18314/3463236200.py:191: FutureWarning: DataFrame.applymap has been deprecated. Use DataFrame.map instead.\n",
      "  df = df.applymap(lambda x: 0.0 if isinstance(x, float) and not np.isfinite(x) else x)\n"
     ]
    },
    {
     "name": "stdout",
     "output_type": "stream",
     "text": [
      "🌍 Global mean/std (signal): 8.1494, 4.5913\n"
     ]
    },
    {
     "name": "stderr",
     "output_type": "stream",
     "text": [
      "Computing tss features: 100%|██████████| 18268/18268 [00:04<00:00, 3665.04it/s]\n"
     ]
    },
    {
     "name": "stdout",
     "output_type": "stream",
     "text": [
      "\n",
      "📘 Reading H3K27me3 (X1) ...\n",
      "📊 Loaded 26900 peaks, grouped into 24 chromosomes\n",
      "⚙️ Computing features for H3K27me3 (X1) ...\n",
      "🌍 Global mean/std (signal): 35.4562, 7.7610\n"
     ]
    },
    {
     "name": "stderr",
     "output_type": "stream",
     "text": [
      "Computing gene features: 100%|██████████| 18268/18268 [00:05<00:00, 3372.56it/s]\n",
      "/var/folders/7g/j5s0yzcj34l3v043s7znkplc0000gn/T/ipykernel_18314/3463236200.py:191: FutureWarning: DataFrame.applymap has been deprecated. Use DataFrame.map instead.\n",
      "  df = df.applymap(lambda x: 0.0 if isinstance(x, float) and not np.isfinite(x) else x)\n"
     ]
    },
    {
     "name": "stdout",
     "output_type": "stream",
     "text": [
      "🌍 Global mean/std (signal): 35.4562, 7.7610\n"
     ]
    },
    {
     "name": "stderr",
     "output_type": "stream",
     "text": [
      "Computing tss features: 100%|██████████| 18268/18268 [00:04<00:00, 4344.64it/s]\n"
     ]
    },
    {
     "name": "stdout",
     "output_type": "stream",
     "text": [
      "\n",
      "📘 Reading H3K36me3 (X1) ...\n",
      "📊 Loaded 81541 peaks, grouped into 27 chromosomes\n",
      "⚙️ Computing features for H3K36me3 (X1) ...\n",
      "🌍 Global mean/std (signal): 6.3442, 1.7012\n"
     ]
    },
    {
     "name": "stderr",
     "output_type": "stream",
     "text": [
      "Computing gene features: 100%|██████████| 18268/18268 [00:07<00:00, 2522.54it/s]\n",
      "/var/folders/7g/j5s0yzcj34l3v043s7znkplc0000gn/T/ipykernel_18314/3463236200.py:191: FutureWarning: DataFrame.applymap has been deprecated. Use DataFrame.map instead.\n",
      "  df = df.applymap(lambda x: 0.0 if isinstance(x, float) and not np.isfinite(x) else x)\n"
     ]
    },
    {
     "name": "stdout",
     "output_type": "stream",
     "text": [
      "🌍 Global mean/std (signal): 6.3442, 1.7012\n"
     ]
    },
    {
     "name": "stderr",
     "output_type": "stream",
     "text": [
      "Computing tss features: 100%|██████████| 18268/18268 [00:04<00:00, 4518.16it/s]\n"
     ]
    },
    {
     "name": "stdout",
     "output_type": "stream",
     "text": [
      "\n",
      "📘 Reading H3K4me1 (X1) ...\n",
      "📊 Loaded 89812 peaks, grouped into 26 chromosomes\n",
      "⚙️ Computing features for H3K4me1 (X1) ...\n",
      "🌍 Global mean/std (signal): 4.7735, 1.7659\n"
     ]
    },
    {
     "name": "stderr",
     "output_type": "stream",
     "text": [
      "Computing gene features: 100%|██████████| 18268/18268 [00:08<00:00, 2195.23it/s]\n",
      "/var/folders/7g/j5s0yzcj34l3v043s7znkplc0000gn/T/ipykernel_18314/3463236200.py:191: FutureWarning: DataFrame.applymap has been deprecated. Use DataFrame.map instead.\n",
      "  df = df.applymap(lambda x: 0.0 if isinstance(x, float) and not np.isfinite(x) else x)\n"
     ]
    },
    {
     "name": "stdout",
     "output_type": "stream",
     "text": [
      "🌍 Global mean/std (signal): 4.7735, 1.7659\n"
     ]
    },
    {
     "name": "stderr",
     "output_type": "stream",
     "text": [
      "Computing tss features: 100%|██████████| 18268/18268 [00:04<00:00, 4181.21it/s]\n"
     ]
    },
    {
     "name": "stdout",
     "output_type": "stream",
     "text": [
      "\n",
      "📘 Reading H3K9me3 (X1) ...\n",
      "📊 Loaded 18835 peaks, grouped into 30 chromosomes\n",
      "⚙️ Computing features for H3K9me3 (X1) ...\n",
      "🌍 Global mean/std (signal): 4.1487, 0.9139\n"
     ]
    },
    {
     "name": "stderr",
     "output_type": "stream",
     "text": [
      "Computing gene features: 100%|██████████| 18268/18268 [00:05<00:00, 3454.95it/s]\n",
      "/var/folders/7g/j5s0yzcj34l3v043s7znkplc0000gn/T/ipykernel_18314/3463236200.py:191: FutureWarning: DataFrame.applymap has been deprecated. Use DataFrame.map instead.\n",
      "  df = df.applymap(lambda x: 0.0 if isinstance(x, float) and not np.isfinite(x) else x)\n"
     ]
    },
    {
     "name": "stdout",
     "output_type": "stream",
     "text": [
      "🌍 Global mean/std (signal): 4.1487, 0.9139\n"
     ]
    },
    {
     "name": "stderr",
     "output_type": "stream",
     "text": [
      "Computing tss features: 100%|██████████| 18268/18268 [00:03<00:00, 4808.86it/s]\n"
     ]
    },
    {
     "name": "stdout",
     "output_type": "stream",
     "text": [
      "\n",
      "✅ Saved: ../preprocessed_data/reference/0. data/bed500_one_side/X1_logzscore.tsv\n",
      "📊 Final shape: 18268 genes × 511 columns\n",
      "\n",
      "=== 🧬 Processing Cell Line: X2 ===\n",
      "Normalization mode: log_zscore\n",
      "📖 Loaded reference table: 18268 genes\n",
      "\n",
      "📘 Reading DNase (X2) ...\n",
      "📊 Loaded 181146 peaks, grouped into 24 chromosomes\n",
      "⚙️ Computing features for DNase (X2) ...\n",
      "🌍 Global mean/std (signal): 92.3270, 122.1105\n"
     ]
    },
    {
     "name": "stderr",
     "output_type": "stream",
     "text": [
      "Computing gene features: 100%|██████████| 18268/18268 [00:09<00:00, 1905.81it/s]\n",
      "/var/folders/7g/j5s0yzcj34l3v043s7znkplc0000gn/T/ipykernel_18314/3463236200.py:191: FutureWarning: DataFrame.applymap has been deprecated. Use DataFrame.map instead.\n",
      "  df = df.applymap(lambda x: 0.0 if isinstance(x, float) and not np.isfinite(x) else x)\n"
     ]
    },
    {
     "name": "stdout",
     "output_type": "stream",
     "text": [
      "🌍 Global mean/std (signal): 92.3270, 122.1105\n"
     ]
    },
    {
     "name": "stderr",
     "output_type": "stream",
     "text": [
      "Computing tss features: 100%|██████████| 18268/18268 [00:07<00:00, 2317.92it/s]\n"
     ]
    },
    {
     "name": "stdout",
     "output_type": "stream",
     "text": [
      "\n",
      "📘 Reading H3K27ac (X2) ...\n",
      "📊 Loaded 76094 peaks, grouped into 26 chromosomes\n",
      "⚙️ Computing features for H3K27ac (X2) ...\n",
      "🌍 Global mean/std (signal): 27.9351, 15.7785\n"
     ]
    },
    {
     "name": "stderr",
     "output_type": "stream",
     "text": [
      "Computing gene features: 100%|██████████| 18268/18268 [00:09<00:00, 2026.72it/s]\n",
      "/var/folders/7g/j5s0yzcj34l3v043s7znkplc0000gn/T/ipykernel_18314/3463236200.py:191: FutureWarning: DataFrame.applymap has been deprecated. Use DataFrame.map instead.\n",
      "  df = df.applymap(lambda x: 0.0 if isinstance(x, float) and not np.isfinite(x) else x)\n"
     ]
    },
    {
     "name": "stdout",
     "output_type": "stream",
     "text": [
      "🌍 Global mean/std (signal): 27.9351, 15.7785\n"
     ]
    },
    {
     "name": "stderr",
     "output_type": "stream",
     "text": [
      "Computing tss features: 100%|██████████| 18268/18268 [00:05<00:00, 3430.69it/s]\n"
     ]
    },
    {
     "name": "stdout",
     "output_type": "stream",
     "text": [
      "\n",
      "📘 Reading H3K4me3 (X2) ...\n",
      "📊 Loaded 42142 peaks, grouped into 39 chromosomes\n",
      "⚙️ Computing features for H3K4me3 (X2) ...\n",
      "🌍 Global mean/std (signal): 2.3985, 2.0274\n"
     ]
    },
    {
     "name": "stderr",
     "output_type": "stream",
     "text": [
      "Computing gene features: 100%|██████████| 18268/18268 [00:09<00:00, 2003.92it/s]\n",
      "/var/folders/7g/j5s0yzcj34l3v043s7znkplc0000gn/T/ipykernel_18314/3463236200.py:191: FutureWarning: DataFrame.applymap has been deprecated. Use DataFrame.map instead.\n",
      "  df = df.applymap(lambda x: 0.0 if isinstance(x, float) and not np.isfinite(x) else x)\n"
     ]
    },
    {
     "name": "stdout",
     "output_type": "stream",
     "text": [
      "🌍 Global mean/std (signal): 2.3985, 2.0274\n"
     ]
    },
    {
     "name": "stderr",
     "output_type": "stream",
     "text": [
      "Computing tss features: 100%|██████████| 18268/18268 [00:05<00:00, 3146.10it/s]\n"
     ]
    },
    {
     "name": "stdout",
     "output_type": "stream",
     "text": [
      "\n",
      "📘 Reading H3K27me3 (X2) ...\n",
      "📊 Loaded 24458 peaks, grouped into 29 chromosomes\n",
      "⚙️ Computing features for H3K27me3 (X2) ...\n",
      "🌍 Global mean/std (signal): 3.7757, 3.3489\n"
     ]
    },
    {
     "name": "stderr",
     "output_type": "stream",
     "text": [
      "Computing gene features: 100%|██████████| 18268/18268 [00:05<00:00, 3083.46it/s]\n",
      "/var/folders/7g/j5s0yzcj34l3v043s7znkplc0000gn/T/ipykernel_18314/3463236200.py:191: FutureWarning: DataFrame.applymap has been deprecated. Use DataFrame.map instead.\n",
      "  df = df.applymap(lambda x: 0.0 if isinstance(x, float) and not np.isfinite(x) else x)\n"
     ]
    },
    {
     "name": "stdout",
     "output_type": "stream",
     "text": [
      "🌍 Global mean/std (signal): 3.7757, 3.3489\n"
     ]
    },
    {
     "name": "stderr",
     "output_type": "stream",
     "text": [
      "Computing tss features: 100%|██████████| 18268/18268 [00:03<00:00, 5045.50it/s]\n"
     ]
    },
    {
     "name": "stdout",
     "output_type": "stream",
     "text": [
      "\n",
      "📘 Reading H3K36me3 (X2) ...\n",
      "📊 Loaded 77131 peaks, grouped into 26 chromosomes\n",
      "⚙️ Computing features for H3K36me3 (X2) ...\n",
      "🌍 Global mean/std (signal): 4.0910, 1.0740\n"
     ]
    },
    {
     "name": "stderr",
     "output_type": "stream",
     "text": [
      "Computing gene features: 100%|██████████| 18268/18268 [00:06<00:00, 2693.09it/s]\n",
      "/var/folders/7g/j5s0yzcj34l3v043s7znkplc0000gn/T/ipykernel_18314/3463236200.py:191: FutureWarning: DataFrame.applymap has been deprecated. Use DataFrame.map instead.\n",
      "  df = df.applymap(lambda x: 0.0 if isinstance(x, float) and not np.isfinite(x) else x)\n"
     ]
    },
    {
     "name": "stdout",
     "output_type": "stream",
     "text": [
      "🌍 Global mean/std (signal): 4.0910, 1.0740\n"
     ]
    },
    {
     "name": "stderr",
     "output_type": "stream",
     "text": [
      "Computing tss features: 100%|██████████| 18268/18268 [00:03<00:00, 5208.54it/s]\n"
     ]
    },
    {
     "name": "stdout",
     "output_type": "stream",
     "text": [
      "\n",
      "📘 Reading H3K4me1 (X2) ...\n",
      "📊 Loaded 135476 peaks, grouped into 28 chromosomes\n",
      "⚙️ Computing features for H3K4me1 (X2) ...\n",
      "🌍 Global mean/std (signal): 4.1086, 1.0515\n"
     ]
    },
    {
     "name": "stderr",
     "output_type": "stream",
     "text": [
      "Computing gene features: 100%|██████████| 18268/18268 [00:08<00:00, 2114.94it/s]\n",
      "/var/folders/7g/j5s0yzcj34l3v043s7znkplc0000gn/T/ipykernel_18314/3463236200.py:191: FutureWarning: DataFrame.applymap has been deprecated. Use DataFrame.map instead.\n",
      "  df = df.applymap(lambda x: 0.0 if isinstance(x, float) and not np.isfinite(x) else x)\n"
     ]
    },
    {
     "name": "stdout",
     "output_type": "stream",
     "text": [
      "🌍 Global mean/std (signal): 4.1086, 1.0515\n"
     ]
    },
    {
     "name": "stderr",
     "output_type": "stream",
     "text": [
      "Computing tss features: 100%|██████████| 18268/18268 [00:04<00:00, 4281.52it/s]\n"
     ]
    },
    {
     "name": "stdout",
     "output_type": "stream",
     "text": [
      "\n",
      "📘 Reading H3K9me3 (X2) ...\n",
      "📊 Loaded 94156 peaks, grouped into 91 chromosomes\n",
      "⚙️ Computing features for H3K9me3 (X2) ...\n",
      "🌍 Global mean/std (signal): 4.6121, 1.2591\n"
     ]
    },
    {
     "name": "stderr",
     "output_type": "stream",
     "text": [
      "Computing gene features: 100%|██████████| 18268/18268 [00:05<00:00, 3296.76it/s]\n",
      "/var/folders/7g/j5s0yzcj34l3v043s7znkplc0000gn/T/ipykernel_18314/3463236200.py:191: FutureWarning: DataFrame.applymap has been deprecated. Use DataFrame.map instead.\n",
      "  df = df.applymap(lambda x: 0.0 if isinstance(x, float) and not np.isfinite(x) else x)\n"
     ]
    },
    {
     "name": "stdout",
     "output_type": "stream",
     "text": [
      "🌍 Global mean/std (signal): 4.6121, 1.2591\n"
     ]
    },
    {
     "name": "stderr",
     "output_type": "stream",
     "text": [
      "Computing tss features: 100%|██████████| 18268/18268 [00:03<00:00, 5331.56it/s]\n"
     ]
    },
    {
     "name": "stdout",
     "output_type": "stream",
     "text": [
      "\n",
      "✅ Saved: ../preprocessed_data/reference/0. data/bed500_one_side/X2_logzscore.tsv\n",
      "📊 Final shape: 18268 genes × 511 columns\n",
      "\n",
      "=== 🧬 Processing Cell Line: X3 ===\n",
      "Normalization mode: log_zscore\n",
      "📖 Loaded reference table: 18268 genes\n",
      "\n",
      "📘 Reading DNase (X3) ...\n",
      "📊 Loaded 71812 peaks, grouped into 24 chromosomes\n",
      "⚙️ Computing features for DNase (X3) ...\n",
      "🌍 Global mean/std (signal): 49.7253, 41.5291\n"
     ]
    },
    {
     "name": "stderr",
     "output_type": "stream",
     "text": [
      "Computing gene features: 100%|██████████| 18268/18268 [00:10<00:00, 1721.31it/s]\n",
      "/var/folders/7g/j5s0yzcj34l3v043s7znkplc0000gn/T/ipykernel_18314/3463236200.py:191: FutureWarning: DataFrame.applymap has been deprecated. Use DataFrame.map instead.\n",
      "  df = df.applymap(lambda x: 0.0 if isinstance(x, float) and not np.isfinite(x) else x)\n"
     ]
    },
    {
     "name": "stdout",
     "output_type": "stream",
     "text": [
      "🌍 Global mean/std (signal): 49.7253, 41.5291\n"
     ]
    },
    {
     "name": "stderr",
     "output_type": "stream",
     "text": [
      "Computing tss features: 100%|██████████| 18268/18268 [00:07<00:00, 2344.13it/s]\n"
     ]
    },
    {
     "name": "stdout",
     "output_type": "stream",
     "text": [
      "\n",
      "📘 Reading H3K27ac (X3) ...\n",
      "📊 Loaded 54474 peaks, grouped into 29 chromosomes\n",
      "⚙️ Computing features for H3K27ac (X3) ...\n",
      "🌍 Global mean/std (signal): 10.1940, 8.4926\n"
     ]
    },
    {
     "name": "stderr",
     "output_type": "stream",
     "text": [
      "Computing gene features: 100%|██████████| 18268/18268 [00:07<00:00, 2467.50it/s]\n",
      "/var/folders/7g/j5s0yzcj34l3v043s7znkplc0000gn/T/ipykernel_18314/3463236200.py:191: FutureWarning: DataFrame.applymap has been deprecated. Use DataFrame.map instead.\n",
      "  df = df.applymap(lambda x: 0.0 if isinstance(x, float) and not np.isfinite(x) else x)\n"
     ]
    },
    {
     "name": "stdout",
     "output_type": "stream",
     "text": [
      "🌍 Global mean/std (signal): 10.1940, 8.4926\n"
     ]
    },
    {
     "name": "stderr",
     "output_type": "stream",
     "text": [
      "Computing tss features: 100%|██████████| 18268/18268 [00:04<00:00, 4029.56it/s]\n"
     ]
    },
    {
     "name": "stdout",
     "output_type": "stream",
     "text": [
      "\n",
      "📘 Reading H3K4me3 (X3) ...\n",
      "📊 Loaded 34488 peaks, grouped into 26 chromosomes\n",
      "⚙️ Computing features for H3K4me3 (X3) ...\n",
      "🌍 Global mean/std (signal): 13.2355, 11.7258\n"
     ]
    },
    {
     "name": "stderr",
     "output_type": "stream",
     "text": [
      "Computing gene features: 100%|██████████| 18268/18268 [00:07<00:00, 2302.52it/s]\n",
      "/var/folders/7g/j5s0yzcj34l3v043s7znkplc0000gn/T/ipykernel_18314/3463236200.py:191: FutureWarning: DataFrame.applymap has been deprecated. Use DataFrame.map instead.\n",
      "  df = df.applymap(lambda x: 0.0 if isinstance(x, float) and not np.isfinite(x) else x)\n"
     ]
    },
    {
     "name": "stdout",
     "output_type": "stream",
     "text": [
      "🌍 Global mean/std (signal): 13.2355, 11.7258\n"
     ]
    },
    {
     "name": "stderr",
     "output_type": "stream",
     "text": [
      "Computing tss features: 100%|██████████| 18268/18268 [00:04<00:00, 4085.96it/s]\n"
     ]
    },
    {
     "name": "stdout",
     "output_type": "stream",
     "text": [
      "\n",
      "📘 Reading H3K27me3 (X3) ...\n",
      "📊 Loaded 82769 peaks, grouped into 27 chromosomes\n",
      "⚙️ Computing features for H3K27me3 (X3) ...\n",
      "🌍 Global mean/std (signal): 4.9255, 1.9164\n"
     ]
    },
    {
     "name": "stderr",
     "output_type": "stream",
     "text": [
      "Computing gene features: 100%|██████████| 18268/18268 [00:05<00:00, 3510.77it/s]\n",
      "/var/folders/7g/j5s0yzcj34l3v043s7znkplc0000gn/T/ipykernel_18314/3463236200.py:191: FutureWarning: DataFrame.applymap has been deprecated. Use DataFrame.map instead.\n",
      "  df = df.applymap(lambda x: 0.0 if isinstance(x, float) and not np.isfinite(x) else x)\n"
     ]
    },
    {
     "name": "stdout",
     "output_type": "stream",
     "text": [
      "🌍 Global mean/std (signal): 4.9255, 1.9164\n"
     ]
    },
    {
     "name": "stderr",
     "output_type": "stream",
     "text": [
      "Computing tss features: 100%|██████████| 18268/18268 [00:03<00:00, 5169.20it/s]\n"
     ]
    },
    {
     "name": "stdout",
     "output_type": "stream",
     "text": [
      "\n",
      "📘 Reading H3K36me3 (X3) ...\n",
      "📊 Loaded 68682 peaks, grouped into 24 chromosomes\n",
      "⚙️ Computing features for H3K36me3 (X3) ...\n",
      "🌍 Global mean/std (signal): 4.8880, 1.2712\n"
     ]
    },
    {
     "name": "stderr",
     "output_type": "stream",
     "text": [
      "Computing gene features: 100%|██████████| 18268/18268 [00:06<00:00, 2649.57it/s]\n",
      "/var/folders/7g/j5s0yzcj34l3v043s7znkplc0000gn/T/ipykernel_18314/3463236200.py:191: FutureWarning: DataFrame.applymap has been deprecated. Use DataFrame.map instead.\n",
      "  df = df.applymap(lambda x: 0.0 if isinstance(x, float) and not np.isfinite(x) else x)\n"
     ]
    },
    {
     "name": "stdout",
     "output_type": "stream",
     "text": [
      "🌍 Global mean/std (signal): 4.8880, 1.2712\n"
     ]
    },
    {
     "name": "stderr",
     "output_type": "stream",
     "text": [
      "Computing tss features: 100%|██████████| 18268/18268 [00:03<00:00, 5154.19it/s]\n"
     ]
    },
    {
     "name": "stdout",
     "output_type": "stream",
     "text": [
      "\n",
      "📘 Reading H3K4me1 (X3) ...\n",
      "📊 Loaded 107213 peaks, grouped into 28 chromosomes\n",
      "⚙️ Computing features for H3K4me1 (X3) ...\n",
      "🌍 Global mean/std (signal): 2.7148, 1.0648\n"
     ]
    },
    {
     "name": "stderr",
     "output_type": "stream",
     "text": [
      "Computing gene features: 100%|██████████| 18268/18268 [00:10<00:00, 1710.70it/s]\n",
      "/var/folders/7g/j5s0yzcj34l3v043s7znkplc0000gn/T/ipykernel_18314/3463236200.py:191: FutureWarning: DataFrame.applymap has been deprecated. Use DataFrame.map instead.\n",
      "  df = df.applymap(lambda x: 0.0 if isinstance(x, float) and not np.isfinite(x) else x)\n"
     ]
    },
    {
     "name": "stdout",
     "output_type": "stream",
     "text": [
      "🌍 Global mean/std (signal): 2.7148, 1.0648\n"
     ]
    },
    {
     "name": "stderr",
     "output_type": "stream",
     "text": [
      "Computing tss features: 100%|██████████| 18268/18268 [00:04<00:00, 4116.72it/s]\n"
     ]
    },
    {
     "name": "stdout",
     "output_type": "stream",
     "text": [
      "\n",
      "📘 Reading H3K9me3 (X3) ...\n",
      "📊 Loaded 46565 peaks, grouped into 69 chromosomes\n",
      "⚙️ Computing features for H3K9me3 (X3) ...\n",
      "🌍 Global mean/std (signal): 3.7462, 0.6023\n"
     ]
    },
    {
     "name": "stderr",
     "output_type": "stream",
     "text": [
      "Computing gene features: 100%|██████████| 18268/18268 [00:03<00:00, 4795.98it/s]\n",
      "/var/folders/7g/j5s0yzcj34l3v043s7znkplc0000gn/T/ipykernel_18314/3463236200.py:191: FutureWarning: DataFrame.applymap has been deprecated. Use DataFrame.map instead.\n",
      "  df = df.applymap(lambda x: 0.0 if isinstance(x, float) and not np.isfinite(x) else x)\n"
     ]
    },
    {
     "name": "stdout",
     "output_type": "stream",
     "text": [
      "🌍 Global mean/std (signal): 3.7462, 0.6023\n"
     ]
    },
    {
     "name": "stderr",
     "output_type": "stream",
     "text": [
      "Computing tss features: 100%|██████████| 18268/18268 [00:03<00:00, 5182.11it/s]\n"
     ]
    },
    {
     "name": "stdout",
     "output_type": "stream",
     "text": [
      "\n",
      "✅ Saved: ../preprocessed_data/reference/0. data/bed500_one_side/X3_logzscore.tsv\n",
      "📊 Final shape: 18268 genes × 511 columns\n"
     ]
    }
   ],
   "source": [
    "if __name__ == \"__main__\":\n",
    "    base_dir = \"/Users/deweywang/Desktop/GitHub/Gene-expression-prediction/ML4G_Project_1_Data\"\n",
    "    ref_path = \"../preprocessed_data/reference/reference_gene_table.tsv\"\n",
    "    output_dir = \"../preprocessed_data/reference/0. data/bed500_one_side\"\n",
    "\n",
    "    marks = [\"DNase\", \"H3K27ac\", \"H3K4me3\", \"H3K27me3\", \"H3K36me3\", \"H3K4me1\", \"H3K9me3\"]\n",
    "    cells = [\"X1\", \"X2\", \"X3\"]\n",
    "\n",
    "    for cell in cells:\n",
    "        process_cellline(\n",
    "            cell_name=cell,\n",
    "            marks=marks,\n",
    "            base_dir=base_dir,\n",
    "            ref_path=ref_path,\n",
    "            tss_window_bp=500,\n",
    "            output_dir=output_dir,\n",
    "            norm_mode=\"log_zscore\"  # 🔧 可改成 none / zscore\n",
    "        )"
   ]
  },
  {
   "cell_type": "code",
   "execution_count": 7,
   "metadata": {},
   "outputs": [
    {
     "name": "stdout",
     "output_type": "stream",
     "text": [
      "\n",
      "=== 🧬 Processing Cell Line: X1 ===\n",
      "Normalization mode: log_zscore\n",
      "📖 Loaded reference table: 18268 genes\n",
      "\n",
      "📘 Reading DNase (X1) ...\n",
      "📊 Loaded 56452 peaks, grouped into 24 chromosomes\n",
      "⚙️ Computing features for DNase (X1) ...\n",
      "🌍 Global mean/std (signal): 41.9516, 69.8208\n"
     ]
    },
    {
     "name": "stderr",
     "output_type": "stream",
     "text": [
      "Computing gene features: 100%|██████████| 18268/18268 [00:06<00:00, 2611.98it/s]\n",
      "/var/folders/7g/j5s0yzcj34l3v043s7znkplc0000gn/T/ipykernel_18314/4241374501.py:186: FutureWarning: DataFrame.applymap has been deprecated. Use DataFrame.map instead.\n",
      "  df = df.applymap(lambda x: 0.0 if isinstance(x, float) and not np.isfinite(x) else x)\n"
     ]
    },
    {
     "name": "stdout",
     "output_type": "stream",
     "text": [
      "🌍 Global mean/std (signal): 41.9516, 69.8208\n"
     ]
    },
    {
     "name": "stderr",
     "output_type": "stream",
     "text": [
      "Computing tss features: 100%|██████████| 18268/18268 [00:05<00:00, 3223.26it/s]\n"
     ]
    },
    {
     "name": "stdout",
     "output_type": "stream",
     "text": [
      "\n",
      "📘 Reading H3K27ac (X1) ...\n",
      "📊 Loaded 57887 peaks, grouped into 30 chromosomes\n",
      "⚙️ Computing features for H3K27ac (X1) ...\n",
      "🌍 Global mean/std (signal): 10.4143, 8.9643\n"
     ]
    },
    {
     "name": "stderr",
     "output_type": "stream",
     "text": [
      "Computing gene features: 100%|██████████| 18268/18268 [00:05<00:00, 3088.70it/s]\n",
      "/var/folders/7g/j5s0yzcj34l3v043s7znkplc0000gn/T/ipykernel_18314/4241374501.py:186: FutureWarning: DataFrame.applymap has been deprecated. Use DataFrame.map instead.\n",
      "  df = df.applymap(lambda x: 0.0 if isinstance(x, float) and not np.isfinite(x) else x)\n"
     ]
    },
    {
     "name": "stdout",
     "output_type": "stream",
     "text": [
      "🌍 Global mean/std (signal): 10.4143, 8.9643\n"
     ]
    },
    {
     "name": "stderr",
     "output_type": "stream",
     "text": [
      "Computing tss features: 100%|██████████| 18268/18268 [00:05<00:00, 3331.66it/s]\n"
     ]
    },
    {
     "name": "stdout",
     "output_type": "stream",
     "text": [
      "\n",
      "📘 Reading H3K4me3 (X1) ...\n",
      "📊 Loaded 42002 peaks, grouped into 30 chromosomes\n",
      "⚙️ Computing features for H3K4me3 (X1) ...\n",
      "🌍 Global mean/std (signal): 8.1494, 4.5913\n"
     ]
    },
    {
     "name": "stderr",
     "output_type": "stream",
     "text": [
      "Computing gene features: 100%|██████████| 18268/18268 [00:06<00:00, 2698.94it/s]\n",
      "/var/folders/7g/j5s0yzcj34l3v043s7znkplc0000gn/T/ipykernel_18314/4241374501.py:186: FutureWarning: DataFrame.applymap has been deprecated. Use DataFrame.map instead.\n",
      "  df = df.applymap(lambda x: 0.0 if isinstance(x, float) and not np.isfinite(x) else x)\n"
     ]
    },
    {
     "name": "stdout",
     "output_type": "stream",
     "text": [
      "🌍 Global mean/std (signal): 8.1494, 4.5913\n"
     ]
    },
    {
     "name": "stderr",
     "output_type": "stream",
     "text": [
      "Computing tss features: 100%|██████████| 18268/18268 [00:06<00:00, 2809.04it/s]\n"
     ]
    },
    {
     "name": "stdout",
     "output_type": "stream",
     "text": [
      "\n",
      "📘 Reading H3K27me3 (X1) ...\n",
      "📊 Loaded 26900 peaks, grouped into 24 chromosomes\n",
      "⚙️ Computing features for H3K27me3 (X1) ...\n",
      "🌍 Global mean/std (signal): 35.4562, 7.7610\n"
     ]
    },
    {
     "name": "stderr",
     "output_type": "stream",
     "text": [
      "Computing gene features: 100%|██████████| 18268/18268 [00:04<00:00, 4160.09it/s]\n",
      "/var/folders/7g/j5s0yzcj34l3v043s7znkplc0000gn/T/ipykernel_18314/4241374501.py:186: FutureWarning: DataFrame.applymap has been deprecated. Use DataFrame.map instead.\n",
      "  df = df.applymap(lambda x: 0.0 if isinstance(x, float) and not np.isfinite(x) else x)\n"
     ]
    },
    {
     "name": "stdout",
     "output_type": "stream",
     "text": [
      "🌍 Global mean/std (signal): 35.4562, 7.7610\n"
     ]
    },
    {
     "name": "stderr",
     "output_type": "stream",
     "text": [
      "Computing tss features: 100%|██████████| 18268/18268 [00:03<00:00, 4912.70it/s]\n"
     ]
    },
    {
     "name": "stdout",
     "output_type": "stream",
     "text": [
      "\n",
      "📘 Reading H3K36me3 (X1) ...\n",
      "📊 Loaded 81541 peaks, grouped into 27 chromosomes\n",
      "⚙️ Computing features for H3K36me3 (X1) ...\n",
      "🌍 Global mean/std (signal): 6.3442, 1.7012\n"
     ]
    },
    {
     "name": "stderr",
     "output_type": "stream",
     "text": [
      "Computing gene features: 100%|██████████| 18268/18268 [00:05<00:00, 3629.00it/s]\n",
      "/var/folders/7g/j5s0yzcj34l3v043s7znkplc0000gn/T/ipykernel_18314/4241374501.py:186: FutureWarning: DataFrame.applymap has been deprecated. Use DataFrame.map instead.\n",
      "  df = df.applymap(lambda x: 0.0 if isinstance(x, float) and not np.isfinite(x) else x)\n"
     ]
    },
    {
     "name": "stdout",
     "output_type": "stream",
     "text": [
      "🌍 Global mean/std (signal): 6.3442, 1.7012\n"
     ]
    },
    {
     "name": "stderr",
     "output_type": "stream",
     "text": [
      "Computing tss features: 100%|██████████| 18268/18268 [00:03<00:00, 4576.19it/s]\n"
     ]
    },
    {
     "name": "stdout",
     "output_type": "stream",
     "text": [
      "\n",
      "📘 Reading H3K4me1 (X1) ...\n",
      "📊 Loaded 89812 peaks, grouped into 26 chromosomes\n",
      "⚙️ Computing features for H3K4me1 (X1) ...\n",
      "🌍 Global mean/std (signal): 4.7735, 1.7659\n"
     ]
    },
    {
     "name": "stderr",
     "output_type": "stream",
     "text": [
      "Computing gene features: 100%|██████████| 18268/18268 [00:06<00:00, 2946.32it/s]\n",
      "/var/folders/7g/j5s0yzcj34l3v043s7znkplc0000gn/T/ipykernel_18314/4241374501.py:186: FutureWarning: DataFrame.applymap has been deprecated. Use DataFrame.map instead.\n",
      "  df = df.applymap(lambda x: 0.0 if isinstance(x, float) and not np.isfinite(x) else x)\n"
     ]
    },
    {
     "name": "stdout",
     "output_type": "stream",
     "text": [
      "🌍 Global mean/std (signal): 4.7735, 1.7659\n"
     ]
    },
    {
     "name": "stderr",
     "output_type": "stream",
     "text": [
      "Computing tss features: 100%|██████████| 18268/18268 [00:04<00:00, 3717.22it/s]\n"
     ]
    },
    {
     "name": "stdout",
     "output_type": "stream",
     "text": [
      "\n",
      "📘 Reading H3K9me3 (X1) ...\n",
      "📊 Loaded 18835 peaks, grouped into 30 chromosomes\n",
      "⚙️ Computing features for H3K9me3 (X1) ...\n",
      "🌍 Global mean/std (signal): 4.1487, 0.9139\n"
     ]
    },
    {
     "name": "stderr",
     "output_type": "stream",
     "text": [
      "Computing gene features: 100%|██████████| 18268/18268 [00:04<00:00, 4458.69it/s]\n",
      "/var/folders/7g/j5s0yzcj34l3v043s7znkplc0000gn/T/ipykernel_18314/4241374501.py:186: FutureWarning: DataFrame.applymap has been deprecated. Use DataFrame.map instead.\n",
      "  df = df.applymap(lambda x: 0.0 if isinstance(x, float) and not np.isfinite(x) else x)\n"
     ]
    },
    {
     "name": "stdout",
     "output_type": "stream",
     "text": [
      "🌍 Global mean/std (signal): 4.1487, 0.9139\n"
     ]
    },
    {
     "name": "stderr",
     "output_type": "stream",
     "text": [
      "Computing tss features: 100%|██████████| 18268/18268 [00:03<00:00, 6066.73it/s]\n"
     ]
    },
    {
     "name": "stdout",
     "output_type": "stream",
     "text": [
      "\n",
      "✅ Saved: ../preprocessed_data/reference/0. data/bed3000/X1_logzscore.tsv\n",
      "📊 Final shape: 18268 genes × 511 columns\n",
      "\n",
      "=== 🧬 Processing Cell Line: X2 ===\n",
      "Normalization mode: log_zscore\n",
      "📖 Loaded reference table: 18268 genes\n",
      "\n",
      "📘 Reading DNase (X2) ...\n",
      "📊 Loaded 181146 peaks, grouped into 24 chromosomes\n",
      "⚙️ Computing features for DNase (X2) ...\n",
      "🌍 Global mean/std (signal): 92.3270, 122.1105\n"
     ]
    },
    {
     "name": "stderr",
     "output_type": "stream",
     "text": [
      "Computing gene features: 100%|██████████| 18268/18268 [00:07<00:00, 2308.92it/s]\n",
      "/var/folders/7g/j5s0yzcj34l3v043s7znkplc0000gn/T/ipykernel_18314/4241374501.py:186: FutureWarning: DataFrame.applymap has been deprecated. Use DataFrame.map instead.\n",
      "  df = df.applymap(lambda x: 0.0 if isinstance(x, float) and not np.isfinite(x) else x)\n"
     ]
    },
    {
     "name": "stdout",
     "output_type": "stream",
     "text": [
      "🌍 Global mean/std (signal): 92.3270, 122.1105\n"
     ]
    },
    {
     "name": "stderr",
     "output_type": "stream",
     "text": [
      "Computing tss features: 100%|██████████| 18268/18268 [00:07<00:00, 2575.34it/s]\n"
     ]
    },
    {
     "name": "stdout",
     "output_type": "stream",
     "text": [
      "\n",
      "📘 Reading H3K27ac (X2) ...\n",
      "📊 Loaded 76094 peaks, grouped into 26 chromosomes\n",
      "⚙️ Computing features for H3K27ac (X2) ...\n",
      "🌍 Global mean/std (signal): 27.9351, 15.7785\n"
     ]
    },
    {
     "name": "stderr",
     "output_type": "stream",
     "text": [
      "Computing gene features: 100%|██████████| 18268/18268 [00:06<00:00, 2905.64it/s]\n",
      "/var/folders/7g/j5s0yzcj34l3v043s7znkplc0000gn/T/ipykernel_18314/4241374501.py:186: FutureWarning: DataFrame.applymap has been deprecated. Use DataFrame.map instead.\n",
      "  df = df.applymap(lambda x: 0.0 if isinstance(x, float) and not np.isfinite(x) else x)\n"
     ]
    },
    {
     "name": "stdout",
     "output_type": "stream",
     "text": [
      "🌍 Global mean/std (signal): 27.9351, 15.7785\n"
     ]
    },
    {
     "name": "stderr",
     "output_type": "stream",
     "text": [
      "Computing tss features: 100%|██████████| 18268/18268 [00:05<00:00, 3272.77it/s]\n"
     ]
    },
    {
     "name": "stdout",
     "output_type": "stream",
     "text": [
      "\n",
      "📘 Reading H3K4me3 (X2) ...\n",
      "📊 Loaded 42142 peaks, grouped into 39 chromosomes\n",
      "⚙️ Computing features for H3K4me3 (X2) ...\n",
      "🌍 Global mean/std (signal): 2.3985, 2.0274\n"
     ]
    },
    {
     "name": "stderr",
     "output_type": "stream",
     "text": [
      "Computing gene features: 100%|██████████| 18268/18268 [00:07<00:00, 2555.33it/s]\n",
      "/var/folders/7g/j5s0yzcj34l3v043s7znkplc0000gn/T/ipykernel_18314/4241374501.py:186: FutureWarning: DataFrame.applymap has been deprecated. Use DataFrame.map instead.\n",
      "  df = df.applymap(lambda x: 0.0 if isinstance(x, float) and not np.isfinite(x) else x)\n"
     ]
    },
    {
     "name": "stdout",
     "output_type": "stream",
     "text": [
      "🌍 Global mean/std (signal): 2.3985, 2.0274\n"
     ]
    },
    {
     "name": "stderr",
     "output_type": "stream",
     "text": [
      "Computing tss features: 100%|██████████| 18268/18268 [00:06<00:00, 2740.36it/s]\n"
     ]
    },
    {
     "name": "stdout",
     "output_type": "stream",
     "text": [
      "\n",
      "📘 Reading H3K27me3 (X2) ...\n",
      "📊 Loaded 24458 peaks, grouped into 29 chromosomes\n",
      "⚙️ Computing features for H3K27me3 (X2) ...\n",
      "🌍 Global mean/std (signal): 3.7757, 3.3489\n"
     ]
    },
    {
     "name": "stderr",
     "output_type": "stream",
     "text": [
      "Computing gene features: 100%|██████████| 18268/18268 [00:04<00:00, 4163.23it/s]\n",
      "/var/folders/7g/j5s0yzcj34l3v043s7znkplc0000gn/T/ipykernel_18314/4241374501.py:186: FutureWarning: DataFrame.applymap has been deprecated. Use DataFrame.map instead.\n",
      "  df = df.applymap(lambda x: 0.0 if isinstance(x, float) and not np.isfinite(x) else x)\n"
     ]
    },
    {
     "name": "stdout",
     "output_type": "stream",
     "text": [
      "🌍 Global mean/std (signal): 3.7757, 3.3489\n"
     ]
    },
    {
     "name": "stderr",
     "output_type": "stream",
     "text": [
      "Computing tss features: 100%|██████████| 18268/18268 [00:04<00:00, 4527.52it/s]\n"
     ]
    },
    {
     "name": "stdout",
     "output_type": "stream",
     "text": [
      "\n",
      "📘 Reading H3K36me3 (X2) ...\n",
      "📊 Loaded 77131 peaks, grouped into 26 chromosomes\n",
      "⚙️ Computing features for H3K36me3 (X2) ...\n",
      "🌍 Global mean/std (signal): 4.0910, 1.0740\n"
     ]
    },
    {
     "name": "stderr",
     "output_type": "stream",
     "text": [
      "Computing gene features: 100%|██████████| 18268/18268 [00:05<00:00, 3343.39it/s]\n",
      "/var/folders/7g/j5s0yzcj34l3v043s7znkplc0000gn/T/ipykernel_18314/4241374501.py:186: FutureWarning: DataFrame.applymap has been deprecated. Use DataFrame.map instead.\n",
      "  df = df.applymap(lambda x: 0.0 if isinstance(x, float) and not np.isfinite(x) else x)\n"
     ]
    },
    {
     "name": "stdout",
     "output_type": "stream",
     "text": [
      "🌍 Global mean/std (signal): 4.0910, 1.0740\n"
     ]
    },
    {
     "name": "stderr",
     "output_type": "stream",
     "text": [
      "Computing tss features: 100%|██████████| 18268/18268 [00:03<00:00, 4841.76it/s]\n"
     ]
    },
    {
     "name": "stdout",
     "output_type": "stream",
     "text": [
      "\n",
      "📘 Reading H3K4me1 (X2) ...\n",
      "📊 Loaded 135476 peaks, grouped into 28 chromosomes\n",
      "⚙️ Computing features for H3K4me1 (X2) ...\n",
      "🌍 Global mean/std (signal): 4.1086, 1.0515\n"
     ]
    },
    {
     "name": "stderr",
     "output_type": "stream",
     "text": [
      "Computing gene features: 100%|██████████| 18268/18268 [00:06<00:00, 2662.30it/s]\n",
      "/var/folders/7g/j5s0yzcj34l3v043s7znkplc0000gn/T/ipykernel_18314/4241374501.py:186: FutureWarning: DataFrame.applymap has been deprecated. Use DataFrame.map instead.\n",
      "  df = df.applymap(lambda x: 0.0 if isinstance(x, float) and not np.isfinite(x) else x)\n"
     ]
    },
    {
     "name": "stdout",
     "output_type": "stream",
     "text": [
      "🌍 Global mean/std (signal): 4.1086, 1.0515\n"
     ]
    },
    {
     "name": "stderr",
     "output_type": "stream",
     "text": [
      "Computing tss features: 100%|██████████| 18268/18268 [00:05<00:00, 3182.59it/s]\n"
     ]
    },
    {
     "name": "stdout",
     "output_type": "stream",
     "text": [
      "\n",
      "📘 Reading H3K9me3 (X2) ...\n",
      "📊 Loaded 94156 peaks, grouped into 91 chromosomes\n",
      "⚙️ Computing features for H3K9me3 (X2) ...\n",
      "🌍 Global mean/std (signal): 4.6121, 1.2591\n"
     ]
    },
    {
     "name": "stderr",
     "output_type": "stream",
     "text": [
      "Computing gene features: 100%|██████████| 18268/18268 [00:04<00:00, 3768.32it/s]\n",
      "/var/folders/7g/j5s0yzcj34l3v043s7znkplc0000gn/T/ipykernel_18314/4241374501.py:186: FutureWarning: DataFrame.applymap has been deprecated. Use DataFrame.map instead.\n",
      "  df = df.applymap(lambda x: 0.0 if isinstance(x, float) and not np.isfinite(x) else x)\n"
     ]
    },
    {
     "name": "stdout",
     "output_type": "stream",
     "text": [
      "🌍 Global mean/std (signal): 4.6121, 1.2591\n"
     ]
    },
    {
     "name": "stderr",
     "output_type": "stream",
     "text": [
      "Computing tss features: 100%|██████████| 18268/18268 [00:03<00:00, 5934.34it/s]\n"
     ]
    },
    {
     "name": "stdout",
     "output_type": "stream",
     "text": [
      "\n",
      "✅ Saved: ../preprocessed_data/reference/0. data/bed3000/X2_logzscore.tsv\n",
      "📊 Final shape: 18268 genes × 511 columns\n",
      "\n",
      "=== 🧬 Processing Cell Line: X3 ===\n",
      "Normalization mode: log_zscore\n",
      "📖 Loaded reference table: 18268 genes\n",
      "\n",
      "📘 Reading DNase (X3) ...\n",
      "📊 Loaded 71812 peaks, grouped into 24 chromosomes\n",
      "⚙️ Computing features for DNase (X3) ...\n",
      "🌍 Global mean/std (signal): 49.7253, 41.5291\n"
     ]
    },
    {
     "name": "stderr",
     "output_type": "stream",
     "text": [
      "Computing gene features: 100%|██████████| 18268/18268 [00:07<00:00, 2447.42it/s]\n",
      "/var/folders/7g/j5s0yzcj34l3v043s7znkplc0000gn/T/ipykernel_18314/4241374501.py:186: FutureWarning: DataFrame.applymap has been deprecated. Use DataFrame.map instead.\n",
      "  df = df.applymap(lambda x: 0.0 if isinstance(x, float) and not np.isfinite(x) else x)\n"
     ]
    },
    {
     "name": "stdout",
     "output_type": "stream",
     "text": [
      "🌍 Global mean/std (signal): 49.7253, 41.5291\n"
     ]
    },
    {
     "name": "stderr",
     "output_type": "stream",
     "text": [
      "Computing tss features: 100%|██████████| 18268/18268 [00:06<00:00, 2962.25it/s]\n"
     ]
    },
    {
     "name": "stdout",
     "output_type": "stream",
     "text": [
      "\n",
      "📘 Reading H3K27ac (X3) ...\n",
      "📊 Loaded 54474 peaks, grouped into 29 chromosomes\n",
      "⚙️ Computing features for H3K27ac (X3) ...\n",
      "🌍 Global mean/std (signal): 10.1940, 8.4926\n"
     ]
    },
    {
     "name": "stderr",
     "output_type": "stream",
     "text": [
      "Computing gene features: 100%|██████████| 18268/18268 [00:06<00:00, 2805.83it/s]\n",
      "/var/folders/7g/j5s0yzcj34l3v043s7znkplc0000gn/T/ipykernel_18314/4241374501.py:186: FutureWarning: DataFrame.applymap has been deprecated. Use DataFrame.map instead.\n",
      "  df = df.applymap(lambda x: 0.0 if isinstance(x, float) and not np.isfinite(x) else x)\n"
     ]
    },
    {
     "name": "stdout",
     "output_type": "stream",
     "text": [
      "🌍 Global mean/std (signal): 10.1940, 8.4926\n"
     ]
    },
    {
     "name": "stderr",
     "output_type": "stream",
     "text": [
      "Computing tss features: 100%|██████████| 18268/18268 [00:05<00:00, 3427.06it/s]\n"
     ]
    },
    {
     "name": "stdout",
     "output_type": "stream",
     "text": [
      "\n",
      "📘 Reading H3K4me3 (X3) ...\n",
      "📊 Loaded 34488 peaks, grouped into 26 chromosomes\n",
      "⚙️ Computing features for H3K4me3 (X3) ...\n",
      "🌍 Global mean/std (signal): 13.2355, 11.7258\n"
     ]
    },
    {
     "name": "stderr",
     "output_type": "stream",
     "text": [
      "Computing gene features: 100%|██████████| 18268/18268 [00:06<00:00, 2814.79it/s]\n",
      "/var/folders/7g/j5s0yzcj34l3v043s7znkplc0000gn/T/ipykernel_18314/4241374501.py:186: FutureWarning: DataFrame.applymap has been deprecated. Use DataFrame.map instead.\n",
      "  df = df.applymap(lambda x: 0.0 if isinstance(x, float) and not np.isfinite(x) else x)\n"
     ]
    },
    {
     "name": "stdout",
     "output_type": "stream",
     "text": [
      "🌍 Global mean/std (signal): 13.2355, 11.7258\n"
     ]
    },
    {
     "name": "stderr",
     "output_type": "stream",
     "text": [
      "Computing tss features: 100%|██████████| 18268/18268 [00:05<00:00, 3285.07it/s]\n"
     ]
    },
    {
     "name": "stdout",
     "output_type": "stream",
     "text": [
      "\n",
      "📘 Reading H3K27me3 (X3) ...\n",
      "📊 Loaded 82769 peaks, grouped into 27 chromosomes\n",
      "⚙️ Computing features for H3K27me3 (X3) ...\n",
      "🌍 Global mean/std (signal): 4.9255, 1.9164\n"
     ]
    },
    {
     "name": "stderr",
     "output_type": "stream",
     "text": [
      "Computing gene features: 100%|██████████| 18268/18268 [00:04<00:00, 4158.75it/s]\n",
      "/var/folders/7g/j5s0yzcj34l3v043s7znkplc0000gn/T/ipykernel_18314/4241374501.py:186: FutureWarning: DataFrame.applymap has been deprecated. Use DataFrame.map instead.\n",
      "  df = df.applymap(lambda x: 0.0 if isinstance(x, float) and not np.isfinite(x) else x)\n"
     ]
    },
    {
     "name": "stdout",
     "output_type": "stream",
     "text": [
      "🌍 Global mean/std (signal): 4.9255, 1.9164\n"
     ]
    },
    {
     "name": "stderr",
     "output_type": "stream",
     "text": [
      "Computing tss features: 100%|██████████| 18268/18268 [00:03<00:00, 4702.13it/s]\n"
     ]
    },
    {
     "name": "stdout",
     "output_type": "stream",
     "text": [
      "\n",
      "📘 Reading H3K36me3 (X3) ...\n",
      "📊 Loaded 68682 peaks, grouped into 24 chromosomes\n",
      "⚙️ Computing features for H3K36me3 (X3) ...\n",
      "🌍 Global mean/std (signal): 4.8880, 1.2712\n"
     ]
    },
    {
     "name": "stderr",
     "output_type": "stream",
     "text": [
      "Computing gene features: 100%|██████████| 18268/18268 [00:05<00:00, 3404.00it/s]\n",
      "/var/folders/7g/j5s0yzcj34l3v043s7znkplc0000gn/T/ipykernel_18314/4241374501.py:186: FutureWarning: DataFrame.applymap has been deprecated. Use DataFrame.map instead.\n",
      "  df = df.applymap(lambda x: 0.0 if isinstance(x, float) and not np.isfinite(x) else x)\n"
     ]
    },
    {
     "name": "stdout",
     "output_type": "stream",
     "text": [
      "🌍 Global mean/std (signal): 4.8880, 1.2712\n"
     ]
    },
    {
     "name": "stderr",
     "output_type": "stream",
     "text": [
      "Computing tss features: 100%|██████████| 18268/18268 [00:04<00:00, 4557.42it/s]\n"
     ]
    },
    {
     "name": "stdout",
     "output_type": "stream",
     "text": [
      "\n",
      "📘 Reading H3K4me1 (X3) ...\n",
      "📊 Loaded 107213 peaks, grouped into 28 chromosomes\n",
      "⚙️ Computing features for H3K4me1 (X3) ...\n",
      "🌍 Global mean/std (signal): 2.7148, 1.0648\n"
     ]
    },
    {
     "name": "stderr",
     "output_type": "stream",
     "text": [
      "Computing gene features: 100%|██████████| 18268/18268 [00:07<00:00, 2475.33it/s]\n",
      "/var/folders/7g/j5s0yzcj34l3v043s7znkplc0000gn/T/ipykernel_18314/4241374501.py:186: FutureWarning: DataFrame.applymap has been deprecated. Use DataFrame.map instead.\n",
      "  df = df.applymap(lambda x: 0.0 if isinstance(x, float) and not np.isfinite(x) else x)\n"
     ]
    },
    {
     "name": "stdout",
     "output_type": "stream",
     "text": [
      "🌍 Global mean/std (signal): 2.7148, 1.0648\n"
     ]
    },
    {
     "name": "stderr",
     "output_type": "stream",
     "text": [
      "Computing tss features: 100%|██████████| 18268/18268 [00:05<00:00, 3092.37it/s]\n"
     ]
    },
    {
     "name": "stdout",
     "output_type": "stream",
     "text": [
      "\n",
      "📘 Reading H3K9me3 (X3) ...\n",
      "📊 Loaded 46565 peaks, grouped into 69 chromosomes\n",
      "⚙️ Computing features for H3K9me3 (X3) ...\n",
      "🌍 Global mean/std (signal): 3.7462, 0.6023\n"
     ]
    },
    {
     "name": "stderr",
     "output_type": "stream",
     "text": [
      "Computing gene features: 100%|██████████| 18268/18268 [00:03<00:00, 5284.44it/s]\n",
      "/var/folders/7g/j5s0yzcj34l3v043s7znkplc0000gn/T/ipykernel_18314/4241374501.py:186: FutureWarning: DataFrame.applymap has been deprecated. Use DataFrame.map instead.\n",
      "  df = df.applymap(lambda x: 0.0 if isinstance(x, float) and not np.isfinite(x) else x)\n"
     ]
    },
    {
     "name": "stdout",
     "output_type": "stream",
     "text": [
      "🌍 Global mean/std (signal): 3.7462, 0.6023\n"
     ]
    },
    {
     "name": "stderr",
     "output_type": "stream",
     "text": [
      "Computing tss features: 100%|██████████| 18268/18268 [00:02<00:00, 6674.48it/s]\n"
     ]
    },
    {
     "name": "stdout",
     "output_type": "stream",
     "text": [
      "\n",
      "✅ Saved: ../preprocessed_data/reference/0. data/bed3000/X3_logzscore.tsv\n",
      "📊 Final shape: 18268 genes × 511 columns\n"
     ]
    }
   ],
   "source": [
    "if __name__ == \"__main__\":\n",
    "    base_dir = \"/Users/deweywang/Desktop/GitHub/Gene-expression-prediction/ML4G_Project_1_Data\"\n",
    "    ref_path = \"../preprocessed_data/reference/reference_gene_table.tsv\"\n",
    "    output_dir = \"../preprocessed_data/reference/0. data/bed3000\"\n",
    "\n",
    "    marks = [\"DNase\", \"H3K27ac\", \"H3K4me3\", \"H3K27me3\", \"H3K36me3\", \"H3K4me1\", \"H3K9me3\"]\n",
    "    cells = [\"X1\", \"X2\", \"X3\"]\n",
    "\n",
    "    for cell in cells:\n",
    "        process_cellline(\n",
    "            cell_name=cell,\n",
    "            marks=marks,\n",
    "            base_dir=base_dir,\n",
    "            ref_path=ref_path,\n",
    "            tss_window_bp=3000,\n",
    "            output_dir=output_dir,\n",
    "            norm_mode=\"log_zscore\"  # 🔧 可改成 none / zscore\n",
    "        )"
   ]
  },
  {
   "cell_type": "code",
   "execution_count": 12,
   "metadata": {},
   "outputs": [
    {
     "data": {
      "image/png": "[encoded data removed]",
      "text/plain": [
       "<Figure size 1200x700 with 1 Axes>"
      ]
     },
     "metadata": {},
     "output_type": "display_data"
    },
    {
     "name": "stdout",
     "output_type": "stream",
     "text": [
      "Top positively correlated features:\n",
      "                                     feature      rho         pval region_type\n",
      "                  directional_peak_bias_gene 0.330133 0.000000e+00        Gene\n",
      "                            compactness_gene 0.152076 7.672585e-85        Gene\n",
      "        closest_peak_to_TSS_tssOneSide1000bp 0.148850 2.546747e-81         TSS\n",
      "signal_weighted_dist_to_TSS_tssOneSide1000bp 0.147589 5.762124e-80         TSS\n",
      "                   has_peak_tssOneSide1000bp 0.134036 3.723532e-66         TSS\n",
      "                               has_peak_gene 0.133192 2.430604e-65        Gene\n",
      "                mean_qvalue_tssOneSide1000bp 0.132505 1.107099e-64         TSS\n",
      "                compactness_tssOneSide1000bp 0.131988 3.451234e-64         TSS\n",
      "                 max_qvalue_tssOneSide1000bp 0.131702 6.466686e-64         TSS\n",
      "                  num_peaks_tssOneSide1000bp 0.130461 9.664517e-63         TSS\n",
      "\n",
      "Top negatively correlated features:\n",
      "                               feature       rho         pval region_type\n",
      "                     sum_signal_z_gene -0.019201 1.427782e-02        Gene\n",
      "                    mean_signal_z_gene -0.024693 1.625648e-03        Gene\n",
      "         max_signal_z_tssOneSide1000bp -0.031394 6.154024e-05         TSS\n",
      "         sum_signal_z_tssOneSide1000bp -0.031452 5.965022e-05         TSS\n",
      "        mean_signal_z_tssOneSide1000bp -0.031716 5.165951e-05         TSS\n",
      "                    width_entropy_gene -0.045786 5.055511e-09        Gene\n",
      "                 peak_pos_entropy_gene -0.074600 1.540041e-21        Gene\n",
      "        width_entropy_tssOneSide1000bp -0.135898 5.684978e-68         TSS\n",
      "     peak_pos_entropy_tssOneSide1000bp -0.135905 5.596863e-68         TSS\n",
      "directional_peak_bias_tssOneSide1000bp -0.138359 2.062646e-70         TSS\n"
     ]
    }
   ],
   "source": [
    "import matplotlib.pyplot as plt\n",
    "from scipy.stats import spearmanr\n",
    "\n",
    "# ============================================================\n",
    "#                  Spearman correlation 可視化\n",
    "# ============================================================\n",
    "def plot_feature_correlations(df_out: pd.DataFrame, save_path=None, top_k=25):\n",
    "    \"\"\"\n",
    "    對所有 feature 與 gex_rank 計算 Spearman correlation 並繪圖。\n",
    "    會自動分 group 顯示 gene vs TSS feature。\n",
    "    \"\"\"\n",
    "    corr_results = []\n",
    "\n",
    "    # 取 numeric 欄位（排除 meta 與 gex/gex_rank）\n",
    "    numeric_cols = [\n",
    "        c for c in df_out.columns\n",
    "        if c not in [\"gene_name\", \"chr\", \"strand\", \"gex\", \"gene_start\", \"gene_end\", \"TSS_start\", \"TSS_end\"]\n",
    "        and np.issubdtype(df_out[c].dtype, np.number)\n",
    "    ]\n",
    "\n",
    "    # 計算 Spearman correlation\n",
    "    for col in numeric_cols:\n",
    "        r, p = spearmanr(df_out[\"gex\"], df_out[col])\n",
    "        corr_results.append({\n",
    "            \"feature\": col,\n",
    "            \"rho\": r,\n",
    "            \"pval\": p,\n",
    "            \"region_type\": \"TSS\" if \"tss\" in col.lower() else \"Gene\"\n",
    "        })\n",
    "\n",
    "    corr_df = pd.DataFrame(corr_results).dropna(subset=[\"rho\"])\n",
    "    corr_df = corr_df.sort_values(\"rho\", ascending=False)\n",
    "\n",
    "    # === 圖表設定 ===\n",
    "    plt.figure(figsize=(12, 7))\n",
    "    top_df = corr_df.head(top_k)\n",
    "    colors = [\"#2E86AB\" if r == \"Gene\" else \"#F18F01\" for r in top_df[\"region_type\"]]\n",
    "\n",
    "    plt.barh(\n",
    "        y=top_df[\"feature\"][::-1],\n",
    "        width=top_df[\"rho\"][::-1],\n",
    "        color=colors[::-1],\n",
    "        edgecolor=\"black\"\n",
    "    )\n",
    "    plt.xlabel(\"Spearman Correlation (ρ with gex_rank)\", fontsize=12)\n",
    "    plt.ylabel(\"Feature\", fontsize=12)\n",
    "    plt.title(f\"Top {top_k} Features Correlated with Expression Rank\", fontsize=14, weight=\"bold\")\n",
    "    plt.grid(axis=\"x\", linestyle=\"--\", alpha=0.4)\n",
    "    plt.tight_layout()\n",
    "\n",
    "    # 圖例\n",
    "    from matplotlib.patches import Patch\n",
    "    legend_elements = [\n",
    "        Patch(facecolor=\"#2E86AB\", label=\"Gene region feature\"),\n",
    "        Patch(facecolor=\"#F18F01\", label=\"TSS one-side feature\")\n",
    "    ]\n",
    "    plt.legend(handles=legend_elements, loc=\"lower right\")\n",
    "\n",
    "    if save_path:\n",
    "        os.makedirs(os.path.dirname(save_path), exist_ok=True)\n",
    "        plt.savefig(save_path, dpi=300, bbox_inches=\"tight\")\n",
    "        print(f\"✅ Correlation plot saved to: {save_path}\")\n",
    "    plt.show()\n",
    "\n",
    "    return corr_df\n",
    "\n",
    "\n",
    "# ============================================================\n",
    "#                  執行並產圖\n",
    "# ============================================================\n",
    "# 確保 df_out 已包含 gex_rank\n",
    "if \"gex\" not in df_out.columns:\n",
    "    raise ValueError(\"⚠️ df_out must include 'gex_rank' column for correlation analysis.\")\n",
    "\n",
    "corr_df = plot_feature_correlations(\n",
    "    df_out,\n",
    "    top_k=25\n",
    ")\n",
    "\n",
    "# 預覽最高與最低相關的 feature\n",
    "print(\"Top positively correlated features:\")\n",
    "print(corr_df.head(10).to_string(index=False))\n",
    "print(\"\\nTop negatively correlated features:\")\n",
    "print(corr_df.tail(10).to_string(index=False))\n"
   ]
  },
  {
   "cell_type": "code",
   "execution_count": 17,
   "metadata": {},
   "outputs": [
    {
     "name": "stdout",
     "output_type": "stream",
     "text": [
      "\n",
      "=== 🧬 Processing Cell Line: X1 ===\n",
      "Gene file: /Users/deweywang/Desktop/GitHub/Gene-expression-prediction/preprocessed_data/CAGE-merged/1. original merged/X1_merged.tsv\n",
      "\n",
      "📖 Reading DNase peaks → /Users/deweywang/Desktop/GitHub/Gene-expression-prediction/ML4G_Project_1_Data/DNase-bed/X1.bed\n",
      "⚙️ Computing features for DNase ...\n"
     ]
    },
    {
     "name": "stderr",
     "output_type": "stream",
     "text": [
      "                                                        \r"
     ]
    },
    {
     "name": "stdout",
     "output_type": "stream",
     "text": [
      "\n",
      "📖 Reading H3K27ac peaks → /Users/deweywang/Desktop/GitHub/Gene-expression-prediction/ML4G_Project_1_Data/H3K27ac-bed/X1.bed\n",
      "⚙️ Computing features for H3K27ac ...\n"
     ]
    },
    {
     "name": "stderr",
     "output_type": "stream",
     "text": [
      "                                                       \r"
     ]
    },
    {
     "name": "stdout",
     "output_type": "stream",
     "text": [
      "\n",
      "📖 Reading H3K4me3 peaks → /Users/deweywang/Desktop/GitHub/Gene-expression-prediction/ML4G_Project_1_Data/H3K4me3-bed/X1.bed\n",
      "⚙️ Computing features for H3K4me3 ...\n"
     ]
    },
    {
     "name": "stderr",
     "output_type": "stream",
     "text": [
      "                                                       \r"
     ]
    },
    {
     "name": "stdout",
     "output_type": "stream",
     "text": [
      "\n",
      "📖 Reading H3K27me3 peaks → /Users/deweywang/Desktop/GitHub/Gene-expression-prediction/ML4G_Project_1_Data/H3K27me3-bed/X1.bed\n",
      "⚙️ Computing features for H3K27me3 ...\n"
     ]
    },
    {
     "name": "stderr",
     "output_type": "stream",
     "text": [
      "                                                       \r"
     ]
    },
    {
     "name": "stdout",
     "output_type": "stream",
     "text": [
      "\n",
      "📖 Reading H3K36me3 peaks → /Users/deweywang/Desktop/GitHub/Gene-expression-prediction/ML4G_Project_1_Data/H3K36me3-bed/X1.bed\n",
      "⚙️ Computing features for H3K36me3 ...\n"
     ]
    },
    {
     "name": "stderr",
     "output_type": "stream",
     "text": [
      "                                                       \r"
     ]
    },
    {
     "name": "stdout",
     "output_type": "stream",
     "text": [
      "\n",
      "📖 Reading H3K4me1 peaks → /Users/deweywang/Desktop/GitHub/Gene-expression-prediction/ML4G_Project_1_Data/H3K4me1-bed/X1.bed\n",
      "⚙️ Computing features for H3K4me1 ...\n"
     ]
    },
    {
     "name": "stderr",
     "output_type": "stream",
     "text": [
      "                                                       \r"
     ]
    },
    {
     "name": "stdout",
     "output_type": "stream",
     "text": [
      "\n",
      "📖 Reading H3K9me3 peaks → /Users/deweywang/Desktop/GitHub/Gene-expression-prediction/ML4G_Project_1_Data/H3K9me3-bed/X1.bed\n",
      "⚙️ Computing features for H3K9me3 ...\n"
     ]
    },
    {
     "name": "stderr",
     "output_type": "stream",
     "text": [
      "                                                       \r"
     ]
    },
    {
     "name": "stdout",
     "output_type": "stream",
     "text": [
      "✅ Saved merged file: /Users/deweywang/Desktop/GitHub/Gene-expression-prediction/preprocessed_data/CAGE-merged/5. bed features/X1_with_allMarks.tsv (281 columns)\n",
      "\n",
      "=== 🧬 Processing Cell Line: X2 ===\n",
      "Gene file: /Users/deweywang/Desktop/GitHub/Gene-expression-prediction/preprocessed_data/CAGE-merged/1. original merged/X2_merged.tsv\n",
      "\n",
      "📖 Reading DNase peaks → /Users/deweywang/Desktop/GitHub/Gene-expression-prediction/ML4G_Project_1_Data/DNase-bed/X2.bed\n",
      "⚙️ Computing features for DNase ...\n"
     ]
    },
    {
     "name": "stderr",
     "output_type": "stream",
     "text": [
      "                                                        \r"
     ]
    },
    {
     "name": "stdout",
     "output_type": "stream",
     "text": [
      "\n",
      "📖 Reading H3K27ac peaks → /Users/deweywang/Desktop/GitHub/Gene-expression-prediction/ML4G_Project_1_Data/H3K27ac-bed/X2.bed\n",
      "⚙️ Computing features for H3K27ac ...\n"
     ]
    },
    {
     "name": "stderr",
     "output_type": "stream",
     "text": [
      "                                                       \r"
     ]
    },
    {
     "name": "stdout",
     "output_type": "stream",
     "text": [
      "\n",
      "📖 Reading H3K4me3 peaks → /Users/deweywang/Desktop/GitHub/Gene-expression-prediction/ML4G_Project_1_Data/H3K4me3-bed/X2.bed\n",
      "⚙️ Computing features for H3K4me3 ...\n"
     ]
    },
    {
     "name": "stderr",
     "output_type": "stream",
     "text": [
      "                                                       \r"
     ]
    },
    {
     "name": "stdout",
     "output_type": "stream",
     "text": [
      "\n",
      "📖 Reading H3K27me3 peaks → /Users/deweywang/Desktop/GitHub/Gene-expression-prediction/ML4G_Project_1_Data/H3K27me3-bed/X2.bed\n",
      "⚙️ Computing features for H3K27me3 ...\n"
     ]
    },
    {
     "name": "stderr",
     "output_type": "stream",
     "text": [
      "                                                       \r"
     ]
    },
    {
     "name": "stdout",
     "output_type": "stream",
     "text": [
      "\n",
      "📖 Reading H3K36me3 peaks → /Users/deweywang/Desktop/GitHub/Gene-expression-prediction/ML4G_Project_1_Data/H3K36me3-bed/X2.bed\n",
      "⚙️ Computing features for H3K36me3 ...\n"
     ]
    },
    {
     "name": "stderr",
     "output_type": "stream",
     "text": [
      "                                                       \r"
     ]
    },
    {
     "name": "stdout",
     "output_type": "stream",
     "text": [
      "\n",
      "📖 Reading H3K4me1 peaks → /Users/deweywang/Desktop/GitHub/Gene-expression-prediction/ML4G_Project_1_Data/H3K4me1-bed/X2.bed\n",
      "⚙️ Computing features for H3K4me1 ...\n"
     ]
    },
    {
     "name": "stderr",
     "output_type": "stream",
     "text": [
      "                                                       \r"
     ]
    },
    {
     "name": "stdout",
     "output_type": "stream",
     "text": [
      "\n",
      "📖 Reading H3K9me3 peaks → /Users/deweywang/Desktop/GitHub/Gene-expression-prediction/ML4G_Project_1_Data/H3K9me3-bed/X2.bed\n",
      "⚙️ Computing features for H3K9me3 ...\n"
     ]
    },
    {
     "name": "stderr",
     "output_type": "stream",
     "text": [
      "                                                       \r"
     ]
    },
    {
     "name": "stdout",
     "output_type": "stream",
     "text": [
      "✅ Saved merged file: /Users/deweywang/Desktop/GitHub/Gene-expression-prediction/preprocessed_data/CAGE-merged/5. bed features/X2_with_allMarks.tsv (281 columns)\n",
      "\n",
      "=== 🧬 Processing Cell Line: X3 ===\n",
      "Gene file: /Users/deweywang/Desktop/GitHub/Gene-expression-prediction/ML4G_Project_1_Data/CAGE-train/CAGE-train/X3_test_info.tsv\n",
      "\n",
      "📖 Reading DNase peaks → /Users/deweywang/Desktop/GitHub/Gene-expression-prediction/ML4G_Project_1_Data/DNase-bed/X3.bed\n",
      "⚙️ Computing features for DNase ...\n"
     ]
    },
    {
     "name": "stderr",
     "output_type": "stream",
     "text": [
      "                                        \r"
     ]
    },
    {
     "name": "stdout",
     "output_type": "stream",
     "text": [
      "\n",
      "📖 Reading H3K27ac peaks → /Users/deweywang/Desktop/GitHub/Gene-expression-prediction/ML4G_Project_1_Data/H3K27ac-bed/X3.bed\n",
      "⚙️ Computing features for H3K27ac ...\n"
     ]
    },
    {
     "name": "stderr",
     "output_type": "stream",
     "text": [
      "                                                     \r"
     ]
    },
    {
     "name": "stdout",
     "output_type": "stream",
     "text": [
      "\n",
      "📖 Reading H3K4me3 peaks → /Users/deweywang/Desktop/GitHub/Gene-expression-prediction/ML4G_Project_1_Data/H3K4me3-bed/X3.bed\n",
      "⚙️ Computing features for H3K4me3 ...\n"
     ]
    },
    {
     "name": "stderr",
     "output_type": "stream",
     "text": [
      "                                                     \r"
     ]
    },
    {
     "name": "stdout",
     "output_type": "stream",
     "text": [
      "\n",
      "📖 Reading H3K27me3 peaks → /Users/deweywang/Desktop/GitHub/Gene-expression-prediction/ML4G_Project_1_Data/H3K27me3-bed/X3.bed\n",
      "⚙️ Computing features for H3K27me3 ...\n"
     ]
    },
    {
     "name": "stderr",
     "output_type": "stream",
     "text": [
      "                                                     \r"
     ]
    },
    {
     "name": "stdout",
     "output_type": "stream",
     "text": [
      "\n",
      "📖 Reading H3K36me3 peaks → /Users/deweywang/Desktop/GitHub/Gene-expression-prediction/ML4G_Project_1_Data/H3K36me3-bed/X3.bed\n",
      "⚙️ Computing features for H3K36me3 ...\n"
     ]
    },
    {
     "name": "stderr",
     "output_type": "stream",
     "text": [
      "                                                     \r"
     ]
    },
    {
     "name": "stdout",
     "output_type": "stream",
     "text": [
      "\n",
      "📖 Reading H3K4me1 peaks → /Users/deweywang/Desktop/GitHub/Gene-expression-prediction/ML4G_Project_1_Data/H3K4me1-bed/X3.bed\n",
      "⚙️ Computing features for H3K4me1 ...\n"
     ]
    },
    {
     "name": "stderr",
     "output_type": "stream",
     "text": [
      "                                                     \r"
     ]
    },
    {
     "name": "stdout",
     "output_type": "stream",
     "text": [
      "\n",
      "📖 Reading H3K9me3 peaks → /Users/deweywang/Desktop/GitHub/Gene-expression-prediction/ML4G_Project_1_Data/H3K9me3-bed/X3.bed\n",
      "⚙️ Computing features for H3K9me3 ...\n"
     ]
    },
    {
     "name": "stderr",
     "output_type": "stream",
     "text": [
      "                                                     \r"
     ]
    },
    {
     "name": "stdout",
     "output_type": "stream",
     "text": [
      "✅ Saved merged file: /Users/deweywang/Desktop/GitHub/Gene-expression-prediction/preprocessed_data/CAGE-merged/5. bed features/X3_with_allMarks.tsv (281 columns)\n"
     ]
    }
   ],
   "source": [
    "# ============================================================\n",
    "#                  批次整合多 mark / 多 cell line\n",
    "# ============================================================\n",
    "\n",
    "def process_cellline(cell_name: str,\n",
    "                     gene_file: str,\n",
    "                     marks: List[str],\n",
    "                     base_dir: str,\n",
    "                     tss_window_bp: int = 1000,\n",
    "                     output_dir: str = \"../preprocessed_data/CAGE-merged/2. feature_annotated\"):\n",
    "    \"\"\"\n",
    "    對指定 cell line (如 X1) 的所有 histone marks 一次處理。\n",
    "    輸出會是一個 TSV，包含所有 mark 的 features。\n",
    "    \"\"\"\n",
    "    print(f\"\\n=== 🧬 Processing Cell Line: {cell_name} ===\")\n",
    "    print(f\"Gene file: {gene_file}\")\n",
    "\n",
    "    # --- 載入基因 ---\n",
    "    df_genes = pd.read_csv(\n",
    "        gene_file, sep=\"\\t\",\n",
    "        dtype={\"gene_name\": str, \"chr\": str, \"gene_start\": np.int64, \"gene_end\": np.int64,\n",
    "               \"TSS_start\": np.int64, \"TSS_end\": np.int64, \"strand\": str}\n",
    "    )\n",
    "\n",
    "    # 確保 gene_name 唯一\n",
    "    df_genes = df_genes.drop_duplicates(subset=[\"gene_name\"]).reset_index(drop=True)\n",
    "\n",
    "    # 初始化總輸出\n",
    "    df_all = df_genes[[\"gene_name\"]].copy()\n",
    "\n",
    "    # === 逐 mark 執行 ===\n",
    "    for mark in marks:\n",
    "        bed_path = os.path.join(base_dir, f\"{mark}-bed\", f\"{cell_name}.bed\")\n",
    "\n",
    "        if not os.path.exists(bed_path):\n",
    "            print(f\"⚠️ Skip {mark}: missing file {bed_path}\")\n",
    "            continue\n",
    "\n",
    "        print(f\"\\n📖 Reading {mark} peaks → {bed_path}\")\n",
    "        df_peaks = pd.read_csv(\n",
    "            bed_path, sep=\"\\t\", header=None,\n",
    "            names=[\"chr\", \"start\", \"end\", \"name\", \"score\", \"strand\",\n",
    "                   \"signal_value\", \"p_value\", \"q_value\", \"peak\"],\n",
    "            dtype={\"chr\": str, \"start\": np.int64, \"end\": np.int64,\n",
    "                   \"name\": str, \"score\": float, \"strand\": str,\n",
    "                   \"signal_value\": float, \"p_value\": float,\n",
    "                   \"q_value\": float, \"peak\": np.int64}\n",
    "        )\n",
    "\n",
    "        # 前處理與一致化\n",
    "        df_peaks = df_peaks[df_peaks[\"score\"] > 0].copy()\n",
    "        df_peaks[\"summit\"] = df_peaks[\"start\"] + df_peaks[\"peak\"]\n",
    "        df_peaks[\"width\"] = df_peaks[\"end\"] - df_peaks[\"start\"]\n",
    "        df_genes[\"chr\"], df_peaks[\"chr\"] = harmonize_chr_names(df_genes[\"chr\"], df_peaks[\"chr\"])\n",
    "        df_peaks[\"signal_z\"] = zscore_file(df_peaks[\"signal_value\"])\n",
    "\n",
    "        peaks_by_chr = {c: sub.reset_index(drop=True)\n",
    "                        for c, sub in df_peaks.groupby(\"chr\", sort=False)}\n",
    "\n",
    "        # === 計算特徵 ===\n",
    "        print(f\"⚙️ Computing features for {mark} ...\")\n",
    "        feat_gene = compute_features(df_genes, peaks_by_chr, region=\"gene\")\n",
    "        feat_tss = compute_features(df_genes, peaks_by_chr, region=\"tss\", tss_window_bp=tss_window_bp)\n",
    "\n",
    "        # 後綴區分 mark 與區域\n",
    "        feat_gene = feat_gene.rename(\n",
    "            columns={c: f\"{mark}_{c}_gene\" for c in feat_gene.columns if c != \"gene_name\"})\n",
    "        feat_tss = feat_tss.rename(\n",
    "            columns={c: f\"{mark}_{c}_tss\" for c in feat_tss.columns if c != \"gene_name\"})\n",
    "\n",
    "        # 合併\n",
    "        df_all = (df_all\n",
    "                  .merge(feat_gene, on=\"gene_name\", how=\"left\")\n",
    "                  .merge(feat_tss, on=\"gene_name\", how=\"left\"))\n",
    "\n",
    "    # === 儲存輸出 ===\n",
    "    output_path = os.path.join(output_dir, f\"{cell_name}_with_allMarks.tsv\")\n",
    "    os.makedirs(os.path.dirname(output_path), exist_ok=True)\n",
    "    df_all = df_all.fillna(0.0)\n",
    "    df_all.to_csv(output_path, sep=\"\\t\", index=False)\n",
    "    print(f\"✅ Saved merged file: {output_path} ({df_all.shape[1]} columns)\")\n",
    "    return df_all\n",
    "\n",
    "\n",
    "# ============================================================\n",
    "#                  主批次執行\n",
    "# ============================================================\n",
    "if __name__ == \"__main__\":\n",
    "    base = \"/Users/deweywang/Desktop/GitHub/Gene-expression-prediction/ML4G_Project_1_Data/\"\n",
    "    merged_base = \"/Users/deweywang/Desktop/GitHub/Gene-expression-prediction/preprocessed_data/CAGE-merged/\"\n",
    "    \n",
    "    marks = [\"DNase\", \"H3K27ac\", \"H3K4me3\", \"H3K27me3\", \"H3K36me3\", \"H3K4me1\", \"H3K9me3\"]\n",
    "    cells = {\n",
    "        \"X1\": os.path.join(merged_base, \"1. original merged/X1_merged.tsv\"),\n",
    "        \"X2\": os.path.join(merged_base, \"1. original merged/X2_merged.tsv\"),\n",
    "        \"X3\": os.path.join(base, \"CAGE-train/CAGE-train/X3_test_info.tsv\"),\n",
    "    }\n",
    "\n",
    "    output_dir = os.path.join(merged_base, \"5. bed features\")\n",
    "\n",
    "    # 跑全部 cell line\n",
    "    for cell, gene_file in cells.items():\n",
    "        process_cellline(cell, gene_file, marks, base_dir=base, tss_window_bp=1000, output_dir=output_dir)\n"
   ]
  },
  {
   "cell_type": "code",
   "execution_count": 34,
   "metadata": {},
   "outputs": [],
   "source": [
    "import pandas as pd\n",
    "import numpy as np\n",
    "from scipy.stats import spearmanr, rankdata\n",
    "\n",
    "def save_feature_summary(df, out_path):\n",
    "    \"\"\"\n",
    "    生成每個特徵的統計摘要：\n",
    "    - mean, std, min, max\n",
    "    - missing rate\n",
    "    - Spearman correlation with gex\n",
    "    \"\"\"\n",
    "    print(\"🧮 Generating feature summary (Spearman correlation)...\")\n",
    "\n",
    "    numeric_cols = df.select_dtypes(include=[np.number]).columns.tolist()\n",
    "    if \"gex\" not in df.columns:\n",
    "        raise ValueError(\"❌ 'gex' column not found in DataFrame!\")\n",
    "    if \"gex\" in numeric_cols:\n",
    "        numeric_cols.remove(\"gex\")\n",
    "\n",
    "    summaries = []\n",
    "    gex_vals = df[\"gex\"].values\n",
    "\n",
    "    for col in numeric_cols:\n",
    "        vals = df[col].values\n",
    "        mask = ~np.isnan(vals)\n",
    "\n",
    "        # 基本統計\n",
    "        mean_val = np.nanmean(vals)\n",
    "        std_val = np.nanstd(vals)\n",
    "        min_val = np.nanmin(vals)\n",
    "        max_val = np.nanmax(vals)\n",
    "        missing_rate = 1 - mask.mean()\n",
    "\n",
    "        # Spearman correlation\n",
    "        if np.sum(mask) > 3:\n",
    "            try:\n",
    "                corr, pval = spearmanr(vals[mask], gex_vals[mask])\n",
    "            except Exception:\n",
    "                corr, pval = np.nan, np.nan\n",
    "        else:\n",
    "            corr, pval = np.nan, np.nan\n",
    "\n",
    "        summaries.append({\n",
    "            \"feature\": col,\n",
    "            \"mean\": mean_val,\n",
    "            \"std\": std_val,\n",
    "            \"min\": min_val,\n",
    "            \"max\": max_val,\n",
    "            \"missing_rate\": missing_rate,\n",
    "            \"spearman_corr_with_gex\": corr,\n",
    "            \"corr_pvalue\": pval,\n",
    "        })\n",
    "\n",
    "    summary_df = pd.DataFrame(summaries).sort_values(by=\"spearman_corr_with_gex\", ascending=False)\n",
    "    out_summary_path = out_path.replace(\".tsv\", \"_feature_summary.tsv\")\n",
    "    summary_df.to_csv(out_summary_path, sep=\"\\t\", index=False, float_format=\"%.5f\")\n",
    "\n",
    "    print(f\"✅ Feature summary saved → {out_summary_path}\")\n",
    "    print(f\"📊 Total features analyzed: {len(summary_df)}\")\n",
    "\n",
    "    return summary_df"
   ]
  },
  {
   "cell_type": "code",
   "execution_count": 35,
   "metadata": {},
   "outputs": [
    {
     "name": "stdout",
     "output_type": "stream",
     "text": [
      "🧮 Generating feature summary (Spearman correlation)...\n",
      "✅ Feature summary saved → ../preprocessed_data/CAGE-merged/X1_features_feature_summary.tsv\n",
      "📊 Total features analyzed: 460\n"
     ]
    }
   ],
   "source": [
    "df = pd.read_csv(\"../preprocessed_data/CAGE-merged/X1_features.tsv\", sep=\"\\t\")\n",
    "summary_df = save_feature_summary(df, \"../preprocessed_data/CAGE-merged/X1_features.tsv\")"
   ]
  },
  {
   "cell_type": "code",
   "execution_count": null,
   "metadata": {},
   "outputs": [],
   "source": [
    "我現在要來寫給lgbm訓練\n",
    "我要讀取這個file:\n",
    "來當training data: preprocessed_data/CAGE-merged/X1_features.tsv\n",
    "然後preprocessed_data/CAGE-merged/X1_features.tsv來當valdata\n",
    "\n",
    "我要用的column是除了gene_name\tchr\tgene_start\tgene_end\tTSS_start\tTSS_end\tstrand\tgex以外的所有columns，並且預測的目標是gex，並且幫我把gex改成rank based，並且這個r我想要"
   ]
  },
  {
   "cell_type": "code",
   "execution_count": 36,
   "metadata": {},
   "outputs": [
    {
     "name": "stdout",
     "output_type": "stream",
     "text": [
      "🧮 Generating feature summary (Spearman correlation)...\n",
      "✅ Feature summary saved → ../preprocessed_data/CAGE-merged/X2_features_feature_summary.tsv\n",
      "📊 Total features analyzed: 460\n"
     ]
    }
   ],
   "source": [
    "df = pd.read_csv(\"../preprocessed_data/CAGE-merged/X2_features.tsv\", sep=\"\\t\")\n",
    "summary_df = save_feature_summary(df, \"../preprocessed_data/CAGE-merged/X2_features.tsv\")"
   ]
  }
 ],
 "metadata": {
  "kernelspec": {
   "display_name": "ml4g_project1",
   "language": "python",
   "name": "python3"
  },
  "language_info": {
   "codemirror_mode": {
    "name": "ipython",
    "version": 3
   },
   "file_extension": ".py",
   "mimetype": "text/x-python",
   "name": "python",
   "nbconvert_exporter": "python",
   "pygments_lexer": "ipython3",
   "version": "3.12.11"
  }
 },
 "nbformat": 4,
 "nbformat_minor": 2
}
