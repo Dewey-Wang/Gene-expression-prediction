{
 "cells": [
  {
   "cell_type": "markdown",
   "metadata": {},
   "source": [
    "# Train Data Preprocessing"
   ]
  },
  {
   "cell_type": "markdown",
   "metadata": {},
   "source": [
    "## Merged train+val and merged info and y"
   ]
  },
  {
   "cell_type": "code",
   "execution_count": 1,
   "metadata": {},
   "outputs": [
    {
     "name": "stdout",
     "output_type": "stream",
     "text": [
      "\n",
      "📘 X1: train = 14310, val = 1974\n",
      "✅ Total merged rows = 16284\n",
      "💾 Saved merged file → ../preprocessed_data/reference/0. raw_data/X1_y.tsv\n",
      "\n",
      "📘 X2: train = 14310, val = 1974\n",
      "✅ Total merged rows = 16284\n",
      "💾 Saved merged file → ../preprocessed_data/reference/0. raw_data/X2_y.tsv\n"
     ]
    }
   ],
   "source": [
    "import os\n",
    "import pandas as pd\n",
    "\n",
    "# ============================================================\n",
    "#                  基本設定\n",
    "# ============================================================\n",
    "base_dir = \"../ML4G_Project_1_Data/CAGE-train/CAGE-train\"\n",
    "output_dir = \"../preprocessed_data/reference/0. raw_data\"\n",
    "os.makedirs(output_dir, exist_ok=True)\n",
    "\n",
    "cells = [\"X1\", \"X2\"]\n",
    "\n",
    "# ============================================================\n",
    "#                  合併 train + val y\n",
    "# ============================================================\n",
    "for cell in cells:\n",
    "    train_path = os.path.join(base_dir, f\"{cell}_train_y.tsv\")\n",
    "    val_path = os.path.join(base_dir, f\"{cell}_val_y.tsv\")\n",
    "    out_path = os.path.join(output_dir, f\"{cell}_y.tsv\")\n",
    "\n",
    "    # --- 讀取 ---\n",
    "    df_train = pd.read_csv(train_path, sep=\"\\t\")\n",
    "    df_val = pd.read_csv(val_path, sep=\"\\t\")\n",
    "\n",
    "    print(f\"\\n📘 {cell}: train = {len(df_train)}, val = {len(df_val)}\")\n",
    "\n",
    "    # --- 合併 ---\n",
    "    df_merged = pd.concat([df_train, df_val], axis=0, ignore_index=True)\n",
    "    print(f\"✅ Total merged rows = {len(df_merged)}\")\n",
    "\n",
    "    # --- 儲存 ---\n",
    "    df_merged.to_csv(out_path, sep=\"\\t\", index=False)\n",
    "    print(f\"💾 Saved merged file → {out_path}\")\n"
   ]
  }
 ],
 "metadata": {
  "kernelspec": {
   "display_name": "ml4g_project1",
   "language": "python",
   "name": "python3"
  },
  "language_info": {
   "codemirror_mode": {
    "name": "ipython",
    "version": 3
   },
   "file_extension": ".py",
   "mimetype": "text/x-python",
   "name": "python",
   "nbconvert_exporter": "python",
   "pygments_lexer": "ipython3",
   "version": "3.12.11"
  }
 },
 "nbformat": 4,
 "nbformat_minor": 2
}
