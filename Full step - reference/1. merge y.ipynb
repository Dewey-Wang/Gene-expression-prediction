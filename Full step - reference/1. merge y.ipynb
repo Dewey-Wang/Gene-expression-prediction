{
 "cells": [
  {
   "cell_type": "markdown",
   "metadata": {},
   "source": [
    "# Train Data Preprocessing"
   ]
  },
  {
   "cell_type": "markdown",
   "metadata": {},
   "source": [
    "## Merged train+val and merged info and y"
   ]
  },
  {
   "cell_type": "code",
   "execution_count": 14,
   "metadata": {},
   "outputs": [
    {
     "name": "stdout",
     "output_type": "stream",
     "text": [
      "\n",
      "📘 X1: train = 14310, val = 1974\n",
      "✅ Total merged rows = 16284\n",
      "✅ Saved ranked file → ../preprocessed_data/reference/0. data/X1_y.tsv\n",
      "  gene_name          gex  gex_rank\n",
      "0   SLC20A1     0.000000  0.290131\n",
      "1  C11orf58  2239.103328  0.997421\n",
      "2    ZSCAN9    19.798064  0.800018\n",
      "3      CD19   411.530623  0.973532\n",
      "4   TMEM123    34.214129  0.833702\n",
      "\n",
      "📘 X2: train = 14310, val = 1974\n",
      "✅ Total merged rows = 16284\n",
      "✅ Saved ranked file → ../preprocessed_data/reference/0. data/X2_y.tsv\n",
      "  gene_name          gex  gex_rank\n",
      "0   SLC20A1     0.000000  0.248066\n",
      "1  C11orf58  2906.145340  0.998158\n",
      "2    ZSCAN9     9.414950  0.756479\n",
      "3      CD19     0.000000  0.248066\n",
      "4   TMEM123    26.995929  0.818472\n"
     ]
    }
   ],
   "source": [
    "import os\n",
    "import pandas as pd\n",
    "import numpy as np\n",
    "from scipy.stats import rankdata\n",
    "\n",
    "# ============================================================\n",
    "# 基本設定\n",
    "# ============================================================\n",
    "base_dir = \"../ML4G_Project_1_Data/CAGE-train/CAGE-train\"\n",
    "output_dir = \"../preprocessed_data/reference/0. data\"\n",
    "\n",
    "os.makedirs(output_dir, exist_ok=True)\n",
    "\n",
    "cells = [\"X1\", \"X2\"]\n",
    "\n",
    "# ============================================================\n",
    "# 合併 + Rank normalization\n",
    "# ============================================================\n",
    "for cell in cells:\n",
    "    # === 路徑設定 ===\n",
    "    train_path = os.path.join(base_dir, f\"{cell}_train_y.tsv\")\n",
    "    val_path   = os.path.join(base_dir, f\"{cell}_val_y.tsv\")\n",
    "    ranked_out = os.path.join(output_dir, f\"{cell}_y.tsv\")\n",
    "\n",
    "    # === 讀取資料 ===\n",
    "    df_train = pd.read_csv(train_path, sep=\"\\t\")\n",
    "    df_val   = pd.read_csv(val_path, sep=\"\\t\")\n",
    "\n",
    "    print(f\"\\n📘 {cell}: train = {len(df_train)}, val = {len(df_val)}\")\n",
    "\n",
    "    # === 合併資料 ===\n",
    "    df_merged = pd.concat([df_train, df_val], axis=0, ignore_index=True)\n",
    "    print(f\"✅ Total merged rows = {len(df_merged)}\")\n",
    "\n",
    "    # === 排名 normalization ===\n",
    "    vals = df_merged[\"gex\"].to_numpy()\n",
    "    ranks = rankdata(vals, method=\"average\") / len(vals)  # 越大值 rank 越高\n",
    "    df_merged[\"gex_rank\"] = ranks\n",
    "\n",
    "    # === 儲存結果 ===\n",
    "    df_merged.to_csv(ranked_out, sep=\"\\t\", index=False)\n",
    "    print(f\"✅ Saved ranked file → {ranked_out}\")\n",
    "    print(df_merged.head(5))\n"
   ]
  }
 ],
 "metadata": {
  "kernelspec": {
   "display_name": "ml4g_project1",
   "language": "python",
   "name": "python3"
  },
  "language_info": {
   "codemirror_mode": {
    "name": "ipython",
    "version": 3
   },
   "file_extension": ".py",
   "mimetype": "text/x-python",
   "name": "python",
   "nbconvert_exporter": "python",
   "pygments_lexer": "ipython3",
   "version": "3.12.11"
  }
 },
 "nbformat": 4,
 "nbformat_minor": 2
}
