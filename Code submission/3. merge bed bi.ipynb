{
 "cells": [
  {
   "cell_type": "markdown",
   "metadata": {},
   "source": [
    "# Merge the file extracted from bed and bigwig"
   ]
  },
  {
   "cell_type": "code",
   "execution_count": null,
   "metadata": {},
   "outputs": [
    {
     "name": "stdout",
     "output_type": "stream",
     "text": [
      "\n",
      "=== 🧬 X1: merging logzscore bed + logzscore bigwig ===\n",
      "📘 Loaded bed=(18268, 511), bigwig=(18268, 175)\n",
      "✅ Merged shape: (18268, 679)\n",
      "💾 Saved → ../preprocessed_data/reference/1. merged data/without_y_100_one_side/X1_all_logzscore_logzscore.tsv\n",
      "\n",
      "=== 🧬 X2: merging logzscore bed + logzscore bigwig ===\n",
      "📘 Loaded bed=(18268, 511), bigwig=(18268, 175)\n",
      "✅ Merged shape: (18268, 679)\n",
      "💾 Saved → ../preprocessed_data/reference/1. merged data/without_y_100_one_side/X2_all_logzscore_logzscore.tsv\n",
      "\n",
      "=== 🧬 X3: merging logzscore bed + logzscore bigwig ===\n",
      "📘 Loaded bed=(18268, 511), bigwig=(18268, 175)\n",
      "✅ Merged shape: (18268, 679)\n",
      "💾 Saved → ../preprocessed_data/reference/1. merged data/without_y_100_one_side/X3_all_logzscore_logzscore.tsv\n"
     ]
    }
   ],
   "source": [
    "import os\n",
    "import pandas as pd\n",
    "\n",
    "# ============================================================\n",
    "# Configuration\n",
    "# ============================================================\n",
    "base_dir = \"../preprocessed_data/reference/0. data\"\n",
    "\n",
    "# BED inputs (normalized)\n",
    "bed_dir = os.path.join(base_dir, \"bed100_one_side\")\n",
    "bed_norm_suffix = \"logzscore\"  # alternatives: \"zscore\", \"raw\"\n",
    "\n",
    "# bigWig inputs (normalized)\n",
    "bw_dir = os.path.join(base_dir, \"bigwig100_one_side\")\n",
    "bw_norm_suffix = \"logzscore\"   # normalization suffix used in bigWig TSV file names\n",
    "\n",
    "# Output directory for merged (features only, no Y)\n",
    "output_dir = \"../preprocessed_data/reference/1. merged data/without_y_100_one_side/\"\n",
    "os.makedirs(output_dir, exist_ok=True)\n",
    "\n",
    "# Cells to process\n",
    "cells = [\"X1\", \"X2\", \"X3\"]\n",
    "\n",
    "# Columns to drop from BED (metadata retained in bigWig or not needed downstream)\n",
    "drop_cols = [\"chr\", \"gene_start\", \"gene_end\", \"TSS_start\", \"TSS_end\", \"strand\"]\n",
    "\n",
    "# ============================================================\n",
    "# Merge per cell line\n",
    "# ============================================================\n",
    "for cell in cells:\n",
    "    bed_path = os.path.join(bed_dir, f\"{cell}_{bed_norm_suffix}.tsv\")\n",
    "    bw_path = os.path.join(bw_dir, f\"{cell}_{bw_norm_suffix}.tsv\")\n",
    "    out_path = os.path.join(output_dir, f\"{cell}_all_{bed_norm_suffix}_{bw_norm_suffix}.tsv\")\n",
    "\n",
    "    print(f\"\\n=== 🧬 {cell}: merging {bed_norm_suffix} BED + {bw_norm_suffix} bigWig ===\")\n",
    "\n",
    "    if not os.path.exists(bed_path):\n",
    "        print(f\"[WARN] Missing BED file: {bed_path}\")\n",
    "        continue\n",
    "    if not os.path.exists(bw_path):\n",
    "        print(f\"[WARN] Missing bigWig file: {bw_path}\")\n",
    "        continue\n",
    "\n",
    "    # --- Load inputs ---\n",
    "    df_bed = pd.read_csv(bed_path, sep=\"\\t\")\n",
    "    df_bw = pd.read_csv(bw_path, sep=\"\\t\")\n",
    "\n",
    "    # --- Basic schema check ---\n",
    "    if \"gene_name\" not in df_bed.columns or \"gene_name\" not in df_bw.columns:\n",
    "        raise ValueError(f\"Missing 'gene_name' column in inputs for cell: {cell}\")\n",
    "\n",
    "    print(f\"[INFO] Loaded shapes: bed={df_bed.shape}, bigwig={df_bw.shape}\")\n",
    "\n",
    "    # --- Drop unwanted BED metadata columns (keep features) ---\n",
    "    keep_cols = [c for c in df_bed.columns if c not in drop_cols]\n",
    "    df_bed = df_bed[keep_cols]\n",
    "\n",
    "    # --- Outer-merge on gene_name to retain all entries ---\n",
    "    df_merged = pd.merge(df_bed, df_bw, on=\"gene_name\", how=\"outer\")\n",
    "    print(f\"[INFO] Merged shape: {df_merged.shape}\")\n",
    "\n",
    "    # --- Save merged TSV ---\n",
    "    df_merged.to_csv(out_path, sep=\"\\t\", index=False)\n",
    "    print(f\"[OK] Saved → {out_path}\")\n"
   ]
  }
 ],
 "metadata": {
  "kernelspec": {
   "display_name": "ml4g_project1",
   "language": "python",
   "name": "python3"
  },
  "language_info": {
   "codemirror_mode": {
    "name": "ipython",
    "version": 3
   },
   "file_extension": ".py",
   "mimetype": "text/x-python",
   "name": "python",
   "nbconvert_exporter": "python",
   "pygments_lexer": "ipython3",
   "version": "3.12.11"
  }
 },
 "nbformat": 4,
 "nbformat_minor": 2
}
