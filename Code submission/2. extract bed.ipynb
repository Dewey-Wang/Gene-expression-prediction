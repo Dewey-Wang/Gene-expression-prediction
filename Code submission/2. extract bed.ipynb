{
 "cells": [
  {
   "cell_type": "markdown",
   "metadata": {},
   "source": [
    "# Extract informayion from bed"
   ]
  },
  {
   "cell_type": "code",
   "execution_count": null,
   "metadata": {},
   "outputs": [
    {
     "name": "stdout",
     "output_type": "stream",
     "text": [
      "\n",
      "=== 🧬 Processing Cell Line: X1 ===\n",
      "Normalization mode: log_zscore\n",
      "📖 Loaded reference table: 18268 genes\n",
      "\n",
      "📘 Reading DNase (X1) ...\n",
      "📊 Loaded 56452 peaks, grouped into 24 chromosomes\n",
      "⚙️ Computing features for DNase (X1) ...\n",
      "🌍 Global mean/std (signal): 41.9516, 69.8208\n"
     ]
    },
    {
     "name": "stderr",
     "output_type": "stream",
     "text": [
      "Computing gene features: 100%|██████████| 18268/18268 [00:06<00:00, 2613.54it/s]\n",
      "/var/folders/7g/j5s0yzcj34l3v043s7znkplc0000gn/T/ipykernel_74264/3463236200.py:191: FutureWarning: DataFrame.applymap has been deprecated. Use DataFrame.map instead.\n",
      "  df = df.applymap(lambda x: 0.0 if isinstance(x, float) and not np.isfinite(x) else x)\n"
     ]
    },
    {
     "name": "stdout",
     "output_type": "stream",
     "text": [
      "🌍 Global mean/std (signal): 41.9516, 69.8208\n"
     ]
    },
    {
     "name": "stderr",
     "output_type": "stream",
     "text": [
      "Computing tss features: 100%|██████████| 18268/18268 [00:04<00:00, 4400.27it/s]\n"
     ]
    },
    {
     "name": "stdout",
     "output_type": "stream",
     "text": [
      "\n",
      "📘 Reading H3K27ac (X1) ...\n",
      "📊 Loaded 57887 peaks, grouped into 30 chromosomes\n",
      "⚙️ Computing features for H3K27ac (X1) ...\n",
      "🌍 Global mean/std (signal): 10.4143, 8.9643\n"
     ]
    },
    {
     "name": "stderr",
     "output_type": "stream",
     "text": [
      "Computing gene features: 100%|██████████| 18268/18268 [00:06<00:00, 2711.19it/s]\n",
      "/var/folders/7g/j5s0yzcj34l3v043s7znkplc0000gn/T/ipykernel_74264/3463236200.py:191: FutureWarning: DataFrame.applymap has been deprecated. Use DataFrame.map instead.\n",
      "  df = df.applymap(lambda x: 0.0 if isinstance(x, float) and not np.isfinite(x) else x)\n"
     ]
    },
    {
     "name": "stdout",
     "output_type": "stream",
     "text": [
      "🌍 Global mean/std (signal): 10.4143, 8.9643\n"
     ]
    },
    {
     "name": "stderr",
     "output_type": "stream",
     "text": [
      "Computing tss features: 100%|██████████| 18268/18268 [00:02<00:00, 6784.77it/s]\n"
     ]
    },
    {
     "name": "stdout",
     "output_type": "stream",
     "text": [
      "\n",
      "📘 Reading H3K4me3 (X1) ...\n",
      "📊 Loaded 42002 peaks, grouped into 30 chromosomes\n",
      "⚙️ Computing features for H3K4me3 (X1) ...\n",
      "🌍 Global mean/std (signal): 8.1494, 4.5913\n"
     ]
    },
    {
     "name": "stderr",
     "output_type": "stream",
     "text": [
      "Computing gene features: 100%|██████████| 18268/18268 [00:06<00:00, 2764.68it/s]\n",
      "/var/folders/7g/j5s0yzcj34l3v043s7znkplc0000gn/T/ipykernel_74264/3463236200.py:191: FutureWarning: DataFrame.applymap has been deprecated. Use DataFrame.map instead.\n",
      "  df = df.applymap(lambda x: 0.0 if isinstance(x, float) and not np.isfinite(x) else x)\n"
     ]
    },
    {
     "name": "stdout",
     "output_type": "stream",
     "text": [
      "🌍 Global mean/std (signal): 8.1494, 4.5913\n"
     ]
    },
    {
     "name": "stderr",
     "output_type": "stream",
     "text": [
      "Computing tss features: 100%|██████████| 18268/18268 [00:02<00:00, 6201.01it/s]\n"
     ]
    },
    {
     "name": "stdout",
     "output_type": "stream",
     "text": [
      "\n",
      "📘 Reading H3K27me3 (X1) ...\n",
      "📊 Loaded 26900 peaks, grouped into 24 chromosomes\n",
      "⚙️ Computing features for H3K27me3 (X1) ...\n",
      "🌍 Global mean/std (signal): 35.4562, 7.7610\n"
     ]
    },
    {
     "name": "stderr",
     "output_type": "stream",
     "text": [
      "Computing gene features: 100%|██████████| 18268/18268 [00:03<00:00, 4683.03it/s]\n",
      "/var/folders/7g/j5s0yzcj34l3v043s7znkplc0000gn/T/ipykernel_74264/3463236200.py:191: FutureWarning: DataFrame.applymap has been deprecated. Use DataFrame.map instead.\n",
      "  df = df.applymap(lambda x: 0.0 if isinstance(x, float) and not np.isfinite(x) else x)\n"
     ]
    },
    {
     "name": "stdout",
     "output_type": "stream",
     "text": [
      "🌍 Global mean/std (signal): 35.4562, 7.7610\n"
     ]
    },
    {
     "name": "stderr",
     "output_type": "stream",
     "text": [
      "Computing tss features: 100%|██████████| 18268/18268 [00:02<00:00, 6466.83it/s]\n"
     ]
    },
    {
     "name": "stdout",
     "output_type": "stream",
     "text": [
      "\n",
      "📘 Reading H3K36me3 (X1) ...\n",
      "📊 Loaded 81541 peaks, grouped into 27 chromosomes\n",
      "⚙️ Computing features for H3K36me3 (X1) ...\n",
      "🌍 Global mean/std (signal): 6.3442, 1.7012\n"
     ]
    },
    {
     "name": "stderr",
     "output_type": "stream",
     "text": [
      "Computing gene features: 100%|██████████| 18268/18268 [00:06<00:00, 2956.00it/s]\n",
      "/var/folders/7g/j5s0yzcj34l3v043s7znkplc0000gn/T/ipykernel_74264/3463236200.py:191: FutureWarning: DataFrame.applymap has been deprecated. Use DataFrame.map instead.\n",
      "  df = df.applymap(lambda x: 0.0 if isinstance(x, float) and not np.isfinite(x) else x)\n"
     ]
    },
    {
     "name": "stdout",
     "output_type": "stream",
     "text": [
      "🌍 Global mean/std (signal): 6.3442, 1.7012\n"
     ]
    },
    {
     "name": "stderr",
     "output_type": "stream",
     "text": [
      "Computing tss features: 100%|██████████| 18268/18268 [00:02<00:00, 6769.47it/s]\n"
     ]
    },
    {
     "name": "stdout",
     "output_type": "stream",
     "text": [
      "\n",
      "📘 Reading H3K4me1 (X1) ...\n",
      "📊 Loaded 89812 peaks, grouped into 26 chromosomes\n",
      "⚙️ Computing features for H3K4me1 (X1) ...\n",
      "🌍 Global mean/std (signal): 4.7735, 1.7659\n"
     ]
    },
    {
     "name": "stderr",
     "output_type": "stream",
     "text": [
      "Computing gene features: 100%|██████████| 18268/18268 [00:06<00:00, 2906.89it/s]\n",
      "/var/folders/7g/j5s0yzcj34l3v043s7znkplc0000gn/T/ipykernel_74264/3463236200.py:191: FutureWarning: DataFrame.applymap has been deprecated. Use DataFrame.map instead.\n",
      "  df = df.applymap(lambda x: 0.0 if isinstance(x, float) and not np.isfinite(x) else x)\n"
     ]
    },
    {
     "name": "stdout",
     "output_type": "stream",
     "text": [
      "🌍 Global mean/std (signal): 4.7735, 1.7659\n"
     ]
    },
    {
     "name": "stderr",
     "output_type": "stream",
     "text": [
      "Computing tss features: 100%|██████████| 18268/18268 [00:02<00:00, 6325.67it/s]\n"
     ]
    },
    {
     "name": "stdout",
     "output_type": "stream",
     "text": [
      "\n",
      "📘 Reading H3K9me3 (X1) ...\n",
      "📊 Loaded 18835 peaks, grouped into 30 chromosomes\n",
      "⚙️ Computing features for H3K9me3 (X1) ...\n",
      "🌍 Global mean/std (signal): 4.1487, 0.9139\n"
     ]
    },
    {
     "name": "stderr",
     "output_type": "stream",
     "text": [
      "Computing gene features: 100%|██████████| 18268/18268 [00:03<00:00, 4796.13it/s]\n",
      "/var/folders/7g/j5s0yzcj34l3v043s7znkplc0000gn/T/ipykernel_74264/3463236200.py:191: FutureWarning: DataFrame.applymap has been deprecated. Use DataFrame.map instead.\n",
      "  df = df.applymap(lambda x: 0.0 if isinstance(x, float) and not np.isfinite(x) else x)\n"
     ]
    },
    {
     "name": "stdout",
     "output_type": "stream",
     "text": [
      "🌍 Global mean/std (signal): 4.1487, 0.9139\n"
     ]
    },
    {
     "name": "stderr",
     "output_type": "stream",
     "text": [
      "Computing tss features: 100%|██████████| 18268/18268 [00:02<00:00, 7107.32it/s]\n"
     ]
    },
    {
     "name": "stdout",
     "output_type": "stream",
     "text": [
      "\n",
      "✅ Saved: ../preprocessed_data/reference/0. data/bed50_one_side/X1_logzscore.tsv\n",
      "📊 Final shape: 18268 genes × 511 columns\n",
      "\n",
      "=== 🧬 Processing Cell Line: X2 ===\n",
      "Normalization mode: log_zscore\n",
      "📖 Loaded reference table: 18268 genes\n",
      "\n",
      "📘 Reading DNase (X2) ...\n",
      "📊 Loaded 181146 peaks, grouped into 24 chromosomes\n",
      "⚙️ Computing features for DNase (X2) ...\n",
      "🌍 Global mean/std (signal): 92.3270, 122.1105\n"
     ]
    },
    {
     "name": "stderr",
     "output_type": "stream",
     "text": [
      "Computing gene features: 100%|██████████| 18268/18268 [00:07<00:00, 2566.28it/s]\n",
      "/var/folders/7g/j5s0yzcj34l3v043s7znkplc0000gn/T/ipykernel_74264/3463236200.py:191: FutureWarning: DataFrame.applymap has been deprecated. Use DataFrame.map instead.\n",
      "  df = df.applymap(lambda x: 0.0 if isinstance(x, float) and not np.isfinite(x) else x)\n"
     ]
    },
    {
     "name": "stdout",
     "output_type": "stream",
     "text": [
      "🌍 Global mean/std (signal): 92.3270, 122.1105\n"
     ]
    },
    {
     "name": "stderr",
     "output_type": "stream",
     "text": [
      "Computing tss features: 100%|██████████| 18268/18268 [00:03<00:00, 4741.88it/s]\n"
     ]
    },
    {
     "name": "stdout",
     "output_type": "stream",
     "text": [
      "\n",
      "📘 Reading H3K27ac (X2) ...\n",
      "📊 Loaded 76094 peaks, grouped into 26 chromosomes\n",
      "⚙️ Computing features for H3K27ac (X2) ...\n",
      "🌍 Global mean/std (signal): 27.9351, 15.7785\n"
     ]
    },
    {
     "name": "stderr",
     "output_type": "stream",
     "text": [
      "Computing gene features: 100%|██████████| 18268/18268 [00:05<00:00, 3183.26it/s]\n",
      "/var/folders/7g/j5s0yzcj34l3v043s7znkplc0000gn/T/ipykernel_74264/3463236200.py:191: FutureWarning: DataFrame.applymap has been deprecated. Use DataFrame.map instead.\n",
      "  df = df.applymap(lambda x: 0.0 if isinstance(x, float) and not np.isfinite(x) else x)\n"
     ]
    },
    {
     "name": "stdout",
     "output_type": "stream",
     "text": [
      "🌍 Global mean/std (signal): 27.9351, 15.7785\n"
     ]
    },
    {
     "name": "stderr",
     "output_type": "stream",
     "text": [
      "Computing tss features: 100%|██████████| 18268/18268 [00:02<00:00, 6376.90it/s]\n"
     ]
    },
    {
     "name": "stdout",
     "output_type": "stream",
     "text": [
      "\n",
      "📘 Reading H3K4me3 (X2) ...\n",
      "📊 Loaded 42142 peaks, grouped into 39 chromosomes\n",
      "⚙️ Computing features for H3K4me3 (X2) ...\n",
      "🌍 Global mean/std (signal): 2.3985, 2.0274\n"
     ]
    },
    {
     "name": "stderr",
     "output_type": "stream",
     "text": [
      "Computing gene features: 100%|██████████| 18268/18268 [00:06<00:00, 2799.34it/s]\n",
      "/var/folders/7g/j5s0yzcj34l3v043s7znkplc0000gn/T/ipykernel_74264/3463236200.py:191: FutureWarning: DataFrame.applymap has been deprecated. Use DataFrame.map instead.\n",
      "  df = df.applymap(lambda x: 0.0 if isinstance(x, float) and not np.isfinite(x) else x)\n"
     ]
    },
    {
     "name": "stdout",
     "output_type": "stream",
     "text": [
      "🌍 Global mean/std (signal): 2.3985, 2.0274\n"
     ]
    },
    {
     "name": "stderr",
     "output_type": "stream",
     "text": [
      "Computing tss features: 100%|██████████| 18268/18268 [00:02<00:00, 6787.99it/s]\n"
     ]
    },
    {
     "name": "stdout",
     "output_type": "stream",
     "text": [
      "\n",
      "📘 Reading H3K27me3 (X2) ...\n",
      "📊 Loaded 24458 peaks, grouped into 29 chromosomes\n",
      "⚙️ Computing features for H3K27me3 (X2) ...\n",
      "🌍 Global mean/std (signal): 3.7757, 3.3489\n"
     ]
    },
    {
     "name": "stderr",
     "output_type": "stream",
     "text": [
      "Computing gene features: 100%|██████████| 18268/18268 [00:04<00:00, 3918.11it/s]\n",
      "/var/folders/7g/j5s0yzcj34l3v043s7znkplc0000gn/T/ipykernel_74264/3463236200.py:191: FutureWarning: DataFrame.applymap has been deprecated. Use DataFrame.map instead.\n",
      "  df = df.applymap(lambda x: 0.0 if isinstance(x, float) and not np.isfinite(x) else x)\n"
     ]
    },
    {
     "name": "stdout",
     "output_type": "stream",
     "text": [
      "🌍 Global mean/std (signal): 3.7757, 3.3489\n"
     ]
    },
    {
     "name": "stderr",
     "output_type": "stream",
     "text": [
      "Computing tss features: 100%|██████████| 18268/18268 [00:02<00:00, 6857.38it/s]\n"
     ]
    },
    {
     "name": "stdout",
     "output_type": "stream",
     "text": [
      "\n",
      "📘 Reading H3K36me3 (X2) ...\n",
      "📊 Loaded 77131 peaks, grouped into 26 chromosomes\n",
      "⚙️ Computing features for H3K36me3 (X2) ...\n",
      "🌍 Global mean/std (signal): 4.0910, 1.0740\n"
     ]
    },
    {
     "name": "stderr",
     "output_type": "stream",
     "text": [
      "Computing gene features: 100%|██████████| 18268/18268 [00:05<00:00, 3365.79it/s]\n",
      "/var/folders/7g/j5s0yzcj34l3v043s7znkplc0000gn/T/ipykernel_74264/3463236200.py:191: FutureWarning: DataFrame.applymap has been deprecated. Use DataFrame.map instead.\n",
      "  df = df.applymap(lambda x: 0.0 if isinstance(x, float) and not np.isfinite(x) else x)\n"
     ]
    },
    {
     "name": "stdout",
     "output_type": "stream",
     "text": [
      "🌍 Global mean/std (signal): 4.0910, 1.0740\n"
     ]
    },
    {
     "name": "stderr",
     "output_type": "stream",
     "text": [
      "Computing tss features: 100%|██████████| 18268/18268 [00:02<00:00, 7098.16it/s]\n"
     ]
    },
    {
     "name": "stdout",
     "output_type": "stream",
     "text": [
      "\n",
      "📘 Reading H3K4me1 (X2) ...\n",
      "📊 Loaded 135476 peaks, grouped into 28 chromosomes\n",
      "⚙️ Computing features for H3K4me1 (X2) ...\n",
      "🌍 Global mean/std (signal): 4.1086, 1.0515\n"
     ]
    },
    {
     "name": "stderr",
     "output_type": "stream",
     "text": [
      "Computing gene features: 100%|██████████| 18268/18268 [00:06<00:00, 2820.49it/s]\n",
      "/var/folders/7g/j5s0yzcj34l3v043s7znkplc0000gn/T/ipykernel_74264/3463236200.py:191: FutureWarning: DataFrame.applymap has been deprecated. Use DataFrame.map instead.\n",
      "  df = df.applymap(lambda x: 0.0 if isinstance(x, float) and not np.isfinite(x) else x)\n"
     ]
    },
    {
     "name": "stdout",
     "output_type": "stream",
     "text": [
      "🌍 Global mean/std (signal): 4.1086, 1.0515\n"
     ]
    },
    {
     "name": "stderr",
     "output_type": "stream",
     "text": [
      "Computing tss features: 100%|██████████| 18268/18268 [00:02<00:00, 7009.77it/s]\n"
     ]
    },
    {
     "name": "stdout",
     "output_type": "stream",
     "text": [
      "\n",
      "📘 Reading H3K9me3 (X2) ...\n",
      "📊 Loaded 94156 peaks, grouped into 91 chromosomes\n",
      "⚙️ Computing features for H3K9me3 (X2) ...\n",
      "🌍 Global mean/std (signal): 4.6121, 1.2591\n"
     ]
    },
    {
     "name": "stderr",
     "output_type": "stream",
     "text": [
      "Computing gene features: 100%|██████████| 18268/18268 [00:04<00:00, 4452.19it/s]\n",
      "/var/folders/7g/j5s0yzcj34l3v043s7znkplc0000gn/T/ipykernel_74264/3463236200.py:191: FutureWarning: DataFrame.applymap has been deprecated. Use DataFrame.map instead.\n",
      "  df = df.applymap(lambda x: 0.0 if isinstance(x, float) and not np.isfinite(x) else x)\n"
     ]
    },
    {
     "name": "stdout",
     "output_type": "stream",
     "text": [
      "🌍 Global mean/std (signal): 4.6121, 1.2591\n"
     ]
    },
    {
     "name": "stderr",
     "output_type": "stream",
     "text": [
      "Computing tss features: 100%|██████████| 18268/18268 [00:02<00:00, 7250.92it/s]\n"
     ]
    },
    {
     "name": "stdout",
     "output_type": "stream",
     "text": [
      "\n",
      "✅ Saved: ../preprocessed_data/reference/0. data/bed50_one_side/X2_logzscore.tsv\n",
      "📊 Final shape: 18268 genes × 511 columns\n",
      "\n",
      "=== 🧬 Processing Cell Line: X3 ===\n",
      "Normalization mode: log_zscore\n",
      "📖 Loaded reference table: 18268 genes\n",
      "\n",
      "📘 Reading DNase (X3) ...\n",
      "📊 Loaded 71812 peaks, grouped into 24 chromosomes\n",
      "⚙️ Computing features for DNase (X3) ...\n",
      "🌍 Global mean/std (signal): 49.7253, 41.5291\n"
     ]
    },
    {
     "name": "stderr",
     "output_type": "stream",
     "text": [
      "Computing gene features: 100%|██████████| 18268/18268 [00:06<00:00, 2970.41it/s]\n",
      "/var/folders/7g/j5s0yzcj34l3v043s7znkplc0000gn/T/ipykernel_74264/3463236200.py:191: FutureWarning: DataFrame.applymap has been deprecated. Use DataFrame.map instead.\n",
      "  df = df.applymap(lambda x: 0.0 if isinstance(x, float) and not np.isfinite(x) else x)\n"
     ]
    },
    {
     "name": "stdout",
     "output_type": "stream",
     "text": [
      "🌍 Global mean/std (signal): 49.7253, 41.5291\n"
     ]
    },
    {
     "name": "stderr",
     "output_type": "stream",
     "text": [
      "Computing tss features: 100%|██████████| 18268/18268 [00:03<00:00, 4901.90it/s]\n"
     ]
    },
    {
     "name": "stdout",
     "output_type": "stream",
     "text": [
      "\n",
      "📘 Reading H3K27ac (X3) ...\n",
      "📊 Loaded 54474 peaks, grouped into 29 chromosomes\n",
      "⚙️ Computing features for H3K27ac (X3) ...\n",
      "🌍 Global mean/std (signal): 10.1940, 8.4926\n"
     ]
    },
    {
     "name": "stderr",
     "output_type": "stream",
     "text": [
      "Computing gene features: 100%|██████████| 18268/18268 [00:05<00:00, 3193.24it/s]\n",
      "/var/folders/7g/j5s0yzcj34l3v043s7znkplc0000gn/T/ipykernel_74264/3463236200.py:191: FutureWarning: DataFrame.applymap has been deprecated. Use DataFrame.map instead.\n",
      "  df = df.applymap(lambda x: 0.0 if isinstance(x, float) and not np.isfinite(x) else x)\n"
     ]
    },
    {
     "name": "stdout",
     "output_type": "stream",
     "text": [
      "🌍 Global mean/std (signal): 10.1940, 8.4926\n"
     ]
    },
    {
     "name": "stderr",
     "output_type": "stream",
     "text": [
      "Computing tss features: 100%|██████████| 18268/18268 [00:02<00:00, 6785.73it/s]\n"
     ]
    },
    {
     "name": "stdout",
     "output_type": "stream",
     "text": [
      "\n",
      "📘 Reading H3K4me3 (X3) ...\n",
      "📊 Loaded 34488 peaks, grouped into 26 chromosomes\n",
      "⚙️ Computing features for H3K4me3 (X3) ...\n",
      "🌍 Global mean/std (signal): 13.2355, 11.7258\n"
     ]
    },
    {
     "name": "stderr",
     "output_type": "stream",
     "text": [
      "Computing gene features: 100%|██████████| 18268/18268 [00:06<00:00, 2632.54it/s]\n",
      "/var/folders/7g/j5s0yzcj34l3v043s7znkplc0000gn/T/ipykernel_74264/3463236200.py:191: FutureWarning: DataFrame.applymap has been deprecated. Use DataFrame.map instead.\n",
      "  df = df.applymap(lambda x: 0.0 if isinstance(x, float) and not np.isfinite(x) else x)\n"
     ]
    },
    {
     "name": "stdout",
     "output_type": "stream",
     "text": [
      "🌍 Global mean/std (signal): 13.2355, 11.7258\n"
     ]
    },
    {
     "name": "stderr",
     "output_type": "stream",
     "text": [
      "Computing tss features: 100%|██████████| 18268/18268 [00:03<00:00, 6027.51it/s]\n"
     ]
    },
    {
     "name": "stdout",
     "output_type": "stream",
     "text": [
      "\n",
      "📘 Reading H3K27me3 (X3) ...\n",
      "📊 Loaded 82769 peaks, grouped into 27 chromosomes\n",
      "⚙️ Computing features for H3K27me3 (X3) ...\n",
      "🌍 Global mean/std (signal): 4.9255, 1.9164\n"
     ]
    },
    {
     "name": "stderr",
     "output_type": "stream",
     "text": [
      "Computing gene features: 100%|██████████| 18268/18268 [00:04<00:00, 3732.97it/s]\n",
      "/var/folders/7g/j5s0yzcj34l3v043s7znkplc0000gn/T/ipykernel_74264/3463236200.py:191: FutureWarning: DataFrame.applymap has been deprecated. Use DataFrame.map instead.\n",
      "  df = df.applymap(lambda x: 0.0 if isinstance(x, float) and not np.isfinite(x) else x)\n"
     ]
    },
    {
     "name": "stdout",
     "output_type": "stream",
     "text": [
      "🌍 Global mean/std (signal): 4.9255, 1.9164\n"
     ]
    },
    {
     "name": "stderr",
     "output_type": "stream",
     "text": [
      "Computing tss features: 100%|██████████| 18268/18268 [00:02<00:00, 6267.63it/s]\n"
     ]
    },
    {
     "name": "stdout",
     "output_type": "stream",
     "text": [
      "\n",
      "📘 Reading H3K36me3 (X3) ...\n",
      "📊 Loaded 68682 peaks, grouped into 24 chromosomes\n",
      "⚙️ Computing features for H3K36me3 (X3) ...\n",
      "🌍 Global mean/std (signal): 4.8880, 1.2712\n"
     ]
    },
    {
     "name": "stderr",
     "output_type": "stream",
     "text": [
      "Computing gene features: 100%|██████████| 18268/18268 [00:06<00:00, 2794.27it/s]\n",
      "/var/folders/7g/j5s0yzcj34l3v043s7znkplc0000gn/T/ipykernel_74264/3463236200.py:191: FutureWarning: DataFrame.applymap has been deprecated. Use DataFrame.map instead.\n",
      "  df = df.applymap(lambda x: 0.0 if isinstance(x, float) and not np.isfinite(x) else x)\n"
     ]
    },
    {
     "name": "stdout",
     "output_type": "stream",
     "text": [
      "🌍 Global mean/std (signal): 4.8880, 1.2712\n"
     ]
    },
    {
     "name": "stderr",
     "output_type": "stream",
     "text": [
      "Computing tss features: 100%|██████████| 18268/18268 [00:02<00:00, 6265.66it/s]\n"
     ]
    },
    {
     "name": "stdout",
     "output_type": "stream",
     "text": [
      "\n",
      "📘 Reading H3K4me1 (X3) ...\n",
      "📊 Loaded 107213 peaks, grouped into 28 chromosomes\n",
      "⚙️ Computing features for H3K4me1 (X3) ...\n",
      "🌍 Global mean/std (signal): 2.7148, 1.0648\n"
     ]
    },
    {
     "name": "stderr",
     "output_type": "stream",
     "text": [
      "Computing gene features: 100%|██████████| 18268/18268 [00:07<00:00, 2491.08it/s]\n",
      "/var/folders/7g/j5s0yzcj34l3v043s7znkplc0000gn/T/ipykernel_74264/3463236200.py:191: FutureWarning: DataFrame.applymap has been deprecated. Use DataFrame.map instead.\n",
      "  df = df.applymap(lambda x: 0.0 if isinstance(x, float) and not np.isfinite(x) else x)\n"
     ]
    },
    {
     "name": "stdout",
     "output_type": "stream",
     "text": [
      "🌍 Global mean/std (signal): 2.7148, 1.0648\n"
     ]
    },
    {
     "name": "stderr",
     "output_type": "stream",
     "text": [
      "Computing tss features: 100%|██████████| 18268/18268 [00:02<00:00, 6876.08it/s]\n"
     ]
    },
    {
     "name": "stdout",
     "output_type": "stream",
     "text": [
      "\n",
      "📘 Reading H3K9me3 (X3) ...\n",
      "📊 Loaded 46565 peaks, grouped into 69 chromosomes\n",
      "⚙️ Computing features for H3K9me3 (X3) ...\n",
      "🌍 Global mean/std (signal): 3.7462, 0.6023\n"
     ]
    },
    {
     "name": "stderr",
     "output_type": "stream",
     "text": [
      "Computing gene features: 100%|██████████| 18268/18268 [00:03<00:00, 5325.69it/s]\n",
      "/var/folders/7g/j5s0yzcj34l3v043s7znkplc0000gn/T/ipykernel_74264/3463236200.py:191: FutureWarning: DataFrame.applymap has been deprecated. Use DataFrame.map instead.\n",
      "  df = df.applymap(lambda x: 0.0 if isinstance(x, float) and not np.isfinite(x) else x)\n"
     ]
    },
    {
     "name": "stdout",
     "output_type": "stream",
     "text": [
      "🌍 Global mean/std (signal): 3.7462, 0.6023\n"
     ]
    },
    {
     "name": "stderr",
     "output_type": "stream",
     "text": [
      "Computing tss features: 100%|██████████| 18268/18268 [00:02<00:00, 6510.39it/s]\n"
     ]
    },
    {
     "name": "stdout",
     "output_type": "stream",
     "text": [
      "\n",
      "✅ Saved: ../preprocessed_data/reference/0. data/bed50_one_side/X3_logzscore.tsv\n",
      "📊 Final shape: 18268 genes × 511 columns\n"
     ]
    }
   ],
   "source": [
    "from scripts.extract_bed import process_cellline\n",
    "base_dir = \"/Users/deweywang/Desktop/GitHub/Gene-expression-prediction/ML4G_Project_1_Data\"\n",
    "ref_path = \"../preprocessed_data/reference/reference_gene_table.tsv\"\n",
    "output_dir = \"../preprocessed_data/reference/0. data/bed100_one_side/\"\n",
    "\n",
    "marks = [\"DNase\", \"H3K27ac\", \"H3K4me3\", \"H3K27me3\", \"H3K36me3\", \"H3K4me1\", \"H3K9me3\"]\n",
    "cells = [\"X1\", \"X2\", \"X3\"]\n",
    "\n",
    "for cell in cells:\n",
    "    process_cellline(\n",
    "            cell_name=cell,\n",
    "            marks=marks,\n",
    "            base_dir=base_dir,\n",
    "            ref_path=ref_path,\n",
    "            tss_window_bp=100,\n",
    "            output_dir=output_dir,\n",
    "            norm_mode=\"log_zscore\"  # 🔧 could change to none / zscore\n",
    "        )"
   ]
  }
 ],
 "metadata": {
  "kernelspec": {
   "display_name": "ml4g_project1",
   "language": "python",
   "name": "python3"
  },
  "language_info": {
   "codemirror_mode": {
    "name": "ipython",
    "version": 3
   },
   "file_extension": ".py",
   "mimetype": "text/x-python",
   "name": "python",
   "nbconvert_exporter": "python",
   "pygments_lexer": "ipython3",
   "version": "3.12.11"
  }
 },
 "nbformat": 4,
 "nbformat_minor": 2
}
