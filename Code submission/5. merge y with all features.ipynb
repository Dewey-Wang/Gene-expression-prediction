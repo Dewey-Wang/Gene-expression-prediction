{
 "cells": [
  {
   "cell_type": "markdown",
   "metadata": {},
   "source": [
    "# Merge X1, X2 with their y"
   ]
  },
  {
   "cell_type": "code",
   "execution_count": null,
   "metadata": {},
   "outputs": [
    {
     "name": "stdout",
     "output_type": "stream",
     "text": [
      "\n",
      "=== 🧬 X1: dense normalized rank (0–1) + merge with QN ===\n",
      "📘 Loaded y=(16284, 3), qn=(16284, 2899)\n",
      "✅ Merged shape: (16284, 2901)\n",
      "💾 Saved → ../preprocessed_data/reference/1. merged data/with_y_100_one_side/X1_all_rank_features_with_y.tsv\n",
      "\n",
      "=== 🧬 X2: dense normalized rank (0–1) + merge with QN ===\n",
      "📘 Loaded y=(16284, 3), qn=(16284, 2899)\n",
      "✅ Merged shape: (16284, 2901)\n",
      "💾 Saved → ../preprocessed_data/reference/1. merged data/with_y_100_one_side/X2_all_rank_features_with_y.tsv\n"
     ]
    }
   ],
   "source": [
    "import os\n",
    "import pandas as pd\n",
    "\n",
    "# ============================================================\n",
    "# Configuration\n",
    "# ============================================================\n",
    "y_dir = \"../preprocessed_data/reference/0. data/\"\n",
    "features_dir = \"../preprocessed_data/reference/1. merged data/without_y_100_one_side\"\n",
    "output_dir = \"../preprocessed_data/reference/1. merged data/with_y_100_one_side/\"\n",
    "os.makedirs(output_dir, exist_ok=True)\n",
    "\n",
    "cells = [\"X1\", \"X2\"]\n",
    "\n",
    "\n",
    "# ============================================================\n",
    "# Main pipeline\n",
    "# ============================================================\n",
    "for cell in cells:\n",
    "    y_path = os.path.join(y_dir, f\"{cell}_y.tsv\")\n",
    "    qn_path = os.path.join(features_dir, f\"{cell}_all_rank_features.tsv\")\n",
    "    out_path = os.path.join(output_dir, f\"{cell}_all_rank_features_with_y.tsv\")\n",
    "\n",
    "    print(f\"\\n=== 🧬 {cell}: dense rank-normalized Y (0–1) + merge with features (QN) ===\")\n",
    "\n",
    "    if not os.path.exists(y_path):\n",
    "        print(f\"[WARN] Missing Y file: {y_path}\")\n",
    "        continue\n",
    "    if not os.path.exists(qn_path):\n",
    "        print(f\"[WARN] Missing features (QN) file: {qn_path}\")\n",
    "        continue\n",
    "\n",
    "    # --- Load inputs ---\n",
    "    df_y = pd.read_csv(y_path, sep=\"\\t\")\n",
    "    df_qn = pd.read_csv(qn_path, sep=\"\\t\")\n",
    "\n",
    "    # --- Basic schema checks ---\n",
    "    if \"gene_name\" not in df_y.columns or \"gene_name\" not in df_qn.columns:\n",
    "        raise ValueError(f\"Missing 'gene_name' column in inputs for cell: {cell}\")\n",
    "    if \"gex\" not in df_y.columns:\n",
    "        raise ValueError(f\"Missing 'gex' column in {cell}_y.tsv\")\n",
    "\n",
    "    print(f\"[INFO] Loaded shapes: y={df_y.shape}, qn={df_qn.shape}\")\n",
    "\n",
    "    # --- Merge using Y as the anchor (left join) ---\n",
    "    df_merged = pd.merge(df_y, df_qn, on=\"gene_name\", how=\"left\")\n",
    "    print(f\"[INFO] Merged shape: {df_merged.shape}\")\n",
    "\n",
    "    # --- Save output ---\n",
    "    df_merged.to_csv(out_path, sep=\"\\t\", index=False)\n",
    "    print(f\"[OK] Saved → {out_path}\")\n"
   ]
  },
  {
   "cell_type": "markdown",
   "metadata": {},
   "source": [
    "# Selecting predicted genes for X3"
   ]
  },
  {
   "cell_type": "code",
   "execution_count": null,
   "metadata": {},
   "outputs": [
    {
     "name": "stdout",
     "output_type": "stream",
     "text": [
      "\n",
      "=== 🧬 X3: dense normalized rank (0–1) + merge with QN ===\n",
      "📘 Loaded y=(1984, 7), qn=(1984, 2914)\n",
      "✅ Merged shape: (1984, 2920)\n",
      "💾 Saved → ../preprocessed_data/reference/1. merged data/with_y_100_one_side/X3_test.tsv\n"
     ]
    }
   ],
   "source": [
    "import os\n",
    "import pandas as pd\n",
    "\n",
    "# ============================================================\n",
    "# Configuration\n",
    "# ============================================================\n",
    "test_path = \"../ML4G_Project_1_Data/CAGE-train/CAGE-train/X3_test_info.tsv\"\n",
    "features_dir = \"../preprocessed_data/reference/1. merged data/without_y_100_one_side\"\n",
    "output_dir = \"../preprocessed_data/reference/1. merged data/with_y_100_one_side/\"\n",
    "os.makedirs(output_dir, exist_ok=True)\n",
    "\n",
    "cells = [\"X3\"]\n",
    "\n",
    "# ============================================================\n",
    "# Main pipeline\n",
    "# ============================================================\n",
    "for cell in cells:\n",
    "    qn_path = os.path.join(features_dir, f\"{cell}_all_rank_features.tsv\")\n",
    "    out_path = os.path.join(output_dir, f\"{cell}_test.tsv\")\n",
    "\n",
    "    print(f\"\\n=== 🧬 Selecting predicted genes for {cell} ===\")\n",
    "\n",
    "    if not os.path.exists(test_path):\n",
    "        print(f\"[WARN] Missing test file: {test_path}\")\n",
    "        continue\n",
    "    if not os.path.exists(qn_path):\n",
    "        print(f\"[WARN] Missing features (QN) file: {qn_path}\")\n",
    "        continue\n",
    "\n",
    "    # --- Load inputs ---\n",
    "    df_y = pd.read_csv(test_path, sep=\"\\t\")\n",
    "    df_qn = pd.read_csv(qn_path, sep=\"\\t\")\n",
    "\n",
    "    # --- Basic schema check ---\n",
    "    if \"gene_name\" not in df_y.columns or \"gene_name\" not in df_qn.columns:\n",
    "        raise ValueError(f\"Missing 'gene_name' column in inputs for cell: {cell}\")\n",
    "\n",
    "    print(f\"[INFO] Loaded shapes: test={df_y.shape}, features={df_qn.shape}\")\n",
    "\n",
    "    # --- Left-merge using test set as the anchor ---\n",
    "    df_merged = pd.merge(df_y, df_qn, on=\"gene_name\", how=\"left\")\n",
    "    print(f\"[INFO] Merged shape: {df_merged.shape}\")\n",
    "\n",
    "    # --- Save output TSV ---\n",
    "    df_merged.to_csv(out_path, sep=\"\\t\", index=False)\n",
    "    print(f\"[OK] Saved → {out_path}\")\n"
   ]
  }
 ],
 "metadata": {
  "kernelspec": {
   "display_name": "ml4g_project1",
   "language": "python",
   "name": "python3"
  },
  "language_info": {
   "codemirror_mode": {
    "name": "ipython",
    "version": 3
   },
   "file_extension": ".py",
   "mimetype": "text/x-python",
   "name": "python",
   "nbconvert_exporter": "python",
   "pygments_lexer": "ipython3",
   "version": "3.12.11"
  }
 },
 "nbformat": 4,
 "nbformat_minor": 2
}
