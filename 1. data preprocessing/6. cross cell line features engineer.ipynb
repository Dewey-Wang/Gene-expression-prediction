{
 "cells": [
  {
   "cell_type": "markdown",
   "metadata": {},
   "source": [
    "# Features engineer"
   ]
  },
  {
   "cell_type": "code",
   "execution_count": 5,
   "metadata": {},
   "outputs": [],
   "source": [
    "import pandas as pd\n",
    "import numpy as np\n",
    "\n",
    "def quantile_normalize_across(df_list, meta_cols):\n",
    "    \"\"\"\n",
    "    跨多個 DataFrame 做真正的 quantile normalization。\n",
    "    每個 feature column 分別以所有樣本的 rank 平均值取代。\n",
    "    \"\"\"\n",
    "\n",
    "    # 取出所有 features\n",
    "    feature_names = [c for c in df_list[0].columns if c not in meta_cols]\n",
    "    n_features = len(feature_names)\n",
    "\n",
    "    # 檢查形狀一致\n",
    "    n_rows = [len(df) for df in df_list]\n",
    "    if len(set(n_rows)) != 1:\n",
    "        raise ValueError(f\"❌ All DataFrames must have the same number of rows. Got: {n_rows}\")\n",
    "\n",
    "    n = n_rows[0]\n",
    "    print(f\"🧩 Performing quantile normalization on {len(df_list)} datasets, each with {n} rows and {n_features} features\")\n",
    "\n",
    "    # 準備 feature 矩陣列表\n",
    "    features = [df[feature_names].to_numpy() for df in df_list]\n",
    "\n",
    "    # 建立一個空間保存平均排序值\n",
    "    mean_sorted_all = np.zeros((n, n_features))\n",
    "\n",
    "    # 對每個 feature column 做 rank-based 平均\n",
    "    for j in range(n_features):\n",
    "        # 取所有 datasets 的該 feature\n",
    "        vals = np.vstack([f[:, j] for f in features])\n",
    "        # 對每個 dataset 內做排序\n",
    "        sorted_each = np.sort(vals, axis=1)\n",
    "        # 對 rank 取平均\n",
    "        mean_sorted_all[:, j] = np.mean(sorted_each, axis=0)\n",
    "\n",
    "    # 定義函式：把平均 rank 值放回原位置\n",
    "    def apply_quantile_norm(X, mean_sorted_all):\n",
    "        X_norm = np.zeros_like(X)\n",
    "        for j in range(X.shape[1]):\n",
    "            ranks = np.argsort(np.argsort(X[:, j]))\n",
    "            X_norm[:, j] = mean_sorted_all[ranks, j]\n",
    "        return X_norm\n",
    "\n",
    "    # 套用到所有 DataFrame\n",
    "    normalized = [apply_quantile_norm(X, mean_sorted_all) for X in features]\n",
    "\n",
    "    # 回存\n",
    "    dfs_qn = []\n",
    "    for df, norm_values in zip(df_list, normalized):\n",
    "        df_qn = pd.concat([\n",
    "            df[meta_cols].reset_index(drop=True),\n",
    "            pd.DataFrame(norm_values, columns=feature_names)\n",
    "        ], axis=1)\n",
    "        dfs_qn.append(df_qn)\n",
    "\n",
    "    return dfs_qn\n"
   ]
  },
  {
   "cell_type": "code",
   "execution_count": 6,
   "metadata": {},
   "outputs": [
    {
     "name": "stdout",
     "output_type": "stream",
     "text": [
      "🧩 Performing quantile normalization on 2 datasets, each with 16284 rows and 277 features\n"
     ]
    }
   ],
   "source": [
    "X1 = pd.read_csv(\"../preprocessed_data/CAGE-merged/4. features selection/X1_all_rank_features_pruned.tsv\", sep=\"\\t\")\n",
    "X2 = pd.read_csv(\"../preprocessed_data/CAGE-merged/4. features selection/X2_all_rank_features_pruned.tsv\", sep=\"\\t\")\n",
    "\n",
    "meta_cols = [\"gene_name\",\"chr\",\"gene_start\",\"gene_end\",\"TSS_start\",\"TSS_end\",\"strand\",\"gex\",\"gex_rank\"]\n",
    "\n",
    "X1_qn, X2_qn = quantile_normalize_across([X1, X2], meta_cols)\n",
    "\n",
    "# 儲存結果\n",
    "X1_qn.to_csv(\"../preprocessed_data/CAGE-merged/4. features selection/X1_all_rank_features_pruned_qn.tsv\", sep=\"\\t\", index=False)\n",
    "X2_qn.to_csv(\"../preprocessed_data/CAGE-merged/4. features selection/X2_all_rank_features_pruned_qn.tsv\", sep=\"\\t\", index=False)\n"
   ]
  },
  {
   "cell_type": "code",
   "execution_count": 9,
   "metadata": {},
   "outputs": [
    {
     "data": {
      "text/plain": [
       "8043     0.000000\n",
       "3951     0.000000\n",
       "5433     0.000000\n",
       "2617     0.000000\n",
       "4531     0.000000\n",
       "           ...   \n",
       "15661    5.572742\n",
       "13669    5.928350\n",
       "9566     6.239169\n",
       "3391     6.800296\n",
       "8552     9.069464\n",
       "Name: DNase_gene_z_std, Length: 16284, dtype: float64"
      ]
     },
     "execution_count": 9,
     "metadata": {},
     "output_type": "execute_result"
    }
   ],
   "source": [
    "X2_qn[\"DNase_gene_z_std\"].sort_values()"
   ]
  },
  {
   "cell_type": "code",
   "execution_count": 10,
   "metadata": {},
   "outputs": [
    {
     "data": {
      "text/plain": [
       "7208     0.000000\n",
       "4569     0.000000\n",
       "1220     0.000000\n",
       "14020    0.000000\n",
       "14015    0.000000\n",
       "           ...   \n",
       "6926     5.572742\n",
       "14936    5.928350\n",
       "5802     6.239169\n",
       "15046    6.800296\n",
       "998      9.069464\n",
       "Name: DNase_gene_z_std, Length: 16284, dtype: float64"
      ]
     },
     "execution_count": 10,
     "metadata": {},
     "output_type": "execute_result"
    }
   ],
   "source": [
    "X1_qn[\"DNase_gene_z_std\"].sort_values()\n"
   ]
  }
 ],
 "metadata": {
  "kernelspec": {
   "display_name": "ML4genomics_project1",
   "language": "python",
   "name": "python3"
  },
  "language_info": {
   "codemirror_mode": {
    "name": "ipython",
    "version": 3
   },
   "file_extension": ".py",
   "mimetype": "text/x-python",
   "name": "python",
   "nbconvert_exporter": "python",
   "pygments_lexer": "ipython3",
   "version": "3.12.7"
  }
 },
 "nbformat": 4,
 "nbformat_minor": 2
}
