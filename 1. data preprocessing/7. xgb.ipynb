{
 "cells": [
  {
   "cell_type": "markdown",
   "metadata": {},
   "source": [
    "# Features engineer"
   ]
  },
  {
   "cell_type": "code",
   "execution_count": null,
   "metadata": {},
   "outputs": [
    {
     "name": "stdout",
     "output_type": "stream",
     "text": [
      "🔒 Global seed set to 42\n",
      "🚀 Experiment started at 2025-10-14 12:04:14\n",
      "Experiment directory: ../results/xgb_linear/model_setting/baseline\n",
      "Feature count: 277\n",
      "🧩 Chromosome folds:\n",
      "Fold 1: ['chr2', 'chr7', 'chr12', 'chr17', 'chr22']\n",
      "Fold 2: ['chr3', 'chr8', 'chr13', 'chr18']\n",
      "Fold 3: ['chr4', 'chr9', 'chr14', 'chr19']\n",
      "Fold 4: ['chr5', 'chr10', 'chr15', 'chr20']\n",
      "Fold 5: ['chr6', 'chr11', 'chr16', 'chr21']\n",
      "\n",
      "🚀 Fold 1/5 | Val chromosomes: ['chr2', 'chr7', 'chr12', 'chr17', 'chr22']\n",
      "[0]\ttrain-rmse:0.26945\tval-rmse:0.26053\n",
      "[133]\ttrain-rmse:0.25155\tval-rmse:0.26140\n",
      "💾 Model saved: ../results/xgb_linear/model_setting/baseline\\fold_1\\model.json\n",
      "📈 Fold 1 Overall Spearman ρ = 0.5936\n",
      "📊 Per-Chromosome Spearman:\n",
      "   chr12 : ρ = 0.6198\n",
      "   chr17 : ρ = 0.5674\n",
      "   chr2  : ρ = 0.6045\n",
      "   chr22 : ρ = 0.6143\n",
      "   chr7  : ρ = 0.5740\n",
      "\n",
      "🚀 Fold 2/5 | Val chromosomes: ['chr3', 'chr8', 'chr13', 'chr18']\n",
      "[0]\ttrain-rmse:0.27016\tval-rmse:0.25730\n",
      "[200]\ttrain-rmse:0.25463\tval-rmse:0.23900\n",
      "[400]\ttrain-rmse:0.25422\tval-rmse:0.23850\n",
      "[600]\ttrain-rmse:0.25417\tval-rmse:0.23844\n",
      "[800]\ttrain-rmse:0.25416\tval-rmse:0.23843\n",
      "[1000]\ttrain-rmse:0.25415\tval-rmse:0.23842\n",
      "[1200]\ttrain-rmse:0.25415\tval-rmse:0.23842\n",
      "[1400]\ttrain-rmse:0.25415\tval-rmse:0.23842\n",
      "[1600]\ttrain-rmse:0.25415\tval-rmse:0.23841\n",
      "[1800]\ttrain-rmse:0.25415\tval-rmse:0.23841\n",
      "[1999]\ttrain-rmse:0.25415\tval-rmse:0.23841\n",
      "💾 Model saved: ../results/xgb_linear/model_setting/baseline\\fold_2\\model.json\n",
      "📈 Fold 2 Overall Spearman ρ = 0.5227\n",
      "📊 Per-Chromosome Spearman:\n",
      "   chr13 : ρ = 0.5309\n",
      "   chr18 : ρ = 0.4547\n",
      "   chr3  : ρ = 0.5180\n",
      "   chr8  : ρ = 0.5438\n",
      "\n",
      "🚀 Fold 3/5 | Val chromosomes: ['chr4', 'chr9', 'chr14', 'chr19']\n",
      "[0]\ttrain-rmse:0.26958\tval-rmse:0.25851\n",
      "[200]\ttrain-rmse:0.25386\tval-rmse:0.24593\n",
      "[400]\ttrain-rmse:0.25354\tval-rmse:0.24519\n",
      "[600]\ttrain-rmse:0.25348\tval-rmse:0.24480\n",
      "[800]\ttrain-rmse:0.25347\tval-rmse:0.24458\n",
      "[1000]\ttrain-rmse:0.25347\tval-rmse:0.24447\n",
      "[1200]\ttrain-rmse:0.25347\tval-rmse:0.24442\n",
      "[1400]\ttrain-rmse:0.25347\tval-rmse:0.24439\n",
      "[1600]\ttrain-rmse:0.25347\tval-rmse:0.24437\n",
      "[1800]\ttrain-rmse:0.25347\tval-rmse:0.24437\n",
      "[1999]\ttrain-rmse:0.25347\tval-rmse:0.24436\n",
      "💾 Model saved: ../results/xgb_linear/model_setting/baseline\\fold_3\\model.json\n",
      "📈 Fold 3 Overall Spearman ρ = 0.5448\n",
      "📊 Per-Chromosome Spearman:\n",
      "   chr14 : ρ = 0.5498\n",
      "   chr19 : ρ = 0.5713\n",
      "   chr4  : ρ = 0.5309\n",
      "   chr9  : ρ = 0.4902\n",
      "\n",
      "🚀 Fold 4/5 | Val chromosomes: ['chr5', 'chr10', 'chr15', 'chr20']\n",
      "[0]\ttrain-rmse:0.26935\tval-rmse:0.26011\n",
      "[200]\ttrain-rmse:0.25400\tval-rmse:0.23903\n",
      "[400]\ttrain-rmse:0.25357\tval-rmse:0.23797\n",
      "[600]\ttrain-rmse:0.25351\tval-rmse:0.23783\n",
      "[800]\ttrain-rmse:0.25350\tval-rmse:0.23780\n",
      "[1000]\ttrain-rmse:0.25350\tval-rmse:0.23779\n",
      "[1200]\ttrain-rmse:0.25350\tval-rmse:0.23779\n",
      "[1400]\ttrain-rmse:0.25350\tval-rmse:0.23779\n",
      "[1600]\ttrain-rmse:0.25350\tval-rmse:0.23779\n",
      "[1776]\ttrain-rmse:0.25350\tval-rmse:0.23779\n",
      "💾 Model saved: ../results/xgb_linear/model_setting/baseline\\fold_4\\model.json\n",
      "📈 Fold 4 Overall Spearman ρ = 0.5612\n",
      "📊 Per-Chromosome Spearman:\n",
      "   chr10 : ρ = 0.5812\n",
      "   chr15 : ρ = 0.5146\n",
      "   chr20 : ρ = 0.5928\n",
      "   chr5  : ρ = 0.5535\n",
      "\n",
      "🚀 Fold 5/5 | Val chromosomes: ['chr6', 'chr11', 'chr16', 'chr21']\n",
      "[0]\ttrain-rmse:0.27062\tval-rmse:0.25439\n",
      "[200]\ttrain-rmse:0.25592\tval-rmse:0.23577\n",
      "[400]\ttrain-rmse:0.25549\tval-rmse:0.23475\n",
      "[600]\ttrain-rmse:0.25543\tval-rmse:0.23467\n",
      "[696]\ttrain-rmse:0.25542\tval-rmse:0.23468\n",
      "💾 Model saved: ../results/xgb_linear/model_setting/baseline\\fold_5\\model.json\n",
      "📈 Fold 5 Overall Spearman ρ = 0.5605\n",
      "📊 Per-Chromosome Spearman:\n",
      "   chr11 : ρ = 0.5966\n",
      "   chr16 : ρ = 0.5006\n",
      "   chr21 : ρ = 0.5779\n",
      "   chr6  : ρ = 0.5375\n",
      "💾 Final predictions saved (predict_val.tsv)\n",
      "🌍 Overall validation Spearman (aligned) = 0.5173\n",
      "Mean Spearman (across folds): 0.5565\n",
      "Overall mean of per-chromosome means: 0.5535\n",
      "\n",
      "✅ Experiment finished at 2025-10-14 12:05:10\n"
     ]
    }
   ],
   "source": [
    "import os\n",
    "import json\n",
    "import random\n",
    "import pickle\n",
    "import pandas as pd\n",
    "import numpy as np\n",
    "import xgboost as xgb\n",
    "from scipy.stats import spearmanr\n",
    "from datetime import datetime\n",
    "\n",
    "# ============================================================\n",
    "#                  GLOBAL REPRODUCIBILITY\n",
    "# ============================================================\n",
    "SEED = 42\n",
    "os.environ[\"PYTHONHASHSEED\"] = str(SEED)\n",
    "random.seed(SEED)\n",
    "np.random.seed(SEED)\n",
    "print(f\"🔒 Global seed set to {SEED}\")\n",
    "\n",
    "# ============================================================\n",
    "#                  EXPERIMENT CONFIGURATION\n",
    "# ============================================================\n",
    "EXPERIMENT_DIR = \"../results/xgb/model_setting/v3-best/X2_X1_pruned\"\n",
    "TRAIN_PATH = \"../preprocessed_data/CAGE-merged/4. features selection/X2_all_rank_features_pruned.tsv\"\n",
    "VAL_PATH   = \"../preprocessed_data/CAGE-merged/4. features selection/X1_all_rank_features_pruned.tsv\"\n",
    "\n",
    "META_COLS = [\"gene_name\", \"chr\", \"gene_start\", \"gene_end\",\n",
    "             \"TSS_start\", \"TSS_end\", \"strand\", \"gex\", \"gex_rank\"]\n",
    "TARGET_COL = \"gex_rank\"\n",
    "\n",
    "os.makedirs(EXPERIMENT_DIR, exist_ok=True)\n",
    "LOG_PATH = os.path.join(EXPERIMENT_DIR, \"log.txt\")\n",
    "\n",
    "# ✅ 若舊 log.txt 存在則清空\n",
    "with open(LOG_PATH, \"w\") as f:\n",
    "    f.write(\"\")\n",
    "\n",
    "def log(msg):\n",
    "    \"\"\"印出並同步寫入 log.txt\"\"\"\n",
    "    print(msg)\n",
    "    with open(LOG_PATH, \"a\") as f:\n",
    "        f.write(f\"{msg}\\n\")\n",
    "\n",
    "log(f\"🚀 Experiment started at {datetime.now().strftime('%Y-%m-%d %H:%M:%S')}\")\n",
    "log(f\"Experiment directory: {EXPERIMENT_DIR}\")\n",
    "\n",
    "# ============================================================\n",
    "#                  DATA LOADING\n",
    "# ============================================================\n",
    "df_train_full = pd.read_csv(TRAIN_PATH, sep=\"\\t\")\n",
    "df_val_full   = pd.read_csv(VAL_PATH, sep=\"\\t\")\n",
    "\n",
    "feature_cols = [c for c in df_train_full.columns if c not in META_COLS]\n",
    "log(f\"Feature count: {len(feature_cols)}\")\n",
    "\n",
    "# ============================================================\n",
    "#                  K-FOLD DEFINITION\n",
    "# ============================================================\n",
    "chromosomes = [f\"chr{i}\" for i in range(2, 23)]\n",
    "folds = [chromosomes[i::5] for i in range(5)]\n",
    "\n",
    "log(\"🧩 Chromosome folds:\")\n",
    "for i, fset in enumerate(folds):\n",
    "    log(f\"Fold {i+1}: {fset}\")\n",
    "\n",
    "# ============================================================\n",
    "#                  XGBOOST PARAMETERS\n",
    "# ============================================================\n",
    "params = {\n",
    "        \"booster\": \"gbtree\",\n",
    "        \"verbosity\": 1,\n",
    "        \"learning_rate\": 0.016676974956976915,\n",
    "        \"max_depth\": 15,\n",
    "        \"colsample_bytree\": 0.64561553423692,\n",
    "        \"subsample\": 0.8113835038425429,\n",
    "        \"subsample_freq\": 6,\n",
    "        \"alpha\": 0.3316673054635859,\n",
    "        \"lambda\": 0.8969317795206216,\n",
    "        \"gamma\": 0.04923442843722911,\n",
    "        \"min_child_weight\": 38,\n",
    "        \"max_leaves\": 48,\n",
    "        \"objective\": \"reg:squarederror\",\n",
    "        \"eval_metric\": \"rmse\",\n",
    "        \"nthread\": 8,\n",
    "        \"random_state\": SEED,\n",
    "        \"tree_method\": \"hist\"\n",
    "    }\n",
    "# ============================================================\n",
    "#                  SAVE CONFIG\n",
    "# ============================================================\n",
    "config = {\n",
    "    \"train_path\": TRAIN_PATH,\n",
    "    \"val_path\": VAL_PATH,\n",
    "    \"seed\": SEED,\n",
    "    \"params\": params,\n",
    "    \"folds\": folds,\n",
    "    \"target_col\": TARGET_COL,\n",
    "}\n",
    "with open(os.path.join(EXPERIMENT_DIR, \"config.json\"), \"w\") as f:\n",
    "    json.dump(config, f, indent=4)\n",
    "\n",
    "# ============================================================\n",
    "#                  TRAINING LOOP\n",
    "# ============================================================\n",
    "results = []\n",
    "preds_all = []\n",
    "\n",
    "for fold_idx, val_chrs in enumerate(folds):\n",
    "    log(f\"\\n🚀 Fold {fold_idx+1}/{len(folds)} | Val chromosomes: {val_chrs}\")\n",
    "    fold_dir = os.path.join(EXPERIMENT_DIR, f\"fold_{fold_idx+1}\")\n",
    "    os.makedirs(fold_dir, exist_ok=True)\n",
    "\n",
    "    # Split\n",
    "    train_chrs = [c for c in chromosomes if c not in val_chrs]\n",
    "    df_train = df_train_full[df_train_full[\"chr\"].isin(train_chrs)].copy()\n",
    "    df_val   = df_val_full[df_val_full[\"chr\"].isin(val_chrs)].copy()\n",
    "\n",
    "    df_val = df_val.reset_index().rename(columns={\"index\": \"orig_idx\"})\n",
    "\n",
    "    X_train, y_train = df_train[feature_cols], df_train[TARGET_COL]\n",
    "    X_val, y_val     = df_val[feature_cols], df_val[TARGET_COL]\n",
    "\n",
    "    # Create DMatrix\n",
    "    dtrain = xgb.DMatrix(X_train, label=y_train)\n",
    "    dval   = xgb.DMatrix(X_val, label=y_val)\n",
    "\n",
    "    # Train\n",
    "    model = xgb.train(\n",
    "        params=params,\n",
    "        dtrain=dtrain,\n",
    "        num_boost_round=2000,\n",
    "        evals=[(dtrain, \"train\"), (dval, \"val\")],\n",
    "        early_stopping_rounds=100,\n",
    "        verbose_eval=200\n",
    "    )\n",
    "\n",
    "    # Save model (.json)\n",
    "    model_path = os.path.join(fold_dir, \"model.json\")\n",
    "    model.save_model(model_path)\n",
    "    log(f\"💾 Model saved: {model_path}\")\n",
    "\n",
    "    # Predict\n",
    "    df_val[\"predicted_gex_rank\"] = model.predict(dval, iteration_range=(0, model.best_iteration))\n",
    "    df_val[\"fold_id\"] = fold_idx + 1\n",
    "    preds_all.append(df_val[[\"orig_idx\", \"gene_name\", \"predicted_gex_rank\", \"fold_id\"]])\n",
    "\n",
    "    # Evaluate Spearman\n",
    "    overall_spearman = spearmanr(df_val[TARGET_COL], df_val[\"predicted_gex_rank\"])[0]\n",
    "    log(f\"📈 Fold {fold_idx+1} Overall Spearman ρ = {overall_spearman:.4f}\")\n",
    "\n",
    "    log(\"📊 Per-Chromosome Spearman:\")\n",
    "    chr_corrs = []\n",
    "    for chrom, subdf in df_val.groupby(\"chr\"):\n",
    "        if len(subdf) < 2:\n",
    "            continue\n",
    "        rho = spearmanr(subdf[TARGET_COL], subdf[\"predicted_gex_rank\"])[0]\n",
    "        chr_corrs.append({\"chr\": chrom, \"spearman\": rho})\n",
    "        log(f\"   {chrom:<6s}: ρ = {rho:.4f}\")\n",
    "\n",
    "    results.append({\n",
    "        \"fold\": fold_idx + 1,\n",
    "        \"val_chr\": val_chrs,\n",
    "        \"overall_spearman\": overall_spearman,\n",
    "        \"per_chr\": chr_corrs\n",
    "    })\n",
    "\n",
    "# ============================================================\n",
    "#                  SAVE PREDICTIONS & SUMMARY\n",
    "# ============================================================\n",
    "df_preds_all = pd.concat(preds_all, ignore_index=True)\n",
    "df_preds_all = df_preds_all.sort_values(\"orig_idx\").reset_index(drop=True)\n",
    "\n",
    "assert len(df_preds_all) == len(df_val_full)\n",
    "assert (df_preds_all[\"gene_name\"].values == df_val_full[\"gene_name\"].values).all(), \\\n",
    "    \"❌ Prediction order mismatch with df_val_full!\"\n",
    "\n",
    "df_preds_all[[\"gene_name\", \"predicted_gex_rank\"]].to_csv(\n",
    "    os.path.join(EXPERIMENT_DIR, \"predict_val.tsv\"), sep=\"\\t\", index=False\n",
    ")\n",
    "log(\"💾 Final predictions saved (predict_val.tsv)\")\n",
    "\n",
    "# Evaluate overall alignment\n",
    "overall_val_spearman = spearmanr(\n",
    "    df_val_full[\"gex_rank\"],\n",
    "    df_preds_all[\"predicted_gex_rank\"]\n",
    ")[0]\n",
    "log(f\"🌍 Overall validation Spearman (aligned) = {overall_val_spearman:.4f}\")\n",
    "\n",
    "# Summaries\n",
    "summary_fold = pd.DataFrame([\n",
    "    {\"fold\": r[\"fold\"], \"val_chr\": \",\".join(r[\"val_chr\"]), \"overall_spearman\": r[\"overall_spearman\"]}\n",
    "    for r in results\n",
    "])\n",
    "chr_rows = []\n",
    "for r in results:\n",
    "    for c in r[\"per_chr\"]:\n",
    "        chr_rows.append({\"fold\": r[\"fold\"], \"chr\": c[\"chr\"], \"spearman\": c[\"spearman\"]})\n",
    "summary_chr = pd.DataFrame(chr_rows)\n",
    "chr_mean = summary_chr.groupby(\"chr\", as_index=False)[\"spearman\"].mean()\n",
    "chr_mean.rename(columns={\"spearman\": \"mean_spearman\"}, inplace=True)\n",
    "\n",
    "log(f\"Mean Spearman (across folds): {summary_fold['overall_spearman'].mean():.4f}\")\n",
    "log(f\"Overall mean of per-chromosome means: {chr_mean['mean_spearman'].mean():.4f}\")\n",
    "\n",
    "log(f\"\\n✅ Experiment finished at {datetime.now().strftime('%Y-%m-%d %H:%M:%S')}\")\n"
   ]
  },
  {
   "cell_type": "code",
   "execution_count": null,
   "metadata": {},
   "outputs": [
    {
     "name": "stderr",
     "output_type": "stream",
     "text": [
      "[I 2025-10-14 03:09:07,788] A new study created in memory with name: no-name-dec0f6f7-7094-40f6-a3f8-fa0a0e29d26e\n"
     ]
    },
    {
     "name": "stdout",
     "output_type": "stream",
     "text": [
      "🧬 Total chromosomes in dataset: ['chr10', 'chr11', 'chr12', 'chr13', 'chr14', 'chr15', 'chr16', 'chr17', 'chr18', 'chr19', 'chr2', 'chr20', 'chr21', 'chr22', 'chr3', 'chr4', 'chr5', 'chr6', 'chr7', 'chr8', 'chr9']\n",
      "Total samples: 32,568\n"
     ]
    },
    {
     "name": "stderr",
     "output_type": "stream",
     "text": [
      "  0%|          | 0/300 [00:00<?, ?it/s]"
     ]
    },
    {
     "name": "stdout",
     "output_type": "stream",
     "text": [
      "Validation chromosomes for this trial: ['chr6', 'chr13', 'chr14', 'chr10']\n"
     ]
    },
    {
     "name": "stderr",
     "output_type": "stream",
     "text": [
      "Best trial: 0. Best value: 0.740786:   0%|          | 1/300 [01:32<7:42:38, 92.84s/it]"
     ]
    },
    {
     "name": "stdout",
     "output_type": "stream",
     "text": [
      "[I 2025-10-14 03:10:40,622] Trial 0 finished with value: 0.7407856278871825 and parameters: {'booster': 'dart', 'booeval_metricster': 'rmse', 'learning_rate': 0.007161246859115127, 'max_depth': 5, 'max_leaves': 16, 'subsample': 0.9330880728874675, 'colsample_bytree': 0.8404460046972835, 'alpha': 0.7080725777960455, 'lambda': 0.041168988591604894, 'gamma': 0.04849549260809972, 'min_child_weight': 85}. Best is trial 0 with value: 0.7407856278871825.\n",
      "Validation chromosomes for this trial: ['chr6', 'chr13', 'chr14', 'chr10']\n"
     ]
    },
    {
     "name": "stderr",
     "output_type": "stream",
     "text": [
      "Best trial: 1. Best value: 0.756582:   1%|          | 2/300 [01:39<3:30:38, 42.41s/it]"
     ]
    },
    {
     "name": "stdout",
     "output_type": "stream",
     "text": [
      "[I 2025-10-14 03:10:47,742] Trial 1 finished with value: 0.7565821831968275 and parameters: {'booster': 'gbtree', 'booeval_metricster': 'mae', 'learning_rate': 0.016738881542579662, 'max_depth': 7, 'max_leaves': 48, 'subsample': 0.8059264473611898, 'colsample_bytree': 0.6557975442608167, 'alpha': 0.29214464853521815, 'lambda': 0.7327236865873834, 'gamma': 0.0228034992108518, 'min_child_weight': 81}. Best is trial 1 with value: 0.7565821831968275.\n",
      "Validation chromosomes for this trial: ['chr6', 'chr13', 'chr14', 'chr10']\n"
     ]
    },
    {
     "name": "stderr",
     "output_type": "stream",
     "text": [
      "Best trial: 1. Best value: 0.756582:   1%|          | 3/300 [03:02<5:00:01, 60.61s/it]"
     ]
    },
    {
     "name": "stdout",
     "output_type": "stream",
     "text": [
      "[I 2025-10-14 03:12:09,997] Trial 2 finished with value: 0.7520419728488839 and parameters: {'booster': 'dart', 'booeval_metricster': 'rmse', 'learning_rate': 0.02025418890664837, 'max_depth': 5, 'max_leaves': 16, 'subsample': 0.9744427686266666, 'colsample_bytree': 0.9862528132298237, 'alpha': 0.8083973481164611, 'lambda': 0.6092275383467414, 'gamma': 0.004883605700319194, 'min_child_weight': 72}. Best is trial 1 with value: 0.7565821831968275.\n",
      "Validation chromosomes for this trial: ['chr6', 'chr13', 'chr14', 'chr10']\n"
     ]
    },
    {
     "name": "stderr",
     "output_type": "stream",
     "text": [
      "Best trial: 3. Best value: 0.758315:   1%|▏         | 4/300 [03:06<3:10:03, 38.52s/it]"
     ]
    },
    {
     "name": "stdout",
     "output_type": "stream",
     "text": [
      "[I 2025-10-14 03:12:14,675] Trial 3 finished with value: 0.7583149672415819 and parameters: {'booster': 'gbtree', 'booeval_metricster': 'rmse', 'learning_rate': 0.04057797837985251, 'max_depth': 5, 'max_leaves': 88, 'subsample': 0.6558555380447055, 'colsample_bytree': 0.8080272084711243, 'alpha': 0.5467102793432796, 'lambda': 0.3697089110510541, 'gamma': 0.048479231388227934, 'min_child_weight': 80}. Best is trial 3 with value: 0.7583149672415819.\n",
      "Validation chromosomes for this trial: ['chr6', 'chr13', 'chr14', 'chr10']\n"
     ]
    },
    {
     "name": "stderr",
     "output_type": "stream",
     "text": [
      "Best trial: 3. Best value: 0.758315:   2%|▏         | 5/300 [03:11<2:09:17, 26.30s/it]"
     ]
    },
    {
     "name": "stdout",
     "output_type": "stream",
     "text": [
      "[I 2025-10-14 03:12:19,275] Trial 4 finished with value: 0.739639702453354 and parameters: {'booster': 'gbtree', 'booeval_metricster': 'mae', 'learning_rate': 0.006130028679593762, 'max_depth': 5, 'max_leaves': 16, 'subsample': 0.6626651653816322, 'colsample_bytree': 0.7554709158757928, 'alpha': 0.2713490317738959, 'lambda': 1.6574750183038587, 'gamma': 0.017837666334679463, 'min_child_weight': 35}. Best is trial 3 with value: 0.7583149672415819.\n",
      "Validation chromosomes for this trial: ['chr6', 'chr13', 'chr14', 'chr10']\n"
     ]
    },
    {
     "name": "stderr",
     "output_type": "stream",
     "text": [
      "Best trial: 5. Best value: 0.758751:   2%|▏         | 6/300 [03:18<1:36:35, 19.71s/it]"
     ]
    },
    {
     "name": "stdout",
     "output_type": "stream",
     "text": [
      "[I 2025-10-14 03:12:26,225] Trial 5 finished with value: 0.758751427896817 and parameters: {'booster': 'gbtree', 'booeval_metricster': 'rmse', 'learning_rate': 0.048512866970603634, 'max_depth': 9, 'max_leaves': 32, 'subsample': 0.5027610585618012, 'colsample_bytree': 0.9261845713819337, 'alpha': 0.7068573438476171, 'lambda': 1.4580143360819746, 'gamma': 0.03856351733429729, 'min_child_weight': 16}. Best is trial 5 with value: 0.758751427896817.\n",
      "Validation chromosomes for this trial: ['chr6', 'chr13', 'chr14', 'chr10']\n"
     ]
    },
    {
     "name": "stderr",
     "output_type": "stream",
     "text": [
      "Best trial: 5. Best value: 0.758751:   2%|▏         | 7/300 [03:23<1:12:05, 14.76s/it]"
     ]
    },
    {
     "name": "stdout",
     "output_type": "stream",
     "text": [
      "[I 2025-10-14 03:12:30,791] Trial 6 finished with value: 0.7446583634480906 and parameters: {'booster': 'gbtree', 'booeval_metricster': 'rmse', 'learning_rate': 0.010711937478224529, 'max_depth': 4, 'max_leaves': 48, 'subsample': 0.6625916610133735, 'colsample_bytree': 0.8918424713352255, 'alpha': 0.6375574713552131, 'lambda': 1.774425485152653, 'gamma': 0.023610746258097465, 'min_child_weight': 20}. Best is trial 5 with value: 0.758751427896817.\n",
      "Validation chromosomes for this trial: ['chr6', 'chr13', 'chr14', 'chr10']\n"
     ]
    },
    {
     "name": "stderr",
     "output_type": "stream",
     "text": [
      "Best trial: 5. Best value: 0.758751:   3%|▎         | 8/300 [04:58<3:17:34, 40.60s/it]"
     ]
    },
    {
     "name": "stdout",
     "output_type": "stream",
     "text": [
      "[I 2025-10-14 03:14:06,692] Trial 7 finished with value: 0.7553144527889442 and parameters: {'booster': 'dart', 'booeval_metricster': 'mae', 'learning_rate': 0.015587110015023147, 'max_depth': 7, 'max_leaves': 64, 'subsample': 0.5127095633720475, 'colsample_bytree': 0.6431565707973218, 'alpha': 0.03142918568673425, 'lambda': 1.2728208225275608, 'gamma': 0.015717799053816334, 'min_child_weight': 56}. Best is trial 5 with value: 0.758751427896817.\n",
      "Validation chromosomes for this trial: ['chr6', 'chr13', 'chr14', 'chr10']\n"
     ]
    },
    {
     "name": "stderr",
     "output_type": "stream",
     "text": [
      "Best trial: 5. Best value: 0.758751:   3%|▎         | 9/300 [05:03<2:22:29, 29.38s/it]"
     ]
    },
    {
     "name": "stdout",
     "output_type": "stream",
     "text": [
      "[I 2025-10-14 03:14:11,408] Trial 8 finished with value: 0.742633516883425 and parameters: {'booster': 'gbtree', 'booeval_metricster': 'mae', 'learning_rate': 0.008467752774648963, 'max_depth': 4, 'max_leaves': 48, 'subsample': 0.5806106436270022, 'colsample_bytree': 0.9718790609370292, 'alpha': 0.808120379564417, 'lambda': 1.266807513020847, 'gamma': 0.04357302950938589, 'min_child_weight': 83}. Best is trial 5 with value: 0.758751427896817.\n",
      "Validation chromosomes for this trial: ['chr6', 'chr13', 'chr14', 'chr10']\n"
     ]
    },
    {
     "name": "stderr",
     "output_type": "stream",
     "text": [
      "Best trial: 5. Best value: 0.758751:   3%|▎         | 10/300 [06:36<3:57:16, 49.09s/it]"
     ]
    },
    {
     "name": "stdout",
     "output_type": "stream",
     "text": [
      "[I 2025-10-14 03:15:44,642] Trial 9 finished with value: 0.7579733493852936 and parameters: {'booster': 'dart', 'booeval_metricster': 'mae', 'learning_rate': 0.03936056322262533, 'max_depth': 6, 'max_leaves': 24, 'subsample': 0.6139675812709708, 'colsample_bytree': 0.7708431154505025, 'alpha': 0.8180147659224931, 'lambda': 1.7214611665126869, 'gamma': 0.0003476065265595352, 'min_child_weight': 56}. Best is trial 5 with value: 0.758751427896817.\n",
      "Validation chromosomes for this trial: ['chr6', 'chr13', 'chr14', 'chr10']\n"
     ]
    },
    {
     "name": "stderr",
     "output_type": "stream",
     "text": [
      "Best trial: 10. Best value: 0.759549:   4%|▎         | 11/300 [06:53<3:09:12, 39.28s/it]"
     ]
    },
    {
     "name": "stdout",
     "output_type": "stream",
     "text": [
      "[I 2025-10-14 03:16:01,676] Trial 10 finished with value: 0.7595489845077837 and parameters: {'booster': 'gbtree', 'booeval_metricster': 'rmse', 'learning_rate': 0.024836352075448025, 'max_depth': 10, 'max_leaves': 120, 'subsample': 0.7876040334076363, 'colsample_bytree': 0.8921467580828037, 'alpha': 0.9638303602413416, 'lambda': 1.2244570397217807, 'gamma': 0.036216023585876986, 'min_child_weight': 12}. Best is trial 10 with value: 0.7595489845077837.\n",
      "Validation chromosomes for this trial: ['chr6', 'chr13', 'chr14', 'chr10']\n"
     ]
    },
    {
     "name": "stderr",
     "output_type": "stream",
     "text": [
      "Best trial: 11. Best value: 0.760018:   4%|▍         | 12/300 [07:10<2:35:43, 32.44s/it]"
     ]
    },
    {
     "name": "stdout",
     "output_type": "stream",
     "text": [
      "[I 2025-10-14 03:16:18,496] Trial 11 finished with value: 0.7600176439282668 and parameters: {'booster': 'gbtree', 'booeval_metricster': 'rmse', 'learning_rate': 0.04941730015974127, 'max_depth': 10, 'max_leaves': 128, 'subsample': 0.8015941064312865, 'colsample_bytree': 0.9070503990803166, 'alpha': 0.9627627512009025, 'lambda': 1.2806048608676428, 'gamma': 0.0365693983053928, 'min_child_weight': 10}. Best is trial 11 with value: 0.7600176439282668.\n",
      "Validation chromosomes for this trial: ['chr6', 'chr13', 'chr14', 'chr10']\n"
     ]
    },
    {
     "name": "stderr",
     "output_type": "stream",
     "text": [
      "Best trial: 11. Best value: 0.760018:   4%|▍         | 13/300 [07:26<2:11:35, 27.51s/it]"
     ]
    },
    {
     "name": "stdout",
     "output_type": "stream",
     "text": [
      "[I 2025-10-14 03:16:34,642] Trial 12 finished with value: 0.7596522369914149 and parameters: {'booster': 'gbtree', 'booeval_metricster': 'rmse', 'learning_rate': 0.026097585213276986, 'max_depth': 10, 'max_leaves': 128, 'subsample': 0.8223972680035051, 'colsample_bytree': 0.8731712692233561, 'alpha': 0.9952864344724965, 'lambda': 1.0237541608433303, 'gamma': 0.033984834948173365, 'min_child_weight': 33}. Best is trial 11 with value: 0.7600176439282668.\n",
      "Validation chromosomes for this trial: ['chr6', 'chr13', 'chr14', 'chr10']\n"
     ]
    },
    {
     "name": "stderr",
     "output_type": "stream",
     "text": [
      "Best trial: 11. Best value: 0.760018:   5%|▍         | 14/300 [07:41<1:52:38, 23.63s/it]"
     ]
    },
    {
     "name": "stdout",
     "output_type": "stream",
     "text": [
      "[I 2025-10-14 03:16:49,309] Trial 13 finished with value: 0.7587291203924459 and parameters: {'booster': 'gbtree', 'booeval_metricster': 'rmse', 'learning_rate': 0.027992466303747163, 'max_depth': 9, 'max_leaves': 128, 'subsample': 0.8626306053400459, 'colsample_bytree': 0.8457713660217816, 'alpha': 0.9994743916401554, 'lambda': 0.9368817643276128, 'gamma': 0.03324940827133188, 'min_child_weight': 36}. Best is trial 11 with value: 0.7600176439282668.\n",
      "Validation chromosomes for this trial: ['chr6', 'chr13', 'chr14', 'chr10']\n"
     ]
    },
    {
     "name": "stderr",
     "output_type": "stream",
     "text": [
      "Best trial: 14. Best value: 0.762061:   5%|▌         | 15/300 [07:55<1:37:55, 20.62s/it]"
     ]
    },
    {
     "name": "stdout",
     "output_type": "stream",
     "text": [
      "[I 2025-10-14 03:17:02,945] Trial 14 finished with value: 0.7620612766985444 and parameters: {'booster': 'gbtree', 'booeval_metricster': 'rmse', 'learning_rate': 0.030591295989398117, 'max_depth': 10, 'max_leaves': 104, 'subsample': 0.8713160459968019, 'colsample_bytree': 0.706761500830221, 'alpha': 0.9100104138316634, 'lambda': 1.9929993991769481, 'gamma': 0.030312920186251178, 'min_child_weight': 32}. Best is trial 14 with value: 0.7620612766985444.\n",
      "Validation chromosomes for this trial: ['chr6', 'chr13', 'chr14', 'chr10']\n"
     ]
    },
    {
     "name": "stderr",
     "output_type": "stream",
     "text": [
      "Best trial: 14. Best value: 0.762061:   5%|▌         | 16/300 [08:07<1:25:22, 18.04s/it]"
     ]
    },
    {
     "name": "stdout",
     "output_type": "stream",
     "text": [
      "[I 2025-10-14 03:17:14,989] Trial 15 finished with value: 0.7600593721139883 and parameters: {'booster': 'gbtree', 'booeval_metricster': 'rmse', 'learning_rate': 0.034280158328283704, 'max_depth': 9, 'max_leaves': 104, 'subsample': 0.8910376046301659, 'colsample_bytree': 0.7125657038315838, 'alpha': 0.3583902847905419, 'lambda': 1.9718295675180606, 'gamma': 0.029298411278450343, 'min_child_weight': 27}. Best is trial 14 with value: 0.7620612766985444.\n",
      "Validation chromosomes for this trial: ['chr6', 'chr13', 'chr14', 'chr10']\n"
     ]
    },
    {
     "name": "stderr",
     "output_type": "stream",
     "text": [
      "Best trial: 16. Best value: 0.762491:   6%|▌         | 17/300 [08:16<1:12:25, 15.35s/it]"
     ]
    },
    {
     "name": "stdout",
     "output_type": "stream",
     "text": [
      "[I 2025-10-14 03:17:24,109] Trial 16 finished with value: 0.7624905664509831 and parameters: {'booster': 'gbtree', 'booeval_metricster': 'rmse', 'learning_rate': 0.031249814804918247, 'max_depth': 8, 'max_leaves': 104, 'subsample': 0.8982393444710524, 'colsample_bytree': 0.6970036791086917, 'alpha': 0.3606791970055566, 'lambda': 1.9419942488952606, 'gamma': 0.0285369790285674, 'min_child_weight': 45}. Best is trial 16 with value: 0.7624905664509831.\n",
      "Validation chromosomes for this trial: ['chr6', 'chr13', 'chr14', 'chr10']\n"
     ]
    },
    {
     "name": "stderr",
     "output_type": "stream",
     "text": [
      "Best trial: 16. Best value: 0.762491:   6%|▌         | 18/300 [08:27<1:06:20, 14.11s/it]"
     ]
    },
    {
     "name": "stdout",
     "output_type": "stream",
     "text": [
      "[I 2025-10-14 03:17:35,342] Trial 17 finished with value: 0.7571274547911548 and parameters: {'booster': 'gbtree', 'booeval_metricster': 'rmse', 'learning_rate': 0.014445251534606672, 'max_depth': 8, 'max_leaves': 96, 'subsample': 0.9911995617562123, 'colsample_bytree': 0.6991427001957295, 'alpha': 0.43185778599967684, 'lambda': 1.9657232740052826, 'gamma': 0.012702641532629837, 'min_child_weight': 42}. Best is trial 16 with value: 0.7624905664509831.\n",
      "Validation chromosomes for this trial: ['chr6', 'chr13', 'chr14', 'chr10']\n"
     ]
    },
    {
     "name": "stderr",
     "output_type": "stream",
     "text": [
      "Best trial: 16. Best value: 0.762491:   6%|▋         | 19/300 [10:04<3:03:10, 39.11s/it]"
     ]
    },
    {
     "name": "stdout",
     "output_type": "stream",
     "text": [
      "[I 2025-10-14 03:19:12,678] Trial 18 finished with value: 0.7582277338209915 and parameters: {'booster': 'dart', 'booeval_metricster': 'rmse', 'learning_rate': 0.031378729666731164, 'max_depth': 8, 'max_leaves': 80, 'subsample': 0.7413273434269155, 'colsample_bytree': 0.6060084846502748, 'alpha': 0.1906860005249757, 'lambda': 1.5611209917708373, 'gamma': 0.027124660449549993, 'min_child_weight': 100}. Best is trial 16 with value: 0.7624905664509831.\n",
      "Validation chromosomes for this trial: ['chr6', 'chr13', 'chr14', 'chr10']\n"
     ]
    },
    {
     "name": "stderr",
     "output_type": "stream",
     "text": [
      "Best trial: 16. Best value: 0.762491:   7%|▋         | 20/300 [10:14<2:21:35, 30.34s/it]"
     ]
    },
    {
     "name": "stdout",
     "output_type": "stream",
     "text": [
      "[I 2025-10-14 03:19:22,586] Trial 19 finished with value: 0.7600495794664404 and parameters: {'booster': 'gbtree', 'booeval_metricster': 'rmse', 'learning_rate': 0.021238010502752012, 'max_depth': 8, 'max_leaves': 112, 'subsample': 0.9087487170731409, 'colsample_bytree': 0.7146205029914753, 'alpha': 0.5297220402342728, 'lambda': 1.9902765995575218, 'gamma': 0.020705950403729228, 'min_child_weight': 47}. Best is trial 16 with value: 0.7624905664509831.\n",
      "Validation chromosomes for this trial: ['chr6', 'chr13', 'chr14', 'chr10']\n"
     ]
    },
    {
     "name": "stderr",
     "output_type": "stream",
     "text": [
      "Best trial: 16. Best value: 0.762491:   7%|▋         | 21/300 [10:24<1:52:40, 24.23s/it]"
     ]
    },
    {
     "name": "stdout",
     "output_type": "stream",
     "text": [
      "[I 2025-10-14 03:19:32,567] Trial 20 finished with value: 0.7544745377075591 and parameters: {'booster': 'gbtree', 'booeval_metricster': 'rmse', 'learning_rate': 0.011425080636275562, 'max_depth': 9, 'max_leaves': 72, 'subsample': 0.7303995047845511, 'colsample_bytree': 0.6688928937053404, 'alpha': 0.11196127773788561, 'lambda': 1.8022986054914478, 'gamma': 0.028218852376752597, 'min_child_weight': 47}. Best is trial 16 with value: 0.7624905664509831.\n",
      "Validation chromosomes for this trial: ['chr6', 'chr13', 'chr14', 'chr10']\n"
     ]
    },
    {
     "name": "stderr",
     "output_type": "stream",
     "text": [
      "Best trial: 16. Best value: 0.762491:   7%|▋         | 22/300 [10:37<1:36:36, 20.85s/it]"
     ]
    },
    {
     "name": "stdout",
     "output_type": "stream",
     "text": [
      "[I 2025-10-14 03:19:45,525] Trial 21 finished with value: 0.7608650157740577 and parameters: {'booster': 'gbtree', 'booeval_metricster': 'rmse', 'learning_rate': 0.034273664229619014, 'max_depth': 9, 'max_leaves': 104, 'subsample': 0.8832782291690378, 'colsample_bytree': 0.7253205730194816, 'alpha': 0.4097530415257411, 'lambda': 1.9832065599439044, 'gamma': 0.029910921497630565, 'min_child_weight': 25}. Best is trial 16 with value: 0.7624905664509831.\n",
      "Validation chromosomes for this trial: ['chr6', 'chr13', 'chr14', 'chr10']\n"
     ]
    },
    {
     "name": "stderr",
     "output_type": "stream",
     "text": [
      "Best trial: 16. Best value: 0.762491:   8%|▊         | 23/300 [10:49<1:23:00, 17.98s/it]"
     ]
    },
    {
     "name": "stdout",
     "output_type": "stream",
     "text": [
      "[I 2025-10-14 03:19:56,818] Trial 22 finished with value: 0.7594099827072184 and parameters: {'booster': 'gbtree', 'booeval_metricster': 'rmse', 'learning_rate': 0.03890433639081438, 'max_depth': 8, 'max_leaves': 104, 'subsample': 0.8579818524992979, 'colsample_bytree': 0.7574256596814698, 'alpha': 0.4402439801600976, 'lambda': 1.4711670127686225, 'gamma': 0.029222584958385978, 'min_child_weight': 25}. Best is trial 16 with value: 0.7624905664509831.\n",
      "Validation chromosomes for this trial: ['chr6', 'chr13', 'chr14', 'chr10']\n"
     ]
    },
    {
     "name": "stderr",
     "output_type": "stream",
     "text": [
      "Best trial: 16. Best value: 0.762491:   8%|▊         | 24/300 [11:00<1:14:09, 16.12s/it]"
     ]
    },
    {
     "name": "stdout",
     "output_type": "stream",
     "text": [
      "[I 2025-10-14 03:20:08,609] Trial 23 finished with value: 0.7597184830099206 and parameters: {'booster': 'gbtree', 'booeval_metricster': 'rmse', 'learning_rate': 0.021339186075628, 'max_depth': 10, 'max_leaves': 96, 'subsample': 0.9301927331015785, 'colsample_bytree': 0.7315392714582729, 'alpha': 0.3820002109687297, 'lambda': 1.8562576665743862, 'gamma': 0.030472840361985342, 'min_child_weight': 64}. Best is trial 16 with value: 0.7624905664509831.\n",
      "Validation chromosomes for this trial: ['chr6', 'chr13', 'chr14', 'chr10']\n"
     ]
    },
    {
     "name": "stderr",
     "output_type": "stream",
     "text": [
      "Best trial: 16. Best value: 0.762491:   8%|▊         | 25/300 [11:13<1:08:49, 15.02s/it]"
     ]
    },
    {
     "name": "stdout",
     "output_type": "stream",
     "text": [
      "[I 2025-10-14 03:20:21,042] Trial 24 finished with value: 0.7611904550888389 and parameters: {'booster': 'gbtree', 'booeval_metricster': 'rmse', 'learning_rate': 0.030060959370530008, 'max_depth': 9, 'max_leaves': 112, 'subsample': 0.8540503736570288, 'colsample_bytree': 0.6845326361601665, 'alpha': 0.6094934702074953, 'lambda': 1.5901413180749038, 'gamma': 0.04157825728783479, 'min_child_weight': 26}. Best is trial 16 with value: 0.7624905664509831.\n",
      "Validation chromosomes for this trial: ['chr6', 'chr13', 'chr14', 'chr10']\n"
     ]
    },
    {
     "name": "stderr",
     "output_type": "stream",
     "text": [
      "Best trial: 16. Best value: 0.762491:   9%|▊         | 26/300 [11:22<1:01:07, 13.39s/it]"
     ]
    },
    {
     "name": "stdout",
     "output_type": "stream",
     "text": [
      "[I 2025-10-14 03:20:30,624] Trial 25 finished with value: 0.7604330854766974 and parameters: {'booster': 'gbtree', 'booeval_metricster': 'rmse', 'learning_rate': 0.029649321586584242, 'max_depth': 8, 'max_leaves': 112, 'subsample': 0.9508778839512304, 'colsample_bytree': 0.603130957729732, 'alpha': 0.5766909227599273, 'lambda': 1.6274766911443868, 'gamma': 0.04057058106250295, 'min_child_weight': 43}. Best is trial 16 with value: 0.7624905664509831.\n",
      "Validation chromosomes for this trial: ['chr6', 'chr13', 'chr14', 'chr10']\n"
     ]
    },
    {
     "name": "stderr",
     "output_type": "stream",
     "text": [
      "Best trial: 16. Best value: 0.762491:   9%|▉         | 27/300 [13:01<2:57:50, 39.09s/it]"
     ]
    },
    {
     "name": "stdout",
     "output_type": "stream",
     "text": [
      "[I 2025-10-14 03:22:09,659] Trial 26 finished with value: 0.7603240555966562 and parameters: {'booster': 'dart', 'booeval_metricster': 'mae', 'learning_rate': 0.024270990628619635, 'max_depth': 10, 'max_leaves': 88, 'subsample': 0.8419178765541127, 'colsample_bytree': 0.6817151894688325, 'alpha': 0.8717187217189581, 'lambda': 1.4994960306781162, 'gamma': 0.04344566329597218, 'min_child_weight': 35}. Best is trial 16 with value: 0.7624905664509831.\n",
      "Validation chromosomes for this trial: ['chr6', 'chr13', 'chr14', 'chr10']\n"
     ]
    },
    {
     "name": "stderr",
     "output_type": "stream",
     "text": [
      "Best trial: 16. Best value: 0.762491:   9%|▉         | 28/300 [13:10<2:15:22, 29.86s/it]"
     ]
    },
    {
     "name": "stdout",
     "output_type": "stream",
     "text": [
      "[I 2025-10-14 03:22:18,015] Trial 27 finished with value: 0.7578959571778361 and parameters: {'booster': 'gbtree', 'booeval_metricster': 'rmse', 'learning_rate': 0.018294770001735565, 'max_depth': 7, 'max_leaves': 112, 'subsample': 0.7754295418599195, 'colsample_bytree': 0.6296863469621078, 'alpha': 0.6677994223936206, 'lambda': 1.7394634556137536, 'gamma': 0.0426074127850352, 'min_child_weight': 51}. Best is trial 16 with value: 0.7624905664509831.\n",
      "Validation chromosomes for this trial: ['chr6', 'chr13', 'chr14', 'chr10']\n"
     ]
    },
    {
     "name": "stderr",
     "output_type": "stream",
     "text": [
      "Best trial: 16. Best value: 0.762491:  10%|▉         | 29/300 [13:24<1:53:25, 25.11s/it]"
     ]
    },
    {
     "name": "stdout",
     "output_type": "stream",
     "text": [
      "[I 2025-10-14 03:22:32,042] Trial 28 finished with value: 0.7561092711753759 and parameters: {'booster': 'gbtree', 'booeval_metricster': 'rmse', 'learning_rate': 0.013778753816600441, 'max_depth': 9, 'max_leaves': 120, 'subsample': 0.7122309235479091, 'colsample_bytree': 0.7920778778532896, 'alpha': 0.2931847216401675, 'lambda': 1.830953378236681, 'gamma': 0.03366287291564332, 'min_child_weight': 28}. Best is trial 16 with value: 0.7624905664509831.\n",
      "Validation chromosomes for this trial: ['chr6', 'chr13', 'chr14', 'chr10']\n"
     ]
    },
    {
     "name": "stderr",
     "output_type": "stream",
     "text": [
      "Best trial: 16. Best value: 0.762491:  10%|█         | 30/300 [15:16<3:50:26, 51.21s/it]"
     ]
    },
    {
     "name": "stdout",
     "output_type": "stream",
     "text": [
      "[I 2025-10-14 03:24:24,141] Trial 29 finished with value: 0.7597145263962486 and parameters: {'booster': 'dart', 'booeval_metricster': 'rmse', 'learning_rate': 0.043153013059209606, 'max_depth': 6, 'max_leaves': 64, 'subsample': 0.9267904171333724, 'colsample_bytree': 0.6880486148294593, 'alpha': 0.61114409778631, 'lambda': 0.043783029640267146, 'gamma': 0.010620098573602844, 'min_child_weight': 62}. Best is trial 16 with value: 0.7624905664509831.\n",
      "Validation chromosomes for this trial: ['chr6', 'chr13', 'chr14', 'chr10']\n"
     ]
    },
    {
     "name": "stderr",
     "output_type": "stream",
     "text": [
      "Best trial: 30. Best value: 0.762768:  10%|█         | 31/300 [15:29<2:58:03, 39.72s/it]"
     ]
    },
    {
     "name": "stdout",
     "output_type": "stream",
     "text": [
      "[I 2025-10-14 03:24:37,042] Trial 30 finished with value: 0.7627684429166044 and parameters: {'booster': 'gbtree', 'booeval_metricster': 'rmse', 'learning_rate': 0.03397955480233873, 'max_depth': 9, 'max_leaves': 88, 'subsample': 0.9598482300597748, 'colsample_bytree': 0.81680710915471, 'alpha': 0.7523848797549749, 'lambda': 1.1291423431454384, 'gamma': 0.04849204845433535, 'min_child_weight': 40}. Best is trial 30 with value: 0.7627684429166044.\n",
      "Validation chromosomes for this trial: ['chr6', 'chr13', 'chr14', 'chr10']\n"
     ]
    },
    {
     "name": "stderr",
     "output_type": "stream",
     "text": [
      "Best trial: 30. Best value: 0.762768:  11%|█         | 32/300 [15:42<2:22:09, 31.83s/it]"
     ]
    },
    {
     "name": "stdout",
     "output_type": "stream",
     "text": [
      "[I 2025-10-14 03:24:50,442] Trial 31 finished with value: 0.7592331170173041 and parameters: {'booster': 'gbtree', 'booeval_metricster': 'rmse', 'learning_rate': 0.03404028586113402, 'max_depth': 9, 'max_leaves': 88, 'subsample': 0.958266434783122, 'colsample_bytree': 0.8301990498646461, 'alpha': 0.8991762748145775, 'lambda': 1.0722657601496386, 'gamma': 0.049434566709119526, 'min_child_weight': 40}. Best is trial 30 with value: 0.7627684429166044.\n",
      "Validation chromosomes for this trial: ['chr6', 'chr13', 'chr14', 'chr10']\n"
     ]
    },
    {
     "name": "stderr",
     "output_type": "stream",
     "text": [
      "Best trial: 30. Best value: 0.762768:  11%|█         | 33/300 [15:56<1:57:24, 26.38s/it]"
     ]
    },
    {
     "name": "stdout",
     "output_type": "stream",
     "text": [
      "[I 2025-10-14 03:25:04,132] Trial 32 finished with value: 0.7596437398590083 and parameters: {'booster': 'gbtree', 'booeval_metricster': 'rmse', 'learning_rate': 0.029832161643428383, 'max_depth': 10, 'max_leaves': 80, 'subsample': 0.8997084744877157, 'colsample_bytree': 0.7939883848541707, 'alpha': 0.7311799155098023, 'lambda': 0.8000653383729432, 'gamma': 0.046096174371521845, 'min_child_weight': 19}. Best is trial 30 with value: 0.7627684429166044.\n",
      "Validation chromosomes for this trial: ['chr6', 'chr13', 'chr14', 'chr10']\n"
     ]
    },
    {
     "name": "stderr",
     "output_type": "stream",
     "text": [
      "Best trial: 30. Best value: 0.762768:  11%|█▏        | 34/300 [16:07<1:37:07, 21.91s/it]"
     ]
    },
    {
     "name": "stdout",
     "output_type": "stream",
     "text": [
      "[I 2025-10-14 03:25:15,598] Trial 33 finished with value: 0.7594450165456683 and parameters: {'booster': 'gbtree', 'booeval_metricster': 'rmse', 'learning_rate': 0.023987169888507364, 'max_depth': 7, 'max_leaves': 96, 'subsample': 0.9964827048543968, 'colsample_bytree': 0.7438629874336616, 'alpha': 0.744393567166504, 'lambda': 0.5706715185063966, 'gamma': 0.04635465800202844, 'min_child_weight': 31}. Best is trial 30 with value: 0.7627684429166044.\n",
      "Validation chromosomes for this trial: ['chr6', 'chr13', 'chr14', 'chr10']\n"
     ]
    },
    {
     "name": "stderr",
     "output_type": "stream",
     "text": [
      "Best trial: 30. Best value: 0.762768:  12%|█▏        | 35/300 [16:20<1:24:50, 19.21s/it]"
     ]
    },
    {
     "name": "stdout",
     "output_type": "stream",
     "text": [
      "[I 2025-10-14 03:25:28,516] Trial 34 finished with value: 0.757537502868085 and parameters: {'booster': 'gbtree', 'booeval_metricster': 'rmse', 'learning_rate': 0.01833051445186728, 'max_depth': 8, 'max_leaves': 120, 'subsample': 0.8300687477934423, 'colsample_bytree': 0.6347164210630478, 'alpha': 0.8759845514729357, 'lambda': 1.8827862338191728, 'gamma': 0.04078508090321099, 'min_child_weight': 39}. Best is trial 30 with value: 0.7627684429166044.\n",
      "Validation chromosomes for this trial: ['chr6', 'chr13', 'chr14', 'chr10']\n"
     ]
    },
    {
     "name": "stderr",
     "output_type": "stream",
     "text": [
      "Best trial: 30. Best value: 0.762768:  12%|█▏        | 36/300 [16:34<1:16:59, 17.50s/it]"
     ]
    },
    {
     "name": "stdout",
     "output_type": "stream",
     "text": [
      "[I 2025-10-14 03:25:42,020] Trial 35 finished with value: 0.7609981885607918 and parameters: {'booster': 'gbtree', 'booeval_metricster': 'mae', 'learning_rate': 0.03451839564787689, 'max_depth': 9, 'max_leaves': 104, 'subsample': 0.9530994624272731, 'colsample_bytree': 0.6631411298742154, 'alpha': 0.4576412194321463, 'lambda': 1.6043477632514689, 'gamma': 0.024921736025698762, 'min_child_weight': 45}. Best is trial 30 with value: 0.7627684429166044.\n",
      "Validation chromosomes for this trial: ['chr6', 'chr13', 'chr14', 'chr10']\n"
     ]
    },
    {
     "name": "stderr",
     "output_type": "stream",
     "text": [
      "Best trial: 30. Best value: 0.762768:  12%|█▏        | 37/300 [16:46<1:10:01, 15.97s/it]"
     ]
    },
    {
     "name": "stdout",
     "output_type": "stream",
     "text": [
      "[I 2025-10-14 03:25:54,442] Trial 36 finished with value: 0.7591236372141718 and parameters: {'booster': 'gbtree', 'booeval_metricster': 'rmse', 'learning_rate': 0.04379727446493778, 'max_depth': 10, 'max_leaves': 88, 'subsample': 0.8658677992777439, 'colsample_bytree': 0.7783634556323173, 'alpha': 0.6911933589050293, 'lambda': 1.128873488015012, 'gamma': 0.046991871370470756, 'min_child_weight': 51}. Best is trial 30 with value: 0.7627684429166044.\n",
      "Validation chromosomes for this trial: ['chr6', 'chr13', 'chr14', 'chr10']\n"
     ]
    },
    {
     "name": "stderr",
     "output_type": "stream",
     "text": [
      "Best trial: 30. Best value: 0.762768:  13%|█▎        | 38/300 [18:28<3:02:29, 41.79s/it]"
     ]
    },
    {
     "name": "stdout",
     "output_type": "stream",
     "text": [
      "[I 2025-10-14 03:27:36,475] Trial 37 finished with value: 0.7443975271900535 and parameters: {'booster': 'dart', 'booeval_metricster': 'rmse', 'learning_rate': 0.005108026975757168, 'max_depth': 9, 'max_leaves': 80, 'subsample': 0.9241682381139341, 'colsample_bytree': 0.8280558431139653, 'alpha': 0.7894479690359227, 'lambda': 1.3867576642649664, 'gamma': 0.020250274590818608, 'min_child_weight': 21}. Best is trial 30 with value: 0.7627684429166044.\n",
      "Validation chromosomes for this trial: ['chr6', 'chr13', 'chr14', 'chr10']\n"
     ]
    },
    {
     "name": "stderr",
     "output_type": "stream",
     "text": [
      "Best trial: 30. Best value: 0.762768:  13%|█▎        | 39/300 [18:36<2:16:49, 31.45s/it]"
     ]
    },
    {
     "name": "stdout",
     "output_type": "stream",
     "text": [
      "[I 2025-10-14 03:27:43,811] Trial 38 finished with value: 0.7608437906476329 and parameters: {'booster': 'gbtree', 'booeval_metricster': 'mae', 'learning_rate': 0.03751508894601656, 'max_depth': 7, 'max_leaves': 96, 'subsample': 0.7692874395662324, 'colsample_bytree': 0.7048931076983627, 'alpha': 0.493468670253055, 'lambda': 1.7034574915093408, 'gamma': 0.038553365444948556, 'min_child_weight': 62}. Best is trial 30 with value: 0.7627684429166044.\n",
      "Validation chromosomes for this trial: ['chr6', 'chr13', 'chr14', 'chr10']\n"
     ]
    },
    {
     "name": "stderr",
     "output_type": "stream",
     "text": [
      "Best trial: 30. Best value: 0.762768:  13%|█▎        | 40/300 [18:45<1:47:44, 24.86s/it]"
     ]
    },
    {
     "name": "stdout",
     "output_type": "stream",
     "text": [
      "[I 2025-10-14 03:27:53,291] Trial 39 finished with value: 0.7593993782713993 and parameters: {'booster': 'gbtree', 'booeval_metricster': 'rmse', 'learning_rate': 0.02739287751706566, 'max_depth': 8, 'max_leaves': 112, 'subsample': 0.9690634132749895, 'colsample_bytree': 0.8107217423148216, 'alpha': 0.6214536245554529, 'lambda': 0.86630554307498, 'gamma': 0.049824095225976237, 'min_child_weight': 69}. Best is trial 30 with value: 0.7627684429166044.\n",
      "Validation chromosomes for this trial: ['chr6', 'chr13', 'chr14', 'chr10']\n"
     ]
    },
    {
     "name": "stderr",
     "output_type": "stream",
     "text": [
      "Best trial: 30. Best value: 0.762768:  14%|█▎        | 41/300 [18:55<1:28:05, 20.41s/it]"
     ]
    },
    {
     "name": "stdout",
     "output_type": "stream",
     "text": [
      "[I 2025-10-14 03:28:03,309] Trial 40 finished with value: 0.7603498174075265 and parameters: {'booster': 'gbtree', 'booeval_metricster': 'rmse', 'learning_rate': 0.044897038728365195, 'max_depth': 9, 'max_leaves': 72, 'subsample': 0.8813309351560341, 'colsample_bytree': 0.7538490089752379, 'alpha': 0.2734000165244276, 'lambda': 1.3909102965881248, 'gamma': 0.02615362811434879, 'min_child_weight': 31}. Best is trial 30 with value: 0.7627684429166044.\n",
      "Validation chromosomes for this trial: ['chr6', 'chr13', 'chr14', 'chr10']\n"
     ]
    },
    {
     "name": "stderr",
     "output_type": "stream",
     "text": [
      "Best trial: 30. Best value: 0.762768:  14%|█▍        | 42/300 [19:06<1:15:42, 17.61s/it]"
     ]
    },
    {
     "name": "stdout",
     "output_type": "stream",
     "text": [
      "[I 2025-10-14 03:28:14,375] Trial 41 finished with value: 0.7601393635772971 and parameters: {'booster': 'gbtree', 'booeval_metricster': 'mae', 'learning_rate': 0.03193686776195633, 'max_depth': 9, 'max_leaves': 104, 'subsample': 0.9494079316256769, 'colsample_bytree': 0.668030461685223, 'alpha': 0.47645109119224677, 'lambda': 0.6420078579231243, 'gamma': 0.016922055041280998, 'min_child_weight': 46}. Best is trial 30 with value: 0.7627684429166044.\n",
      "Validation chromosomes for this trial: ['chr6', 'chr13', 'chr14', 'chr10']\n"
     ]
    },
    {
     "name": "stderr",
     "output_type": "stream",
     "text": [
      "Best trial: 30. Best value: 0.762768:  14%|█▍        | 43/300 [19:18<1:07:51, 15.84s/it]"
     ]
    },
    {
     "name": "stdout",
     "output_type": "stream",
     "text": [
      "[I 2025-10-14 03:28:26,095] Trial 42 finished with value: 0.760038669977924 and parameters: {'booster': 'gbtree', 'booeval_metricster': 'mae', 'learning_rate': 0.036374620016494615, 'max_depth': 10, 'max_leaves': 104, 'subsample': 0.9123740184431729, 'colsample_bytree': 0.6581264735094684, 'alpha': 0.34834858599380697, 'lambda': 1.6529519441309604, 'gamma': 0.024364930514106715, 'min_child_weight': 51}. Best is trial 30 with value: 0.7627684429166044.\n",
      "Validation chromosomes for this trial: ['chr6', 'chr13', 'chr14', 'chr10']\n"
     ]
    },
    {
     "name": "stderr",
     "output_type": "stream",
     "text": [
      "Best trial: 30. Best value: 0.762768:  15%|█▍        | 44/300 [19:30<1:02:33, 14.66s/it]"
     ]
    },
    {
     "name": "stdout",
     "output_type": "stream",
     "text": [
      "[I 2025-10-14 03:28:38,011] Trial 43 finished with value: 0.7591164284903977 and parameters: {'booster': 'gbtree', 'booeval_metricster': 'mae', 'learning_rate': 0.02415850964190045, 'max_depth': 9, 'max_leaves': 120, 'subsample': 0.9823571230333691, 'colsample_bytree': 0.6235431723084144, 'alpha': 0.5643731768911668, 'lambda': 1.582550699540083, 'gamma': 0.032147049987341685, 'min_child_weight': 38}. Best is trial 30 with value: 0.7627684429166044.\n",
      "Validation chromosomes for this trial: ['chr6', 'chr13', 'chr14', 'chr10']\n"
     ]
    },
    {
     "name": "stderr",
     "output_type": "stream",
     "text": [
      "Best trial: 30. Best value: 0.762768:  15%|█▌        | 45/300 [19:41<58:20, 13.73s/it]  "
     ]
    },
    {
     "name": "stdout",
     "output_type": "stream",
     "text": [
      "[I 2025-10-14 03:28:49,558] Trial 44 finished with value: 0.761429901197969 and parameters: {'booster': 'gbtree', 'booeval_metricster': 'mae', 'learning_rate': 0.0408363019962578, 'max_depth': 8, 'max_leaves': 96, 'subsample': 0.9421595355393256, 'colsample_bytree': 0.6472781334613329, 'alpha': 0.7594878868761038, 'lambda': 1.8733255601465832, 'gamma': 0.02294903050834319, 'min_child_weight': 16}. Best is trial 30 with value: 0.7627684429166044.\n",
      "Validation chromosomes for this trial: ['chr6', 'chr13', 'chr14', 'chr10']\n"
     ]
    },
    {
     "name": "stderr",
     "output_type": "stream",
     "text": [
      "Best trial: 30. Best value: 0.762768:  15%|█▌        | 46/300 [19:53<54:57, 12.98s/it]"
     ]
    },
    {
     "name": "stdout",
     "output_type": "stream",
     "text": [
      "[I 2025-10-14 03:29:00,789] Trial 45 finished with value: 0.7591546187535835 and parameters: {'booster': 'gbtree', 'booeval_metricster': 'mae', 'learning_rate': 0.047643271184318756, 'max_depth': 8, 'max_leaves': 88, 'subsample': 0.8438549009565329, 'colsample_bytree': 0.6866847095464954, 'alpha': 0.7828958481076008, 'lambda': 1.9080960593222307, 'gamma': 0.03622478381152728, 'min_child_weight': 15}. Best is trial 30 with value: 0.7627684429166044.\n",
      "Validation chromosomes for this trial: ['chr6', 'chr13', 'chr14', 'chr10']\n"
     ]
    },
    {
     "name": "stderr",
     "output_type": "stream",
     "text": [
      "Best trial: 30. Best value: 0.762768:  16%|█▌        | 47/300 [21:26<2:36:36, 37.14s/it]"
     ]
    },
    {
     "name": "stdout",
     "output_type": "stream",
     "text": [
      "[I 2025-10-14 03:30:34,308] Trial 46 finished with value: 0.7590794880678936 and parameters: {'booster': 'dart', 'booeval_metricster': 'mae', 'learning_rate': 0.04166675188881779, 'max_depth': 6, 'max_leaves': 96, 'subsample': 0.8182353149727364, 'colsample_bytree': 0.8556681858128379, 'alpha': 0.9149427232912605, 'lambda': 1.7721151659751804, 'gamma': 0.021132299797187712, 'min_child_weight': 21}. Best is trial 30 with value: 0.7627684429166044.\n",
      "Validation chromosomes for this trial: ['chr6', 'chr13', 'chr14', 'chr10']\n"
     ]
    },
    {
     "name": "stderr",
     "output_type": "stream",
     "text": [
      "Best trial: 30. Best value: 0.762768:  16%|█▌        | 48/300 [21:37<2:03:03, 29.30s/it]"
     ]
    },
    {
     "name": "stdout",
     "output_type": "stream",
     "text": [
      "[I 2025-10-14 03:30:45,309] Trial 47 finished with value: 0.7604832205985446 and parameters: {'booster': 'gbtree', 'booeval_metricster': 'mae', 'learning_rate': 0.027567323106564838, 'max_depth': 7, 'max_leaves': 112, 'subsample': 0.8752027564633427, 'colsample_bytree': 0.6460515574374605, 'alpha': 0.8497371461919448, 'lambda': 1.9050732411783045, 'gamma': 0.022822977313495668, 'min_child_weight': 15}. Best is trial 30 with value: 0.7627684429166044.\n",
      "Validation chromosomes for this trial: ['chr6', 'chr13', 'chr14', 'chr10']\n"
     ]
    },
    {
     "name": "stderr",
     "output_type": "stream",
     "text": [
      "Best trial: 30. Best value: 0.762768:  16%|█▋        | 49/300 [21:46<1:37:22, 23.28s/it]"
     ]
    },
    {
     "name": "stdout",
     "output_type": "stream",
     "text": [
      "[I 2025-10-14 03:30:54,525] Trial 48 finished with value: 0.7458848527398396 and parameters: {'booster': 'gbtree', 'booeval_metricster': 'rmse', 'learning_rate': 0.008732273552160177, 'max_depth': 8, 'max_leaves': 40, 'subsample': 0.9388905905750978, 'colsample_bytree': 0.7393404804020676, 'alpha': 0.7532081026996067, 'lambda': 1.7113373136247394, 'gamma': 0.038324498195555494, 'min_child_weight': 31}. Best is trial 30 with value: 0.7627684429166044.\n",
      "Validation chromosomes for this trial: ['chr6', 'chr13', 'chr14', 'chr10']\n"
     ]
    },
    {
     "name": "stderr",
     "output_type": "stream",
     "text": [
      "Best trial: 30. Best value: 0.762768:  17%|█▋        | 50/300 [21:57<1:21:30, 19.56s/it]"
     ]
    },
    {
     "name": "stdout",
     "output_type": "stream",
     "text": [
      "[I 2025-10-14 03:31:05,425] Trial 49 finished with value: 0.7612393887838603 and parameters: {'booster': 'gbtree', 'booeval_metricster': 'rmse', 'learning_rate': 0.04017889280961103, 'max_depth': 10, 'max_leaves': 56, 'subsample': 0.8028881574631624, 'colsample_bytree': 0.7744968157211797, 'alpha': 0.8284397543805644, 'lambda': 0.3990301356400786, 'gamma': 0.01876848068593121, 'min_child_weight': 10}. Best is trial 30 with value: 0.7627684429166044.\n",
      "Validation chromosomes for this trial: ['chr6', 'chr13', 'chr14', 'chr10']\n"
     ]
    },
    {
     "name": "stderr",
     "output_type": "stream",
     "text": [
      "Best trial: 30. Best value: 0.762768:  17%|█▋        | 51/300 [22:08<1:10:34, 17.01s/it]"
     ]
    },
    {
     "name": "stdout",
     "output_type": "stream",
     "text": [
      "[I 2025-10-14 03:31:16,471] Trial 50 finished with value: 0.7606417423289388 and parameters: {'booster': 'gbtree', 'booeval_metricster': 'rmse', 'learning_rate': 0.04015446059962406, 'max_depth': 10, 'max_leaves': 56, 'subsample': 0.7090073250167928, 'colsample_bytree': 0.7742717406563131, 'alpha': 0.9374412533523929, 'lambda': 0.25429012378802396, 'gamma': 0.013487368194339391, 'min_child_weight': 10}. Best is trial 30 with value: 0.7627684429166044.\n",
      "Validation chromosomes for this trial: ['chr6', 'chr13', 'chr14', 'chr10']\n"
     ]
    },
    {
     "name": "stderr",
     "output_type": "stream",
     "text": [
      "Best trial: 30. Best value: 0.762768:  17%|█▋        | 52/300 [22:19<1:02:09, 15.04s/it]"
     ]
    },
    {
     "name": "stdout",
     "output_type": "stream",
     "text": [
      "[I 2025-10-14 03:31:26,921] Trial 51 finished with value: 0.7603526476861524 and parameters: {'booster': 'gbtree', 'booeval_metricster': 'rmse', 'learning_rate': 0.03116563050798263, 'max_depth': 10, 'max_leaves': 56, 'subsample': 0.7965855816983203, 'colsample_bytree': 0.7215681897508079, 'alpha': 0.8339594515149384, 'lambda': 0.4129661406068452, 'gamma': 0.00943366810532664, 'min_child_weight': 17}. Best is trial 30 with value: 0.7627684429166044.\n",
      "Validation chromosomes for this trial: ['chr6', 'chr13', 'chr14', 'chr10']\n"
     ]
    },
    {
     "name": "stderr",
     "output_type": "stream",
     "text": [
      "Best trial: 30. Best value: 0.762768:  18%|█▊        | 53/300 [22:28<54:34, 13.26s/it]  "
     ]
    },
    {
     "name": "stdout",
     "output_type": "stream",
     "text": [
      "[I 2025-10-14 03:31:36,013] Trial 52 finished with value: 0.7596842523920988 and parameters: {'booster': 'gbtree', 'booeval_metricster': 'rmse', 'learning_rate': 0.04908642521710233, 'max_depth': 10, 'max_leaves': 40, 'subsample': 0.9009798959939501, 'colsample_bytree': 0.9442362330259118, 'alpha': 0.7083347763424208, 'lambda': 0.08524390405398907, 'gamma': 0.01793604173210956, 'min_child_weight': 23}. Best is trial 30 with value: 0.7627684429166044.\n",
      "Validation chromosomes for this trial: ['chr6', 'chr13', 'chr14', 'chr10']\n"
     ]
    },
    {
     "name": "stderr",
     "output_type": "stream",
     "text": [
      "Best trial: 30. Best value: 0.762768:  18%|█▊        | 54/300 [22:40<52:47, 12.88s/it]"
     ]
    },
    {
     "name": "stdout",
     "output_type": "stream",
     "text": [
      "[I 2025-10-14 03:31:48,011] Trial 53 finished with value: 0.7599242844678165 and parameters: {'booster': 'gbtree', 'booeval_metricster': 'rmse', 'learning_rate': 0.0366730038130975, 'max_depth': 8, 'max_leaves': 64, 'subsample': 0.854396334340602, 'colsample_bytree': 0.7010166761835999, 'alpha': 0.6476977626871553, 'lambda': 1.1919031089852674, 'gamma': 0.018198867957614318, 'min_child_weight': 14}. Best is trial 30 with value: 0.7627684429166044.\n",
      "Validation chromosomes for this trial: ['chr6', 'chr13', 'chr14', 'chr10']\n"
     ]
    },
    {
     "name": "stderr",
     "output_type": "stream",
     "text": [
      "Best trial: 30. Best value: 0.762768:  18%|█▊        | 55/300 [22:53<52:58, 12.97s/it]"
     ]
    },
    {
     "name": "stdout",
     "output_type": "stream",
     "text": [
      "[I 2025-10-14 03:32:01,209] Trial 54 finished with value: 0.7611000987306602 and parameters: {'booster': 'gbtree', 'booeval_metricster': 'rmse', 'learning_rate': 0.03295914623766974, 'max_depth': 9, 'max_leaves': 80, 'subsample': 0.8325682491535105, 'colsample_bytree': 0.8104951611951783, 'alpha': 0.7864181123351945, 'lambda': 0.9770560476603434, 'gamma': 0.022389916277695845, 'min_child_weight': 28}. Best is trial 30 with value: 0.7627684429166044.\n",
      "Validation chromosomes for this trial: ['chr6', 'chr13', 'chr14', 'chr10']\n"
     ]
    },
    {
     "name": "stderr",
     "output_type": "stream",
     "text": [
      "Best trial: 30. Best value: 0.762768:  19%|█▊        | 56/300 [23:04<49:54, 12.27s/it]"
     ]
    },
    {
     "name": "stdout",
     "output_type": "stream",
     "text": [
      "[I 2025-10-14 03:32:11,848] Trial 55 finished with value: 0.7565734890863149 and parameters: {'booster': 'gbtree', 'booeval_metricster': 'rmse', 'learning_rate': 0.022238816496891273, 'max_depth': 10, 'max_leaves': 56, 'subsample': 0.5598889260452679, 'colsample_bytree': 0.6809734883498725, 'alpha': 0.8295935694115069, 'lambda': 1.816086037434774, 'gamma': 0.02767062272338722, 'min_child_weight': 19}. Best is trial 30 with value: 0.7627684429166044.\n",
      "Validation chromosomes for this trial: ['chr6', 'chr13', 'chr14', 'chr10']\n"
     ]
    },
    {
     "name": "stderr",
     "output_type": "stream",
     "text": [
      "Best trial: 30. Best value: 0.762768:  19%|█▉        | 57/300 [24:28<2:17:54, 34.05s/it]"
     ]
    },
    {
     "name": "stdout",
     "output_type": "stream",
     "text": [
      "[I 2025-10-14 03:33:36,707] Trial 56 finished with value: 0.7592504501272703 and parameters: {'booster': 'dart', 'booeval_metricster': 'rmse', 'learning_rate': 0.039317659960802186, 'max_depth': 9, 'max_leaves': 96, 'subsample': 0.975101107110951, 'colsample_bytree': 0.7625837928643109, 'alpha': 0.18384677736377047, 'lambda': 1.9996183113786374, 'gamma': 0.03183073092077101, 'min_child_weight': 34}. Best is trial 30 with value: 0.7627684429166044.\n",
      "Validation chromosomes for this trial: ['chr6', 'chr13', 'chr14', 'chr10']\n"
     ]
    },
    {
     "name": "stderr",
     "output_type": "stream",
     "text": [
      "Best trial: 30. Best value: 0.762768:  19%|█▉        | 58/300 [24:35<1:43:58, 25.78s/it]"
     ]
    },
    {
     "name": "stdout",
     "output_type": "stream",
     "text": [
      "[I 2025-10-14 03:33:43,174] Trial 57 finished with value: 0.7556468682405584 and parameters: {'booster': 'gbtree', 'booeval_metricster': 'rmse', 'learning_rate': 0.029492037092814855, 'max_depth': 10, 'max_leaves': 24, 'subsample': 0.9114679260767021, 'colsample_bytree': 0.615974352095579, 'alpha': 0.9489867293462947, 'lambda': 1.3569523749309815, 'gamma': 0.02629483029167734, 'min_child_weight': 25}. Best is trial 30 with value: 0.7627684429166044.\n",
      "Validation chromosomes for this trial: ['chr6', 'chr13', 'chr14', 'chr10']\n"
     ]
    },
    {
     "name": "stderr",
     "output_type": "stream",
     "text": [
      "Best trial: 30. Best value: 0.762768:  20%|█▉        | 59/300 [24:47<1:27:30, 21.79s/it]"
     ]
    },
    {
     "name": "stdout",
     "output_type": "stream",
     "text": [
      "[I 2025-10-14 03:33:55,642] Trial 58 finished with value: 0.7587954196765442 and parameters: {'booster': 'gbtree', 'booeval_metricster': 'mae', 'learning_rate': 0.025847346887455217, 'max_depth': 8, 'max_leaves': 72, 'subsample': 0.810090877619635, 'colsample_bytree': 0.6439158996392444, 'alpha': 0.7644748022106407, 'lambda': 0.45087271853781563, 'gamma': 0.014930633675682268, 'min_child_weight': 13}. Best is trial 30 with value: 0.7627684429166044.\n",
      "Validation chromosomes for this trial: ['chr6', 'chr13', 'chr14', 'chr10']\n"
     ]
    },
    {
     "name": "stderr",
     "output_type": "stream",
     "text": [
      "Best trial: 30. Best value: 0.762768:  20%|██        | 60/300 [24:53<1:07:25, 16.86s/it]"
     ]
    },
    {
     "name": "stdout",
     "output_type": "stream",
     "text": [
      "[I 2025-10-14 03:34:01,007] Trial 59 finished with value: 0.7576280780443388 and parameters: {'booster': 'gbtree', 'booeval_metricster': 'rmse', 'learning_rate': 0.0454340278089629, 'max_depth': 4, 'max_leaves': 120, 'subsample': 0.8851898826926413, 'colsample_bytree': 0.8795417343193098, 'alpha': 0.525913856370062, 'lambda': 1.9157041437306372, 'gamma': 0.042196573670828866, 'min_child_weight': 98}. Best is trial 30 with value: 0.7627684429166044.\n",
      "Validation chromosomes for this trial: ['chr6', 'chr13', 'chr14', 'chr10']\n"
     ]
    },
    {
     "name": "stderr",
     "output_type": "stream",
     "text": [
      "Best trial: 30. Best value: 0.762768:  20%|██        | 61/300 [25:07<1:03:35, 15.96s/it]"
     ]
    },
    {
     "name": "stdout",
     "output_type": "stream",
     "text": [
      "[I 2025-10-14 03:34:14,892] Trial 60 finished with value: 0.7601715965505158 and parameters: {'booster': 'gbtree', 'booeval_metricster': 'rmse', 'learning_rate': 0.03493244635807694, 'max_depth': 9, 'max_leaves': 128, 'subsample': 0.8538265910833378, 'colsample_bytree': 0.8566464436240435, 'alpha': 0.6845942941020614, 'lambda': 0.2675063093746607, 'gamma': 0.0445685640754029, 'min_child_weight': 42}. Best is trial 30 with value: 0.7627684429166044.\n",
      "Validation chromosomes for this trial: ['chr6', 'chr13', 'chr14', 'chr10']\n"
     ]
    },
    {
     "name": "stderr",
     "output_type": "stream",
     "text": [
      "Best trial: 30. Best value: 0.762768:  21%|██        | 62/300 [25:20<1:00:19, 15.21s/it]"
     ]
    },
    {
     "name": "stdout",
     "output_type": "stream",
     "text": [
      "[I 2025-10-14 03:34:28,326] Trial 61 finished with value: 0.7585174159271642 and parameters: {'booster': 'gbtree', 'booeval_metricster': 'rmse', 'learning_rate': 0.03254426292293524, 'max_depth': 9, 'max_leaves': 80, 'subsample': 0.8329232384423073, 'colsample_bytree': 0.8286278228052077, 'alpha': 0.8120365250776305, 'lambda': 0.6843703530765929, 'gamma': 0.021979157910675264, 'min_child_weight': 28}. Best is trial 30 with value: 0.7627684429166044.\n",
      "Validation chromosomes for this trial: ['chr6', 'chr13', 'chr14', 'chr10']\n"
     ]
    },
    {
     "name": "stderr",
     "output_type": "stream",
     "text": [
      "Best trial: 30. Best value: 0.762768:  21%|██        | 63/300 [25:33<57:23, 14.53s/it]  "
     ]
    },
    {
     "name": "stdout",
     "output_type": "stream",
     "text": [
      "[I 2025-10-14 03:34:41,280] Trial 62 finished with value: 0.7588736020013351 and parameters: {'booster': 'gbtree', 'booeval_metricster': 'rmse', 'learning_rate': 0.029135221871640214, 'max_depth': 9, 'max_leaves': 80, 'subsample': 0.7634909553646042, 'colsample_bytree': 0.812122345214109, 'alpha': 0.8721252828323053, 'lambda': 1.0008701830652431, 'gamma': 0.01954123606882533, 'min_child_weight': 36}. Best is trial 30 with value: 0.7627684429166044.\n",
      "Validation chromosomes for this trial: ['chr6', 'chr13', 'chr14', 'chr10']\n"
     ]
    },
    {
     "name": "stderr",
     "output_type": "stream",
     "text": [
      "Best trial: 30. Best value: 0.762768:  21%|██▏       | 64/300 [25:44<53:26, 13.59s/it]"
     ]
    },
    {
     "name": "stdout",
     "output_type": "stream",
     "text": [
      "[I 2025-10-14 03:34:52,675] Trial 63 finished with value: 0.7572148181509596 and parameters: {'booster': 'gbtree', 'booeval_metricster': 'rmse', 'learning_rate': 0.04143433010452721, 'max_depth': 10, 'max_leaves': 88, 'subsample': 0.789159454818072, 'colsample_bytree': 0.805816311994727, 'alpha': 0.7855932066868649, 'lambda': 0.9131456046410696, 'gamma': 0.024449965642466667, 'min_child_weight': 30}. Best is trial 30 with value: 0.7627684429166044.\n",
      "Validation chromosomes for this trial: ['chr6', 'chr13', 'chr14', 'chr10']\n"
     ]
    },
    {
     "name": "stderr",
     "output_type": "stream",
     "text": [
      "Best trial: 30. Best value: 0.762768:  22%|██▏       | 65/300 [25:59<54:43, 13.97s/it]"
     ]
    },
    {
     "name": "stdout",
     "output_type": "stream",
     "text": [
      "[I 2025-10-14 03:35:07,548] Trial 64 finished with value: 0.759197884803214 and parameters: {'booster': 'gbtree', 'booeval_metricster': 'rmse', 'learning_rate': 0.03183530349333089, 'max_depth': 9, 'max_leaves': 96, 'subsample': 0.8146392073112328, 'colsample_bytree': 0.7825829634679646, 'alpha': 0.7215593412811486, 'lambda': 1.8440841573711944, 'gamma': 0.022998574300750117, 'min_child_weight': 24}. Best is trial 30 with value: 0.7627684429166044.\n",
      "Validation chromosomes for this trial: ['chr6', 'chr13', 'chr14', 'chr10']\n"
     ]
    },
    {
     "name": "stderr",
     "output_type": "stream",
     "text": [
      "Best trial: 30. Best value: 0.762768:  22%|██▏       | 66/300 [26:12<52:58, 13.58s/it]"
     ]
    },
    {
     "name": "stdout",
     "output_type": "stream",
     "text": [
      "[I 2025-10-14 03:35:20,225] Trial 65 finished with value: 0.7602677365176256 and parameters: {'booster': 'gbtree', 'booeval_metricster': 'rmse', 'learning_rate': 0.03763984632914619, 'max_depth': 8, 'max_leaves': 104, 'subsample': 0.8698371160699163, 'colsample_bytree': 0.7141751995703546, 'alpha': 0.5958033014447552, 'lambda': 0.8058359014618531, 'gamma': 0.034406986043696616, 'min_child_weight': 17}. Best is trial 30 with value: 0.7627684429166044.\n",
      "Validation chromosomes for this trial: ['chr6', 'chr13', 'chr14', 'chr10']\n"
     ]
    },
    {
     "name": "stderr",
     "output_type": "stream",
     "text": [
      "Best trial: 30. Best value: 0.762768:  22%|██▏       | 67/300 [26:28<55:17, 14.24s/it]"
     ]
    },
    {
     "name": "stdout",
     "output_type": "stream",
     "text": [
      "[I 2025-10-14 03:35:35,984] Trial 66 finished with value: 0.7592900775021723 and parameters: {'booster': 'gbtree', 'booeval_metricster': 'rmse', 'learning_rate': 0.018985055860110574, 'max_depth': 10, 'max_leaves': 112, 'subsample': 0.938399429210759, 'colsample_bytree': 0.6745537815138546, 'alpha': 0.8979701550512726, 'lambda': 0.5385583426516154, 'gamma': 0.01894043169057532, 'min_child_weight': 27}. Best is trial 30 with value: 0.7627684429166044.\n",
      "Validation chromosomes for this trial: ['chr6', 'chr13', 'chr14', 'chr10']\n"
     ]
    },
    {
     "name": "stderr",
     "output_type": "stream",
     "text": [
      "Best trial: 30. Best value: 0.762768:  23%|██▎       | 68/300 [28:10<2:37:31, 40.74s/it]"
     ]
    },
    {
     "name": "stdout",
     "output_type": "stream",
     "text": [
      "[I 2025-10-14 03:37:18,561] Trial 67 finished with value: 0.7587201143017814 and parameters: {'booster': 'dart', 'booeval_metricster': 'rmse', 'learning_rate': 0.02243158707069053, 'max_depth': 7, 'max_leaves': 72, 'subsample': 0.891935983104355, 'colsample_bytree': 0.6945012241295065, 'alpha': 0.8546827915049998, 'lambda': 1.5580929153341998, 'gamma': 0.0478984396033459, 'min_child_weight': 37}. Best is trial 30 with value: 0.7627684429166044.\n",
      "Validation chromosomes for this trial: ['chr6', 'chr13', 'chr14', 'chr10']\n"
     ]
    },
    {
     "name": "stderr",
     "output_type": "stream",
     "text": [
      "Best trial: 30. Best value: 0.762768:  23%|██▎       | 69/300 [28:21<2:02:37, 31.85s/it]"
     ]
    },
    {
     "name": "stdout",
     "output_type": "stream",
     "text": [
      "[I 2025-10-14 03:37:29,675] Trial 68 finished with value: 0.7590460146089169 and parameters: {'booster': 'gbtree', 'booeval_metricster': 'rmse', 'learning_rate': 0.025932438173899806, 'max_depth': 9, 'max_leaves': 88, 'subsample': 0.8413878881573205, 'colsample_bytree': 0.7364696699563765, 'alpha': 0.9164534095237342, 'lambda': 1.102795223026521, 'gamma': 0.02187451066825876, 'min_child_weight': 12}. Best is trial 30 with value: 0.7627684429166044.\n",
      "Validation chromosomes for this trial: ['chr6', 'chr13', 'chr14', 'chr10']\n"
     ]
    },
    {
     "name": "stderr",
     "output_type": "stream",
     "text": [
      "Best trial: 30. Best value: 0.762768:  23%|██▎       | 70/300 [28:32<1:37:36, 25.46s/it]"
     ]
    },
    {
     "name": "stdout",
     "output_type": "stream",
     "text": [
      "[I 2025-10-14 03:37:40,235] Trial 69 finished with value: 0.7601581645804106 and parameters: {'booster': 'gbtree', 'booeval_metricster': 'mae', 'learning_rate': 0.034057044347321395, 'max_depth': 8, 'max_leaves': 96, 'subsample': 0.9185724474959708, 'colsample_bytree': 0.6518220612344591, 'alpha': 0.6597596923819385, 'lambda': 1.293321458229189, 'gamma': 0.028823670269990942, 'min_child_weight': 33}. Best is trial 30 with value: 0.7627684429166044.\n",
      "Validation chromosomes for this trial: ['chr6', 'chr13', 'chr14', 'chr10']\n"
     ]
    },
    {
     "name": "stderr",
     "output_type": "stream",
     "text": [
      "Best trial: 30. Best value: 0.762768:  24%|██▎       | 71/300 [28:46<1:23:34, 21.90s/it]"
     ]
    },
    {
     "name": "stdout",
     "output_type": "stream",
     "text": [
      "[I 2025-10-14 03:37:53,808] Trial 70 finished with value: 0.758992432149091 and parameters: {'booster': 'gbtree', 'booeval_metricster': 'rmse', 'learning_rate': 0.027566485264711758, 'max_depth': 10, 'max_leaves': 104, 'subsample': 0.9622852317818998, 'colsample_bytree': 0.8477916208597484, 'alpha': 0.9711469323253645, 'lambda': 1.9405838532995823, 'gamma': 0.03076778339722572, 'min_child_weight': 41}. Best is trial 30 with value: 0.7627684429166044.\n",
      "Validation chromosomes for this trial: ['chr6', 'chr13', 'chr14', 'chr10']\n"
     ]
    },
    {
     "name": "stderr",
     "output_type": "stream",
     "text": [
      "Best trial: 30. Best value: 0.762768:  24%|██▍       | 72/300 [28:57<1:11:09, 18.73s/it]"
     ]
    },
    {
     "name": "stdout",
     "output_type": "stream",
     "text": [
      "[I 2025-10-14 03:38:05,140] Trial 71 finished with value: 0.7600107898321803 and parameters: {'booster': 'gbtree', 'booeval_metricster': 'mae', 'learning_rate': 0.035369607170751244, 'max_depth': 9, 'max_leaves': 104, 'subsample': 0.9465897872737163, 'colsample_bytree': 0.6621877218021277, 'alpha': 0.3115464157250398, 'lambda': 1.7555374687579848, 'gamma': 0.025614068336109554, 'min_child_weight': 46}. Best is trial 30 with value: 0.7627684429166044.\n",
      "Validation chromosomes for this trial: ['chr6', 'chr13', 'chr14', 'chr10']\n"
     ]
    },
    {
     "name": "stderr",
     "output_type": "stream",
     "text": [
      "Best trial: 30. Best value: 0.762768:  24%|██▍       | 73/300 [29:09<1:03:17, 16.73s/it]"
     ]
    },
    {
     "name": "stdout",
     "output_type": "stream",
     "text": [
      "[I 2025-10-14 03:38:17,209] Trial 72 finished with value: 0.7598192131870354 and parameters: {'booster': 'gbtree', 'booeval_metricster': 'mae', 'learning_rate': 0.030795177438767547, 'max_depth': 9, 'max_leaves': 112, 'subsample': 0.9872579536046322, 'colsample_bytree': 0.820125590074781, 'alpha': 0.46017587973406926, 'lambda': 1.6676102634056487, 'gamma': 0.01625195982542855, 'min_child_weight': 44}. Best is trial 30 with value: 0.7627684429166044.\n",
      "Validation chromosomes for this trial: ['chr6', 'chr13', 'chr14', 'chr10']\n"
     ]
    },
    {
     "name": "stderr",
     "output_type": "stream",
     "text": [
      "Best trial: 30. Best value: 0.762768:  25%|██▍       | 74/300 [29:14<49:56, 13.26s/it]  "
     ]
    },
    {
     "name": "stdout",
     "output_type": "stream",
     "text": [
      "[I 2025-10-14 03:38:22,368] Trial 73 finished with value: 0.7589718266180132 and parameters: {'booster': 'gbtree', 'booeval_metricster': 'mae', 'learning_rate': 0.03309223335941322, 'max_depth': 5, 'max_leaves': 88, 'subsample': 0.8983635767243028, 'colsample_bytree': 0.7922656325646595, 'alpha': 0.4069954433399485, 'lambda': 1.5031370761507852, 'gamma': 0.027185468701888437, 'min_child_weight': 59}. Best is trial 30 with value: 0.7627684429166044.\n",
      "Validation chromosomes for this trial: ['chr6', 'chr13', 'chr14', 'chr10']\n"
     ]
    },
    {
     "name": "stderr",
     "output_type": "stream",
     "text": [
      "Best trial: 30. Best value: 0.762768:  25%|██▌       | 75/300 [29:24<46:11, 12.32s/it]"
     ]
    },
    {
     "name": "stdout",
     "output_type": "stream",
     "text": [
      "[I 2025-10-14 03:38:32,481] Trial 74 finished with value: 0.7620316993105618 and parameters: {'booster': 'gbtree', 'booeval_metricster': 'mae', 'learning_rate': 0.03896367164308857, 'max_depth': 9, 'max_leaves': 96, 'subsample': 0.9234010692824288, 'colsample_bytree': 0.6332916816661367, 'alpha': 0.3563198424336462, 'lambda': 1.6127817356179421, 'gamma': 0.024271838201883753, 'min_child_weight': 55}. Best is trial 30 with value: 0.7627684429166044.\n",
      "Validation chromosomes for this trial: ['chr6', 'chr13', 'chr14', 'chr10']\n"
     ]
    },
    {
     "name": "stderr",
     "output_type": "stream",
     "text": [
      "Best trial: 30. Best value: 0.762768:  25%|██▌       | 76/300 [29:33<42:00, 11.25s/it]"
     ]
    },
    {
     "name": "stdout",
     "output_type": "stream",
     "text": [
      "[I 2025-10-14 03:38:41,262] Trial 75 finished with value: 0.7602373071499628 and parameters: {'booster': 'gbtree', 'booeval_metricster': 'mae', 'learning_rate': 0.04596426036030985, 'max_depth': 8, 'max_leaves': 96, 'subsample': 0.8280024031372817, 'colsample_bytree': 0.6366146046881276, 'alpha': 0.2182680809237307, 'lambda': 1.8509760963683088, 'gamma': 0.023597033360314545, 'min_child_weight': 50}. Best is trial 30 with value: 0.7627684429166044.\n",
      "Validation chromosomes for this trial: ['chr6', 'chr13', 'chr14', 'chr10']\n"
     ]
    },
    {
     "name": "stderr",
     "output_type": "stream",
     "text": [
      "Best trial: 30. Best value: 0.762768:  26%|██▌       | 77/300 [29:43<40:06, 10.79s/it]"
     ]
    },
    {
     "name": "stdout",
     "output_type": "stream",
     "text": [
      "[I 2025-10-14 03:38:50,962] Trial 76 finished with value: 0.7616671193732417 and parameters: {'booster': 'gbtree', 'booeval_metricster': 'rmse', 'learning_rate': 0.03947256816207549, 'max_depth': 9, 'max_leaves': 80, 'subsample': 0.9301176734920767, 'colsample_bytree': 0.6068604721538448, 'alpha': 0.33243243537164485, 'lambda': 1.4285613485195092, 'gamma': 0.0008023304400043008, 'min_child_weight': 55}. Best is trial 30 with value: 0.7627684429166044.\n",
      "Validation chromosomes for this trial: ['chr6', 'chr13', 'chr14', 'chr10']\n"
     ]
    },
    {
     "name": "stderr",
     "output_type": "stream",
     "text": [
      "Best trial: 30. Best value: 0.762768:  26%|██▌       | 78/300 [29:54<40:14, 10.88s/it]"
     ]
    },
    {
     "name": "stdout",
     "output_type": "stream",
     "text": [
      "[I 2025-10-14 03:39:02,047] Trial 77 finished with value: 0.7626395707827786 and parameters: {'booster': 'gbtree', 'booeval_metricster': 'mae', 'learning_rate': 0.03837417331645689, 'max_depth': 10, 'max_leaves': 88, 'subsample': 0.9314084971806327, 'colsample_bytree': 0.6180777823336109, 'alpha': 0.3424877392536577, 'lambda': 1.4347871868453177, 'gamma': 0.0006131463481602393, 'min_child_weight': 55}. Best is trial 30 with value: 0.7627684429166044.\n",
      "Validation chromosomes for this trial: ['chr6', 'chr13', 'chr14', 'chr10']\n"
     ]
    },
    {
     "name": "stderr",
     "output_type": "stream",
     "text": [
      "Best trial: 30. Best value: 0.762768:  26%|██▋       | 79/300 [30:04<39:12, 10.64s/it]"
     ]
    },
    {
     "name": "stdout",
     "output_type": "stream",
     "text": [
      "[I 2025-10-14 03:39:12,141] Trial 78 finished with value: 0.7614903212983324 and parameters: {'booster': 'gbtree', 'booeval_metricster': 'mae', 'learning_rate': 0.04112193788909841, 'max_depth': 10, 'max_leaves': 88, 'subsample': 0.9337003607110357, 'colsample_bytree': 0.6097586718159814, 'alpha': 0.34516890173470843, 'lambda': 1.425289822936893, 'gamma': 0.0008321533342186401, 'min_child_weight': 54}. Best is trial 30 with value: 0.7627684429166044.\n",
      "Validation chromosomes for this trial: ['chr6', 'chr13', 'chr14', 'chr10']\n"
     ]
    },
    {
     "name": "stderr",
     "output_type": "stream",
     "text": [
      "Best trial: 30. Best value: 0.762768:  27%|██▋       | 80/300 [31:52<2:26:46, 40.03s/it]"
     ]
    },
    {
     "name": "stdout",
     "output_type": "stream",
     "text": [
      "[I 2025-10-14 03:41:00,725] Trial 79 finished with value: 0.7595456542384891 and parameters: {'booster': 'dart', 'booeval_metricster': 'mae', 'learning_rate': 0.043613786185994846, 'max_depth': 10, 'max_leaves': 88, 'subsample': 0.9349729074329325, 'colsample_bytree': 0.6141929831356936, 'alpha': 0.34125312065280344, 'lambda': 1.3398480337486955, 'gamma': 0.0037386407635721236, 'min_child_weight': 56}. Best is trial 30 with value: 0.7627684429166044.\n",
      "Validation chromosomes for this trial: ['chr6', 'chr13', 'chr14', 'chr10']\n"
     ]
    },
    {
     "name": "stderr",
     "output_type": "stream",
     "text": [
      "Best trial: 30. Best value: 0.762768:  27%|██▋       | 81/300 [32:05<1:56:09, 31.82s/it]"
     ]
    },
    {
     "name": "stdout",
     "output_type": "stream",
     "text": [
      "[I 2025-10-14 03:41:13,421] Trial 80 finished with value: 0.7609973435734062 and parameters: {'booster': 'gbtree', 'booeval_metricster': 'mae', 'learning_rate': 0.047079400340596544, 'max_depth': 10, 'max_leaves': 80, 'subsample': 0.9978950690704307, 'colsample_bytree': 0.6015845892084967, 'alpha': 0.38250603903981195, 'lambda': 1.1910995556405752, 'gamma': 0.00041685846770094306, 'min_child_weight': 54}. Best is trial 30 with value: 0.7627684429166044.\n",
      "Validation chromosomes for this trial: ['chr6', 'chr13', 'chr14', 'chr10']\n"
     ]
    },
    {
     "name": "stderr",
     "output_type": "stream",
     "text": [
      "Best trial: 81. Best value: 0.763316:  27%|██▋       | 82/300 [32:17<1:33:49, 25.82s/it]"
     ]
    },
    {
     "name": "stdout",
     "output_type": "stream",
     "text": [
      "[I 2025-10-14 03:41:25,230] Trial 81 finished with value: 0.7633160038849309 and parameters: {'booster': 'gbtree', 'booeval_metricster': 'mae', 'learning_rate': 0.03896374058409432, 'max_depth': 10, 'max_leaves': 88, 'subsample': 0.923223825640537, 'colsample_bytree': 0.623949907217607, 'alpha': 0.21961004975179962, 'lambda': 1.4368560880016814, 'gamma': 0.0024014294596317806, 'min_child_weight': 54}. Best is trial 81 with value: 0.7633160038849309.\n",
      "Validation chromosomes for this trial: ['chr6', 'chr13', 'chr14', 'chr10']\n"
     ]
    },
    {
     "name": "stderr",
     "output_type": "stream",
     "text": [
      "Best trial: 81. Best value: 0.763316:  28%|██▊       | 83/300 [32:30<1:19:11, 21.90s/it]"
     ]
    },
    {
     "name": "stdout",
     "output_type": "stream",
     "text": [
      "[I 2025-10-14 03:41:37,981] Trial 82 finished with value: 0.7626407337284878 and parameters: {'booster': 'gbtree', 'booeval_metricster': 'mae', 'learning_rate': 0.038397266063980626, 'max_depth': 10, 'max_leaves': 96, 'subsample': 0.9694840977099691, 'colsample_bytree': 0.6272911631880937, 'alpha': 0.24606899462959453, 'lambda': 1.4356194468231036, 'gamma': 0.0019661357068006024, 'min_child_weight': 66}. Best is trial 81 with value: 0.7633160038849309.\n",
      "Validation chromosomes for this trial: ['chr6', 'chr13', 'chr14', 'chr10']\n"
     ]
    },
    {
     "name": "stderr",
     "output_type": "stream",
     "text": [
      "Best trial: 81. Best value: 0.763316:  28%|██▊       | 84/300 [32:41<1:07:52, 18.86s/it]"
     ]
    },
    {
     "name": "stdout",
     "output_type": "stream",
     "text": [
      "[I 2025-10-14 03:41:49,741] Trial 83 finished with value: 0.7612461304548306 and parameters: {'booster': 'gbtree', 'booeval_metricster': 'mae', 'learning_rate': 0.037596825954406055, 'max_depth': 10, 'max_leaves': 88, 'subsample': 0.9689709093445831, 'colsample_bytree': 0.6195141250484305, 'alpha': 0.22943931794166608, 'lambda': 1.4143618902702342, 'gamma': 0.0030271347437227543, 'min_child_weight': 70}. Best is trial 81 with value: 0.7633160038849309.\n",
      "Validation chromosomes for this trial: ['chr6', 'chr13', 'chr14', 'chr10']\n"
     ]
    },
    {
     "name": "stderr",
     "output_type": "stream",
     "text": [
      "Best trial: 81. Best value: 0.763316:  28%|██▊       | 85/300 [32:54<1:00:57, 17.01s/it]"
     ]
    },
    {
     "name": "stdout",
     "output_type": "stream",
     "text": [
      "[I 2025-10-14 03:42:02,429] Trial 84 finished with value: 0.761839445855395 and parameters: {'booster': 'gbtree', 'booeval_metricster': 'mae', 'learning_rate': 0.03806735670330704, 'max_depth': 10, 'max_leaves': 88, 'subsample': 0.9274912861923384, 'colsample_bytree': 0.6285209704561663, 'alpha': 0.31602943725686405, 'lambda': 1.526295896061972, 'gamma': 0.007079448066012939, 'min_child_weight': 76}. Best is trial 81 with value: 0.7633160038849309.\n",
      "Validation chromosomes for this trial: ['chr6', 'chr13', 'chr14', 'chr10']\n"
     ]
    },
    {
     "name": "stderr",
     "output_type": "stream",
     "text": [
      "Best trial: 81. Best value: 0.763316:  29%|██▊       | 86/300 [33:05<54:15, 15.21s/it]  "
     ]
    },
    {
     "name": "stdout",
     "output_type": "stream",
     "text": [
      "[I 2025-10-14 03:42:13,458] Trial 85 finished with value: 0.7632127550600416 and parameters: {'booster': 'gbtree', 'booeval_metricster': 'mae', 'learning_rate': 0.03841592243143158, 'max_depth': 10, 'max_leaves': 80, 'subsample': 0.9182031926123713, 'colsample_bytree': 0.6282787026901864, 'alpha': 0.12445331906218679, 'lambda': 1.5065606587685463, 'gamma': 0.006311841485931546, 'min_child_weight': 74}. Best is trial 81 with value: 0.7633160038849309.\n",
      "Validation chromosomes for this trial: ['chr6', 'chr13', 'chr14', 'chr10']\n"
     ]
    },
    {
     "name": "stderr",
     "output_type": "stream",
     "text": [
      "Best trial: 81. Best value: 0.763316:  29%|██▉       | 87/300 [33:17<50:49, 14.32s/it]"
     ]
    },
    {
     "name": "stdout",
     "output_type": "stream",
     "text": [
      "[I 2025-10-14 03:42:25,675] Trial 86 finished with value: 0.7620479771799076 and parameters: {'booster': 'gbtree', 'booeval_metricster': 'mae', 'learning_rate': 0.03573022237911141, 'max_depth': 10, 'max_leaves': 96, 'subsample': 0.9194263927271468, 'colsample_bytree': 0.6295060434484206, 'alpha': 0.12232481395381978, 'lambda': 1.47609828881446, 'gamma': 0.006866266856417449, 'min_child_weight': 78}. Best is trial 81 with value: 0.7633160038849309.\n",
      "Validation chromosomes for this trial: ['chr6', 'chr13', 'chr14', 'chr10']\n"
     ]
    },
    {
     "name": "stderr",
     "output_type": "stream",
     "text": [
      "Best trial: 81. Best value: 0.763316:  29%|██▉       | 88/300 [33:29<47:22, 13.41s/it]"
     ]
    },
    {
     "name": "stdout",
     "output_type": "stream",
     "text": [
      "[I 2025-10-14 03:42:36,973] Trial 87 finished with value: 0.7617535405159728 and parameters: {'booster': 'gbtree', 'booeval_metricster': 'mae', 'learning_rate': 0.035524494377029106, 'max_depth': 10, 'max_leaves': 96, 'subsample': 0.9595217994113876, 'colsample_bytree': 0.6351021829729273, 'alpha': 0.07362627757803147, 'lambda': 1.2376984761917114, 'gamma': 0.006742975601550197, 'min_child_weight': 87}. Best is trial 81 with value: 0.7633160038849309.\n",
      "Validation chromosomes for this trial: ['chr6', 'chr13', 'chr14', 'chr10']\n"
     ]
    },
    {
     "name": "stderr",
     "output_type": "stream",
     "text": [
      "Best trial: 81. Best value: 0.763316:  30%|██▉       | 89/300 [33:39<44:16, 12.59s/it]"
     ]
    },
    {
     "name": "stdout",
     "output_type": "stream",
     "text": [
      "[I 2025-10-14 03:42:47,650] Trial 88 finished with value: 0.7606565365736127 and parameters: {'booster': 'gbtree', 'booeval_metricster': 'mae', 'learning_rate': 0.04999082226223829, 'max_depth': 10, 'max_leaves': 96, 'subsample': 0.9070151386391258, 'colsample_bytree': 0.6274599238143134, 'alpha': 0.13232983082336847, 'lambda': 1.458704631290921, 'gamma': 0.0023155388652295154, 'min_child_weight': 78}. Best is trial 81 with value: 0.7633160038849309.\n",
      "Validation chromosomes for this trial: ['chr6', 'chr13', 'chr14', 'chr10']\n"
     ]
    },
    {
     "name": "stderr",
     "output_type": "stream",
     "text": [
      "Best trial: 81. Best value: 0.763316:  30%|███       | 90/300 [33:52<43:42, 12.49s/it]"
     ]
    },
    {
     "name": "stdout",
     "output_type": "stream",
     "text": [
      "[I 2025-10-14 03:42:59,892] Trial 89 finished with value: 0.7605928236854637 and parameters: {'booster': 'gbtree', 'booeval_metricster': 'mae', 'learning_rate': 0.0431122147475282, 'max_depth': 10, 'max_leaves': 104, 'subsample': 0.9156053584678193, 'colsample_bytree': 0.6393106241090647, 'alpha': 0.023213925444603947, 'lambda': 1.5341476182080527, 'gamma': 0.005740537956530064, 'min_child_weight': 65}. Best is trial 81 with value: 0.7633160038849309.\n",
      "Validation chromosomes for this trial: ['chr6', 'chr13', 'chr14', 'chr10']\n"
     ]
    },
    {
     "name": "stderr",
     "output_type": "stream",
     "text": [
      "Best trial: 81. Best value: 0.763316:  30%|███       | 91/300 [34:05<44:20, 12.73s/it]"
     ]
    },
    {
     "name": "stdout",
     "output_type": "stream",
     "text": [
      "[I 2025-10-14 03:43:13,192] Trial 90 finished with value: 0.7573407233094399 and parameters: {'booster': 'gbtree', 'booeval_metricster': 'mae', 'learning_rate': 0.013681734726503266, 'max_depth': 10, 'max_leaves': 80, 'subsample': 0.9818713585252723, 'colsample_bytree': 0.6560008472005452, 'alpha': 0.14561735330137413, 'lambda': 1.3167324725903544, 'gamma': 0.008302294831297574, 'min_child_weight': 74}. Best is trial 81 with value: 0.7633160038849309.\n",
      "Validation chromosomes for this trial: ['chr6', 'chr13', 'chr14', 'chr10']\n"
     ]
    },
    {
     "name": "stderr",
     "output_type": "stream",
     "text": [
      "Best trial: 81. Best value: 0.763316:  31%|███       | 92/300 [34:17<43:23, 12.52s/it]"
     ]
    },
    {
     "name": "stdout",
     "output_type": "stream",
     "text": [
      "[I 2025-10-14 03:43:25,225] Trial 91 finished with value: 0.7620406160881482 and parameters: {'booster': 'gbtree', 'booeval_metricster': 'mae', 'learning_rate': 0.03803388868752998, 'max_depth': 10, 'max_leaves': 88, 'subsample': 0.9239863785575346, 'colsample_bytree': 0.6244697445408695, 'alpha': 0.061342064070545065, 'lambda': 1.5116742043055158, 'gamma': 0.004233970665068097, 'min_child_weight': 86}. Best is trial 81 with value: 0.7633160038849309.\n",
      "Validation chromosomes for this trial: ['chr6', 'chr13', 'chr14', 'chr10']\n"
     ]
    },
    {
     "name": "stderr",
     "output_type": "stream",
     "text": [
      "Best trial: 81. Best value: 0.763316:  31%|███       | 93/300 [34:28<42:04, 12.20s/it]"
     ]
    },
    {
     "name": "stdout",
     "output_type": "stream",
     "text": [
      "[I 2025-10-14 03:43:36,675] Trial 92 finished with value: 0.7619603035461545 and parameters: {'booster': 'gbtree', 'booeval_metricster': 'mae', 'learning_rate': 0.03629295260340697, 'max_depth': 10, 'max_leaves': 96, 'subsample': 0.9508237703410818, 'colsample_bytree': 0.6000784408075166, 'alpha': 0.049310280814332, 'lambda': 1.6004325487516229, 'gamma': 0.004569504015788393, 'min_child_weight': 67}. Best is trial 81 with value: 0.7633160038849309.\n",
      "Validation chromosomes for this trial: ['chr6', 'chr13', 'chr14', 'chr10']\n"
     ]
    },
    {
     "name": "stderr",
     "output_type": "stream",
     "text": [
      "Best trial: 81. Best value: 0.763316:  31%|███▏      | 94/300 [34:40<41:31, 12.09s/it]"
     ]
    },
    {
     "name": "stdout",
     "output_type": "stream",
     "text": [
      "[I 2025-10-14 03:43:48,516] Trial 93 finished with value: 0.7606322198006954 and parameters: {'booster': 'gbtree', 'booeval_metricster': 'mae', 'learning_rate': 0.028870603545493426, 'max_depth': 10, 'max_leaves': 88, 'subsample': 0.8897619820013704, 'colsample_bytree': 0.6208355625554838, 'alpha': 0.09382403932543454, 'lambda': 1.6590877177154324, 'gamma': 0.0018813255641612202, 'min_child_weight': 83}. Best is trial 81 with value: 0.7633160038849309.\n",
      "Validation chromosomes for this trial: ['chr6', 'chr13', 'chr14', 'chr10']\n"
     ]
    },
    {
     "name": "stderr",
     "output_type": "stream",
     "text": [
      "Best trial: 81. Best value: 0.763316:  32%|███▏      | 95/300 [34:51<40:12, 11.77s/it]"
     ]
    },
    {
     "name": "stdout",
     "output_type": "stream",
     "text": [
      "[I 2025-10-14 03:43:59,542] Trial 94 finished with value: 0.7605169323806 and parameters: {'booster': 'gbtree', 'booeval_metricster': 'mae', 'learning_rate': 0.043644423728926324, 'max_depth': 10, 'max_leaves': 88, 'subsample': 0.9713134712265123, 'colsample_bytree': 0.6722778855572272, 'alpha': 0.16103904944236538, 'lambda': 1.4670772226029118, 'gamma': 0.01057340387969917, 'min_child_weight': 90}. Best is trial 81 with value: 0.7633160038849309.\n",
      "Validation chromosomes for this trial: ['chr6', 'chr13', 'chr14', 'chr10']\n"
     ]
    },
    {
     "name": "stderr",
     "output_type": "stream",
     "text": [
      "Best trial: 81. Best value: 0.763316:  32%|███▏      | 96/300 [35:04<41:26, 12.19s/it]"
     ]
    },
    {
     "name": "stdout",
     "output_type": "stream",
     "text": [
      "[I 2025-10-14 03:44:12,708] Trial 95 finished with value: 0.7609551153545551 and parameters: {'booster': 'gbtree', 'booeval_metricster': 'mae', 'learning_rate': 0.03287817908258047, 'max_depth': 10, 'max_leaves': 104, 'subsample': 0.9006584459217924, 'colsample_bytree': 0.6511281820971011, 'alpha': 0.2617482833905301, 'lambda': 1.3716704741253463, 'gamma': 0.004674616352595578, 'min_child_weight': 80}. Best is trial 81 with value: 0.7633160038849309.\n",
      "Validation chromosomes for this trial: ['chr6', 'chr13', 'chr14', 'chr10']\n"
     ]
    },
    {
     "name": "stderr",
     "output_type": "stream",
     "text": [
      "Best trial: 81. Best value: 0.763316:  32%|███▏      | 97/300 [35:17<41:44, 12.34s/it]"
     ]
    },
    {
     "name": "stdout",
     "output_type": "stream",
     "text": [
      "[I 2025-10-14 03:44:25,389] Trial 96 finished with value: 0.7622028907295663 and parameters: {'booster': 'gbtree', 'booeval_metricster': 'mae', 'learning_rate': 0.037246861592477046, 'max_depth': 10, 'max_leaves': 96, 'subsample': 0.9199122031977753, 'colsample_bytree': 0.613863120172437, 'alpha': 0.23532157701787648, 'lambda': 1.2551600592749623, 'gamma': 0.005980285627322279, 'min_child_weight': 58}. Best is trial 81 with value: 0.7633160038849309.\n",
      "Validation chromosomes for this trial: ['chr6', 'chr13', 'chr14', 'chr10']\n"
     ]
    },
    {
     "name": "stderr",
     "output_type": "stream",
     "text": [
      "Best trial: 81. Best value: 0.763316:  33%|███▎      | 98/300 [37:20<2:33:07, 45.48s/it]"
     ]
    },
    {
     "name": "stdout",
     "output_type": "stream",
     "text": [
      "[I 2025-10-14 03:46:28,199] Trial 97 finished with value: 0.7609612167234542 and parameters: {'booster': 'dart', 'booeval_metricster': 'mae', 'learning_rate': 0.030826626262125498, 'max_depth': 10, 'max_leaves': 72, 'subsample': 0.6429417918610711, 'colsample_bytree': 0.6166084124073445, 'alpha': 0.002726573714645311, 'lambda': 1.2616709312085541, 'gamma': 0.005978574650015453, 'min_child_weight': 61}. Best is trial 81 with value: 0.7633160038849309.\n",
      "Validation chromosomes for this trial: ['chr6', 'chr13', 'chr14', 'chr10']\n"
     ]
    },
    {
     "name": "stderr",
     "output_type": "stream",
     "text": [
      "Best trial: 81. Best value: 0.763316:  33%|███▎      | 99/300 [37:33<1:59:57, 35.81s/it]"
     ]
    },
    {
     "name": "stdout",
     "output_type": "stream",
     "text": [
      "[I 2025-10-14 03:46:41,442] Trial 98 finished with value: 0.7619608745995866 and parameters: {'booster': 'gbtree', 'booeval_metricster': 'mae', 'learning_rate': 0.036650257357041284, 'max_depth': 10, 'max_leaves': 96, 'subsample': 0.8799351830597424, 'colsample_bytree': 0.6268309654887076, 'alpha': 0.2460174746048338, 'lambda': 1.160323685842851, 'gamma': 0.008001853185709833, 'min_child_weight': 58}. Best is trial 81 with value: 0.7633160038849309.\n",
      "Validation chromosomes for this trial: ['chr6', 'chr13', 'chr14', 'chr10']\n"
     ]
    },
    {
     "name": "stderr",
     "output_type": "stream",
     "text": [
      "Best trial: 81. Best value: 0.763316:  33%|███▎      | 100/300 [37:46<1:36:51, 29.06s/it]"
     ]
    },
    {
     "name": "stdout",
     "output_type": "stream",
     "text": [
      "[I 2025-10-14 03:46:54,747] Trial 99 finished with value: 0.7614487544818055 and parameters: {'booster': 'gbtree', 'booeval_metricster': 'mae', 'learning_rate': 0.03411813967663336, 'max_depth': 10, 'max_leaves': 104, 'subsample': 0.961307861685288, 'colsample_bytree': 0.645654460226907, 'alpha': 0.21591087152178295, 'lambda': 1.0683056123590549, 'gamma': 0.0017107306191154088, 'min_child_weight': 48}. Best is trial 81 with value: 0.7633160038849309.\n",
      "Validation chromosomes for this trial: ['chr6', 'chr13', 'chr14', 'chr10']\n"
     ]
    },
    {
     "name": "stderr",
     "output_type": "stream",
     "text": [
      "Best trial: 81. Best value: 0.763316:  34%|███▎      | 101/300 [37:58<1:19:01, 23.83s/it]"
     ]
    },
    {
     "name": "stdout",
     "output_type": "stream",
     "text": [
      "[I 2025-10-14 03:47:06,358] Trial 100 finished with value: 0.7611478245754806 and parameters: {'booster': 'gbtree', 'booeval_metricster': 'mae', 'learning_rate': 0.041541885753584265, 'max_depth': 10, 'max_leaves': 80, 'subsample': 0.9440853542980134, 'colsample_bytree': 0.6101780328225717, 'alpha': 0.18543359444020263, 'lambda': 1.3138076146391562, 'gamma': 0.0037373588645067406, 'min_child_weight': 93}. Best is trial 81 with value: 0.7633160038849309.\n",
      "Validation chromosomes for this trial: ['chr6', 'chr13', 'chr14', 'chr10']\n"
     ]
    },
    {
     "name": "stderr",
     "output_type": "stream",
     "text": [
      "Best trial: 81. Best value: 0.763316:  34%|███▍      | 102/300 [38:12<1:08:35, 20.78s/it]"
     ]
    },
    {
     "name": "stdout",
     "output_type": "stream",
     "text": [
      "[I 2025-10-14 03:47:20,051] Trial 101 finished with value: 0.7616934869453403 and parameters: {'booster': 'gbtree', 'booeval_metricster': 'mae', 'learning_rate': 0.03914026296945179, 'max_depth': 10, 'max_leaves': 96, 'subsample': 0.9194473489445982, 'colsample_bytree': 0.6338213590092723, 'alpha': 0.28242886793660227, 'lambda': 1.475656517717153, 'gamma': 0.003348712336943647, 'min_child_weight': 49}. Best is trial 81 with value: 0.7633160038849309.\n",
      "Validation chromosomes for this trial: ['chr6', 'chr13', 'chr14', 'chr10']\n"
     ]
    },
    {
     "name": "stderr",
     "output_type": "stream",
     "text": [
      "Best trial: 81. Best value: 0.763316:  34%|███▍      | 103/300 [38:24<59:23, 18.09s/it]  "
     ]
    },
    {
     "name": "stdout",
     "output_type": "stream",
     "text": [
      "[I 2025-10-14 03:47:31,858] Trial 102 finished with value: 0.7617108703491826 and parameters: {'booster': 'gbtree', 'booeval_metricster': 'mae', 'learning_rate': 0.038564867711914676, 'max_depth': 10, 'max_leaves': 96, 'subsample': 0.9223082893642213, 'colsample_bytree': 0.6223999277391673, 'alpha': 0.08400626464005005, 'lambda': 1.5424713326158623, 'gamma': 0.005284059165015308, 'min_child_weight': 72}. Best is trial 81 with value: 0.7633160038849309.\n",
      "Validation chromosomes for this trial: ['chr6', 'chr13', 'chr14', 'chr10']\n"
     ]
    },
    {
     "name": "stderr",
     "output_type": "stream",
     "text": [
      "Best trial: 81. Best value: 0.763316:  35%|███▍      | 104/300 [38:35<52:42, 16.14s/it]"
     ]
    },
    {
     "name": "stdout",
     "output_type": "stream",
     "text": [
      "[I 2025-10-14 03:47:43,425] Trial 103 finished with value: 0.7619796502159173 and parameters: {'booster': 'gbtree', 'booeval_metricster': 'mae', 'learning_rate': 0.04228844302008322, 'max_depth': 10, 'max_leaves': 88, 'subsample': 0.9087038990649027, 'colsample_bytree': 0.6398030234256064, 'alpha': 0.1082433452451578, 'lambda': 1.3859742836488635, 'gamma': 0.01224855350864804, 'min_child_weight': 64}. Best is trial 81 with value: 0.7633160038849309.\n",
      "Validation chromosomes for this trial: ['chr6', 'chr13', 'chr14', 'chr10']\n"
     ]
    },
    {
     "name": "stderr",
     "output_type": "stream",
     "text": [
      "Best trial: 104. Best value: 0.76386:  35%|███▌      | 105/300 [38:48<49:30, 15.23s/it]"
     ]
    },
    {
     "name": "stdout",
     "output_type": "stream",
     "text": [
      "[I 2025-10-14 03:47:56,558] Trial 104 finished with value: 0.7638603446499435 and parameters: {'booster': 'gbtree', 'booeval_metricster': 'mae', 'learning_rate': 0.035962471748043, 'max_depth': 10, 'max_leaves': 104, 'subsample': 0.8971619038015882, 'colsample_bytree': 0.6636371114832225, 'alpha': 0.12734537736853208, 'lambda': 1.628472451981166, 'gamma': 0.0024413287883050493, 'min_child_weight': 53}. Best is trial 104 with value: 0.7638603446499435.\n",
      "Validation chromosomes for this trial: ['chr6', 'chr13', 'chr14', 'chr10']\n"
     ]
    },
    {
     "name": "stderr",
     "output_type": "stream",
     "text": [
      "Best trial: 104. Best value: 0.76386:  35%|███▌      | 106/300 [39:02<47:27, 14.68s/it]"
     ]
    },
    {
     "name": "stdout",
     "output_type": "stream",
     "text": [
      "[I 2025-10-14 03:48:09,942] Trial 105 finished with value: 0.760945088298252 and parameters: {'booster': 'gbtree', 'booeval_metricster': 'mae', 'learning_rate': 0.03667420856647965, 'max_depth': 10, 'max_leaves': 104, 'subsample': 0.8652850775270637, 'colsample_bytree': 0.6631143042773131, 'alpha': 0.19857305328390767, 'lambda': 1.49727431628623, 'gamma': 0.0024602039051999816, 'min_child_weight': 53}. Best is trial 104 with value: 0.7638603446499435.\n",
      "Validation chromosomes for this trial: ['chr6', 'chr13', 'chr14', 'chr10']\n"
     ]
    },
    {
     "name": "stderr",
     "output_type": "stream",
     "text": [
      "Best trial: 104. Best value: 0.76386:  36%|███▌      | 107/300 [39:16<46:25, 14.43s/it]"
     ]
    },
    {
     "name": "stdout",
     "output_type": "stream",
     "text": [
      "[I 2025-10-14 03:48:23,808] Trial 106 finished with value: 0.7612847915688132 and parameters: {'booster': 'gbtree', 'booeval_metricster': 'mae', 'learning_rate': 0.03516965357333827, 'max_depth': 10, 'max_leaves': 112, 'subsample': 0.8950243402876845, 'colsample_bytree': 0.675399734453427, 'alpha': 0.12440907569999395, 'lambda': 1.6910721966148465, 'gamma': 0.00019252721210809808, 'min_child_weight': 52}. Best is trial 104 with value: 0.7638603446499435.\n",
      "Validation chromosomes for this trial: ['chr6', 'chr13', 'chr14', 'chr10']\n"
     ]
    },
    {
     "name": "stderr",
     "output_type": "stream",
     "text": [
      "Best trial: 104. Best value: 0.76386:  36%|███▌      | 108/300 [39:28<43:54, 13.72s/it]"
     ]
    },
    {
     "name": "stdout",
     "output_type": "stream",
     "text": [
      "[I 2025-10-14 03:48:35,858] Trial 107 finished with value: 0.7607041488747451 and parameters: {'booster': 'gbtree', 'booeval_metricster': 'mae', 'learning_rate': 0.03229313308770985, 'max_depth': 10, 'max_leaves': 88, 'subsample': 0.8795069322902185, 'colsample_bytree': 0.656698186004853, 'alpha': 0.1649269086845438, 'lambda': 1.204656389079732, 'gamma': 0.008641436391073305, 'min_child_weight': 60}. Best is trial 104 with value: 0.7638603446499435.\n",
      "Validation chromosomes for this trial: ['chr6', 'chr13', 'chr14', 'chr10']\n"
     ]
    },
    {
     "name": "stderr",
     "output_type": "stream",
     "text": [
      "Best trial: 104. Best value: 0.76386:  36%|███▋      | 109/300 [39:41<42:55, 13.49s/it]"
     ]
    },
    {
     "name": "stdout",
     "output_type": "stream",
     "text": [
      "[I 2025-10-14 03:48:48,794] Trial 108 finished with value: 0.7605253828728038 and parameters: {'booster': 'gbtree', 'booeval_metricster': 'mae', 'learning_rate': 0.045279452688657754, 'max_depth': 10, 'max_leaves': 104, 'subsample': 0.9785892805994689, 'colsample_bytree': 0.706451042178145, 'alpha': 0.0660262077114242, 'lambda': 1.4248489716205126, 'gamma': 0.0068547881984262595, 'min_child_weight': 58}. Best is trial 104 with value: 0.7638603446499435.\n",
      "Validation chromosomes for this trial: ['chr6', 'chr13', 'chr14', 'chr10']\n"
     ]
    },
    {
     "name": "stderr",
     "output_type": "stream",
     "text": [
      "Best trial: 104. Best value: 0.76386:  37%|███▋      | 110/300 [39:54<42:14, 13.34s/it]"
     ]
    },
    {
     "name": "stdout",
     "output_type": "stream",
     "text": [
      "[I 2025-10-14 03:49:01,775] Trial 109 finished with value: 0.7533170536779809 and parameters: {'booster': 'gbtree', 'booeval_metricster': 'mae', 'learning_rate': 0.00969475146099334, 'max_depth': 10, 'max_leaves': 80, 'subsample': 0.9076069224058855, 'colsample_bytree': 0.611053139926595, 'alpha': 0.25329612824215664, 'lambda': 1.2587665775492933, 'gamma': 0.004152500304684038, 'min_child_weight': 83}. Best is trial 104 with value: 0.7638603446499435.\n",
      "Validation chromosomes for this trial: ['chr6', 'chr13', 'chr14', 'chr10']\n"
     ]
    },
    {
     "name": "stderr",
     "output_type": "stream",
     "text": [
      "Best trial: 104. Best value: 0.76386:  37%|███▋      | 111/300 [40:07<41:44, 13.25s/it]"
     ]
    },
    {
     "name": "stdout",
     "output_type": "stream",
     "text": [
      "[I 2025-10-14 03:49:14,828] Trial 110 finished with value: 0.760750827812093 and parameters: {'booster': 'gbtree', 'booeval_metricster': 'mae', 'learning_rate': 0.03052197635538168, 'max_depth': 10, 'max_leaves': 104, 'subsample': 0.9394724342209707, 'colsample_bytree': 0.6475819113982573, 'alpha': 0.15757416963481502, 'lambda': 1.5734636864649911, 'gamma': 0.010376622330023004, 'min_child_weight': 67}. Best is trial 104 with value: 0.7638603446499435.\n",
      "Validation chromosomes for this trial: ['chr6', 'chr13', 'chr14', 'chr10']\n"
     ]
    },
    {
     "name": "stderr",
     "output_type": "stream",
     "text": [
      "Best trial: 104. Best value: 0.76386:  37%|███▋      | 112/300 [40:19<40:41, 12.99s/it]"
     ]
    },
    {
     "name": "stdout",
     "output_type": "stream",
     "text": [
      "[I 2025-10-14 03:49:27,209] Trial 111 finished with value: 0.7624427342279675 and parameters: {'booster': 'gbtree', 'booeval_metricster': 'mae', 'learning_rate': 0.03862510194478822, 'max_depth': 9, 'max_leaves': 96, 'subsample': 0.9532522284370885, 'colsample_bytree': 0.631198434470608, 'alpha': 0.40170062207047635, 'lambda': 1.6276558637481184, 'gamma': 0.0015061430991610376, 'min_child_weight': 58}. Best is trial 104 with value: 0.7638603446499435.\n",
      "Validation chromosomes for this trial: ['chr6', 'chr13', 'chr14', 'chr10']\n"
     ]
    },
    {
     "name": "stderr",
     "output_type": "stream",
     "text": [
      "Best trial: 104. Best value: 0.76386:  38%|███▊      | 113/300 [40:30<38:57, 12.50s/it]"
     ]
    },
    {
     "name": "stdout",
     "output_type": "stream",
     "text": [
      "[I 2025-10-14 03:49:38,575] Trial 112 finished with value: 0.7613653220628411 and parameters: {'booster': 'gbtree', 'booeval_metricster': 'mae', 'learning_rate': 0.034315585898797046, 'max_depth': 9, 'max_leaves': 96, 'subsample': 0.9495817813816494, 'colsample_bytree': 0.6919804213888193, 'alpha': 0.3916826724512385, 'lambda': 1.7394393118960811, 'gamma': 0.0014640679554112413, 'min_child_weight': 86}. Best is trial 104 with value: 0.7638603446499435.\n",
      "Validation chromosomes for this trial: ['chr6', 'chr13', 'chr14', 'chr10']\n"
     ]
    },
    {
     "name": "stderr",
     "output_type": "stream",
     "text": [
      "Best trial: 104. Best value: 0.76386:  38%|███▊      | 114/300 [40:44<39:56, 12.89s/it]"
     ]
    },
    {
     "name": "stdout",
     "output_type": "stream",
     "text": [
      "[I 2025-10-14 03:49:52,358] Trial 113 finished with value: 0.7630477379043314 and parameters: {'booster': 'gbtree', 'booeval_metricster': 'mae', 'learning_rate': 0.037197819973746236, 'max_depth': 10, 'max_leaves': 96, 'subsample': 0.9563166183187379, 'colsample_bytree': 0.6279303672094707, 'alpha': 0.2995488974124773, 'lambda': 1.6377860886736113, 'gamma': 0.0030175365530045782, 'min_child_weight': 57}. Best is trial 104 with value: 0.7638603446499435.\n",
      "Validation chromosomes for this trial: ['chr6', 'chr13', 'chr14', 'chr10']\n"
     ]
    },
    {
     "name": "stderr",
     "output_type": "stream",
     "text": [
      "Best trial: 104. Best value: 0.76386:  38%|███▊      | 115/300 [40:57<39:51, 12.92s/it]"
     ]
    },
    {
     "name": "stdout",
     "output_type": "stream",
     "text": [
      "[I 2025-10-14 03:50:05,375] Trial 114 finished with value: 0.7630548785934367 and parameters: {'booster': 'gbtree', 'booeval_metricster': 'mae', 'learning_rate': 0.04071156559799165, 'max_depth': 10, 'max_leaves': 96, 'subsample': 0.9657968953819369, 'colsample_bytree': 0.6652768190090822, 'alpha': 0.2968698259801771, 'lambda': 1.6321913782589736, 'gamma': 0.005819022549218119, 'min_child_weight': 64}. Best is trial 104 with value: 0.7638603446499435.\n",
      "Validation chromosomes for this trial: ['chr6', 'chr13', 'chr14', 'chr10']\n"
     ]
    },
    {
     "name": "stderr",
     "output_type": "stream",
     "text": [
      "Best trial: 104. Best value: 0.76386:  39%|███▊      | 116/300 [41:09<39:05, 12.75s/it]"
     ]
    },
    {
     "name": "stdout",
     "output_type": "stream",
     "text": [
      "[I 2025-10-14 03:50:17,708] Trial 115 finished with value: 0.7618058747177584 and parameters: {'booster': 'gbtree', 'booeval_metricster': 'mae', 'learning_rate': 0.0472024118191362, 'max_depth': 9, 'max_leaves': 112, 'subsample': 0.9654163293073218, 'colsample_bytree': 0.670699291447379, 'alpha': 0.30789234398092685, 'lambda': 1.78574832339241, 'gamma': 0.0028997163575271165, 'min_child_weight': 57}. Best is trial 104 with value: 0.7638603446499435.\n",
      "Validation chromosomes for this trial: ['chr6', 'chr13', 'chr14', 'chr10']\n"
     ]
    },
    {
     "name": "stderr",
     "output_type": "stream",
     "text": [
      "Best trial: 104. Best value: 0.76386:  39%|███▉      | 117/300 [41:23<39:17, 12.88s/it]"
     ]
    },
    {
     "name": "stdout",
     "output_type": "stream",
     "text": [
      "[I 2025-10-14 03:50:30,901] Trial 116 finished with value: 0.7622298104602689 and parameters: {'booster': 'gbtree', 'booeval_metricster': 'mae', 'learning_rate': 0.0405900442670638, 'max_depth': 10, 'max_leaves': 104, 'subsample': 0.992893156067489, 'colsample_bytree': 0.6818542029622152, 'alpha': 0.28484441437577, 'lambda': 1.7093935938751401, 'gamma': 1.8196835557641577e-05, 'min_child_weight': 62}. Best is trial 104 with value: 0.7638603446499435.\n",
      "Validation chromosomes for this trial: ['chr6', 'chr13', 'chr14', 'chr10']\n"
     ]
    },
    {
     "name": "stderr",
     "output_type": "stream",
     "text": [
      "Best trial: 104. Best value: 0.76386:  39%|███▉      | 118/300 [41:35<38:46, 12.78s/it]"
     ]
    },
    {
     "name": "stdout",
     "output_type": "stream",
     "text": [
      "[I 2025-10-14 03:50:43,442] Trial 117 finished with value: 0.7619019359155095 and parameters: {'booster': 'gbtree', 'booeval_metricster': 'mae', 'learning_rate': 0.04031114395235044, 'max_depth': 10, 'max_leaves': 96, 'subsample': 0.9997814590913869, 'colsample_bytree': 0.6652482051312273, 'alpha': 0.42853283523809393, 'lambda': 1.660507751465192, 'gamma': 3.915425753478821e-05, 'min_child_weight': 63}. Best is trial 104 with value: 0.7638603446499435.\n",
      "Validation chromosomes for this trial: ['chr6', 'chr13', 'chr14', 'chr10']\n"
     ]
    },
    {
     "name": "stderr",
     "output_type": "stream",
     "text": [
      "Best trial: 104. Best value: 0.76386:  40%|███▉      | 119/300 [41:49<39:14, 13.01s/it]"
     ]
    },
    {
     "name": "stdout",
     "output_type": "stream",
     "text": [
      "[I 2025-10-14 03:50:56,989] Trial 118 finished with value: 0.7611280330855477 and parameters: {'booster': 'gbtree', 'booeval_metricster': 'mae', 'learning_rate': 0.042371152738323405, 'max_depth': 10, 'max_leaves': 104, 'subsample': 0.9592081169808963, 'colsample_bytree': 0.6824980546952552, 'alpha': 0.3668042560328949, 'lambda': 1.6334464510347315, 'gamma': 0.0013421036720546809, 'min_child_weight': 61}. Best is trial 104 with value: 0.7638603446499435.\n",
      "Validation chromosomes for this trial: ['chr6', 'chr13', 'chr14', 'chr10']\n"
     ]
    },
    {
     "name": "stderr",
     "output_type": "stream",
     "text": [
      "Best trial: 104. Best value: 0.76386:  40%|████      | 120/300 [42:02<39:40, 13.23s/it]"
     ]
    },
    {
     "name": "stdout",
     "output_type": "stream",
     "text": [
      "[I 2025-10-14 03:51:10,722] Trial 119 finished with value: 0.7588708945441642 and parameters: {'booster': 'gbtree', 'booeval_metricster': 'mae', 'learning_rate': 0.01627867229572916, 'max_depth': 9, 'max_leaves': 104, 'subsample': 0.9891089896739248, 'colsample_bytree': 0.6535138594123489, 'alpha': 0.29524335954822967, 'lambda': 1.5772038474159094, 'gamma': 0.005489090453914291, 'min_child_weight': 67}. Best is trial 104 with value: 0.7638603446499435.\n",
      "Validation chromosomes for this trial: ['chr6', 'chr13', 'chr14', 'chr10']\n"
     ]
    },
    {
     "name": "stderr",
     "output_type": "stream",
     "text": [
      "Best trial: 104. Best value: 0.76386:  40%|████      | 121/300 [43:50<2:03:30, 41.40s/it]"
     ]
    },
    {
     "name": "stdout",
     "output_type": "stream",
     "text": [
      "[I 2025-10-14 03:52:57,853] Trial 120 finished with value: 0.7484650053150186 and parameters: {'booster': 'dart', 'booeval_metricster': 'mae', 'learning_rate': 0.006630679121902623, 'max_depth': 7, 'max_leaves': 96, 'subsample': 0.983411095997326, 'colsample_bytree': 0.6401803645129635, 'alpha': 0.23307338924481522, 'lambda': 1.6824644714246766, 'gamma': 0.0027450219663691967, 'min_child_weight': 60}. Best is trial 104 with value: 0.7638603446499435.\n",
      "Validation chromosomes for this trial: ['chr6', 'chr13', 'chr14', 'chr10']\n"
     ]
    },
    {
     "name": "stderr",
     "output_type": "stream",
     "text": [
      "Best trial: 104. Best value: 0.76386:  41%|████      | 122/300 [44:01<1:35:51, 32.31s/it]"
     ]
    },
    {
     "name": "stdout",
     "output_type": "stream",
     "text": [
      "[I 2025-10-14 03:53:08,955] Trial 121 finished with value: 0.7607625320726592 and parameters: {'booster': 'gbtree', 'booeval_metricster': 'mae', 'learning_rate': 0.03347403705017712, 'max_depth': 10, 'max_leaves': 104, 'subsample': 0.9734191283417933, 'colsample_bytree': 0.6174456692657075, 'alpha': 0.3239440387076174, 'lambda': 1.7233114878396212, 'gamma': 0.0016420979115866342, 'min_child_weight': 65}. Best is trial 104 with value: 0.7638603446499435.\n",
      "Validation chromosomes for this trial: ['chr6', 'chr13', 'chr14', 'chr10']\n"
     ]
    },
    {
     "name": "stderr",
     "output_type": "stream",
     "text": [
      "Best trial: 104. Best value: 0.76386:  41%|████      | 123/300 [44:12<1:16:58, 26.09s/it]"
     ]
    },
    {
     "name": "stdout",
     "output_type": "stream",
     "text": [
      "[I 2025-10-14 03:53:20,525] Trial 122 finished with value: 0.7601495209969179 and parameters: {'booster': 'gbtree', 'booeval_metricster': 'mae', 'learning_rate': 0.0402147646655752, 'max_depth': 10, 'max_leaves': 112, 'subsample': 0.9531365418122896, 'colsample_bytree': 0.6943614496883994, 'alpha': 0.28772800419815464, 'lambda': 1.9450323763660262, 'gamma': 0.002569142991508181, 'min_child_weight': 56}. Best is trial 104 with value: 0.7638603446499435.\n",
      "Validation chromosomes for this trial: ['chr6', 'chr13', 'chr14', 'chr10']\n"
     ]
    },
    {
     "name": "stderr",
     "output_type": "stream",
     "text": [
      "Best trial: 104. Best value: 0.76386:  41%|████▏     | 124/300 [44:24<1:04:06, 21.85s/it]"
     ]
    },
    {
     "name": "stdout",
     "output_type": "stream",
     "text": [
      "[I 2025-10-14 03:53:32,509] Trial 123 finished with value: 0.7624265871262426 and parameters: {'booster': 'gbtree', 'booeval_metricster': 'mae', 'learning_rate': 0.03729540739827356, 'max_depth': 10, 'max_leaves': 96, 'subsample': 0.9405836663241444, 'colsample_bytree': 0.7242936162896432, 'alpha': 0.27265554023404115, 'lambda': 1.7923698070271383, 'gamma': 0.0010368526142625258, 'min_child_weight': 52}. Best is trial 104 with value: 0.7638603446499435.\n",
      "Validation chromosomes for this trial: ['chr6', 'chr13', 'chr14', 'chr10']\n"
     ]
    },
    {
     "name": "stderr",
     "output_type": "stream",
     "text": [
      "Best trial: 104. Best value: 0.76386:  42%|████▏     | 125/300 [44:36<55:06, 18.90s/it]  "
     ]
    },
    {
     "name": "stdout",
     "output_type": "stream",
     "text": [
      "[I 2025-10-14 03:53:44,509] Trial 124 finished with value: 0.7613552365198726 and parameters: {'booster': 'gbtree', 'booeval_metricster': 'mae', 'learning_rate': 0.03735401580391851, 'max_depth': 10, 'max_leaves': 96, 'subsample': 0.9374897476841416, 'colsample_bytree': 0.7206731980433115, 'alpha': 0.26710626104028595, 'lambda': 1.8163822396025555, 'gamma': 0.0035141680828505656, 'min_child_weight': 51}. Best is trial 104 with value: 0.7638603446499435.\n",
      "Validation chromosomes for this trial: ['chr6', 'chr13', 'chr14', 'chr10']\n"
     ]
    },
    {
     "name": "stderr",
     "output_type": "stream",
     "text": [
      "Best trial: 104. Best value: 0.76386:  42%|████▏     | 126/300 [44:47<48:05, 16.58s/it]"
     ]
    },
    {
     "name": "stdout",
     "output_type": "stream",
     "text": [
      "[I 2025-10-14 03:53:55,675] Trial 125 finished with value: 0.7610281861130936 and parameters: {'booster': 'gbtree', 'booeval_metricster': 'mae', 'learning_rate': 0.044350228690752155, 'max_depth': 10, 'max_leaves': 88, 'subsample': 0.9711513779347518, 'colsample_bytree': 0.6816127804338069, 'alpha': 0.21261774020756355, 'lambda': 1.624495482380081, 'gamma': 0.0009736684108831604, 'min_child_weight': 58}. Best is trial 104 with value: 0.7638603446499435.\n",
      "Validation chromosomes for this trial: ['chr6', 'chr13', 'chr14', 'chr10']\n"
     ]
    },
    {
     "name": "stderr",
     "output_type": "stream",
     "text": [
      "Best trial: 104. Best value: 0.76386:  42%|████▏     | 127/300 [44:58<42:54, 14.88s/it]"
     ]
    },
    {
     "name": "stdout",
     "output_type": "stream",
     "text": [
      "[I 2025-10-14 03:54:06,597] Trial 126 finished with value: 0.7631476424754229 and parameters: {'booster': 'gbtree', 'booeval_metricster': 'mae', 'learning_rate': 0.039218041205903414, 'max_depth': 10, 'max_leaves': 88, 'subsample': 0.9453877177296253, 'colsample_bytree': 0.6047995721685223, 'alpha': 0.24163504162791793, 'lambda': 1.7495344460483502, 'gamma': 0.004744405716181564, 'min_child_weight': 53}. Best is trial 104 with value: 0.7638603446499435.\n",
      "Validation chromosomes for this trial: ['chr6', 'chr13', 'chr14', 'chr10']\n"
     ]
    },
    {
     "name": "stderr",
     "output_type": "stream",
     "text": [
      "Best trial: 104. Best value: 0.76386:  43%|████▎     | 128/300 [45:09<39:16, 13.70s/it]"
     ]
    },
    {
     "name": "stdout",
     "output_type": "stream",
     "text": [
      "[I 2025-10-14 03:54:17,525] Trial 127 finished with value: 0.7591066834752538 and parameters: {'booster': 'gbtree', 'booeval_metricster': 'mae', 'learning_rate': 0.0402993647115188, 'max_depth': 10, 'max_leaves': 88, 'subsample': 0.988281395313072, 'colsample_bytree': 0.6044016112007666, 'alpha': 0.2944255541146313, 'lambda': 1.774609899181276, 'gamma': 6.1045904857609e-05, 'min_child_weight': 53}. Best is trial 104 with value: 0.7638603446499435.\n",
      "Validation chromosomes for this trial: ['chr6', 'chr13', 'chr14', 'chr10']\n"
     ]
    },
    {
     "name": "stderr",
     "output_type": "stream",
     "text": [
      "Best trial: 104. Best value: 0.76386:  43%|████▎     | 129/300 [45:19<35:28, 12.45s/it]"
     ]
    },
    {
     "name": "stdout",
     "output_type": "stream",
     "text": [
      "[I 2025-10-14 03:54:27,058] Trial 128 finished with value: 0.7606529421749092 and parameters: {'booster': 'gbtree', 'booeval_metricster': 'mae', 'learning_rate': 0.04602063070917584, 'max_depth': 9, 'max_leaves': 80, 'subsample': 0.9540370897975623, 'colsample_bytree': 0.6452913394116662, 'alpha': 0.2638834312711377, 'lambda': 1.701893974316248, 'gamma': 0.0022138734406757627, 'min_child_weight': 49}. Best is trial 104 with value: 0.7638603446499435.\n",
      "Validation chromosomes for this trial: ['chr6', 'chr13', 'chr14', 'chr10']\n"
     ]
    },
    {
     "name": "stderr",
     "output_type": "stream",
     "text": [
      "Best trial: 104. Best value: 0.76386:  43%|████▎     | 130/300 [45:25<29:56, 10.57s/it]"
     ]
    },
    {
     "name": "stdout",
     "output_type": "stream",
     "text": [
      "[I 2025-10-14 03:54:33,258] Trial 129 finished with value: 0.7611668508402534 and parameters: {'booster': 'gbtree', 'booeval_metricster': 'mae', 'learning_rate': 0.042731032833804444, 'max_depth': 6, 'max_leaves': 88, 'subsample': 0.9465632654347023, 'colsample_bytree': 0.6586499331268013, 'alpha': 0.3700699484976648, 'lambda': 1.8731172325092629, 'gamma': 0.004464016138691147, 'min_child_weight': 44}. Best is trial 104 with value: 0.7638603446499435.\n",
      "Validation chromosomes for this trial: ['chr6', 'chr13', 'chr14', 'chr10']\n"
     ]
    },
    {
     "name": "stderr",
     "output_type": "stream",
     "text": [
      "Best trial: 104. Best value: 0.76386:  44%|████▎     | 131/300 [45:36<30:05, 10.68s/it]"
     ]
    },
    {
     "name": "stdout",
     "output_type": "stream",
     "text": [
      "[I 2025-10-14 03:54:44,197] Trial 130 finished with value: 0.7619262706628411 and parameters: {'booster': 'gbtree', 'booeval_metricster': 'mae', 'learning_rate': 0.03880891618939065, 'max_depth': 10, 'max_leaves': 88, 'subsample': 0.9321247316743324, 'colsample_bytree': 0.6324252514895085, 'alpha': 0.40627779203710246, 'lambda': 1.8047647062635077, 'gamma': 0.0011405107748783208, 'min_child_weight': 47}. Best is trial 104 with value: 0.7638603446499435.\n",
      "Validation chromosomes for this trial: ['chr6', 'chr13', 'chr14', 'chr10']\n"
     ]
    },
    {
     "name": "stderr",
     "output_type": "stream",
     "text": [
      "Best trial: 104. Best value: 0.76386:  44%|████▍     | 132/300 [45:46<29:26, 10.51s/it]"
     ]
    },
    {
     "name": "stdout",
     "output_type": "stream",
     "text": [
      "[I 2025-10-14 03:54:54,327] Trial 131 finished with value: 0.7623900648236173 and parameters: {'booster': 'gbtree', 'booeval_metricster': 'mae', 'learning_rate': 0.03537457324155787, 'max_depth': 10, 'max_leaves': 96, 'subsample': 0.9641327740271453, 'colsample_bytree': 0.6100032443676767, 'alpha': 0.23265979245960797, 'lambda': 1.7391923485362404, 'gamma': 0.005853762226918925, 'min_child_weight': 63}. Best is trial 104 with value: 0.7638603446499435.\n",
      "Validation chromosomes for this trial: ['chr6', 'chr13', 'chr14', 'chr10']\n"
     ]
    },
    {
     "name": "stderr",
     "output_type": "stream",
     "text": [
      "Best trial: 104. Best value: 0.76386:  44%|████▍     | 133/300 [45:57<29:25, 10.57s/it]"
     ]
    },
    {
     "name": "stdout",
     "output_type": "stream",
     "text": [
      "[I 2025-10-14 03:55:05,031] Trial 132 finished with value: 0.7601239906245221 and parameters: {'booster': 'gbtree', 'booeval_metricster': 'mae', 'learning_rate': 0.03429409803966986, 'max_depth': 10, 'max_leaves': 96, 'subsample': 0.9655710731979618, 'colsample_bytree': 0.6070606244184532, 'alpha': 0.3073089914961411, 'lambda': 1.6110891846975033, 'gamma': 0.004933900015727433, 'min_child_weight': 69}. Best is trial 104 with value: 0.7638603446499435.\n",
      "Validation chromosomes for this trial: ['chr6', 'chr13', 'chr14', 'chr10']\n"
     ]
    },
    {
     "name": "stderr",
     "output_type": "stream",
     "text": [
      "Best trial: 104. Best value: 0.76386:  45%|████▍     | 134/300 [46:07<29:10, 10.54s/it]"
     ]
    },
    {
     "name": "stdout",
     "output_type": "stream",
     "text": [
      "[I 2025-10-14 03:55:15,502] Trial 133 finished with value: 0.7607078100954844 and parameters: {'booster': 'gbtree', 'booeval_metricster': 'mae', 'learning_rate': 0.03606841127564703, 'max_depth': 10, 'max_leaves': 96, 'subsample': 0.978155785010275, 'colsample_bytree': 0.620616856535171, 'alpha': 0.20287420038758572, 'lambda': 1.7496507144777567, 'gamma': 0.0074750051162376235, 'min_child_weight': 63}. Best is trial 104 with value: 0.7638603446499435.\n",
      "Validation chromosomes for this trial: ['chr6', 'chr13', 'chr14', 'chr10']\n"
     ]
    },
    {
     "name": "stderr",
     "output_type": "stream",
     "text": [
      "Best trial: 104. Best value: 0.76386:  45%|████▌     | 135/300 [46:18<28:58, 10.54s/it]"
     ]
    },
    {
     "name": "stdout",
     "output_type": "stream",
     "text": [
      "[I 2025-10-14 03:55:26,021] Trial 134 finished with value: 0.7603681457581676 and parameters: {'booster': 'gbtree', 'booeval_metricster': 'mae', 'learning_rate': 0.03174725549651421, 'max_depth': 10, 'max_leaves': 88, 'subsample': 0.9415245327192965, 'colsample_bytree': 0.6005133252900634, 'alpha': 0.24503131879149337, 'lambda': 1.7238597427264037, 'gamma': 0.0037545404256681004, 'min_child_weight': 55}. Best is trial 104 with value: 0.7638603446499435.\n",
      "Validation chromosomes for this trial: ['chr6', 'chr13', 'chr14', 'chr10']\n"
     ]
    },
    {
     "name": "stderr",
     "output_type": "stream",
     "text": [
      "Best trial: 104. Best value: 0.76386:  45%|████▌     | 136/300 [46:31<31:20, 11.46s/it]"
     ]
    },
    {
     "name": "stdout",
     "output_type": "stream",
     "text": [
      "[I 2025-10-14 03:55:39,658] Trial 135 finished with value: 0.7590473850416602 and parameters: {'booster': 'gbtree', 'booeval_metricster': 'mae', 'learning_rate': 0.038465753847447576, 'max_depth': 10, 'max_leaves': 104, 'subsample': 0.9587167001341049, 'colsample_bytree': 0.8373547023451298, 'alpha': 0.33323123298629514, 'lambda': 1.557996947045184, 'gamma': 0.009376442243571963, 'min_child_weight': 40}. Best is trial 104 with value: 0.7638603446499435.\n",
      "Validation chromosomes for this trial: ['chr6', 'chr13', 'chr14', 'chr10']\n"
     ]
    },
    {
     "name": "stderr",
     "output_type": "stream",
     "text": [
      "Best trial: 104. Best value: 0.76386:  46%|████▌     | 137/300 [46:41<29:39, 10.92s/it]"
     ]
    },
    {
     "name": "stdout",
     "output_type": "stream",
     "text": [
      "[I 2025-10-14 03:55:49,277] Trial 136 finished with value: 0.7625604407338913 and parameters: {'booster': 'gbtree', 'booeval_metricster': 'mae', 'learning_rate': 0.03564288296511691, 'max_depth': 10, 'max_leaves': 80, 'subsample': 0.9315191826852333, 'colsample_bytree': 0.6279089528263503, 'alpha': 0.2781365475105672, 'lambda': 1.6539303499592668, 'gamma': 0.0028928507889962114, 'min_child_weight': 62}. Best is trial 104 with value: 0.7638603446499435.\n",
      "Validation chromosomes for this trial: ['chr6', 'chr13', 'chr14', 'chr10']\n"
     ]
    },
    {
     "name": "stderr",
     "output_type": "stream",
     "text": [
      "Best trial: 104. Best value: 0.76386:  46%|████▌     | 138/300 [46:51<28:33, 10.58s/it]"
     ]
    },
    {
     "name": "stdout",
     "output_type": "stream",
     "text": [
      "[I 2025-10-14 03:55:59,078] Trial 137 finished with value: 0.762279311350143 and parameters: {'booster': 'gbtree', 'booeval_metricster': 'mae', 'learning_rate': 0.03520849682738438, 'max_depth': 10, 'max_leaves': 80, 'subsample': 0.9301123364986116, 'colsample_bytree': 0.6269623178142794, 'alpha': 0.17796186583738965, 'lambda': 1.6535249538264685, 'gamma': 0.005933917236688315, 'min_child_weight': 53}. Best is trial 104 with value: 0.7638603446499435.\n",
      "Validation chromosomes for this trial: ['chr6', 'chr13', 'chr14', 'chr10']\n"
     ]
    },
    {
     "name": "stderr",
     "output_type": "stream",
     "text": [
      "Best trial: 104. Best value: 0.76386:  46%|████▋     | 139/300 [48:35<1:43:33, 38.59s/it]"
     ]
    },
    {
     "name": "stdout",
     "output_type": "stream",
     "text": [
      "[I 2025-10-14 03:57:43,040] Trial 138 finished with value: 0.7608229749460504 and parameters: {'booster': 'dart', 'booeval_metricster': 'mae', 'learning_rate': 0.032963323402858784, 'max_depth': 10, 'max_leaves': 72, 'subsample': 0.9442104226767637, 'colsample_bytree': 0.6389320060488298, 'alpha': 0.2488832194172824, 'lambda': 1.6325586578763875, 'gamma': 0.03985360608291996, 'min_child_weight': 60}. Best is trial 104 with value: 0.7638603446499435.\n",
      "Validation chromosomes for this trial: ['chr6', 'chr13', 'chr14', 'chr10']\n"
     ]
    },
    {
     "name": "stderr",
     "output_type": "stream",
     "text": [
      "Best trial: 104. Best value: 0.76386:  47%|████▋     | 140/300 [48:45<1:20:10, 30.07s/it]"
     ]
    },
    {
     "name": "stdout",
     "output_type": "stream",
     "text": [
      "[I 2025-10-14 03:57:53,207] Trial 139 finished with value: 0.7574824509795248 and parameters: {'booster': 'gbtree', 'booeval_metricster': 'mae', 'learning_rate': 0.036726220089512165, 'max_depth': 9, 'max_leaves': 88, 'subsample': 0.5272488512394806, 'colsample_bytree': 0.9982435281818297, 'alpha': 0.35068418377275673, 'lambda': 1.5888464997403486, 'gamma': 0.00254484930340399, 'min_child_weight': 66}. Best is trial 104 with value: 0.7638603446499435.\n",
      "Validation chromosomes for this trial: ['chr6', 'chr13', 'chr14', 'chr10']\n"
     ]
    },
    {
     "name": "stderr",
     "output_type": "stream",
     "text": [
      "Best trial: 104. Best value: 0.76386:  47%|████▋     | 141/300 [48:56<1:04:18, 24.27s/it]"
     ]
    },
    {
     "name": "stdout",
     "output_type": "stream",
     "text": [
      "[I 2025-10-14 03:58:03,957] Trial 140 finished with value: 0.7629689271374824 and parameters: {'booster': 'gbtree', 'booeval_metricster': 'mae', 'learning_rate': 0.028897103003499455, 'max_depth': 10, 'max_leaves': 80, 'subsample': 0.9110869333048855, 'colsample_bytree': 0.7480865826100915, 'alpha': 0.32033027061632646, 'lambda': 1.526005110442126, 'gamma': 0.005003972777527291, 'min_child_weight': 70}. Best is trial 104 with value: 0.7638603446499435.\n",
      "Validation chromosomes for this trial: ['chr6', 'chr13', 'chr14', 'chr10']\n"
     ]
    },
    {
     "name": "stderr",
     "output_type": "stream",
     "text": [
      "Best trial: 104. Best value: 0.76386:  47%|████▋     | 142/300 [49:06<52:39, 20.00s/it]  "
     ]
    },
    {
     "name": "stdout",
     "output_type": "stream",
     "text": [
      "[I 2025-10-14 03:58:13,993] Trial 141 finished with value: 0.7614736940801153 and parameters: {'booster': 'gbtree', 'booeval_metricster': 'mae', 'learning_rate': 0.028401725156321816, 'max_depth': 10, 'max_leaves': 80, 'subsample': 0.9101150511271168, 'colsample_bytree': 0.6165363287490152, 'alpha': 0.27425234097743134, 'lambda': 1.507779232107264, 'gamma': 0.005218120546061379, 'min_child_weight': 69}. Best is trial 104 with value: 0.7638603446499435.\n",
      "Validation chromosomes for this trial: ['chr6', 'chr13', 'chr14', 'chr10']\n"
     ]
    },
    {
     "name": "stderr",
     "output_type": "stream",
     "text": [
      "Best trial: 104. Best value: 0.76386:  48%|████▊     | 143/300 [49:16<44:24, 16.97s/it]"
     ]
    },
    {
     "name": "stdout",
     "output_type": "stream",
     "text": [
      "[I 2025-10-14 03:58:23,895] Trial 142 finished with value: 0.7614112107705389 and parameters: {'booster': 'gbtree', 'booeval_metricster': 'mae', 'learning_rate': 0.0355518316506226, 'max_depth': 10, 'max_leaves': 80, 'subsample': 0.9317038843952897, 'colsample_bytree': 0.6241534629643019, 'alpha': 0.3113894707291376, 'lambda': 1.5499248004123338, 'gamma': 0.00331704574646416, 'min_child_weight': 72}. Best is trial 104 with value: 0.7638603446499435.\n",
      "Validation chromosomes for this trial: ['chr6', 'chr13', 'chr14', 'chr10']\n"
     ]
    },
    {
     "name": "stderr",
     "output_type": "stream",
     "text": [
      "Best trial: 104. Best value: 0.76386:  48%|████▊     | 144/300 [49:26<39:18, 15.12s/it]"
     ]
    },
    {
     "name": "stdout",
     "output_type": "stream",
     "text": [
      "[I 2025-10-14 03:58:34,709] Trial 143 finished with value: 0.7617732108410107 and parameters: {'booster': 'gbtree', 'booeval_metricster': 'mae', 'learning_rate': 0.03365362785114521, 'max_depth': 10, 'max_leaves': 72, 'subsample': 0.9542906168015063, 'colsample_bytree': 0.7520388907007317, 'alpha': 0.32609470753923375, 'lambda': 1.7799442136450256, 'gamma': 0.034815679890500384, 'min_child_weight': 70}. Best is trial 104 with value: 0.7638603446499435.\n",
      "Validation chromosomes for this trial: ['chr6', 'chr13', 'chr14', 'chr10']\n"
     ]
    },
    {
     "name": "stderr",
     "output_type": "stream",
     "text": [
      "Best trial: 104. Best value: 0.76386:  48%|████▊     | 145/300 [49:36<34:56, 13.52s/it]"
     ]
    },
    {
     "name": "stdout",
     "output_type": "stream",
     "text": [
      "[I 2025-10-14 03:58:44,507] Trial 144 finished with value: 0.7610139539211637 and parameters: {'booster': 'gbtree', 'booeval_metricster': 'mae', 'learning_rate': 0.03010019700212949, 'max_depth': 10, 'max_leaves': 80, 'subsample': 0.9011927971634028, 'colsample_bytree': 0.6105728251526, 'alpha': 0.3821395768029085, 'lambda': 1.4468950968972667, 'gamma': 0.004379164937826044, 'min_child_weight': 73}. Best is trial 104 with value: 0.7638603446499435.\n",
      "Validation chromosomes for this trial: ['chr6', 'chr13', 'chr14', 'chr10']\n"
     ]
    },
    {
     "name": "stderr",
     "output_type": "stream",
     "text": [
      "Best trial: 104. Best value: 0.76386:  49%|████▊     | 146/300 [49:48<33:21, 13.00s/it]"
     ]
    },
    {
     "name": "stdout",
     "output_type": "stream",
     "text": [
      "[I 2025-10-14 03:58:56,258] Trial 145 finished with value: 0.761690986670768 and parameters: {'booster': 'gbtree', 'booeval_metricster': 'mae', 'learning_rate': 0.03180773635606534, 'max_depth': 10, 'max_leaves': 88, 'subsample': 0.9639444887101892, 'colsample_bytree': 0.732449934439534, 'alpha': 0.23039627536512983, 'lambda': 1.687017633122075, 'gamma': 0.006496778002223618, 'min_child_weight': 57}. Best is trial 104 with value: 0.7638603446499435.\n",
      "Validation chromosomes for this trial: ['chr6', 'chr13', 'chr14', 'chr10']\n"
     ]
    },
    {
     "name": "stderr",
     "output_type": "stream",
     "text": [
      "Best trial: 104. Best value: 0.76386:  49%|████▉     | 147/300 [50:00<32:13, 12.64s/it]"
     ]
    },
    {
     "name": "stdout",
     "output_type": "stream",
     "text": [
      "[I 2025-10-14 03:59:08,058] Trial 146 finished with value: 0.7617957887041179 and parameters: {'booster': 'gbtree', 'booeval_metricster': 'mae', 'learning_rate': 0.03748685308519522, 'max_depth': 10, 'max_leaves': 96, 'subsample': 0.9415904529576506, 'colsample_bytree': 0.7198178703112592, 'alpha': 0.2669725403691251, 'lambda': 1.5259832229528065, 'gamma': 0.00189247437548184, 'min_child_weight': 50}. Best is trial 104 with value: 0.7638603446499435.\n",
      "Validation chromosomes for this trial: ['chr6', 'chr13', 'chr14', 'chr10']\n"
     ]
    },
    {
     "name": "stderr",
     "output_type": "stream",
     "text": [
      "Best trial: 104. Best value: 0.76386:  49%|████▉     | 148/300 [50:10<29:57, 11.83s/it]"
     ]
    },
    {
     "name": "stdout",
     "output_type": "stream",
     "text": [
      "[I 2025-10-14 03:59:17,996] Trial 147 finished with value: 0.7622280218822088 and parameters: {'booster': 'gbtree', 'booeval_metricster': 'mae', 'learning_rate': 0.04190831904968705, 'max_depth': 10, 'max_leaves': 64, 'subsample': 0.9148128689078906, 'colsample_bytree': 0.7009398891176571, 'alpha': 0.4325239792148505, 'lambda': 1.6063515138756352, 'gamma': 0.003517922174718989, 'min_child_weight': 62}. Best is trial 104 with value: 0.7638603446499435.\n",
      "Validation chromosomes for this trial: ['chr6', 'chr13', 'chr14', 'chr10']\n"
     ]
    },
    {
     "name": "stderr",
     "output_type": "stream",
     "text": [
      "Best trial: 104. Best value: 0.76386:  50%|████▉     | 149/300 [50:21<29:12, 11.60s/it]"
     ]
    },
    {
     "name": "stdout",
     "output_type": "stream",
     "text": [
      "[I 2025-10-14 03:59:29,075] Trial 148 finished with value: 0.761799374409811 and parameters: {'booster': 'gbtree', 'booeval_metricster': 'mae', 'learning_rate': 0.03853101873193601, 'max_depth': 10, 'max_leaves': 96, 'subsample': 0.8885680262155424, 'colsample_bytree': 0.6336809529367428, 'alpha': 0.5094614166554358, 'lambda': 1.848160690849301, 'gamma': 0.001261931419656973, 'min_child_weight': 64}. Best is trial 104 with value: 0.7638603446499435.\n",
      "Validation chromosomes for this trial: ['chr6', 'chr13', 'chr14', 'chr10']\n"
     ]
    },
    {
     "name": "stderr",
     "output_type": "stream",
     "text": [
      "Best trial: 104. Best value: 0.76386:  50%|█████     | 150/300 [50:31<27:43, 11.09s/it]"
     ]
    },
    {
     "name": "stdout",
     "output_type": "stream",
     "text": [
      "[I 2025-10-14 03:59:38,975] Trial 149 finished with value: 0.7605791556345115 and parameters: {'booster': 'gbtree', 'booeval_metricster': 'mae', 'learning_rate': 0.03438116097607949, 'max_depth': 9, 'max_leaves': 80, 'subsample': 0.9311038710196176, 'colsample_bytree': 0.6492850538381296, 'alpha': 0.30042588977842843, 'lambda': 1.6639808025690448, 'gamma': 0.004901099990591293, 'min_child_weight': 52}. Best is trial 104 with value: 0.7638603446499435.\n",
      "Validation chromosomes for this trial: ['chr6', 'chr13', 'chr14', 'chr10']\n"
     ]
    },
    {
     "name": "stderr",
     "output_type": "stream",
     "text": [
      "Best trial: 104. Best value: 0.76386:  50%|█████     | 151/300 [50:42<27:44, 11.17s/it]"
     ]
    },
    {
     "name": "stdout",
     "output_type": "stream",
     "text": [
      "[I 2025-10-14 03:59:50,340] Trial 150 finished with value: 0.7625365150133038 and parameters: {'booster': 'gbtree', 'booeval_metricster': 'mae', 'learning_rate': 0.02707870997191677, 'max_depth': 10, 'max_leaves': 88, 'subsample': 0.9735230492558257, 'colsample_bytree': 0.7615313776246967, 'alpha': 0.35510461494220935, 'lambda': 1.9057522223281995, 'gamma': 0.007732042314279724, 'min_child_weight': 76}. Best is trial 104 with value: 0.7638603446499435.\n",
      "Validation chromosomes for this trial: ['chr6', 'chr13', 'chr14', 'chr10']\n"
     ]
    },
    {
     "name": "stderr",
     "output_type": "stream",
     "text": [
      "Best trial: 104. Best value: 0.76386:  51%|█████     | 152/300 [50:53<27:11, 11.03s/it]"
     ]
    },
    {
     "name": "stdout",
     "output_type": "stream",
     "text": [
      "[I 2025-10-14 04:00:01,016] Trial 151 finished with value: 0.7601428663807164 and parameters: {'booster': 'gbtree', 'booeval_metricster': 'mae', 'learning_rate': 0.03595652433131341, 'max_depth': 10, 'max_leaves': 88, 'subsample': 0.9796427839501299, 'colsample_bytree': 0.7639905498860284, 'alpha': 0.355569280428434, 'lambda': 1.895449038933692, 'gamma': 0.007179755012866319, 'min_child_weight': 77}. Best is trial 104 with value: 0.7638603446499435.\n",
      "Validation chromosomes for this trial: ['chr6', 'chr13', 'chr14', 'chr10']\n"
     ]
    },
    {
     "name": "stderr",
     "output_type": "stream",
     "text": [
      "Best trial: 104. Best value: 0.76386:  51%|█████     | 153/300 [51:04<27:17, 11.14s/it]"
     ]
    },
    {
     "name": "stdout",
     "output_type": "stream",
     "text": [
      "[I 2025-10-14 04:00:12,421] Trial 152 finished with value: 0.7613358507959134 and parameters: {'booster': 'gbtree', 'booeval_metricster': 'mae', 'learning_rate': 0.028933961933012273, 'max_depth': 10, 'max_leaves': 88, 'subsample': 0.9697021859953049, 'colsample_bytree': 0.7407035609450426, 'alpha': 0.33649405606329286, 'lambda': 1.9331305002898764, 'gamma': 0.007831124351121052, 'min_child_weight': 71}. Best is trial 104 with value: 0.7638603446499435.\n",
      "Validation chromosomes for this trial: ['chr6', 'chr13', 'chr14', 'chr10']\n"
     ]
    },
    {
     "name": "stderr",
     "output_type": "stream",
     "text": [
      "Best trial: 104. Best value: 0.76386:  51%|█████▏    | 154/300 [51:15<27:11, 11.18s/it]"
     ]
    },
    {
     "name": "stdout",
     "output_type": "stream",
     "text": [
      "[I 2025-10-14 04:00:23,683] Trial 153 finished with value: 0.7604572869191987 and parameters: {'booster': 'gbtree', 'booeval_metricster': 'mae', 'learning_rate': 0.02628433297488323, 'max_depth': 10, 'max_leaves': 88, 'subsample': 0.9528528024084065, 'colsample_bytree': 0.7809886062103241, 'alpha': 0.39257066246390804, 'lambda': 1.3944902820321636, 'gamma': 0.002903350937449343, 'min_child_weight': 68}. Best is trial 104 with value: 0.7638603446499435.\n",
      "Validation chromosomes for this trial: ['chr6', 'chr13', 'chr14', 'chr10']\n"
     ]
    },
    {
     "name": "stderr",
     "output_type": "stream",
     "text": [
      "Best trial: 104. Best value: 0.76386:  52%|█████▏    | 155/300 [51:26<26:28, 10.95s/it]"
     ]
    },
    {
     "name": "stdout",
     "output_type": "stream",
     "text": [
      "[I 2025-10-14 04:00:34,125] Trial 154 finished with value: 0.7616958144226401 and parameters: {'booster': 'gbtree', 'booeval_metricster': 'mae', 'learning_rate': 0.026769980533668167, 'max_depth': 10, 'max_leaves': 96, 'subsample': 0.948479081640209, 'colsample_bytree': 0.7558738367499742, 'alpha': 0.19412044917322352, 'lambda': 1.7497880098181195, 'gamma': 0.00911468300574788, 'min_child_weight': 76}. Best is trial 104 with value: 0.7638603446499435.\n",
      "Validation chromosomes for this trial: ['chr6', 'chr13', 'chr14', 'chr10']\n"
     ]
    },
    {
     "name": "stderr",
     "output_type": "stream",
     "text": [
      "Best trial: 104. Best value: 0.76386:  52%|█████▏    | 156/300 [51:37<26:33, 11.06s/it]"
     ]
    },
    {
     "name": "stdout",
     "output_type": "stream",
     "text": [
      "[I 2025-10-14 04:00:45,442] Trial 155 finished with value: 0.7609324377303218 and parameters: {'booster': 'gbtree', 'booeval_metricster': 'mae', 'learning_rate': 0.03949434038872252, 'max_depth': 10, 'max_leaves': 96, 'subsample': 0.9613249361066079, 'colsample_bytree': 0.7264978722799516, 'alpha': 0.32575275534843334, 'lambda': 1.82163714328873, 'gamma': 0.005335757625763354, 'min_child_weight': 74}. Best is trial 104 with value: 0.7638603446499435.\n",
      "Validation chromosomes for this trial: ['chr6', 'chr13', 'chr14', 'chr10']\n"
     ]
    },
    {
     "name": "stderr",
     "output_type": "stream",
     "text": [
      "Best trial: 104. Best value: 0.76386:  52%|█████▏    | 157/300 [51:47<25:28, 10.69s/it]"
     ]
    },
    {
     "name": "stdout",
     "output_type": "stream",
     "text": [
      "[I 2025-10-14 04:00:55,241] Trial 156 finished with value: 0.7609017861930457 and parameters: {'booster': 'gbtree', 'booeval_metricster': 'mae', 'learning_rate': 0.031272166944601165, 'max_depth': 8, 'max_leaves': 88, 'subsample': 0.9246848166682942, 'colsample_bytree': 0.958113976154276, 'alpha': 0.14248480492661067, 'lambda': 1.4682015456590511, 'gamma': 0.01204714973891112, 'min_child_weight': 55}. Best is trial 104 with value: 0.7638603446499435.\n",
      "Validation chromosomes for this trial: ['chr6', 'chr13', 'chr14', 'chr10']\n"
     ]
    },
    {
     "name": "stderr",
     "output_type": "stream",
     "text": [
      "Best trial: 104. Best value: 0.76386:  53%|█████▎    | 158/300 [51:58<25:34, 10.81s/it]"
     ]
    },
    {
     "name": "stdout",
     "output_type": "stream",
     "text": [
      "[I 2025-10-14 04:01:06,345] Trial 157 finished with value: 0.7604898734292926 and parameters: {'booster': 'gbtree', 'booeval_metricster': 'mae', 'learning_rate': 0.03287867400221268, 'max_depth': 10, 'max_leaves': 80, 'subsample': 0.9383328317147273, 'colsample_bytree': 0.7662314502389461, 'alpha': 0.28133657460925593, 'lambda': 1.8925071737862844, 'gamma': 0.004042968156036759, 'min_child_weight': 42}. Best is trial 104 with value: 0.7638603446499435.\n",
      "Validation chromosomes for this trial: ['chr6', 'chr13', 'chr14', 'chr10']\n"
     ]
    },
    {
     "name": "stderr",
     "output_type": "stream",
     "text": [
      "Best trial: 104. Best value: 0.76386:  53%|█████▎    | 159/300 [52:08<24:50, 10.57s/it]"
     ]
    },
    {
     "name": "stdout",
     "output_type": "stream",
     "text": [
      "[I 2025-10-14 04:01:16,350] Trial 158 finished with value: 0.7607350612277821 and parameters: {'booster': 'gbtree', 'booeval_metricster': 'mae', 'learning_rate': 0.041006407102988876, 'max_depth': 10, 'max_leaves': 72, 'subsample': 0.9012012946427708, 'colsample_bytree': 0.7112520896431813, 'alpha': 0.22165315293912785, 'lambda': 1.9620751003074317, 'gamma': 0.001988868459444036, 'min_child_weight': 59}. Best is trial 104 with value: 0.7638603446499435.\n",
      "Validation chromosomes for this trial: ['chr6', 'chr13', 'chr14', 'chr10']\n"
     ]
    },
    {
     "name": "stderr",
     "output_type": "stream",
     "text": [
      "Best trial: 104. Best value: 0.76386:  53%|█████▎    | 160/300 [52:21<26:02, 11.16s/it]"
     ]
    },
    {
     "name": "stdout",
     "output_type": "stream",
     "text": [
      "[I 2025-10-14 04:01:28,875] Trial 159 finished with value: 0.759868345807985 and parameters: {'booster': 'gbtree', 'booeval_metricster': 'mae', 'learning_rate': 0.023261660570495033, 'max_depth': 10, 'max_leaves': 96, 'subsample': 0.9734213639120681, 'colsample_bytree': 0.7485186087881892, 'alpha': 0.3660591349096877, 'lambda': 1.5592596056974906, 'gamma': 0.0011671082621069247, 'min_child_weight': 45}. Best is trial 104 with value: 0.7638603446499435.\n",
      "Validation chromosomes for this trial: ['chr6', 'chr13', 'chr14', 'chr10']\n"
     ]
    },
    {
     "name": "stderr",
     "output_type": "stream",
     "text": [
      "Best trial: 104. Best value: 0.76386:  54%|█████▎    | 161/300 [52:31<25:05, 10.83s/it]"
     ]
    },
    {
     "name": "stdout",
     "output_type": "stream",
     "text": [
      "[I 2025-10-14 04:01:38,958] Trial 160 finished with value: 0.759438269534262 and parameters: {'booster': 'gbtree', 'booeval_metricster': 'mae', 'learning_rate': 0.037372655662580044, 'max_depth': 10, 'max_leaves': 80, 'subsample': 0.6929122014312545, 'colsample_bytree': 0.7991723987312446, 'alpha': 0.24788317757493372, 'lambda': 1.6373092117056998, 'gamma': 0.006142817334368359, 'min_child_weight': 65}. Best is trial 104 with value: 0.7638603446499435.\n",
      "Validation chromosomes for this trial: ['chr6', 'chr13', 'chr14', 'chr10']\n"
     ]
    },
    {
     "name": "stderr",
     "output_type": "stream",
     "text": [
      "Best trial: 104. Best value: 0.76386:  54%|█████▍    | 162/300 [52:41<24:21, 10.59s/it]"
     ]
    },
    {
     "name": "stdout",
     "output_type": "stream",
     "text": [
      "[I 2025-10-14 04:01:48,991] Trial 161 finished with value: 0.7622094281235081 and parameters: {'booster': 'gbtree', 'booeval_metricster': 'mae', 'learning_rate': 0.035373404650211465, 'max_depth': 10, 'max_leaves': 80, 'subsample': 0.926663001858725, 'colsample_bytree': 0.6262896959636581, 'alpha': 0.17170209237853354, 'lambda': 1.3459917013847622, 'gamma': 0.006195076485732252, 'min_child_weight': 53}. Best is trial 104 with value: 0.7638603446499435.\n",
      "Validation chromosomes for this trial: ['chr6', 'chr13', 'chr14', 'chr10']\n"
     ]
    },
    {
     "name": "stderr",
     "output_type": "stream",
     "text": [
      "Best trial: 104. Best value: 0.76386:  54%|█████▍    | 163/300 [52:51<24:01, 10.52s/it]"
     ]
    },
    {
     "name": "stdout",
     "output_type": "stream",
     "text": [
      "[I 2025-10-14 04:01:59,342] Trial 162 finished with value: 0.7636876977680421 and parameters: {'booster': 'gbtree', 'booeval_metricster': 'mae', 'learning_rate': 0.03515287709346691, 'max_depth': 10, 'max_leaves': 80, 'subsample': 0.9166442864071103, 'colsample_bytree': 0.6291128948493605, 'alpha': 0.1879432789006828, 'lambda': 1.6525620289456577, 'gamma': 0.003034379179346914, 'min_child_weight': 57}. Best is trial 104 with value: 0.7638603446499435.\n",
      "Validation chromosomes for this trial: ['chr6', 'chr13', 'chr14', 'chr10']\n"
     ]
    },
    {
     "name": "stderr",
     "output_type": "stream",
     "text": [
      "Best trial: 104. Best value: 0.76386:  55%|█████▍    | 164/300 [53:03<24:35, 10.85s/it]"
     ]
    },
    {
     "name": "stdout",
     "output_type": "stream",
     "text": [
      "[I 2025-10-14 04:02:10,959] Trial 163 finished with value: 0.7604144383943813 and parameters: {'booster': 'gbtree', 'booeval_metricster': 'mae', 'learning_rate': 0.04375533710833919, 'max_depth': 10, 'max_leaves': 88, 'subsample': 0.915943296456596, 'colsample_bytree': 0.8216013813700682, 'alpha': 0.10129976797002027, 'lambda': 1.6990998183523278, 'gamma': 0.0031350276235780584, 'min_child_weight': 56}. Best is trial 104 with value: 0.7638603446499435.\n",
      "Validation chromosomes for this trial: ['chr6', 'chr13', 'chr14', 'chr10']\n"
     ]
    },
    {
     "name": "stderr",
     "output_type": "stream",
     "text": [
      "Best trial: 104. Best value: 0.76386:  55%|█████▌    | 165/300 [53:07<20:08,  8.95s/it]"
     ]
    },
    {
     "name": "stdout",
     "output_type": "stream",
     "text": [
      "[I 2025-10-14 04:02:15,457] Trial 164 finished with value: 0.7566805759368683 and parameters: {'booster': 'gbtree', 'booeval_metricster': 'mae', 'learning_rate': 0.03916383038626186, 'max_depth': 10, 'max_leaves': 16, 'subsample': 0.9459846016199017, 'colsample_bytree': 0.61462602198807, 'alpha': 0.19975988723242918, 'lambda': 1.78152599194025, 'gamma': 0.045394594141266155, 'min_child_weight': 80}. Best is trial 104 with value: 0.7638603446499435.\n",
      "Validation chromosomes for this trial: ['chr6', 'chr13', 'chr14', 'chr10']\n"
     ]
    },
    {
     "name": "stderr",
     "output_type": "stream",
     "text": [
      "Best trial: 104. Best value: 0.76386:  55%|█████▌    | 166/300 [53:17<20:41,  9.26s/it]"
     ]
    },
    {
     "name": "stdout",
     "output_type": "stream",
     "text": [
      "[I 2025-10-14 04:02:25,458] Trial 165 finished with value: 0.7602304580934547 and parameters: {'booster': 'gbtree', 'booeval_metricster': 'mae', 'learning_rate': 0.033158848929299774, 'max_depth': 10, 'max_leaves': 72, 'subsample': 0.9060982752268726, 'colsample_bytree': 0.631613447835913, 'alpha': 0.2591379943864952, 'lambda': 1.5923083802487745, 'gamma': 0.0020315923879913956, 'min_child_weight': 60}. Best is trial 104 with value: 0.7638603446499435.\n",
      "Validation chromosomes for this trial: ['chr6', 'chr13', 'chr14', 'chr10']\n"
     ]
    },
    {
     "name": "stderr",
     "output_type": "stream",
     "text": [
      "Best trial: 104. Best value: 0.76386:  56%|█████▌    | 167/300 [53:27<21:04,  9.51s/it]"
     ]
    },
    {
     "name": "stdout",
     "output_type": "stream",
     "text": [
      "[I 2025-10-14 04:02:35,547] Trial 166 finished with value: 0.7621027153127473 and parameters: {'booster': 'gbtree', 'booeval_metricster': 'mae', 'learning_rate': 0.03690416707655244, 'max_depth': 10, 'max_leaves': 80, 'subsample': 0.9583970631687465, 'colsample_bytree': 0.6171729182528229, 'alpha': 0.29903713360525735, 'lambda': 1.8486517424389988, 'gamma': 0.004335729447323088, 'min_child_weight': 50}. Best is trial 104 with value: 0.7638603446499435.\n",
      "Validation chromosomes for this trial: ['chr6', 'chr13', 'chr14', 'chr10']\n"
     ]
    },
    {
     "name": "stderr",
     "output_type": "stream",
     "text": [
      "Best trial: 104. Best value: 0.76386:  56%|█████▌    | 168/300 [55:15<1:25:33, 38.89s/it]"
     ]
    },
    {
     "name": "stdout",
     "output_type": "stream",
     "text": [
      "[I 2025-10-14 04:04:22,975] Trial 167 finished with value: 0.7609580874373846 and parameters: {'booster': 'dart', 'booeval_metricster': 'mae', 'learning_rate': 0.03470654882896207, 'max_depth': 10, 'max_leaves': 96, 'subsample': 0.8922816242397694, 'colsample_bytree': 0.6427527683356474, 'alpha': 0.22778259690687136, 'lambda': 1.498394631032438, 'gamma': 0.0007462970434753845, 'min_child_weight': 57}. Best is trial 104 with value: 0.7638603446499435.\n",
      "Validation chromosomes for this trial: ['chr6', 'chr13', 'chr14', 'chr10']\n"
     ]
    },
    {
     "name": "stderr",
     "output_type": "stream",
     "text": [
      "Best trial: 104. Best value: 0.76386:  56%|█████▋    | 169/300 [55:25<1:06:25, 30.43s/it]"
     ]
    },
    {
     "name": "stdout",
     "output_type": "stream",
     "text": [
      "[I 2025-10-14 04:04:33,675] Trial 168 finished with value: 0.760329348844687 and parameters: {'booster': 'gbtree', 'booeval_metricster': 'mae', 'learning_rate': 0.030843060478914514, 'max_depth': 10, 'max_leaves': 88, 'subsample': 0.9355724308153764, 'colsample_bytree': 0.6065931291939238, 'alpha': 0.4158994448095105, 'lambda': 1.7270629780186386, 'gamma': 0.014682629661793602, 'min_child_weight': 62}. Best is trial 104 with value: 0.7638603446499435.\n",
      "Validation chromosomes for this trial: ['chr6', 'chr13', 'chr14', 'chr10']\n"
     ]
    },
    {
     "name": "stderr",
     "output_type": "stream",
     "text": [
      "Best trial: 104. Best value: 0.76386:  57%|█████▋    | 170/300 [55:37<53:22, 24.64s/it]  "
     ]
    },
    {
     "name": "stdout",
     "output_type": "stream",
     "text": [
      "[I 2025-10-14 04:04:44,797] Trial 169 finished with value: 0.760128060621738 and parameters: {'booster': 'gbtree', 'booeval_metricster': 'mae', 'learning_rate': 0.020449164333654752, 'max_depth': 10, 'max_leaves': 96, 'subsample': 0.9868570682392493, 'colsample_bytree': 0.6213700836793872, 'alpha': 0.2778760847233711, 'lambda': 1.6712735779671744, 'gamma': 0.0028345331706361877, 'min_child_weight': 54}. Best is trial 104 with value: 0.7638603446499435.\n",
      "Validation chromosomes for this trial: ['chr6', 'chr13', 'chr14', 'chr10']\n"
     ]
    },
    {
     "name": "stderr",
     "output_type": "stream",
     "text": [
      "Best trial: 104. Best value: 0.76386:  57%|█████▋    | 171/300 [55:45<42:26, 19.74s/it]"
     ]
    },
    {
     "name": "stdout",
     "output_type": "stream",
     "text": [
      "[I 2025-10-14 04:04:53,108] Trial 170 finished with value: 0.7615091691590061 and parameters: {'booster': 'gbtree', 'booeval_metricster': 'mae', 'learning_rate': 0.04058218961785369, 'max_depth': 8, 'max_leaves': 88, 'subsample': 0.9187547975148824, 'colsample_bytree': 0.6373009568862055, 'alpha': 0.20880823327517986, 'lambda': 1.630510723256576, 'gamma': 0.003611139559407638, 'min_child_weight': 75}. Best is trial 104 with value: 0.7638603446499435.\n",
      "Validation chromosomes for this trial: ['chr6', 'chr13', 'chr14', 'chr10']\n"
     ]
    },
    {
     "name": "stderr",
     "output_type": "stream",
     "text": [
      "Best trial: 104. Best value: 0.76386:  57%|█████▋    | 172/300 [55:55<36:08, 16.94s/it]"
     ]
    },
    {
     "name": "stdout",
     "output_type": "stream",
     "text": [
      "[I 2025-10-14 04:05:03,533] Trial 171 finished with value: 0.7626989895904582 and parameters: {'booster': 'gbtree', 'booeval_metricster': 'mae', 'learning_rate': 0.03542307952653369, 'max_depth': 10, 'max_leaves': 80, 'subsample': 0.9330695593890999, 'colsample_bytree': 0.6275185343366508, 'alpha': 0.15163735795464472, 'lambda': 1.6762521343743542, 'gamma': 0.006107877737764266, 'min_child_weight': 52}. Best is trial 104 with value: 0.7638603446499435.\n",
      "Validation chromosomes for this trial: ['chr6', 'chr13', 'chr14', 'chr10']\n"
     ]
    },
    {
     "name": "stderr",
     "output_type": "stream",
     "text": [
      "Best trial: 104. Best value: 0.76386:  58%|█████▊    | 173/300 [56:05<31:29, 14.87s/it]"
     ]
    },
    {
     "name": "stdout",
     "output_type": "stream",
     "text": [
      "[I 2025-10-14 04:05:13,576] Trial 172 finished with value: 0.7622553881092463 and parameters: {'booster': 'gbtree', 'booeval_metricster': 'mae', 'learning_rate': 0.0380758016314097, 'max_depth': 10, 'max_leaves': 80, 'subsample': 0.949607376251798, 'colsample_bytree': 0.6323740978898564, 'alpha': 0.1685928026440989, 'lambda': 1.753532010173998, 'gamma': 0.005020923951546746, 'min_child_weight': 47}. Best is trial 104 with value: 0.7638603446499435.\n",
      "Validation chromosomes for this trial: ['chr6', 'chr13', 'chr14', 'chr10']\n"
     ]
    },
    {
     "name": "stderr",
     "output_type": "stream",
     "text": [
      "Best trial: 104. Best value: 0.76386:  58%|█████▊    | 174/300 [56:15<28:17, 13.47s/it]"
     ]
    },
    {
     "name": "stdout",
     "output_type": "stream",
     "text": [
      "[I 2025-10-14 04:05:23,757] Trial 173 finished with value: 0.7606420714670584 and parameters: {'booster': 'gbtree', 'booeval_metricster': 'mae', 'learning_rate': 0.03656680877453062, 'max_depth': 10, 'max_leaves': 80, 'subsample': 0.9692381163699768, 'colsample_bytree': 0.6006605179373902, 'alpha': 0.15925167196008538, 'lambda': 1.573408091178794, 'gamma': 0.007852172340515377, 'min_child_weight': 52}. Best is trial 104 with value: 0.7638603446499435.\n",
      "Validation chromosomes for this trial: ['chr6', 'chr13', 'chr14', 'chr10']\n"
     ]
    },
    {
     "name": "stderr",
     "output_type": "stream",
     "text": [
      "Best trial: 104. Best value: 0.76386:  58%|█████▊    | 175/300 [56:25<25:49, 12.39s/it]"
     ]
    },
    {
     "name": "stdout",
     "output_type": "stream",
     "text": [
      "[I 2025-10-14 04:05:33,641] Trial 174 finished with value: 0.7546211825801956 and parameters: {'booster': 'gbtree', 'booeval_metricster': 'mae', 'learning_rate': 0.011856931259310886, 'max_depth': 10, 'max_leaves': 72, 'subsample': 0.9335942144075318, 'colsample_bytree': 0.6257518173995269, 'alpha': 0.13413511165591563, 'lambda': 1.687735765399785, 'gamma': 0.002098889236327241, 'min_child_weight': 58}. Best is trial 104 with value: 0.7638603446499435.\n",
      "Validation chromosomes for this trial: ['chr6', 'chr13', 'chr14', 'chr10']\n"
     ]
    },
    {
     "name": "stderr",
     "output_type": "stream",
     "text": [
      "Best trial: 104. Best value: 0.76386:  59%|█████▊    | 176/300 [56:30<21:00, 10.17s/it]"
     ]
    },
    {
     "name": "stdout",
     "output_type": "stream",
     "text": [
      "[I 2025-10-14 04:05:38,624] Trial 175 finished with value: 0.7559987487255115 and parameters: {'booster': 'gbtree', 'booeval_metricster': 'mae', 'learning_rate': 0.02513744388220119, 'max_depth': 5, 'max_leaves': 88, 'subsample': 0.9235048478293716, 'colsample_bytree': 0.6102469989750121, 'alpha': 0.18573085705138342, 'lambda': 1.437306933882871, 'gamma': 0.005056978407123036, 'min_child_weight': 56}. Best is trial 104 with value: 0.7638603446499435.\n",
      "Validation chromosomes for this trial: ['chr6', 'chr13', 'chr14', 'chr10']\n"
     ]
    },
    {
     "name": "stderr",
     "output_type": "stream",
     "text": [
      "Best trial: 104. Best value: 0.76386:  59%|█████▉    | 177/300 [56:43<22:12, 10.84s/it]"
     ]
    },
    {
     "name": "stdout",
     "output_type": "stream",
     "text": [
      "[I 2025-10-14 04:05:51,025] Trial 176 finished with value: 0.7625731213764813 and parameters: {'booster': 'gbtree', 'booeval_metricster': 'rmse', 'learning_rate': 0.03442822359566285, 'max_depth': 10, 'max_leaves': 104, 'subsample': 0.9125264873091503, 'colsample_bytree': 0.6427200542488227, 'alpha': 0.31523258059582976, 'lambda': 1.8056396448195233, 'gamma': 0.004185532662799963, 'min_child_weight': 54}. Best is trial 104 with value: 0.7638603446499435.\n",
      "Validation chromosomes for this trial: ['chr6', 'chr13', 'chr14', 'chr10']\n"
     ]
    },
    {
     "name": "stderr",
     "output_type": "stream",
     "text": [
      "Best trial: 104. Best value: 0.76386:  59%|█████▉    | 178/300 [56:55<23:03, 11.34s/it]"
     ]
    },
    {
     "name": "stdout",
     "output_type": "stream",
     "text": [
      "[I 2025-10-14 04:06:03,542] Trial 177 finished with value: 0.7474510705824748 and parameters: {'booster': 'gbtree', 'booeval_metricster': 'rmse', 'learning_rate': 0.005382452036261004, 'max_depth': 10, 'max_leaves': 104, 'subsample': 0.9052790028972456, 'colsample_bytree': 0.6486832935100918, 'alpha': 0.3570599971326123, 'lambda': 1.5251934217011118, 'gamma': 0.004002477485497497, 'min_child_weight': 38}. Best is trial 104 with value: 0.7638603446499435.\n",
      "Validation chromosomes for this trial: ['chr6', 'chr13', 'chr14', 'chr10']\n"
     ]
    },
    {
     "name": "stderr",
     "output_type": "stream",
     "text": [
      "Best trial: 104. Best value: 0.76386:  60%|█████▉    | 179/300 [57:06<22:14, 11.03s/it]"
     ]
    },
    {
     "name": "stdout",
     "output_type": "stream",
     "text": [
      "[I 2025-10-14 04:06:13,832] Trial 178 finished with value: 0.7599075078217952 and parameters: {'booster': 'gbtree', 'booeval_metricster': 'rmse', 'learning_rate': 0.03233258843585415, 'max_depth': 9, 'max_leaves': 112, 'subsample': 0.9147004016328861, 'colsample_bytree': 0.6594816977730418, 'alpha': 0.31906728654331123, 'lambda': 1.9830233902121095, 'gamma': 0.0008741621151451835, 'min_child_weight': 54}. Best is trial 104 with value: 0.7638603446499435.\n",
      "Validation chromosomes for this trial: ['chr6', 'chr13', 'chr14', 'chr10']\n"
     ]
    },
    {
     "name": "stderr",
     "output_type": "stream",
     "text": [
      "Best trial: 104. Best value: 0.76386:  60%|██████    | 180/300 [57:17<22:21, 11.18s/it]"
     ]
    },
    {
     "name": "stdout",
     "output_type": "stream",
     "text": [
      "[I 2025-10-14 04:06:25,359] Trial 179 finished with value: 0.7602624901311517 and parameters: {'booster': 'gbtree', 'booeval_metricster': 'rmse', 'learning_rate': 0.02971159404544239, 'max_depth': 10, 'max_leaves': 104, 'subsample': 0.875489576871119, 'colsample_bytree': 0.6420238890286072, 'alpha': 0.4572406209130119, 'lambda': 1.7905733542133635, 'gamma': 0.0024798085612784413, 'min_child_weight': 49}. Best is trial 104 with value: 0.7638603446499435.\n",
      "Validation chromosomes for this trial: ['chr6', 'chr13', 'chr14', 'chr10']\n"
     ]
    },
    {
     "name": "stderr",
     "output_type": "stream",
     "text": [
      "Best trial: 104. Best value: 0.76386:  60%|██████    | 181/300 [57:28<21:45, 10.97s/it]"
     ]
    },
    {
     "name": "stdout",
     "output_type": "stream",
     "text": [
      "[I 2025-10-14 04:06:35,859] Trial 180 finished with value: 0.7615033550866939 and parameters: {'booster': 'gbtree', 'booeval_metricster': 'rmse', 'learning_rate': 0.033899558493972255, 'max_depth': 10, 'max_leaves': 80, 'subsample': 0.8973634071292825, 'colsample_bytree': 0.6519841707477395, 'alpha': 0.3344972633650086, 'lambda': 1.6153039998856888, 'gamma': 0.003213785032931072, 'min_child_weight': 48}. Best is trial 104 with value: 0.7638603446499435.\n",
      "Validation chromosomes for this trial: ['chr6', 'chr13', 'chr14', 'chr10']\n"
     ]
    },
    {
     "name": "stderr",
     "output_type": "stream",
     "text": [
      "Best trial: 104. Best value: 0.76386:  61%|██████    | 182/300 [57:38<21:19, 10.84s/it]"
     ]
    },
    {
     "name": "stdout",
     "output_type": "stream",
     "text": [
      "[I 2025-10-14 04:06:46,395] Trial 181 finished with value: 0.7593889420811639 and parameters: {'booster': 'gbtree', 'booeval_metricster': 'rmse', 'learning_rate': 0.03543769841352656, 'max_depth': 10, 'max_leaves': 96, 'subsample': 0.9587050263043775, 'colsample_bytree': 0.6216132929737408, 'alpha': 0.11786278105414949, 'lambda': 1.7186116980594777, 'gamma': 0.03769366383077259, 'min_child_weight': 51}. Best is trial 104 with value: 0.7638603446499435.\n",
      "Validation chromosomes for this trial: ['chr6', 'chr13', 'chr14', 'chr10']\n"
     ]
    },
    {
     "name": "stderr",
     "output_type": "stream",
     "text": [
      "Best trial: 104. Best value: 0.76386:  61%|██████    | 183/300 [57:49<21:20, 10.95s/it]"
     ]
    },
    {
     "name": "stdout",
     "output_type": "stream",
     "text": [
      "[I 2025-10-14 04:06:57,576] Trial 182 finished with value: 0.7601673684464901 and parameters: {'booster': 'gbtree', 'booeval_metricster': 'mae', 'learning_rate': 0.03883349912411165, 'max_depth': 10, 'max_leaves': 96, 'subsample': 0.9426603655180102, 'colsample_bytree': 0.6290416767036773, 'alpha': 0.2995976956386359, 'lambda': 1.8233068428092776, 'gamma': 0.005893537226641318, 'min_child_weight': 59}. Best is trial 104 with value: 0.7638603446499435.\n",
      "Validation chromosomes for this trial: ['chr6', 'chr13', 'chr14', 'chr10']\n"
     ]
    },
    {
     "name": "stderr",
     "output_type": "stream",
     "text": [
      "Best trial: 104. Best value: 0.76386:  61%|██████▏   | 184/300 [58:00<21:11, 10.96s/it]"
     ]
    },
    {
     "name": "stdout",
     "output_type": "stream",
     "text": [
      "[I 2025-10-14 04:07:08,592] Trial 183 finished with value: 0.7594838183569543 and parameters: {'booster': 'gbtree', 'booeval_metricster': 'mae', 'learning_rate': 0.03664277456688096, 'max_depth': 10, 'max_leaves': 104, 'subsample': 0.9274493982146212, 'colsample_bytree': 0.6165627557559209, 'alpha': 0.24455500641118869, 'lambda': 1.6481476322816062, 'gamma': 0.006561668413326786, 'min_child_weight': 55}. Best is trial 104 with value: 0.7638603446499435.\n",
      "Validation chromosomes for this trial: ['chr6', 'chr13', 'chr14', 'chr10']\n"
     ]
    },
    {
     "name": "stderr",
     "output_type": "stream",
     "text": [
      "Best trial: 104. Best value: 0.76386:  62%|██████▏   | 185/300 [58:10<20:09, 10.52s/it]"
     ]
    },
    {
     "name": "stdout",
     "output_type": "stream",
     "text": [
      "[I 2025-10-14 04:07:18,074] Trial 184 finished with value: 0.7608818435527636 and parameters: {'booster': 'gbtree', 'booeval_metricster': 'rmse', 'learning_rate': 0.041905482633994774, 'max_depth': 10, 'max_leaves': 88, 'subsample': 0.9103511018188394, 'colsample_bytree': 0.6383156272361293, 'alpha': 0.2817712938835884, 'lambda': 1.7515618527592807, 'gamma': 0.004577629855750685, 'min_child_weight': 63}. Best is trial 104 with value: 0.7638603446499435.\n",
      "Validation chromosomes for this trial: ['chr6', 'chr13', 'chr14', 'chr10']\n"
     ]
    },
    {
     "name": "stderr",
     "output_type": "stream",
     "text": [
      "Best trial: 104. Best value: 0.76386:  62%|██████▏   | 186/300 [58:21<20:17, 10.68s/it]"
     ]
    },
    {
     "name": "stdout",
     "output_type": "stream",
     "text": [
      "[I 2025-10-14 04:07:29,142] Trial 185 finished with value: 0.7604009972134824 and parameters: {'booster': 'gbtree', 'booeval_metricster': 'mae', 'learning_rate': 0.0340988786939992, 'max_depth': 10, 'max_leaves': 104, 'subsample': 0.978311582888343, 'colsample_bytree': 0.6101912728058972, 'alpha': 0.26454934833055915, 'lambda': 1.8716840871265685, 'gamma': 0.007323355076577055, 'min_child_weight': 66}. Best is trial 104 with value: 0.7638603446499435.\n",
      "Validation chromosomes for this trial: ['chr6', 'chr13', 'chr14', 'chr10']\n"
     ]
    },
    {
     "name": "stderr",
     "output_type": "stream",
     "text": [
      "Best trial: 104. Best value: 0.76386:  62%|██████▏   | 187/300 [58:31<19:52, 10.55s/it]"
     ]
    },
    {
     "name": "stdout",
     "output_type": "stream",
     "text": [
      "[I 2025-10-14 04:07:39,358] Trial 186 finished with value: 0.7600092948501023 and parameters: {'booster': 'gbtree', 'booeval_metricster': 'mae', 'learning_rate': 0.03940888217378839, 'max_depth': 10, 'max_leaves': 88, 'subsample': 0.9382606170157655, 'colsample_bytree': 0.6292847225989142, 'alpha': 0.21657481892157798, 'lambda': 1.6892312078560563, 'gamma': 0.0016964634229689867, 'min_child_weight': 52}. Best is trial 104 with value: 0.7638603446499435.\n",
      "Validation chromosomes for this trial: ['chr6', 'chr13', 'chr14', 'chr10']\n"
     ]
    },
    {
     "name": "stderr",
     "output_type": "stream",
     "text": [
      "Best trial: 104. Best value: 0.76386:  63%|██████▎   | 188/300 [58:39<18:01,  9.66s/it]"
     ]
    },
    {
     "name": "stdout",
     "output_type": "stream",
     "text": [
      "[I 2025-10-14 04:07:46,958] Trial 187 finished with value: 0.7612450638565479 and parameters: {'booster': 'gbtree', 'booeval_metricster': 'mae', 'learning_rate': 0.03187737249831183, 'max_depth': 7, 'max_leaves': 96, 'subsample': 0.952446162137273, 'colsample_bytree': 0.6203927620032097, 'alpha': 0.1439448792955269, 'lambda': 1.5805587762318722, 'gamma': 0.0037704381391605677, 'min_child_weight': 57}. Best is trial 104 with value: 0.7638603446499435.\n",
      "Validation chromosomes for this trial: ['chr6', 'chr13', 'chr14', 'chr10']\n"
     ]
    },
    {
     "name": "stderr",
     "output_type": "stream",
     "text": [
      "Best trial: 104. Best value: 0.76386:  63%|██████▎   | 189/300 [58:50<18:58, 10.26s/it]"
     ]
    },
    {
     "name": "stdout",
     "output_type": "stream",
     "text": [
      "[I 2025-10-14 04:07:58,609] Trial 188 finished with value: 0.7616809062816462 and parameters: {'booster': 'gbtree', 'booeval_metricster': 'mae', 'learning_rate': 0.027921996157769385, 'max_depth': 10, 'max_leaves': 88, 'subsample': 0.9643871462025161, 'colsample_bytree': 0.6414390913696165, 'alpha': 0.31446814230008635, 'lambda': 1.9213980052432253, 'gamma': 0.0055424040583800785, 'min_child_weight': 61}. Best is trial 104 with value: 0.7638603446499435.\n",
      "Validation chromosomes for this trial: ['chr6', 'chr13', 'chr14', 'chr10']\n"
     ]
    },
    {
     "name": "stderr",
     "output_type": "stream",
     "text": [
      "Best trial: 104. Best value: 0.76386:  63%|██████▎   | 190/300 [59:00<18:23, 10.03s/it]"
     ]
    },
    {
     "name": "stdout",
     "output_type": "stream",
     "text": [
      "[I 2025-10-14 04:08:08,098] Trial 189 finished with value: 0.7573345557525986 and parameters: {'booster': 'gbtree', 'booeval_metricster': 'rmse', 'learning_rate': 0.03754584695740449, 'max_depth': 10, 'max_leaves': 80, 'subsample': 0.9195640122436359, 'colsample_bytree': 0.7287369366793507, 'alpha': 0.34508451509444943, 'lambda': 0.7826190133544626, 'gamma': 0.0005253549303371305, 'min_child_weight': 59}. Best is trial 104 with value: 0.7638603446499435.\n",
      "Validation chromosomes for this trial: ['chr6', 'chr13', 'chr14', 'chr10']\n"
     ]
    },
    {
     "name": "stderr",
     "output_type": "stream",
     "text": [
      "Best trial: 104. Best value: 0.76386:  64%|██████▎   | 191/300 [59:13<19:44, 10.87s/it]"
     ]
    },
    {
     "name": "stdout",
     "output_type": "stream",
     "text": [
      "[I 2025-10-14 04:08:20,926] Trial 190 finished with value: 0.761141811656015 and parameters: {'booster': 'gbtree', 'booeval_metricster': 'mae', 'learning_rate': 0.0359661030667003, 'max_depth': 10, 'max_leaves': 96, 'subsample': 0.9332877735162506, 'colsample_bytree': 0.746499303180671, 'alpha': 0.3791524250497519, 'lambda': 1.8013270941008732, 'gamma': 0.0488352398516241, 'min_child_weight': 55}. Best is trial 104 with value: 0.7638603446499435.\n",
      "Validation chromosomes for this trial: ['chr6', 'chr13', 'chr14', 'chr10']\n"
     ]
    },
    {
     "name": "stderr",
     "output_type": "stream",
     "text": [
      "Best trial: 104. Best value: 0.76386:  64%|██████▍   | 192/300 [59:24<19:34, 10.87s/it]"
     ]
    },
    {
     "name": "stdout",
     "output_type": "stream",
     "text": [
      "[I 2025-10-14 04:08:31,825] Trial 191 finished with value: 0.7621664144054263 and parameters: {'booster': 'gbtree', 'booeval_metricster': 'mae', 'learning_rate': 0.034962157939844724, 'max_depth': 10, 'max_leaves': 80, 'subsample': 0.9267345397426456, 'colsample_bytree': 0.6274243593172235, 'alpha': 0.17175366042832713, 'lambda': 1.6546949349552935, 'gamma': 0.006225730277154909, 'min_child_weight': 52}. Best is trial 104 with value: 0.7638603446499435.\n",
      "Validation chromosomes for this trial: ['chr6', 'chr13', 'chr14', 'chr10']\n"
     ]
    },
    {
     "name": "stderr",
     "output_type": "stream",
     "text": [
      "Best trial: 104. Best value: 0.76386:  64%|██████▍   | 193/300 [59:34<19:05, 10.71s/it]"
     ]
    },
    {
     "name": "stdout",
     "output_type": "stream",
     "text": [
      "[I 2025-10-14 04:08:42,129] Trial 192 finished with value: 0.7618786992140706 and parameters: {'booster': 'gbtree', 'booeval_metricster': 'mae', 'learning_rate': 0.03485776046638669, 'max_depth': 10, 'max_leaves': 72, 'subsample': 0.9447373773496599, 'colsample_bytree': 0.6346684522491438, 'alpha': 0.18126878321750717, 'lambda': 1.6391213527055082, 'gamma': 0.00535967570426815, 'min_child_weight': 53}. Best is trial 104 with value: 0.7638603446499435.\n",
      "Validation chromosomes for this trial: ['chr6', 'chr13', 'chr14', 'chr10']\n"
     ]
    },
    {
     "name": "stderr",
     "output_type": "stream",
     "text": [
      "Best trial: 104. Best value: 0.76386:  65%|██████▍   | 194/300 [59:45<19:01, 10.77s/it]"
     ]
    },
    {
     "name": "stdout",
     "output_type": "stream",
     "text": [
      "[I 2025-10-14 04:08:53,026] Trial 193 finished with value: 0.7611882339050076 and parameters: {'booster': 'gbtree', 'booeval_metricster': 'mae', 'learning_rate': 0.03273815008597459, 'max_depth': 10, 'max_leaves': 80, 'subsample': 0.9311537240059029, 'colsample_bytree': 0.6128877778890245, 'alpha': 0.2458680079490273, 'lambda': 1.7284828311388838, 'gamma': 0.0044387353832423294, 'min_child_weight': 54}. Best is trial 104 with value: 0.7638603446499435.\n",
      "Validation chromosomes for this trial: ['chr6', 'chr13', 'chr14', 'chr10']\n"
     ]
    },
    {
     "name": "stderr",
     "output_type": "stream",
     "text": [
      "Best trial: 104. Best value: 0.76386:  65%|██████▌   | 195/300 [59:56<19:04, 10.90s/it]"
     ]
    },
    {
     "name": "stdout",
     "output_type": "stream",
     "text": [
      "[I 2025-10-14 04:09:04,234] Trial 194 finished with value: 0.7606318061218066 and parameters: {'booster': 'gbtree', 'booeval_metricster': 'mae', 'learning_rate': 0.04025283767071632, 'max_depth': 10, 'max_leaves': 80, 'subsample': 0.8879728961221873, 'colsample_bytree': 0.622017376387586, 'alpha': 0.19761619783354656, 'lambda': 1.5454160861057025, 'gamma': 0.008526535834808783, 'min_child_weight': 57}. Best is trial 104 with value: 0.7638603446499435.\n",
      "Validation chromosomes for this trial: ['chr6', 'chr13', 'chr14', 'chr10']\n"
     ]
    },
    {
     "name": "stderr",
     "output_type": "stream",
     "text": [
      "Best trial: 104. Best value: 0.76386:  65%|██████▌   | 196/300 [1:00:06<18:34, 10.72s/it]"
     ]
    },
    {
     "name": "stdout",
     "output_type": "stream",
     "text": [
      "[I 2025-10-14 04:09:14,548] Trial 195 finished with value: 0.7614293075280619 and parameters: {'booster': 'gbtree', 'booeval_metricster': 'mae', 'learning_rate': 0.038059609217693934, 'max_depth': 10, 'max_leaves': 80, 'subsample': 0.9097550982979333, 'colsample_bytree': 0.6277574901240879, 'alpha': 0.15060990682320186, 'lambda': 1.6716733531308738, 'gamma': 0.002723614542705568, 'min_child_weight': 51}. Best is trial 104 with value: 0.7638603446499435.\n",
      "Validation chromosomes for this trial: ['chr6', 'chr13', 'chr14', 'chr10']\n"
     ]
    },
    {
     "name": "stderr",
     "output_type": "stream",
     "text": [
      "Best trial: 104. Best value: 0.76386:  66%|██████▌   | 197/300 [1:00:17<18:13, 10.62s/it]"
     ]
    },
    {
     "name": "stdout",
     "output_type": "stream",
     "text": [
      "[I 2025-10-14 04:09:24,909] Trial 196 finished with value: 0.7622381268969908 and parameters: {'booster': 'gbtree', 'booeval_metricster': 'mae', 'learning_rate': 0.036166171015277394, 'max_depth': 10, 'max_leaves': 88, 'subsample': 0.9671256684479385, 'colsample_bytree': 0.6458467679592289, 'alpha': 0.30077998389925753, 'lambda': 1.4767330324948826, 'gamma': 0.006969579441528956, 'min_child_weight': 71}. Best is trial 104 with value: 0.7638603446499435.\n",
      "Validation chromosomes for this trial: ['chr6', 'chr13', 'chr14', 'chr10']\n"
     ]
    },
    {
     "name": "stderr",
     "output_type": "stream",
     "text": [
      "Best trial: 104. Best value: 0.76386:  66%|██████▌   | 198/300 [1:02:06<1:08:18, 40.18s/it]"
     ]
    },
    {
     "name": "stdout",
     "output_type": "stream",
     "text": [
      "[I 2025-10-14 04:11:14,075] Trial 197 finished with value: 0.7613047441160223 and parameters: {'booster': 'dart', 'booeval_metricster': 'mae', 'learning_rate': 0.033528280223281054, 'max_depth': 10, 'max_leaves': 104, 'subsample': 0.9568647879928636, 'colsample_bytree': 0.6330513728861699, 'alpha': 0.22802556767442955, 'lambda': 1.606679361586024, 'gamma': 0.0018090762311358526, 'min_child_weight': 65}. Best is trial 104 with value: 0.7638603446499435.\n",
      "Validation chromosomes for this trial: ['chr6', 'chr13', 'chr14', 'chr10']\n"
     ]
    },
    {
     "name": "stderr",
     "output_type": "stream",
     "text": [
      "Best trial: 104. Best value: 0.76386:  66%|██████▋   | 199/300 [1:02:17<52:49, 31.38s/it]  "
     ]
    },
    {
     "name": "stdout",
     "output_type": "stream",
     "text": [
      "[I 2025-10-14 04:11:24,926] Trial 198 finished with value: 0.7623373678816304 and parameters: {'booster': 'gbtree', 'booeval_metricster': 'mae', 'learning_rate': 0.04223982549730023, 'max_depth': 10, 'max_leaves': 88, 'subsample': 0.9423829015425659, 'colsample_bytree': 0.816310078635935, 'alpha': 0.09556032824148308, 'lambda': 1.7602831870708662, 'gamma': 0.003623218462099601, 'min_child_weight': 68}. Best is trial 104 with value: 0.7638603446499435.\n",
      "Validation chromosomes for this trial: ['chr6', 'chr13', 'chr14', 'chr10']\n"
     ]
    },
    {
     "name": "stderr",
     "output_type": "stream",
     "text": [
      "Best trial: 104. Best value: 0.76386:  67%|██████▋   | 200/300 [1:02:27<42:01, 25.21s/it]"
     ]
    },
    {
     "name": "stdout",
     "output_type": "stream",
     "text": [
      "[I 2025-10-14 04:11:35,742] Trial 199 finished with value: 0.7589738495310804 and parameters: {'booster': 'gbtree', 'booeval_metricster': 'mae', 'learning_rate': 0.04253821182955537, 'max_depth': 10, 'max_leaves': 88, 'subsample': 0.9459863309309618, 'colsample_bytree': 0.8122699440639748, 'alpha': 0.08379159288384969, 'lambda': 1.8314562515964246, 'gamma': 0.0034064449549028753, 'min_child_weight': 67}. Best is trial 104 with value: 0.7638603446499435.\n",
      "Validation chromosomes for this trial: ['chr6', 'chr13', 'chr14', 'chr10']\n"
     ]
    },
    {
     "name": "stderr",
     "output_type": "stream",
     "text": [
      "Best trial: 104. Best value: 0.76386:  67%|██████▋   | 201/300 [1:02:38<34:11, 20.73s/it]"
     ]
    },
    {
     "name": "stdout",
     "output_type": "stream",
     "text": [
      "[I 2025-10-14 04:11:46,008] Trial 200 finished with value: 0.7612522350554101 and parameters: {'booster': 'gbtree', 'booeval_metricster': 'rmse', 'learning_rate': 0.040528119575004844, 'max_depth': 10, 'max_leaves': 96, 'subsample': 0.9766499371514646, 'colsample_bytree': 0.8331118071763385, 'alpha': 0.10852796961591288, 'lambda': 1.771820198973677, 'gamma': 0.0024758643782000775, 'min_child_weight': 69}. Best is trial 104 with value: 0.7638603446499435.\n",
      "Validation chromosomes for this trial: ['chr6', 'chr13', 'chr14', 'chr10']\n"
     ]
    },
    {
     "name": "stderr",
     "output_type": "stream",
     "text": [
      "Best trial: 104. Best value: 0.76386:  67%|██████▋   | 202/300 [1:02:48<28:35, 17.50s/it]"
     ]
    },
    {
     "name": "stdout",
     "output_type": "stream",
     "text": [
      "[I 2025-10-14 04:11:55,993] Trial 201 finished with value: 0.7596990824609127 and parameters: {'booster': 'gbtree', 'booeval_metricster': 'mae', 'learning_rate': 0.04460158116766024, 'max_depth': 10, 'max_leaves': 88, 'subsample': 0.9363165212229964, 'colsample_bytree': 0.6704374135475581, 'alpha': 0.12317636760042708, 'lambda': 1.7056374028042636, 'gamma': 0.00455909934032317, 'min_child_weight': 73}. Best is trial 104 with value: 0.7638603446499435.\n",
      "Validation chromosomes for this trial: ['chr6', 'chr13', 'chr14', 'chr10']\n"
     ]
    },
    {
     "name": "stderr",
     "output_type": "stream",
     "text": [
      "Best trial: 104. Best value: 0.76386:  68%|██████▊   | 203/300 [1:02:59<25:23, 15.70s/it]"
     ]
    },
    {
     "name": "stdout",
     "output_type": "stream",
     "text": [
      "[I 2025-10-14 04:12:07,497] Trial 202 finished with value: 0.7586676257798691 and parameters: {'booster': 'gbtree', 'booeval_metricster': 'mae', 'learning_rate': 0.015072735170124302, 'max_depth': 10, 'max_leaves': 80, 'subsample': 0.9201683352315356, 'colsample_bytree': 0.8193468878815358, 'alpha': 0.2694465055506792, 'lambda': 1.6606995505817501, 'gamma': 0.0052608767084685775, 'min_child_weight': 54}. Best is trial 104 with value: 0.7638603446499435.\n",
      "Validation chromosomes for this trial: ['chr6', 'chr13', 'chr14', 'chr10']\n"
     ]
    },
    {
     "name": "stderr",
     "output_type": "stream",
     "text": [
      "Best trial: 104. Best value: 0.76386:  68%|██████▊   | 204/300 [1:03:10<22:47, 14.25s/it]"
     ]
    },
    {
     "name": "stdout",
     "output_type": "stream",
     "text": [
      "[I 2025-10-14 04:12:18,342] Trial 203 finished with value: 0.7612535525050222 and parameters: {'booster': 'gbtree', 'booeval_metricster': 'mae', 'learning_rate': 0.038492615351259606, 'max_depth': 10, 'max_leaves': 88, 'subsample': 0.9525107713977369, 'colsample_bytree': 0.8231870795504629, 'alpha': 0.09717103049836776, 'lambda': 1.7340978320557585, 'gamma': 0.001338623955132044, 'min_child_weight': 64}. Best is trial 104 with value: 0.7638603446499435.\n",
      "Validation chromosomes for this trial: ['chr6', 'chr13', 'chr14', 'chr10']\n"
     ]
    },
    {
     "name": "stderr",
     "output_type": "stream",
     "text": [
      "Best trial: 104. Best value: 0.76386:  68%|██████▊   | 205/300 [1:03:22<21:18, 13.46s/it]"
     ]
    },
    {
     "name": "stdout",
     "output_type": "stream",
     "text": [
      "[I 2025-10-14 04:12:29,957] Trial 204 finished with value: 0.7612343122937559 and parameters: {'booster': 'gbtree', 'booeval_metricster': 'mae', 'learning_rate': 0.035515734165078805, 'max_depth': 10, 'max_leaves': 96, 'subsample': 0.9421359394917505, 'colsample_bytree': 0.7872471464325388, 'alpha': 0.33209973615493227, 'lambda': 1.4003682539224533, 'gamma': 5.344920520256968e-05, 'min_child_weight': 56}. Best is trial 104 with value: 0.7638603446499435.\n",
      "Validation chromosomes for this trial: ['chr6', 'chr13', 'chr14', 'chr10']\n"
     ]
    },
    {
     "name": "stderr",
     "output_type": "stream",
     "text": [
      "Best trial: 104. Best value: 0.76386:  69%|██████▊   | 206/300 [1:03:33<20:02, 12.80s/it]"
     ]
    },
    {
     "name": "stdout",
     "output_type": "stream",
     "text": [
      "[I 2025-10-14 04:12:41,216] Trial 205 finished with value: 0.762286698633402 and parameters: {'booster': 'gbtree', 'booeval_metricster': 'mae', 'learning_rate': 0.03762955943232191, 'max_depth': 10, 'max_leaves': 80, 'subsample': 0.9270308027871045, 'colsample_bytree': 0.8072362003669685, 'alpha': 0.2937736971075039, 'lambda': 1.6182185612088646, 'gamma': 0.003639222395366074, 'min_child_weight': 62}. Best is trial 104 with value: 0.7638603446499435.\n",
      "Validation chromosomes for this trial: ['chr6', 'chr13', 'chr14', 'chr10']\n"
     ]
    },
    {
     "name": "stderr",
     "output_type": "stream",
     "text": [
      "Best trial: 104. Best value: 0.76386:  69%|██████▉   | 207/300 [1:03:44<19:03, 12.29s/it]"
     ]
    },
    {
     "name": "stdout",
     "output_type": "stream",
     "text": [
      "[I 2025-10-14 04:12:52,333] Trial 206 finished with value: 0.7607027327670685 and parameters: {'booster': 'gbtree', 'booeval_metricster': 'mae', 'learning_rate': 0.042118176058230844, 'max_depth': 10, 'max_leaves': 96, 'subsample': 0.902883142837171, 'colsample_bytree': 0.8088200601510604, 'alpha': 0.0399404595879151, 'lambda': 0.9304496775088819, 'gamma': 0.0035207789071563522, 'min_child_weight': 61}. Best is trial 104 with value: 0.7638603446499435.\n",
      "Validation chromosomes for this trial: ['chr6', 'chr13', 'chr14', 'chr10']\n"
     ]
    },
    {
     "name": "stderr",
     "output_type": "stream",
     "text": [
      "Best trial: 104. Best value: 0.76386:  69%|██████▉   | 208/300 [1:03:56<18:41, 12.19s/it]"
     ]
    },
    {
     "name": "stdout",
     "output_type": "stream",
     "text": [
      "[I 2025-10-14 04:13:04,275] Trial 207 finished with value: 0.7610396926917883 and parameters: {'booster': 'gbtree', 'booeval_metricster': 'mae', 'learning_rate': 0.03750462231940121, 'max_depth': 10, 'max_leaves': 88, 'subsample': 0.9125884464956212, 'colsample_bytree': 0.8002164713804507, 'alpha': 0.2902745378927758, 'lambda': 1.5783854075619264, 'gamma': 0.0024507690971013445, 'min_child_weight': 63}. Best is trial 104 with value: 0.7638603446499435.\n",
      "Validation chromosomes for this trial: ['chr6', 'chr13', 'chr14', 'chr10']\n"
     ]
    },
    {
     "name": "stderr",
     "output_type": "stream",
     "text": [
      "Best trial: 104. Best value: 0.76386:  70%|██████▉   | 209/300 [1:04:08<18:18, 12.07s/it]"
     ]
    },
    {
     "name": "stdout",
     "output_type": "stream",
     "text": [
      "[I 2025-10-14 04:13:16,073] Trial 208 finished with value: 0.7603086235210438 and parameters: {'booster': 'gbtree', 'booeval_metricster': 'mae', 'learning_rate': 0.03911526614867039, 'max_depth': 10, 'max_leaves': 104, 'subsample': 0.962309396330982, 'colsample_bytree': 0.8069540836056931, 'alpha': 0.3177671868668339, 'lambda': 1.6147413867520084, 'gamma': 0.004327709412459952, 'min_child_weight': 68}. Best is trial 104 with value: 0.7638603446499435.\n",
      "Validation chromosomes for this trial: ['chr6', 'chr13', 'chr14', 'chr10']\n"
     ]
    },
    {
     "name": "stderr",
     "output_type": "stream",
     "text": [
      "Best trial: 104. Best value: 0.76386:  70%|███████   | 210/300 [1:04:18<17:24, 11.61s/it]"
     ]
    },
    {
     "name": "stdout",
     "output_type": "stream",
     "text": [
      "[I 2025-10-14 04:13:26,592] Trial 209 finished with value: 0.7593832263783378 and parameters: {'booster': 'gbtree', 'booeval_metricster': 'mae', 'learning_rate': 0.04116878293438536, 'max_depth': 10, 'max_leaves': 72, 'subsample': 0.9269029726442655, 'colsample_bytree': 0.8187980832135405, 'alpha': 0.3465712538737257, 'lambda': 1.5259106081562677, 'gamma': 0.0014888785348095785, 'min_child_weight': 59}. Best is trial 104 with value: 0.7638603446499435.\n",
      "Validation chromosomes for this trial: ['chr6', 'chr13', 'chr14', 'chr10']\n"
     ]
    },
    {
     "name": "stderr",
     "output_type": "stream",
     "text": [
      "Best trial: 104. Best value: 0.76386:  70%|███████   | 211/300 [1:04:29<16:52, 11.38s/it]"
     ]
    },
    {
     "name": "stdout",
     "output_type": "stream",
     "text": [
      "[I 2025-10-14 04:13:37,442] Trial 210 finished with value: 0.7607845194767199 and parameters: {'booster': 'gbtree', 'booeval_metricster': 'mae', 'learning_rate': 0.036944450952678363, 'max_depth': 10, 'max_leaves': 80, 'subsample': 0.9522660891091197, 'colsample_bytree': 0.7932958553207599, 'alpha': 0.5599156176915568, 'lambda': 1.7955428654287096, 'gamma': 0.0033884532619580044, 'min_child_weight': 60}. Best is trial 104 with value: 0.7638603446499435.\n",
      "Validation chromosomes for this trial: ['chr6', 'chr13', 'chr14', 'chr10']\n"
     ]
    },
    {
     "name": "stderr",
     "output_type": "stream",
     "text": [
      "Best trial: 104. Best value: 0.76386:  71%|███████   | 212/300 [1:04:40<16:17, 11.11s/it]"
     ]
    },
    {
     "name": "stdout",
     "output_type": "stream",
     "text": [
      "[I 2025-10-14 04:13:47,934] Trial 211 finished with value: 0.760528846652561 and parameters: {'booster': 'gbtree', 'booeval_metricster': 'mae', 'learning_rate': 0.03475384105580969, 'max_depth': 10, 'max_leaves': 80, 'subsample': 0.9309253461490924, 'colsample_bytree': 0.8000984711198332, 'alpha': 0.25361526118786887, 'lambda': 1.663560807217825, 'gamma': 0.006200127328660437, 'min_child_weight': 66}. Best is trial 104 with value: 0.7638603446499435.\n",
      "Validation chromosomes for this trial: ['chr6', 'chr13', 'chr14', 'chr10']\n"
     ]
    },
    {
     "name": "stderr",
     "output_type": "stream",
     "text": [
      "Best trial: 104. Best value: 0.76386:  71%|███████   | 213/300 [1:04:50<15:50, 10.93s/it]"
     ]
    },
    {
     "name": "stdout",
     "output_type": "stream",
     "text": [
      "[I 2025-10-14 04:13:58,436] Trial 212 finished with value: 0.7610028546900647 and parameters: {'booster': 'gbtree', 'booeval_metricster': 'mae', 'learning_rate': 0.03598242043338191, 'max_depth': 10, 'max_leaves': 80, 'subsample': 0.9178699990106525, 'colsample_bytree': 0.620184521632073, 'alpha': 0.2787770273840063, 'lambda': 1.710039722419401, 'gamma': 0.005756916172300088, 'min_child_weight': 50}. Best is trial 104 with value: 0.7638603446499435.\n",
      "Validation chromosomes for this trial: ['chr6', 'chr13', 'chr14', 'chr10']\n"
     ]
    },
    {
     "name": "stderr",
     "output_type": "stream",
     "text": [
      "Best trial: 104. Best value: 0.76386:  71%|███████▏  | 214/300 [1:05:01<15:26, 10.77s/it]"
     ]
    },
    {
     "name": "stdout",
     "output_type": "stream",
     "text": [
      "[I 2025-10-14 04:14:08,833] Trial 213 finished with value: 0.7616959226766689 and parameters: {'booster': 'gbtree', 'booeval_metricster': 'mae', 'learning_rate': 0.03891168842066241, 'max_depth': 10, 'max_leaves': 88, 'subsample': 0.9387693924963793, 'colsample_bytree': 0.6093390508414018, 'alpha': 0.21163196297425493, 'lambda': 1.63095540659964, 'gamma': 0.0028691077506923465, 'min_child_weight': 53}. Best is trial 104 with value: 0.7638603446499435.\n",
      "Validation chromosomes for this trial: ['chr6', 'chr13', 'chr14', 'chr10']\n"
     ]
    },
    {
     "name": "stderr",
     "output_type": "stream",
     "text": [
      "Best trial: 104. Best value: 0.76386:  72%|███████▏  | 215/300 [1:05:11<15:07, 10.68s/it]"
     ]
    },
    {
     "name": "stdout",
     "output_type": "stream",
     "text": [
      "[I 2025-10-14 04:14:19,312] Trial 214 finished with value: 0.7586795254242868 and parameters: {'booster': 'gbtree', 'booeval_metricster': 'mae', 'learning_rate': 0.033350795217960645, 'max_depth': 10, 'max_leaves': 80, 'subsample': 0.7431461636349456, 'colsample_bytree': 0.6158797756518354, 'alpha': 0.36718337758776876, 'lambda': 1.7647294710741421, 'gamma': 0.0044462627910039675, 'min_child_weight': 57}. Best is trial 104 with value: 0.7638603446499435.\n",
      "Validation chromosomes for this trial: ['chr6', 'chr13', 'chr14', 'chr10']\n"
     ]
    },
    {
     "name": "stderr",
     "output_type": "stream",
     "text": [
      "Best trial: 104. Best value: 0.76386:  72%|███████▏  | 216/300 [1:05:21<14:32, 10.39s/it]"
     ]
    },
    {
     "name": "stdout",
     "output_type": "stream",
     "text": [
      "[I 2025-10-14 04:14:29,025] Trial 215 finished with value: 0.7614808314530223 and parameters: {'booster': 'gbtree', 'booeval_metricster': 'mae', 'learning_rate': 0.030476724497887315, 'max_depth': 10, 'max_leaves': 88, 'subsample': 0.9232758528869742, 'colsample_bytree': 0.6361052156023332, 'alpha': 0.13491567186927425, 'lambda': 1.8769149556317841, 'gamma': 0.007641757814715694, 'min_child_weight': 62}. Best is trial 104 with value: 0.7638603446499435.\n",
      "Validation chromosomes for this trial: ['chr6', 'chr13', 'chr14', 'chr10']\n"
     ]
    },
    {
     "name": "stderr",
     "output_type": "stream",
     "text": [
      "Best trial: 104. Best value: 0.76386:  72%|███████▏  | 217/300 [1:05:30<14:03, 10.16s/it]"
     ]
    },
    {
     "name": "stdout",
     "output_type": "stream",
     "text": [
      "[I 2025-10-14 04:14:38,658] Trial 216 finished with value: 0.7620298396891703 and parameters: {'booster': 'gbtree', 'booeval_metricster': 'mae', 'learning_rate': 0.03706063944229167, 'max_depth': 10, 'max_leaves': 80, 'subsample': 0.9446109460425187, 'colsample_bytree': 0.6000093229624784, 'alpha': 0.30138969689700096, 'lambda': 1.5672486527745753, 'gamma': 0.003902565983421087, 'min_child_weight': 55}. Best is trial 104 with value: 0.7638603446499435.\n",
      "Validation chromosomes for this trial: ['chr6', 'chr13', 'chr14', 'chr10']\n"
     ]
    },
    {
     "name": "stderr",
     "output_type": "stream",
     "text": [
      "Best trial: 104. Best value: 0.76386:  73%|███████▎  | 218/300 [1:05:36<11:57,  8.75s/it]"
     ]
    },
    {
     "name": "stdout",
     "output_type": "stream",
     "text": [
      "[I 2025-10-14 04:14:44,113] Trial 217 finished with value: 0.7580629709092064 and parameters: {'booster': 'gbtree', 'booeval_metricster': 'rmse', 'learning_rate': 0.031727787910513304, 'max_depth': 8, 'max_leaves': 24, 'subsample': 0.9705454240477118, 'colsample_bytree': 0.6253284449027708, 'alpha': 0.18133392806106252, 'lambda': 1.6739048676889994, 'gamma': 0.043313870208000496, 'min_child_weight': 71}. Best is trial 104 with value: 0.7638603446499435.\n",
      "Validation chromosomes for this trial: ['chr6', 'chr13', 'chr14', 'chr10']\n"
     ]
    },
    {
     "name": "stderr",
     "output_type": "stream",
     "text": [
      "Best trial: 104. Best value: 0.76386:  73%|███████▎  | 219/300 [1:05:43<10:59,  8.14s/it]"
     ]
    },
    {
     "name": "stdout",
     "output_type": "stream",
     "text": [
      "[I 2025-10-14 04:14:50,831] Trial 218 finished with value: 0.7598687169366346 and parameters: {'booster': 'gbtree', 'booeval_metricster': 'mae', 'learning_rate': 0.03450393539504196, 'max_depth': 6, 'max_leaves': 96, 'subsample': 0.8992027649053568, 'colsample_bytree': 0.9114033719488043, 'alpha': 0.24051036092980385, 'lambda': 1.488731737139344, 'gamma': 0.0011982064830781043, 'min_child_weight': 49}. Best is trial 104 with value: 0.7638603446499435.\n",
      "Validation chromosomes for this trial: ['chr6', 'chr13', 'chr14', 'chr10']\n"
     ]
    },
    {
     "name": "stderr",
     "output_type": "stream",
     "text": [
      "Best trial: 104. Best value: 0.76386:  73%|███████▎  | 220/300 [1:05:53<11:44,  8.81s/it]"
     ]
    },
    {
     "name": "stdout",
     "output_type": "stream",
     "text": [
      "[I 2025-10-14 04:15:01,208] Trial 219 finished with value: 0.7611552568164746 and parameters: {'booster': 'gbtree', 'booeval_metricster': 'mae', 'learning_rate': 0.04022823827323991, 'max_depth': 10, 'max_leaves': 72, 'subsample': 0.9339459494793433, 'colsample_bytree': 0.8495426907536692, 'alpha': 0.27147535935401323, 'lambda': 1.6059377919254598, 'gamma': 0.006778061609084123, 'min_child_weight': 75}. Best is trial 104 with value: 0.7638603446499435.\n",
      "Validation chromosomes for this trial: ['chr6', 'chr13', 'chr14', 'chr10']\n"
     ]
    },
    {
     "name": "stderr",
     "output_type": "stream",
     "text": [
      "Best trial: 104. Best value: 0.76386:  74%|███████▎  | 221/300 [1:06:06<13:12, 10.03s/it]"
     ]
    },
    {
     "name": "stdout",
     "output_type": "stream",
     "text": [
      "[I 2025-10-14 04:15:14,092] Trial 220 finished with value: 0.7613432720216146 and parameters: {'booster': 'gbtree', 'booeval_metricster': 'mae', 'learning_rate': 0.038271186699630026, 'max_depth': 10, 'max_leaves': 104, 'subsample': 0.9131330470506738, 'colsample_bytree': 0.7133363588850989, 'alpha': 0.3988876929997017, 'lambda': 1.7146866586900535, 'gamma': 0.0025703940916158253, 'min_child_weight': 36}. Best is trial 104 with value: 0.7638603446499435.\n",
      "Validation chromosomes for this trial: ['chr6', 'chr13', 'chr14', 'chr10']\n"
     ]
    },
    {
     "name": "stderr",
     "output_type": "stream",
     "text": [
      "Best trial: 104. Best value: 0.76386:  74%|███████▍  | 222/300 [1:06:15<12:54,  9.93s/it]"
     ]
    },
    {
     "name": "stdout",
     "output_type": "stream",
     "text": [
      "[I 2025-10-14 04:15:23,791] Trial 221 finished with value: 0.7633221329781643 and parameters: {'booster': 'gbtree', 'booeval_metricster': 'mae', 'learning_rate': 0.03752956997477198, 'max_depth': 10, 'max_leaves': 80, 'subsample': 0.9531866650747979, 'colsample_bytree': 0.631381852835381, 'alpha': 0.1710411390468897, 'lambda': 1.7545020548687218, 'gamma': 0.005168737164653913, 'min_child_weight': 46}. Best is trial 104 with value: 0.7638603446499435.\n",
      "Validation chromosomes for this trial: ['chr6', 'chr13', 'chr14', 'chr10']\n"
     ]
    },
    {
     "name": "stderr",
     "output_type": "stream",
     "text": [
      "Best trial: 104. Best value: 0.76386:  74%|███████▍  | 223/300 [1:06:25<12:45,  9.94s/it]"
     ]
    },
    {
     "name": "stdout",
     "output_type": "stream",
     "text": [
      "[I 2025-10-14 04:15:33,741] Trial 222 finished with value: 0.76264505539182 and parameters: {'booster': 'gbtree', 'booeval_metricster': 'mae', 'learning_rate': 0.03544147892440547, 'max_depth': 10, 'max_leaves': 80, 'subsample': 0.9614698039933547, 'colsample_bytree': 0.6381927730650195, 'alpha': 0.1631388949933139, 'lambda': 1.7360155254448255, 'gamma': 0.0053030521280719575, 'min_child_weight': 45}. Best is trial 104 with value: 0.7638603446499435.\n",
      "Validation chromosomes for this trial: ['chr6', 'chr13', 'chr14', 'chr10']\n"
     ]
    },
    {
     "name": "stderr",
     "output_type": "stream",
     "text": [
      "Best trial: 104. Best value: 0.76386:  75%|███████▍  | 224/300 [1:06:36<12:45, 10.08s/it]"
     ]
    },
    {
     "name": "stdout",
     "output_type": "stream",
     "text": [
      "[I 2025-10-14 04:15:44,125] Trial 223 finished with value: 0.7622795403848448 and parameters: {'booster': 'gbtree', 'booeval_metricster': 'mae', 'learning_rate': 0.03691549707366969, 'max_depth': 10, 'max_leaves': 80, 'subsample': 0.9579289145566348, 'colsample_bytree': 0.6542487113231875, 'alpha': 0.15036705010199822, 'lambda': 1.7529959586452883, 'gamma': 0.004809996370203584, 'min_child_weight': 44}. Best is trial 104 with value: 0.7638603446499435.\n",
      "Validation chromosomes for this trial: ['chr6', 'chr13', 'chr14', 'chr10']\n"
     ]
    },
    {
     "name": "stderr",
     "output_type": "stream",
     "text": [
      "Best trial: 104. Best value: 0.76386:  75%|███████▌  | 225/300 [1:06:47<12:52, 10.30s/it]"
     ]
    },
    {
     "name": "stdout",
     "output_type": "stream",
     "text": [
      "[I 2025-10-14 04:15:54,959] Trial 224 finished with value: 0.7593925499344002 and parameters: {'booster': 'gbtree', 'booeval_metricster': 'mae', 'learning_rate': 0.03987730725342291, 'max_depth': 10, 'max_leaves': 88, 'subsample': 0.9881633407120385, 'colsample_bytree': 0.6416491516415874, 'alpha': 0.3136636137948963, 'lambda': 1.7900249215515809, 'gamma': 0.003953910015405878, 'min_child_weight': 41}. Best is trial 104 with value: 0.7638603446499435.\n",
      "Validation chromosomes for this trial: ['chr6', 'chr13', 'chr14', 'chr10']\n"
     ]
    },
    {
     "name": "stderr",
     "output_type": "stream",
     "text": [
      "Best trial: 104. Best value: 0.76386:  75%|███████▌  | 226/300 [1:06:58<12:56, 10.49s/it]"
     ]
    },
    {
     "name": "stdout",
     "output_type": "stream",
     "text": [
      "[I 2025-10-14 04:16:05,876] Trial 225 finished with value: 0.7592962188730261 and parameters: {'booster': 'gbtree', 'booeval_metricster': 'mae', 'learning_rate': 0.03554917018118783, 'max_depth': 10, 'max_leaves': 80, 'subsample': 0.9657029581364066, 'colsample_bytree': 0.6341147622677875, 'alpha': 0.12572414356322745, 'lambda': 1.8463767776288984, 'gamma': 0.005381205039386706, 'min_child_weight': 46}. Best is trial 104 with value: 0.7638603446499435.\n",
      "Validation chromosomes for this trial: ['chr6', 'chr13', 'chr14', 'chr10']\n"
     ]
    },
    {
     "name": "stderr",
     "output_type": "stream",
     "text": [
      "Best trial: 104. Best value: 0.76386:  76%|███████▌  | 227/300 [1:07:09<13:15, 10.90s/it]"
     ]
    },
    {
     "name": "stdout",
     "output_type": "stream",
     "text": [
      "[I 2025-10-14 04:16:17,759] Trial 226 finished with value: 0.7600731124085485 and parameters: {'booster': 'gbtree', 'booeval_metricster': 'mae', 'learning_rate': 0.03799286216993296, 'max_depth': 10, 'max_leaves': 96, 'subsample': 0.9768057145631323, 'colsample_bytree': 0.7386379023162334, 'alpha': 0.2089384116977238, 'lambda': 1.4338281055869806, 'gamma': 0.002021801418890728, 'min_child_weight': 47}. Best is trial 104 with value: 0.7638603446499435.\n",
      "Validation chromosomes for this trial: ['chr6', 'chr13', 'chr14', 'chr10']\n"
     ]
    },
    {
     "name": "stderr",
     "output_type": "stream",
     "text": [
      "Best trial: 104. Best value: 0.76386:  76%|███████▌  | 228/300 [1:07:20<12:52, 10.73s/it]"
     ]
    },
    {
     "name": "stdout",
     "output_type": "stream",
     "text": [
      "[I 2025-10-14 04:16:28,076] Trial 227 finished with value: 0.7609723865403539 and parameters: {'booster': 'gbtree', 'booeval_metricster': 'rmse', 'learning_rate': 0.04215293361217632, 'max_depth': 10, 'max_leaves': 88, 'subsample': 0.953081327014125, 'colsample_bytree': 0.6216489981359848, 'alpha': 0.16071851940193768, 'lambda': 1.7006267169167566, 'gamma': 0.003332895445543352, 'min_child_weight': 78}. Best is trial 104 with value: 0.7638603446499435.\n",
      "Validation chromosomes for this trial: ['chr6', 'chr13', 'chr14', 'chr10']\n"
     ]
    },
    {
     "name": "stderr",
     "output_type": "stream",
     "text": [
      "Best trial: 104. Best value: 0.76386:  76%|███████▋  | 229/300 [1:07:30<12:36, 10.66s/it]"
     ]
    },
    {
     "name": "stdout",
     "output_type": "stream",
     "text": [
      "[I 2025-10-14 04:16:38,575] Trial 228 finished with value: 0.7601998737273956 and parameters: {'booster': 'gbtree', 'booeval_metricster': 'mae', 'learning_rate': 0.03351694721743536, 'max_depth': 10, 'max_leaves': 72, 'subsample': 0.9475954374892144, 'colsample_bytree': 0.7707609303216238, 'alpha': 0.3379592915712987, 'lambda': 1.7343375630133313, 'gamma': 2.1659618410372217e-05, 'min_child_weight': 43}. Best is trial 104 with value: 0.7638603446499435.\n",
      "Validation chromosomes for this trial: ['chr6', 'chr13', 'chr14', 'chr10']\n"
     ]
    },
    {
     "name": "stderr",
     "output_type": "stream",
     "text": [
      "Best trial: 104. Best value: 0.76386:  77%|███████▋  | 230/300 [1:09:15<45:18, 38.84s/it]"
     ]
    },
    {
     "name": "stdout",
     "output_type": "stream",
     "text": [
      "[I 2025-10-14 04:18:23,159] Trial 229 finished with value: 0.7591825499573175 and parameters: {'booster': 'dart', 'booeval_metricster': 'mae', 'learning_rate': 0.04379675600487704, 'max_depth': 9, 'max_leaves': 80, 'subsample': 0.9649978718638389, 'colsample_bytree': 0.6418216641209316, 'alpha': 0.2544967795633788, 'lambda': 1.8058232419584035, 'gamma': 0.03174403446253733, 'min_child_weight': 45}. Best is trial 104 with value: 0.7638603446499435.\n",
      "Validation chromosomes for this trial: ['chr6', 'chr13', 'chr14', 'chr10']\n"
     ]
    },
    {
     "name": "stderr",
     "output_type": "stream",
     "text": [
      "Best trial: 104. Best value: 0.76386:  77%|███████▋  | 231/300 [1:09:25<34:35, 30.08s/it]"
     ]
    },
    {
     "name": "stdout",
     "output_type": "stream",
     "text": [
      "[I 2025-10-14 04:18:32,808] Trial 230 finished with value: 0.7595928848922296 and parameters: {'booster': 'gbtree', 'booeval_metricster': 'mae', 'learning_rate': 0.03634356410810431, 'max_depth': 10, 'max_leaves': 64, 'subsample': 0.9413847827064526, 'colsample_bytree': 0.6649483591726211, 'alpha': 0.2845975871401556, 'lambda': 1.9437368384330298, 'gamma': 0.00547214257417479, 'min_child_weight': 40}. Best is trial 104 with value: 0.7638603446499435.\n",
      "Validation chromosomes for this trial: ['chr6', 'chr13', 'chr14', 'chr10']\n"
     ]
    },
    {
     "name": "stderr",
     "output_type": "stream",
     "text": [
      "Best trial: 104. Best value: 0.76386:  77%|███████▋  | 232/300 [1:09:35<27:29, 24.26s/it]"
     ]
    },
    {
     "name": "stdout",
     "output_type": "stream",
     "text": [
      "[I 2025-10-14 04:18:43,492] Trial 231 finished with value: 0.7626010592801268 and parameters: {'booster': 'gbtree', 'booeval_metricster': 'mae', 'learning_rate': 0.037418796510640485, 'max_depth': 10, 'max_leaves': 80, 'subsample': 0.9575162601800385, 'colsample_bytree': 0.6536982946397433, 'alpha': 0.15093612228018072, 'lambda': 1.754197611964733, 'gamma': 0.004917996329183868, 'min_child_weight': 44}. Best is trial 104 with value: 0.7638603446499435.\n",
      "Validation chromosomes for this trial: ['chr6', 'chr13', 'chr14', 'chr10']\n"
     ]
    },
    {
     "name": "stderr",
     "output_type": "stream",
     "text": [
      "Best trial: 104. Best value: 0.76386:  78%|███████▊  | 233/300 [1:09:46<22:34, 20.21s/it]"
     ]
    },
    {
     "name": "stdout",
     "output_type": "stream",
     "text": [
      "[I 2025-10-14 04:18:54,242] Trial 232 finished with value: 0.7581203827322592 and parameters: {'booster': 'gbtree', 'booeval_metricster': 'mae', 'learning_rate': 0.017460501641269135, 'max_depth': 10, 'max_leaves': 80, 'subsample': 0.9591033965917815, 'colsample_bytree': 0.6478506190153732, 'alpha': 0.139133876252188, 'lambda': 1.7620523176993412, 'gamma': 0.006504512932744115, 'min_child_weight': 43}. Best is trial 104 with value: 0.7638603446499435.\n",
      "Validation chromosomes for this trial: ['chr6', 'chr13', 'chr14', 'chr10']\n"
     ]
    },
    {
     "name": "stderr",
     "output_type": "stream",
     "text": [
      "Best trial: 104. Best value: 0.76386:  78%|███████▊  | 234/300 [1:09:58<19:27, 17.69s/it]"
     ]
    },
    {
     "name": "stdout",
     "output_type": "stream",
     "text": [
      "[I 2025-10-14 04:19:06,059] Trial 233 finished with value: 0.7610356542537324 and parameters: {'booster': 'gbtree', 'booeval_metricster': 'mae', 'learning_rate': 0.03896825040198898, 'max_depth': 10, 'max_leaves': 80, 'subsample': 0.9721578629730667, 'colsample_bytree': 0.8132678215190997, 'alpha': 0.11019833591231111, 'lambda': 1.6826273375844865, 'gamma': 0.004529585530749869, 'min_child_weight': 39}. Best is trial 104 with value: 0.7638603446499435.\n",
      "Validation chromosomes for this trial: ['chr6', 'chr13', 'chr14', 'chr10']\n"
     ]
    },
    {
     "name": "stderr",
     "output_type": "stream",
     "text": [
      "Best trial: 104. Best value: 0.76386:  78%|███████▊  | 235/300 [1:10:09<16:58, 15.67s/it]"
     ]
    },
    {
     "name": "stdout",
     "output_type": "stream",
     "text": [
      "[I 2025-10-14 04:19:17,008] Trial 234 finished with value: 0.750619817926634 and parameters: {'booster': 'gbtree', 'booeval_metricster': 'mae', 'learning_rate': 0.007939367530375973, 'max_depth': 10, 'max_leaves': 88, 'subsample': 0.9522002789100775, 'colsample_bytree': 0.659520031002935, 'alpha': 0.18340852377627054, 'lambda': 1.7398388258119832, 'gamma': 0.003056435488258358, 'min_child_weight': 48}. Best is trial 104 with value: 0.7638603446499435.\n",
      "Validation chromosomes for this trial: ['chr6', 'chr13', 'chr14', 'chr10']\n"
     ]
    },
    {
     "name": "stderr",
     "output_type": "stream",
     "text": [
      "Best trial: 104. Best value: 0.76386:  79%|███████▊  | 236/300 [1:10:19<14:58, 14.04s/it]"
     ]
    },
    {
     "name": "stdout",
     "output_type": "stream",
     "text": [
      "[I 2025-10-14 04:19:27,258] Trial 235 finished with value: 0.7609555345252458 and parameters: {'booster': 'gbtree', 'booeval_metricster': 'mae', 'learning_rate': 0.037554828678624114, 'max_depth': 10, 'max_leaves': 80, 'subsample': 0.9816370320893727, 'colsample_bytree': 0.6321811776390494, 'alpha': 0.07527860658173012, 'lambda': 1.8281285107025156, 'gamma': 0.0053268515708136555, 'min_child_weight': 43}. Best is trial 104 with value: 0.7638603446499435.\n",
      "Validation chromosomes for this trial: ['chr6', 'chr13', 'chr14', 'chr10']\n"
     ]
    },
    {
     "name": "stderr",
     "output_type": "stream",
     "text": [
      "Best trial: 104. Best value: 0.76386:  79%|███████▉  | 237/300 [1:10:30<13:53, 13.22s/it]"
     ]
    },
    {
     "name": "stdout",
     "output_type": "stream",
     "text": [
      "[I 2025-10-14 04:19:38,559] Trial 236 finished with value: 0.7615707849032423 and parameters: {'booster': 'gbtree', 'booeval_metricster': 'mae', 'learning_rate': 0.03505930289570075, 'max_depth': 10, 'max_leaves': 80, 'subsample': 0.9401725132425179, 'colsample_bytree': 0.828720998456154, 'alpha': 0.2319317735550628, 'lambda': 1.3642584537359352, 'gamma': 0.0018079991666206075, 'min_child_weight': 45}. Best is trial 104 with value: 0.7638603446499435.\n",
      "Validation chromosomes for this trial: ['chr6', 'chr13', 'chr14', 'chr10']\n"
     ]
    },
    {
     "name": "stderr",
     "output_type": "stream",
     "text": [
      "Best trial: 104. Best value: 0.76386:  79%|███████▉  | 238/300 [1:10:42<13:02, 12.63s/it]"
     ]
    },
    {
     "name": "stdout",
     "output_type": "stream",
     "text": [
      "[I 2025-10-14 04:19:49,809] Trial 237 finished with value: 0.761688089783867 and parameters: {'booster': 'gbtree', 'booeval_metricster': 'mae', 'learning_rate': 0.040189441962805425, 'max_depth': 10, 'max_leaves': 96, 'subsample': 0.9617181731008493, 'colsample_bytree': 0.6458477489968825, 'alpha': 0.1581768707762799, 'lambda': 1.901672807619583, 'gamma': 0.0035673280974872915, 'min_child_weight': 51}. Best is trial 104 with value: 0.7638603446499435.\n",
      "Validation chromosomes for this trial: ['chr6', 'chr13', 'chr14', 'chr10']\n"
     ]
    },
    {
     "name": "stderr",
     "output_type": "stream",
     "text": [
      "Best trial: 104. Best value: 0.76386:  80%|███████▉  | 239/300 [1:10:50<11:40, 11.48s/it]"
     ]
    },
    {
     "name": "stdout",
     "output_type": "stream",
     "text": [
      "[I 2025-10-14 04:19:58,610] Trial 238 finished with value: 0.7629321868897516 and parameters: {'booster': 'gbtree', 'booeval_metricster': 'rmse', 'learning_rate': 0.03653131403153021, 'max_depth': 8, 'max_leaves': 88, 'subsample': 0.9250591140994523, 'colsample_bytree': 0.6751260148844661, 'alpha': 0.1917648322388504, 'lambda': 1.626559373679844, 'gamma': 0.00757103846463613, 'min_child_weight': 66}. Best is trial 104 with value: 0.7638603446499435.\n",
      "Validation chromosomes for this trial: ['chr6', 'chr13', 'chr14', 'chr10']\n"
     ]
    },
    {
     "name": "stderr",
     "output_type": "stream",
     "text": [
      "Best trial: 104. Best value: 0.76386:  80%|████████  | 240/300 [1:10:59<10:39, 10.65s/it]"
     ]
    },
    {
     "name": "stdout",
     "output_type": "stream",
     "text": [
      "[I 2025-10-14 04:20:07,341] Trial 239 finished with value: 0.7606521260454143 and parameters: {'booster': 'gbtree', 'booeval_metricster': 'rmse', 'learning_rate': 0.03333883085976584, 'max_depth': 8, 'max_leaves': 88, 'subsample': 0.9490258271726842, 'colsample_bytree': 0.6904841357558371, 'alpha': 0.19415224279158314, 'lambda': 1.0579793672641349, 'gamma': 0.008471385746241825, 'min_child_weight': 67}. Best is trial 104 with value: 0.7638603446499435.\n",
      "Validation chromosomes for this trial: ['chr6', 'chr13', 'chr14', 'chr10']\n"
     ]
    },
    {
     "name": "stderr",
     "output_type": "stream",
     "text": [
      "Best trial: 104. Best value: 0.76386:  80%|████████  | 241/300 [1:11:08<09:52, 10.04s/it]"
     ]
    },
    {
     "name": "stdout",
     "output_type": "stream",
     "text": [
      "[I 2025-10-14 04:20:15,946] Trial 240 finished with value: 0.762076601708605 and parameters: {'booster': 'gbtree', 'booeval_metricster': 'rmse', 'learning_rate': 0.0356465673614663, 'max_depth': 8, 'max_leaves': 88, 'subsample': 0.9716351066935761, 'colsample_bytree': 0.6556542029709214, 'alpha': 0.16965712753626974, 'lambda': 1.7017243293384072, 'gamma': 0.010029383383092928, 'min_child_weight': 68}. Best is trial 104 with value: 0.7638603446499435.\n",
      "Validation chromosomes for this trial: ['chr6', 'chr13', 'chr14', 'chr10']\n"
     ]
    },
    {
     "name": "stderr",
     "output_type": "stream",
     "text": [
      "Best trial: 104. Best value: 0.76386:  81%|████████  | 242/300 [1:11:18<09:56, 10.28s/it]"
     ]
    },
    {
     "name": "stdout",
     "output_type": "stream",
     "text": [
      "[I 2025-10-14 04:20:26,781] Trial 241 finished with value: 0.7625657470866835 and parameters: {'booster': 'gbtree', 'booeval_metricster': 'rmse', 'learning_rate': 0.03775413841739807, 'max_depth': 10, 'max_leaves': 88, 'subsample': 0.9240281118412731, 'colsample_bytree': 0.675829206374805, 'alpha': 0.22066432717648507, 'lambda': 1.626556861354109, 'gamma': 0.007352677233808805, 'min_child_weight': 66}. Best is trial 104 with value: 0.7638603446499435.\n",
      "Validation chromosomes for this trial: ['chr6', 'chr13', 'chr14', 'chr10']\n"
     ]
    },
    {
     "name": "stderr",
     "output_type": "stream",
     "text": [
      "Best trial: 104. Best value: 0.76386:  81%|████████  | 243/300 [1:11:29<09:53, 10.41s/it]"
     ]
    },
    {
     "name": "stdout",
     "output_type": "stream",
     "text": [
      "[I 2025-10-14 04:20:37,492] Trial 242 finished with value: 0.7615889067838322 and parameters: {'booster': 'gbtree', 'booeval_metricster': 'rmse', 'learning_rate': 0.03878659004164513, 'max_depth': 10, 'max_leaves': 88, 'subsample': 0.9102104477958161, 'colsample_bytree': 0.6729666911995114, 'alpha': 0.1822424653068456, 'lambda': 1.631813101433172, 'gamma': 0.007056181952277113, 'min_child_weight': 64}. Best is trial 104 with value: 0.7638603446499435.\n",
      "Validation chromosomes for this trial: ['chr6', 'chr13', 'chr14', 'chr10']\n"
     ]
    },
    {
     "name": "stderr",
     "output_type": "stream",
     "text": [
      "Best trial: 104. Best value: 0.76386:  81%|████████▏ | 244/300 [1:11:36<08:49,  9.45s/it]"
     ]
    },
    {
     "name": "stdout",
     "output_type": "stream",
     "text": [
      "[I 2025-10-14 04:20:44,715] Trial 243 finished with value: 0.7602141829389777 and parameters: {'booster': 'gbtree', 'booeval_metricster': 'rmse', 'learning_rate': 0.03670826799314538, 'max_depth': 7, 'max_leaves': 88, 'subsample': 0.9250581216186387, 'colsample_bytree': 0.6793993437817794, 'alpha': 0.20949939299780665, 'lambda': 1.6602629339784318, 'gamma': 0.008030398916839368, 'min_child_weight': 65}. Best is trial 104 with value: 0.7638603446499435.\n",
      "Validation chromosomes for this trial: ['chr6', 'chr13', 'chr14', 'chr10']\n"
     ]
    },
    {
     "name": "stderr",
     "output_type": "stream",
     "text": [
      "Best trial: 104. Best value: 0.76386:  82%|████████▏ | 245/300 [1:11:47<08:55,  9.73s/it]"
     ]
    },
    {
     "name": "stdout",
     "output_type": "stream",
     "text": [
      "[I 2025-10-14 04:20:55,100] Trial 244 finished with value: 0.7606335618156426 and parameters: {'booster': 'gbtree', 'booeval_metricster': 'rmse', 'learning_rate': 0.034413538503344124, 'max_depth': 10, 'max_leaves': 96, 'subsample': 0.6251862032349379, 'colsample_bytree': 0.6632002635300591, 'alpha': 0.22888998139077496, 'lambda': 1.5449397585739109, 'gamma': 0.006528862043824764, 'min_child_weight': 66}. Best is trial 104 with value: 0.7638603446499435.\n",
      "Validation chromosomes for this trial: ['chr6', 'chr13', 'chr14', 'chr10']\n"
     ]
    },
    {
     "name": "stderr",
     "output_type": "stream",
     "text": [
      "Best trial: 104. Best value: 0.76386:  82%|████████▏ | 246/300 [1:11:57<08:58,  9.96s/it]"
     ]
    },
    {
     "name": "stdout",
     "output_type": "stream",
     "text": [
      "[I 2025-10-14 04:21:05,609] Trial 245 finished with value: 0.7618835466819914 and parameters: {'booster': 'gbtree', 'booeval_metricster': 'rmse', 'learning_rate': 0.04110888885746492, 'max_depth': 10, 'max_leaves': 88, 'subsample': 0.9380851861294106, 'colsample_bytree': 0.6723423680129739, 'alpha': 0.14608063986275038, 'lambda': 1.7705306711265587, 'gamma': 0.007371355841655783, 'min_child_weight': 69}. Best is trial 104 with value: 0.7638603446499435.\n",
      "Validation chromosomes for this trial: ['chr6', 'chr13', 'chr14', 'chr10']\n"
     ]
    },
    {
     "name": "stderr",
     "output_type": "stream",
     "text": [
      "Best trial: 104. Best value: 0.76386:  82%|████████▏ | 247/300 [1:12:06<08:28,  9.59s/it]"
     ]
    },
    {
     "name": "stdout",
     "output_type": "stream",
     "text": [
      "[I 2025-10-14 04:21:14,341] Trial 246 finished with value: 0.7591967926096572 and parameters: {'booster': 'gbtree', 'booeval_metricster': 'rmse', 'learning_rate': 0.03640263513883154, 'max_depth': 10, 'max_leaves': 88, 'subsample': 0.9184093786626448, 'colsample_bytree': 0.6974027673909285, 'alpha': 0.21031717630798064, 'lambda': 1.5971762105349976, 'gamma': 0.009173371665929216, 'min_child_weight': 42}. Best is trial 104 with value: 0.7638603446499435.\n",
      "Validation chromosomes for this trial: ['chr6', 'chr13', 'chr14', 'chr10']\n"
     ]
    },
    {
     "name": "stderr",
     "output_type": "stream",
     "text": [
      "Best trial: 104. Best value: 0.76386:  83%|████████▎ | 248/300 [1:12:10<06:51,  7.91s/it]"
     ]
    },
    {
     "name": "stdout",
     "output_type": "stream",
     "text": [
      "[I 2025-10-14 04:21:18,307] Trial 247 finished with value: 0.7538257877487006 and parameters: {'booster': 'gbtree', 'booeval_metricster': 'rmse', 'learning_rate': 0.0322806839036477, 'max_depth': 4, 'max_leaves': 96, 'subsample': 0.9339987987170472, 'colsample_bytree': 0.6535778010204862, 'alpha': 0.18893361212739035, 'lambda': 1.6883514405796858, 'gamma': 0.005620457192878089, 'min_child_weight': 70}. Best is trial 104 with value: 0.7638603446499435.\n",
      "Validation chromosomes for this trial: ['chr6', 'chr13', 'chr14', 'chr10']\n"
     ]
    },
    {
     "name": "stderr",
     "output_type": "stream",
     "text": [
      "Best trial: 104. Best value: 0.76386:  83%|████████▎ | 249/300 [1:12:20<07:08,  8.41s/it]"
     ]
    },
    {
     "name": "stdout",
     "output_type": "stream",
     "text": [
      "[I 2025-10-14 04:21:27,891] Trial 248 finished with value: 0.7607202262539525 and parameters: {'booster': 'gbtree', 'booeval_metricster': 'rmse', 'learning_rate': 0.039333959025066714, 'max_depth': 9, 'max_leaves': 104, 'subsample': 0.9552187881339775, 'colsample_bytree': 0.6660242238322372, 'alpha': 0.12590532706326674, 'lambda': 1.7301798996197508, 'gamma': 0.006433240694062503, 'min_child_weight': 53}. Best is trial 104 with value: 0.7638603446499435.\n",
      "Validation chromosomes for this trial: ['chr6', 'chr13', 'chr14', 'chr10']\n"
     ]
    },
    {
     "name": "stderr",
     "output_type": "stream",
     "text": [
      "Best trial: 104. Best value: 0.76386:  83%|████████▎ | 250/300 [1:12:31<07:42,  9.26s/it]"
     ]
    },
    {
     "name": "stdout",
     "output_type": "stream",
     "text": [
      "[I 2025-10-14 04:21:39,109] Trial 249 finished with value: 0.7614637407954699 and parameters: {'booster': 'gbtree', 'booeval_metricster': 'rmse', 'learning_rate': 0.03802020231715506, 'max_depth': 10, 'max_leaves': 96, 'subsample': 0.9009819338296359, 'colsample_bytree': 0.6885929200583124, 'alpha': 0.09948927518267339, 'lambda': 1.6488612757505756, 'gamma': 0.011326474011809525, 'min_child_weight': 65}. Best is trial 104 with value: 0.7638603446499435.\n",
      "Validation chromosomes for this trial: ['chr6', 'chr13', 'chr14', 'chr10']\n"
     ]
    },
    {
     "name": "stderr",
     "output_type": "stream",
     "text": [
      "Best trial: 104. Best value: 0.76386:  84%|████████▎ | 251/300 [1:12:38<07:09,  8.76s/it]"
     ]
    },
    {
     "name": "stdout",
     "output_type": "stream",
     "text": [
      "[I 2025-10-14 04:21:46,742] Trial 250 finished with value: 0.7603297354667988 and parameters: {'booster': 'gbtree', 'booeval_metricster': 'rmse', 'learning_rate': 0.03444091450266699, 'max_depth': 7, 'max_leaves': 88, 'subsample': 0.9226082433403741, 'colsample_bytree': 0.6280773589326742, 'alpha': 0.22861870507531584, 'lambda': 1.9923639920283343, 'gamma': 0.0049041030702715975, 'min_child_weight': 73}. Best is trial 104 with value: 0.7638603446499435.\n",
      "Validation chromosomes for this trial: ['chr6', 'chr13', 'chr14', 'chr10']\n"
     ]
    },
    {
     "name": "stderr",
     "output_type": "stream",
     "text": [
      "Best trial: 104. Best value: 0.76386:  84%|████████▍ | 252/300 [1:12:50<07:47,  9.74s/it]"
     ]
    },
    {
     "name": "stdout",
     "output_type": "stream",
     "text": [
      "[I 2025-10-14 04:21:58,756] Trial 251 finished with value: 0.7616274944758133 and parameters: {'booster': 'gbtree', 'booeval_metricster': 'mae', 'learning_rate': 0.03602536126830336, 'max_depth': 10, 'max_leaves': 88, 'subsample': 0.9433531350428507, 'colsample_bytree': 0.6780912535270834, 'alpha': 0.16516236578324506, 'lambda': 1.8073192474898947, 'gamma': 0.000873652778018562, 'min_child_weight': 55}. Best is trial 104 with value: 0.7638603446499435.\n",
      "Validation chromosomes for this trial: ['chr6', 'chr13', 'chr14', 'chr10']\n"
     ]
    },
    {
     "name": "stderr",
     "output_type": "stream",
     "text": [
      "Best trial: 104. Best value: 0.76386:  84%|████████▍ | 253/300 [1:13:03<08:11, 10.46s/it]"
     ]
    },
    {
     "name": "stdout",
     "output_type": "stream",
     "text": [
      "[I 2025-10-14 04:22:10,892] Trial 252 finished with value: 0.7629136923380612 and parameters: {'booster': 'gbtree', 'booeval_metricster': 'mae', 'learning_rate': 0.04111314978432722, 'max_depth': 10, 'max_leaves': 96, 'subsample': 0.9626123709355376, 'colsample_bytree': 0.6142385186018898, 'alpha': 0.26077530427341367, 'lambda': 1.467141073408856, 'gamma': 0.008319727323717893, 'min_child_weight': 58}. Best is trial 104 with value: 0.7638603446499435.\n",
      "Validation chromosomes for this trial: ['chr6', 'chr13', 'chr14', 'chr10']\n"
     ]
    },
    {
     "name": "stderr",
     "output_type": "stream",
     "text": [
      "Best trial: 104. Best value: 0.76386:  85%|████████▍ | 254/300 [1:13:14<08:20, 10.88s/it]"
     ]
    },
    {
     "name": "stdout",
     "output_type": "stream",
     "text": [
      "[I 2025-10-14 04:22:22,768] Trial 253 finished with value: 0.761589297369963 and parameters: {'booster': 'gbtree', 'booeval_metricster': 'mae', 'learning_rate': 0.039980982070486906, 'max_depth': 10, 'max_leaves': 96, 'subsample': 0.9670587610518838, 'colsample_bytree': 0.6150851938530039, 'alpha': 0.2587002924023743, 'lambda': 1.4676228091260968, 'gamma': 0.008259897908119377, 'min_child_weight': 58}. Best is trial 104 with value: 0.7638603446499435.\n",
      "Validation chromosomes for this trial: ['chr6', 'chr13', 'chr14', 'chr10']\n"
     ]
    },
    {
     "name": "stderr",
     "output_type": "stream",
     "text": [
      "Best trial: 104. Best value: 0.76386:  85%|████████▌ | 255/300 [1:13:23<07:40, 10.24s/it]"
     ]
    },
    {
     "name": "stdout",
     "output_type": "stream",
     "text": [
      "[I 2025-10-14 04:22:31,507] Trial 254 finished with value: 0.7594080598756747 and parameters: {'booster': 'gbtree', 'booeval_metricster': 'rmse', 'learning_rate': 0.037524138044004285, 'max_depth': 8, 'max_leaves': 104, 'subsample': 0.9598627241030634, 'colsample_bytree': 0.6072987031182376, 'alpha': 0.2428295944301951, 'lambda': 1.4124389307080325, 'gamma': 0.007558505701820892, 'min_child_weight': 56}. Best is trial 104 with value: 0.7638603446499435.\n",
      "Validation chromosomes for this trial: ['chr6', 'chr13', 'chr14', 'chr10']\n"
     ]
    },
    {
     "name": "stderr",
     "output_type": "stream",
     "text": [
      "Best trial: 104. Best value: 0.76386:  85%|████████▌ | 256/300 [1:13:35<07:57, 10.84s/it]"
     ]
    },
    {
     "name": "stdout",
     "output_type": "stream",
     "text": [
      "[I 2025-10-14 04:22:43,759] Trial 255 finished with value: 0.7612094046691725 and parameters: {'booster': 'gbtree', 'booeval_metricster': 'mae', 'learning_rate': 0.03358488758890803, 'max_depth': 10, 'max_leaves': 96, 'subsample': 0.9811558942096783, 'colsample_bytree': 0.6214102300071964, 'alpha': 0.26729634855694245, 'lambda': 1.5013252867396218, 'gamma': 0.009715830649568415, 'min_child_weight': 46}. Best is trial 104 with value: 0.7638603446499435.\n",
      "Validation chromosomes for this trial: ['chr6', 'chr13', 'chr14', 'chr10']\n"
     ]
    },
    {
     "name": "stderr",
     "output_type": "stream",
     "text": [
      "Best trial: 104. Best value: 0.76386:  86%|████████▌ | 257/300 [1:13:47<07:54, 11.04s/it]"
     ]
    },
    {
     "name": "stdout",
     "output_type": "stream",
     "text": [
      "[I 2025-10-14 04:22:55,257] Trial 256 finished with value: 0.7609456163398691 and parameters: {'booster': 'gbtree', 'booeval_metricster': 'mae', 'learning_rate': 0.03132841794926451, 'max_depth': 9, 'max_leaves': 96, 'subsample': 0.9900632622399109, 'colsample_bytree': 0.6389635159433008, 'alpha': 0.3251010224202355, 'lambda': 1.5232310183822508, 'gamma': 0.006185102723678853, 'min_child_weight': 58}. Best is trial 104 with value: 0.7638603446499435.\n",
      "Validation chromosomes for this trial: ['chr6', 'chr13', 'chr14', 'chr10']\n"
     ]
    },
    {
     "name": "stderr",
     "output_type": "stream",
     "text": [
      "Best trial: 104. Best value: 0.76386:  86%|████████▌ | 258/300 [1:13:59<08:00, 11.44s/it]"
     ]
    },
    {
     "name": "stdout",
     "output_type": "stream",
     "text": [
      "[I 2025-10-14 04:23:07,610] Trial 257 finished with value: 0.7612845525220346 and parameters: {'booster': 'gbtree', 'booeval_metricster': 'mae', 'learning_rate': 0.03567906322638163, 'max_depth': 10, 'max_leaves': 112, 'subsample': 0.9067657328750304, 'colsample_bytree': 0.6147111545631971, 'alpha': 0.20329732402270514, 'lambda': 1.5671203381276246, 'gamma': 0.008823779238384793, 'min_child_weight': 50}. Best is trial 104 with value: 0.7638603446499435.\n",
      "Validation chromosomes for this trial: ['chr6', 'chr13', 'chr14', 'chr10']\n"
     ]
    },
    {
     "name": "stderr",
     "output_type": "stream",
     "text": [
      "Best trial: 104. Best value: 0.76386:  86%|████████▋ | 259/300 [1:15:58<29:51, 43.71s/it]"
     ]
    },
    {
     "name": "stdout",
     "output_type": "stream",
     "text": [
      "[I 2025-10-14 04:25:06,620] Trial 258 finished with value: 0.7595092422188391 and parameters: {'booster': 'dart', 'booeval_metricster': 'mae', 'learning_rate': 0.02958997168662205, 'max_depth': 10, 'max_leaves': 104, 'subsample': 0.8927310024823277, 'colsample_bytree': 0.6293747550373885, 'alpha': 0.3513534908804535, 'lambda': 1.4508424674472153, 'gamma': 0.020519193859952396, 'min_child_weight': 60}. Best is trial 104 with value: 0.7638603446499435.\n",
      "Validation chromosomes for this trial: ['chr6', 'chr13', 'chr14', 'chr10']\n"
     ]
    },
    {
     "name": "stderr",
     "output_type": "stream",
     "text": [
      "Best trial: 104. Best value: 0.76386:  87%|████████▋ | 260/300 [1:16:11<22:50, 34.25s/it]"
     ]
    },
    {
     "name": "stdout",
     "output_type": "stream",
     "text": [
      "[I 2025-10-14 04:25:18,825] Trial 259 finished with value: 0.7612445144427757 and parameters: {'booster': 'gbtree', 'booeval_metricster': 'rmse', 'learning_rate': 0.039273240604712004, 'max_depth': 10, 'max_leaves': 96, 'subsample': 0.9304811026295945, 'colsample_bytree': 0.7062600361503868, 'alpha': 0.2229281991026505, 'lambda': 1.6195139658174116, 'gamma': 0.007137526779679759, 'min_child_weight': 52}. Best is trial 104 with value: 0.7638603446499435.\n",
      "Validation chromosomes for this trial: ['chr6', 'chr13', 'chr14', 'chr10']\n"
     ]
    },
    {
     "name": "stderr",
     "output_type": "stream",
     "text": [
      "Best trial: 104. Best value: 0.76386:  87%|████████▋ | 261/300 [1:16:21<17:37, 27.11s/it]"
     ]
    },
    {
     "name": "stdout",
     "output_type": "stream",
     "text": [
      "[I 2025-10-14 04:25:29,274] Trial 260 finished with value: 0.7607051255690485 and parameters: {'booster': 'gbtree', 'booeval_metricster': 'mae', 'learning_rate': 0.037351468317416106, 'max_depth': 10, 'max_leaves': 80, 'subsample': 0.9726012694033802, 'colsample_bytree': 0.6068821469184287, 'alpha': 0.3801373899191077, 'lambda': 1.391227505094024, 'gamma': 0.017298914136157806, 'min_child_weight': 54}. Best is trial 104 with value: 0.7638603446499435.\n",
      "Validation chromosomes for this trial: ['chr6', 'chr13', 'chr14', 'chr10']\n"
     ]
    },
    {
     "name": "stderr",
     "output_type": "stream",
     "text": [
      "Best trial: 104. Best value: 0.76386:  87%|████████▋ | 262/300 [1:16:32<14:10, 22.39s/it]"
     ]
    },
    {
     "name": "stdout",
     "output_type": "stream",
     "text": [
      "[I 2025-10-14 04:25:40,632] Trial 261 finished with value: 0.7622926787769092 and parameters: {'booster': 'gbtree', 'booeval_metricster': 'mae', 'learning_rate': 0.0352576169988218, 'max_depth': 10, 'max_leaves': 96, 'subsample': 0.9575331964074479, 'colsample_bytree': 0.6364852083938815, 'alpha': 0.30927860762486153, 'lambda': 1.5666004021461495, 'gamma': 0.004741405853505552, 'min_child_weight': 56}. Best is trial 104 with value: 0.7638603446499435.\n",
      "Validation chromosomes for this trial: ['chr6', 'chr13', 'chr14', 'chr10']\n"
     ]
    },
    {
     "name": "stderr",
     "output_type": "stream",
     "text": [
      "Best trial: 104. Best value: 0.76386:  88%|████████▊ | 263/300 [1:16:43<11:40, 18.92s/it]"
     ]
    },
    {
     "name": "stdout",
     "output_type": "stream",
     "text": [
      "[I 2025-10-14 04:25:51,464] Trial 262 finished with value: 0.7619164461555463 and parameters: {'booster': 'gbtree', 'booeval_metricster': 'mae', 'learning_rate': 0.04172947174861999, 'max_depth': 10, 'max_leaves': 80, 'subsample': 0.9169505172328026, 'colsample_bytree': 0.6241666935615099, 'alpha': 0.48176197706401636, 'lambda': 1.6686630484098222, 'gamma': 0.013509082234384785, 'min_child_weight': 48}. Best is trial 104 with value: 0.7638603446499435.\n",
      "Validation chromosomes for this trial: ['chr6', 'chr13', 'chr14', 'chr10']\n"
     ]
    },
    {
     "name": "stderr",
     "output_type": "stream",
     "text": [
      "Best trial: 104. Best value: 0.76386:  88%|████████▊ | 264/300 [1:16:53<09:43, 16.21s/it]"
     ]
    },
    {
     "name": "stdout",
     "output_type": "stream",
     "text": [
      "[I 2025-10-14 04:26:01,326] Trial 263 finished with value: 0.7598980471780273 and parameters: {'booster': 'gbtree', 'booeval_metricster': 'mae', 'learning_rate': 0.033228602608463116, 'max_depth': 10, 'max_leaves': 72, 'subsample': 0.9490299526622861, 'colsample_bytree': 0.6500644446768266, 'alpha': 0.2526042321707565, 'lambda': 1.3328530940741734, 'gamma': 0.002108489208800702, 'min_child_weight': 63}. Best is trial 104 with value: 0.7638603446499435.\n",
      "Validation chromosomes for this trial: ['chr6', 'chr13', 'chr14', 'chr10']\n"
     ]
    },
    {
     "name": "stderr",
     "output_type": "stream",
     "text": [
      "Best trial: 104. Best value: 0.76386:  88%|████████▊ | 265/300 [1:17:04<08:30, 14.59s/it]"
     ]
    },
    {
     "name": "stdout",
     "output_type": "stream",
     "text": [
      "[I 2025-10-14 04:26:12,126] Trial 264 finished with value: 0.7620248718609779 and parameters: {'booster': 'gbtree', 'booeval_metricster': 'rmse', 'learning_rate': 0.037914081630851096, 'max_depth': 10, 'max_leaves': 104, 'subsample': 0.9650221900673052, 'colsample_bytree': 0.617309821603427, 'alpha': 0.2849634745573062, 'lambda': 1.8572474809941197, 'gamma': 0.005713503961728774, 'min_child_weight': 59}. Best is trial 104 with value: 0.7638603446499435.\n",
      "Validation chromosomes for this trial: ['chr6', 'chr13', 'chr14', 'chr10']\n"
     ]
    },
    {
     "name": "stderr",
     "output_type": "stream",
     "text": [
      "Best trial: 104. Best value: 0.76386:  89%|████████▊ | 266/300 [1:17:16<07:46, 13.71s/it]"
     ]
    },
    {
     "name": "stdout",
     "output_type": "stream",
     "text": [
      "[I 2025-10-14 04:26:23,809] Trial 265 finished with value: 0.7613098654020847 and parameters: {'booster': 'gbtree', 'booeval_metricster': 'mae', 'learning_rate': 0.040175839092233545, 'max_depth': 10, 'max_leaves': 96, 'subsample': 0.935049699291629, 'colsample_bytree': 0.6668521516678368, 'alpha': 0.195053693526243, 'lambda': 1.5020486010775658, 'gamma': 0.007698893837896434, 'min_child_weight': 41}. Best is trial 104 with value: 0.7638603446499435.\n",
      "Validation chromosomes for this trial: ['chr6', 'chr13', 'chr14', 'chr10']\n"
     ]
    },
    {
     "name": "stderr",
     "output_type": "stream",
     "text": [
      "Best trial: 104. Best value: 0.76386:  89%|████████▉ | 267/300 [1:17:24<06:44, 12.25s/it]"
     ]
    },
    {
     "name": "stdout",
     "output_type": "stream",
     "text": [
      "[I 2025-10-14 04:26:32,642] Trial 266 finished with value: 0.7621342881086544 and parameters: {'booster': 'gbtree', 'booeval_metricster': 'mae', 'learning_rate': 0.034529670014889054, 'max_depth': 9, 'max_leaves': 80, 'subsample': 0.9116432055544775, 'colsample_bytree': 0.6314797186214594, 'alpha': 0.15393642820136466, 'lambda': 1.7130096246011641, 'gamma': 0.04147437596013774, 'min_child_weight': 76}. Best is trial 104 with value: 0.7638603446499435.\n",
      "Validation chromosomes for this trial: ['chr6', 'chr13', 'chr14', 'chr10']\n"
     ]
    },
    {
     "name": "stderr",
     "output_type": "stream",
     "text": [
      "Best trial: 104. Best value: 0.76386:  89%|████████▉ | 268/300 [1:17:36<06:30, 12.20s/it]"
     ]
    },
    {
     "name": "stdout",
     "output_type": "stream",
     "text": [
      "[I 2025-10-14 04:26:44,709] Trial 267 finished with value: 0.7609643058439017 and parameters: {'booster': 'gbtree', 'booeval_metricster': 'mae', 'learning_rate': 0.03660508983482302, 'max_depth': 10, 'max_leaves': 88, 'subsample': 0.9786989542679142, 'colsample_bytree': 0.6415947991816149, 'alpha': 0.23882478000713975, 'lambda': 1.5958519216687241, 'gamma': 0.0008886069899304598, 'min_child_weight': 57}. Best is trial 104 with value: 0.7638603446499435.\n",
      "Validation chromosomes for this trial: ['chr6', 'chr13', 'chr14', 'chr10']\n"
     ]
    },
    {
     "name": "stderr",
     "output_type": "stream",
     "text": [
      "Best trial: 104. Best value: 0.76386:  90%|████████▉ | 269/300 [1:17:47<06:03, 11.74s/it]"
     ]
    },
    {
     "name": "stdout",
     "output_type": "stream",
     "text": [
      "[I 2025-10-14 04:26:55,376] Trial 268 finished with value: 0.760853317699935 and parameters: {'booster': 'gbtree', 'booeval_metricster': 'mae', 'learning_rate': 0.03253747035297834, 'max_depth': 10, 'max_leaves': 80, 'subsample': 0.9506342447174968, 'colsample_bytree': 0.6833841159258914, 'alpha': 0.2680639488568878, 'lambda': 1.4314488253450561, 'gamma': 0.0026232182929035205, 'min_child_weight': 62}. Best is trial 104 with value: 0.7638603446499435.\n",
      "Validation chromosomes for this trial: ['chr6', 'chr13', 'chr14', 'chr10']\n"
     ]
    },
    {
     "name": "stderr",
     "output_type": "stream",
     "text": [
      "Best trial: 104. Best value: 0.76386:  90%|█████████ | 270/300 [1:18:00<05:58, 11.94s/it]"
     ]
    },
    {
     "name": "stdout",
     "output_type": "stream",
     "text": [
      "[I 2025-10-14 04:27:07,775] Trial 269 finished with value: 0.7571513514351389 and parameters: {'booster': 'gbtree', 'booeval_metricster': 'rmse', 'learning_rate': 0.03879582580189127, 'max_depth': 10, 'max_leaves': 88, 'subsample': 0.5850723256214263, 'colsample_bytree': 0.7605713669870132, 'alpha': 0.35797001130654227, 'lambda': 1.6517908453397059, 'gamma': 0.006183253137118483, 'min_child_weight': 54}. Best is trial 104 with value: 0.7638603446499435.\n",
      "Validation chromosomes for this trial: ['chr6', 'chr13', 'chr14', 'chr10']\n"
     ]
    },
    {
     "name": "stderr",
     "output_type": "stream",
     "text": [
      "Best trial: 104. Best value: 0.76386:  90%|█████████ | 271/300 [1:18:09<05:22, 11.11s/it]"
     ]
    },
    {
     "name": "stdout",
     "output_type": "stream",
     "text": [
      "[I 2025-10-14 04:27:16,982] Trial 270 finished with value: 0.7594155601141188 and parameters: {'booster': 'gbtree', 'booeval_metricster': 'mae', 'learning_rate': 0.043695898004908806, 'max_depth': 8, 'max_leaves': 96, 'subsample': 0.6832398601285615, 'colsample_bytree': 0.6098588257151225, 'alpha': 0.3262431057779675, 'lambda': 1.9064981709600526, 'gamma': 0.004240984202336581, 'min_child_weight': 51}. Best is trial 104 with value: 0.7638603446499435.\n",
      "Validation chromosomes for this trial: ['chr6', 'chr13', 'chr14', 'chr10']\n"
     ]
    },
    {
     "name": "stderr",
     "output_type": "stream",
     "text": [
      "Best trial: 104. Best value: 0.76386:  91%|█████████ | 272/300 [1:18:20<05:11, 11.14s/it]"
     ]
    },
    {
     "name": "stdout",
     "output_type": "stream",
     "text": [
      "[I 2025-10-14 04:27:28,183] Trial 271 finished with value: 0.7609375603013896 and parameters: {'booster': 'gbtree', 'booeval_metricster': 'mae', 'learning_rate': 0.0359624605799205, 'max_depth': 10, 'max_leaves': 104, 'subsample': 0.9245919413322539, 'colsample_bytree': 0.6244987704461803, 'alpha': 0.28505098043594984, 'lambda': 1.6922393911607285, 'gamma': 0.001690494886008748, 'min_child_weight': 61}. Best is trial 104 with value: 0.7638603446499435.\n",
      "Validation chromosomes for this trial: ['chr6', 'chr13', 'chr14', 'chr10']\n"
     ]
    },
    {
     "name": "stderr",
     "output_type": "stream",
     "text": [
      "Best trial: 104. Best value: 0.76386:  91%|█████████ | 273/300 [1:18:31<05:01, 11.15s/it]"
     ]
    },
    {
     "name": "stdout",
     "output_type": "stream",
     "text": [
      "[I 2025-10-14 04:27:39,359] Trial 272 finished with value: 0.7599418442740864 and parameters: {'booster': 'gbtree', 'booeval_metricster': 'mae', 'learning_rate': 0.04153791149582644, 'max_depth': 10, 'max_leaves': 88, 'subsample': 0.7212344475020289, 'colsample_bytree': 0.660746135571913, 'alpha': 0.3009402770461577, 'lambda': 1.5500009431618729, 'gamma': 0.04698287678457741, 'min_child_weight': 46}. Best is trial 104 with value: 0.7638603446499435.\n",
      "Validation chromosomes for this trial: ['chr6', 'chr13', 'chr14', 'chr10']\n"
     ]
    },
    {
     "name": "stderr",
     "output_type": "stream",
     "text": [
      "Best trial: 104. Best value: 0.76386:  91%|█████████▏| 274/300 [1:18:41<04:42, 10.87s/it]"
     ]
    },
    {
     "name": "stdout",
     "output_type": "stream",
     "text": [
      "[I 2025-10-14 04:27:49,572] Trial 273 finished with value: 0.7619953585549286 and parameters: {'booster': 'gbtree', 'booeval_metricster': 'mae', 'learning_rate': 0.028206404250008584, 'max_depth': 10, 'max_leaves': 80, 'subsample': 0.9602193996166616, 'colsample_bytree': 0.63653032982478, 'alpha': 0.21931627267957254, 'lambda': 1.6263509524867226, 'gamma': 0.028361208999490267, 'min_child_weight': 56}. Best is trial 104 with value: 0.7638603446499435.\n",
      "Validation chromosomes for this trial: ['chr6', 'chr13', 'chr14', 'chr10']\n"
     ]
    },
    {
     "name": "stderr",
     "output_type": "stream",
     "text": [
      "Best trial: 104. Best value: 0.76386:  92%|█████████▏| 275/300 [1:18:53<04:40, 11.23s/it]"
     ]
    },
    {
     "name": "stdout",
     "output_type": "stream",
     "text": [
      "[I 2025-10-14 04:28:01,643] Trial 274 finished with value: 0.7594974202997736 and parameters: {'booster': 'gbtree', 'booeval_metricster': 'rmse', 'learning_rate': 0.03079224274531637, 'max_depth': 10, 'max_leaves': 96, 'subsample': 0.9451171843970196, 'colsample_bytree': 0.7206084043441844, 'alpha': 0.5887677659676007, 'lambda': 1.4695053155570301, 'gamma': 0.005054020165542331, 'min_child_weight': 64}. Best is trial 104 with value: 0.7638603446499435.\n",
      "Validation chromosomes for this trial: ['chr6', 'chr13', 'chr14', 'chr10']\n"
     ]
    },
    {
     "name": "stderr",
     "output_type": "stream",
     "text": [
      "Best trial: 104. Best value: 0.76386:  92%|█████████▏| 276/300 [1:19:04<04:28, 11.19s/it]"
     ]
    },
    {
     "name": "stdout",
     "output_type": "stream",
     "text": [
      "[I 2025-10-14 04:28:12,742] Trial 275 finished with value: 0.7608989192579195 and parameters: {'booster': 'gbtree', 'booeval_metricster': 'mae', 'learning_rate': 0.037807763445830325, 'max_depth': 10, 'max_leaves': 88, 'subsample': 0.9700250746244663, 'colsample_bytree': 0.6195425453622567, 'alpha': 0.53495946117957, 'lambda': 0.9691263463441578, 'gamma': 0.0027721659244472376, 'min_child_weight': 38}. Best is trial 104 with value: 0.7638603446499435.\n",
      "Validation chromosomes for this trial: ['chr6', 'chr13', 'chr14', 'chr10']\n"
     ]
    },
    {
     "name": "stderr",
     "output_type": "stream",
     "text": [
      "Best trial: 104. Best value: 0.76386:  92%|█████████▏| 277/300 [1:19:15<04:12, 10.99s/it]"
     ]
    },
    {
     "name": "stdout",
     "output_type": "stream",
     "text": [
      "[I 2025-10-14 04:28:23,258] Trial 276 finished with value: 0.7619426706632032 and parameters: {'booster': 'gbtree', 'booeval_metricster': 'mae', 'learning_rate': 0.03425247931418329, 'max_depth': 10, 'max_leaves': 80, 'subsample': 0.8948628179003726, 'colsample_bytree': 0.6464094574087509, 'alpha': 0.17231506835200683, 'lambda': 1.772335526292231, 'gamma': 0.006753033384035811, 'min_child_weight': 44}. Best is trial 104 with value: 0.7638603446499435.\n",
      "Validation chromosomes for this trial: ['chr6', 'chr13', 'chr14', 'chr10']\n"
     ]
    },
    {
     "name": "stderr",
     "output_type": "stream",
     "text": [
      "Best trial: 104. Best value: 0.76386:  93%|█████████▎| 278/300 [1:19:25<03:58, 10.82s/it]"
     ]
    },
    {
     "name": "stdout",
     "output_type": "stream",
     "text": [
      "[I 2025-10-14 04:28:33,692] Trial 277 finished with value: 0.7618477648347461 and parameters: {'booster': 'gbtree', 'booeval_metricster': 'mae', 'learning_rate': 0.03909976826431938, 'max_depth': 10, 'max_leaves': 96, 'subsample': 0.9282685503987391, 'colsample_bytree': 0.6290136046916147, 'alpha': 0.14581902930226398, 'lambda': 1.7197409598976412, 'gamma': 0.03967966787727147, 'min_child_weight': 53}. Best is trial 104 with value: 0.7638603446499435.\n",
      "Validation chromosomes for this trial: ['chr6', 'chr13', 'chr14', 'chr10']\n"
     ]
    },
    {
     "name": "stderr",
     "output_type": "stream",
     "text": [
      "Best trial: 104. Best value: 0.76386:  93%|█████████▎| 279/300 [1:21:10<13:40, 39.07s/it]"
     ]
    },
    {
     "name": "stdout",
     "output_type": "stream",
     "text": [
      "[I 2025-10-14 04:30:18,657] Trial 278 finished with value: 0.761673736982103 and parameters: {'booster': 'dart', 'booeval_metricster': 'rmse', 'learning_rate': 0.0367480915382991, 'max_depth': 10, 'max_leaves': 72, 'subsample': 0.9999009343910719, 'colsample_bytree': 0.6551487772687976, 'alpha': 0.6403496618507064, 'lambda': 1.595968290341255, 'gamma': 0.004431361319955695, 'min_child_weight': 79}. Best is trial 104 with value: 0.7638603446499435.\n",
      "Validation chromosomes for this trial: ['chr6', 'chr13', 'chr14', 'chr10']\n"
     ]
    },
    {
     "name": "stderr",
     "output_type": "stream",
     "text": [
      "Best trial: 104. Best value: 0.76386:  93%|█████████▎| 280/300 [1:21:21<10:10, 30.51s/it]"
     ]
    },
    {
     "name": "stdout",
     "output_type": "stream",
     "text": [
      "[I 2025-10-14 04:30:29,208] Trial 279 finished with value: 0.7614508313364545 and parameters: {'booster': 'gbtree', 'booeval_metricster': 'mae', 'learning_rate': 0.04098764538929768, 'max_depth': 10, 'max_leaves': 104, 'subsample': 0.7587764174952548, 'colsample_bytree': 0.606551363791344, 'alpha': 0.1978925047773418, 'lambda': 0.15802427686862774, 'gamma': 0.033249609861334684, 'min_child_weight': 59}. Best is trial 104 with value: 0.7638603446499435.\n",
      "Validation chromosomes for this trial: ['chr6', 'chr13', 'chr14', 'chr10']\n"
     ]
    },
    {
     "name": "stderr",
     "output_type": "stream",
     "text": [
      "Best trial: 104. Best value: 0.76386:  94%|█████████▎| 281/300 [1:21:31<07:44, 24.46s/it]"
     ]
    },
    {
     "name": "stdout",
     "output_type": "stream",
     "text": [
      "[I 2025-10-14 04:30:39,559] Trial 280 finished with value: 0.7607163786097102 and parameters: {'booster': 'gbtree', 'booeval_metricster': 'mae', 'learning_rate': 0.03492370487555221, 'max_depth': 10, 'max_leaves': 80, 'subsample': 0.8820738810522045, 'colsample_bytree': 0.6144237448924262, 'alpha': 0.25318958417726856, 'lambda': 1.8049859288930716, 'gamma': 0.008660868312474984, 'min_child_weight': 49}. Best is trial 104 with value: 0.7638603446499435.\n",
      "Validation chromosomes for this trial: ['chr6', 'chr13', 'chr14', 'chr10']\n"
     ]
    },
    {
     "name": "stderr",
     "output_type": "stream",
     "text": [
      "Best trial: 104. Best value: 0.76386:  94%|█████████▍| 282/300 [1:21:43<06:09, 20.54s/it]"
     ]
    },
    {
     "name": "stdout",
     "output_type": "stream",
     "text": [
      "[I 2025-10-14 04:30:50,925] Trial 281 finished with value: 0.7602576491267969 and parameters: {'booster': 'gbtree', 'booeval_metricster': 'mae', 'learning_rate': 0.03259587515753561, 'max_depth': 9, 'max_leaves': 88, 'subsample': 0.9167578134756641, 'colsample_bytree': 0.7325354690323724, 'alpha': 0.9800743892080325, 'lambda': 0.8477219471664348, 'gamma': 0.03542029328941174, 'min_child_weight': 66}. Best is trial 104 with value: 0.7638603446499435.\n",
      "Validation chromosomes for this trial: ['chr6', 'chr13', 'chr14', 'chr10']\n"
     ]
    },
    {
     "name": "stderr",
     "output_type": "stream",
     "text": [
      "Best trial: 104. Best value: 0.76386:  94%|█████████▍| 283/300 [1:21:55<05:07, 18.08s/it]"
     ]
    },
    {
     "name": "stdout",
     "output_type": "stream",
     "text": [
      "[I 2025-10-14 04:31:03,259] Trial 282 finished with value: 0.761425362988623 and parameters: {'booster': 'gbtree', 'booeval_metricster': 'mae', 'learning_rate': 0.04614310606290308, 'max_depth': 10, 'max_leaves': 120, 'subsample': 0.9358891712469427, 'colsample_bytree': 0.6747606211029068, 'alpha': 0.34019727843998454, 'lambda': 1.6482264716633948, 'gamma': 0.001044272189293402, 'min_child_weight': 55}. Best is trial 104 with value: 0.7638603446499435.\n",
      "Validation chromosomes for this trial: ['chr6', 'chr13', 'chr14', 'chr10']\n"
     ]
    },
    {
     "name": "stderr",
     "output_type": "stream",
     "text": [
      "Best trial: 104. Best value: 0.76386:  95%|█████████▍| 284/300 [1:22:05<04:10, 15.68s/it]"
     ]
    },
    {
     "name": "stdout",
     "output_type": "stream",
     "text": [
      "[I 2025-10-14 04:31:13,342] Trial 283 finished with value: 0.7596478536504435 and parameters: {'booster': 'gbtree', 'booeval_metricster': 'rmse', 'learning_rate': 0.03797661907061163, 'max_depth': 10, 'max_leaves': 112, 'subsample': 0.9543541844943565, 'colsample_bytree': 0.6342195502242295, 'alpha': 0.1311421887683131, 'lambda': 1.5305084322489462, 'gamma': 0.0054160421281865, 'min_child_weight': 74}. Best is trial 104 with value: 0.7638603446499435.\n",
      "Validation chromosomes for this trial: ['chr6', 'chr13', 'chr14', 'chr10']\n"
     ]
    },
    {
     "name": "stderr",
     "output_type": "stream",
     "text": [
      "Best trial: 104. Best value: 0.76386:  95%|█████████▌| 285/300 [1:22:16<03:35, 14.36s/it]"
     ]
    },
    {
     "name": "stdout",
     "output_type": "stream",
     "text": [
      "[I 2025-10-14 04:31:24,642] Trial 284 finished with value: 0.7615332629983215 and parameters: {'booster': 'gbtree', 'booeval_metricster': 'mae', 'learning_rate': 0.035907402385253584, 'max_depth': 10, 'max_leaves': 96, 'subsample': 0.9046775928356943, 'colsample_bytree': 0.6263817896761569, 'alpha': 0.17643819129481977, 'lambda': 1.7425342123500545, 'gamma': 0.003805961686200896, 'min_child_weight': 52}. Best is trial 104 with value: 0.7638603446499435.\n",
      "Validation chromosomes for this trial: ['chr6', 'chr13', 'chr14', 'chr10']\n"
     ]
    },
    {
     "name": "stderr",
     "output_type": "stream",
     "text": [
      "Best trial: 104. Best value: 0.76386:  95%|█████████▌| 286/300 [1:22:27<03:05, 13.28s/it]"
     ]
    },
    {
     "name": "stdout",
     "output_type": "stream",
     "text": [
      "[I 2025-10-14 04:31:35,409] Trial 285 finished with value: 0.7607649317264572 and parameters: {'booster': 'gbtree', 'booeval_metricster': 'mae', 'learning_rate': 0.03967525880094899, 'max_depth': 10, 'max_leaves': 88, 'subsample': 0.9858569170330312, 'colsample_bytree': 0.6433928456685318, 'alpha': 0.31499742048193746, 'lambda': 1.9505265159938872, 'gamma': 0.00734218506861349, 'min_child_weight': 61}. Best is trial 104 with value: 0.7638603446499435.\n",
      "Validation chromosomes for this trial: ['chr6', 'chr13', 'chr14', 'chr10']\n"
     ]
    },
    {
     "name": "stderr",
     "output_type": "stream",
     "text": [
      "Best trial: 104. Best value: 0.76386:  96%|█████████▌| 287/300 [1:22:37<02:41, 12.41s/it]"
     ]
    },
    {
     "name": "stdout",
     "output_type": "stream",
     "text": [
      "[I 2025-10-14 04:31:45,775] Trial 286 finished with value: 0.7567497100390453 and parameters: {'booster': 'gbtree', 'booeval_metricster': 'mae', 'learning_rate': 0.012630124717100386, 'max_depth': 9, 'max_leaves': 80, 'subsample': 0.9465890326228931, 'colsample_bytree': 0.6022478872792777, 'alpha': 0.225323142566117, 'lambda': 1.1328768378685277, 'gamma': 0.0027099560324434315, 'min_child_weight': 58}. Best is trial 104 with value: 0.7638603446499435.\n",
      "Validation chromosomes for this trial: ['chr6', 'chr13', 'chr14', 'chr10']\n"
     ]
    },
    {
     "name": "stderr",
     "output_type": "stream",
     "text": [
      "Best trial: 104. Best value: 0.76386:  96%|█████████▌| 288/300 [1:22:47<02:18, 11.51s/it]"
     ]
    },
    {
     "name": "stdout",
     "output_type": "stream",
     "text": [
      "[I 2025-10-14 04:31:55,176] Trial 287 finished with value: 0.760255679236165 and parameters: {'booster': 'gbtree', 'booeval_metricster': 'rmse', 'learning_rate': 0.03428571152101224, 'max_depth': 8, 'max_leaves': 88, 'subsample': 0.9644487224454976, 'colsample_bytree': 0.6532302577524316, 'alpha': 0.36454338977292006, 'lambda': 1.8470460842503507, 'gamma': 0.005743514927924561, 'min_child_weight': 47}. Best is trial 104 with value: 0.7638603446499435.\n",
      "Validation chromosomes for this trial: ['chr6', 'chr13', 'chr14', 'chr10']\n"
     ]
    },
    {
     "name": "stderr",
     "output_type": "stream",
     "text": [
      "Best trial: 104. Best value: 0.76386:  96%|█████████▋| 289/300 [1:22:58<02:05, 11.44s/it]"
     ]
    },
    {
     "name": "stdout",
     "output_type": "stream",
     "text": [
      "[I 2025-10-14 04:32:06,442] Trial 288 finished with value: 0.761475323008082 and parameters: {'booster': 'gbtree', 'booeval_metricster': 'mae', 'learning_rate': 0.036975222601110816, 'max_depth': 10, 'max_leaves': 96, 'subsample': 0.9760835556285407, 'colsample_bytree': 0.6167363542050188, 'alpha': 0.27771179672807594, 'lambda': 1.6971111792964189, 'gamma': 0.0019355013424973855, 'min_child_weight': 63}. Best is trial 104 with value: 0.7638603446499435.\n",
      "Validation chromosomes for this trial: ['chr6', 'chr13', 'chr14', 'chr10']\n"
     ]
    },
    {
     "name": "stderr",
     "output_type": "stream",
     "text": [
      "Best trial: 104. Best value: 0.76386:  97%|█████████▋| 290/300 [1:23:09<01:51, 11.17s/it]"
     ]
    },
    {
     "name": "stdout",
     "output_type": "stream",
     "text": [
      "[I 2025-10-14 04:32:16,992] Trial 289 finished with value: 0.7620313817684878 and parameters: {'booster': 'gbtree', 'booeval_metricster': 'mae', 'learning_rate': 0.043428219701326494, 'max_depth': 10, 'max_leaves': 80, 'subsample': 0.9218608786812829, 'colsample_bytree': 0.7463641667781684, 'alpha': 0.24137177682842037, 'lambda': 1.6714611946739912, 'gamma': 0.004145824009543312, 'min_child_weight': 71}. Best is trial 104 with value: 0.7638603446499435.\n",
      "Validation chromosomes for this trial: ['chr6', 'chr13', 'chr14', 'chr10']\n"
     ]
    },
    {
     "name": "stderr",
     "output_type": "stream",
     "text": [
      "Best trial: 104. Best value: 0.76386:  97%|█████████▋| 291/300 [1:23:19<01:39, 11.03s/it]"
     ]
    },
    {
     "name": "stdout",
     "output_type": "stream",
     "text": [
      "[I 2025-10-14 04:32:27,676] Trial 290 finished with value: 0.7610035625029918 and parameters: {'booster': 'gbtree', 'booeval_metricster': 'mae', 'learning_rate': 0.0313225138534182, 'max_depth': 10, 'max_leaves': 104, 'subsample': 0.934523479696708, 'colsample_bytree': 0.6378329148066714, 'alpha': 0.3013489013151317, 'lambda': 1.5866696613603948, 'gamma': 0.006444372671019827, 'min_child_weight': 67}. Best is trial 104 with value: 0.7638603446499435.\n",
      "Validation chromosomes for this trial: ['chr6', 'chr13', 'chr14', 'chr10']\n"
     ]
    },
    {
     "name": "stderr",
     "output_type": "stream",
     "text": [
      "Best trial: 104. Best value: 0.76386:  97%|█████████▋| 292/300 [1:23:31<01:29, 11.18s/it]"
     ]
    },
    {
     "name": "stdout",
     "output_type": "stream",
     "text": [
      "[I 2025-10-14 04:32:39,226] Trial 291 finished with value: 0.7627729406809891 and parameters: {'booster': 'gbtree', 'booeval_metricster': 'rmse', 'learning_rate': 0.04043105598642739, 'max_depth': 10, 'max_leaves': 96, 'subsample': 0.957074676582482, 'colsample_bytree': 0.6237771949451315, 'alpha': 0.4200583976477849, 'lambda': 0.6967899776638021, 'gamma': 0.0027728316899741355, 'min_child_weight': 50}. Best is trial 104 with value: 0.7638603446499435.\n",
      "Validation chromosomes for this trial: ['chr6', 'chr13', 'chr14', 'chr10']\n"
     ]
    },
    {
     "name": "stderr",
     "output_type": "stream",
     "text": [
      "Best trial: 104. Best value: 0.76386:  98%|█████████▊| 293/300 [1:23:39<01:11, 10.17s/it]"
     ]
    },
    {
     "name": "stdout",
     "output_type": "stream",
     "text": [
      "[I 2025-10-14 04:32:47,031] Trial 292 finished with value: 0.7613659954091903 and parameters: {'booster': 'gbtree', 'booeval_metricster': 'rmse', 'learning_rate': 0.04082417334658303, 'max_depth': 10, 'max_leaves': 48, 'subsample': 0.9528145079723638, 'colsample_bytree': 0.6262136001637757, 'alpha': 0.41420789285002724, 'lambda': 1.4560014373932164, 'gamma': 0.0004906791332860148, 'min_child_weight': 49}. Best is trial 104 with value: 0.7638603446499435.\n",
      "Validation chromosomes for this trial: ['chr6', 'chr13', 'chr14', 'chr10']\n"
     ]
    },
    {
     "name": "stderr",
     "output_type": "stream",
     "text": [
      "Best trial: 104. Best value: 0.76386:  98%|█████████▊| 294/300 [1:23:47<00:58,  9.72s/it]"
     ]
    },
    {
     "name": "stdout",
     "output_type": "stream",
     "text": [
      "[I 2025-10-14 04:32:55,725] Trial 293 finished with value: 0.7573414081216658 and parameters: {'booster': 'gbtree', 'booeval_metricster': 'rmse', 'learning_rate': 0.04321794072885641, 'max_depth': 10, 'max_leaves': 88, 'subsample': 0.9096424163742408, 'colsample_bytree': 0.6690545237820889, 'alpha': 0.43410847648495116, 'lambda': 1.3966463729868508, 'gamma': 0.00297776815182553, 'min_child_weight': 50}. Best is trial 104 with value: 0.7638603446499435.\n",
      "Validation chromosomes for this trial: ['chr6', 'chr13', 'chr14', 'chr10']\n"
     ]
    },
    {
     "name": "stderr",
     "output_type": "stream",
     "text": [
      "Best trial: 104. Best value: 0.76386:  98%|█████████▊| 295/300 [1:23:56<00:46,  9.27s/it]"
     ]
    },
    {
     "name": "stdout",
     "output_type": "stream",
     "text": [
      "[I 2025-10-14 04:33:03,925] Trial 294 finished with value: 0.7604239823271086 and parameters: {'booster': 'gbtree', 'booeval_metricster': 'rmse', 'learning_rate': 0.03938694222431628, 'max_depth': 7, 'max_leaves': 88, 'subsample': 0.9388468049027217, 'colsample_bytree': 0.6874246850208374, 'alpha': 0.38540354388363063, 'lambda': 1.6319246115773567, 'gamma': 0.0015276980621309875, 'min_child_weight': 53}. Best is trial 104 with value: 0.7638603446499435.\n",
      "Validation chromosomes for this trial: ['chr6', 'chr13', 'chr14', 'chr10']\n"
     ]
    },
    {
     "name": "stderr",
     "output_type": "stream",
     "text": [
      "Best trial: 104. Best value: 0.76386:  99%|█████████▊| 296/300 [1:24:05<00:36,  9.22s/it]"
     ]
    },
    {
     "name": "stdout",
     "output_type": "stream",
     "text": [
      "[I 2025-10-14 04:33:13,025] Trial 295 finished with value: 0.7589061615959213 and parameters: {'booster': 'gbtree', 'booeval_metricster': 'rmse', 'learning_rate': 0.040962150509981136, 'max_depth': 10, 'max_leaves': 72, 'subsample': 0.9251135359339411, 'colsample_bytree': 0.6325210102193185, 'alpha': 0.40039282314441194, 'lambda': 1.5012312540012693, 'gamma': 0.026562998142734603, 'min_child_weight': 51}. Best is trial 104 with value: 0.7638603446499435.\n",
      "Validation chromosomes for this trial: ['chr6', 'chr13', 'chr14', 'chr10']\n"
     ]
    },
    {
     "name": "stderr",
     "output_type": "stream",
     "text": [
      "Best trial: 104. Best value: 0.76386:  99%|█████████▉| 297/300 [1:25:42<01:47, 35.68s/it]"
     ]
    },
    {
     "name": "stdout",
     "output_type": "stream",
     "text": [
      "[I 2025-10-14 04:34:50,463] Trial 296 finished with value: 0.7600231449200737 and parameters: {'booster': 'dart', 'booeval_metricster': 'rmse', 'learning_rate': 0.03858304614839271, 'max_depth': 6, 'max_leaves': 96, 'subsample': 0.9449121384709698, 'colsample_bytree': 0.6440653805964832, 'alpha': 0.34591433699439234, 'lambda': 0.43270572956425446, 'gamma': 0.003183454160604417, 'min_child_weight': 45}. Best is trial 104 with value: 0.7638603446499435.\n",
      "Validation chromosomes for this trial: ['chr6', 'chr13', 'chr14', 'chr10']\n"
     ]
    },
    {
     "name": "stderr",
     "output_type": "stream",
     "text": [
      "Best trial: 104. Best value: 0.76386:  99%|█████████▉| 298/300 [1:25:47<00:52, 26.47s/it]"
     ]
    },
    {
     "name": "stdout",
     "output_type": "stream",
     "text": [
      "[I 2025-10-14 04:34:55,442] Trial 297 finished with value: 0.7557597060754432 and parameters: {'booster': 'gbtree', 'booeval_metricster': 'rmse', 'learning_rate': 0.027083663697253877, 'max_depth': 5, 'max_leaves': 104, 'subsample': 0.9572318696832974, 'colsample_bytree': 0.6219868741196499, 'alpha': 0.4503633754423479, 'lambda': 1.5262641275400521, 'gamma': 0.002292296871210129, 'min_child_weight': 47}. Best is trial 104 with value: 0.7638603446499435.\n",
      "Validation chromosomes for this trial: ['chr6', 'chr13', 'chr14', 'chr10']\n"
     ]
    },
    {
     "name": "stderr",
     "output_type": "stream",
     "text": [
      "Best trial: 104. Best value: 0.76386: 100%|█████████▉| 299/300 [1:25:57<00:21, 21.47s/it]"
     ]
    },
    {
     "name": "stdout",
     "output_type": "stream",
     "text": [
      "[I 2025-10-14 04:35:05,223] Trial 298 finished with value: 0.7619986532812137 and parameters: {'booster': 'gbtree', 'booeval_metricster': 'rmse', 'learning_rate': 0.04519446595613783, 'max_depth': 10, 'max_leaves': 80, 'subsample': 0.9134876663721249, 'colsample_bytree': 0.7015847455831823, 'alpha': 0.15604833412918565, 'lambda': 1.0358050848737026, 'gamma': 0.0042849978988866895, 'min_child_weight': 54}. Best is trial 104 with value: 0.7638603446499435.\n",
      "Validation chromosomes for this trial: ['chr6', 'chr13', 'chr14', 'chr10']\n"
     ]
    },
    {
     "name": "stderr",
     "output_type": "stream",
     "text": [
      "Best trial: 104. Best value: 0.76386: 100%|██████████| 300/300 [1:26:08<00:00, 17.23s/it]"
     ]
    },
    {
     "name": "stdout",
     "output_type": "stream",
     "text": [
      "[I 2025-10-14 04:35:16,642] Trial 299 finished with value: 0.7615009027395874 and parameters: {'booster': 'gbtree', 'booeval_metricster': 'rmse', 'learning_rate': 0.037331240950264126, 'max_depth': 10, 'max_leaves': 96, 'subsample': 0.8993319007332586, 'colsample_bytree': 0.6494463343645109, 'alpha': 0.378505465088032, 'lambda': 0.6264322198559682, 'gamma': 0.00113732547570053, 'min_child_weight': 42}. Best is trial 104 with value: 0.7638603446499435.\n",
      "✅ Best Spearman: 0.7638603446499435\n",
      "🏆 Best Parameters:\n",
      "   booster: gbtree\n",
      "   booeval_metricster: mae\n",
      "   learning_rate: 0.035962471748043\n",
      "   max_depth: 10\n",
      "   max_leaves: 104\n",
      "   subsample: 0.8971619038015882\n",
      "   colsample_bytree: 0.6636371114832225\n",
      "   alpha: 0.12734537736853208\n",
      "   lambda: 1.628472451981166\n",
      "   gamma: 0.0024413287883050493\n",
      "   min_child_weight: 53\n",
      "💾 Saved best params and log to ../results/xgb/optuna_fixed_chr6_chr13\n"
     ]
    },
    {
     "name": "stderr",
     "output_type": "stream",
     "text": [
      "\n"
     ]
    }
   ],
   "source": [
    "import optuna\n",
    "import xgboost as xgb\n",
    "import pandas as pd\n",
    "import numpy as np\n",
    "from scipy.stats import spearmanr\n",
    "import warnings, json, os, random\n",
    "\n",
    "warnings.filterwarnings(\"ignore\")\n",
    "\n",
    "# ============================================================\n",
    "#                  CONFIGURATION\n",
    "# ============================================================\n",
    "SEED = 42\n",
    "random.seed(SEED)\n",
    "np.random.seed(SEED)\n",
    "\n",
    "TRAIN_PATH = \"../preprocessed_data/CAGE-merged/4. features selection/X1_all_rank_features_pruned.tsv\"\n",
    "VAL_PATH   = \"../preprocessed_data/CAGE-merged/4. features selection/X2_all_rank_features_pruned.tsv\"\n",
    "\n",
    "META_COLS = [\n",
    "    \"gene_name\", \"chr\", \"gene_start\", \"gene_end\",\n",
    "    \"TSS_start\", \"TSS_end\", \"strand\", \"gex\", \"gex_rank\"\n",
    "]\n",
    "TARGET_COL = \"gex_rank\"\n",
    "\n",
    "# ============================================================\n",
    "#                  LOAD DATA\n",
    "# ============================================================\n",
    "df_train = pd.read_csv(TRAIN_PATH, sep=\"\\t\")\n",
    "df_val   = pd.read_csv(VAL_PATH, sep=\"\\t\")\n",
    "\n",
    "# 合併為整體資料池（用 chromosome 抽 fold）\n",
    "df_all = pd.concat([df_train, df_val], ignore_index=True)\n",
    "chromosomes = sorted(df_all[\"chr\"].unique())\n",
    "\n",
    "print(f\"🧬 Total chromosomes in dataset: {chromosomes}\")\n",
    "print(f\"Total samples: {len(df_all):,}\")\n",
    "\n",
    "feature_cols = [c for c in df_all.columns if c not in META_COLS]\n",
    "\n",
    "# ============================================================\n",
    "#                  OBJECTIVE FUNCTION\n",
    "# ============================================================\n",
    "def objective(trial):\n",
    "    \"\"\"Optuna optimization objective for XGBoost hyperparameters\"\"\"\n",
    "\n",
    "    # 1️⃣ 固定 chr6, chr13 + 隨機抽另外兩條作為 validation\n",
    "    fixed_val_chrs = [\"chr6\", \"chr13\"]\n",
    "    remaining_chrs = [c for c in chromosomes if c not in fixed_val_chrs]\n",
    "    rng = random.Random(SEED)  # 每個 trial 有不同抽樣種子\n",
    "    random_extra = rng.sample(remaining_chrs, 2)\n",
    "    val_chrs = fixed_val_chrs + random_extra\n",
    "    print(f\"Validation chromosomes for this trial: {val_chrs}\")\n",
    "    train_chrs = [c for c in chromosomes if c not in val_chrs]\n",
    "\n",
    "    df_train_fold = df_all[df_all[\"chr\"].isin(train_chrs)].copy()\n",
    "    df_val_fold   = df_all[df_all[\"chr\"].isin(val_chrs)].copy()\n",
    "\n",
    "    X_train, y_train = df_train_fold[feature_cols], df_train_fold[TARGET_COL]\n",
    "    X_val, y_val     = df_val_fold[feature_cols], df_val_fold[TARGET_COL]\n",
    "\n",
    "    # ============================================================\n",
    "    #                  PARAMETER SEARCH SPACE\n",
    "    # ============================================================\n",
    "    params = {\n",
    "        \"booster\": trial.suggest_categorical(\"booster\", [\"gbtree\", \"dart\"]),\n",
    "        \"objective\": \"reg:squarederror\",\n",
    "        \"eval_metric\": trial.suggest_categorical(\"booeval_metricster\", [\"rmse\", \"mae\"]),\n",
    "        \"verbosity\": 0,\n",
    "        \"learning_rate\": trial.suggest_float(\"learning_rate\", 0.005, 0.05, log=True),\n",
    "        \"max_depth\": trial.suggest_int(\"max_depth\", 4, 10),\n",
    "        \"max_leaves\": trial.suggest_int(\"max_leaves\", 16, 128, step=8),\n",
    "        \"subsample\": trial.suggest_float(\"subsample\", 0.5, 1.0),\n",
    "        \"colsample_bytree\": trial.suggest_float(\"colsample_bytree\", 0.6, 1.0),\n",
    "        \"alpha\": trial.suggest_float(\"alpha\", 0.0, 1.0),      # L1\n",
    "        \"lambda\": trial.suggest_float(\"lambda\", 0.0, 2.0),    # L2\n",
    "        \"gamma\": trial.suggest_float(\"gamma\", 0.0, 0.05),     # min_gain_to_split\n",
    "        \"min_child_weight\": trial.suggest_int(\"min_child_weight\", 10, 100),\n",
    "        \"tree_method\": \"hist\",\n",
    "        \"seed\": SEED,\n",
    "        \"nthread\": 8,\n",
    "    }\n",
    "\n",
    "    # ============================================================\n",
    "    #                  TRAINING\n",
    "    # ============================================================\n",
    "    dtrain = xgb.DMatrix(X_train, label=y_train)\n",
    "    dval   = xgb.DMatrix(X_val, label=y_val)\n",
    "\n",
    "    model = xgb.train(\n",
    "        params=params,\n",
    "        dtrain=dtrain,\n",
    "        num_boost_round=300,\n",
    "        evals=[(dval, \"val\")],\n",
    "        early_stopping_rounds=100,\n",
    "        verbose_eval=False\n",
    "    )\n",
    "\n",
    "    # ============================================================\n",
    "    #                  EVALUATION\n",
    "    # ============================================================\n",
    "    y_pred = model.predict(dval, iteration_range=(0, model.best_iteration))\n",
    "    rho_overall = spearmanr(y_val, y_pred)[0]\n",
    "\n",
    "    # 每個 chromosome 的 Spearman\n",
    "    per_chr_rho = []\n",
    "    for chrom, subdf in df_val_fold.assign(pred=y_pred).groupby(\"chr\"):\n",
    "        if len(subdf) > 2:\n",
    "            per_chr_rho.append(spearmanr(subdf[\"gex_rank\"], subdf[\"pred\"])[0])\n",
    "    mean_rho = np.nanmean(per_chr_rho)\n",
    "\n",
    "    # 可選：回傳整體或平均 Spearman\n",
    "    return mean_rho if not np.isnan(mean_rho) else rho_overall\n",
    "\n",
    "\n",
    "# ============================================================\n",
    "#                  RUN OPTIMIZATION\n",
    "# ============================================================\n",
    "study = optuna.create_study(\n",
    "    direction=\"maximize\",\n",
    "    sampler=optuna.samplers.TPESampler(seed=SEED)\n",
    ")\n",
    "study.optimize(objective, n_trials=300, show_progress_bar=True)\n",
    "\n",
    "# ============================================================\n",
    "#                  SAVE RESULTS\n",
    "# ============================================================\n",
    "print(\"✅ Best Spearman:\", study.best_value)\n",
    "print(\"🏆 Best Parameters:\")\n",
    "for k, v in study.best_params.items():\n",
    "    print(f\"   {k}: {v}\")\n",
    "\n",
    "SAVE_DIR = \"../results/xgb/optuna_fixed_chr6_chr13\"\n",
    "os.makedirs(SAVE_DIR, exist_ok=True)\n",
    "\n",
    "study.trials_dataframe().to_csv(os.path.join(SAVE_DIR, \"trials_log.csv\"), index=False)\n",
    "with open(os.path.join(SAVE_DIR, \"best_params.json\"), \"w\") as f:\n",
    "    json.dump(study.best_params, f, indent=4)\n",
    "\n",
    "print(f\"💾 Saved best params and log to {SAVE_DIR}\")\n"
   ]
  }
 ],
 "metadata": {
  "kernelspec": {
   "display_name": "ML4genomics_project1",
   "language": "python",
   "name": "python3"
  },
  "language_info": {
   "codemirror_mode": {
    "name": "ipython",
    "version": 3
   },
   "file_extension": ".py",
   "mimetype": "text/x-python",
   "name": "python",
   "nbconvert_exporter": "python",
   "pygments_lexer": "ipython3",
   "version": "3.12.7"
  }
 },
 "nbformat": 4,
 "nbformat_minor": 2
}
